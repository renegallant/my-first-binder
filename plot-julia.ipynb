{
 "cells": [
  {
   "cell_type": "code",
   "execution_count": null,
   "id": "9804fc83",
   "metadata": {},
   "outputs": [],
   "source": [
    "using CSV, DataFrames, PlotlyJS, WebIO, Statistics"
   ]
  },
  {
   "cell_type": "code",
   "execution_count": 4,
   "id": "2ef3ef67-63b2-484c-9ea9-1edcb41fb04c",
   "metadata": {},
   "outputs": [],
   "source": [
    "# Change directory to CSV file\n",
    "cd(\"exploration\")"
   ]
  },
  {
   "cell_type": "code",
   "execution_count": 5,
   "id": "a9262f3f",
   "metadata": {},
   "outputs": [
    {
     "data": {
      "text/html": [
       "<div class=\"data-frame\"><p>6 rows × 9 columns (omitted printing of 3 columns)</p><table class=\"data-frame\"><thead><tr><th></th><th>Plate_2BLBEA2A25</th><th>Column2</th><th>Column3</th><th>Column4</th><th>Column5</th><th>Column6</th></tr><tr><th></th><th title=\"String15\">String15</th><th title=\"Union{Missing, String15}\">String15?</th><th title=\"Union{Missing, String31}\">String31?</th><th title=\"Union{Missing, String31}\">String31?</th><th title=\"String15\">String15</th><th title=\"String7\">String7</th></tr></thead><tbody><tr><th>1</th><td>Sample</td><td>Material </td><td>Flaming/Smoldering</td><td>Exp Concentration</td><td>Assay</td><td>Well</td></tr><tr><th>2</th><td>53K</td><td>CB</td><td>F</td><td>1ug</td><td>IFN-?</td><td>D07</td></tr><tr><th>3</th><td>53K</td><td>CB</td><td>F</td><td>1ug</td><td>IFN-?</td><td>D08</td></tr><tr><th>4</th><td>53K</td><td>CB</td><td>F</td><td>1ug</td><td>IFN-?</td><td>D09</td></tr><tr><th>5</th><td>63O</td><td>CB</td><td>F</td><td>1ug</td><td>IFN-?</td><td>G07</td></tr><tr><th>6</th><td>63O</td><td>CB</td><td>F</td><td>1ug</td><td>IFN-?</td><td>G08</td></tr></tbody></table></div>"
      ],
      "text/latex": [
       "\\begin{tabular}{r|ccccccc}\n",
       "\t& Plate\\_2BLBEA2A25 & Column2 & Column3 & Column4 & Column5 & Column6 & \\\\\n",
       "\t\\hline\n",
       "\t& String15 & String15? & String31? & String31? & String15 & String7 & \\\\\n",
       "\t\\hline\n",
       "\t1 & Sample & Material  & Flaming/Smoldering & Exp Concentration & Assay & Well & $\\dots$ \\\\\n",
       "\t2 & 53K & CB & F & 1ug & IFN-? & D07 & $\\dots$ \\\\\n",
       "\t3 & 53K & CB & F & 1ug & IFN-? & D08 & $\\dots$ \\\\\n",
       "\t4 & 53K & CB & F & 1ug & IFN-? & D09 & $\\dots$ \\\\\n",
       "\t5 & 63O & CB & F & 1ug & IFN-? & G07 & $\\dots$ \\\\\n",
       "\t6 & 63O & CB & F & 1ug & IFN-? & G08 & $\\dots$ \\\\\n",
       "\\end{tabular}\n"
      ],
      "text/plain": [
       "\u001b[1m6×9 DataFrame\u001b[0m\n",
       "\u001b[1m Row \u001b[0m│\u001b[1m Plate_2BLBEA2A25 \u001b[0m\u001b[1m Column2   \u001b[0m\u001b[1m Column3            \u001b[0m\u001b[1m Column4           \u001b[0m\u001b[1m Col\u001b[0m ⋯\n",
       "\u001b[1m     \u001b[0m│\u001b[90m String15         \u001b[0m\u001b[90m String15? \u001b[0m\u001b[90m String31?          \u001b[0m\u001b[90m String31?         \u001b[0m\u001b[90m Str\u001b[0m ⋯\n",
       "─────┼──────────────────────────────────────────────────────────────────────────\n",
       "   1 │ Sample            Material   Flaming/Smoldering  Exp Concentration  Ass ⋯\n",
       "   2 │ 53K               CB         F                   1ug                IFN\n",
       "   3 │ 53K               CB         F                   1ug                IFN\n",
       "   4 │ 53K               CB         F                   1ug                IFN\n",
       "   5 │ 63O               CB         F                   1ug                IFN ⋯\n",
       "   6 │ 63O               CB         F                   1ug                IFN\n",
       "\u001b[36m                                                               5 columns omitted\u001b[0m"
      ]
     },
     "execution_count": 5,
     "metadata": {},
     "output_type": "execute_result"
    }
   ],
   "source": [
    "# Read CSV and store into data frame\n",
    "res = CSV.File(\"HBEC samples for heatmap.csv\");\n",
    "df = res |> DataFrame\n",
    "first(df,6)"
   ]
  },
  {
   "cell_type": "code",
   "execution_count": 6,
   "id": "236807f0-159d-454d-9f9d-a0630ad9ca54",
   "metadata": {},
   "outputs": [],
   "source": [
    "curnames = strip.(names(df));"
   ]
  },
  {
   "cell_type": "code",
   "execution_count": 7,
   "id": "25f69eac-c02e-4882-a713-4e92a074efdc",
   "metadata": {},
   "outputs": [
    {
     "data": {
      "text/plain": [
       "(\"Sample\", \"Material\", \"Flaming_Smoldering\", \"Exp_Concentration\", \"Assay\", \"Well\", \"Calc_Concentration_Real\", \"Signal\", \"Calc__Concentration\")"
      ]
     },
     "execution_count": 7,
     "metadata": {},
     "output_type": "execute_result"
    }
   ],
   "source": [
    "nn = values(df[1,:])          # Pull values not df\n",
    "nn = strip.(nn)               # Remove spaces at the beginning and end\n",
    "nn = replace.(nn,\" \" => \"_\")  # Replace space in niddle by \"_\"\n",
    "nn = replace.(nn,\"/\" => \"_\")  # Replace '/' in niddle by \"_\"\n",
    "nn = replace.(nn,\".\" => \"_\") "
   ]
  },
  {
   "cell_type": "code",
   "execution_count": 8,
   "id": "be649380-43de-46a5-af30-c42891ccb8aa",
   "metadata": {},
   "outputs": [],
   "source": [
    "names_set = [ (nn[i],curnames[i]) for i in 1:length(names(df)) ]\n",
    "for i in names_set\n",
    "    rename!(df,i[2] => i[1])\n",
    "end\n"
   ]
  },
  {
   "cell_type": "code",
   "execution_count": 9,
   "id": "e4230384-4285-4fdb-bf58-b4ae7d22c827",
   "metadata": {},
   "outputs": [
    {
     "data": {
      "text/html": [
       "<div class=\"data-frame\"><p>6 rows × 9 columns (omitted printing of 2 columns)</p><table class=\"data-frame\"><thead><tr><th></th><th>Sample</th><th>Material</th><th>Flaming_Smoldering</th><th>Exp_Concentration</th><th>Assay</th><th>Well</th><th>Calc_Concentration_Real</th></tr><tr><th></th><th title=\"String15\">String15</th><th title=\"Union{Missing, String15}\">String15?</th><th title=\"Union{Missing, String31}\">String31?</th><th title=\"Union{Missing, String31}\">String31?</th><th title=\"String15\">String15</th><th title=\"String7\">String7</th><th title=\"String31\">String31</th></tr></thead><tbody><tr><th>1</th><td>53K</td><td>CB</td><td>F</td><td>1ug</td><td>IFN-?</td><td>D07</td><td>0.08656775</td></tr><tr><th>2</th><td>53K</td><td>CB</td><td>F</td><td>1ug</td><td>IFN-?</td><td>D08</td><td>#VALUE!</td></tr><tr><th>3</th><td>53K</td><td>CB</td><td>F</td><td>1ug</td><td>IFN-?</td><td>D09</td><td>0.256362446</td></tr><tr><th>4</th><td>63O</td><td>CB</td><td>F</td><td>1ug</td><td>IFN-?</td><td>G07</td><td>1.825374766</td></tr><tr><th>5</th><td>63O</td><td>CB</td><td>F</td><td>1ug</td><td>IFN-?</td><td>G08</td><td>2.02573607</td></tr><tr><th>6</th><td>63O</td><td>CB</td><td>F</td><td>1ug</td><td>IFN-?</td><td>G09</td><td>2.143486684</td></tr></tbody></table></div>"
      ],
      "text/latex": [
       "\\begin{tabular}{r|cccccccc}\n",
       "\t& Sample & Material & Flaming\\_Smoldering & Exp\\_Concentration & Assay & Well & Calc\\_Concentration\\_Real & \\\\\n",
       "\t\\hline\n",
       "\t& String15 & String15? & String31? & String31? & String15 & String7 & String31 & \\\\\n",
       "\t\\hline\n",
       "\t1 & 53K & CB & F & 1ug & IFN-? & D07 & 0.08656775 & $\\dots$ \\\\\n",
       "\t2 & 53K & CB & F & 1ug & IFN-? & D08 & \\#VALUE! & $\\dots$ \\\\\n",
       "\t3 & 53K & CB & F & 1ug & IFN-? & D09 & 0.256362446 & $\\dots$ \\\\\n",
       "\t4 & 63O & CB & F & 1ug & IFN-? & G07 & 1.825374766 & $\\dots$ \\\\\n",
       "\t5 & 63O & CB & F & 1ug & IFN-? & G08 & 2.02573607 & $\\dots$ \\\\\n",
       "\t6 & 63O & CB & F & 1ug & IFN-? & G09 & 2.143486684 & $\\dots$ \\\\\n",
       "\\end{tabular}\n"
      ],
      "text/plain": [
       "\u001b[1m6×9 DataFrame\u001b[0m\n",
       "\u001b[1m Row \u001b[0m│\u001b[1m Sample   \u001b[0m\u001b[1m Material  \u001b[0m\u001b[1m Flaming_Smoldering \u001b[0m\u001b[1m Exp_Concentration \u001b[0m\u001b[1m Assay    \u001b[0m\u001b[1m W\u001b[0m ⋯\n",
       "\u001b[1m     \u001b[0m│\u001b[90m String15 \u001b[0m\u001b[90m String15? \u001b[0m\u001b[90m String31?          \u001b[0m\u001b[90m String31?         \u001b[0m\u001b[90m String15 \u001b[0m\u001b[90m S\u001b[0m ⋯\n",
       "─────┼──────────────────────────────────────────────────────────────────────────\n",
       "   1 │ 53K       CB         F                   1ug                IFN-?     D ⋯\n",
       "   2 │ 53K       CB         F                   1ug                IFN-?     D\n",
       "   3 │ 53K       CB         F                   1ug                IFN-?     D\n",
       "   4 │ 63O       CB         F                   1ug                IFN-?     G\n",
       "   5 │ 63O       CB         F                   1ug                IFN-?     G ⋯\n",
       "   6 │ 63O       CB         F                   1ug                IFN-?     G\n",
       "\u001b[36m                                                               4 columns omitted\u001b[0m"
      ]
     },
     "execution_count": 9,
     "metadata": {},
     "output_type": "execute_result"
    }
   ],
   "source": [
    "df = df[2:end,:]\n",
    "#df = dropmissing(df)\n",
    "first(df,6)"
   ]
  },
  {
   "cell_type": "code",
   "execution_count": 10,
   "id": "6fa8197c-dea5-4adb-a521-aa3c899b8706",
   "metadata": {},
   "outputs": [],
   "source": [
    "# Replace 1ug by 01ug and 5ug by 05ug so I can sort it\n",
    "c1 = df.Exp_Concentration\n",
    "replace!(c1,\"1ug\" => \"01ug\")\n",
    "replace!(c1,\"5ug\" => \"05ug\");\n",
    "df.Exp_Concentration = c1;\n"
   ]
  },
  {
   "cell_type": "code",
   "execution_count": 11,
   "id": "5e6b87f1-172e-4f65-9c80-5e950a92ac75",
   "metadata": {},
   "outputs": [],
   "source": [
    "# Replace #VALUE! by \"0\"\n",
    "conc_real = values(df[:,:Calc_Concentration_Real])\n",
    "conc_real = replace.(conc_real,\"#VALUE!\" => \"0\")     # Need to check if the value can be set to zero\n",
    "df[!,:Conc_real] = parse.(Float64,conc_real);\n",
    "#first(df[!,:Conc_real],10)"
   ]
  },
  {
   "cell_type": "markdown",
   "id": "861e57fe-8874-4d05-9129-8542b8b6de0c",
   "metadata": {},
   "source": [
    "## Get the average control concentration value for the samples"
   ]
  },
  {
   "cell_type": "code",
   "execution_count": 12,
   "id": "0601669f-0009-4160-b0c2-ac1ccb6fff50",
   "metadata": {},
   "outputs": [
    {
     "data": {
      "text/html": [
       "<div class=\"data-frame\"><p>6 rows × 3 columns</p><table class=\"data-frame\"><thead><tr><th></th><th>Sample</th><th>Assay</th><th>Conc_real_mean</th></tr><tr><th></th><th title=\"String15\">String15</th><th title=\"String15\">String15</th><th title=\"Float64\">Float64</th></tr></thead><tbody><tr><th>1</th><td>21O Ctrl</td><td>IFN-?</td><td>0.0270836</td></tr><tr><th>2</th><td>21O Ctrl</td><td>IL-10</td><td>0.324307</td></tr><tr><th>3</th><td>21O Ctrl</td><td>IL-12p70</td><td>0.0897118</td></tr><tr><th>4</th><td>21O Ctrl</td><td>IL-13</td><td>22.443</td></tr><tr><th>5</th><td>21O Ctrl</td><td>IL-1?</td><td>1.71029</td></tr><tr><th>6</th><td>21O Ctrl</td><td>IL-2</td><td>0.60224</td></tr></tbody></table></div>"
      ],
      "text/latex": [
       "\\begin{tabular}{r|ccc}\n",
       "\t& Sample & Assay & Conc\\_real\\_mean\\\\\n",
       "\t\\hline\n",
       "\t& String15 & String15 & Float64\\\\\n",
       "\t\\hline\n",
       "\t1 & 21O Ctrl & IFN-? & 0.0270836 \\\\\n",
       "\t2 & 21O Ctrl & IL-10 & 0.324307 \\\\\n",
       "\t3 & 21O Ctrl & IL-12p70 & 0.0897118 \\\\\n",
       "\t4 & 21O Ctrl & IL-13 & 22.443 \\\\\n",
       "\t5 & 21O Ctrl & IL-1? & 1.71029 \\\\\n",
       "\t6 & 21O Ctrl & IL-2 & 0.60224 \\\\\n",
       "\\end{tabular}\n"
      ],
      "text/plain": [
       "\u001b[1m6×3 DataFrame\u001b[0m\n",
       "\u001b[1m Row \u001b[0m│\u001b[1m Sample   \u001b[0m\u001b[1m Assay    \u001b[0m\u001b[1m Conc_real_mean \u001b[0m\n",
       "\u001b[1m     \u001b[0m│\u001b[90m String15 \u001b[0m\u001b[90m String15 \u001b[0m\u001b[90m Float64        \u001b[0m\n",
       "─────┼────────────────────────────────────\n",
       "   1 │ 21O Ctrl  IFN-?          0.0270836\n",
       "   2 │ 21O Ctrl  IL-10          0.324307\n",
       "   3 │ 21O Ctrl  IL-12p70       0.0897118\n",
       "   4 │ 21O Ctrl  IL-13         22.443\n",
       "   5 │ 21O Ctrl  IL-1?          1.71029\n",
       "   6 │ 21O Ctrl  IL-2           0.60224"
      ]
     },
     "execution_count": 12,
     "metadata": {},
     "output_type": "execute_result"
    }
   ],
   "source": [
    "df_ctlr = df[contains.(df.Sample,\"Ctrl\"),:]\n",
    "gdf = groupby(df_ctlr, [:Sample, :Assay])\n",
    "mean_ctrl = combine(gdf, :Conc_real => mean)\n",
    "first(mean_ctrl,6)"
   ]
  },
  {
   "cell_type": "code",
   "execution_count": 13,
   "id": "5de8475d-156f-4418-950d-aafc2ac1cfed",
   "metadata": {},
   "outputs": [],
   "source": [
    "layout = Layout(autosize=true, height=600,margin=attr(l=0, r=0, b=0, t=65));"
   ]
  },
  {
   "cell_type": "code",
   "execution_count": 14,
   "id": "e534b400-6f61-421c-a6cc-c18db076276f",
   "metadata": {},
   "outputs": [
    {
     "data": {
      "text/plain": [
       "showHM_perGrp (generic function with 1 method)"
      ]
     },
     "execution_count": 14,
     "metadata": {},
     "output_type": "execute_result"
    }
   ],
   "source": [
    "function showHM_perGrp(grp)\n",
    "    dfx = df[df.Sample .== grp,:]\n",
    "    dfx[!,:C] = string.(dfx.Material,\"_\",dfx.Flaming_Smoldering,\"_\",dfx.Exp_Concentration);\n",
    "    PlotlyJS.plot(PlotlyJS.heatmap(x=dfx.Assay,y=dfx.C,z=dfx.Conc_real),layout)\n",
    "end"
   ]
  },
  {
   "cell_type": "code",
   "execution_count": 36,
   "id": "42c68873-f191-46d9-8b4b-0111f031aa77",
   "metadata": {},
   "outputs": [
    {
     "data": {
      "text/plain": [
       "showHM_perGrp_perEssay (generic function with 1 method)"
      ]
     },
     "execution_count": 36,
     "metadata": {},
     "output_type": "execute_result"
    }
   ],
   "source": [
    "function showHM_perGrp_perEssay(grp,assay)\n",
    "    dfx = df[df.Sample .== grp,:]\n",
    "    dfx[!,:C] = string.(dfx.Material,\"_\",dfx.Flaming_Smoldering,\"_\",dfx.Exp_Concentration);\n",
    "    dfy = dfx[dfx.Assay .== assay,:]\n",
    "    sort!(dfy,[order(:C)])\n",
    "    PlotlyJS.plot(PlotlyJS.heatmap(x=dfy.Assay,y=dfy.C,z=dfy.Conc_real),layout)\n",
    "end"
   ]
  },
  {
   "cell_type": "code",
   "execution_count": 93,
   "id": "557beb17-8523-448c-9c26-60dbc1f8f99e",
   "metadata": {},
   "outputs": [
    {
     "data": {
      "application/vnd.plotly.v1+json": {
       "config": {
        "editable": false,
        "responsive": true,
        "scrollZoom": true,
        "showLink": false,
        "staticPlot": false
       },
       "data": [
        {
         "transpose": true,
         "type": "heatmap",
         "x": [
          "IL-6",
          "IL-6",
          "IL-6",
          "IL-6",
          "IL-6",
          "IL-6",
          "IL-6",
          "IL-6",
          "IL-6",
          "IL-6",
          "IL-6",
          "IL-6",
          "IL-6",
          "IL-6",
          "IL-6",
          "IL-6",
          "IL-6",
          "IL-6",
          "IL-6",
          "IL-6",
          "IL-6",
          "IL-6",
          "IL-6",
          "IL-6",
          "IL-6",
          "IL-6"
         ],
         "y": [
          "CB_F_01ug",
          "CB_F_01ug",
          "CB_F_01ug",
          "CB_F_05ug",
          "CB_F_05ug",
          "CB_F_05ug",
          "CB_S_01ug",
          "CB_S_01ug",
          "CB_S_01ug",
          "CB_S_05ug",
          "CB_S_05ug",
          "CB_S_05ug",
          "PL_F_01ug",
          "PL_F_01ug",
          "PL_F_01ug",
          "PL_F_05ug",
          "PL_F_05ug",
          "PL_F_05ug",
          "PL_F_25ug",
          "PL_F_25ug",
          "PL_S_01ug",
          "PL_S_01ug",
          "PL_S_01ug",
          "PL_S_05ug",
          "PL_S_05ug",
          "PL_S_05ug"
         ],
         "z": [
          5.290431699,
          7.123278239,
          8.066367758,
          9.124596359,
          6.241768839,
          6.998646457,
          6.584495246,
          10.92715039,
          10.06305382,
          10.83651624,
          13.45762786,
          12.12750024,
          6.241768839,
          5.920934047,
          10.12424297,
          6.528219449,
          3.606779221,
          4.626184053,
          5.651825017,
          7.587069143,
          10.86124196,
          8.860168549,
          11.33000232,
          5.809648353,
          10.82002936,
          18.85437479
         ]
        }
       ],
       "frames": [],
       "layout": {
        "autosize": true,
        "margin": {
         "b": 0,
         "l": 0,
         "r": 0,
         "t": 65
        },
        "template": {
         "data": {
          "bar": [
           {
            "error_x": {
             "color": "#2a3f5f"
            },
            "error_y": {
             "color": "#2a3f5f"
            },
            "marker": {
             "line": {
              "color": "#E5ECF6",
              "width": 0.5
             }
            },
            "type": "bar"
           }
          ],
          "barpolar": [
           {
            "marker": {
             "line": {
              "color": "#E5ECF6",
              "width": 0.5
             }
            },
            "type": "barpolar"
           }
          ],
          "carpet": [
           {
            "aaxis": {
             "endlinecolor": "#2a3f5f",
             "gridcolor": "white",
             "linecolor": "white",
             "minorgridcolor": "white",
             "startlinecolor": "#2a3f5f"
            },
            "baxis": {
             "endlinecolor": "#2a3f5f",
             "gridcolor": "white",
             "linecolor": "white",
             "minorgridcolor": "white",
             "startlinecolor": "#2a3f5f"
            },
            "type": "carpet"
           }
          ],
          "choropleth": [
           {
            "colorbar": {
             "outlinewidth": 0,
             "ticks": ""
            },
            "type": "choropleth"
           }
          ],
          "contour": [
           {
            "colorbar": {
             "outlinewidth": 0,
             "ticks": ""
            },
            "colorscale": [
             [
              0,
              "#0d0887"
             ],
             [
              0.1111111111111111,
              "#46039f"
             ],
             [
              0.2222222222222222,
              "#7201a8"
             ],
             [
              0.3333333333333333,
              "#9c179e"
             ],
             [
              0.4444444444444444,
              "#bd3786"
             ],
             [
              0.5555555555555556,
              "#d8576b"
             ],
             [
              0.6666666666666666,
              "#ed7953"
             ],
             [
              0.7777777777777778,
              "#fb9f3a"
             ],
             [
              0.8888888888888888,
              "#fdca26"
             ],
             [
              1,
              "#f0f921"
             ]
            ],
            "type": "contour"
           }
          ],
          "contourcarpet": [
           {
            "colorbar": {
             "outlinewidth": 0,
             "ticks": ""
            },
            "type": "contourcarpet"
           }
          ],
          "heatmap": [
           {
            "colorbar": {
             "outlinewidth": 0,
             "ticks": ""
            },
            "colorscale": [
             [
              0,
              "#0d0887"
             ],
             [
              0.1111111111111111,
              "#46039f"
             ],
             [
              0.2222222222222222,
              "#7201a8"
             ],
             [
              0.3333333333333333,
              "#9c179e"
             ],
             [
              0.4444444444444444,
              "#bd3786"
             ],
             [
              0.5555555555555556,
              "#d8576b"
             ],
             [
              0.6666666666666666,
              "#ed7953"
             ],
             [
              0.7777777777777778,
              "#fb9f3a"
             ],
             [
              0.8888888888888888,
              "#fdca26"
             ],
             [
              1,
              "#f0f921"
             ]
            ],
            "type": "heatmap"
           }
          ],
          "heatmapgl": [
           {
            "colorbar": {
             "outlinewidth": 0,
             "ticks": ""
            },
            "colorscale": [
             [
              0,
              "#0d0887"
             ],
             [
              0.1111111111111111,
              "#46039f"
             ],
             [
              0.2222222222222222,
              "#7201a8"
             ],
             [
              0.3333333333333333,
              "#9c179e"
             ],
             [
              0.4444444444444444,
              "#bd3786"
             ],
             [
              0.5555555555555556,
              "#d8576b"
             ],
             [
              0.6666666666666666,
              "#ed7953"
             ],
             [
              0.7777777777777778,
              "#fb9f3a"
             ],
             [
              0.8888888888888888,
              "#fdca26"
             ],
             [
              1,
              "#f0f921"
             ]
            ],
            "type": "heatmapgl"
           }
          ],
          "histogram": [
           {
            "marker": {
             "colorbar": {
              "outlinewidth": 0,
              "ticks": ""
             }
            },
            "type": "histogram"
           }
          ],
          "histogram2d": [
           {
            "colorbar": {
             "outlinewidth": 0,
             "ticks": ""
            },
            "colorscale": [
             [
              0,
              "#0d0887"
             ],
             [
              0.1111111111111111,
              "#46039f"
             ],
             [
              0.2222222222222222,
              "#7201a8"
             ],
             [
              0.3333333333333333,
              "#9c179e"
             ],
             [
              0.4444444444444444,
              "#bd3786"
             ],
             [
              0.5555555555555556,
              "#d8576b"
             ],
             [
              0.6666666666666666,
              "#ed7953"
             ],
             [
              0.7777777777777778,
              "#fb9f3a"
             ],
             [
              0.8888888888888888,
              "#fdca26"
             ],
             [
              1,
              "#f0f921"
             ]
            ],
            "type": "histogram2d"
           }
          ],
          "histogram2dcontour": [
           {
            "colorbar": {
             "outlinewidth": 0,
             "ticks": ""
            },
            "colorscale": [
             [
              0,
              "#0d0887"
             ],
             [
              0.1111111111111111,
              "#46039f"
             ],
             [
              0.2222222222222222,
              "#7201a8"
             ],
             [
              0.3333333333333333,
              "#9c179e"
             ],
             [
              0.4444444444444444,
              "#bd3786"
             ],
             [
              0.5555555555555556,
              "#d8576b"
             ],
             [
              0.6666666666666666,
              "#ed7953"
             ],
             [
              0.7777777777777778,
              "#fb9f3a"
             ],
             [
              0.8888888888888888,
              "#fdca26"
             ],
             [
              1,
              "#f0f921"
             ]
            ],
            "type": "histogram2dcontour"
           }
          ],
          "mesh3d": [
           {
            "colorbar": {
             "outlinewidth": 0,
             "ticks": ""
            },
            "type": "mesh3d"
           }
          ],
          "parcoords": [
           {
            "line": {
             "colorbar": {
              "outlinewidth": 0,
              "ticks": ""
             }
            },
            "type": "parcoords"
           }
          ],
          "pie": [
           {
            "automargin": true,
            "type": "pie"
           }
          ],
          "scatter": [
           {
            "marker": {
             "colorbar": {
              "outlinewidth": 0,
              "ticks": ""
             }
            },
            "type": "scatter"
           }
          ],
          "scatter3d": [
           {
            "line": {
             "colorbar": {
              "outlinewidth": 0,
              "ticks": ""
             }
            },
            "marker": {
             "colorbar": {
              "outlinewidth": 0,
              "ticks": ""
             }
            },
            "type": "scatter3d"
           }
          ],
          "scattercarpet": [
           {
            "marker": {
             "colorbar": {
              "outlinewidth": 0,
              "ticks": ""
             }
            },
            "type": "scattercarpet"
           }
          ],
          "scattergeo": [
           {
            "marker": {
             "colorbar": {
              "outlinewidth": 0,
              "ticks": ""
             }
            },
            "type": "scattergeo"
           }
          ],
          "scattergl": [
           {
            "marker": {
             "colorbar": {
              "outlinewidth": 0,
              "ticks": ""
             }
            },
            "type": "scattergl"
           }
          ],
          "scattermapbox": [
           {
            "marker": {
             "colorbar": {
              "outlinewidth": 0,
              "ticks": ""
             }
            },
            "type": "scattermapbox"
           }
          ],
          "scatterpolar": [
           {
            "marker": {
             "colorbar": {
              "outlinewidth": 0,
              "ticks": ""
             }
            },
            "type": "scatterpolar"
           }
          ],
          "scatterpolargl": [
           {
            "marker": {
             "colorbar": {
              "outlinewidth": 0,
              "ticks": ""
             }
            },
            "type": "scatterpolargl"
           }
          ],
          "scatterternary": [
           {
            "marker": {
             "colorbar": {
              "outlinewidth": 0,
              "ticks": ""
             }
            },
            "type": "scatterternary"
           }
          ],
          "surface": [
           {
            "colorbar": {
             "outlinewidth": 0,
             "ticks": ""
            },
            "colorscale": [
             [
              0,
              "#0d0887"
             ],
             [
              0.1111111111111111,
              "#46039f"
             ],
             [
              0.2222222222222222,
              "#7201a8"
             ],
             [
              0.3333333333333333,
              "#9c179e"
             ],
             [
              0.4444444444444444,
              "#bd3786"
             ],
             [
              0.5555555555555556,
              "#d8576b"
             ],
             [
              0.6666666666666666,
              "#ed7953"
             ],
             [
              0.7777777777777778,
              "#fb9f3a"
             ],
             [
              0.8888888888888888,
              "#fdca26"
             ],
             [
              1,
              "#f0f921"
             ]
            ],
            "type": "surface"
           }
          ],
          "table": [
           {
            "cells": {
             "fill": {
              "color": "#EBF0F8"
             },
             "line": {
              "color": "white"
             }
            },
            "header": {
             "fill": {
              "color": "#C8D4E3"
             },
             "line": {
              "color": "white"
             }
            },
            "type": "table"
           }
          ]
         },
         "layout": {
          "annotationdefaults": {
           "arrowcolor": "#2a3f5f",
           "arrowhead": 0,
           "arrowwidth": 1
          },
          "autotypenumbers": "strict",
          "coloraxis": {
           "colorbar": {
            "outlinewidth": 0,
            "ticks": ""
           }
          },
          "colorscale": {
           "diverging": [
            [
             0,
             "#8e0152"
            ],
            [
             0.1,
             "#c51b7d"
            ],
            [
             0.2,
             "#de77ae"
            ],
            [
             0.3,
             "#f1b6da"
            ],
            [
             0.4,
             "#fde0ef"
            ],
            [
             0.5,
             "#f7f7f7"
            ],
            [
             0.6,
             "#e6f5d0"
            ],
            [
             0.7,
             "#b8e186"
            ],
            [
             0.8,
             "#7fbc41"
            ],
            [
             0.9,
             "#4d9221"
            ],
            [
             1,
             "#276419"
            ]
           ],
           "sequential": [
            [
             0,
             "#0d0887"
            ],
            [
             0.1111111111111111,
             "#46039f"
            ],
            [
             0.2222222222222222,
             "#7201a8"
            ],
            [
             0.3333333333333333,
             "#9c179e"
            ],
            [
             0.4444444444444444,
             "#bd3786"
            ],
            [
             0.5555555555555556,
             "#d8576b"
            ],
            [
             0.6666666666666666,
             "#ed7953"
            ],
            [
             0.7777777777777778,
             "#fb9f3a"
            ],
            [
             0.8888888888888888,
             "#fdca26"
            ],
            [
             1,
             "#f0f921"
            ]
           ],
           "sequentialminus": [
            [
             0,
             "#0d0887"
            ],
            [
             0.1111111111111111,
             "#46039f"
            ],
            [
             0.2222222222222222,
             "#7201a8"
            ],
            [
             0.3333333333333333,
             "#9c179e"
            ],
            [
             0.4444444444444444,
             "#bd3786"
            ],
            [
             0.5555555555555556,
             "#d8576b"
            ],
            [
             0.6666666666666666,
             "#ed7953"
            ],
            [
             0.7777777777777778,
             "#fb9f3a"
            ],
            [
             0.8888888888888888,
             "#fdca26"
            ],
            [
             1,
             "#f0f921"
            ]
           ]
          },
          "colorway": [
           "#636efa",
           "#EF553B",
           "#00cc96",
           "#ab63fa",
           "#FFA15A",
           "#19d3f3",
           "#FF6692",
           "#B6E880",
           "#FF97FF",
           "#FECB52"
          ],
          "font": {
           "color": "#2a3f5f"
          },
          "geo": {
           "bgcolor": "white",
           "lakecolor": "white",
           "landcolor": "#E5ECF6",
           "showlakes": true,
           "showland": true,
           "subunitcolor": "white"
          },
          "hoverlabel": {
           "align": "left"
          },
          "hovermode": "closest",
          "mapbox": {
           "style": "light"
          },
          "paper_bgcolor": "white",
          "plot_bgcolor": "#E5ECF6",
          "polar": {
           "angularaxis": {
            "gridcolor": "white",
            "linecolor": "white",
            "ticks": ""
           },
           "bgcolor": "#E5ECF6",
           "radialaxis": {
            "gridcolor": "white",
            "linecolor": "white",
            "ticks": ""
           }
          },
          "scene": {
           "xaxis": {
            "backgroundcolor": "#E5ECF6",
            "gridcolor": "white",
            "gridwidth": 2,
            "linecolor": "white",
            "showbackground": true,
            "ticks": "",
            "zerolinecolor": "white"
           },
           "yaxis": {
            "backgroundcolor": "#E5ECF6",
            "gridcolor": "white",
            "gridwidth": 2,
            "linecolor": "white",
            "showbackground": true,
            "ticks": "",
            "zerolinecolor": "white"
           },
           "zaxis": {
            "backgroundcolor": "#E5ECF6",
            "gridcolor": "white",
            "gridwidth": 2,
            "linecolor": "white",
            "showbackground": true,
            "ticks": "",
            "zerolinecolor": "white"
           }
          },
          "shapedefaults": {
           "line": {
            "color": "#2a3f5f"
           }
          },
          "ternary": {
           "aaxis": {
            "gridcolor": "white",
            "linecolor": "white",
            "ticks": ""
           },
           "baxis": {
            "gridcolor": "white",
            "linecolor": "white",
            "ticks": ""
           },
           "bgcolor": "#E5ECF6",
           "caxis": {
            "gridcolor": "white",
            "linecolor": "white",
            "ticks": ""
           }
          },
          "title": {
           "x": 0.05
          },
          "xaxis": {
           "automargin": true,
           "gridcolor": "white",
           "linecolor": "white",
           "ticks": "",
           "title": {
            "standoff": 15
           },
           "zerolinecolor": "white",
           "zerolinewidth": 2
          },
          "yaxis": {
           "automargin": true,
           "gridcolor": "white",
           "linecolor": "white",
           "ticks": "",
           "title": {
            "standoff": 15
           },
           "zerolinecolor": "white",
           "zerolinewidth": 2
          }
         }
        },
        "xaxis": {
         "autorange": false,
         "range": [
          -0.5222796286976044,
          0.5828912893780434
         ],
         "type": "category"
        },
        "yaxis": {
         "autorange": false,
         "range": [
          -1.3499548893270852,
          8.596583373353745
         ],
         "type": "category"
        }
       }
      },
      "image/png": "[encoded data removed]",
      "text/html": [
       "<div\n",
       "    class=\"webio-mountpoint\"\n",
       "    data-webio-mountpoint=\"13115545810050602211\"\n",
       ">\n",
       "    <script>\n",
       "    (function(){\n",
       "    // Some integrations (namely, IJulia/Jupyter) use an alternate render pathway than\n",
       "    // just putting the html on the page. If WebIO isn't defined, then it's pretty likely\n",
       "    // that we're in one of those situations and the integration just isn't installed\n",
       "    // correctly.\n",
       "    if (typeof window.WebIO === \"undefined\") {\n",
       "        document\n",
       "            .querySelector('[data-webio-mountpoint=\"13115545810050602211\"]')\n",
       "            .innerHTML = (\n",
       "                '<div style=\"padding: 1em; background-color: #f8d6da; border: 1px solid #f5c6cb; font-weight: bold;\">' +\n",
       "                '<p><strong>WebIO not detected.</strong></p>' +\n",
       "                '<p>Please read ' +\n",
       "                '<a href=\"https://juliagizmos.github.io/WebIO.jl/latest/troubleshooting/not-detected/\" target=\"_blank\">the troubleshooting guide</a> ' +\n",
       "                'for more information on how to resolve this issue.</p>' +\n",
       "                '<p><a href=\"https://juliagizmos.github.io/WebIO.jl/latest/troubleshooting/not-detected/\" target=\"_blank\">https://juliagizmos.github.io/WebIO.jl/latest/troubleshooting/not-detected/</a></p>' +\n",
       "                '</div>'\n",
       "            );\n",
       "        return;\n",
       "    }\n",
       "    WebIO.mount(\n",
       "        document.querySelector('[data-webio-mountpoint=\"13115545810050602211\"]'),\n",
       "        {\"props\":{},\"nodeType\":\"Scope\",\"type\":\"node\",\"instanceArgs\":{\"imports\":{\"data\":[{\"name\":\"Plotly\",\"type\":\"js\",\"url\":\"\\/assetserver\\/2c1443c4a3fadd5de9f99c6b5d8fa0ad35f7de28-plotly.min.js\"},{\"name\":null,\"type\":\"js\",\"url\":\"\\/assetserver\\/a617ad3fbd31c68e6d8336a472e6356f3a4cb577-plotly_webio.bundle.js\"}],\"type\":\"async_block\"},\"id\":\"4511396076231414776\",\"handlers\":{\"_toImage\":[\"(function (options){return this.Plotly.toImage(this.plotElem,options).then((function (data){return WebIO.setval({\\\"name\\\":\\\"image\\\",\\\"scope\\\":\\\"4511396076231414776\\\",\\\"id\\\":\\\"13101491973586486568\\\",\\\"type\\\":\\\"observable\\\"},data)}))})\"],\"__get_gd_contents\":[\"(function (prop){prop==\\\"data\\\" ? (WebIO.setval({\\\"name\\\":\\\"__gd_contents\\\",\\\"scope\\\":\\\"4511396076231414776\\\",\\\"id\\\":\\\"11867117511000344203\\\",\\\"type\\\":\\\"observable\\\"},this.plotElem.data)) : undefined; return prop==\\\"layout\\\" ? (WebIO.setval({\\\"name\\\":\\\"__gd_contents\\\",\\\"scope\\\":\\\"4511396076231414776\\\",\\\"id\\\":\\\"11867117511000344203\\\",\\\"type\\\":\\\"observable\\\"},this.plotElem.layout)) : undefined})\"],\"_downloadImage\":[\"(function (options){return this.Plotly.downloadImage(this.plotElem,options)})\"],\"_commands\":[\"(function (args){var fn=args.shift(); var elem=this.plotElem; var Plotly=this.Plotly; args.unshift(elem); return Plotly[fn].apply(this,args)})\"]},\"systemjs_options\":null,\"mount_callbacks\":[\"function () {\\n    var handler = ((function (Plotly,PlotlyWebIO){PlotlyWebIO.init(WebIO); var gd=this.dom.querySelector(\\\"#plot-608c0700-1ead-4924-933c-280abf9327a8\\\"); this.plotElem=gd; this.Plotly=Plotly; (window.Blink!==undefined) ? (gd.style.width=\\\"100%\\\", gd.style.height=\\\"100vh\\\", gd.style.marginLeft=\\\"0%\\\", gd.style.marginTop=\\\"0vh\\\") : undefined; window.onresize=(function (){return Plotly.Plots.resize(gd)}); Plotly.newPlot(gd,[{\\\"y\\\":[\\\"CB_F_01ug\\\",\\\"CB_F_01ug\\\",\\\"CB_F_01ug\\\",\\\"CB_F_05ug\\\",\\\"CB_F_05ug\\\",\\\"CB_F_05ug\\\",\\\"CB_S_01ug\\\",\\\"CB_S_01ug\\\",\\\"CB_S_01ug\\\",\\\"CB_S_05ug\\\",\\\"CB_S_05ug\\\",\\\"CB_S_05ug\\\",\\\"PL_F_01ug\\\",\\\"PL_F_01ug\\\",\\\"PL_F_01ug\\\",\\\"PL_F_05ug\\\",\\\"PL_F_05ug\\\",\\\"PL_F_05ug\\\",\\\"PL_F_25ug\\\",\\\"PL_F_25ug\\\",\\\"PL_S_01ug\\\",\\\"PL_S_01ug\\\",\\\"PL_S_01ug\\\",\\\"PL_S_05ug\\\",\\\"PL_S_05ug\\\",\\\"PL_S_05ug\\\"],\\\"type\\\":\\\"heatmap\\\",\\\"z\\\":[5.290431699,7.123278239,8.066367758,9.124596359,6.241768839,6.998646457,6.584495246,10.92715039,10.06305382,10.83651624,13.45762786,12.12750024,6.241768839,5.920934047,10.12424297,6.528219449,3.606779221,4.626184053,5.651825017,7.587069143,10.86124196,8.860168549,11.33000232,5.809648353,10.82002936,18.85437479],\\\"transpose\\\":true,\\\"x\\\":[\\\"IL-6\\\",\\\"IL-6\\\",\\\"IL-6\\\",\\\"IL-6\\\",\\\"IL-6\\\",\\\"IL-6\\\",\\\"IL-6\\\",\\\"IL-6\\\",\\\"IL-6\\\",\\\"IL-6\\\",\\\"IL-6\\\",\\\"IL-6\\\",\\\"IL-6\\\",\\\"IL-6\\\",\\\"IL-6\\\",\\\"IL-6\\\",\\\"IL-6\\\",\\\"IL-6\\\",\\\"IL-6\\\",\\\"IL-6\\\",\\\"IL-6\\\",\\\"IL-6\\\",\\\"IL-6\\\",\\\"IL-6\\\",\\\"IL-6\\\",\\\"IL-6\\\"]}],{\\\"template\\\":{\\\"layout\\\":{\\\"coloraxis\\\":{\\\"colorbar\\\":{\\\"ticks\\\":\\\"\\\",\\\"outlinewidth\\\":0}},\\\"xaxis\\\":{\\\"gridcolor\\\":\\\"white\\\",\\\"zerolinewidth\\\":2,\\\"title\\\":{\\\"standoff\\\":15},\\\"ticks\\\":\\\"\\\",\\\"zerolinecolor\\\":\\\"white\\\",\\\"automargin\\\":true,\\\"linecolor\\\":\\\"white\\\"},\\\"hovermode\\\":\\\"closest\\\",\\\"paper_bgcolor\\\":\\\"white\\\",\\\"geo\\\":{\\\"showlakes\\\":true,\\\"showland\\\":true,\\\"landcolor\\\":\\\"#E5ECF6\\\",\\\"bgcolor\\\":\\\"white\\\",\\\"subunitcolor\\\":\\\"white\\\",\\\"lakecolor\\\":\\\"white\\\"},\\\"colorscale\\\":{\\\"sequential\\\":[[0.0,\\\"#0d0887\\\"],[0.1111111111111111,\\\"#46039f\\\"],[0.2222222222222222,\\\"#7201a8\\\"],[0.3333333333333333,\\\"#9c179e\\\"],[0.4444444444444444,\\\"#bd3786\\\"],[0.5555555555555556,\\\"#d8576b\\\"],[0.6666666666666666,\\\"#ed7953\\\"],[0.7777777777777778,\\\"#fb9f3a\\\"],[0.8888888888888888,\\\"#fdca26\\\"],[1.0,\\\"#f0f921\\\"]],\\\"diverging\\\":[[0,\\\"#8e0152\\\"],[0.1,\\\"#c51b7d\\\"],[0.2,\\\"#de77ae\\\"],[0.3,\\\"#f1b6da\\\"],[0.4,\\\"#fde0ef\\\"],[0.5,\\\"#f7f7f7\\\"],[0.6,\\\"#e6f5d0\\\"],[0.7,\\\"#b8e186\\\"],[0.8,\\\"#7fbc41\\\"],[0.9,\\\"#4d9221\\\"],[1,\\\"#276419\\\"]],\\\"sequentialminus\\\":[[0.0,\\\"#0d0887\\\"],[0.1111111111111111,\\\"#46039f\\\"],[0.2222222222222222,\\\"#7201a8\\\"],[0.3333333333333333,\\\"#9c179e\\\"],[0.4444444444444444,\\\"#bd3786\\\"],[0.5555555555555556,\\\"#d8576b\\\"],[0.6666666666666666,\\\"#ed7953\\\"],[0.7777777777777778,\\\"#fb9f3a\\\"],[0.8888888888888888,\\\"#fdca26\\\"],[1.0,\\\"#f0f921\\\"]]},\\\"yaxis\\\":{\\\"gridcolor\\\":\\\"white\\\",\\\"zerolinewidth\\\":2,\\\"title\\\":{\\\"standoff\\\":15},\\\"ticks\\\":\\\"\\\",\\\"zerolinecolor\\\":\\\"white\\\",\\\"automargin\\\":true,\\\"linecolor\\\":\\\"white\\\"},\\\"shapedefaults\\\":{\\\"line\\\":{\\\"color\\\":\\\"#2a3f5f\\\"}},\\\"hoverlabel\\\":{\\\"align\\\":\\\"left\\\"},\\\"mapbox\\\":{\\\"style\\\":\\\"light\\\"},\\\"polar\\\":{\\\"angularaxis\\\":{\\\"gridcolor\\\":\\\"white\\\",\\\"ticks\\\":\\\"\\\",\\\"linecolor\\\":\\\"white\\\"},\\\"bgcolor\\\":\\\"#E5ECF6\\\",\\\"radialaxis\\\":{\\\"gridcolor\\\":\\\"white\\\",\\\"ticks\\\":\\\"\\\",\\\"linecolor\\\":\\\"white\\\"}},\\\"autotypenumbers\\\":\\\"strict\\\",\\\"font\\\":{\\\"color\\\":\\\"#2a3f5f\\\"},\\\"ternary\\\":{\\\"baxis\\\":{\\\"gridcolor\\\":\\\"white\\\",\\\"ticks\\\":\\\"\\\",\\\"linecolor\\\":\\\"white\\\"},\\\"bgcolor\\\":\\\"#E5ECF6\\\",\\\"caxis\\\":{\\\"gridcolor\\\":\\\"white\\\",\\\"ticks\\\":\\\"\\\",\\\"linecolor\\\":\\\"white\\\"},\\\"aaxis\\\":{\\\"gridcolor\\\":\\\"white\\\",\\\"ticks\\\":\\\"\\\",\\\"linecolor\\\":\\\"white\\\"}},\\\"annotationdefaults\\\":{\\\"arrowhead\\\":0,\\\"arrowwidth\\\":1,\\\"arrowcolor\\\":\\\"#2a3f5f\\\"},\\\"plot_bgcolor\\\":\\\"#E5ECF6\\\",\\\"title\\\":{\\\"x\\\":0.05},\\\"scene\\\":{\\\"xaxis\\\":{\\\"gridcolor\\\":\\\"white\\\",\\\"gridwidth\\\":2,\\\"backgroundcolor\\\":\\\"#E5ECF6\\\",\\\"ticks\\\":\\\"\\\",\\\"showbackground\\\":true,\\\"zerolinecolor\\\":\\\"white\\\",\\\"linecolor\\\":\\\"white\\\"},\\\"zaxis\\\":{\\\"gridcolor\\\":\\\"white\\\",\\\"gridwidth\\\":2,\\\"backgroundcolor\\\":\\\"#E5ECF6\\\",\\\"ticks\\\":\\\"\\\",\\\"showbackground\\\":true,\\\"zerolinecolor\\\":\\\"white\\\",\\\"linecolor\\\":\\\"white\\\"},\\\"yaxis\\\":{\\\"gridcolor\\\":\\\"white\\\",\\\"gridwidth\\\":2,\\\"backgroundcolor\\\":\\\"#E5ECF6\\\",\\\"ticks\\\":\\\"\\\",\\\"showbackground\\\":true,\\\"zerolinecolor\\\":\\\"white\\\",\\\"linecolor\\\":\\\"white\\\"}},\\\"colorway\\\":[\\\"#636efa\\\",\\\"#EF553B\\\",\\\"#00cc96\\\",\\\"#ab63fa\\\",\\\"#FFA15A\\\",\\\"#19d3f3\\\",\\\"#FF6692\\\",\\\"#B6E880\\\",\\\"#FF97FF\\\",\\\"#FECB52\\\"]},\\\"data\\\":{\\\"barpolar\\\":[{\\\"type\\\":\\\"barpolar\\\",\\\"marker\\\":{\\\"line\\\":{\\\"color\\\":\\\"#E5ECF6\\\",\\\"width\\\":0.5}}}],\\\"carpet\\\":[{\\\"aaxis\\\":{\\\"gridcolor\\\":\\\"white\\\",\\\"endlinecolor\\\":\\\"#2a3f5f\\\",\\\"minorgridcolor\\\":\\\"white\\\",\\\"startlinecolor\\\":\\\"#2a3f5f\\\",\\\"linecolor\\\":\\\"white\\\"},\\\"type\\\":\\\"carpet\\\",\\\"baxis\\\":{\\\"gridcolor\\\":\\\"white\\\",\\\"endlinecolor\\\":\\\"#2a3f5f\\\",\\\"minorgridcolor\\\":\\\"white\\\",\\\"startlinecolor\\\":\\\"#2a3f5f\\\",\\\"linecolor\\\":\\\"white\\\"}}],\\\"scatterpolar\\\":[{\\\"type\\\":\\\"scatterpolar\\\",\\\"marker\\\":{\\\"colorbar\\\":{\\\"ticks\\\":\\\"\\\",\\\"outlinewidth\\\":0}}}],\\\"parcoords\\\":[{\\\"line\\\":{\\\"colorbar\\\":{\\\"ticks\\\":\\\"\\\",\\\"outlinewidth\\\":0}},\\\"type\\\":\\\"parcoords\\\"}],\\\"scatter\\\":[{\\\"type\\\":\\\"scatter\\\",\\\"marker\\\":{\\\"colorbar\\\":{\\\"ticks\\\":\\\"\\\",\\\"outlinewidth\\\":0}}}],\\\"histogram2dcontour\\\":[{\\\"colorbar\\\":{\\\"ticks\\\":\\\"\\\",\\\"outlinewidth\\\":0},\\\"type\\\":\\\"histogram2dcontour\\\",\\\"colorscale\\\":[[0.0,\\\"#0d0887\\\"],[0.1111111111111111,\\\"#46039f\\\"],[0.2222222222222222,\\\"#7201a8\\\"],[0.3333333333333333,\\\"#9c179e\\\"],[0.4444444444444444,\\\"#bd3786\\\"],[0.5555555555555556,\\\"#d8576b\\\"],[0.6666666666666666,\\\"#ed7953\\\"],[0.7777777777777778,\\\"#fb9f3a\\\"],[0.8888888888888888,\\\"#fdca26\\\"],[1.0,\\\"#f0f921\\\"]]}],\\\"contour\\\":[{\\\"colorbar\\\":{\\\"ticks\\\":\\\"\\\",\\\"outlinewidth\\\":0},\\\"type\\\":\\\"contour\\\",\\\"colorscale\\\":[[0.0,\\\"#0d0887\\\"],[0.1111111111111111,\\\"#46039f\\\"],[0.2222222222222222,\\\"#7201a8\\\"],[0.3333333333333333,\\\"#9c179e\\\"],[0.4444444444444444,\\\"#bd3786\\\"],[0.5555555555555556,\\\"#d8576b\\\"],[0.6666666666666666,\\\"#ed7953\\\"],[0.7777777777777778,\\\"#fb9f3a\\\"],[0.8888888888888888,\\\"#fdca26\\\"],[1.0,\\\"#f0f921\\\"]]}],\\\"scattercarpet\\\":[{\\\"type\\\":\\\"scattercarpet\\\",\\\"marker\\\":{\\\"colorbar\\\":{\\\"ticks\\\":\\\"\\\",\\\"outlinewidth\\\":0}}}],\\\"mesh3d\\\":[{\\\"colorbar\\\":{\\\"ticks\\\":\\\"\\\",\\\"outlinewidth\\\":0},\\\"type\\\":\\\"mesh3d\\\"}],\\\"surface\\\":[{\\\"colorbar\\\":{\\\"ticks\\\":\\\"\\\",\\\"outlinewidth\\\":0},\\\"type\\\":\\\"surface\\\",\\\"colorscale\\\":[[0.0,\\\"#0d0887\\\"],[0.1111111111111111,\\\"#46039f\\\"],[0.2222222222222222,\\\"#7201a8\\\"],[0.3333333333333333,\\\"#9c179e\\\"],[0.4444444444444444,\\\"#bd3786\\\"],[0.5555555555555556,\\\"#d8576b\\\"],[0.6666666666666666,\\\"#ed7953\\\"],[0.7777777777777778,\\\"#fb9f3a\\\"],[0.8888888888888888,\\\"#fdca26\\\"],[1.0,\\\"#f0f921\\\"]]}],\\\"scattermapbox\\\":[{\\\"type\\\":\\\"scattermapbox\\\",\\\"marker\\\":{\\\"colorbar\\\":{\\\"ticks\\\":\\\"\\\",\\\"outlinewidth\\\":0}}}],\\\"scattergeo\\\":[{\\\"type\\\":\\\"scattergeo\\\",\\\"marker\\\":{\\\"colorbar\\\":{\\\"ticks\\\":\\\"\\\",\\\"outlinewidth\\\":0}}}],\\\"histogram\\\":[{\\\"type\\\":\\\"histogram\\\",\\\"marker\\\":{\\\"colorbar\\\":{\\\"ticks\\\":\\\"\\\",\\\"outlinewidth\\\":0}}}],\\\"pie\\\":[{\\\"type\\\":\\\"pie\\\",\\\"automargin\\\":true}],\\\"choropleth\\\":[{\\\"colorbar\\\":{\\\"ticks\\\":\\\"\\\",\\\"outlinewidth\\\":0},\\\"type\\\":\\\"choropleth\\\"}],\\\"heatmapgl\\\":[{\\\"colorbar\\\":{\\\"ticks\\\":\\\"\\\",\\\"outlinewidth\\\":0},\\\"type\\\":\\\"heatmapgl\\\",\\\"colorscale\\\":[[0.0,\\\"#0d0887\\\"],[0.1111111111111111,\\\"#46039f\\\"],[0.2222222222222222,\\\"#7201a8\\\"],[0.3333333333333333,\\\"#9c179e\\\"],[0.4444444444444444,\\\"#bd3786\\\"],[0.5555555555555556,\\\"#d8576b\\\"],[0.6666666666666666,\\\"#ed7953\\\"],[0.7777777777777778,\\\"#fb9f3a\\\"],[0.8888888888888888,\\\"#fdca26\\\"],[1.0,\\\"#f0f921\\\"]]}],\\\"bar\\\":[{\\\"type\\\":\\\"bar\\\",\\\"error_y\\\":{\\\"color\\\":\\\"#2a3f5f\\\"},\\\"error_x\\\":{\\\"color\\\":\\\"#2a3f5f\\\"},\\\"marker\\\":{\\\"line\\\":{\\\"color\\\":\\\"#E5ECF6\\\",\\\"width\\\":0.5}}}],\\\"heatmap\\\":[{\\\"colorbar\\\":{\\\"ticks\\\":\\\"\\\",\\\"outlinewidth\\\":0},\\\"type\\\":\\\"heatmap\\\",\\\"colorscale\\\":[[0.0,\\\"#0d0887\\\"],[0.1111111111111111,\\\"#46039f\\\"],[0.2222222222222222,\\\"#7201a8\\\"],[0.3333333333333333,\\\"#9c179e\\\"],[0.4444444444444444,\\\"#bd3786\\\"],[0.5555555555555556,\\\"#d8576b\\\"],[0.6666666666666666,\\\"#ed7953\\\"],[0.7777777777777778,\\\"#fb9f3a\\\"],[0.8888888888888888,\\\"#fdca26\\\"],[1.0,\\\"#f0f921\\\"]]}],\\\"contourcarpet\\\":[{\\\"colorbar\\\":{\\\"ticks\\\":\\\"\\\",\\\"outlinewidth\\\":0},\\\"type\\\":\\\"contourcarpet\\\"}],\\\"table\\\":[{\\\"type\\\":\\\"table\\\",\\\"header\\\":{\\\"line\\\":{\\\"color\\\":\\\"white\\\"},\\\"fill\\\":{\\\"color\\\":\\\"#C8D4E3\\\"}},\\\"cells\\\":{\\\"line\\\":{\\\"color\\\":\\\"white\\\"},\\\"fill\\\":{\\\"color\\\":\\\"#EBF0F8\\\"}}}],\\\"scatter3d\\\":[{\\\"line\\\":{\\\"colorbar\\\":{\\\"ticks\\\":\\\"\\\",\\\"outlinewidth\\\":0}},\\\"type\\\":\\\"scatter3d\\\",\\\"marker\\\":{\\\"colorbar\\\":{\\\"ticks\\\":\\\"\\\",\\\"outlinewidth\\\":0}}}],\\\"scattergl\\\":[{\\\"type\\\":\\\"scattergl\\\",\\\"marker\\\":{\\\"colorbar\\\":{\\\"ticks\\\":\\\"\\\",\\\"outlinewidth\\\":0}}}],\\\"histogram2d\\\":[{\\\"colorbar\\\":{\\\"ticks\\\":\\\"\\\",\\\"outlinewidth\\\":0},\\\"type\\\":\\\"histogram2d\\\",\\\"colorscale\\\":[[0.0,\\\"#0d0887\\\"],[0.1111111111111111,\\\"#46039f\\\"],[0.2222222222222222,\\\"#7201a8\\\"],[0.3333333333333333,\\\"#9c179e\\\"],[0.4444444444444444,\\\"#bd3786\\\"],[0.5555555555555556,\\\"#d8576b\\\"],[0.6666666666666666,\\\"#ed7953\\\"],[0.7777777777777778,\\\"#fb9f3a\\\"],[0.8888888888888888,\\\"#fdca26\\\"],[1.0,\\\"#f0f921\\\"]]}],\\\"scatterternary\\\":[{\\\"type\\\":\\\"scatterternary\\\",\\\"marker\\\":{\\\"colorbar\\\":{\\\"ticks\\\":\\\"\\\",\\\"outlinewidth\\\":0}}}],\\\"scatterpolargl\\\":[{\\\"type\\\":\\\"scatterpolargl\\\",\\\"marker\\\":{\\\"colorbar\\\":{\\\"ticks\\\":\\\"\\\",\\\"outlinewidth\\\":0}}}]}},\\\"height\\\":600,\\\"margin\\\":{\\\"l\\\":0,\\\"b\\\":0,\\\"r\\\":0,\\\"t\\\":65},\\\"autosize\\\":true},{\\\"showLink\\\":false,\\\"editable\\\":false,\\\"responsive\\\":true,\\\"staticPlot\\\":false,\\\"scrollZoom\\\":true}); gd.on(\\\"plotly_hover\\\",(function (data){var filtered_data=WebIO.PlotlyCommands.filterEventData(gd,data,\\\"hover\\\"); return !(filtered_data.isnil) ? (WebIO.setval({\\\"name\\\":\\\"hover\\\",\\\"scope\\\":\\\"4511396076231414776\\\",\\\"id\\\":\\\"12047820082445948943\\\",\\\"type\\\":\\\"observable\\\"},filtered_data.out)) : undefined})); gd.on(\\\"plotly_unhover\\\",(function (){return WebIO.setval({\\\"name\\\":\\\"hover\\\",\\\"scope\\\":\\\"4511396076231414776\\\",\\\"id\\\":\\\"12047820082445948943\\\",\\\"type\\\":\\\"observable\\\"},{})})); gd.on(\\\"plotly_selected\\\",(function (data){var filtered_data=WebIO.PlotlyCommands.filterEventData(gd,data,\\\"selected\\\"); return !(filtered_data.isnil) ? (WebIO.setval({\\\"name\\\":\\\"selected\\\",\\\"scope\\\":\\\"4511396076231414776\\\",\\\"id\\\":\\\"13226389128691078954\\\",\\\"type\\\":\\\"observable\\\"},filtered_data.out)) : undefined})); gd.on(\\\"plotly_deselect\\\",(function (){return WebIO.setval({\\\"name\\\":\\\"selected\\\",\\\"scope\\\":\\\"4511396076231414776\\\",\\\"id\\\":\\\"13226389128691078954\\\",\\\"type\\\":\\\"observable\\\"},{})})); gd.on(\\\"plotly_relayout\\\",(function (data){var filtered_data=WebIO.PlotlyCommands.filterEventData(gd,data,\\\"relayout\\\"); return !(filtered_data.isnil) ? (WebIO.setval({\\\"name\\\":\\\"relayout\\\",\\\"scope\\\":\\\"4511396076231414776\\\",\\\"id\\\":\\\"590118158518352370\\\",\\\"type\\\":\\\"observable\\\"},filtered_data.out)) : undefined})); return gd.on(\\\"plotly_click\\\",(function (data){var filtered_data=WebIO.PlotlyCommands.filterEventData(gd,data,\\\"click\\\"); return !(filtered_data.isnil) ? (WebIO.setval({\\\"name\\\":\\\"click\\\",\\\"scope\\\":\\\"4511396076231414776\\\",\\\"id\\\":\\\"3980131075121083804\\\",\\\"type\\\":\\\"observable\\\"},filtered_data.out)) : undefined}))}));\\n    (WebIO.importBlock({\\\"data\\\":[{\\\"name\\\":\\\"Plotly\\\",\\\"type\\\":\\\"js\\\",\\\"url\\\":\\\"\\/assetserver\\/2c1443c4a3fadd5de9f99c6b5d8fa0ad35f7de28-plotly.min.js\\\"},{\\\"name\\\":null,\\\"type\\\":\\\"js\\\",\\\"url\\\":\\\"\\/assetserver\\/a617ad3fbd31c68e6d8336a472e6356f3a4cb577-plotly_webio.bundle.js\\\"}],\\\"type\\\":\\\"async_block\\\"})).then((imports) => handler.apply(this, imports));\\n}\\n\"],\"observables\":{\"_toImage\":{\"sync\":true,\"id\":\"9547207097685014622\",\"value\":{}},\"hover\":{\"sync\":false,\"id\":\"12047820082445948943\",\"value\":{}},\"selected\":{\"sync\":false,\"id\":\"13226389128691078954\",\"value\":{}},\"__gd_contents\":{\"sync\":false,\"id\":\"11867117511000344203\",\"value\":{}},\"click\":{\"sync\":false,\"id\":\"3980131075121083804\",\"value\":{}},\"image\":{\"sync\":true,\"id\":\"13101491973586486568\",\"value\":\"\"},\"__get_gd_contents\":{\"sync\":true,\"id\":\"13058327266626264835\",\"value\":\"\"},\"_downloadImage\":{\"sync\":true,\"id\":\"14624353997247852146\",\"value\":{}},\"relayout\":{\"sync\":false,\"id\":\"590118158518352370\",\"value\":{}},\"_commands\":{\"sync\":true,\"id\":\"11499940346524956056\",\"value\":[]}}},\"children\":[{\"props\":{\"id\":\"plot-608c0700-1ead-4924-933c-280abf9327a8\"},\"nodeType\":\"DOM\",\"type\":\"node\",\"instanceArgs\":{\"namespace\":\"html\",\"tag\":\"div\"},\"children\":[]}]},\n",
       "        window,\n",
       "    );\n",
       "    })()\n",
       "    </script>\n",
       "</div>\n"
      ],
      "text/plain": [
       "data: [\n",
       "  \"heatmap with fields transpose, type, x, y, and z\"\n",
       "]\n",
       "\n",
       "layout: \"layout with fields autosize, height, margin, and template\"\n",
       "\n"
      ]
     },
     "execution_count": 93,
     "metadata": {},
     "output_type": "execute_result"
    }
   ],
   "source": [
    "showHM_perGrp_perEssay(\"63O\",\"IL-6\")"
   ]
  },
  {
   "cell_type": "code",
   "execution_count": 15,
   "id": "5f366b26-7035-4d45-8a8b-c4a70a51dd65",
   "metadata": {},
   "outputs": [
    {
     "data": {
      "text/plain": [
       "showHM_All (generic function with 1 method)"
      ]
     },
     "execution_count": 15,
     "metadata": {},
     "output_type": "execute_result"
    }
   ],
   "source": [
    "function showHM_All()\n",
    "    dfx = df\n",
    "    dfx[!,:C] = string.(dfx.Sample,\"_\",dfx.Material,\"_\",dfx.Flaming_Smoldering,\"_\",dfx.Exp_Concentration);\n",
    "    PlotlyJS.plot(PlotlyJS.heatmap(x=dfx.Assay,y=dfx.C,z=dfx.Conc_real),layout)\n",
    "end"
   ]
  },
  {
   "cell_type": "code",
   "execution_count": 48,
   "id": "5137b6f1-85d1-460d-98cd-81812bc5f66e",
   "metadata": {},
   "outputs": [
    {
     "data": {
      "application/vnd.plotly.v1+json": {
       "config": {
        "editable": false,
        "responsive": true,
        "scrollZoom": true,
        "showLink": false,
        "staticPlot": false
       },
       "data": [
        {
         "transpose": true,
         "type": "heatmap",
         "x": [
          "IFN-?",
          "IFN-?",
          "IFN-?",
          "IFN-?",
          "IFN-?",
          "IFN-?",
          "IFN-?",
          "IFN-?",
          "IFN-?",
          "IFN-?",
          "IFN-?",
          "IFN-?",
          "IFN-?",
          "IFN-?",
          "IFN-?",
          "IFN-?",
          "IFN-?",
          "IFN-?",
          "IFN-?",
          "IFN-?",
          "IFN-?",
          "IFN-?",
          "IFN-?",
          "IFN-?",
          "IFN-?",
          "IFN-?",
          "IFN-?",
          "IFN-?",
          "IFN-?",
          "IFN-?",
          "IFN-?",
          "IFN-?",
          "IFN-?",
          "IFN-?",
          "IFN-?",
          "IFN-?",
          "IFN-?",
          "IFN-?",
          "IFN-?",
          "IFN-?",
          "IFN-?",
          "IFN-?",
          "IFN-?",
          "IFN-?",
          "IFN-?",
          "IFN-?",
          "IFN-?",
          "IFN-?",
          "IFN-?",
          "IFN-?",
          "IFN-?",
          "IFN-?",
          "IFN-?",
          "IFN-?",
          "IFN-?",
          "IFN-?",
          "IFN-?",
          "IFN-?",
          "IFN-?",
          "IFN-?",
          "IFN-?",
          "IFN-?",
          "IFN-?",
          "IFN-?",
          "IFN-?",
          "IFN-?",
          "IFN-?",
          "IFN-?",
          "IFN-?",
          "IFN-?",
          "IFN-?",
          "IFN-?",
          "IFN-?",
          "IFN-?",
          "IFN-?",
          "IFN-?",
          "IFN-?",
          "IFN-?",
          "IFN-?",
          "IFN-?",
          "IFN-?",
          "IFN-?",
          "IFN-?",
          "IFN-?",
          "IFN-?",
          "IFN-?",
          "IFN-?",
          "IFN-?",
          "IFN-?",
          "IFN-?",
          "IFN-?",
          "IFN-?",
          "IFN-?",
          "IFN-?",
          "IFN-?",
          "IFN-?",
          "IFN-?",
          "IFN-?",
          "IFN-?",
          "IFN-?",
          "IFN-?",
          "IFN-?",
          "IFN-?",
          "IFN-?",
          "IFN-?",
          "IFN-?",
          "IFN-?",
          "IFN-?",
          "IFN-?",
          "IFN-?",
          "IFN-?",
          "IFN-?",
          "IFN-?",
          "IFN-?",
          "IFN-?",
          "IFN-?",
          "IFN-?",
          "IFN-?",
          "IFN-?",
          "IFN-?",
          "IFN-?",
          "IFN-?",
          "IFN-?",
          "IFN-?",
          "IFN-?",
          "IFN-?",
          "IFN-?",
          "IFN-?",
          "IFN-?",
          "IFN-?",
          "IFN-?",
          "IFN-?",
          "IFN-?",
          "IFN-?",
          "IFN-?",
          "IFN-?",
          "IL-10",
          "IL-10",
          "IL-10",
          "IL-10",
          "IL-10",
          "IL-10",
          "IL-10",
          "IL-10",
          "IL-10",
          "IL-10",
          "IL-10",
          "IL-10",
          "IL-10",
          "IL-10",
          "IL-10",
          "IL-10",
          "IL-10",
          "IL-10",
          "IL-10",
          "IL-10",
          "IL-10",
          "IL-10",
          "IL-10",
          "IL-10",
          "IL-10",
          "IL-10",
          "IL-10",
          "IL-10",
          "IL-10",
          "IL-10",
          "IL-10",
          "IL-10",
          "IL-10",
          "IL-10",
          "IL-10",
          "IL-10",
          "IL-10",
          "IL-10",
          "IL-10",
          "IL-10",
          "IL-10",
          "IL-10",
          "IL-10",
          "IL-10",
          "IL-10",
          "IL-10",
          "IL-10",
          "IL-10",
          "IL-10",
          "IL-10",
          "IL-10",
          "IL-10",
          "IL-10",
          "IL-10",
          "IL-10",
          "IL-10",
          "IL-10",
          "IL-10",
          "IL-10",
          "IL-10",
          "IL-10",
          "IL-10",
          "IL-10",
          "IL-10",
          "IL-10",
          "IL-10",
          "IL-10",
          "IL-10",
          "IL-10",
          "IL-10",
          "IL-10",
          "IL-10",
          "IL-10",
          "IL-10",
          "IL-10",
          "IL-10",
          "IL-10",
          "IL-10",
          "IL-10",
          "IL-10",
          "IL-10",
          "IL-10",
          "IL-10",
          "IL-10",
          "IL-10",
          "IL-10",
          "IL-10",
          "IL-10",
          "IL-10",
          "IL-10",
          "IL-10",
          "IL-10",
          "IL-10",
          "IL-10",
          "IL-10",
          "IL-10",
          "IL-10",
          "IL-10",
          "IL-10",
          "IL-10",
          "IL-10",
          "IL-10",
          "IL-10",
          "IL-10",
          "IL-10",
          "IL-10",
          "IL-10",
          "IL-10",
          "IL-10",
          "IL-10",
          "IL-10",
          "IL-10",
          "IL-10",
          "IL-10",
          "IL-10",
          "IL-10",
          "IL-10",
          "IL-10",
          "IL-10",
          "IL-10",
          "IL-10",
          "IL-10",
          "IL-10",
          "IL-10",
          "IL-10",
          "IL-10",
          "IL-10",
          "IL-10",
          "IL-10",
          "IL-10",
          "IL-10",
          "IL-10",
          "IL-10",
          "IL-10",
          "IL-10",
          "IL-10",
          "IL-12p70",
          "IL-12p70",
          "IL-12p70",
          "IL-12p70",
          "IL-12p70",
          "IL-12p70",
          "IL-12p70",
          "IL-12p70",
          "IL-12p70",
          "IL-12p70",
          "IL-12p70",
          "IL-12p70",
          "IL-12p70",
          "IL-12p70",
          "IL-12p70",
          "IL-12p70",
          "IL-12p70",
          "IL-12p70",
          "IL-12p70",
          "IL-12p70",
          "IL-12p70",
          "IL-12p70",
          "IL-12p70",
          "IL-12p70",
          "IL-12p70",
          "IL-12p70",
          "IL-12p70",
          "IL-12p70",
          "IL-12p70",
          "IL-12p70",
          "IL-12p70",
          "IL-12p70",
          "IL-12p70",
          "IL-12p70",
          "IL-12p70",
          "IL-12p70",
          "IL-12p70",
          "IL-12p70",
          "IL-12p70",
          "IL-12p70",
          "IL-12p70",
          "IL-12p70",
          "IL-12p70",
          "IL-12p70",
          "IL-12p70",
          "IL-12p70",
          "IL-12p70",
          "IL-12p70",
          "IL-12p70",
          "IL-12p70",
          "IL-12p70",
          "IL-12p70",
          "IL-12p70",
          "IL-12p70",
          "IL-12p70",
          "IL-12p70",
          "IL-12p70",
          "IL-12p70",
          "IL-12p70",
          "IL-12p70",
          "IL-12p70",
          "IL-12p70",
          "IL-12p70",
          "IL-12p70",
          "IL-12p70",
          "IL-12p70",
          "IL-12p70",
          "IL-12p70",
          "IL-12p70",
          "IL-12p70",
          "IL-12p70",
          "IL-12p70",
          "IL-12p70",
          "IL-12p70",
          "IL-12p70",
          "IL-12p70",
          "IL-12p70",
          "IL-12p70",
          "IL-12p70",
          "IL-12p70",
          "IL-12p70",
          "IL-12p70",
          "IL-12p70",
          "IL-12p70",
          "IL-12p70",
          "IL-12p70",
          "IL-12p70",
          "IL-12p70",
          "IL-12p70",
          "IL-12p70",
          "IL-12p70",
          "IL-12p70",
          "IL-12p70",
          "IL-12p70",
          "IL-12p70",
          "IL-12p70",
          "IL-12p70",
          "IL-12p70",
          "IL-12p70",
          "IL-12p70",
          "IL-12p70",
          "IL-12p70",
          "IL-12p70",
          "IL-12p70",
          "IL-12p70",
          "IL-12p70",
          "IL-12p70",
          "IL-12p70",
          "IL-12p70",
          "IL-12p70",
          "IL-12p70",
          "IL-12p70",
          "IL-12p70",
          "IL-12p70",
          "IL-12p70",
          "IL-12p70",
          "IL-12p70",
          "IL-12p70",
          "IL-12p70",
          "IL-12p70",
          "IL-12p70",
          "IL-12p70",
          "IL-12p70",
          "IL-12p70",
          "IL-12p70",
          "IL-12p70",
          "IL-12p70",
          "IL-12p70",
          "IL-12p70",
          "IL-12p70",
          "IL-12p70",
          "IL-12p70",
          "IL-12p70",
          "IL-12p70",
          "IL-12p70",
          "IL-12p70",
          "IL-13",
          "IL-13",
          "IL-13",
          "IL-13",
          "IL-13",
          "IL-13",
          "IL-13",
          "IL-13",
          "IL-13",
          "IL-13",
          "IL-13",
          "IL-13",
          "IL-13",
          "IL-13",
          "IL-13",
          "IL-13",
          "IL-13",
          "IL-13",
          "IL-13",
          "IL-13",
          "IL-13",
          "IL-13",
          "IL-13",
          "IL-13",
          "IL-13",
          "IL-13",
          "IL-13",
          "IL-13",
          "IL-13",
          "IL-13",
          "IL-13",
          "IL-13",
          "IL-13",
          "IL-13",
          "IL-13",
          "IL-13",
          "IL-13",
          "IL-13",
          "IL-13",
          "IL-13",
          "IL-13",
          "IL-13",
          "IL-13",
          "IL-13",
          "IL-13",
          "IL-13",
          "IL-13",
          "IL-13",
          "IL-13",
          "IL-13",
          "IL-13",
          "IL-13",
          "IL-13",
          "IL-13",
          "IL-13",
          "IL-13",
          "IL-13",
          "IL-13",
          "IL-13",
          "IL-13",
          "IL-13",
          "IL-13",
          "IL-13",
          "IL-13",
          "IL-13",
          "IL-13",
          "IL-13",
          "IL-13",
          "IL-13",
          "IL-13",
          "IL-13",
          "IL-13",
          "IL-13",
          "IL-13",
          "IL-13",
          "IL-13",
          "IL-13",
          "IL-13",
          "IL-13",
          "IL-13",
          "IL-13",
          "IL-13",
          "IL-13",
          "IL-13",
          "IL-13",
          "IL-13",
          "IL-13",
          "IL-13",
          "IL-13",
          "IL-13",
          "IL-13",
          "IL-13",
          "IL-13",
          "IL-13",
          "IL-13",
          "IL-13",
          "IL-13",
          "IL-13",
          "IL-13",
          "IL-13",
          "IL-13",
          "IL-13",
          "IL-13",
          "IL-13",
          "IL-13",
          "IL-13",
          "IL-13",
          "IL-13",
          "IL-13",
          "IL-13",
          "IL-13",
          "IL-13",
          "IL-13",
          "IL-13",
          "IL-13",
          "IL-13",
          "IL-13",
          "IL-13",
          "IL-13",
          "IL-13",
          "IL-13",
          "IL-13",
          "IL-13",
          "IL-13",
          "IL-13",
          "IL-13",
          "IL-13",
          "IL-13",
          "IL-13",
          "IL-13",
          "IL-13",
          "IL-13",
          "IL-13",
          "IL-13",
          "IL-13",
          "IL-13",
          "IL-1?",
          "IL-1?",
          "IL-1?",
          "IL-1?",
          "IL-1?",
          "IL-1?",
          "IL-1?",
          "IL-1?",
          "IL-1?",
          "IL-1?",
          "IL-1?",
          "IL-1?",
          "IL-1?",
          "IL-1?",
          "IL-1?",
          "IL-1?",
          "IL-1?",
          "IL-1?",
          "IL-1?",
          "IL-1?",
          "IL-1?",
          "IL-1?",
          "IL-1?",
          "IL-1?",
          "IL-1?",
          "IL-1?",
          "IL-1?",
          "IL-1?",
          "IL-1?",
          "IL-1?",
          "IL-1?",
          "IL-1?",
          "IL-1?",
          "IL-1?",
          "IL-1?",
          "IL-1?",
          "IL-1?",
          "IL-1?",
          "IL-1?",
          "IL-1?",
          "IL-1?",
          "IL-1?",
          "IL-1?",
          "IL-1?",
          "IL-1?",
          "IL-1?",
          "IL-1?",
          "IL-1?",
          "IL-1?",
          "IL-1?",
          "IL-1?",
          "IL-1?",
          "IL-1?",
          "IL-1?",
          "IL-1?",
          "IL-1?",
          "IL-1?",
          "IL-1?",
          "IL-1?",
          "IL-1?",
          "IL-1?",
          "IL-1?",
          "IL-1?",
          "IL-1?",
          "IL-1?",
          "IL-1?",
          "IL-1?",
          "IL-1?",
          "IL-1?",
          "IL-1?",
          "IL-1?",
          "IL-1?",
          "IL-1?",
          "IL-1?",
          "IL-1?",
          "IL-1?",
          "IL-1?",
          "IL-1?",
          "IL-1?",
          "IL-1?",
          "IL-1?",
          "IL-1?",
          "IL-1?",
          "IL-1?",
          "IL-1?",
          "IL-1?",
          "IL-1?",
          "IL-1?",
          "IL-1?",
          "IL-1?",
          "IL-1?",
          "IL-1?",
          "IL-1?",
          "IL-1?",
          "IL-1?",
          "IL-1?",
          "IL-1?",
          "IL-1?",
          "IL-1?",
          "IL-1?",
          "IL-1?",
          "IL-1?",
          "IL-1?",
          "IL-1?",
          "IL-1?",
          "IL-1?",
          "IL-1?",
          "IL-1?",
          "IL-1?",
          "IL-1?",
          "IL-1?",
          "IL-1?",
          "IL-1?",
          "IL-1?",
          "IL-1?",
          "IL-1?",
          "IL-1?",
          "IL-1?",
          "IL-1?",
          "IL-1?",
          "IL-1?",
          "IL-1?",
          "IL-1?",
          "IL-1?",
          "IL-1?",
          "IL-1?",
          "IL-1?",
          "IL-1?",
          "IL-1?",
          "IL-1?",
          "IL-1?",
          "IL-1?",
          "IL-1?",
          "IL-1?",
          "IL-1?",
          "IL-1?",
          "IL-2",
          "IL-2",
          "IL-2",
          "IL-2",
          "IL-2",
          "IL-2",
          "IL-2",
          "IL-2",
          "IL-2",
          "IL-2",
          "IL-2",
          "IL-2",
          "IL-2",
          "IL-2",
          "IL-2",
          "IL-2",
          "IL-2",
          "IL-2",
          "IL-2",
          "IL-2",
          "IL-2",
          "IL-2",
          "IL-2",
          "IL-2",
          "IL-2",
          "IL-2",
          "IL-2",
          "IL-2",
          "IL-2",
          "IL-2",
          "IL-2",
          "IL-2",
          "IL-2",
          "IL-2",
          "IL-2",
          "IL-2",
          "IL-2",
          "IL-2",
          "IL-2",
          "IL-2",
          "IL-2",
          "IL-2",
          "IL-2",
          "IL-2",
          "IL-2",
          "IL-2",
          "IL-2",
          "IL-2",
          "IL-2",
          "IL-2",
          "IL-2",
          "IL-2",
          "IL-2",
          "IL-2",
          "IL-2",
          "IL-2",
          "IL-2",
          "IL-2",
          "IL-2",
          "IL-2",
          "IL-2",
          "IL-2",
          "IL-2",
          "IL-2",
          "IL-2",
          "IL-2",
          "IL-2",
          "IL-2",
          "IL-2",
          "IL-2",
          "IL-2",
          "IL-2",
          "IL-2",
          "IL-2",
          "IL-2",
          "IL-2",
          "IL-2",
          "IL-2",
          "IL-2",
          "IL-2",
          "IL-2",
          "IL-2",
          "IL-2",
          "IL-2",
          "IL-2",
          "IL-2",
          "IL-2",
          "IL-2",
          "IL-2",
          "IL-2",
          "IL-2",
          "IL-2",
          "IL-2",
          "IL-2",
          "IL-2",
          "IL-2",
          "IL-2",
          "IL-2",
          "IL-2",
          "IL-2",
          "IL-2",
          "IL-2",
          "IL-2",
          "IL-2",
          "IL-2",
          "IL-2",
          "IL-2",
          "IL-2",
          "IL-2",
          "IL-2",
          "IL-2",
          "IL-2",
          "IL-2",
          "IL-2",
          "IL-2",
          "IL-2",
          "IL-2",
          "IL-2",
          "IL-2",
          "IL-2",
          "IL-2",
          "IL-2",
          "IL-2",
          "IL-2",
          "IL-2",
          "IL-2",
          "IL-2",
          "IL-2",
          "IL-2",
          "IL-2",
          "IL-2",
          "IL-2",
          "IL-2",
          "IL-2",
          "IL-2",
          "IL-2",
          "IL-4",
          "IL-4",
          "IL-4",
          "IL-4",
          "IL-4",
          "IL-4",
          "IL-4",
          "IL-4",
          "IL-4",
          "IL-4",
          "IL-4",
          "IL-4",
          "IL-4",
          "IL-4",
          "IL-4",
          "IL-4",
          "IL-4",
          "IL-4",
          "IL-4",
          "IL-4",
          "IL-4",
          "IL-4",
          "IL-4",
          "IL-4",
          "IL-4",
          "IL-4",
          "IL-4",
          "IL-4",
          "IL-4",
          "IL-4",
          "IL-4",
          "IL-4",
          "IL-4",
          "IL-4",
          "IL-4",
          "IL-4",
          "IL-4",
          "IL-4",
          "IL-4",
          "IL-4",
          "IL-4",
          "IL-4",
          "IL-4",
          "IL-4",
          "IL-4",
          "IL-4",
          "IL-4",
          "IL-4",
          "IL-4",
          "IL-4",
          "IL-4",
          "IL-4",
          "IL-4",
          "IL-4",
          "IL-4",
          "IL-4",
          "IL-4",
          "IL-4",
          "IL-4",
          "IL-4",
          "IL-4",
          "IL-4",
          "IL-4",
          "IL-4",
          "IL-4",
          "IL-4",
          "IL-4",
          "IL-4",
          "IL-4",
          "IL-4",
          "IL-4",
          "IL-4",
          "IL-4",
          "IL-4",
          "IL-4",
          "IL-4",
          "IL-4",
          "IL-4",
          "IL-4",
          "IL-4",
          "IL-4",
          "IL-4",
          "IL-4",
          "IL-4",
          "IL-4",
          "IL-4",
          "IL-4",
          "IL-4",
          "IL-4",
          "IL-4",
          "IL-4",
          "IL-4",
          "IL-4",
          "IL-4",
          "IL-4",
          "IL-4",
          "IL-4",
          "IL-4",
          "IL-4",
          "IL-4",
          "IL-4",
          "IL-4",
          "IL-4",
          "IL-4",
          "IL-4",
          "IL-4",
          "IL-4",
          "IL-4",
          "IL-4",
          "IL-4",
          "IL-4",
          "IL-4",
          "IL-4",
          "IL-4",
          "IL-4",
          "IL-4",
          "IL-4",
          "IL-4",
          "IL-4",
          "IL-4",
          "IL-4",
          "IL-4",
          "IL-4",
          "IL-4",
          "IL-4",
          "IL-4",
          "IL-4",
          "IL-4",
          "IL-4",
          "IL-4",
          "IL-4",
          "IL-4",
          "IL-4",
          "IL-4",
          "IL-4",
          "IL-4",
          "IL-6",
          "IL-6",
          "IL-6",
          "IL-6",
          "IL-6",
          "IL-6",
          "IL-6",
          "IL-6",
          "IL-6",
          "IL-6",
          "IL-6",
          "IL-6",
          "IL-6",
          "IL-6",
          "IL-6",
          "IL-6",
          "IL-6",
          "IL-6",
          "IL-6",
          "IL-6",
          "IL-6",
          "IL-6",
          "IL-6",
          "IL-6",
          "IL-6",
          "IL-6",
          "IL-6",
          "IL-6",
          "IL-6",
          "IL-6",
          "IL-6",
          "IL-6",
          "IL-6",
          "IL-6",
          "IL-6",
          "IL-6",
          "IL-6",
          "IL-6",
          "IL-6",
          "IL-6",
          "IL-6",
          "IL-6",
          "IL-6",
          "IL-6",
          "IL-6",
          "IL-6",
          "IL-6",
          "IL-6",
          "IL-6",
          "IL-6",
          "IL-6",
          "IL-6",
          "IL-6",
          "IL-6",
          "IL-6",
          "IL-6",
          "IL-6",
          "IL-6",
          "IL-6",
          "IL-6",
          "IL-6",
          "IL-6",
          "IL-6",
          "IL-6",
          "IL-6",
          "IL-6",
          "IL-6",
          "IL-6",
          "IL-6",
          "IL-6",
          "IL-6",
          "IL-6",
          "IL-6",
          "IL-6",
          "IL-6",
          "IL-6",
          "IL-6",
          "IL-6",
          "IL-6",
          "IL-6",
          "IL-6",
          "IL-6",
          "IL-6",
          "IL-6",
          "IL-6",
          "IL-6",
          "IL-6",
          "IL-6",
          "IL-6",
          "IL-6",
          "IL-6",
          "IL-6",
          "IL-6",
          "IL-6",
          "IL-6",
          "IL-6",
          "IL-6",
          "IL-6",
          "IL-6",
          "IL-6",
          "IL-6",
          "IL-6",
          "IL-6",
          "IL-6",
          "IL-6",
          "IL-6",
          "IL-6",
          "IL-6",
          "IL-6",
          "IL-6",
          "IL-6",
          "IL-6",
          "IL-6",
          "IL-6",
          "IL-6",
          "IL-6",
          "IL-6",
          "IL-6",
          "IL-6",
          "IL-6",
          "IL-6",
          "IL-6",
          "IL-6",
          "IL-6",
          "IL-6",
          "IL-6",
          "IL-6",
          "IL-6",
          "IL-6",
          "IL-6",
          "IL-6",
          "IL-6",
          "IL-6",
          "IL-6",
          "IL-6",
          "IL-6",
          "IL-8",
          "IL-8",
          "IL-8",
          "IL-8",
          "IL-8",
          "IL-8",
          "IL-8",
          "IL-8",
          "IL-8",
          "IL-8",
          "IL-8",
          "IL-8",
          "IL-8",
          "IL-8",
          "IL-8",
          "IL-8",
          "IL-8",
          "IL-8",
          "IL-8",
          "IL-8",
          "IL-8",
          "IL-8",
          "IL-8",
          "IL-8",
          "IL-8",
          "IL-8",
          "IL-8",
          "IL-8",
          "IL-8",
          "IL-8",
          "IL-8",
          "IL-8",
          "IL-8",
          "IL-8",
          "IL-8",
          "IL-8",
          "IL-8",
          "IL-8",
          "IL-8",
          "IL-8",
          "IL-8",
          "IL-8",
          "IL-8",
          "IL-8",
          "IL-8",
          "IL-8",
          "IL-8",
          "IL-8",
          "IL-8",
          "IL-8",
          "IL-8",
          "IL-8",
          "IL-8",
          "IL-8",
          "IL-8",
          "IL-8",
          "IL-8",
          "IL-8",
          "IL-8",
          "IL-8",
          "IL-8",
          "IL-8",
          "IL-8",
          "IL-8",
          "IL-8",
          "IL-8",
          "IL-8",
          "IL-8",
          "IL-8",
          "IL-8",
          "IL-8",
          "IL-8",
          "IL-8",
          "IL-8",
          "IL-8",
          "IL-8",
          "IL-8",
          "IL-8",
          "IL-8",
          "IL-8",
          "IL-8",
          "IL-8",
          "IL-8",
          "IL-8",
          "IL-8",
          "IL-8",
          "IL-8",
          "IL-8",
          "IL-8",
          "IL-8",
          "IL-8",
          "IL-8",
          "IL-8",
          "IL-8",
          "IL-8",
          "IL-8",
          "IL-8",
          "IL-8",
          "IL-8",
          "IL-8",
          "IL-8",
          "IL-8",
          "IL-8",
          "IL-8",
          "IL-8",
          "IL-8",
          "IL-8",
          "IL-8",
          "IL-8",
          "IL-8",
          "IL-8",
          "IL-8",
          "IL-8",
          "IL-8",
          "IL-8",
          "IL-8",
          "IL-8",
          "IL-8",
          "IL-8",
          "IL-8",
          "IL-8",
          "IL-8",
          "IL-8",
          "IL-8",
          "IL-8",
          "IL-8",
          "IL-8",
          "IL-8",
          "IL-8",
          "IL-8",
          "IL-8",
          "IL-8",
          "IL-8",
          "IL-8",
          "IL-8",
          "IL-8",
          "TNF-�",
          "TNF-�",
          "TNF-�",
          "TNF-�",
          "TNF-�",
          "TNF-�",
          "TNF-�",
          "TNF-�",
          "TNF-�",
          "TNF-�",
          "TNF-�",
          "TNF-�",
          "TNF-�",
          "TNF-�",
          "TNF-�",
          "TNF-�",
          "TNF-�",
          "TNF-�",
          "TNF-�",
          "TNF-�",
          "TNF-�",
          "TNF-�",
          "TNF-�",
          "TNF-�",
          "TNF-�",
          "TNF-�",
          "TNF-�",
          "TNF-�",
          "TNF-�",
          "TNF-�",
          "TNF-�",
          "TNF-�",
          "TNF-�",
          "TNF-�",
          "TNF-�",
          "TNF-�",
          "TNF-�",
          "TNF-�",
          "TNF-�",
          "TNF-�",
          "TNF-�",
          "TNF-�",
          "TNF-�",
          "TNF-�",
          "TNF-�",
          "TNF-�",
          "TNF-�",
          "TNF-�",
          "TNF-�",
          "TNF-�",
          "TNF-�",
          "TNF-�",
          "TNF-�",
          "TNF-�",
          "TNF-�",
          "TNF-�",
          "TNF-�",
          "TNF-�",
          "TNF-�",
          "TNF-�",
          "TNF-�",
          "TNF-�",
          "TNF-�",
          "TNF-�",
          "TNF-�",
          "TNF-�",
          "TNF-�",
          "TNF-�",
          "TNF-�",
          "TNF-�",
          "TNF-�",
          "TNF-�",
          "TNF-�",
          "TNF-�",
          "TNF-�",
          "TNF-�",
          "TNF-�",
          "TNF-�",
          "TNF-�",
          "TNF-�",
          "TNF-�",
          "TNF-�",
          "TNF-�",
          "TNF-�",
          "TNF-�",
          "TNF-�",
          "TNF-�",
          "TNF-�",
          "TNF-�",
          "TNF-�",
          "TNF-�",
          "TNF-�",
          "TNF-�",
          "TNF-�",
          "TNF-�",
          "TNF-�",
          "TNF-�",
          "TNF-�",
          "TNF-�",
          "TNF-�",
          "TNF-�",
          "TNF-�",
          "TNF-�",
          "TNF-�",
          "TNF-�",
          "TNF-�",
          "TNF-�",
          "TNF-�",
          "TNF-�",
          "TNF-�",
          "TNF-�",
          "TNF-�",
          "TNF-�",
          "TNF-�",
          "TNF-�",
          "TNF-�",
          "TNF-�",
          "TNF-�",
          "TNF-�",
          "TNF-�",
          "TNF-�",
          "TNF-�",
          "TNF-�",
          "TNF-�",
          "TNF-�",
          "TNF-�",
          "TNF-�",
          "TNF-�",
          "TNF-�",
          "TNF-�",
          "TNF-�",
          "TNF-�",
          "TNF-�",
          "TNF-�",
          "TNF-�",
          "TNF-�"
         ],
         "y": [
          "53K_CB_F_01ug",
          "53K_CB_F_01ug",
          "53K_CB_F_01ug",
          "63O_CB_F_01ug",
          "63O_CB_F_01ug",
          "63O_CB_F_01ug",
          "68J_CB_F_01ug",
          "68J_CB_F_01ug",
          "68J_CB_F_01ug",
          "53K_PL_F_01ug",
          "63O_PL_F_01ug",
          "68J_PL_F_01ug",
          "21O_PL_F_01ug",
          "21O_PL_F_01ug",
          "53K_PL_F_01ug",
          "53K_PL_F_01ug",
          "57N_PL_F_01ug",
          "57N_PL_F_01ug",
          "63O_PL_F_01ug",
          "63O_PL_F_01ug",
          "67L_PL_F_01ug",
          "67L_PL_F_01ug",
          "68J_PL_F_01ug",
          "68J_PL_F_01ug",
          "53K_CB_S_01ug",
          "53K_CB_S_01ug",
          "53K_CB_S_01ug",
          "63O_CB_S_01ug",
          "63O_CB_S_01ug",
          "63O_CB_S_01ug",
          "68J_CB_S_01ug",
          "68J_CB_S_01ug",
          "68J_CB_S_01ug",
          "53K_PL_S_01ug",
          "53K_PL_S_01ug",
          "53K_PL_S_01ug",
          "63O_PL_S_01ug",
          "63O_PL_S_01ug",
          "63O_PL_S_01ug",
          "68J_PL_S_01ug",
          "68J_PL_S_01ug",
          "68J_PL_S_01ug",
          "53K_CB_F_25ug",
          "53K_CB_F_25ug",
          "53K_CB_F_25ug",
          "68J_CB_F_25ug",
          "68J_CB_F_25ug",
          "68J_CB_F_25ug",
          "57N_CB_F_25ug",
          "57N_CB_F_25ug",
          "57N_CB_F_25ug",
          "53K_PL_F_25ug",
          "68J_PL_F_25ug",
          "21O_PL_F_25ug",
          "21O_PL_F_25ug",
          "53K_PL_F_25ug",
          "53K_PL_F_25ug",
          "57N_PL_F_25ug",
          "57N_PL_F_25ug",
          "57N_PL_F_25ug",
          "63O_PL_F_25ug",
          "63O_PL_F_25ug",
          "67L_PL_F_25ug",
          "67L_PL_F_25ug",
          "68J_PL_F_25ug",
          "68J_PL_F_25ug",
          "53K_CB_S_25ug",
          "53K_CB_S_25ug",
          "53K_CB_S_25ug",
          "68J_CB_S_25ug",
          "68J_CB_S_25ug",
          "68J_CB_S_25ug",
          "57N_CB_S_25ug",
          "57N_CB_S_25ug",
          "57N_CB_S_25ug",
          "53K_PL_S_25ug",
          "53K_PL_S_25ug",
          "53K_PL_S_25ug",
          "68J_PL_S_25ug",
          "68J_PL_S_25ug",
          "68J_PL_S_25ug",
          "57N_PL_S_25ug",
          "57N_PL_S_25ug",
          "57N_PL_S_25ug",
          "53K_CB_F_05ug",
          "53K_CB_F_05ug",
          "53K_CB_F_05ug",
          "63O_CB_F_05ug",
          "63O_CB_F_05ug",
          "63O_CB_F_05ug",
          "68J_CB_F_05ug",
          "68J_CB_F_05ug",
          "68J_CB_F_05ug",
          "57N_CB_F_05ug",
          "57N_CB_F_05ug",
          "57N_CB_F_05ug",
          "53K_PL_F_05ug",
          "63O_PL_F_05ug",
          "68J_PL_F_05ug",
          "21O_PL_F_05ug",
          "21O_PL_F_05ug",
          "53K_PL_F_05ug",
          "53K_PL_F_05ug",
          "57N_PL_F_05ug",
          "57N_PL_F_05ug",
          "57N_PL_F_05ug",
          "63O_PL_F_05ug",
          "63O_PL_F_05ug",
          "67L_PL_F_05ug",
          "67L_PL_F_05ug",
          "68J_PL_F_05ug",
          "68J_PL_F_05ug",
          "53K_CB_S_05ug",
          "53K_CB_S_05ug",
          "53K_CB_S_05ug",
          "63O_CB_S_05ug",
          "63O_CB_S_05ug",
          "63O_CB_S_05ug",
          "68J_CB_S_05ug",
          "68J_CB_S_05ug",
          "68J_CB_S_05ug",
          "57N_CB_S_05ug",
          "57N_CB_S_05ug",
          "57N_CB_S_05ug",
          "53K_PL_S_05ug",
          "53K_PL_S_05ug",
          "53K_PL_S_05ug",
          "63O_PL_S_05ug",
          "63O_PL_S_05ug",
          "63O_PL_S_05ug",
          "68J_PL_S_05ug",
          "68J_PL_S_05ug",
          "68J_PL_S_05ug",
          "57N_PL_S_05ug",
          "57N_PL_S_05ug",
          "57N_PL_S_05ug",
          "53K_CB_F_01ug",
          "53K_CB_F_01ug",
          "53K_CB_F_01ug",
          "63O_CB_F_01ug",
          "63O_CB_F_01ug",
          "63O_CB_F_01ug",
          "68J_CB_F_01ug",
          "68J_CB_F_01ug",
          "68J_CB_F_01ug",
          "53K_PL_F_01ug",
          "63O_PL_F_01ug",
          "68J_PL_F_01ug",
          "21O_PL_F_01ug",
          "21O_PL_F_01ug",
          "53K_PL_F_01ug",
          "53K_PL_F_01ug",
          "57N_PL_F_01ug",
          "57N_PL_F_01ug",
          "63O_PL_F_01ug",
          "63O_PL_F_01ug",
          "67L_PL_F_01ug",
          "67L_PL_F_01ug",
          "68J_PL_F_01ug",
          "68J_PL_F_01ug",
          "53K_CB_S_01ug",
          "53K_CB_S_01ug",
          "53K_CB_S_01ug",
          "63O_CB_S_01ug",
          "63O_CB_S_01ug",
          "63O_CB_S_01ug",
          "68J_CB_S_01ug",
          "68J_CB_S_01ug",
          "68J_CB_S_01ug",
          "53K_PL_S_01ug",
          "53K_PL_S_01ug",
          "53K_PL_S_01ug",
          "63O_PL_S_01ug",
          "63O_PL_S_01ug",
          "63O_PL_S_01ug",
          "68J_PL_S_01ug",
          "68J_PL_S_01ug",
          "68J_PL_S_01ug",
          "53K_CB_F_25ug",
          "53K_CB_F_25ug",
          "53K_CB_F_25ug",
          "68J_CB_F_25ug",
          "68J_CB_F_25ug",
          "68J_CB_F_25ug",
          "57N_CB_F_25ug",
          "57N_CB_F_25ug",
          "57N_CB_F_25ug",
          "53K_PL_F_25ug",
          "68J_PL_F_25ug",
          "21O_PL_F_25ug",
          "21O_PL_F_25ug",
          "53K_PL_F_25ug",
          "53K_PL_F_25ug",
          "57N_PL_F_25ug",
          "57N_PL_F_25ug",
          "57N_PL_F_25ug",
          "63O_PL_F_25ug",
          "63O_PL_F_25ug",
          "67L_PL_F_25ug",
          "67L_PL_F_25ug",
          "68J_PL_F_25ug",
          "68J_PL_F_25ug",
          "53K_CB_S_25ug",
          "53K_CB_S_25ug",
          "53K_CB_S_25ug",
          "68J_CB_S_25ug",
          "68J_CB_S_25ug",
          "68J_CB_S_25ug",
          "57N_CB_S_25ug",
          "57N_CB_S_25ug",
          "57N_CB_S_25ug",
          "53K_PL_S_25ug",
          "53K_PL_S_25ug",
          "53K_PL_S_25ug",
          "68J_PL_S_25ug",
          "68J_PL_S_25ug",
          "68J_PL_S_25ug",
          "57N_PL_S_25ug",
          "57N_PL_S_25ug",
          "57N_PL_S_25ug",
          "53K_CB_F_05ug",
          "53K_CB_F_05ug",
          "53K_CB_F_05ug",
          "63O_CB_F_05ug",
          "63O_CB_F_05ug",
          "63O_CB_F_05ug",
          "68J_CB_F_05ug",
          "68J_CB_F_05ug",
          "68J_CB_F_05ug",
          "57N_CB_F_05ug",
          "57N_CB_F_05ug",
          "57N_CB_F_05ug",
          "53K_PL_F_05ug",
          "63O_PL_F_05ug",
          "68J_PL_F_05ug",
          "21O_PL_F_05ug",
          "21O_PL_F_05ug",
          "53K_PL_F_05ug",
          "53K_PL_F_05ug",
          "57N_PL_F_05ug",
          "57N_PL_F_05ug",
          "57N_PL_F_05ug",
          "63O_PL_F_05ug",
          "63O_PL_F_05ug",
          "67L_PL_F_05ug",
          "67L_PL_F_05ug",
          "68J_PL_F_05ug",
          "68J_PL_F_05ug",
          "53K_CB_S_05ug",
          "53K_CB_S_05ug",
          "53K_CB_S_05ug",
          "63O_CB_S_05ug",
          "63O_CB_S_05ug",
          "63O_CB_S_05ug",
          "68J_CB_S_05ug",
          "68J_CB_S_05ug",
          "68J_CB_S_05ug",
          "57N_CB_S_05ug",
          "57N_CB_S_05ug",
          "57N_CB_S_05ug",
          "53K_PL_S_05ug",
          "53K_PL_S_05ug",
          "53K_PL_S_05ug",
          "63O_PL_S_05ug",
          "63O_PL_S_05ug",
          "63O_PL_S_05ug",
          "68J_PL_S_05ug",
          "68J_PL_S_05ug",
          "68J_PL_S_05ug",
          "57N_PL_S_05ug",
          "57N_PL_S_05ug",
          "57N_PL_S_05ug",
          "53K_CB_F_01ug",
          "53K_CB_F_01ug",
          "53K_CB_F_01ug",
          "63O_CB_F_01ug",
          "63O_CB_F_01ug",
          "63O_CB_F_01ug",
          "68J_CB_F_01ug",
          "68J_CB_F_01ug",
          "68J_CB_F_01ug",
          "53K_PL_F_01ug",
          "63O_PL_F_01ug",
          "68J_PL_F_01ug",
          "21O_PL_F_01ug",
          "21O_PL_F_01ug",
          "53K_PL_F_01ug",
          "53K_PL_F_01ug",
          "57N_PL_F_01ug",
          "57N_PL_F_01ug",
          "63O_PL_F_01ug",
          "63O_PL_F_01ug",
          "67L_PL_F_01ug",
          "67L_PL_F_01ug",
          "68J_PL_F_01ug",
          "68J_PL_F_01ug",
          "53K_CB_S_01ug",
          "53K_CB_S_01ug",
          "53K_CB_S_01ug",
          "63O_CB_S_01ug",
          "63O_CB_S_01ug",
          "63O_CB_S_01ug",
          "68J_CB_S_01ug",
          "68J_CB_S_01ug",
          "68J_CB_S_01ug",
          "53K_PL_S_01ug",
          "53K_PL_S_01ug",
          "53K_PL_S_01ug",
          "63O_PL_S_01ug",
          "63O_PL_S_01ug",
          "63O_PL_S_01ug",
          "68J_PL_S_01ug",
          "68J_PL_S_01ug",
          "68J_PL_S_01ug",
          "53K_CB_F_25ug",
          "53K_CB_F_25ug",
          "53K_CB_F_25ug",
          "68J_CB_F_25ug",
          "68J_CB_F_25ug",
          "68J_CB_F_25ug",
          "57N_CB_F_25ug",
          "57N_CB_F_25ug",
          "57N_CB_F_25ug",
          "53K_PL_F_25ug",
          "68J_PL_F_25ug",
          "21O_PL_F_25ug",
          "21O_PL_F_25ug",
          "53K_PL_F_25ug",
          "53K_PL_F_25ug",
          "57N_PL_F_25ug",
          "57N_PL_F_25ug",
          "57N_PL_F_25ug",
          "63O_PL_F_25ug",
          "63O_PL_F_25ug",
          "67L_PL_F_25ug",
          "67L_PL_F_25ug",
          "68J_PL_F_25ug",
          "68J_PL_F_25ug",
          "53K_CB_S_25ug",
          "53K_CB_S_25ug",
          "53K_CB_S_25ug",
          "68J_CB_S_25ug",
          "68J_CB_S_25ug",
          "68J_CB_S_25ug",
          "57N_CB_S_25ug",
          "57N_CB_S_25ug",
          "57N_CB_S_25ug",
          "53K_PL_S_25ug",
          "53K_PL_S_25ug",
          "53K_PL_S_25ug",
          "68J_PL_S_25ug",
          "68J_PL_S_25ug",
          "68J_PL_S_25ug",
          "57N_PL_S_25ug",
          "57N_PL_S_25ug",
          "57N_PL_S_25ug",
          "53K_CB_F_05ug",
          "53K_CB_F_05ug",
          "53K_CB_F_05ug",
          "63O_CB_F_05ug",
          "63O_CB_F_05ug",
          "63O_CB_F_05ug",
          "68J_CB_F_05ug",
          "68J_CB_F_05ug",
          "68J_CB_F_05ug",
          "57N_CB_F_05ug",
          "57N_CB_F_05ug",
          "57N_CB_F_05ug",
          "53K_PL_F_05ug",
          "63O_PL_F_05ug",
          "68J_PL_F_05ug",
          "21O_PL_F_05ug",
          "21O_PL_F_05ug",
          "53K_PL_F_05ug",
          "53K_PL_F_05ug",
          "57N_PL_F_05ug",
          "57N_PL_F_05ug",
          "57N_PL_F_05ug",
          "63O_PL_F_05ug",
          "63O_PL_F_05ug",
          "67L_PL_F_05ug",
          "67L_PL_F_05ug",
          "68J_PL_F_05ug",
          "68J_PL_F_05ug",
          "53K_CB_S_05ug",
          "53K_CB_S_05ug",
          "53K_CB_S_05ug",
          "63O_CB_S_05ug",
          "63O_CB_S_05ug",
          "63O_CB_S_05ug",
          "68J_CB_S_05ug",
          "68J_CB_S_05ug",
          "68J_CB_S_05ug",
          "57N_CB_S_05ug",
          "57N_CB_S_05ug",
          "57N_CB_S_05ug",
          "53K_PL_S_05ug",
          "53K_PL_S_05ug",
          "53K_PL_S_05ug",
          "63O_PL_S_05ug",
          "63O_PL_S_05ug",
          "63O_PL_S_05ug",
          "68J_PL_S_05ug",
          "68J_PL_S_05ug",
          "68J_PL_S_05ug",
          "57N_PL_S_05ug",
          "57N_PL_S_05ug",
          "57N_PL_S_05ug",
          "53K_CB_F_01ug",
          "53K_CB_F_01ug",
          "53K_CB_F_01ug",
          "63O_CB_F_01ug",
          "63O_CB_F_01ug",
          "63O_CB_F_01ug",
          "68J_CB_F_01ug",
          "68J_CB_F_01ug",
          "68J_CB_F_01ug",
          "53K_PL_F_01ug",
          "63O_PL_F_01ug",
          "68J_PL_F_01ug",
          "21O_PL_F_01ug",
          "21O_PL_F_01ug",
          "53K_PL_F_01ug",
          "53K_PL_F_01ug",
          "57N_PL_F_01ug",
          "57N_PL_F_01ug",
          "63O_PL_F_01ug",
          "63O_PL_F_01ug",
          "67L_PL_F_01ug",
          "67L_PL_F_01ug",
          "68J_PL_F_01ug",
          "68J_PL_F_01ug",
          "53K_CB_S_01ug",
          "53K_CB_S_01ug",
          "53K_CB_S_01ug",
          "63O_CB_S_01ug",
          "63O_CB_S_01ug",
          "63O_CB_S_01ug",
          "68J_CB_S_01ug",
          "68J_CB_S_01ug",
          "68J_CB_S_01ug",
          "53K_PL_S_01ug",
          "53K_PL_S_01ug",
          "53K_PL_S_01ug",
          "63O_PL_S_01ug",
          "63O_PL_S_01ug",
          "63O_PL_S_01ug",
          "68J_PL_S_01ug",
          "68J_PL_S_01ug",
          "68J_PL_S_01ug",
          "53K_CB_F_25ug",
          "53K_CB_F_25ug",
          "53K_CB_F_25ug",
          "68J_CB_F_25ug",
          "68J_CB_F_25ug",
          "68J_CB_F_25ug",
          "57N_CB_F_25ug",
          "57N_CB_F_25ug",
          "57N_CB_F_25ug",
          "53K_PL_F_25ug",
          "68J_PL_F_25ug",
          "21O_PL_F_25ug",
          "21O_PL_F_25ug",
          "53K_PL_F_25ug",
          "53K_PL_F_25ug",
          "57N_PL_F_25ug",
          "57N_PL_F_25ug",
          "57N_PL_F_25ug",
          "63O_PL_F_25ug",
          "63O_PL_F_25ug",
          "67L_PL_F_25ug",
          "67L_PL_F_25ug",
          "68J_PL_F_25ug",
          "68J_PL_F_25ug",
          "53K_CB_S_25ug",
          "53K_CB_S_25ug",
          "53K_CB_S_25ug",
          "68J_CB_S_25ug",
          "68J_CB_S_25ug",
          "68J_CB_S_25ug",
          "57N_CB_S_25ug",
          "57N_CB_S_25ug",
          "57N_CB_S_25ug",
          "53K_PL_S_25ug",
          "53K_PL_S_25ug",
          "53K_PL_S_25ug",
          "68J_PL_S_25ug",
          "68J_PL_S_25ug",
          "68J_PL_S_25ug",
          "57N_PL_S_25ug",
          "57N_PL_S_25ug",
          "57N_PL_S_25ug",
          "53K_CB_F_05ug",
          "53K_CB_F_05ug",
          "53K_CB_F_05ug",
          "63O_CB_F_05ug",
          "63O_CB_F_05ug",
          "63O_CB_F_05ug",
          "68J_CB_F_05ug",
          "68J_CB_F_05ug",
          "68J_CB_F_05ug",
          "57N_CB_F_05ug",
          "57N_CB_F_05ug",
          "57N_CB_F_05ug",
          "53K_PL_F_05ug",
          "63O_PL_F_05ug",
          "68J_PL_F_05ug",
          "21O_PL_F_05ug",
          "21O_PL_F_05ug",
          "53K_PL_F_05ug",
          "53K_PL_F_05ug",
          "57N_PL_F_05ug",
          "57N_PL_F_05ug",
          "57N_PL_F_05ug",
          "63O_PL_F_05ug",
          "63O_PL_F_05ug",
          "67L_PL_F_05ug",
          "67L_PL_F_05ug",
          "68J_PL_F_05ug",
          "68J_PL_F_05ug",
          "53K_CB_S_05ug",
          "53K_CB_S_05ug",
          "53K_CB_S_05ug",
          "63O_CB_S_05ug",
          "63O_CB_S_05ug",
          "63O_CB_S_05ug",
          "68J_CB_S_05ug",
          "68J_CB_S_05ug",
          "68J_CB_S_05ug",
          "57N_CB_S_05ug",
          "57N_CB_S_05ug",
          "57N_CB_S_05ug",
          "53K_PL_S_05ug",
          "53K_PL_S_05ug",
          "53K_PL_S_05ug",
          "63O_PL_S_05ug",
          "63O_PL_S_05ug",
          "63O_PL_S_05ug",
          "68J_PL_S_05ug",
          "68J_PL_S_05ug",
          "68J_PL_S_05ug",
          "57N_PL_S_05ug",
          "57N_PL_S_05ug",
          "57N_PL_S_05ug",
          "53K_CB_F_01ug",
          "53K_CB_F_01ug",
          "53K_CB_F_01ug",
          "63O_CB_F_01ug",
          "63O_CB_F_01ug",
          "63O_CB_F_01ug",
          "68J_CB_F_01ug",
          "68J_CB_F_01ug",
          "68J_CB_F_01ug",
          "53K_PL_F_01ug",
          "63O_PL_F_01ug",
          "68J_PL_F_01ug",
          "21O_PL_F_01ug",
          "21O_PL_F_01ug",
          "53K_PL_F_01ug",
          "53K_PL_F_01ug",
          "57N_PL_F_01ug",
          "57N_PL_F_01ug",
          "63O_PL_F_01ug",
          "63O_PL_F_01ug",
          "67L_PL_F_01ug",
          "67L_PL_F_01ug",
          "68J_PL_F_01ug",
          "68J_PL_F_01ug",
          "53K_CB_S_01ug",
          "53K_CB_S_01ug",
          "53K_CB_S_01ug",
          "63O_CB_S_01ug",
          "63O_CB_S_01ug",
          "63O_CB_S_01ug",
          "68J_CB_S_01ug",
          "68J_CB_S_01ug",
          "68J_CB_S_01ug",
          "53K_PL_S_01ug",
          "53K_PL_S_01ug",
          "53K_PL_S_01ug",
          "63O_PL_S_01ug",
          "63O_PL_S_01ug",
          "63O_PL_S_01ug",
          "68J_PL_S_01ug",
          "68J_PL_S_01ug",
          "68J_PL_S_01ug",
          "53K_CB_F_25ug",
          "53K_CB_F_25ug",
          "53K_CB_F_25ug",
          "68J_CB_F_25ug",
          "68J_CB_F_25ug",
          "68J_CB_F_25ug",
          "57N_CB_F_25ug",
          "57N_CB_F_25ug",
          "57N_CB_F_25ug",
          "53K_PL_F_25ug",
          "68J_PL_F_25ug",
          "21O_PL_F_25ug",
          "21O_PL_F_25ug",
          "53K_PL_F_25ug",
          "53K_PL_F_25ug",
          "57N_PL_F_25ug",
          "57N_PL_F_25ug",
          "57N_PL_F_25ug",
          "63O_PL_F_25ug",
          "63O_PL_F_25ug",
          "67L_PL_F_25ug",
          "67L_PL_F_25ug",
          "68J_PL_F_25ug",
          "68J_PL_F_25ug",
          "53K_CB_S_25ug",
          "53K_CB_S_25ug",
          "53K_CB_S_25ug",
          "68J_CB_S_25ug",
          "68J_CB_S_25ug",
          "68J_CB_S_25ug",
          "57N_CB_S_25ug",
          "57N_CB_S_25ug",
          "57N_CB_S_25ug",
          "53K_PL_S_25ug",
          "53K_PL_S_25ug",
          "53K_PL_S_25ug",
          "68J_PL_S_25ug",
          "68J_PL_S_25ug",
          "68J_PL_S_25ug",
          "57N_PL_S_25ug",
          "57N_PL_S_25ug",
          "57N_PL_S_25ug",
          "53K_CB_F_05ug",
          "53K_CB_F_05ug",
          "53K_CB_F_05ug",
          "63O_CB_F_05ug",
          "63O_CB_F_05ug",
          "63O_CB_F_05ug",
          "68J_CB_F_05ug",
          "68J_CB_F_05ug",
          "68J_CB_F_05ug",
          "57N_CB_F_05ug",
          "57N_CB_F_05ug",
          "57N_CB_F_05ug",
          "53K_PL_F_05ug",
          "63O_PL_F_05ug",
          "68J_PL_F_05ug",
          "21O_PL_F_05ug",
          "21O_PL_F_05ug",
          "53K_PL_F_05ug",
          "53K_PL_F_05ug",
          "57N_PL_F_05ug",
          "57N_PL_F_05ug",
          "57N_PL_F_05ug",
          "63O_PL_F_05ug",
          "63O_PL_F_05ug",
          "67L_PL_F_05ug",
          "67L_PL_F_05ug",
          "68J_PL_F_05ug",
          "68J_PL_F_05ug",
          "53K_CB_S_05ug",
          "53K_CB_S_05ug",
          "53K_CB_S_05ug",
          "63O_CB_S_05ug",
          "63O_CB_S_05ug",
          "63O_CB_S_05ug",
          "68J_CB_S_05ug",
          "68J_CB_S_05ug",
          "68J_CB_S_05ug",
          "57N_CB_S_05ug",
          "57N_CB_S_05ug",
          "57N_CB_S_05ug",
          "53K_PL_S_05ug",
          "53K_PL_S_05ug",
          "53K_PL_S_05ug",
          "63O_PL_S_05ug",
          "63O_PL_S_05ug",
          "63O_PL_S_05ug",
          "68J_PL_S_05ug",
          "68J_PL_S_05ug",
          "68J_PL_S_05ug",
          "57N_PL_S_05ug",
          "57N_PL_S_05ug",
          "57N_PL_S_05ug",
          "53K_CB_F_01ug",
          "53K_CB_F_01ug",
          "53K_CB_F_01ug",
          "63O_CB_F_01ug",
          "63O_CB_F_01ug",
          "63O_CB_F_01ug",
          "68J_CB_F_01ug",
          "68J_CB_F_01ug",
          "68J_CB_F_01ug",
          "53K_PL_F_01ug",
          "63O_PL_F_01ug",
          "68J_PL_F_01ug",
          "21O_PL_F_01ug",
          "21O_PL_F_01ug",
          "53K_PL_F_01ug",
          "53K_PL_F_01ug",
          "57N_PL_F_01ug",
          "57N_PL_F_01ug",
          "63O_PL_F_01ug",
          "63O_PL_F_01ug",
          "67L_PL_F_01ug",
          "67L_PL_F_01ug",
          "68J_PL_F_01ug",
          "68J_PL_F_01ug",
          "53K_CB_S_01ug",
          "53K_CB_S_01ug",
          "53K_CB_S_01ug",
          "63O_CB_S_01ug",
          "63O_CB_S_01ug",
          "63O_CB_S_01ug",
          "68J_CB_S_01ug",
          "68J_CB_S_01ug",
          "68J_CB_S_01ug",
          "53K_PL_S_01ug",
          "53K_PL_S_01ug",
          "53K_PL_S_01ug",
          "63O_PL_S_01ug",
          "63O_PL_S_01ug",
          "63O_PL_S_01ug",
          "68J_PL_S_01ug",
          "68J_PL_S_01ug",
          "68J_PL_S_01ug",
          "53K_CB_F_25ug",
          "53K_CB_F_25ug",
          "53K_CB_F_25ug",
          "68J_CB_F_25ug",
          "68J_CB_F_25ug",
          "68J_CB_F_25ug",
          "57N_CB_F_25ug",
          "57N_CB_F_25ug",
          "57N_CB_F_25ug",
          "53K_PL_F_25ug",
          "68J_PL_F_25ug",
          "21O_PL_F_25ug",
          "21O_PL_F_25ug",
          "53K_PL_F_25ug",
          "53K_PL_F_25ug",
          "57N_PL_F_25ug",
          "57N_PL_F_25ug",
          "57N_PL_F_25ug",
          "63O_PL_F_25ug",
          "63O_PL_F_25ug",
          "67L_PL_F_25ug",
          "67L_PL_F_25ug",
          "68J_PL_F_25ug",
          "68J_PL_F_25ug",
          "53K_CB_S_25ug",
          "53K_CB_S_25ug",
          "53K_CB_S_25ug",
          "68J_CB_S_25ug",
          "68J_CB_S_25ug",
          "68J_CB_S_25ug",
          "57N_CB_S_25ug",
          "57N_CB_S_25ug",
          "57N_CB_S_25ug",
          "53K_PL_S_25ug",
          "53K_PL_S_25ug",
          "53K_PL_S_25ug",
          "68J_PL_S_25ug",
          "68J_PL_S_25ug",
          "68J_PL_S_25ug",
          "57N_PL_S_25ug",
          "57N_PL_S_25ug",
          "57N_PL_S_25ug",
          "53K_CB_F_05ug",
          "53K_CB_F_05ug",
          "53K_CB_F_05ug",
          "63O_CB_F_05ug",
          "63O_CB_F_05ug",
          "63O_CB_F_05ug",
          "68J_CB_F_05ug",
          "68J_CB_F_05ug",
          "68J_CB_F_05ug",
          "57N_CB_F_05ug",
          "57N_CB_F_05ug",
          "57N_CB_F_05ug",
          "53K_PL_F_05ug",
          "63O_PL_F_05ug",
          "68J_PL_F_05ug",
          "21O_PL_F_05ug",
          "21O_PL_F_05ug",
          "53K_PL_F_05ug",
          "53K_PL_F_05ug",
          "57N_PL_F_05ug",
          "57N_PL_F_05ug",
          "57N_PL_F_05ug",
          "63O_PL_F_05ug",
          "63O_PL_F_05ug",
          "67L_PL_F_05ug",
          "67L_PL_F_05ug",
          "68J_PL_F_05ug",
          "68J_PL_F_05ug",
          "53K_CB_S_05ug",
          "53K_CB_S_05ug",
          "53K_CB_S_05ug",
          "63O_CB_S_05ug",
          "63O_CB_S_05ug",
          "63O_CB_S_05ug",
          "68J_CB_S_05ug",
          "68J_CB_S_05ug",
          "68J_CB_S_05ug",
          "57N_CB_S_05ug",
          "57N_CB_S_05ug",
          "57N_CB_S_05ug",
          "53K_PL_S_05ug",
          "53K_PL_S_05ug",
          "53K_PL_S_05ug",
          "63O_PL_S_05ug",
          "63O_PL_S_05ug",
          "63O_PL_S_05ug",
          "68J_PL_S_05ug",
          "68J_PL_S_05ug",
          "68J_PL_S_05ug",
          "57N_PL_S_05ug",
          "57N_PL_S_05ug",
          "57N_PL_S_05ug",
          "53K_CB_F_01ug",
          "53K_CB_F_01ug",
          "53K_CB_F_01ug",
          "63O_CB_F_01ug",
          "63O_CB_F_01ug",
          "63O_CB_F_01ug",
          "68J_CB_F_01ug",
          "68J_CB_F_01ug",
          "68J_CB_F_01ug",
          "53K_PL_F_01ug",
          "63O_PL_F_01ug",
          "68J_PL_F_01ug",
          "21O_PL_F_01ug",
          "21O_PL_F_01ug",
          "53K_PL_F_01ug",
          "53K_PL_F_01ug",
          "57N_PL_F_01ug",
          "57N_PL_F_01ug",
          "63O_PL_F_01ug",
          "63O_PL_F_01ug",
          "67L_PL_F_01ug",
          "67L_PL_F_01ug",
          "68J_PL_F_01ug",
          "68J_PL_F_01ug",
          "53K_CB_S_01ug",
          "53K_CB_S_01ug",
          "53K_CB_S_01ug",
          "63O_CB_S_01ug",
          "63O_CB_S_01ug",
          "63O_CB_S_01ug",
          "68J_CB_S_01ug",
          "68J_CB_S_01ug",
          "68J_CB_S_01ug",
          "53K_PL_S_01ug",
          "53K_PL_S_01ug",
          "53K_PL_S_01ug",
          "63O_PL_S_01ug",
          "63O_PL_S_01ug",
          "63O_PL_S_01ug",
          "68J_PL_S_01ug",
          "68J_PL_S_01ug",
          "68J_PL_S_01ug",
          "53K_CB_F_25ug",
          "53K_CB_F_25ug",
          "53K_CB_F_25ug",
          "68J_CB_F_25ug",
          "68J_CB_F_25ug",
          "68J_CB_F_25ug",
          "57N_CB_F_25ug",
          "57N_CB_F_25ug",
          "57N_CB_F_25ug",
          "53K_PL_F_25ug",
          "68J_PL_F_25ug",
          "21O_PL_F_25ug",
          "21O_PL_F_25ug",
          "53K_PL_F_25ug",
          "53K_PL_F_25ug",
          "57N_PL_F_25ug",
          "57N_PL_F_25ug",
          "57N_PL_F_25ug",
          "63O_PL_F_25ug",
          "63O_PL_F_25ug",
          "67L_PL_F_25ug",
          "67L_PL_F_25ug",
          "68J_PL_F_25ug",
          "68J_PL_F_25ug",
          "53K_CB_S_25ug",
          "53K_CB_S_25ug",
          "53K_CB_S_25ug",
          "68J_CB_S_25ug",
          "68J_CB_S_25ug",
          "68J_CB_S_25ug",
          "57N_CB_S_25ug",
          "57N_CB_S_25ug",
          "57N_CB_S_25ug",
          "53K_PL_S_25ug",
          "53K_PL_S_25ug",
          "53K_PL_S_25ug",
          "68J_PL_S_25ug",
          "68J_PL_S_25ug",
          "68J_PL_S_25ug",
          "57N_PL_S_25ug",
          "57N_PL_S_25ug",
          "57N_PL_S_25ug",
          "53K_CB_F_05ug",
          "53K_CB_F_05ug",
          "53K_CB_F_05ug",
          "63O_CB_F_05ug",
          "63O_CB_F_05ug",
          "63O_CB_F_05ug",
          "68J_CB_F_05ug",
          "68J_CB_F_05ug",
          "68J_CB_F_05ug",
          "57N_CB_F_05ug",
          "57N_CB_F_05ug",
          "57N_CB_F_05ug",
          "53K_PL_F_05ug",
          "63O_PL_F_05ug",
          "68J_PL_F_05ug",
          "21O_PL_F_05ug",
          "21O_PL_F_05ug",
          "53K_PL_F_05ug",
          "53K_PL_F_05ug",
          "57N_PL_F_05ug",
          "57N_PL_F_05ug",
          "57N_PL_F_05ug",
          "63O_PL_F_05ug",
          "63O_PL_F_05ug",
          "67L_PL_F_05ug",
          "67L_PL_F_05ug",
          "68J_PL_F_05ug",
          "68J_PL_F_05ug",
          "53K_CB_S_05ug",
          "53K_CB_S_05ug",
          "53K_CB_S_05ug",
          "63O_CB_S_05ug",
          "63O_CB_S_05ug",
          "63O_CB_S_05ug",
          "68J_CB_S_05ug",
          "68J_CB_S_05ug",
          "68J_CB_S_05ug",
          "57N_CB_S_05ug",
          "57N_CB_S_05ug",
          "57N_CB_S_05ug",
          "53K_PL_S_05ug",
          "53K_PL_S_05ug",
          "53K_PL_S_05ug",
          "63O_PL_S_05ug",
          "63O_PL_S_05ug",
          "63O_PL_S_05ug",
          "68J_PL_S_05ug",
          "68J_PL_S_05ug",
          "68J_PL_S_05ug",
          "57N_PL_S_05ug",
          "57N_PL_S_05ug",
          "57N_PL_S_05ug",
          "53K_CB_F_01ug",
          "53K_CB_F_01ug",
          "53K_CB_F_01ug",
          "63O_CB_F_01ug",
          "63O_CB_F_01ug",
          "63O_CB_F_01ug",
          "68J_CB_F_01ug",
          "68J_CB_F_01ug",
          "68J_CB_F_01ug",
          "53K_PL_F_01ug",
          "63O_PL_F_01ug",
          "68J_PL_F_01ug",
          "21O_PL_F_01ug",
          "21O_PL_F_01ug",
          "53K_PL_F_01ug",
          "53K_PL_F_01ug",
          "57N_PL_F_01ug",
          "57N_PL_F_01ug",
          "63O_PL_F_01ug",
          "63O_PL_F_01ug",
          "67L_PL_F_01ug",
          "67L_PL_F_01ug",
          "68J_PL_F_01ug",
          "68J_PL_F_01ug",
          "53K_CB_S_01ug",
          "53K_CB_S_01ug",
          "53K_CB_S_01ug",
          "63O_CB_S_01ug",
          "63O_CB_S_01ug",
          "63O_CB_S_01ug",
          "68J_CB_S_01ug",
          "68J_CB_S_01ug",
          "68J_CB_S_01ug",
          "53K_PL_S_01ug",
          "53K_PL_S_01ug",
          "53K_PL_S_01ug",
          "63O_PL_S_01ug",
          "63O_PL_S_01ug",
          "63O_PL_S_01ug",
          "68J_PL_S_01ug",
          "68J_PL_S_01ug",
          "68J_PL_S_01ug",
          "53K_CB_F_25ug",
          "53K_CB_F_25ug",
          "53K_CB_F_25ug",
          "68J_CB_F_25ug",
          "68J_CB_F_25ug",
          "68J_CB_F_25ug",
          "57N_CB_F_25ug",
          "57N_CB_F_25ug",
          "57N_CB_F_25ug",
          "53K_PL_F_25ug",
          "68J_PL_F_25ug",
          "21O_PL_F_25ug",
          "21O_PL_F_25ug",
          "53K_PL_F_25ug",
          "53K_PL_F_25ug",
          "57N_PL_F_25ug",
          "57N_PL_F_25ug",
          "57N_PL_F_25ug",
          "63O_PL_F_25ug",
          "63O_PL_F_25ug",
          "67L_PL_F_25ug",
          "67L_PL_F_25ug",
          "68J_PL_F_25ug",
          "68J_PL_F_25ug",
          "53K_CB_S_25ug",
          "53K_CB_S_25ug",
          "53K_CB_S_25ug",
          "68J_CB_S_25ug",
          "68J_CB_S_25ug",
          "68J_CB_S_25ug",
          "57N_CB_S_25ug",
          "57N_CB_S_25ug",
          "57N_CB_S_25ug",
          "53K_PL_S_25ug",
          "53K_PL_S_25ug",
          "53K_PL_S_25ug",
          "68J_PL_S_25ug",
          "68J_PL_S_25ug",
          "68J_PL_S_25ug",
          "57N_PL_S_25ug",
          "57N_PL_S_25ug",
          "57N_PL_S_25ug",
          "53K_CB_F_05ug",
          "53K_CB_F_05ug",
          "53K_CB_F_05ug",
          "63O_CB_F_05ug",
          "63O_CB_F_05ug",
          "63O_CB_F_05ug",
          "68J_CB_F_05ug",
          "68J_CB_F_05ug",
          "68J_CB_F_05ug",
          "57N_CB_F_05ug",
          "57N_CB_F_05ug",
          "57N_CB_F_05ug",
          "53K_PL_F_05ug",
          "63O_PL_F_05ug",
          "68J_PL_F_05ug",
          "21O_PL_F_05ug",
          "21O_PL_F_05ug",
          "53K_PL_F_05ug",
          "53K_PL_F_05ug",
          "57N_PL_F_05ug",
          "57N_PL_F_05ug",
          "57N_PL_F_05ug",
          "63O_PL_F_05ug",
          "63O_PL_F_05ug",
          "67L_PL_F_05ug",
          "67L_PL_F_05ug",
          "68J_PL_F_05ug",
          "68J_PL_F_05ug",
          "53K_CB_S_05ug",
          "53K_CB_S_05ug",
          "53K_CB_S_05ug",
          "63O_CB_S_05ug",
          "63O_CB_S_05ug",
          "63O_CB_S_05ug",
          "68J_CB_S_05ug",
          "68J_CB_S_05ug",
          "68J_CB_S_05ug",
          "57N_CB_S_05ug",
          "57N_CB_S_05ug",
          "57N_CB_S_05ug",
          "53K_PL_S_05ug",
          "53K_PL_S_05ug",
          "53K_PL_S_05ug",
          "63O_PL_S_05ug",
          "63O_PL_S_05ug",
          "63O_PL_S_05ug",
          "68J_PL_S_05ug",
          "68J_PL_S_05ug",
          "68J_PL_S_05ug",
          "57N_PL_S_05ug",
          "57N_PL_S_05ug",
          "57N_PL_S_05ug",
          "53K_CB_F_01ug",
          "53K_CB_F_01ug",
          "53K_CB_F_01ug",
          "63O_CB_F_01ug",
          "63O_CB_F_01ug",
          "63O_CB_F_01ug",
          "68J_CB_F_01ug",
          "68J_CB_F_01ug",
          "68J_CB_F_01ug",
          "53K_PL_F_01ug",
          "63O_PL_F_01ug",
          "68J_PL_F_01ug",
          "21O_PL_F_01ug",
          "21O_PL_F_01ug",
          "53K_PL_F_01ug",
          "53K_PL_F_01ug",
          "57N_PL_F_01ug",
          "57N_PL_F_01ug",
          "63O_PL_F_01ug",
          "63O_PL_F_01ug",
          "67L_PL_F_01ug",
          "67L_PL_F_01ug",
          "68J_PL_F_01ug",
          "68J_PL_F_01ug",
          "53K_CB_S_01ug",
          "53K_CB_S_01ug",
          "53K_CB_S_01ug",
          "63O_CB_S_01ug",
          "63O_CB_S_01ug",
          "63O_CB_S_01ug",
          "68J_CB_S_01ug",
          "68J_CB_S_01ug",
          "68J_CB_S_01ug",
          "53K_PL_S_01ug",
          "53K_PL_S_01ug",
          "53K_PL_S_01ug",
          "63O_PL_S_01ug",
          "63O_PL_S_01ug",
          "63O_PL_S_01ug",
          "68J_PL_S_01ug",
          "68J_PL_S_01ug",
          "68J_PL_S_01ug",
          "53K_CB_F_25ug",
          "53K_CB_F_25ug",
          "53K_CB_F_25ug",
          "68J_CB_F_25ug",
          "68J_CB_F_25ug",
          "68J_CB_F_25ug",
          "57N_CB_F_25ug",
          "57N_CB_F_25ug",
          "57N_CB_F_25ug",
          "53K_PL_F_25ug",
          "68J_PL_F_25ug",
          "21O_PL_F_25ug",
          "21O_PL_F_25ug",
          "53K_PL_F_25ug",
          "53K_PL_F_25ug",
          "57N_PL_F_25ug",
          "57N_PL_F_25ug",
          "57N_PL_F_25ug",
          "63O_PL_F_25ug",
          "63O_PL_F_25ug",
          "67L_PL_F_25ug",
          "67L_PL_F_25ug",
          "68J_PL_F_25ug",
          "68J_PL_F_25ug",
          "53K_CB_S_25ug",
          "53K_CB_S_25ug",
          "53K_CB_S_25ug",
          "68J_CB_S_25ug",
          "68J_CB_S_25ug",
          "68J_CB_S_25ug",
          "57N_CB_S_25ug",
          "57N_CB_S_25ug",
          "57N_CB_S_25ug",
          "53K_PL_S_25ug",
          "53K_PL_S_25ug",
          "53K_PL_S_25ug",
          "68J_PL_S_25ug",
          "68J_PL_S_25ug",
          "68J_PL_S_25ug",
          "57N_PL_S_25ug",
          "57N_PL_S_25ug",
          "57N_PL_S_25ug",
          "53K_CB_F_05ug",
          "53K_CB_F_05ug",
          "53K_CB_F_05ug",
          "63O_CB_F_05ug",
          "63O_CB_F_05ug",
          "63O_CB_F_05ug",
          "68J_CB_F_05ug",
          "68J_CB_F_05ug",
          "68J_CB_F_05ug",
          "57N_CB_F_05ug",
          "57N_CB_F_05ug",
          "57N_CB_F_05ug",
          "53K_PL_F_05ug",
          "63O_PL_F_05ug",
          "68J_PL_F_05ug",
          "21O_PL_F_05ug",
          "21O_PL_F_05ug",
          "53K_PL_F_05ug",
          "53K_PL_F_05ug",
          "57N_PL_F_05ug",
          "57N_PL_F_05ug",
          "57N_PL_F_05ug",
          "63O_PL_F_05ug",
          "63O_PL_F_05ug",
          "67L_PL_F_05ug",
          "67L_PL_F_05ug",
          "68J_PL_F_05ug",
          "68J_PL_F_05ug",
          "53K_CB_S_05ug",
          "53K_CB_S_05ug",
          "53K_CB_S_05ug",
          "63O_CB_S_05ug",
          "63O_CB_S_05ug",
          "63O_CB_S_05ug",
          "68J_CB_S_05ug",
          "68J_CB_S_05ug",
          "68J_CB_S_05ug",
          "57N_CB_S_05ug",
          "57N_CB_S_05ug",
          "57N_CB_S_05ug",
          "53K_PL_S_05ug",
          "53K_PL_S_05ug",
          "53K_PL_S_05ug",
          "63O_PL_S_05ug",
          "63O_PL_S_05ug",
          "63O_PL_S_05ug",
          "68J_PL_S_05ug",
          "68J_PL_S_05ug",
          "68J_PL_S_05ug",
          "57N_PL_S_05ug",
          "57N_PL_S_05ug",
          "57N_PL_S_05ug",
          "53K_CB_F_01ug",
          "53K_CB_F_01ug",
          "53K_CB_F_01ug",
          "63O_CB_F_01ug",
          "63O_CB_F_01ug",
          "63O_CB_F_01ug",
          "68J_CB_F_01ug",
          "68J_CB_F_01ug",
          "68J_CB_F_01ug",
          "53K_PL_F_01ug",
          "63O_PL_F_01ug",
          "68J_PL_F_01ug",
          "21O_PL_F_01ug",
          "21O_PL_F_01ug",
          "53K_PL_F_01ug",
          "53K_PL_F_01ug",
          "57N_PL_F_01ug",
          "57N_PL_F_01ug",
          "63O_PL_F_01ug",
          "63O_PL_F_01ug",
          "67L_PL_F_01ug",
          "67L_PL_F_01ug",
          "68J_PL_F_01ug",
          "68J_PL_F_01ug",
          "53K_CB_S_01ug",
          "53K_CB_S_01ug",
          "53K_CB_S_01ug",
          "63O_CB_S_01ug",
          "63O_CB_S_01ug",
          "63O_CB_S_01ug",
          "68J_CB_S_01ug",
          "68J_CB_S_01ug",
          "68J_CB_S_01ug",
          "53K_PL_S_01ug",
          "53K_PL_S_01ug",
          "53K_PL_S_01ug",
          "63O_PL_S_01ug",
          "63O_PL_S_01ug",
          "63O_PL_S_01ug",
          "68J_PL_S_01ug",
          "68J_PL_S_01ug",
          "68J_PL_S_01ug",
          "53K_CB_F_25ug",
          "53K_CB_F_25ug",
          "53K_CB_F_25ug",
          "68J_CB_F_25ug",
          "68J_CB_F_25ug",
          "68J_CB_F_25ug",
          "57N_CB_F_25ug",
          "57N_CB_F_25ug",
          "57N_CB_F_25ug",
          "53K_PL_F_25ug",
          "68J_PL_F_25ug",
          "21O_PL_F_25ug",
          "21O_PL_F_25ug",
          "53K_PL_F_25ug",
          "53K_PL_F_25ug",
          "57N_PL_F_25ug",
          "57N_PL_F_25ug",
          "57N_PL_F_25ug",
          "63O_PL_F_25ug",
          "63O_PL_F_25ug",
          "67L_PL_F_25ug",
          "67L_PL_F_25ug",
          "68J_PL_F_25ug",
          "68J_PL_F_25ug",
          "53K_CB_S_25ug",
          "53K_CB_S_25ug",
          "53K_CB_S_25ug",
          "68J_CB_S_25ug",
          "68J_CB_S_25ug",
          "68J_CB_S_25ug",
          "57N_CB_S_25ug",
          "57N_CB_S_25ug",
          "57N_CB_S_25ug",
          "53K_PL_S_25ug",
          "53K_PL_S_25ug",
          "53K_PL_S_25ug",
          "68J_PL_S_25ug",
          "68J_PL_S_25ug",
          "68J_PL_S_25ug",
          "57N_PL_S_25ug",
          "57N_PL_S_25ug",
          "57N_PL_S_25ug",
          "53K_CB_F_05ug",
          "53K_CB_F_05ug",
          "53K_CB_F_05ug",
          "63O_CB_F_05ug",
          "63O_CB_F_05ug",
          "63O_CB_F_05ug",
          "68J_CB_F_05ug",
          "68J_CB_F_05ug",
          "68J_CB_F_05ug",
          "57N_CB_F_05ug",
          "57N_CB_F_05ug",
          "57N_CB_F_05ug",
          "53K_PL_F_05ug",
          "63O_PL_F_05ug",
          "68J_PL_F_05ug",
          "21O_PL_F_05ug",
          "21O_PL_F_05ug",
          "53K_PL_F_05ug",
          "53K_PL_F_05ug",
          "57N_PL_F_05ug",
          "57N_PL_F_05ug",
          "57N_PL_F_05ug",
          "63O_PL_F_05ug",
          "63O_PL_F_05ug",
          "67L_PL_F_05ug",
          "67L_PL_F_05ug",
          "68J_PL_F_05ug",
          "68J_PL_F_05ug",
          "53K_CB_S_05ug",
          "53K_CB_S_05ug",
          "53K_CB_S_05ug",
          "63O_CB_S_05ug",
          "63O_CB_S_05ug",
          "63O_CB_S_05ug",
          "68J_CB_S_05ug",
          "68J_CB_S_05ug",
          "68J_CB_S_05ug",
          "57N_CB_S_05ug",
          "57N_CB_S_05ug",
          "57N_CB_S_05ug",
          "53K_PL_S_05ug",
          "53K_PL_S_05ug",
          "53K_PL_S_05ug",
          "63O_PL_S_05ug",
          "63O_PL_S_05ug",
          "63O_PL_S_05ug",
          "68J_PL_S_05ug",
          "68J_PL_S_05ug",
          "68J_PL_S_05ug",
          "57N_PL_S_05ug",
          "57N_PL_S_05ug",
          "57N_PL_S_05ug"
         ],
         "z": [
          0.08656775,
          0,
          0.256362446,
          1.825374766,
          2.02573607,
          2.143486684,
          0.268424628,
          0.472690295,
          0.280480505,
          0,
          1.352866222,
          0.316612973,
          0.585877961,
          0.123916165,
          0,
          0,
          0.798540762,
          2.030223484,
          2.249092345,
          2.647592302,
          1.365561626,
          0.817716613,
          0,
          0,
          0.352697432,
          0.340674279,
          0.854598653,
          2.049292406,
          2.555047973,
          2.190565676,
          0.484668415,
          0.400743935,
          0.412744764,
          0.08656775,
          0,
          0,
          1.896118318,
          1.99039559,
          1.601136902,
          0.340674279,
          0.400743935,
          0.292530356,
          0.830799441,
          0.19594515,
          0.074338397,
          0.902174181,
          0.232217922,
          0.292530356,
          2.845658675,
          2.575381623,
          2.303634378,
          0,
          0,
          0,
          0,
          0,
          0,
          2.521155323,
          1.178218991,
          2.521155323,
          1.272067962,
          2.39439112,
          1.718027052,
          1.346889974,
          0,
          0,
          0.878390162,
          0,
          0.376729599,
          0.54450902,
          0.110968603,
          0.364715818,
          1.938675641,
          1.69957612,
          1.773319176,
          0,
          0.012682205,
          0.098776966,
          0.304574434,
          0.316612973,
          0.049804174,
          1.178218991,
          1.008291433,
          0.989323515,
          0.532547301,
          0.232217922,
          0.268424628,
          2.331733203,
          1.317357812,
          1.825374766,
          0.049804174,
          0,
          0.062085482,
          2.303634378,
          0.388998606,
          1.328204991,
          0.012682205,
          1.341031303,
          0,
          0,
          0,
          0,
          0,
          0.624804502,
          0.855999545,
          0.527234262,
          1.718027052,
          1.197018642,
          0.663606538,
          0.329014494,
          0,
          0,
          0.663968389,
          0.220134876,
          0.074338397,
          2.860273375,
          2.602032072,
          2.343492603,
          0.484668415,
          0.340674279,
          0.424741535,
          2.665629042,
          1.810131192,
          2.629549239,
          0.025121943,
          0.159593627,
          0,
          1.400193978,
          3.012741803,
          1.931478531,
          0.13530667,
          4.46961e-05,
          0,
          1.644160943,
          1.681114876,
          1.570123612,
          0.211510569,
          0.321446017,
          0.171989123,
          0.908055171,
          1.047137402,
          2.041139983,
          0.587226252,
          0.310884722,
          0.26753999,
          0.400263268,
          0.759835589,
          0.173149248,
          0.251462545,
          0.179826934,
          0.234564828,
          0.472839698,
          1.661266926,
          4.884849573,
          3.309726873,
          4.759110136,
          1.449248881,
          0.223313231,
          0.149091928,
          0.050976652,
          0.273390066,
          0.51251725,
          0.278071835,
          1.169731022,
          1.729047185,
          3.067249742,
          0.051296511,
          0.062657703,
          62.08644159,
          0.248836261,
          0.279242511,
          0.439196403,
          1.999794153,
          1.063948276,
          1.323923932,
          0.148818999,
          0.203361442,
          0.474647362,
          0.530287357,
          0.250004485,
          0.265200634,
          0.977548653,
          0.248836261,
          0.28041328,
          3.918253618,
          3.161281752,
          3.748427179,
          0.238326963,
          0.184758413,
          1.274261315,
          0.31077689,
          0.904134554,
          1.923761226,
          3.254785709,
          2.384485912,
          4.135974899,
          0.600182998,
          0.55432669,
          1.536908431,
          2.552767647,
          0.107393032,
          0.199442317,
          0.567047805,
          0.245332211,
          0.527917346,
          0.274560367,
          0.159237716,
          107.8805003,
          1.01127246,
          1.453629337,
          1.093956944,
          0.303847618,
          0.210346039,
          0.126870296,
          0.183596862,
          0.10269515,
          0.397905926,
          1.282999572,
          0.888229976,
          1.336912048,
          0.175469936,
          0.245332211,
          0.433293079,
          1.416851517,
          0.577728838,
          0.924820386,
          0.665687802,
          0.255847147,
          0.342588141,
          4.582594743,
          1.972237583,
          4.613998187,
          0.182435449,
          0.587226252,
          0.149975972,
          0.438611768,
          0.240194752,
          1.256788475,
          0.590145663,
          1.988401839,
          9.762653323,
          2.085443374,
          2.421369409,
          2.082501335,
          3.125676213,
          1.089601866,
          0.172831669,
          0.089418691,
          0.192893085,
          0.234825792,
          0.19870755,
          1.857646565,
          1.706015762,
          0.899674785,
          0.125716982,
          0.158079429,
          0.170829146,
          0.964912684,
          0.431487616,
          1.089601866,
          0.136103782,
          0.139569431,
          0.113044098,
          1.048338007,
          1.086771215,
          1.120421828,
          0.155763338,
          0.117649471,
          0.321446017,
          0.441462087,
          1.804881362,
          1.345658844,
          0,
          0.050170952,
          0.039268527,
          1.685784597,
          1.321596019,
          2.20091642,
          0.009397477,
          0,
          0.124019181,
          0.421238745,
          1.557840553,
          0.091154704,
          0.08001951,
          0.164681172,
          0,
          0.259835035,
          1.767245566,
          6.352730985,
          0.782244328,
          0.760573071,
          0.829178351,
          0.86526332,
          0,
          0,
          0.104841459,
          0.192630927,
          0.187136242,
          0.777906338,
          1.182745498,
          1.746996799,
          0.093891204,
          0.088418655,
          0.181642449,
          0.143213277,
          0.173403487,
          1.088382229,
          0.716997261,
          1.066186025,
          2.493646449,
          0.132243357,
          0.192630927,
          0.189883475,
          0.01480983,
          0,
          0,
          0.523407551,
          0,
          0.074745669,
          1.016663481,
          0.492715177,
          0.897726951,
          0.526170548,
          0.033823269,
          0.278088093,
          0.912151454,
          0.124266987,
          0.449156592,
          1.570094879,
          0.868870981,
          1.473225843,
          0.456419221,
          1.66690604,
          4.217078386,
          2.618200106,
          0.072623381,
          0.350985413,
          0.517881805,
          0.429517898,
          0.559332828,
          0.140470349,
          0.178895894,
          0.310945396,
          0.485458217,
          0.662973035,
          0.430994768,
          0.044717922,
          0.001319686,
          0.004003103,
          0.622924679,
          0.055627227,
          0.228366512,
          0.441892773,
          0.53985977,
          0.623169757,
          0.031102389,
          0.67825233,
          0.27514399,
          1.894516739,
          1.149435499,
          2.393255238,
          0.050170952,
          0,
          0.036545344,
          0.615930095,
          0.175684388,
          0.391010914,
          0.553804986,
          0.335744646,
          0,
          0.430994768,
          0.372822939,
          0.091100715,
          0.054097027,
          0.358266083,
          0.358266083,
          2.039328994,
          0.383736779,
          0.713597213,
          1.92123301,
          1.200208651,
          0.14999839,
          0,
          0.088418655,
          0.091154704,
          0.085683069,
          0.606331764,
          1.0606374,
          1.118906386,
          0.162421583,
          0.001319686,
          0.082947961,
          0.623169757,
          0.369184276,
          0.775021251,
          0,
          0.004003103,
          0,
          1.093931701,
          1.38827614,
          0.991294363,
          0,
          0,
          0.009397477,
          0.376461242,
          0.423727883,
          0.684673697,
          6.5851691,
          15.13117801,
          15.60925246,
          33.75571506,
          29.08849335,
          43.79606769,
          13.77321877,
          15.96999848,
          14.0206441,
          28.23179398,
          42.92539551,
          20.48793331,
          16.19484514,
          26.71233936,
          21.98616084,
          26.59384166,
          34.76577172,
          37.7833129,
          49.92366415,
          48.42461743,
          29.93073568,
          30.17102155,
          15.70825455,
          19.44752335,
          2.242720911,
          11.68285561,
          12.34772148,
          18.32511372,
          26.48850842,
          36.9171494,
          0,
          0,
          2.501764598,
          6.017179727,
          22.44832428,
          27.47112609,
          20.37503525,
          37.26051887,
          45.09013788,
          8.448780902,
          16.08924293,
          25.01420322,
          14.66544588,
          8.191197067,
          14.22322204,
          37.11714126,
          22.82572669,
          20.21813912,
          56.39499162,
          61.15897093,
          76.43350817,
          17.76686175,
          16.6004136,
          22.08296617,
          27.38493555,
          21.82829378,
          32.87454431,
          60.4343472,
          44.60987618,
          60.00099872,
          40.3267821,
          33.92593003,
          32.20690935,
          37.36389376,
          13.49759211,
          22.08296617,
          12.80261768,
          14.85271181,
          17.32267161,
          5.471940368,
          5.381173747,
          19.33381459,
          50.91773435,
          55.61299471,
          50.2758701,
          2.639371192,
          5.103581041,
          2.903312165,
          14.7488383,
          3.275982845,
          17.37022486,
          41.57890206,
          51.48259206,
          54.22475426,
          2.877531693,
          21.4298298,
          21.84205889,
          48.03160635,
          31.03080535,
          36.42083758,
          33.24722437,
          14.28686118,
          11.706537,
          56.28563396,
          40.01636134,
          61.06786276,
          20.78158798,
          9.047203225,
          13.12686767,
          19.15886685,
          22.52736418,
          19.78532057,
          26.31246524,
          50.17329805,
          37.61763314,
          40.13398944,
          52.3586508,
          41.1751245,
          26.49664869,
          26.51826591,
          18.28996907,
          13.33364984,
          5.597624489,
          9.42526204,
          8.176755126,
          16.74624431,
          22.16709867,
          27.02693571,
          1.66506294,
          1.557973402,
          7.450561665,
          53.2047078,
          40.41043042,
          49.62162598,
          2.693302472,
          5.103581041,
          4.797890389,
          33.53171212,
          38.37230373,
          37.43465582,
          6.601457119,
          2.825580402,
          10.08025271,
          43.43534322,
          35.87271697,
          35.84574757,
          2.156076756,
          1.731622009,
          1.314620733,
          4.097886695,
          5.269672819,
          5.263529857,
          2.012536982,
          1.426220442,
          0.761639678,
          2.365884044,
          4.623520907,
          1.101252568,
          2.476533639,
          3.990550929,
          1.306609863,
          2.360014043,
          5.738684535,
          9.243874539,
          8.103652386,
          8.295720022,
          5.954740415,
          5.016289461,
          1.623982473,
          2.675676224,
          1.073050797,
          1.514524089,
          2.506994573,
          4.242792591,
          5.864386472,
          5.375334246,
          0.039849431,
          0.153763039,
          0.889138687,
          1.540280133,
          1.907035756,
          2.687384525,
          6.455559779,
          4.605097132,
          5.693575464,
          0.895268731,
          1.589340269,
          1.908262482,
          3.632530866,
          1.415182792,
          1.491221316,
          4.657912343,
          1.70463671,
          1.285189036,
          9.579219492,
          7.896512901,
          9.068658113,
          1.65434696,
          0.907528896,
          2.253577277,
          3.14766145,
          2.216397333,
          3.258812083,
          7.709381868,
          5.777211224,
          9.71266559,
          5.524233459,
          7.704368931,
          5.465581909,
          7.37178432,
          1.308308971,
          3.348043202,
          3.072758466,
          1.7132229,
          1.941384368,
          1.8518339,
          1.623683142,
          1.465465971,
          7.799610256,
          9.148760204,
          7.380142189,
          1.658026652,
          1.709543099,
          1.312168072,
          1.207933248,
          1.190765777,
          1.596699402,
          6.204209264,
          7.141076179,
          6.933720848,
          1.077955418,
          1.60037898,
          1.422541217,
          6.147050046,
          4.664053724,
          4.591586456,
          3.950534168,
          1.27783119,
          1.303583788,
          8.207206304,
          3.886339914,
          7.59240646,
          1.444616676,
          4.639488296,
          1.135585823,
          2.577811338,
          3.228501914,
          1.610418819,
          3.012882918,
          5.292946364,
          5.733659149,
          6.197513254,
          6.297946952,
          6.302968276,
          4.39707502,
          4.853585542,
          1.801903401,
          1.501867284,
          0.972509446,
          0.764091473,
          0.971283373,
          5.699719533,
          5.707092438,
          4.718098576,
          1.009292117,
          1.112288178,
          1.174824712,
          6.503793655,
          5.738684535,
          7.503829676,
          1.088990868,
          1.05956317,
          0.934501615,
          4.008246108,
          5.567011134,
          7.007533427,
          0.815580168,
          1.064467748,
          2.136446776,
          5.482340056,
          5.230919579,
          6.220949019,
          1.089479577,
          0.602215898,
          0.94652791,
          2.362231523,
          2.064008374,
          3.968921702,
          0.510002476,
          0.260136659,
          0.42111411,
          0.684115323,
          1.636581352,
          0.249844995,
          0.58043271,
          0.738164682,
          0.587269492,
          0.748484233,
          5.021824936,
          5.336532484,
          6.22892147,
          6.756514573,
          3.174183486,
          1.723713776,
          0.339298733,
          0.201949736,
          0.311561668,
          0.506585436,
          1.007806837,
          2.71779779,
          3.509337224,
          3.076493578,
          0,
          0.036303574,
          0.455313515,
          0.527085738,
          0.554412432,
          0.939717782,
          2.399494322,
          2.419818148,
          2.738107875,
          0.249844995,
          0.670469482,
          0.544165842,
          1.850363389,
          0.115779664,
          0.646585441,
          2.575603728,
          0.064007911,
          0.619283237,
          8.682545723,
          2.910168569,
          5.775025046,
          0.256706369,
          0.239550898,
          3.89047865,
          0.844971819,
          1.149962702,
          1.502612311,
          3.081354071,
          3.052805651,
          8.946609229,
          1.734261574,
          1.499109247,
          6.829371881,
          3.524696571,
          0.295556842,
          0.903695509,
          1.802868708,
          0.544165842,
          1.157513724,
          0.704581194,
          0.414272364,
          80.45855743,
          2.419517767,
          3.499628817,
          1.846873015,
          0.38347635,
          0.800045469,
          0.646585441,
          0.342392748,
          0.496333522,
          0.400586923,
          2.023181714,
          5.742379329,
          2.019651514,
          0.581731449,
          0.273855262,
          0.830716302,
          3.908111289,
          1.167716873,
          2.680560488,
          1.619608124,
          0.414272364,
          0.615869986,
          5.068818483,
          8.766877011,
          3.818683612,
          0.386898808,
          1.426040489,
          0.314988177,
          0.478145621,
          0.927905008,
          3.937163886,
          0.703793458,
          2.143301829,
          6.428911723,
          4.455218562,
          2.771271648,
          2.497577139,
          3.43876942,
          2.217581579,
          0.413649801,
          0.096422345,
          0.540750069,
          0.177728506,
          0.585145806,
          3.772959001,
          4.016215287,
          4.201983442,
          0.516836167,
          0.386898808,
          0.704581194,
          1.716682839,
          1.139527023,
          3.43519032,
          0.198347899,
          0.561242891,
          0.225821465,
          1.32750346,
          3.827022942,
          2.785494903,
          0.318414472,
          0.520252818,
          0.878413825,
          1.303290955,
          2.398240084,
          2.458539423,
          0.00719332,
          0.009042995,
          0.012148819,
          1.011741356,
          0.400570088,
          0.448122012,
          0.004142389,
          0.018424132,
          0.02730975,
          0.020952639,
          0.254877763,
          0.009662046,
          0.024024481,
          0.059919399,
          0.010252971,
          0.026807517,
          0.084186062,
          0.560541238,
          0.203896456,
          0.452700166,
          0.18926352,
          0.152080748,
          0.016415051,
          0.008217031,
          0.031144853,
          0.076623288,
          0.141599255,
          0.361407182,
          1.023044027,
          0.812454834,
          0.015905367,
          0.009662046,
          0.074653754,
          0.036922092,
          0.014023548,
          0.115611516,
          0.383379422,
          0.936248623,
          1.168160962,
          0.045311327,
          0.026034642,
          0.028586534,
          0.040788043,
          0.009042995,
          0,
          0.133587455,
          0.029225532,
          0,
          0.440008106,
          0.233238442,
          0.390076925,
          0.014023548,
          0.015905367,
          0.019173791,
          0.023329923,
          0.002203575,
          0.031694592,
          0.270043308,
          0.119456941,
          0.39230942,
          0.141910695,
          0.275206282,
          0.128861412,
          0.233973209,
          0.004186411,
          0.021249357,
          0.248086948,
          0.153640713,
          0.241301364,
          0.002937789,
          0.040142974,
          0.08912876,
          0.30401401,
          0.450459745,
          0.258988038,
          0.005967432,
          0.002340392,
          0.011525655,
          0.078594246,
          0,
          0.068099398,
          0.232503733,
          0.211222754,
          0.282586091,
          0.022854731,
          0.142267491,
          0.018424132,
          0.450883169,
          0.197332927,
          0.317577829,
          0.013397806,
          0.010903437,
          0.015905367,
          0.332889287,
          0.06703522,
          0.284800966,
          0.08451534,
          0.187896918,
          0.012772883,
          0.001551016,
          0.043636227,
          0.017793107,
          0.031694592,
          0.114400442,
          0.146993558,
          0.202431967,
          0.092076891,
          0.192187946,
          0.081321087,
          0.121625638,
          0.004186411,
          0.031694592,
          0.055696383,
          0.062868588,
          0.059605474,
          0.346322954,
          0.992676233,
          0.576982434,
          0.018424132,
          0.017793477,
          0.038853715,
          0.158627563,
          0.16445255,
          0.314372034,
          0.005357054,
          0.004748628,
          0.009662046,
          0.165037694,
          0.822283533,
          0.43915158,
          0,
          0.010903437,
          0.022220187,
          0.175387969,
          0.123071966,
          0.175387969,
          2.950101513,
          2.898572663,
          1.997232881,
          5.290431699,
          7.123278239,
          8.066367758,
          1.609182443,
          1.119392086,
          0.502006683,
          5.550633779,
          6.241768839,
          0.58484765,
          4.420335272,
          5.168925458,
          1.607421647,
          3.229342159,
          10.21648878,
          48.8954697,
          5.920934047,
          10.12424297,
          37.0402187,
          25.9844751,
          0.646368894,
          1.187114361,
          1.638952628,
          2.592184618,
          6.852249296,
          6.584495246,
          10.92715039,
          10.06305382,
          0,
          0,
          0.874745116,
          3.873226226,
          3.350068478,
          6.280904753,
          10.86124196,
          8.860168549,
          11.33000232,
          0.858917669,
          1.514548385,
          1.429383718,
          6.380810929,
          1.554462773,
          1.933923076,
          7.346225888,
          1.841025348,
          0.479696623,
          44.60994911,
          22.96779462,
          34.30205483,
          2.954781571,
          0.573872044,
          2.688645727,
          5.025135174,
          2.810300826,
          5.040029817,
          32.89794156,
          10.28561592,
          41.97828307,
          5.651825017,
          7.587069143,
          14.59147739,
          35.42911148,
          0.590715049,
          4.269078198,
          5.117747927,
          2.468653134,
          2.411435902,
          1.000405327,
          1.196322037,
          1.353824926,
          20.83100431,
          47.90046496,
          26.46898442,
          2.64427354,
          2.672643324,
          2.128105542,
          1.067818791,
          0.974359924,
          1.524536523,
          28.3192385,
          37.02410414,
          31.98702191,
          1.589305754,
          2.516235182,
          1.713149627,
          9.124596359,
          6.241768839,
          6.998646457,
          2.334938618,
          1.016000693,
          0.958700059,
          39.23713245,
          4.025884651,
          44.72845948,
          2.879812755,
          6.528219449,
          0.916816583,
          2.915640502,
          2.67273564,
          2.17962341,
          3.462522329,
          19.85731333,
          23.12867422,
          26.10986923,
          3.606779221,
          4.626184053,
          10.71313409,
          12.36553594,
          1.018309633,
          0.4201135,
          1.653817858,
          0.958700059,
          1.093635165,
          10.83651624,
          13.45762786,
          12.12750024,
          0.73657409,
          1.109096346,
          0.984786154,
          20.47554955,
          17.60301154,
          54.16505714,
          1.119392086,
          1.574382289,
          0.953474561,
          5.809648353,
          10.82002936,
          18.85437479,
          0.880014691,
          1.186093312,
          3.015556869,
          24.41999307,
          24.57143655,
          27.65963304,
          3101.009346,
          2493.264495,
          2075.906143,
          4067.184793,
          4099.30522,
          4129.84303,
          2994.880357,
          1874.982343,
          1349.178328,
          3602.063183,
          4096.299352,
          1791.111789,
          2572.992221,
          3756.836307,
          1677.935276,
          2948.730937,
          3975.154443,
          4078.085156,
          4271.277533,
          4249.455231,
          4157.366979,
          4020.773885,
          1624.361463,
          2860.262601,
          1348.429442,
          2282.196368,
          3503.370387,
          4157.635384,
          4175.406951,
          4161.380732,
          0.103518689,
          0.055062342,
          1257.074409,
          2359.34632,
          2777.86634,
          3714.541787,
          4162.216758,
          4099.898599,
          4153.363439,
          1139.834569,
          2511.159163,
          2405.407872,
          3793.744898,
          2075.115497,
          2208.903927,
          3988.496424,
          2878.175628,
          2406.22208,
          4365.552579,
          4276.81135,
          4248.695715,
          2681.297656,
          1541.465277,
          2966.313554,
          3695.501125,
          2349.329016,
          3017.593738,
          4193.209275,
          4141.23407,
          4203.368904,
          4077.076915,
          4217.312026,
          4119.065855,
          4172.271146,
          1566.906399,
          3520.42975,
          3796.206289,
          2933.225833,
          3048.650346,
          3193.677406,
          2552.053003,
          2214.575083,
          4172.392569,
          4166.157597,
          4192.0572,
          2643.027412,
          2673.115552,
          2254.669874,
          1576.547845,
          1894.869983,
          2342.476726,
          3984.552021,
          3979.368824,
          4098.433211,
          1892.993122,
          2607.301886,
          2454.948884,
          4083.894743,
          3950.374236,
          3889.148531,
          3624.493939,
          1736.688073,
          1767.938835,
          4215.685626,
          3917.774413,
          4146.636223,
          2626.725099,
          3970.010609,
          1676.855952,
          3067.885684,
          3806.196351,
          2248.876401,
          3506.744373,
          4000.262354,
          4009.523978,
          3955.873001,
          3943.178444,
          3886.075083,
          3940.25476,
          3926.647442,
          1779.558107,
          1296.514993,
          1756.603761,
          1449.677612,
          1642.519334,
          4078.791628,
          4055.782001,
          3912.485326,
          1315.767051,
          1393.28078,
          1321.112511,
          4257.931254,
          4129.542901,
          4283.485752,
          1790.325189,
          1817.984882,
          1392.06249,
          3874.362108,
          3932.482289,
          4054.765421,
          1025.078249,
          1371.451688,
          2800.765627,
          4161.670528,
          4110.034564,
          4204.300713,
          0.949502979,
          1.600599954,
          1.333518968,
          4.540422037,
          6.441222629,
          10.24773942,
          0.967662517,
          1.867020625,
          0.767606577,
          3.964862423,
          9.412574198,
          2.788347888,
          2.534623006,
          5.623000184,
          3.963929763,
          5.428262619,
          7.143966655,
          15.11787697,
          14.44568338,
          12.49783028,
          8.346551836,
          6.167014589,
          3.202473713,
          2.963874875,
          0.364846706,
          0.945870459,
          1.586181053,
          4.37355619,
          5.890017505,
          8.829420463,
          0.07119562,
          0.010203999,
          0.131283035,
          0.320595603,
          1.715883496,
          4.19593587,
          7.57682584,
          4.579462536,
          10.51772067,
          0.577746697,
          1.344360994,
          1.669063817,
          2.244102212,
          0.658169763,
          1.246734893,
          3.883050855,
          2.713257156,
          1.49601827,
          15.44653193,
          14.66673465,
          20.02845,
          2.057484986,
          1.347974715,
          3.825903086,
          6.462579726,
          4.59281821,
          7.466921566,
          14.82186984,
          10.21535132,
          17.43678531,
          8.873681031,
          11.57920305,
          8.082546045,
          7.423568987,
          2.092670682,
          4.56341106,
          1.971270789,
          1.076517187,
          2.799072677,
          0.588722748,
          0.353791768,
          0.69102719,
          9.900822503,
          19.93079052,
          14.45509226,
          0.489821764,
          0.74209325,
          0.22067507,
          1.159861349,
          0.093792788,
          1.607808684,
          11.52703992,
          11.64558038,
          17.65169896,
          0.294741402,
          3.409448333,
          2.670334424,
          11.3410677,
          6.525960028,
          8.948906742,
          3.936409082,
          1.643845211,
          0.687377526,
          15.39959659,
          10.09148783,
          15.70927635,
          2.096981847,
          3.202617315,
          1.257587665,
          3.038508124,
          3.346317373,
          4.200152072,
          4.984289505,
          13.31970483,
          11.98200244,
          9.962802968,
          7.90957626,
          10.34868295,
          7.93360784,
          6.438371504,
          3.623469795,
          2.288909345,
          0.552123811,
          1.159861349,
          0.541137236,
          3.69087036,
          5.419479102,
          8.773183378,
          0.357477307,
          0.209535944,
          0.683727575,
          7.283815651,
          11.30881156,
          13.27723936,
          0.386941879,
          0.331666392,
          0.449446968,
          5.083012935,
          10.98731574,
          7.833912288,
          0.294741402,
          0.416373285,
          1.47436742,
          9.285020446,
          8.32256375,
          11.31355724
         ]
        }
       ],
       "frames": [],
       "layout": {
        "autosize": true,
        "margin": {
         "b": 0,
         "l": 0,
         "r": 0,
         "t": 65
        },
        "template": {
         "data": {
          "bar": [
           {
            "error_x": {
             "color": "#2a3f5f"
            },
            "error_y": {
             "color": "#2a3f5f"
            },
            "marker": {
             "line": {
              "color": "#E5ECF6",
              "width": 0.5
             }
            },
            "type": "bar"
           }
          ],
          "barpolar": [
           {
            "marker": {
             "line": {
              "color": "#E5ECF6",
              "width": 0.5
             }
            },
            "type": "barpolar"
           }
          ],
          "carpet": [
           {
            "aaxis": {
             "endlinecolor": "#2a3f5f",
             "gridcolor": "white",
             "linecolor": "white",
             "minorgridcolor": "white",
             "startlinecolor": "#2a3f5f"
            },
            "baxis": {
             "endlinecolor": "#2a3f5f",
             "gridcolor": "white",
             "linecolor": "white",
             "minorgridcolor": "white",
             "startlinecolor": "#2a3f5f"
            },
            "type": "carpet"
           }
          ],
          "choropleth": [
           {
            "colorbar": {
             "outlinewidth": 0,
             "ticks": ""
            },
            "type": "choropleth"
           }
          ],
          "contour": [
           {
            "colorbar": {
             "outlinewidth": 0,
             "ticks": ""
            },
            "colorscale": [
             [
              0,
              "#0d0887"
             ],
             [
              0.1111111111111111,
              "#46039f"
             ],
             [
              0.2222222222222222,
              "#7201a8"
             ],
             [
              0.3333333333333333,
              "#9c179e"
             ],
             [
              0.4444444444444444,
              "#bd3786"
             ],
             [
              0.5555555555555556,
              "#d8576b"
             ],
             [
              0.6666666666666666,
              "#ed7953"
             ],
             [
              0.7777777777777778,
              "#fb9f3a"
             ],
             [
              0.8888888888888888,
              "#fdca26"
             ],
             [
              1,
              "#f0f921"
             ]
            ],
            "type": "contour"
           }
          ],
          "contourcarpet": [
           {
            "colorbar": {
             "outlinewidth": 0,
             "ticks": ""
            },
            "type": "contourcarpet"
           }
          ],
          "heatmap": [
           {
            "colorbar": {
             "outlinewidth": 0,
             "ticks": ""
            },
            "colorscale": [
             [
              0,
              "#0d0887"
             ],
             [
              0.1111111111111111,
              "#46039f"
             ],
             [
              0.2222222222222222,
              "#7201a8"
             ],
             [
              0.3333333333333333,
              "#9c179e"
             ],
             [
              0.4444444444444444,
              "#bd3786"
             ],
             [
              0.5555555555555556,
              "#d8576b"
             ],
             [
              0.6666666666666666,
              "#ed7953"
             ],
             [
              0.7777777777777778,
              "#fb9f3a"
             ],
             [
              0.8888888888888888,
              "#fdca26"
             ],
             [
              1,
              "#f0f921"
             ]
            ],
            "type": "heatmap"
           }
          ],
          "heatmapgl": [
           {
            "colorbar": {
             "outlinewidth": 0,
             "ticks": ""
            },
            "colorscale": [
             [
              0,
              "#0d0887"
             ],
             [
              0.1111111111111111,
              "#46039f"
             ],
             [
              0.2222222222222222,
              "#7201a8"
             ],
             [
              0.3333333333333333,
              "#9c179e"
             ],
             [
              0.4444444444444444,
              "#bd3786"
             ],
             [
              0.5555555555555556,
              "#d8576b"
             ],
             [
              0.6666666666666666,
              "#ed7953"
             ],
             [
              0.7777777777777778,
              "#fb9f3a"
             ],
             [
              0.8888888888888888,
              "#fdca26"
             ],
             [
              1,
              "#f0f921"
             ]
            ],
            "type": "heatmapgl"
           }
          ],
          "histogram": [
           {
            "marker": {
             "colorbar": {
              "outlinewidth": 0,
              "ticks": ""
             }
            },
            "type": "histogram"
           }
          ],
          "histogram2d": [
           {
            "colorbar": {
             "outlinewidth": 0,
             "ticks": ""
            },
            "colorscale": [
             [
              0,
              "#0d0887"
             ],
             [
              0.1111111111111111,
              "#46039f"
             ],
             [
              0.2222222222222222,
              "#7201a8"
             ],
             [
              0.3333333333333333,
              "#9c179e"
             ],
             [
              0.4444444444444444,
              "#bd3786"
             ],
             [
              0.5555555555555556,
              "#d8576b"
             ],
             [
              0.6666666666666666,
              "#ed7953"
             ],
             [
              0.7777777777777778,
              "#fb9f3a"
             ],
             [
              0.8888888888888888,
              "#fdca26"
             ],
             [
              1,
              "#f0f921"
             ]
            ],
            "type": "histogram2d"
           }
          ],
          "histogram2dcontour": [
           {
            "colorbar": {
             "outlinewidth": 0,
             "ticks": ""
            },
            "colorscale": [
             [
              0,
              "#0d0887"
             ],
             [
              0.1111111111111111,
              "#46039f"
             ],
             [
              0.2222222222222222,
              "#7201a8"
             ],
             [
              0.3333333333333333,
              "#9c179e"
             ],
             [
              0.4444444444444444,
              "#bd3786"
             ],
             [
              0.5555555555555556,
              "#d8576b"
             ],
             [
              0.6666666666666666,
              "#ed7953"
             ],
             [
              0.7777777777777778,
              "#fb9f3a"
             ],
             [
              0.8888888888888888,
              "#fdca26"
             ],
             [
              1,
              "#f0f921"
             ]
            ],
            "type": "histogram2dcontour"
           }
          ],
          "mesh3d": [
           {
            "colorbar": {
             "outlinewidth": 0,
             "ticks": ""
            },
            "type": "mesh3d"
           }
          ],
          "parcoords": [
           {
            "line": {
             "colorbar": {
              "outlinewidth": 0,
              "ticks": ""
             }
            },
            "type": "parcoords"
           }
          ],
          "pie": [
           {
            "automargin": true,
            "type": "pie"
           }
          ],
          "scatter": [
           {
            "marker": {
             "colorbar": {
              "outlinewidth": 0,
              "ticks": ""
             }
            },
            "type": "scatter"
           }
          ],
          "scatter3d": [
           {
            "line": {
             "colorbar": {
              "outlinewidth": 0,
              "ticks": ""
             }
            },
            "marker": {
             "colorbar": {
              "outlinewidth": 0,
              "ticks": ""
             }
            },
            "type": "scatter3d"
           }
          ],
          "scattercarpet": [
           {
            "marker": {
             "colorbar": {
              "outlinewidth": 0,
              "ticks": ""
             }
            },
            "type": "scattercarpet"
           }
          ],
          "scattergeo": [
           {
            "marker": {
             "colorbar": {
              "outlinewidth": 0,
              "ticks": ""
             }
            },
            "type": "scattergeo"
           }
          ],
          "scattergl": [
           {
            "marker": {
             "colorbar": {
              "outlinewidth": 0,
              "ticks": ""
             }
            },
            "type": "scattergl"
           }
          ],
          "scattermapbox": [
           {
            "marker": {
             "colorbar": {
              "outlinewidth": 0,
              "ticks": ""
             }
            },
            "type": "scattermapbox"
           }
          ],
          "scatterpolar": [
           {
            "marker": {
             "colorbar": {
              "outlinewidth": 0,
              "ticks": ""
             }
            },
            "type": "scatterpolar"
           }
          ],
          "scatterpolargl": [
           {
            "marker": {
             "colorbar": {
              "outlinewidth": 0,
              "ticks": ""
             }
            },
            "type": "scatterpolargl"
           }
          ],
          "scatterternary": [
           {
            "marker": {
             "colorbar": {
              "outlinewidth": 0,
              "ticks": ""
             }
            },
            "type": "scatterternary"
           }
          ],
          "surface": [
           {
            "colorbar": {
             "outlinewidth": 0,
             "ticks": ""
            },
            "colorscale": [
             [
              0,
              "#0d0887"
             ],
             [
              0.1111111111111111,
              "#46039f"
             ],
             [
              0.2222222222222222,
              "#7201a8"
             ],
             [
              0.3333333333333333,
              "#9c179e"
             ],
             [
              0.4444444444444444,
              "#bd3786"
             ],
             [
              0.5555555555555556,
              "#d8576b"
             ],
             [
              0.6666666666666666,
              "#ed7953"
             ],
             [
              0.7777777777777778,
              "#fb9f3a"
             ],
             [
              0.8888888888888888,
              "#fdca26"
             ],
             [
              1,
              "#f0f921"
             ]
            ],
            "type": "surface"
           }
          ],
          "table": [
           {
            "cells": {
             "fill": {
              "color": "#EBF0F8"
             },
             "line": {
              "color": "white"
             }
            },
            "header": {
             "fill": {
              "color": "#C8D4E3"
             },
             "line": {
              "color": "white"
             }
            },
            "type": "table"
           }
          ]
         },
         "layout": {
          "annotationdefaults": {
           "arrowcolor": "#2a3f5f",
           "arrowhead": 0,
           "arrowwidth": 1
          },
          "autotypenumbers": "strict",
          "coloraxis": {
           "colorbar": {
            "outlinewidth": 0,
            "ticks": ""
           }
          },
          "colorscale": {
           "diverging": [
            [
             0,
             "#8e0152"
            ],
            [
             0.1,
             "#c51b7d"
            ],
            [
             0.2,
             "#de77ae"
            ],
            [
             0.3,
             "#f1b6da"
            ],
            [
             0.4,
             "#fde0ef"
            ],
            [
             0.5,
             "#f7f7f7"
            ],
            [
             0.6,
             "#e6f5d0"
            ],
            [
             0.7,
             "#b8e186"
            ],
            [
             0.8,
             "#7fbc41"
            ],
            [
             0.9,
             "#4d9221"
            ],
            [
             1,
             "#276419"
            ]
           ],
           "sequential": [
            [
             0,
             "#0d0887"
            ],
            [
             0.1111111111111111,
             "#46039f"
            ],
            [
             0.2222222222222222,
             "#7201a8"
            ],
            [
             0.3333333333333333,
             "#9c179e"
            ],
            [
             0.4444444444444444,
             "#bd3786"
            ],
            [
             0.5555555555555556,
             "#d8576b"
            ],
            [
             0.6666666666666666,
             "#ed7953"
            ],
            [
             0.7777777777777778,
             "#fb9f3a"
            ],
            [
             0.8888888888888888,
             "#fdca26"
            ],
            [
             1,
             "#f0f921"
            ]
           ],
           "sequentialminus": [
            [
             0,
             "#0d0887"
            ],
            [
             0.1111111111111111,
             "#46039f"
            ],
            [
             0.2222222222222222,
             "#7201a8"
            ],
            [
             0.3333333333333333,
             "#9c179e"
            ],
            [
             0.4444444444444444,
             "#bd3786"
            ],
            [
             0.5555555555555556,
             "#d8576b"
            ],
            [
             0.6666666666666666,
             "#ed7953"
            ],
            [
             0.7777777777777778,
             "#fb9f3a"
            ],
            [
             0.8888888888888888,
             "#fdca26"
            ],
            [
             1,
             "#f0f921"
            ]
           ]
          },
          "colorway": [
           "#636efa",
           "#EF553B",
           "#00cc96",
           "#ab63fa",
           "#FFA15A",
           "#19d3f3",
           "#FF6692",
           "#B6E880",
           "#FF97FF",
           "#FECB52"
          ],
          "font": {
           "color": "#2a3f5f"
          },
          "geo": {
           "bgcolor": "white",
           "lakecolor": "white",
           "landcolor": "#E5ECF6",
           "showlakes": true,
           "showland": true,
           "subunitcolor": "white"
          },
          "hoverlabel": {
           "align": "left"
          },
          "hovermode": "closest",
          "mapbox": {
           "style": "light"
          },
          "paper_bgcolor": "white",
          "plot_bgcolor": "#E5ECF6",
          "polar": {
           "angularaxis": {
            "gridcolor": "white",
            "linecolor": "white",
            "ticks": ""
           },
           "bgcolor": "#E5ECF6",
           "radialaxis": {
            "gridcolor": "white",
            "linecolor": "white",
            "ticks": ""
           }
          },
          "scene": {
           "xaxis": {
            "backgroundcolor": "#E5ECF6",
            "gridcolor": "white",
            "gridwidth": 2,
            "linecolor": "white",
            "showbackground": true,
            "ticks": "",
            "zerolinecolor": "white"
           },
           "yaxis": {
            "backgroundcolor": "#E5ECF6",
            "gridcolor": "white",
            "gridwidth": 2,
            "linecolor": "white",
            "showbackground": true,
            "ticks": "",
            "zerolinecolor": "white"
           },
           "zaxis": {
            "backgroundcolor": "#E5ECF6",
            "gridcolor": "white",
            "gridwidth": 2,
            "linecolor": "white",
            "showbackground": true,
            "ticks": "",
            "zerolinecolor": "white"
           }
          },
          "shapedefaults": {
           "line": {
            "color": "#2a3f5f"
           }
          },
          "ternary": {
           "aaxis": {
            "gridcolor": "white",
            "linecolor": "white",
            "ticks": ""
           },
           "baxis": {
            "gridcolor": "white",
            "linecolor": "white",
            "ticks": ""
           },
           "bgcolor": "#E5ECF6",
           "caxis": {
            "gridcolor": "white",
            "linecolor": "white",
            "ticks": ""
           }
          },
          "title": {
           "x": 0.05
          },
          "xaxis": {
           "automargin": true,
           "gridcolor": "white",
           "linecolor": "white",
           "ticks": "",
           "title": {
            "standoff": 15
           },
           "zerolinecolor": "white",
           "zerolinewidth": 2
          },
          "yaxis": {
           "automargin": true,
           "gridcolor": "white",
           "linecolor": "white",
           "ticks": "",
           "title": {
            "standoff": 15
           },
           "zerolinecolor": "white",
           "zerolinewidth": 2
          }
         }
        },
        "xaxis": {
         "autorange": true,
         "range": [
          -0.5,
          9.5
         ],
         "type": "category"
        },
        "yaxis": {
         "autorange": true,
         "range": [
          -0.5,
          47.5
         ],
         "type": "category"
        }
       }
      },
      "image/png": "[encoded data removed]",
      "text/html": [
       "<div\n",
       "    class=\"webio-mountpoint\"\n",
       "    data-webio-mountpoint=\"17785509506824395968\"\n",
       ">\n",
       "    <script>\n",
       "    (function(){\n",
       "    // Some integrations (namely, IJulia/Jupyter) use an alternate render pathway than\n",
       "    // just putting the html on the page. If WebIO isn't defined, then it's pretty likely\n",
       "    // that we're in one of those situations and the integration just isn't installed\n",
       "    // correctly.\n",
       "    if (typeof window.WebIO === \"undefined\") {\n",
       "        document\n",
       "            .querySelector('[data-webio-mountpoint=\"17785509506824395968\"]')\n",
       "            .innerHTML = (\n",
       "                '<div style=\"padding: 1em; background-color: #f8d6da; border: 1px solid #f5c6cb; font-weight: bold;\">' +\n",
       "                '<p><strong>WebIO not detected.</strong></p>' +\n",
       "                '<p>Please read ' +\n",
       "                '<a href=\"https://juliagizmos.github.io/WebIO.jl/latest/troubleshooting/not-detected/\" target=\"_blank\">the troubleshooting guide</a> ' +\n",
       "                'for more information on how to resolve this issue.</p>' +\n",
       "                '<p><a href=\"https://juliagizmos.github.io/WebIO.jl/latest/troubleshooting/not-detected/\" target=\"_blank\">https://juliagizmos.github.io/WebIO.jl/latest/troubleshooting/not-detected/</a></p>' +\n",
       "                '</div>'\n",
       "            );\n",
       "        return;\n",
       "    }\n",
       "    WebIO.mount(\n",
       "        document.querySelector('[data-webio-mountpoint=\"17785509506824395968\"]'),\n",
       "        {\"props\":{},\"nodeType\":\"Scope\",\"type\":\"node\",\"instanceArgs\":{\"imports\":{\"data\":[{\"name\":\"Plotly\",\"type\":\"js\",\"url\":\"\\/assetserver\\/2c1443c4a3fadd5de9f99c6b5d8fa0ad35f7de28-plotly.min.js\"},{\"name\":null,\"type\":\"js\",\"url\":\"\\/assetserver\\/a617ad3fbd31c68e6d8336a472e6356f3a4cb577-plotly_webio.bundle.js\"}],\"type\":\"async_block\"},\"id\":\"2069792445762481485\",\"handlers\":{\"_toImage\":[\"(function (options){return this.Plotly.toImage(this.plotElem,options).then((function (data){return WebIO.setval({\\\"name\\\":\\\"image\\\",\\\"scope\\\":\\\"2069792445762481485\\\",\\\"id\\\":\\\"9031262700665920072\\\",\\\"type\\\":\\\"observable\\\"},data)}))})\"],\"__get_gd_contents\":[\"(function (prop){prop==\\\"data\\\" ? (WebIO.setval({\\\"name\\\":\\\"__gd_contents\\\",\\\"scope\\\":\\\"2069792445762481485\\\",\\\"id\\\":\\\"4656071705666371458\\\",\\\"type\\\":\\\"observable\\\"},this.plotElem.data)) : undefined; return prop==\\\"layout\\\" ? (WebIO.setval({\\\"name\\\":\\\"__gd_contents\\\",\\\"scope\\\":\\\"2069792445762481485\\\",\\\"id\\\":\\\"4656071705666371458\\\",\\\"type\\\":\\\"observable\\\"},this.plotElem.layout)) : undefined})\"],\"_downloadImage\":[\"(function (options){return this.Plotly.downloadImage(this.plotElem,options)})\"],\"_commands\":[\"(function (args){var fn=args.shift(); var elem=this.plotElem; var Plotly=this.Plotly; args.unshift(elem); return Plotly[fn].apply(this,args)})\"]},\"systemjs_options\":null,\"mount_callbacks\":[\"function () {\\n    var handler = ((function (Plotly,PlotlyWebIO){PlotlyWebIO.init(WebIO); var gd=this.dom.querySelector(\\\"#plot-70317c27-b907-4cb9-96fb-26f7fae31238\\\"); this.plotElem=gd; this.Plotly=Plotly; (window.Blink!==undefined) ? (gd.style.width=\\\"100%\\\", gd.style.height=\\\"100vh\\\", gd.style.marginLeft=\\\"0%\\\", gd.style.marginTop=\\\"0vh\\\") : undefined; window.onresize=(function (){return Plotly.Plots.resize(gd)}); Plotly.newPlot(gd,[{\\\"y\\\":[\\\"53K_CB_F_01ug\\\",\\\"53K_CB_F_01ug\\\",\\\"53K_CB_F_01ug\\\",\\\"63O_CB_F_01ug\\\",\\\"63O_CB_F_01ug\\\",\\\"63O_CB_F_01ug\\\",\\\"68J_CB_F_01ug\\\",\\\"68J_CB_F_01ug\\\",\\\"68J_CB_F_01ug\\\",\\\"53K_PL_F_01ug\\\",\\\"63O_PL_F_01ug\\\",\\\"68J_PL_F_01ug\\\",\\\"21O_PL_F_01ug\\\",\\\"21O_PL_F_01ug\\\",\\\"53K_PL_F_01ug\\\",\\\"53K_PL_F_01ug\\\",\\\"57N_PL_F_01ug\\\",\\\"57N_PL_F_01ug\\\",\\\"63O_PL_F_01ug\\\",\\\"63O_PL_F_01ug\\\",\\\"67L_PL_F_01ug\\\",\\\"67L_PL_F_01ug\\\",\\\"68J_PL_F_01ug\\\",\\\"68J_PL_F_01ug\\\",\\\"53K_CB_S_01ug\\\",\\\"53K_CB_S_01ug\\\",\\\"53K_CB_S_01ug\\\",\\\"63O_CB_S_01ug\\\",\\\"63O_CB_S_01ug\\\",\\\"63O_CB_S_01ug\\\",\\\"68J_CB_S_01ug\\\",\\\"68J_CB_S_01ug\\\",\\\"68J_CB_S_01ug\\\",\\\"53K_PL_S_01ug\\\",\\\"53K_PL_S_01ug\\\",\\\"53K_PL_S_01ug\\\",\\\"63O_PL_S_01ug\\\",\\\"63O_PL_S_01ug\\\",\\\"63O_PL_S_01ug\\\",\\\"68J_PL_S_01ug\\\",\\\"68J_PL_S_01ug\\\",\\\"68J_PL_S_01ug\\\",\\\"53K_CB_F_25ug\\\",\\\"53K_CB_F_25ug\\\",\\\"53K_CB_F_25ug\\\",\\\"68J_CB_F_25ug\\\",\\\"68J_CB_F_25ug\\\",\\\"68J_CB_F_25ug\\\",\\\"57N_CB_F_25ug\\\",\\\"57N_CB_F_25ug\\\",\\\"57N_CB_F_25ug\\\",\\\"53K_PL_F_25ug\\\",\\\"68J_PL_F_25ug\\\",\\\"21O_PL_F_25ug\\\",\\\"21O_PL_F_25ug\\\",\\\"53K_PL_F_25ug\\\",\\\"53K_PL_F_25ug\\\",\\\"57N_PL_F_25ug\\\",\\\"57N_PL_F_25ug\\\",\\\"57N_PL_F_25ug\\\",\\\"63O_PL_F_25ug\\\",\\\"63O_PL_F_25ug\\\",\\\"67L_PL_F_25ug\\\",\\\"67L_PL_F_25ug\\\",\\\"68J_PL_F_25ug\\\",\\\"68J_PL_F_25ug\\\",\\\"53K_CB_S_25ug\\\",\\\"53K_CB_S_25ug\\\",\\\"53K_CB_S_25ug\\\",\\\"68J_CB_S_25ug\\\",\\\"68J_CB_S_25ug\\\",\\\"68J_CB_S_25ug\\\",\\\"57N_CB_S_25ug\\\",\\\"57N_CB_S_25ug\\\",\\\"57N_CB_S_25ug\\\",\\\"53K_PL_S_25ug\\\",\\\"53K_PL_S_25ug\\\",\\\"53K_PL_S_25ug\\\",\\\"68J_PL_S_25ug\\\",\\\"68J_PL_S_25ug\\\",\\\"68J_PL_S_25ug\\\",\\\"57N_PL_S_25ug\\\",\\\"57N_PL_S_25ug\\\",\\\"57N_PL_S_25ug\\\",\\\"53K_CB_F_05ug\\\",\\\"53K_CB_F_05ug\\\",\\\"53K_CB_F_05ug\\\",\\\"63O_CB_F_05ug\\\",\\\"63O_CB_F_05ug\\\",\\\"63O_CB_F_05ug\\\",\\\"68J_CB_F_05ug\\\",\\\"68J_CB_F_05ug\\\",\\\"68J_CB_F_05ug\\\",\\\"57N_CB_F_05ug\\\",\\\"57N_CB_F_05ug\\\",\\\"57N_CB_F_05ug\\\",\\\"53K_PL_F_05ug\\\",\\\"63O_PL_F_05ug\\\",\\\"68J_PL_F_05ug\\\",\\\"21O_PL_F_05ug\\\",\\\"21O_PL_F_05ug\\\",\\\"53K_PL_F_05ug\\\",\\\"53K_PL_F_05ug\\\",\\\"57N_PL_F_05ug\\\",\\\"57N_PL_F_05ug\\\",\\\"57N_PL_F_05ug\\\",\\\"63O_PL_F_05ug\\\",\\\"63O_PL_F_05ug\\\",\\\"67L_PL_F_05ug\\\",\\\"67L_PL_F_05ug\\\",\\\"68J_PL_F_05ug\\\",\\\"68J_PL_F_05ug\\\",\\\"53K_CB_S_05ug\\\",\\\"53K_CB_S_05ug\\\",\\\"53K_CB_S_05ug\\\",\\\"63O_CB_S_05ug\\\",\\\"63O_CB_S_05ug\\\",\\\"63O_CB_S_05ug\\\",\\\"68J_CB_S_05ug\\\",\\\"68J_CB_S_05ug\\\",\\\"68J_CB_S_05ug\\\",\\\"57N_CB_S_05ug\\\",\\\"57N_CB_S_05ug\\\",\\\"57N_CB_S_05ug\\\",\\\"53K_PL_S_05ug\\\",\\\"53K_PL_S_05ug\\\",\\\"53K_PL_S_05ug\\\",\\\"63O_PL_S_05ug\\\",\\\"63O_PL_S_05ug\\\",\\\"63O_PL_S_05ug\\\",\\\"68J_PL_S_05ug\\\",\\\"68J_PL_S_05ug\\\",\\\"68J_PL_S_05ug\\\",\\\"57N_PL_S_05ug\\\",\\\"57N_PL_S_05ug\\\",\\\"57N_PL_S_05ug\\\",\\\"53K_CB_F_01ug\\\",\\\"53K_CB_F_01ug\\\",\\\"53K_CB_F_01ug\\\",\\\"63O_CB_F_01ug\\\",\\\"63O_CB_F_01ug\\\",\\\"63O_CB_F_01ug\\\",\\\"68J_CB_F_01ug\\\",\\\"68J_CB_F_01ug\\\",\\\"68J_CB_F_01ug\\\",\\\"53K_PL_F_01ug\\\",\\\"63O_PL_F_01ug\\\",\\\"68J_PL_F_01ug\\\",\\\"21O_PL_F_01ug\\\",\\\"21O_PL_F_01ug\\\",\\\"53K_PL_F_01ug\\\",\\\"53K_PL_F_01ug\\\",\\\"57N_PL_F_01ug\\\",\\\"57N_PL_F_01ug\\\",\\\"63O_PL_F_01ug\\\",\\\"63O_PL_F_01ug\\\",\\\"67L_PL_F_01ug\\\",\\\"67L_PL_F_01ug\\\",\\\"68J_PL_F_01ug\\\",\\\"68J_PL_F_01ug\\\",\\\"53K_CB_S_01ug\\\",\\\"53K_CB_S_01ug\\\",\\\"53K_CB_S_01ug\\\",\\\"63O_CB_S_01ug\\\",\\\"63O_CB_S_01ug\\\",\\\"63O_CB_S_01ug\\\",\\\"68J_CB_S_01ug\\\",\\\"68J_CB_S_01ug\\\",\\\"68J_CB_S_01ug\\\",\\\"53K_PL_S_01ug\\\",\\\"53K_PL_S_01ug\\\",\\\"53K_PL_S_01ug\\\",\\\"63O_PL_S_01ug\\\",\\\"63O_PL_S_01ug\\\",\\\"63O_PL_S_01ug\\\",\\\"68J_PL_S_01ug\\\",\\\"68J_PL_S_01ug\\\",\\\"68J_PL_S_01ug\\\",\\\"53K_CB_F_25ug\\\",\\\"53K_CB_F_25ug\\\",\\\"53K_CB_F_25ug\\\",\\\"68J_CB_F_25ug\\\",\\\"68J_CB_F_25ug\\\",\\\"68J_CB_F_25ug\\\",\\\"57N_CB_F_25ug\\\",\\\"57N_CB_F_25ug\\\",\\\"57N_CB_F_25ug\\\",\\\"53K_PL_F_25ug\\\",\\\"68J_PL_F_25ug\\\",\\\"21O_PL_F_25ug\\\",\\\"21O_PL_F_25ug\\\",\\\"53K_PL_F_25ug\\\",\\\"53K_PL_F_25ug\\\",\\\"57N_PL_F_25ug\\\",\\\"57N_PL_F_25ug\\\",\\\"57N_PL_F_25ug\\\",\\\"63O_PL_F_25ug\\\",\\\"63O_PL_F_25ug\\\",\\\"67L_PL_F_25ug\\\",\\\"67L_PL_F_25ug\\\",\\\"68J_PL_F_25ug\\\",\\\"68J_PL_F_25ug\\\",\\\"53K_CB_S_25ug\\\",\\\"53K_CB_S_25ug\\\",\\\"53K_CB_S_25ug\\\",\\\"68J_CB_S_25ug\\\",\\\"68J_CB_S_25ug\\\",\\\"68J_CB_S_25ug\\\",\\\"57N_CB_S_25ug\\\",\\\"57N_CB_S_25ug\\\",\\\"57N_CB_S_25ug\\\",\\\"53K_PL_S_25ug\\\",\\\"53K_PL_S_25ug\\\",\\\"53K_PL_S_25ug\\\",\\\"68J_PL_S_25ug\\\",\\\"68J_PL_S_25ug\\\",\\\"68J_PL_S_25ug\\\",\\\"57N_PL_S_25ug\\\",\\\"57N_PL_S_25ug\\\",\\\"57N_PL_S_25ug\\\",\\\"53K_CB_F_05ug\\\",\\\"53K_CB_F_05ug\\\",\\\"53K_CB_F_05ug\\\",\\\"63O_CB_F_05ug\\\",\\\"63O_CB_F_05ug\\\",\\\"63O_CB_F_05ug\\\",\\\"68J_CB_F_05ug\\\",\\\"68J_CB_F_05ug\\\",\\\"68J_CB_F_05ug\\\",\\\"57N_CB_F_05ug\\\",\\\"57N_CB_F_05ug\\\",\\\"57N_CB_F_05ug\\\",\\\"53K_PL_F_05ug\\\",\\\"63O_PL_F_05ug\\\",\\\"68J_PL_F_05ug\\\",\\\"21O_PL_F_05ug\\\",\\\"21O_PL_F_05ug\\\",\\\"53K_PL_F_05ug\\\",\\\"53K_PL_F_05ug\\\",\\\"57N_PL_F_05ug\\\",\\\"57N_PL_F_05ug\\\",\\\"57N_PL_F_05ug\\\",\\\"63O_PL_F_05ug\\\",\\\"63O_PL_F_05ug\\\",\\\"67L_PL_F_05ug\\\",\\\"67L_PL_F_05ug\\\",\\\"68J_PL_F_05ug\\\",\\\"68J_PL_F_05ug\\\",\\\"53K_CB_S_05ug\\\",\\\"53K_CB_S_05ug\\\",\\\"53K_CB_S_05ug\\\",\\\"63O_CB_S_05ug\\\",\\\"63O_CB_S_05ug\\\",\\\"63O_CB_S_05ug\\\",\\\"68J_CB_S_05ug\\\",\\\"68J_CB_S_05ug\\\",\\\"68J_CB_S_05ug\\\",\\\"57N_CB_S_05ug\\\",\\\"57N_CB_S_05ug\\\",\\\"57N_CB_S_05ug\\\",\\\"53K_PL_S_05ug\\\",\\\"53K_PL_S_05ug\\\",\\\"53K_PL_S_05ug\\\",\\\"63O_PL_S_05ug\\\",\\\"63O_PL_S_05ug\\\",\\\"63O_PL_S_05ug\\\",\\\"68J_PL_S_05ug\\\",\\\"68J_PL_S_05ug\\\",\\\"68J_PL_S_05ug\\\",\\\"57N_PL_S_05ug\\\",\\\"57N_PL_S_05ug\\\",\\\"57N_PL_S_05ug\\\",\\\"53K_CB_F_01ug\\\",\\\"53K_CB_F_01ug\\\",\\\"53K_CB_F_01ug\\\",\\\"63O_CB_F_01ug\\\",\\\"63O_CB_F_01ug\\\",\\\"63O_CB_F_01ug\\\",\\\"68J_CB_F_01ug\\\",\\\"68J_CB_F_01ug\\\",\\\"68J_CB_F_01ug\\\",\\\"53K_PL_F_01ug\\\",\\\"63O_PL_F_01ug\\\",\\\"68J_PL_F_01ug\\\",\\\"21O_PL_F_01ug\\\",\\\"21O_PL_F_01ug\\\",\\\"53K_PL_F_01ug\\\",\\\"53K_PL_F_01ug\\\",\\\"57N_PL_F_01ug\\\",\\\"57N_PL_F_01ug\\\",\\\"63O_PL_F_01ug\\\",\\\"63O_PL_F_01ug\\\",\\\"67L_PL_F_01ug\\\",\\\"67L_PL_F_01ug\\\",\\\"68J_PL_F_01ug\\\",\\\"68J_PL_F_01ug\\\",\\\"53K_CB_S_01ug\\\",\\\"53K_CB_S_01ug\\\",\\\"53K_CB_S_01ug\\\",\\\"63O_CB_S_01ug\\\",\\\"63O_CB_S_01ug\\\",\\\"63O_CB_S_01ug\\\",\\\"68J_CB_S_01ug\\\",\\\"68J_CB_S_01ug\\\",\\\"68J_CB_S_01ug\\\",\\\"53K_PL_S_01ug\\\",\\\"53K_PL_S_01ug\\\",\\\"53K_PL_S_01ug\\\",\\\"63O_PL_S_01ug\\\",\\\"63O_PL_S_01ug\\\",\\\"63O_PL_S_01ug\\\",\\\"68J_PL_S_01ug\\\",\\\"68J_PL_S_01ug\\\",\\\"68J_PL_S_01ug\\\",\\\"53K_CB_F_25ug\\\",\\\"53K_CB_F_25ug\\\",\\\"53K_CB_F_25ug\\\",\\\"68J_CB_F_25ug\\\",\\\"68J_CB_F_25ug\\\",\\\"68J_CB_F_25ug\\\",\\\"57N_CB_F_25ug\\\",\\\"57N_CB_F_25ug\\\",\\\"57N_CB_F_25ug\\\",\\\"53K_PL_F_25ug\\\",\\\"68J_PL_F_25ug\\\",\\\"21O_PL_F_25ug\\\",\\\"21O_PL_F_25ug\\\",\\\"53K_PL_F_25ug\\\",\\\"53K_PL_F_25ug\\\",\\\"57N_PL_F_25ug\\\",\\\"57N_PL_F_25ug\\\",\\\"57N_PL_F_25ug\\\",\\\"63O_PL_F_25ug\\\",\\\"63O_PL_F_25ug\\\",\\\"67L_PL_F_25ug\\\",\\\"67L_PL_F_25ug\\\",\\\"68J_PL_F_25ug\\\",\\\"68J_PL_F_25ug\\\",\\\"53K_CB_S_25ug\\\",\\\"53K_CB_S_25ug\\\",\\\"53K_CB_S_25ug\\\",\\\"68J_CB_S_25ug\\\",\\\"68J_CB_S_25ug\\\",\\\"68J_CB_S_25ug\\\",\\\"57N_CB_S_25ug\\\",\\\"57N_CB_S_25ug\\\",\\\"57N_CB_S_25ug\\\",\\\"53K_PL_S_25ug\\\",\\\"53K_PL_S_25ug\\\",\\\"53K_PL_S_25ug\\\",\\\"68J_PL_S_25ug\\\",\\\"68J_PL_S_25ug\\\",\\\"68J_PL_S_25ug\\\",\\\"57N_PL_S_25ug\\\",\\\"57N_PL_S_25ug\\\",\\\"57N_PL_S_25ug\\\",\\\"53K_CB_F_05ug\\\",\\\"53K_CB_F_05ug\\\",\\\"53K_CB_F_05ug\\\",\\\"63O_CB_F_05ug\\\",\\\"63O_CB_F_05ug\\\",\\\"63O_CB_F_05ug\\\",\\\"68J_CB_F_05ug\\\",\\\"68J_CB_F_05ug\\\",\\\"68J_CB_F_05ug\\\",\\\"57N_CB_F_05ug\\\",\\\"57N_CB_F_05ug\\\",\\\"57N_CB_F_05ug\\\",\\\"53K_PL_F_05ug\\\",\\\"63O_PL_F_05ug\\\",\\\"68J_PL_F_05ug\\\",\\\"21O_PL_F_05ug\\\",\\\"21O_PL_F_05ug\\\",\\\"53K_PL_F_05ug\\\",\\\"53K_PL_F_05ug\\\",\\\"57N_PL_F_05ug\\\",\\\"57N_PL_F_05ug\\\",\\\"57N_PL_F_05ug\\\",\\\"63O_PL_F_05ug\\\",\\\"63O_PL_F_05ug\\\",\\\"67L_PL_F_05ug\\\",\\\"67L_PL_F_05ug\\\",\\\"68J_PL_F_05ug\\\",\\\"68J_PL_F_05ug\\\",\\\"53K_CB_S_05ug\\\",\\\"53K_CB_S_05ug\\\",\\\"53K_CB_S_05ug\\\",\\\"63O_CB_S_05ug\\\",\\\"63O_CB_S_05ug\\\",\\\"63O_CB_S_05ug\\\",\\\"68J_CB_S_05ug\\\",\\\"68J_CB_S_05ug\\\",\\\"68J_CB_S_05ug\\\",\\\"57N_CB_S_05ug\\\",\\\"57N_CB_S_05ug\\\",\\\"57N_CB_S_05ug\\\",\\\"53K_PL_S_05ug\\\",\\\"53K_PL_S_05ug\\\",\\\"53K_PL_S_05ug\\\",\\\"63O_PL_S_05ug\\\",\\\"63O_PL_S_05ug\\\",\\\"63O_PL_S_05ug\\\",\\\"68J_PL_S_05ug\\\",\\\"68J_PL_S_05ug\\\",\\\"68J_PL_S_05ug\\\",\\\"57N_PL_S_05ug\\\",\\\"57N_PL_S_05ug\\\",\\\"57N_PL_S_05ug\\\",\\\"53K_CB_F_01ug\\\",\\\"53K_CB_F_01ug\\\",\\\"53K_CB_F_01ug\\\",\\\"63O_CB_F_01ug\\\",\\\"63O_CB_F_01ug\\\",\\\"63O_CB_F_01ug\\\",\\\"68J_CB_F_01ug\\\",\\\"68J_CB_F_01ug\\\",\\\"68J_CB_F_01ug\\\",\\\"53K_PL_F_01ug\\\",\\\"63O_PL_F_01ug\\\",\\\"68J_PL_F_01ug\\\",\\\"21O_PL_F_01ug\\\",\\\"21O_PL_F_01ug\\\",\\\"53K_PL_F_01ug\\\",\\\"53K_PL_F_01ug\\\",\\\"57N_PL_F_01ug\\\",\\\"57N_PL_F_01ug\\\",\\\"63O_PL_F_01ug\\\",\\\"63O_PL_F_01ug\\\",\\\"67L_PL_F_01ug\\\",\\\"67L_PL_F_01ug\\\",\\\"68J_PL_F_01ug\\\",\\\"68J_PL_F_01ug\\\",\\\"53K_CB_S_01ug\\\",\\\"53K_CB_S_01ug\\\",\\\"53K_CB_S_01ug\\\",\\\"63O_CB_S_01ug\\\",\\\"63O_CB_S_01ug\\\",\\\"63O_CB_S_01ug\\\",\\\"68J_CB_S_01ug\\\",\\\"68J_CB_S_01ug\\\",\\\"68J_CB_S_01ug\\\",\\\"53K_PL_S_01ug\\\",\\\"53K_PL_S_01ug\\\",\\\"53K_PL_S_01ug\\\",\\\"63O_PL_S_01ug\\\",\\\"63O_PL_S_01ug\\\",\\\"63O_PL_S_01ug\\\",\\\"68J_PL_S_01ug\\\",\\\"68J_PL_S_01ug\\\",\\\"68J_PL_S_01ug\\\",\\\"53K_CB_F_25ug\\\",\\\"53K_CB_F_25ug\\\",\\\"53K_CB_F_25ug\\\",\\\"68J_CB_F_25ug\\\",\\\"68J_CB_F_25ug\\\",\\\"68J_CB_F_25ug\\\",\\\"57N_CB_F_25ug\\\",\\\"57N_CB_F_25ug\\\",\\\"57N_CB_F_25ug\\\",\\\"53K_PL_F_25ug\\\",\\\"68J_PL_F_25ug\\\",\\\"21O_PL_F_25ug\\\",\\\"21O_PL_F_25ug\\\",\\\"53K_PL_F_25ug\\\",\\\"53K_PL_F_25ug\\\",\\\"57N_PL_F_25ug\\\",\\\"57N_PL_F_25ug\\\",\\\"57N_PL_F_25ug\\\",\\\"63O_PL_F_25ug\\\",\\\"63O_PL_F_25ug\\\",\\\"67L_PL_F_25ug\\\",\\\"67L_PL_F_25ug\\\",\\\"68J_PL_F_25ug\\\",\\\"68J_PL_F_25ug\\\",\\\"53K_CB_S_25ug\\\",\\\"53K_CB_S_25ug\\\",\\\"53K_CB_S_25ug\\\",\\\"68J_CB_S_25ug\\\",\\\"68J_CB_S_25ug\\\",\\\"68J_CB_S_25ug\\\",\\\"57N_CB_S_25ug\\\",\\\"57N_CB_S_25ug\\\",\\\"57N_CB_S_25ug\\\",\\\"53K_PL_S_25ug\\\",\\\"53K_PL_S_25ug\\\",\\\"53K_PL_S_25ug\\\",\\\"68J_PL_S_25ug\\\",\\\"68J_PL_S_25ug\\\",\\\"68J_PL_S_25ug\\\",\\\"57N_PL_S_25ug\\\",\\\"57N_PL_S_25ug\\\",\\\"57N_PL_S_25ug\\\",\\\"53K_CB_F_05ug\\\",\\\"53K_CB_F_05ug\\\",\\\"53K_CB_F_05ug\\\",\\\"63O_CB_F_05ug\\\",\\\"63O_CB_F_05ug\\\",\\\"63O_CB_F_05ug\\\",\\\"68J_CB_F_05ug\\\",\\\"68J_CB_F_05ug\\\",\\\"68J_CB_F_05ug\\\",\\\"57N_CB_F_05ug\\\",\\\"57N_CB_F_05ug\\\",\\\"57N_CB_F_05ug\\\",\\\"53K_PL_F_05ug\\\",\\\"63O_PL_F_05ug\\\",\\\"68J_PL_F_05ug\\\",\\\"21O_PL_F_05ug\\\",\\\"21O_PL_F_05ug\\\",\\\"53K_PL_F_05ug\\\",\\\"53K_PL_F_05ug\\\",\\\"57N_PL_F_05ug\\\",\\\"57N_PL_F_05ug\\\",\\\"57N_PL_F_05ug\\\",\\\"63O_PL_F_05ug\\\",\\\"63O_PL_F_05ug\\\",\\\"67L_PL_F_05ug\\\",\\\"67L_PL_F_05ug\\\",\\\"68J_PL_F_05ug\\\",\\\"68J_PL_F_05ug\\\",\\\"53K_CB_S_05ug\\\",\\\"53K_CB_S_05ug\\\",\\\"53K_CB_S_05ug\\\",\\\"63O_CB_S_05ug\\\",\\\"63O_CB_S_05ug\\\",\\\"63O_CB_S_05ug\\\",\\\"68J_CB_S_05ug\\\",\\\"68J_CB_S_05ug\\\",\\\"68J_CB_S_05ug\\\",\\\"57N_CB_S_05ug\\\",\\\"57N_CB_S_05ug\\\",\\\"57N_CB_S_05ug\\\",\\\"53K_PL_S_05ug\\\",\\\"53K_PL_S_05ug\\\",\\\"53K_PL_S_05ug\\\",\\\"63O_PL_S_05ug\\\",\\\"63O_PL_S_05ug\\\",\\\"63O_PL_S_05ug\\\",\\\"68J_PL_S_05ug\\\",\\\"68J_PL_S_05ug\\\",\\\"68J_PL_S_05ug\\\",\\\"57N_PL_S_05ug\\\",\\\"57N_PL_S_05ug\\\",\\\"57N_PL_S_05ug\\\",\\\"53K_CB_F_01ug\\\",\\\"53K_CB_F_01ug\\\",\\\"53K_CB_F_01ug\\\",\\\"63O_CB_F_01ug\\\",\\\"63O_CB_F_01ug\\\",\\\"63O_CB_F_01ug\\\",\\\"68J_CB_F_01ug\\\",\\\"68J_CB_F_01ug\\\",\\\"68J_CB_F_01ug\\\",\\\"53K_PL_F_01ug\\\",\\\"63O_PL_F_01ug\\\",\\\"68J_PL_F_01ug\\\",\\\"21O_PL_F_01ug\\\",\\\"21O_PL_F_01ug\\\",\\\"53K_PL_F_01ug\\\",\\\"53K_PL_F_01ug\\\",\\\"57N_PL_F_01ug\\\",\\\"57N_PL_F_01ug\\\",\\\"63O_PL_F_01ug\\\",\\\"63O_PL_F_01ug\\\",\\\"67L_PL_F_01ug\\\",\\\"67L_PL_F_01ug\\\",\\\"68J_PL_F_01ug\\\",\\\"68J_PL_F_01ug\\\",\\\"53K_CB_S_01ug\\\",\\\"53K_CB_S_01ug\\\",\\\"53K_CB_S_01ug\\\",\\\"63O_CB_S_01ug\\\",\\\"63O_CB_S_01ug\\\",\\\"63O_CB_S_01ug\\\",\\\"68J_CB_S_01ug\\\",\\\"68J_CB_S_01ug\\\",\\\"68J_CB_S_01ug\\\",\\\"53K_PL_S_01ug\\\",\\\"53K_PL_S_01ug\\\",\\\"53K_PL_S_01ug\\\",\\\"63O_PL_S_01ug\\\",\\\"63O_PL_S_01ug\\\",\\\"63O_PL_S_01ug\\\",\\\"68J_PL_S_01ug\\\",\\\"68J_PL_S_01ug\\\",\\\"68J_PL_S_01ug\\\",\\\"53K_CB_F_25ug\\\",\\\"53K_CB_F_25ug\\\",\\\"53K_CB_F_25ug\\\",\\\"68J_CB_F_25ug\\\",\\\"68J_CB_F_25ug\\\",\\\"68J_CB_F_25ug\\\",\\\"57N_CB_F_25ug\\\",\\\"57N_CB_F_25ug\\\",\\\"57N_CB_F_25ug\\\",\\\"53K_PL_F_25ug\\\",\\\"68J_PL_F_25ug\\\",\\\"21O_PL_F_25ug\\\",\\\"21O_PL_F_25ug\\\",\\\"53K_PL_F_25ug\\\",\\\"53K_PL_F_25ug\\\",\\\"57N_PL_F_25ug\\\",\\\"57N_PL_F_25ug\\\",\\\"57N_PL_F_25ug\\\",\\\"63O_PL_F_25ug\\\",\\\"63O_PL_F_25ug\\\",\\\"67L_PL_F_25ug\\\",\\\"67L_PL_F_25ug\\\",\\\"68J_PL_F_25ug\\\",\\\"68J_PL_F_25ug\\\",\\\"53K_CB_S_25ug\\\",\\\"53K_CB_S_25ug\\\",\\\"53K_CB_S_25ug\\\",\\\"68J_CB_S_25ug\\\",\\\"68J_CB_S_25ug\\\",\\\"68J_CB_S_25ug\\\",\\\"57N_CB_S_25ug\\\",\\\"57N_CB_S_25ug\\\",\\\"57N_CB_S_25ug\\\",\\\"53K_PL_S_25ug\\\",\\\"53K_PL_S_25ug\\\",\\\"53K_PL_S_25ug\\\",\\\"68J_PL_S_25ug\\\",\\\"68J_PL_S_25ug\\\",\\\"68J_PL_S_25ug\\\",\\\"57N_PL_S_25ug\\\",\\\"57N_PL_S_25ug\\\",\\\"57N_PL_S_25ug\\\",\\\"53K_CB_F_05ug\\\",\\\"53K_CB_F_05ug\\\",\\\"53K_CB_F_05ug\\\",\\\"63O_CB_F_05ug\\\",\\\"63O_CB_F_05ug\\\",\\\"63O_CB_F_05ug\\\",\\\"68J_CB_F_05ug\\\",\\\"68J_CB_F_05ug\\\",\\\"68J_CB_F_05ug\\\",\\\"57N_CB_F_05ug\\\",\\\"57N_CB_F_05ug\\\",\\\"57N_CB_F_05ug\\\",\\\"53K_PL_F_05ug\\\",\\\"63O_PL_F_05ug\\\",\\\"68J_PL_F_05ug\\\",\\\"21O_PL_F_05ug\\\",\\\"21O_PL_F_05ug\\\",\\\"53K_PL_F_05ug\\\",\\\"53K_PL_F_05ug\\\",\\\"57N_PL_F_05ug\\\",\\\"57N_PL_F_05ug\\\",\\\"57N_PL_F_05ug\\\",\\\"63O_PL_F_05ug\\\",\\\"63O_PL_F_05ug\\\",\\\"67L_PL_F_05ug\\\",\\\"67L_PL_F_05ug\\\",\\\"68J_PL_F_05ug\\\",\\\"68J_PL_F_05ug\\\",\\\"53K_CB_S_05ug\\\",\\\"53K_CB_S_05ug\\\",\\\"53K_CB_S_05ug\\\",\\\"63O_CB_S_05ug\\\",\\\"63O_CB_S_05ug\\\",\\\"63O_CB_S_05ug\\\",\\\"68J_CB_S_05ug\\\",\\\"68J_CB_S_05ug\\\",\\\"68J_CB_S_05ug\\\",\\\"57N_CB_S_05ug\\\",\\\"57N_CB_S_05ug\\\",\\\"57N_CB_S_05ug\\\",\\\"53K_PL_S_05ug\\\",\\\"53K_PL_S_05ug\\\",\\\"53K_PL_S_05ug\\\",\\\"63O_PL_S_05ug\\\",\\\"63O_PL_S_05ug\\\",\\\"63O_PL_S_05ug\\\",\\\"68J_PL_S_05ug\\\",\\\"68J_PL_S_05ug\\\",\\\"68J_PL_S_05ug\\\",\\\"57N_PL_S_05ug\\\",\\\"57N_PL_S_05ug\\\",\\\"57N_PL_S_05ug\\\",\\\"53K_CB_F_01ug\\\",\\\"53K_CB_F_01ug\\\",\\\"53K_CB_F_01ug\\\",\\\"63O_CB_F_01ug\\\",\\\"63O_CB_F_01ug\\\",\\\"63O_CB_F_01ug\\\",\\\"68J_CB_F_01ug\\\",\\\"68J_CB_F_01ug\\\",\\\"68J_CB_F_01ug\\\",\\\"53K_PL_F_01ug\\\",\\\"63O_PL_F_01ug\\\",\\\"68J_PL_F_01ug\\\",\\\"21O_PL_F_01ug\\\",\\\"21O_PL_F_01ug\\\",\\\"53K_PL_F_01ug\\\",\\\"53K_PL_F_01ug\\\",\\\"57N_PL_F_01ug\\\",\\\"57N_PL_F_01ug\\\",\\\"63O_PL_F_01ug\\\",\\\"63O_PL_F_01ug\\\",\\\"67L_PL_F_01ug\\\",\\\"67L_PL_F_01ug\\\",\\\"68J_PL_F_01ug\\\",\\\"68J_PL_F_01ug\\\",\\\"53K_CB_S_01ug\\\",\\\"53K_CB_S_01ug\\\",\\\"53K_CB_S_01ug\\\",\\\"63O_CB_S_01ug\\\",\\\"63O_CB_S_01ug\\\",\\\"63O_CB_S_01ug\\\",\\\"68J_CB_S_01ug\\\",\\\"68J_CB_S_01ug\\\",\\\"68J_CB_S_01ug\\\",\\\"53K_PL_S_01ug\\\",\\\"53K_PL_S_01ug\\\",\\\"53K_PL_S_01ug\\\",\\\"63O_PL_S_01ug\\\",\\\"63O_PL_S_01ug\\\",\\\"63O_PL_S_01ug\\\",\\\"68J_PL_S_01ug\\\",\\\"68J_PL_S_01ug\\\",\\\"68J_PL_S_01ug\\\",\\\"53K_CB_F_25ug\\\",\\\"53K_CB_F_25ug\\\",\\\"53K_CB_F_25ug\\\",\\\"68J_CB_F_25ug\\\",\\\"68J_CB_F_25ug\\\",\\\"68J_CB_F_25ug\\\",\\\"57N_CB_F_25ug\\\",\\\"57N_CB_F_25ug\\\",\\\"57N_CB_F_25ug\\\",\\\"53K_PL_F_25ug\\\",\\\"68J_PL_F_25ug\\\",\\\"21O_PL_F_25ug\\\",\\\"21O_PL_F_25ug\\\",\\\"53K_PL_F_25ug\\\",\\\"53K_PL_F_25ug\\\",\\\"57N_PL_F_25ug\\\",\\\"57N_PL_F_25ug\\\",\\\"57N_PL_F_25ug\\\",\\\"63O_PL_F_25ug\\\",\\\"63O_PL_F_25ug\\\",\\\"67L_PL_F_25ug\\\",\\\"67L_PL_F_25ug\\\",\\\"68J_PL_F_25ug\\\",\\\"68J_PL_F_25ug\\\",\\\"53K_CB_S_25ug\\\",\\\"53K_CB_S_25ug\\\",\\\"53K_CB_S_25ug\\\",\\\"68J_CB_S_25ug\\\",\\\"68J_CB_S_25ug\\\",\\\"68J_CB_S_25ug\\\",\\\"57N_CB_S_25ug\\\",\\\"57N_CB_S_25ug\\\",\\\"57N_CB_S_25ug\\\",\\\"53K_PL_S_25ug\\\",\\\"53K_PL_S_25ug\\\",\\\"53K_PL_S_25ug\\\",\\\"68J_PL_S_25ug\\\",\\\"68J_PL_S_25ug\\\",\\\"68J_PL_S_25ug\\\",\\\"57N_PL_S_25ug\\\",\\\"57N_PL_S_25ug\\\",\\\"57N_PL_S_25ug\\\",\\\"53K_CB_F_05ug\\\",\\\"53K_CB_F_05ug\\\",\\\"53K_CB_F_05ug\\\",\\\"63O_CB_F_05ug\\\",\\\"63O_CB_F_05ug\\\",\\\"63O_CB_F_05ug\\\",\\\"68J_CB_F_05ug\\\",\\\"68J_CB_F_05ug\\\",\\\"68J_CB_F_05ug\\\",\\\"57N_CB_F_05ug\\\",\\\"57N_CB_F_05ug\\\",\\\"57N_CB_F_05ug\\\",\\\"53K_PL_F_05ug\\\",\\\"63O_PL_F_05ug\\\",\\\"68J_PL_F_05ug\\\",\\\"21O_PL_F_05ug\\\",\\\"21O_PL_F_05ug\\\",\\\"53K_PL_F_05ug\\\",\\\"53K_PL_F_05ug\\\",\\\"57N_PL_F_05ug\\\",\\\"57N_PL_F_05ug\\\",\\\"57N_PL_F_05ug\\\",\\\"63O_PL_F_05ug\\\",\\\"63O_PL_F_05ug\\\",\\\"67L_PL_F_05ug\\\",\\\"67L_PL_F_05ug\\\",\\\"68J_PL_F_05ug\\\",\\\"68J_PL_F_05ug\\\",\\\"53K_CB_S_05ug\\\",\\\"53K_CB_S_05ug\\\",\\\"53K_CB_S_05ug\\\",\\\"63O_CB_S_05ug\\\",\\\"63O_CB_S_05ug\\\",\\\"63O_CB_S_05ug\\\",\\\"68J_CB_S_05ug\\\",\\\"68J_CB_S_05ug\\\",\\\"68J_CB_S_05ug\\\",\\\"57N_CB_S_05ug\\\",\\\"57N_CB_S_05ug\\\",\\\"57N_CB_S_05ug\\\",\\\"53K_PL_S_05ug\\\",\\\"53K_PL_S_05ug\\\",\\\"53K_PL_S_05ug\\\",\\\"63O_PL_S_05ug\\\",\\\"63O_PL_S_05ug\\\",\\\"63O_PL_S_05ug\\\",\\\"68J_PL_S_05ug\\\",\\\"68J_PL_S_05ug\\\",\\\"68J_PL_S_05ug\\\",\\\"57N_PL_S_05ug\\\",\\\"57N_PL_S_05ug\\\",\\\"57N_PL_S_05ug\\\",\\\"53K_CB_F_01ug\\\",\\\"53K_CB_F_01ug\\\",\\\"53K_CB_F_01ug\\\",\\\"63O_CB_F_01ug\\\",\\\"63O_CB_F_01ug\\\",\\\"63O_CB_F_01ug\\\",\\\"68J_CB_F_01ug\\\",\\\"68J_CB_F_01ug\\\",\\\"68J_CB_F_01ug\\\",\\\"53K_PL_F_01ug\\\",\\\"63O_PL_F_01ug\\\",\\\"68J_PL_F_01ug\\\",\\\"21O_PL_F_01ug\\\",\\\"21O_PL_F_01ug\\\",\\\"53K_PL_F_01ug\\\",\\\"53K_PL_F_01ug\\\",\\\"57N_PL_F_01ug\\\",\\\"57N_PL_F_01ug\\\",\\\"63O_PL_F_01ug\\\",\\\"63O_PL_F_01ug\\\",\\\"67L_PL_F_01ug\\\",\\\"67L_PL_F_01ug\\\",\\\"68J_PL_F_01ug\\\",\\\"68J_PL_F_01ug\\\",\\\"53K_CB_S_01ug\\\",\\\"53K_CB_S_01ug\\\",\\\"53K_CB_S_01ug\\\",\\\"63O_CB_S_01ug\\\",\\\"63O_CB_S_01ug\\\",\\\"63O_CB_S_01ug\\\",\\\"68J_CB_S_01ug\\\",\\\"68J_CB_S_01ug\\\",\\\"68J_CB_S_01ug\\\",\\\"53K_PL_S_01ug\\\",\\\"53K_PL_S_01ug\\\",\\\"53K_PL_S_01ug\\\",\\\"63O_PL_S_01ug\\\",\\\"63O_PL_S_01ug\\\",\\\"63O_PL_S_01ug\\\",\\\"68J_PL_S_01ug\\\",\\\"68J_PL_S_01ug\\\",\\\"68J_PL_S_01ug\\\",\\\"53K_CB_F_25ug\\\",\\\"53K_CB_F_25ug\\\",\\\"53K_CB_F_25ug\\\",\\\"68J_CB_F_25ug\\\",\\\"68J_CB_F_25ug\\\",\\\"68J_CB_F_25ug\\\",\\\"57N_CB_F_25ug\\\",\\\"57N_CB_F_25ug\\\",\\\"57N_CB_F_25ug\\\",\\\"53K_PL_F_25ug\\\",\\\"68J_PL_F_25ug\\\",\\\"21O_PL_F_25ug\\\",\\\"21O_PL_F_25ug\\\",\\\"53K_PL_F_25ug\\\",\\\"53K_PL_F_25ug\\\",\\\"57N_PL_F_25ug\\\",\\\"57N_PL_F_25ug\\\",\\\"57N_PL_F_25ug\\\",\\\"63O_PL_F_25ug\\\",\\\"63O_PL_F_25ug\\\",\\\"67L_PL_F_25ug\\\",\\\"67L_PL_F_25ug\\\",\\\"68J_PL_F_25ug\\\",\\\"68J_PL_F_25ug\\\",\\\"53K_CB_S_25ug\\\",\\\"53K_CB_S_25ug\\\",\\\"53K_CB_S_25ug\\\",\\\"68J_CB_S_25ug\\\",\\\"68J_CB_S_25ug\\\",\\\"68J_CB_S_25ug\\\",\\\"57N_CB_S_25ug\\\",\\\"57N_CB_S_25ug\\\",\\\"57N_CB_S_25ug\\\",\\\"53K_PL_S_25ug\\\",\\\"53K_PL_S_25ug\\\",\\\"53K_PL_S_25ug\\\",\\\"68J_PL_S_25ug\\\",\\\"68J_PL_S_25ug\\\",\\\"68J_PL_S_25ug\\\",\\\"57N_PL_S_25ug\\\",\\\"57N_PL_S_25ug\\\",\\\"57N_PL_S_25ug\\\",\\\"53K_CB_F_05ug\\\",\\\"53K_CB_F_05ug\\\",\\\"53K_CB_F_05ug\\\",\\\"63O_CB_F_05ug\\\",\\\"63O_CB_F_05ug\\\",\\\"63O_CB_F_05ug\\\",\\\"68J_CB_F_05ug\\\",\\\"68J_CB_F_05ug\\\",\\\"68J_CB_F_05ug\\\",\\\"57N_CB_F_05ug\\\",\\\"57N_CB_F_05ug\\\",\\\"57N_CB_F_05ug\\\",\\\"53K_PL_F_05ug\\\",\\\"63O_PL_F_05ug\\\",\\\"68J_PL_F_05ug\\\",\\\"21O_PL_F_05ug\\\",\\\"21O_PL_F_05ug\\\",\\\"53K_PL_F_05ug\\\",\\\"53K_PL_F_05ug\\\",\\\"57N_PL_F_05ug\\\",\\\"57N_PL_F_05ug\\\",\\\"57N_PL_F_05ug\\\",\\\"63O_PL_F_05ug\\\",\\\"63O_PL_F_05ug\\\",\\\"67L_PL_F_05ug\\\",\\\"67L_PL_F_05ug\\\",\\\"68J_PL_F_05ug\\\",\\\"68J_PL_F_05ug\\\",\\\"53K_CB_S_05ug\\\",\\\"53K_CB_S_05ug\\\",\\\"53K_CB_S_05ug\\\",\\\"63O_CB_S_05ug\\\",\\\"63O_CB_S_05ug\\\",\\\"63O_CB_S_05ug\\\",\\\"68J_CB_S_05ug\\\",\\\"68J_CB_S_05ug\\\",\\\"68J_CB_S_05ug\\\",\\\"57N_CB_S_05ug\\\",\\\"57N_CB_S_05ug\\\",\\\"57N_CB_S_05ug\\\",\\\"53K_PL_S_05ug\\\",\\\"53K_PL_S_05ug\\\",\\\"53K_PL_S_05ug\\\",\\\"63O_PL_S_05ug\\\",\\\"63O_PL_S_05ug\\\",\\\"63O_PL_S_05ug\\\",\\\"68J_PL_S_05ug\\\",\\\"68J_PL_S_05ug\\\",\\\"68J_PL_S_05ug\\\",\\\"57N_PL_S_05ug\\\",\\\"57N_PL_S_05ug\\\",\\\"57N_PL_S_05ug\\\",\\\"53K_CB_F_01ug\\\",\\\"53K_CB_F_01ug\\\",\\\"53K_CB_F_01ug\\\",\\\"63O_CB_F_01ug\\\",\\\"63O_CB_F_01ug\\\",\\\"63O_CB_F_01ug\\\",\\\"68J_CB_F_01ug\\\",\\\"68J_CB_F_01ug\\\",\\\"68J_CB_F_01ug\\\",\\\"53K_PL_F_01ug\\\",\\\"63O_PL_F_01ug\\\",\\\"68J_PL_F_01ug\\\",\\\"21O_PL_F_01ug\\\",\\\"21O_PL_F_01ug\\\",\\\"53K_PL_F_01ug\\\",\\\"53K_PL_F_01ug\\\",\\\"57N_PL_F_01ug\\\",\\\"57N_PL_F_01ug\\\",\\\"63O_PL_F_01ug\\\",\\\"63O_PL_F_01ug\\\",\\\"67L_PL_F_01ug\\\",\\\"67L_PL_F_01ug\\\",\\\"68J_PL_F_01ug\\\",\\\"68J_PL_F_01ug\\\",\\\"53K_CB_S_01ug\\\",\\\"53K_CB_S_01ug\\\",\\\"53K_CB_S_01ug\\\",\\\"63O_CB_S_01ug\\\",\\\"63O_CB_S_01ug\\\",\\\"63O_CB_S_01ug\\\",\\\"68J_CB_S_01ug\\\",\\\"68J_CB_S_01ug\\\",\\\"68J_CB_S_01ug\\\",\\\"53K_PL_S_01ug\\\",\\\"53K_PL_S_01ug\\\",\\\"53K_PL_S_01ug\\\",\\\"63O_PL_S_01ug\\\",\\\"63O_PL_S_01ug\\\",\\\"63O_PL_S_01ug\\\",\\\"68J_PL_S_01ug\\\",\\\"68J_PL_S_01ug\\\",\\\"68J_PL_S_01ug\\\",\\\"53K_CB_F_25ug\\\",\\\"53K_CB_F_25ug\\\",\\\"53K_CB_F_25ug\\\",\\\"68J_CB_F_25ug\\\",\\\"68J_CB_F_25ug\\\",\\\"68J_CB_F_25ug\\\",\\\"57N_CB_F_25ug\\\",\\\"57N_CB_F_25ug\\\",\\\"57N_CB_F_25ug\\\",\\\"53K_PL_F_25ug\\\",\\\"68J_PL_F_25ug\\\",\\\"21O_PL_F_25ug\\\",\\\"21O_PL_F_25ug\\\",\\\"53K_PL_F_25ug\\\",\\\"53K_PL_F_25ug\\\",\\\"57N_PL_F_25ug\\\",\\\"57N_PL_F_25ug\\\",\\\"57N_PL_F_25ug\\\",\\\"63O_PL_F_25ug\\\",\\\"63O_PL_F_25ug\\\",\\\"67L_PL_F_25ug\\\",\\\"67L_PL_F_25ug\\\",\\\"68J_PL_F_25ug\\\",\\\"68J_PL_F_25ug\\\",\\\"53K_CB_S_25ug\\\",\\\"53K_CB_S_25ug\\\",\\\"53K_CB_S_25ug\\\",\\\"68J_CB_S_25ug\\\",\\\"68J_CB_S_25ug\\\",\\\"68J_CB_S_25ug\\\",\\\"57N_CB_S_25ug\\\",\\\"57N_CB_S_25ug\\\",\\\"57N_CB_S_25ug\\\",\\\"53K_PL_S_25ug\\\",\\\"53K_PL_S_25ug\\\",\\\"53K_PL_S_25ug\\\",\\\"68J_PL_S_25ug\\\",\\\"68J_PL_S_25ug\\\",\\\"68J_PL_S_25ug\\\",\\\"57N_PL_S_25ug\\\",\\\"57N_PL_S_25ug\\\",\\\"57N_PL_S_25ug\\\",\\\"53K_CB_F_05ug\\\",\\\"53K_CB_F_05ug\\\",\\\"53K_CB_F_05ug\\\",\\\"63O_CB_F_05ug\\\",\\\"63O_CB_F_05ug\\\",\\\"63O_CB_F_05ug\\\",\\\"68J_CB_F_05ug\\\",\\\"68J_CB_F_05ug\\\",\\\"68J_CB_F_05ug\\\",\\\"57N_CB_F_05ug\\\",\\\"57N_CB_F_05ug\\\",\\\"57N_CB_F_05ug\\\",\\\"53K_PL_F_05ug\\\",\\\"63O_PL_F_05ug\\\",\\\"68J_PL_F_05ug\\\",\\\"21O_PL_F_05ug\\\",\\\"21O_PL_F_05ug\\\",\\\"53K_PL_F_05ug\\\",\\\"53K_PL_F_05ug\\\",\\\"57N_PL_F_05ug\\\",\\\"57N_PL_F_05ug\\\",\\\"57N_PL_F_05ug\\\",\\\"63O_PL_F_05ug\\\",\\\"63O_PL_F_05ug\\\",\\\"67L_PL_F_05ug\\\",\\\"67L_PL_F_05ug\\\",\\\"68J_PL_F_05ug\\\",\\\"68J_PL_F_05ug\\\",\\\"53K_CB_S_05ug\\\",\\\"53K_CB_S_05ug\\\",\\\"53K_CB_S_05ug\\\",\\\"63O_CB_S_05ug\\\",\\\"63O_CB_S_05ug\\\",\\\"63O_CB_S_05ug\\\",\\\"68J_CB_S_05ug\\\",\\\"68J_CB_S_05ug\\\",\\\"68J_CB_S_05ug\\\",\\\"57N_CB_S_05ug\\\",\\\"57N_CB_S_05ug\\\",\\\"57N_CB_S_05ug\\\",\\\"53K_PL_S_05ug\\\",\\\"53K_PL_S_05ug\\\",\\\"53K_PL_S_05ug\\\",\\\"63O_PL_S_05ug\\\",\\\"63O_PL_S_05ug\\\",\\\"63O_PL_S_05ug\\\",\\\"68J_PL_S_05ug\\\",\\\"68J_PL_S_05ug\\\",\\\"68J_PL_S_05ug\\\",\\\"57N_PL_S_05ug\\\",\\\"57N_PL_S_05ug\\\",\\\"57N_PL_S_05ug\\\",\\\"53K_CB_F_01ug\\\",\\\"53K_CB_F_01ug\\\",\\\"53K_CB_F_01ug\\\",\\\"63O_CB_F_01ug\\\",\\\"63O_CB_F_01ug\\\",\\\"63O_CB_F_01ug\\\",\\\"68J_CB_F_01ug\\\",\\\"68J_CB_F_01ug\\\",\\\"68J_CB_F_01ug\\\",\\\"53K_PL_F_01ug\\\",\\\"63O_PL_F_01ug\\\",\\\"68J_PL_F_01ug\\\",\\\"21O_PL_F_01ug\\\",\\\"21O_PL_F_01ug\\\",\\\"53K_PL_F_01ug\\\",\\\"53K_PL_F_01ug\\\",\\\"57N_PL_F_01ug\\\",\\\"57N_PL_F_01ug\\\",\\\"63O_PL_F_01ug\\\",\\\"63O_PL_F_01ug\\\",\\\"67L_PL_F_01ug\\\",\\\"67L_PL_F_01ug\\\",\\\"68J_PL_F_01ug\\\",\\\"68J_PL_F_01ug\\\",\\\"53K_CB_S_01ug\\\",\\\"53K_CB_S_01ug\\\",\\\"53K_CB_S_01ug\\\",\\\"63O_CB_S_01ug\\\",\\\"63O_CB_S_01ug\\\",\\\"63O_CB_S_01ug\\\",\\\"68J_CB_S_01ug\\\",\\\"68J_CB_S_01ug\\\",\\\"68J_CB_S_01ug\\\",\\\"53K_PL_S_01ug\\\",\\\"53K_PL_S_01ug\\\",\\\"53K_PL_S_01ug\\\",\\\"63O_PL_S_01ug\\\",\\\"63O_PL_S_01ug\\\",\\\"63O_PL_S_01ug\\\",\\\"68J_PL_S_01ug\\\",\\\"68J_PL_S_01ug\\\",\\\"68J_PL_S_01ug\\\",\\\"53K_CB_F_25ug\\\",\\\"53K_CB_F_25ug\\\",\\\"53K_CB_F_25ug\\\",\\\"68J_CB_F_25ug\\\",\\\"68J_CB_F_25ug\\\",\\\"68J_CB_F_25ug\\\",\\\"57N_CB_F_25ug\\\",\\\"57N_CB_F_25ug\\\",\\\"57N_CB_F_25ug\\\",\\\"53K_PL_F_25ug\\\",\\\"68J_PL_F_25ug\\\",\\\"21O_PL_F_25ug\\\",\\\"21O_PL_F_25ug\\\",\\\"53K_PL_F_25ug\\\",\\\"53K_PL_F_25ug\\\",\\\"57N_PL_F_25ug\\\",\\\"57N_PL_F_25ug\\\",\\\"57N_PL_F_25ug\\\",\\\"63O_PL_F_25ug\\\",\\\"63O_PL_F_25ug\\\",\\\"67L_PL_F_25ug\\\",\\\"67L_PL_F_25ug\\\",\\\"68J_PL_F_25ug\\\",\\\"68J_PL_F_25ug\\\",\\\"53K_CB_S_25ug\\\",\\\"53K_CB_S_25ug\\\",\\\"53K_CB_S_25ug\\\",\\\"68J_CB_S_25ug\\\",\\\"68J_CB_S_25ug\\\",\\\"68J_CB_S_25ug\\\",\\\"57N_CB_S_25ug\\\",\\\"57N_CB_S_25ug\\\",\\\"57N_CB_S_25ug\\\",\\\"53K_PL_S_25ug\\\",\\\"53K_PL_S_25ug\\\",\\\"53K_PL_S_25ug\\\",\\\"68J_PL_S_25ug\\\",\\\"68J_PL_S_25ug\\\",\\\"68J_PL_S_25ug\\\",\\\"57N_PL_S_25ug\\\",\\\"57N_PL_S_25ug\\\",\\\"57N_PL_S_25ug\\\",\\\"53K_CB_F_05ug\\\",\\\"53K_CB_F_05ug\\\",\\\"53K_CB_F_05ug\\\",\\\"63O_CB_F_05ug\\\",\\\"63O_CB_F_05ug\\\",\\\"63O_CB_F_05ug\\\",\\\"68J_CB_F_05ug\\\",\\\"68J_CB_F_05ug\\\",\\\"68J_CB_F_05ug\\\",\\\"57N_CB_F_05ug\\\",\\\"57N_CB_F_05ug\\\",\\\"57N_CB_F_05ug\\\",\\\"53K_PL_F_05ug\\\",\\\"63O_PL_F_05ug\\\",\\\"68J_PL_F_05ug\\\",\\\"21O_PL_F_05ug\\\",\\\"21O_PL_F_05ug\\\",\\\"53K_PL_F_05ug\\\",\\\"53K_PL_F_05ug\\\",\\\"57N_PL_F_05ug\\\",\\\"57N_PL_F_05ug\\\",\\\"57N_PL_F_05ug\\\",\\\"63O_PL_F_05ug\\\",\\\"63O_PL_F_05ug\\\",\\\"67L_PL_F_05ug\\\",\\\"67L_PL_F_05ug\\\",\\\"68J_PL_F_05ug\\\",\\\"68J_PL_F_05ug\\\",\\\"53K_CB_S_05ug\\\",\\\"53K_CB_S_05ug\\\",\\\"53K_CB_S_05ug\\\",\\\"63O_CB_S_05ug\\\",\\\"63O_CB_S_05ug\\\",\\\"63O_CB_S_05ug\\\",\\\"68J_CB_S_05ug\\\",\\\"68J_CB_S_05ug\\\",\\\"68J_CB_S_05ug\\\",\\\"57N_CB_S_05ug\\\",\\\"57N_CB_S_05ug\\\",\\\"57N_CB_S_05ug\\\",\\\"53K_PL_S_05ug\\\",\\\"53K_PL_S_05ug\\\",\\\"53K_PL_S_05ug\\\",\\\"63O_PL_S_05ug\\\",\\\"63O_PL_S_05ug\\\",\\\"63O_PL_S_05ug\\\",\\\"68J_PL_S_05ug\\\",\\\"68J_PL_S_05ug\\\",\\\"68J_PL_S_05ug\\\",\\\"57N_PL_S_05ug\\\",\\\"57N_PL_S_05ug\\\",\\\"57N_PL_S_05ug\\\",\\\"53K_CB_F_01ug\\\",\\\"53K_CB_F_01ug\\\",\\\"53K_CB_F_01ug\\\",\\\"63O_CB_F_01ug\\\",\\\"63O_CB_F_01ug\\\",\\\"63O_CB_F_01ug\\\",\\\"68J_CB_F_01ug\\\",\\\"68J_CB_F_01ug\\\",\\\"68J_CB_F_01ug\\\",\\\"53K_PL_F_01ug\\\",\\\"63O_PL_F_01ug\\\",\\\"68J_PL_F_01ug\\\",\\\"21O_PL_F_01ug\\\",\\\"21O_PL_F_01ug\\\",\\\"53K_PL_F_01ug\\\",\\\"53K_PL_F_01ug\\\",\\\"57N_PL_F_01ug\\\",\\\"57N_PL_F_01ug\\\",\\\"63O_PL_F_01ug\\\",\\\"63O_PL_F_01ug\\\",\\\"67L_PL_F_01ug\\\",\\\"67L_PL_F_01ug\\\",\\\"68J_PL_F_01ug\\\",\\\"68J_PL_F_01ug\\\",\\\"53K_CB_S_01ug\\\",\\\"53K_CB_S_01ug\\\",\\\"53K_CB_S_01ug\\\",\\\"63O_CB_S_01ug\\\",\\\"63O_CB_S_01ug\\\",\\\"63O_CB_S_01ug\\\",\\\"68J_CB_S_01ug\\\",\\\"68J_CB_S_01ug\\\",\\\"68J_CB_S_01ug\\\",\\\"53K_PL_S_01ug\\\",\\\"53K_PL_S_01ug\\\",\\\"53K_PL_S_01ug\\\",\\\"63O_PL_S_01ug\\\",\\\"63O_PL_S_01ug\\\",\\\"63O_PL_S_01ug\\\",\\\"68J_PL_S_01ug\\\",\\\"68J_PL_S_01ug\\\",\\\"68J_PL_S_01ug\\\",\\\"53K_CB_F_25ug\\\",\\\"53K_CB_F_25ug\\\",\\\"53K_CB_F_25ug\\\",\\\"68J_CB_F_25ug\\\",\\\"68J_CB_F_25ug\\\",\\\"68J_CB_F_25ug\\\",\\\"57N_CB_F_25ug\\\",\\\"57N_CB_F_25ug\\\",\\\"57N_CB_F_25ug\\\",\\\"53K_PL_F_25ug\\\",\\\"68J_PL_F_25ug\\\",\\\"21O_PL_F_25ug\\\",\\\"21O_PL_F_25ug\\\",\\\"53K_PL_F_25ug\\\",\\\"53K_PL_F_25ug\\\",\\\"57N_PL_F_25ug\\\",\\\"57N_PL_F_25ug\\\",\\\"57N_PL_F_25ug\\\",\\\"63O_PL_F_25ug\\\",\\\"63O_PL_F_25ug\\\",\\\"67L_PL_F_25ug\\\",\\\"67L_PL_F_25ug\\\",\\\"68J_PL_F_25ug\\\",\\\"68J_PL_F_25ug\\\",\\\"53K_CB_S_25ug\\\",\\\"53K_CB_S_25ug\\\",\\\"53K_CB_S_25ug\\\",\\\"68J_CB_S_25ug\\\",\\\"68J_CB_S_25ug\\\",\\\"68J_CB_S_25ug\\\",\\\"57N_CB_S_25ug\\\",\\\"57N_CB_S_25ug\\\",\\\"57N_CB_S_25ug\\\",\\\"53K_PL_S_25ug\\\",\\\"53K_PL_S_25ug\\\",\\\"53K_PL_S_25ug\\\",\\\"68J_PL_S_25ug\\\",\\\"68J_PL_S_25ug\\\",\\\"68J_PL_S_25ug\\\",\\\"57N_PL_S_25ug\\\",\\\"57N_PL_S_25ug\\\",\\\"57N_PL_S_25ug\\\",\\\"53K_CB_F_05ug\\\",\\\"53K_CB_F_05ug\\\",\\\"53K_CB_F_05ug\\\",\\\"63O_CB_F_05ug\\\",\\\"63O_CB_F_05ug\\\",\\\"63O_CB_F_05ug\\\",\\\"68J_CB_F_05ug\\\",\\\"68J_CB_F_05ug\\\",\\\"68J_CB_F_05ug\\\",\\\"57N_CB_F_05ug\\\",\\\"57N_CB_F_05ug\\\",\\\"57N_CB_F_05ug\\\",\\\"53K_PL_F_05ug\\\",\\\"63O_PL_F_05ug\\\",\\\"68J_PL_F_05ug\\\",\\\"21O_PL_F_05ug\\\",\\\"21O_PL_F_05ug\\\",\\\"53K_PL_F_05ug\\\",\\\"53K_PL_F_05ug\\\",\\\"57N_PL_F_05ug\\\",\\\"57N_PL_F_05ug\\\",\\\"57N_PL_F_05ug\\\",\\\"63O_PL_F_05ug\\\",\\\"63O_PL_F_05ug\\\",\\\"67L_PL_F_05ug\\\",\\\"67L_PL_F_05ug\\\",\\\"68J_PL_F_05ug\\\",\\\"68J_PL_F_05ug\\\",\\\"53K_CB_S_05ug\\\",\\\"53K_CB_S_05ug\\\",\\\"53K_CB_S_05ug\\\",\\\"63O_CB_S_05ug\\\",\\\"63O_CB_S_05ug\\\",\\\"63O_CB_S_05ug\\\",\\\"68J_CB_S_05ug\\\",\\\"68J_CB_S_05ug\\\",\\\"68J_CB_S_05ug\\\",\\\"57N_CB_S_05ug\\\",\\\"57N_CB_S_05ug\\\",\\\"57N_CB_S_05ug\\\",\\\"53K_PL_S_05ug\\\",\\\"53K_PL_S_05ug\\\",\\\"53K_PL_S_05ug\\\",\\\"63O_PL_S_05ug\\\",\\\"63O_PL_S_05ug\\\",\\\"63O_PL_S_05ug\\\",\\\"68J_PL_S_05ug\\\",\\\"68J_PL_S_05ug\\\",\\\"68J_PL_S_05ug\\\",\\\"57N_PL_S_05ug\\\",\\\"57N_PL_S_05ug\\\",\\\"57N_PL_S_05ug\\\"],\\\"type\\\":\\\"heatmap\\\",\\\"z\\\":[0.08656775,0.0,0.256362446,1.825374766,2.02573607,2.143486684,0.268424628,0.472690295,0.280480505,0.0,1.352866222,0.316612973,0.585877961,0.123916165,0.0,0.0,0.798540762,2.030223484,2.249092345,2.647592302,1.365561626,0.817716613,0.0,0.0,0.352697432,0.340674279,0.854598653,2.049292406,2.555047973,2.190565676,0.484668415,0.400743935,0.412744764,0.08656775,0.0,0.0,1.896118318,1.99039559,1.601136902,0.340674279,0.400743935,0.292530356,0.830799441,0.19594515,0.074338397,0.902174181,0.232217922,0.292530356,2.845658675,2.575381623,2.303634378,0.0,0.0,0.0,0.0,0.0,0.0,2.521155323,1.178218991,2.521155323,1.272067962,2.39439112,1.718027052,1.346889974,0.0,0.0,0.878390162,0.0,0.376729599,0.54450902,0.110968603,0.364715818,1.938675641,1.69957612,1.773319176,0.0,0.012682205,0.098776966,0.304574434,0.316612973,0.049804174,1.178218991,1.008291433,0.989323515,0.532547301,0.232217922,0.268424628,2.331733203,1.317357812,1.825374766,0.049804174,0.0,0.062085482,2.303634378,0.388998606,1.328204991,0.012682205,1.341031303,0.0,0.0,0.0,0.0,0.0,0.624804502,0.855999545,0.527234262,1.718027052,1.197018642,0.663606538,0.329014494,0.0,0.0,0.663968389,0.220134876,0.074338397,2.860273375,2.602032072,2.343492603,0.484668415,0.340674279,0.424741535,2.665629042,1.810131192,2.629549239,0.025121943,0.159593627,0.0,1.400193978,3.012741803,1.931478531,0.13530667,4.46961e-5,0.0,1.644160943,1.681114876,1.570123612,0.211510569,0.321446017,0.171989123,0.908055171,1.047137402,2.041139983,0.587226252,0.310884722,0.26753999,0.400263268,0.759835589,0.173149248,0.251462545,0.179826934,0.234564828,0.472839698,1.661266926,4.884849573,3.309726873,4.759110136,1.449248881,0.223313231,0.149091928,0.050976652,0.273390066,0.51251725,0.278071835,1.169731022,1.729047185,3.067249742,0.051296511,0.062657703,62.08644159,0.248836261,0.279242511,0.439196403,1.999794153,1.063948276,1.323923932,0.148818999,0.203361442,0.474647362,0.530287357,0.250004485,0.265200634,0.977548653,0.248836261,0.28041328,3.918253618,3.161281752,3.748427179,0.238326963,0.184758413,1.274261315,0.31077689,0.904134554,1.923761226,3.254785709,2.384485912,4.135974899,0.600182998,0.55432669,1.536908431,2.552767647,0.107393032,0.199442317,0.567047805,0.245332211,0.527917346,0.274560367,0.159237716,107.8805003,1.01127246,1.453629337,1.093956944,0.303847618,0.210346039,0.126870296,0.183596862,0.10269515,0.397905926,1.282999572,0.888229976,1.336912048,0.175469936,0.245332211,0.433293079,1.416851517,0.577728838,0.924820386,0.665687802,0.255847147,0.342588141,4.582594743,1.972237583,4.613998187,0.182435449,0.587226252,0.149975972,0.438611768,0.240194752,1.256788475,0.590145663,1.988401839,9.762653323,2.085443374,2.421369409,2.082501335,3.125676213,1.089601866,0.172831669,0.089418691,0.192893085,0.234825792,0.19870755,1.857646565,1.706015762,0.899674785,0.125716982,0.158079429,0.170829146,0.964912684,0.431487616,1.089601866,0.136103782,0.139569431,0.113044098,1.048338007,1.086771215,1.120421828,0.155763338,0.117649471,0.321446017,0.441462087,1.804881362,1.345658844,0.0,0.050170952,0.039268527,1.685784597,1.321596019,2.20091642,0.009397477,0.0,0.124019181,0.421238745,1.557840553,0.091154704,0.08001951,0.164681172,0.0,0.259835035,1.767245566,6.352730985,0.782244328,0.760573071,0.829178351,0.86526332,0.0,0.0,0.104841459,0.192630927,0.187136242,0.777906338,1.182745498,1.746996799,0.093891204,0.088418655,0.181642449,0.143213277,0.173403487,1.088382229,0.716997261,1.066186025,2.493646449,0.132243357,0.192630927,0.189883475,0.01480983,0.0,0.0,0.523407551,0.0,0.074745669,1.016663481,0.492715177,0.897726951,0.526170548,0.033823269,0.278088093,0.912151454,0.124266987,0.449156592,1.570094879,0.868870981,1.473225843,0.456419221,1.66690604,4.217078386,2.618200106,0.072623381,0.350985413,0.517881805,0.429517898,0.559332828,0.140470349,0.178895894,0.310945396,0.485458217,0.662973035,0.430994768,0.044717922,0.001319686,0.004003103,0.622924679,0.055627227,0.228366512,0.441892773,0.53985977,0.623169757,0.031102389,0.67825233,0.27514399,1.894516739,1.149435499,2.393255238,0.050170952,0.0,0.036545344,0.615930095,0.175684388,0.391010914,0.553804986,0.335744646,0.0,0.430994768,0.372822939,0.091100715,0.054097027,0.358266083,0.358266083,2.039328994,0.383736779,0.713597213,1.92123301,1.200208651,0.14999839,0.0,0.088418655,0.091154704,0.085683069,0.606331764,1.0606374,1.118906386,0.162421583,0.001319686,0.082947961,0.623169757,0.369184276,0.775021251,0.0,0.004003103,0.0,1.093931701,1.38827614,0.991294363,0.0,0.0,0.009397477,0.376461242,0.423727883,0.684673697,6.5851691,15.13117801,15.60925246,33.75571506,29.08849335,43.79606769,13.77321877,15.96999848,14.0206441,28.23179398,42.92539551,20.48793331,16.19484514,26.71233936,21.98616084,26.59384166,34.76577172,37.7833129,49.92366415,48.42461743,29.93073568,30.17102155,15.70825455,19.44752335,2.242720911,11.68285561,12.34772148,18.32511372,26.48850842,36.9171494,0.0,0.0,2.501764598,6.017179727,22.44832428,27.47112609,20.37503525,37.26051887,45.09013788,8.448780902,16.08924293,25.01420322,14.66544588,8.191197067,14.22322204,37.11714126,22.82572669,20.21813912,56.39499162,61.15897093,76.43350817,17.76686175,16.6004136,22.08296617,27.38493555,21.82829378,32.87454431,60.4343472,44.60987618,60.00099872,40.3267821,33.92593003,32.20690935,37.36389376,13.49759211,22.08296617,12.80261768,14.85271181,17.32267161,5.471940368,5.381173747,19.33381459,50.91773435,55.61299471,50.2758701,2.639371192,5.103581041,2.903312165,14.7488383,3.275982845,17.37022486,41.57890206,51.48259206,54.22475426,2.877531693,21.4298298,21.84205889,48.03160635,31.03080535,36.42083758,33.24722437,14.28686118,11.706537,56.28563396,40.01636134,61.06786276,20.78158798,9.047203225,13.12686767,19.15886685,22.52736418,19.78532057,26.31246524,50.17329805,37.61763314,40.13398944,52.3586508,41.1751245,26.49664869,26.51826591,18.28996907,13.33364984,5.597624489,9.42526204,8.176755126,16.74624431,22.16709867,27.02693571,1.66506294,1.557973402,7.450561665,53.2047078,40.41043042,49.62162598,2.693302472,5.103581041,4.797890389,33.53171212,38.37230373,37.43465582,6.601457119,2.825580402,10.08025271,43.43534322,35.87271697,35.84574757,2.156076756,1.731622009,1.314620733,4.097886695,5.269672819,5.263529857,2.012536982,1.426220442,0.761639678,2.365884044,4.623520907,1.101252568,2.476533639,3.990550929,1.306609863,2.360014043,5.738684535,9.243874539,8.103652386,8.295720022,5.954740415,5.016289461,1.623982473,2.675676224,1.073050797,1.514524089,2.506994573,4.242792591,5.864386472,5.375334246,0.039849431,0.153763039,0.889138687,1.540280133,1.907035756,2.687384525,6.455559779,4.605097132,5.693575464,0.895268731,1.589340269,1.908262482,3.632530866,1.415182792,1.491221316,4.657912343,1.70463671,1.285189036,9.579219492,7.896512901,9.068658113,1.65434696,0.907528896,2.253577277,3.14766145,2.216397333,3.258812083,7.709381868,5.777211224,9.71266559,5.524233459,7.704368931,5.465581909,7.37178432,1.308308971,3.348043202,3.072758466,1.7132229,1.941384368,1.8518339,1.623683142,1.465465971,7.799610256,9.148760204,7.380142189,1.658026652,1.709543099,1.312168072,1.207933248,1.190765777,1.596699402,6.204209264,7.141076179,6.933720848,1.077955418,1.60037898,1.422541217,6.147050046,4.664053724,4.591586456,3.950534168,1.27783119,1.303583788,8.207206304,3.886339914,7.59240646,1.444616676,4.639488296,1.135585823,2.577811338,3.228501914,1.610418819,3.012882918,5.292946364,5.733659149,6.197513254,6.297946952,6.302968276,4.39707502,4.853585542,1.801903401,1.501867284,0.972509446,0.764091473,0.971283373,5.699719533,5.707092438,4.718098576,1.009292117,1.112288178,1.174824712,6.503793655,5.738684535,7.503829676,1.088990868,1.05956317,0.934501615,4.008246108,5.567011134,7.007533427,0.815580168,1.064467748,2.136446776,5.482340056,5.230919579,6.220949019,1.089479577,0.602215898,0.94652791,2.362231523,2.064008374,3.968921702,0.510002476,0.260136659,0.42111411,0.684115323,1.636581352,0.249844995,0.58043271,0.738164682,0.587269492,0.748484233,5.021824936,5.336532484,6.22892147,6.756514573,3.174183486,1.723713776,0.339298733,0.201949736,0.311561668,0.506585436,1.007806837,2.71779779,3.509337224,3.076493578,0.0,0.036303574,0.455313515,0.527085738,0.554412432,0.939717782,2.399494322,2.419818148,2.738107875,0.249844995,0.670469482,0.544165842,1.850363389,0.115779664,0.646585441,2.575603728,0.064007911,0.619283237,8.682545723,2.910168569,5.775025046,0.256706369,0.239550898,3.89047865,0.844971819,1.149962702,1.502612311,3.081354071,3.052805651,8.946609229,1.734261574,1.499109247,6.829371881,3.524696571,0.295556842,0.903695509,1.802868708,0.544165842,1.157513724,0.704581194,0.414272364,80.45855743,2.419517767,3.499628817,1.846873015,0.38347635,0.800045469,0.646585441,0.342392748,0.496333522,0.400586923,2.023181714,5.742379329,2.019651514,0.581731449,0.273855262,0.830716302,3.908111289,1.167716873,2.680560488,1.619608124,0.414272364,0.615869986,5.068818483,8.766877011,3.818683612,0.386898808,1.426040489,0.314988177,0.478145621,0.927905008,3.937163886,0.703793458,2.143301829,6.428911723,4.455218562,2.771271648,2.497577139,3.43876942,2.217581579,0.413649801,0.096422345,0.540750069,0.177728506,0.585145806,3.772959001,4.016215287,4.201983442,0.516836167,0.386898808,0.704581194,1.716682839,1.139527023,3.43519032,0.198347899,0.561242891,0.225821465,1.32750346,3.827022942,2.785494903,0.318414472,0.520252818,0.878413825,1.303290955,2.398240084,2.458539423,0.00719332,0.009042995,0.012148819,1.011741356,0.400570088,0.448122012,0.004142389,0.018424132,0.02730975,0.020952639,0.254877763,0.009662046,0.024024481,0.059919399,0.010252971,0.026807517,0.084186062,0.560541238,0.203896456,0.452700166,0.18926352,0.152080748,0.016415051,0.008217031,0.031144853,0.076623288,0.141599255,0.361407182,1.023044027,0.812454834,0.015905367,0.009662046,0.074653754,0.036922092,0.014023548,0.115611516,0.383379422,0.936248623,1.168160962,0.045311327,0.026034642,0.028586534,0.040788043,0.009042995,0.0,0.133587455,0.029225532,0.0,0.440008106,0.233238442,0.390076925,0.014023548,0.015905367,0.019173791,0.023329923,0.002203575,0.031694592,0.270043308,0.119456941,0.39230942,0.141910695,0.275206282,0.128861412,0.233973209,0.004186411,0.021249357,0.248086948,0.153640713,0.241301364,0.002937789,0.040142974,0.08912876,0.30401401,0.450459745,0.258988038,0.005967432,0.002340392,0.011525655,0.078594246,0.0,0.068099398,0.232503733,0.211222754,0.282586091,0.022854731,0.142267491,0.018424132,0.450883169,0.197332927,0.317577829,0.013397806,0.010903437,0.015905367,0.332889287,0.06703522,0.284800966,0.08451534,0.187896918,0.012772883,0.001551016,0.043636227,0.017793107,0.031694592,0.114400442,0.146993558,0.202431967,0.092076891,0.192187946,0.081321087,0.121625638,0.004186411,0.031694592,0.055696383,0.062868588,0.059605474,0.346322954,0.992676233,0.576982434,0.018424132,0.017793477,0.038853715,0.158627563,0.16445255,0.314372034,0.005357054,0.004748628,0.009662046,0.165037694,0.822283533,0.43915158,0.0,0.010903437,0.022220187,0.175387969,0.123071966,0.175387969,2.950101513,2.898572663,1.997232881,5.290431699,7.123278239,8.066367758,1.609182443,1.119392086,0.502006683,5.550633779,6.241768839,0.58484765,4.420335272,5.168925458,1.607421647,3.229342159,10.21648878,48.8954697,5.920934047,10.12424297,37.0402187,25.9844751,0.646368894,1.187114361,1.638952628,2.592184618,6.852249296,6.584495246,10.92715039,10.06305382,0.0,0.0,0.874745116,3.873226226,3.350068478,6.280904753,10.86124196,8.860168549,11.33000232,0.858917669,1.514548385,1.429383718,6.380810929,1.554462773,1.933923076,7.346225888,1.841025348,0.479696623,44.60994911,22.96779462,34.30205483,2.954781571,0.573872044,2.688645727,5.025135174,2.810300826,5.040029817,32.89794156,10.28561592,41.97828307,5.651825017,7.587069143,14.59147739,35.42911148,0.590715049,4.269078198,5.117747927,2.468653134,2.411435902,1.000405327,1.196322037,1.353824926,20.83100431,47.90046496,26.46898442,2.64427354,2.672643324,2.128105542,1.067818791,0.974359924,1.524536523,28.3192385,37.02410414,31.98702191,1.589305754,2.516235182,1.713149627,9.124596359,6.241768839,6.998646457,2.334938618,1.016000693,0.958700059,39.23713245,4.025884651,44.72845948,2.879812755,6.528219449,0.916816583,2.915640502,2.67273564,2.17962341,3.462522329,19.85731333,23.12867422,26.10986923,3.606779221,4.626184053,10.71313409,12.36553594,1.018309633,0.4201135,1.653817858,0.958700059,1.093635165,10.83651624,13.45762786,12.12750024,0.73657409,1.109096346,0.984786154,20.47554955,17.60301154,54.16505714,1.119392086,1.574382289,0.953474561,5.809648353,10.82002936,18.85437479,0.880014691,1.186093312,3.015556869,24.41999307,24.57143655,27.65963304,3101.009346,2493.264495,2075.906143,4067.184793,4099.30522,4129.84303,2994.880357,1874.982343,1349.178328,3602.063183,4096.299352,1791.111789,2572.992221,3756.836307,1677.935276,2948.730937,3975.154443,4078.085156,4271.277533,4249.455231,4157.366979,4020.773885,1624.361463,2860.262601,1348.429442,2282.196368,3503.370387,4157.635384,4175.406951,4161.380732,0.103518689,0.055062342,1257.074409,2359.34632,2777.86634,3714.541787,4162.216758,4099.898599,4153.363439,1139.834569,2511.159163,2405.407872,3793.744898,2075.115497,2208.903927,3988.496424,2878.175628,2406.22208,4365.552579,4276.81135,4248.695715,2681.297656,1541.465277,2966.313554,3695.501125,2349.329016,3017.593738,4193.209275,4141.23407,4203.368904,4077.076915,4217.312026,4119.065855,4172.271146,1566.906399,3520.42975,3796.206289,2933.225833,3048.650346,3193.677406,2552.053003,2214.575083,4172.392569,4166.157597,4192.0572,2643.027412,2673.115552,2254.669874,1576.547845,1894.869983,2342.476726,3984.552021,3979.368824,4098.433211,1892.993122,2607.301886,2454.948884,4083.894743,3950.374236,3889.148531,3624.493939,1736.688073,1767.938835,4215.685626,3917.774413,4146.636223,2626.725099,3970.010609,1676.855952,3067.885684,3806.196351,2248.876401,3506.744373,4000.262354,4009.523978,3955.873001,3943.178444,3886.075083,3940.25476,3926.647442,1779.558107,1296.514993,1756.603761,1449.677612,1642.519334,4078.791628,4055.782001,3912.485326,1315.767051,1393.28078,1321.112511,4257.931254,4129.542901,4283.485752,1790.325189,1817.984882,1392.06249,3874.362108,3932.482289,4054.765421,1025.078249,1371.451688,2800.765627,4161.670528,4110.034564,4204.300713,0.949502979,1.600599954,1.333518968,4.540422037,6.441222629,10.24773942,0.967662517,1.867020625,0.767606577,3.964862423,9.412574198,2.788347888,2.534623006,5.623000184,3.963929763,5.428262619,7.143966655,15.11787697,14.44568338,12.49783028,8.346551836,6.167014589,3.202473713,2.963874875,0.364846706,0.945870459,1.586181053,4.37355619,5.890017505,8.829420463,0.07119562,0.010203999,0.131283035,0.320595603,1.715883496,4.19593587,7.57682584,4.579462536,10.51772067,0.577746697,1.344360994,1.669063817,2.244102212,0.658169763,1.246734893,3.883050855,2.713257156,1.49601827,15.44653193,14.66673465,20.02845,2.057484986,1.347974715,3.825903086,6.462579726,4.59281821,7.466921566,14.82186984,10.21535132,17.43678531,8.873681031,11.57920305,8.082546045,7.423568987,2.092670682,4.56341106,1.971270789,1.076517187,2.799072677,0.588722748,0.353791768,0.69102719,9.900822503,19.93079052,14.45509226,0.489821764,0.74209325,0.22067507,1.159861349,0.093792788,1.607808684,11.52703992,11.64558038,17.65169896,0.294741402,3.409448333,2.670334424,11.3410677,6.525960028,8.948906742,3.936409082,1.643845211,0.687377526,15.39959659,10.09148783,15.70927635,2.096981847,3.202617315,1.257587665,3.038508124,3.346317373,4.200152072,4.984289505,13.31970483,11.98200244,9.962802968,7.90957626,10.34868295,7.93360784,6.438371504,3.623469795,2.288909345,0.552123811,1.159861349,0.541137236,3.69087036,5.419479102,8.773183378,0.357477307,0.209535944,0.683727575,7.283815651,11.30881156,13.27723936,0.386941879,0.331666392,0.449446968,5.083012935,10.98731574,7.833912288,0.294741402,0.416373285,1.47436742,9.285020446,8.32256375,11.31355724],\\\"transpose\\\":true,\\\"x\\\":[\\\"IFN-?\\\",\\\"IFN-?\\\",\\\"IFN-?\\\",\\\"IFN-?\\\",\\\"IFN-?\\\",\\\"IFN-?\\\",\\\"IFN-?\\\",\\\"IFN-?\\\",\\\"IFN-?\\\",\\\"IFN-?\\\",\\\"IFN-?\\\",\\\"IFN-?\\\",\\\"IFN-?\\\",\\\"IFN-?\\\",\\\"IFN-?\\\",\\\"IFN-?\\\",\\\"IFN-?\\\",\\\"IFN-?\\\",\\\"IFN-?\\\",\\\"IFN-?\\\",\\\"IFN-?\\\",\\\"IFN-?\\\",\\\"IFN-?\\\",\\\"IFN-?\\\",\\\"IFN-?\\\",\\\"IFN-?\\\",\\\"IFN-?\\\",\\\"IFN-?\\\",\\\"IFN-?\\\",\\\"IFN-?\\\",\\\"IFN-?\\\",\\\"IFN-?\\\",\\\"IFN-?\\\",\\\"IFN-?\\\",\\\"IFN-?\\\",\\\"IFN-?\\\",\\\"IFN-?\\\",\\\"IFN-?\\\",\\\"IFN-?\\\",\\\"IFN-?\\\",\\\"IFN-?\\\",\\\"IFN-?\\\",\\\"IFN-?\\\",\\\"IFN-?\\\",\\\"IFN-?\\\",\\\"IFN-?\\\",\\\"IFN-?\\\",\\\"IFN-?\\\",\\\"IFN-?\\\",\\\"IFN-?\\\",\\\"IFN-?\\\",\\\"IFN-?\\\",\\\"IFN-?\\\",\\\"IFN-?\\\",\\\"IFN-?\\\",\\\"IFN-?\\\",\\\"IFN-?\\\",\\\"IFN-?\\\",\\\"IFN-?\\\",\\\"IFN-?\\\",\\\"IFN-?\\\",\\\"IFN-?\\\",\\\"IFN-?\\\",\\\"IFN-?\\\",\\\"IFN-?\\\",\\\"IFN-?\\\",\\\"IFN-?\\\",\\\"IFN-?\\\",\\\"IFN-?\\\",\\\"IFN-?\\\",\\\"IFN-?\\\",\\\"IFN-?\\\",\\\"IFN-?\\\",\\\"IFN-?\\\",\\\"IFN-?\\\",\\\"IFN-?\\\",\\\"IFN-?\\\",\\\"IFN-?\\\",\\\"IFN-?\\\",\\\"IFN-?\\\",\\\"IFN-?\\\",\\\"IFN-?\\\",\\\"IFN-?\\\",\\\"IFN-?\\\",\\\"IFN-?\\\",\\\"IFN-?\\\",\\\"IFN-?\\\",\\\"IFN-?\\\",\\\"IFN-?\\\",\\\"IFN-?\\\",\\\"IFN-?\\\",\\\"IFN-?\\\",\\\"IFN-?\\\",\\\"IFN-?\\\",\\\"IFN-?\\\",\\\"IFN-?\\\",\\\"IFN-?\\\",\\\"IFN-?\\\",\\\"IFN-?\\\",\\\"IFN-?\\\",\\\"IFN-?\\\",\\\"IFN-?\\\",\\\"IFN-?\\\",\\\"IFN-?\\\",\\\"IFN-?\\\",\\\"IFN-?\\\",\\\"IFN-?\\\",\\\"IFN-?\\\",\\\"IFN-?\\\",\\\"IFN-?\\\",\\\"IFN-?\\\",\\\"IFN-?\\\",\\\"IFN-?\\\",\\\"IFN-?\\\",\\\"IFN-?\\\",\\\"IFN-?\\\",\\\"IFN-?\\\",\\\"IFN-?\\\",\\\"IFN-?\\\",\\\"IFN-?\\\",\\\"IFN-?\\\",\\\"IFN-?\\\",\\\"IFN-?\\\",\\\"IFN-?\\\",\\\"IFN-?\\\",\\\"IFN-?\\\",\\\"IFN-?\\\",\\\"IFN-?\\\",\\\"IFN-?\\\",\\\"IFN-?\\\",\\\"IFN-?\\\",\\\"IFN-?\\\",\\\"IFN-?\\\",\\\"IFN-?\\\",\\\"IFN-?\\\",\\\"IFN-?\\\",\\\"IL-10\\\",\\\"IL-10\\\",\\\"IL-10\\\",\\\"IL-10\\\",\\\"IL-10\\\",\\\"IL-10\\\",\\\"IL-10\\\",\\\"IL-10\\\",\\\"IL-10\\\",\\\"IL-10\\\",\\\"IL-10\\\",\\\"IL-10\\\",\\\"IL-10\\\",\\\"IL-10\\\",\\\"IL-10\\\",\\\"IL-10\\\",\\\"IL-10\\\",\\\"IL-10\\\",\\\"IL-10\\\",\\\"IL-10\\\",\\\"IL-10\\\",\\\"IL-10\\\",\\\"IL-10\\\",\\\"IL-10\\\",\\\"IL-10\\\",\\\"IL-10\\\",\\\"IL-10\\\",\\\"IL-10\\\",\\\"IL-10\\\",\\\"IL-10\\\",\\\"IL-10\\\",\\\"IL-10\\\",\\\"IL-10\\\",\\\"IL-10\\\",\\\"IL-10\\\",\\\"IL-10\\\",\\\"IL-10\\\",\\\"IL-10\\\",\\\"IL-10\\\",\\\"IL-10\\\",\\\"IL-10\\\",\\\"IL-10\\\",\\\"IL-10\\\",\\\"IL-10\\\",\\\"IL-10\\\",\\\"IL-10\\\",\\\"IL-10\\\",\\\"IL-10\\\",\\\"IL-10\\\",\\\"IL-10\\\",\\\"IL-10\\\",\\\"IL-10\\\",\\\"IL-10\\\",\\\"IL-10\\\",\\\"IL-10\\\",\\\"IL-10\\\",\\\"IL-10\\\",\\\"IL-10\\\",\\\"IL-10\\\",\\\"IL-10\\\",\\\"IL-10\\\",\\\"IL-10\\\",\\\"IL-10\\\",\\\"IL-10\\\",\\\"IL-10\\\",\\\"IL-10\\\",\\\"IL-10\\\",\\\"IL-10\\\",\\\"IL-10\\\",\\\"IL-10\\\",\\\"IL-10\\\",\\\"IL-10\\\",\\\"IL-10\\\",\\\"IL-10\\\",\\\"IL-10\\\",\\\"IL-10\\\",\\\"IL-10\\\",\\\"IL-10\\\",\\\"IL-10\\\",\\\"IL-10\\\",\\\"IL-10\\\",\\\"IL-10\\\",\\\"IL-10\\\",\\\"IL-10\\\",\\\"IL-10\\\",\\\"IL-10\\\",\\\"IL-10\\\",\\\"IL-10\\\",\\\"IL-10\\\",\\\"IL-10\\\",\\\"IL-10\\\",\\\"IL-10\\\",\\\"IL-10\\\",\\\"IL-10\\\",\\\"IL-10\\\",\\\"IL-10\\\",\\\"IL-10\\\",\\\"IL-10\\\",\\\"IL-10\\\",\\\"IL-10\\\",\\\"IL-10\\\",\\\"IL-10\\\",\\\"IL-10\\\",\\\"IL-10\\\",\\\"IL-10\\\",\\\"IL-10\\\",\\\"IL-10\\\",\\\"IL-10\\\",\\\"IL-10\\\",\\\"IL-10\\\",\\\"IL-10\\\",\\\"IL-10\\\",\\\"IL-10\\\",\\\"IL-10\\\",\\\"IL-10\\\",\\\"IL-10\\\",\\\"IL-10\\\",\\\"IL-10\\\",\\\"IL-10\\\",\\\"IL-10\\\",\\\"IL-10\\\",\\\"IL-10\\\",\\\"IL-10\\\",\\\"IL-10\\\",\\\"IL-10\\\",\\\"IL-10\\\",\\\"IL-10\\\",\\\"IL-10\\\",\\\"IL-10\\\",\\\"IL-10\\\",\\\"IL-10\\\",\\\"IL-10\\\",\\\"IL-10\\\",\\\"IL-10\\\",\\\"IL-10\\\",\\\"IL-10\\\",\\\"IL-12p70\\\",\\\"IL-12p70\\\",\\\"IL-12p70\\\",\\\"IL-12p70\\\",\\\"IL-12p70\\\",\\\"IL-12p70\\\",\\\"IL-12p70\\\",\\\"IL-12p70\\\",\\\"IL-12p70\\\",\\\"IL-12p70\\\",\\\"IL-12p70\\\",\\\"IL-12p70\\\",\\\"IL-12p70\\\",\\\"IL-12p70\\\",\\\"IL-12p70\\\",\\\"IL-12p70\\\",\\\"IL-12p70\\\",\\\"IL-12p70\\\",\\\"IL-12p70\\\",\\\"IL-12p70\\\",\\\"IL-12p70\\\",\\\"IL-12p70\\\",\\\"IL-12p70\\\",\\\"IL-12p70\\\",\\\"IL-12p70\\\",\\\"IL-12p70\\\",\\\"IL-12p70\\\",\\\"IL-12p70\\\",\\\"IL-12p70\\\",\\\"IL-12p70\\\",\\\"IL-12p70\\\",\\\"IL-12p70\\\",\\\"IL-12p70\\\",\\\"IL-12p70\\\",\\\"IL-12p70\\\",\\\"IL-12p70\\\",\\\"IL-12p70\\\",\\\"IL-12p70\\\",\\\"IL-12p70\\\",\\\"IL-12p70\\\",\\\"IL-12p70\\\",\\\"IL-12p70\\\",\\\"IL-12p70\\\",\\\"IL-12p70\\\",\\\"IL-12p70\\\",\\\"IL-12p70\\\",\\\"IL-12p70\\\",\\\"IL-12p70\\\",\\\"IL-12p70\\\",\\\"IL-12p70\\\",\\\"IL-12p70\\\",\\\"IL-12p70\\\",\\\"IL-12p70\\\",\\\"IL-12p70\\\",\\\"IL-12p70\\\",\\\"IL-12p70\\\",\\\"IL-12p70\\\",\\\"IL-12p70\\\",\\\"IL-12p70\\\",\\\"IL-12p70\\\",\\\"IL-12p70\\\",\\\"IL-12p70\\\",\\\"IL-12p70\\\",\\\"IL-12p70\\\",\\\"IL-12p70\\\",\\\"IL-12p70\\\",\\\"IL-12p70\\\",\\\"IL-12p70\\\",\\\"IL-12p70\\\",\\\"IL-12p70\\\",\\\"IL-12p70\\\",\\\"IL-12p70\\\",\\\"IL-12p70\\\",\\\"IL-12p70\\\",\\\"IL-12p70\\\",\\\"IL-12p70\\\",\\\"IL-12p70\\\",\\\"IL-12p70\\\",\\\"IL-12p70\\\",\\\"IL-12p70\\\",\\\"IL-12p70\\\",\\\"IL-12p70\\\",\\\"IL-12p70\\\",\\\"IL-12p70\\\",\\\"IL-12p70\\\",\\\"IL-12p70\\\",\\\"IL-12p70\\\",\\\"IL-12p70\\\",\\\"IL-12p70\\\",\\\"IL-12p70\\\",\\\"IL-12p70\\\",\\\"IL-12p70\\\",\\\"IL-12p70\\\",\\\"IL-12p70\\\",\\\"IL-12p70\\\",\\\"IL-12p70\\\",\\\"IL-12p70\\\",\\\"IL-12p70\\\",\\\"IL-12p70\\\",\\\"IL-12p70\\\",\\\"IL-12p70\\\",\\\"IL-12p70\\\",\\\"IL-12p70\\\",\\\"IL-12p70\\\",\\\"IL-12p70\\\",\\\"IL-12p70\\\",\\\"IL-12p70\\\",\\\"IL-12p70\\\",\\\"IL-12p70\\\",\\\"IL-12p70\\\",\\\"IL-12p70\\\",\\\"IL-12p70\\\",\\\"IL-12p70\\\",\\\"IL-12p70\\\",\\\"IL-12p70\\\",\\\"IL-12p70\\\",\\\"IL-12p70\\\",\\\"IL-12p70\\\",\\\"IL-12p70\\\",\\\"IL-12p70\\\",\\\"IL-12p70\\\",\\\"IL-12p70\\\",\\\"IL-12p70\\\",\\\"IL-12p70\\\",\\\"IL-12p70\\\",\\\"IL-12p70\\\",\\\"IL-12p70\\\",\\\"IL-12p70\\\",\\\"IL-12p70\\\",\\\"IL-12p70\\\",\\\"IL-12p70\\\",\\\"IL-12p70\\\",\\\"IL-12p70\\\",\\\"IL-12p70\\\",\\\"IL-12p70\\\",\\\"IL-12p70\\\",\\\"IL-13\\\",\\\"IL-13\\\",\\\"IL-13\\\",\\\"IL-13\\\",\\\"IL-13\\\",\\\"IL-13\\\",\\\"IL-13\\\",\\\"IL-13\\\",\\\"IL-13\\\",\\\"IL-13\\\",\\\"IL-13\\\",\\\"IL-13\\\",\\\"IL-13\\\",\\\"IL-13\\\",\\\"IL-13\\\",\\\"IL-13\\\",\\\"IL-13\\\",\\\"IL-13\\\",\\\"IL-13\\\",\\\"IL-13\\\",\\\"IL-13\\\",\\\"IL-13\\\",\\\"IL-13\\\",\\\"IL-13\\\",\\\"IL-13\\\",\\\"IL-13\\\",\\\"IL-13\\\",\\\"IL-13\\\",\\\"IL-13\\\",\\\"IL-13\\\",\\\"IL-13\\\",\\\"IL-13\\\",\\\"IL-13\\\",\\\"IL-13\\\",\\\"IL-13\\\",\\\"IL-13\\\",\\\"IL-13\\\",\\\"IL-13\\\",\\\"IL-13\\\",\\\"IL-13\\\",\\\"IL-13\\\",\\\"IL-13\\\",\\\"IL-13\\\",\\\"IL-13\\\",\\\"IL-13\\\",\\\"IL-13\\\",\\\"IL-13\\\",\\\"IL-13\\\",\\\"IL-13\\\",\\\"IL-13\\\",\\\"IL-13\\\",\\\"IL-13\\\",\\\"IL-13\\\",\\\"IL-13\\\",\\\"IL-13\\\",\\\"IL-13\\\",\\\"IL-13\\\",\\\"IL-13\\\",\\\"IL-13\\\",\\\"IL-13\\\",\\\"IL-13\\\",\\\"IL-13\\\",\\\"IL-13\\\",\\\"IL-13\\\",\\\"IL-13\\\",\\\"IL-13\\\",\\\"IL-13\\\",\\\"IL-13\\\",\\\"IL-13\\\",\\\"IL-13\\\",\\\"IL-13\\\",\\\"IL-13\\\",\\\"IL-13\\\",\\\"IL-13\\\",\\\"IL-13\\\",\\\"IL-13\\\",\\\"IL-13\\\",\\\"IL-13\\\",\\\"IL-13\\\",\\\"IL-13\\\",\\\"IL-13\\\",\\\"IL-13\\\",\\\"IL-13\\\",\\\"IL-13\\\",\\\"IL-13\\\",\\\"IL-13\\\",\\\"IL-13\\\",\\\"IL-13\\\",\\\"IL-13\\\",\\\"IL-13\\\",\\\"IL-13\\\",\\\"IL-13\\\",\\\"IL-13\\\",\\\"IL-13\\\",\\\"IL-13\\\",\\\"IL-13\\\",\\\"IL-13\\\",\\\"IL-13\\\",\\\"IL-13\\\",\\\"IL-13\\\",\\\"IL-13\\\",\\\"IL-13\\\",\\\"IL-13\\\",\\\"IL-13\\\",\\\"IL-13\\\",\\\"IL-13\\\",\\\"IL-13\\\",\\\"IL-13\\\",\\\"IL-13\\\",\\\"IL-13\\\",\\\"IL-13\\\",\\\"IL-13\\\",\\\"IL-13\\\",\\\"IL-13\\\",\\\"IL-13\\\",\\\"IL-13\\\",\\\"IL-13\\\",\\\"IL-13\\\",\\\"IL-13\\\",\\\"IL-13\\\",\\\"IL-13\\\",\\\"IL-13\\\",\\\"IL-13\\\",\\\"IL-13\\\",\\\"IL-13\\\",\\\"IL-13\\\",\\\"IL-13\\\",\\\"IL-13\\\",\\\"IL-13\\\",\\\"IL-13\\\",\\\"IL-13\\\",\\\"IL-13\\\",\\\"IL-13\\\",\\\"IL-13\\\",\\\"IL-13\\\",\\\"IL-13\\\",\\\"IL-1?\\\",\\\"IL-1?\\\",\\\"IL-1?\\\",\\\"IL-1?\\\",\\\"IL-1?\\\",\\\"IL-1?\\\",\\\"IL-1?\\\",\\\"IL-1?\\\",\\\"IL-1?\\\",\\\"IL-1?\\\",\\\"IL-1?\\\",\\\"IL-1?\\\",\\\"IL-1?\\\",\\\"IL-1?\\\",\\\"IL-1?\\\",\\\"IL-1?\\\",\\\"IL-1?\\\",\\\"IL-1?\\\",\\\"IL-1?\\\",\\\"IL-1?\\\",\\\"IL-1?\\\",\\\"IL-1?\\\",\\\"IL-1?\\\",\\\"IL-1?\\\",\\\"IL-1?\\\",\\\"IL-1?\\\",\\\"IL-1?\\\",\\\"IL-1?\\\",\\\"IL-1?\\\",\\\"IL-1?\\\",\\\"IL-1?\\\",\\\"IL-1?\\\",\\\"IL-1?\\\",\\\"IL-1?\\\",\\\"IL-1?\\\",\\\"IL-1?\\\",\\\"IL-1?\\\",\\\"IL-1?\\\",\\\"IL-1?\\\",\\\"IL-1?\\\",\\\"IL-1?\\\",\\\"IL-1?\\\",\\\"IL-1?\\\",\\\"IL-1?\\\",\\\"IL-1?\\\",\\\"IL-1?\\\",\\\"IL-1?\\\",\\\"IL-1?\\\",\\\"IL-1?\\\",\\\"IL-1?\\\",\\\"IL-1?\\\",\\\"IL-1?\\\",\\\"IL-1?\\\",\\\"IL-1?\\\",\\\"IL-1?\\\",\\\"IL-1?\\\",\\\"IL-1?\\\",\\\"IL-1?\\\",\\\"IL-1?\\\",\\\"IL-1?\\\",\\\"IL-1?\\\",\\\"IL-1?\\\",\\\"IL-1?\\\",\\\"IL-1?\\\",\\\"IL-1?\\\",\\\"IL-1?\\\",\\\"IL-1?\\\",\\\"IL-1?\\\",\\\"IL-1?\\\",\\\"IL-1?\\\",\\\"IL-1?\\\",\\\"IL-1?\\\",\\\"IL-1?\\\",\\\"IL-1?\\\",\\\"IL-1?\\\",\\\"IL-1?\\\",\\\"IL-1?\\\",\\\"IL-1?\\\",\\\"IL-1?\\\",\\\"IL-1?\\\",\\\"IL-1?\\\",\\\"IL-1?\\\",\\\"IL-1?\\\",\\\"IL-1?\\\",\\\"IL-1?\\\",\\\"IL-1?\\\",\\\"IL-1?\\\",\\\"IL-1?\\\",\\\"IL-1?\\\",\\\"IL-1?\\\",\\\"IL-1?\\\",\\\"IL-1?\\\",\\\"IL-1?\\\",\\\"IL-1?\\\",\\\"IL-1?\\\",\\\"IL-1?\\\",\\\"IL-1?\\\",\\\"IL-1?\\\",\\\"IL-1?\\\",\\\"IL-1?\\\",\\\"IL-1?\\\",\\\"IL-1?\\\",\\\"IL-1?\\\",\\\"IL-1?\\\",\\\"IL-1?\\\",\\\"IL-1?\\\",\\\"IL-1?\\\",\\\"IL-1?\\\",\\\"IL-1?\\\",\\\"IL-1?\\\",\\\"IL-1?\\\",\\\"IL-1?\\\",\\\"IL-1?\\\",\\\"IL-1?\\\",\\\"IL-1?\\\",\\\"IL-1?\\\",\\\"IL-1?\\\",\\\"IL-1?\\\",\\\"IL-1?\\\",\\\"IL-1?\\\",\\\"IL-1?\\\",\\\"IL-1?\\\",\\\"IL-1?\\\",\\\"IL-1?\\\",\\\"IL-1?\\\",\\\"IL-1?\\\",\\\"IL-1?\\\",\\\"IL-1?\\\",\\\"IL-1?\\\",\\\"IL-1?\\\",\\\"IL-1?\\\",\\\"IL-1?\\\",\\\"IL-1?\\\",\\\"IL-1?\\\",\\\"IL-1?\\\",\\\"IL-1?\\\",\\\"IL-2\\\",\\\"IL-2\\\",\\\"IL-2\\\",\\\"IL-2\\\",\\\"IL-2\\\",\\\"IL-2\\\",\\\"IL-2\\\",\\\"IL-2\\\",\\\"IL-2\\\",\\\"IL-2\\\",\\\"IL-2\\\",\\\"IL-2\\\",\\\"IL-2\\\",\\\"IL-2\\\",\\\"IL-2\\\",\\\"IL-2\\\",\\\"IL-2\\\",\\\"IL-2\\\",\\\"IL-2\\\",\\\"IL-2\\\",\\\"IL-2\\\",\\\"IL-2\\\",\\\"IL-2\\\",\\\"IL-2\\\",\\\"IL-2\\\",\\\"IL-2\\\",\\\"IL-2\\\",\\\"IL-2\\\",\\\"IL-2\\\",\\\"IL-2\\\",\\\"IL-2\\\",\\\"IL-2\\\",\\\"IL-2\\\",\\\"IL-2\\\",\\\"IL-2\\\",\\\"IL-2\\\",\\\"IL-2\\\",\\\"IL-2\\\",\\\"IL-2\\\",\\\"IL-2\\\",\\\"IL-2\\\",\\\"IL-2\\\",\\\"IL-2\\\",\\\"IL-2\\\",\\\"IL-2\\\",\\\"IL-2\\\",\\\"IL-2\\\",\\\"IL-2\\\",\\\"IL-2\\\",\\\"IL-2\\\",\\\"IL-2\\\",\\\"IL-2\\\",\\\"IL-2\\\",\\\"IL-2\\\",\\\"IL-2\\\",\\\"IL-2\\\",\\\"IL-2\\\",\\\"IL-2\\\",\\\"IL-2\\\",\\\"IL-2\\\",\\\"IL-2\\\",\\\"IL-2\\\",\\\"IL-2\\\",\\\"IL-2\\\",\\\"IL-2\\\",\\\"IL-2\\\",\\\"IL-2\\\",\\\"IL-2\\\",\\\"IL-2\\\",\\\"IL-2\\\",\\\"IL-2\\\",\\\"IL-2\\\",\\\"IL-2\\\",\\\"IL-2\\\",\\\"IL-2\\\",\\\"IL-2\\\",\\\"IL-2\\\",\\\"IL-2\\\",\\\"IL-2\\\",\\\"IL-2\\\",\\\"IL-2\\\",\\\"IL-2\\\",\\\"IL-2\\\",\\\"IL-2\\\",\\\"IL-2\\\",\\\"IL-2\\\",\\\"IL-2\\\",\\\"IL-2\\\",\\\"IL-2\\\",\\\"IL-2\\\",\\\"IL-2\\\",\\\"IL-2\\\",\\\"IL-2\\\",\\\"IL-2\\\",\\\"IL-2\\\",\\\"IL-2\\\",\\\"IL-2\\\",\\\"IL-2\\\",\\\"IL-2\\\",\\\"IL-2\\\",\\\"IL-2\\\",\\\"IL-2\\\",\\\"IL-2\\\",\\\"IL-2\\\",\\\"IL-2\\\",\\\"IL-2\\\",\\\"IL-2\\\",\\\"IL-2\\\",\\\"IL-2\\\",\\\"IL-2\\\",\\\"IL-2\\\",\\\"IL-2\\\",\\\"IL-2\\\",\\\"IL-2\\\",\\\"IL-2\\\",\\\"IL-2\\\",\\\"IL-2\\\",\\\"IL-2\\\",\\\"IL-2\\\",\\\"IL-2\\\",\\\"IL-2\\\",\\\"IL-2\\\",\\\"IL-2\\\",\\\"IL-2\\\",\\\"IL-2\\\",\\\"IL-2\\\",\\\"IL-2\\\",\\\"IL-2\\\",\\\"IL-2\\\",\\\"IL-2\\\",\\\"IL-2\\\",\\\"IL-2\\\",\\\"IL-2\\\",\\\"IL-2\\\",\\\"IL-2\\\",\\\"IL-2\\\",\\\"IL-4\\\",\\\"IL-4\\\",\\\"IL-4\\\",\\\"IL-4\\\",\\\"IL-4\\\",\\\"IL-4\\\",\\\"IL-4\\\",\\\"IL-4\\\",\\\"IL-4\\\",\\\"IL-4\\\",\\\"IL-4\\\",\\\"IL-4\\\",\\\"IL-4\\\",\\\"IL-4\\\",\\\"IL-4\\\",\\\"IL-4\\\",\\\"IL-4\\\",\\\"IL-4\\\",\\\"IL-4\\\",\\\"IL-4\\\",\\\"IL-4\\\",\\\"IL-4\\\",\\\"IL-4\\\",\\\"IL-4\\\",\\\"IL-4\\\",\\\"IL-4\\\",\\\"IL-4\\\",\\\"IL-4\\\",\\\"IL-4\\\",\\\"IL-4\\\",\\\"IL-4\\\",\\\"IL-4\\\",\\\"IL-4\\\",\\\"IL-4\\\",\\\"IL-4\\\",\\\"IL-4\\\",\\\"IL-4\\\",\\\"IL-4\\\",\\\"IL-4\\\",\\\"IL-4\\\",\\\"IL-4\\\",\\\"IL-4\\\",\\\"IL-4\\\",\\\"IL-4\\\",\\\"IL-4\\\",\\\"IL-4\\\",\\\"IL-4\\\",\\\"IL-4\\\",\\\"IL-4\\\",\\\"IL-4\\\",\\\"IL-4\\\",\\\"IL-4\\\",\\\"IL-4\\\",\\\"IL-4\\\",\\\"IL-4\\\",\\\"IL-4\\\",\\\"IL-4\\\",\\\"IL-4\\\",\\\"IL-4\\\",\\\"IL-4\\\",\\\"IL-4\\\",\\\"IL-4\\\",\\\"IL-4\\\",\\\"IL-4\\\",\\\"IL-4\\\",\\\"IL-4\\\",\\\"IL-4\\\",\\\"IL-4\\\",\\\"IL-4\\\",\\\"IL-4\\\",\\\"IL-4\\\",\\\"IL-4\\\",\\\"IL-4\\\",\\\"IL-4\\\",\\\"IL-4\\\",\\\"IL-4\\\",\\\"IL-4\\\",\\\"IL-4\\\",\\\"IL-4\\\",\\\"IL-4\\\",\\\"IL-4\\\",\\\"IL-4\\\",\\\"IL-4\\\",\\\"IL-4\\\",\\\"IL-4\\\",\\\"IL-4\\\",\\\"IL-4\\\",\\\"IL-4\\\",\\\"IL-4\\\",\\\"IL-4\\\",\\\"IL-4\\\",\\\"IL-4\\\",\\\"IL-4\\\",\\\"IL-4\\\",\\\"IL-4\\\",\\\"IL-4\\\",\\\"IL-4\\\",\\\"IL-4\\\",\\\"IL-4\\\",\\\"IL-4\\\",\\\"IL-4\\\",\\\"IL-4\\\",\\\"IL-4\\\",\\\"IL-4\\\",\\\"IL-4\\\",\\\"IL-4\\\",\\\"IL-4\\\",\\\"IL-4\\\",\\\"IL-4\\\",\\\"IL-4\\\",\\\"IL-4\\\",\\\"IL-4\\\",\\\"IL-4\\\",\\\"IL-4\\\",\\\"IL-4\\\",\\\"IL-4\\\",\\\"IL-4\\\",\\\"IL-4\\\",\\\"IL-4\\\",\\\"IL-4\\\",\\\"IL-4\\\",\\\"IL-4\\\",\\\"IL-4\\\",\\\"IL-4\\\",\\\"IL-4\\\",\\\"IL-4\\\",\\\"IL-4\\\",\\\"IL-4\\\",\\\"IL-4\\\",\\\"IL-4\\\",\\\"IL-4\\\",\\\"IL-4\\\",\\\"IL-4\\\",\\\"IL-4\\\",\\\"IL-4\\\",\\\"IL-4\\\",\\\"IL-6\\\",\\\"IL-6\\\",\\\"IL-6\\\",\\\"IL-6\\\",\\\"IL-6\\\",\\\"IL-6\\\",\\\"IL-6\\\",\\\"IL-6\\\",\\\"IL-6\\\",\\\"IL-6\\\",\\\"IL-6\\\",\\\"IL-6\\\",\\\"IL-6\\\",\\\"IL-6\\\",\\\"IL-6\\\",\\\"IL-6\\\",\\\"IL-6\\\",\\\"IL-6\\\",\\\"IL-6\\\",\\\"IL-6\\\",\\\"IL-6\\\",\\\"IL-6\\\",\\\"IL-6\\\",\\\"IL-6\\\",\\\"IL-6\\\",\\\"IL-6\\\",\\\"IL-6\\\",\\\"IL-6\\\",\\\"IL-6\\\",\\\"IL-6\\\",\\\"IL-6\\\",\\\"IL-6\\\",\\\"IL-6\\\",\\\"IL-6\\\",\\\"IL-6\\\",\\\"IL-6\\\",\\\"IL-6\\\",\\\"IL-6\\\",\\\"IL-6\\\",\\\"IL-6\\\",\\\"IL-6\\\",\\\"IL-6\\\",\\\"IL-6\\\",\\\"IL-6\\\",\\\"IL-6\\\",\\\"IL-6\\\",\\\"IL-6\\\",\\\"IL-6\\\",\\\"IL-6\\\",\\\"IL-6\\\",\\\"IL-6\\\",\\\"IL-6\\\",\\\"IL-6\\\",\\\"IL-6\\\",\\\"IL-6\\\",\\\"IL-6\\\",\\\"IL-6\\\",\\\"IL-6\\\",\\\"IL-6\\\",\\\"IL-6\\\",\\\"IL-6\\\",\\\"IL-6\\\",\\\"IL-6\\\",\\\"IL-6\\\",\\\"IL-6\\\",\\\"IL-6\\\",\\\"IL-6\\\",\\\"IL-6\\\",\\\"IL-6\\\",\\\"IL-6\\\",\\\"IL-6\\\",\\\"IL-6\\\",\\\"IL-6\\\",\\\"IL-6\\\",\\\"IL-6\\\",\\\"IL-6\\\",\\\"IL-6\\\",\\\"IL-6\\\",\\\"IL-6\\\",\\\"IL-6\\\",\\\"IL-6\\\",\\\"IL-6\\\",\\\"IL-6\\\",\\\"IL-6\\\",\\\"IL-6\\\",\\\"IL-6\\\",\\\"IL-6\\\",\\\"IL-6\\\",\\\"IL-6\\\",\\\"IL-6\\\",\\\"IL-6\\\",\\\"IL-6\\\",\\\"IL-6\\\",\\\"IL-6\\\",\\\"IL-6\\\",\\\"IL-6\\\",\\\"IL-6\\\",\\\"IL-6\\\",\\\"IL-6\\\",\\\"IL-6\\\",\\\"IL-6\\\",\\\"IL-6\\\",\\\"IL-6\\\",\\\"IL-6\\\",\\\"IL-6\\\",\\\"IL-6\\\",\\\"IL-6\\\",\\\"IL-6\\\",\\\"IL-6\\\",\\\"IL-6\\\",\\\"IL-6\\\",\\\"IL-6\\\",\\\"IL-6\\\",\\\"IL-6\\\",\\\"IL-6\\\",\\\"IL-6\\\",\\\"IL-6\\\",\\\"IL-6\\\",\\\"IL-6\\\",\\\"IL-6\\\",\\\"IL-6\\\",\\\"IL-6\\\",\\\"IL-6\\\",\\\"IL-6\\\",\\\"IL-6\\\",\\\"IL-6\\\",\\\"IL-6\\\",\\\"IL-6\\\",\\\"IL-6\\\",\\\"IL-6\\\",\\\"IL-6\\\",\\\"IL-6\\\",\\\"IL-6\\\",\\\"IL-6\\\",\\\"IL-6\\\",\\\"IL-6\\\",\\\"IL-8\\\",\\\"IL-8\\\",\\\"IL-8\\\",\\\"IL-8\\\",\\\"IL-8\\\",\\\"IL-8\\\",\\\"IL-8\\\",\\\"IL-8\\\",\\\"IL-8\\\",\\\"IL-8\\\",\\\"IL-8\\\",\\\"IL-8\\\",\\\"IL-8\\\",\\\"IL-8\\\",\\\"IL-8\\\",\\\"IL-8\\\",\\\"IL-8\\\",\\\"IL-8\\\",\\\"IL-8\\\",\\\"IL-8\\\",\\\"IL-8\\\",\\\"IL-8\\\",\\\"IL-8\\\",\\\"IL-8\\\",\\\"IL-8\\\",\\\"IL-8\\\",\\\"IL-8\\\",\\\"IL-8\\\",\\\"IL-8\\\",\\\"IL-8\\\",\\\"IL-8\\\",\\\"IL-8\\\",\\\"IL-8\\\",\\\"IL-8\\\",\\\"IL-8\\\",\\\"IL-8\\\",\\\"IL-8\\\",\\\"IL-8\\\",\\\"IL-8\\\",\\\"IL-8\\\",\\\"IL-8\\\",\\\"IL-8\\\",\\\"IL-8\\\",\\\"IL-8\\\",\\\"IL-8\\\",\\\"IL-8\\\",\\\"IL-8\\\",\\\"IL-8\\\",\\\"IL-8\\\",\\\"IL-8\\\",\\\"IL-8\\\",\\\"IL-8\\\",\\\"IL-8\\\",\\\"IL-8\\\",\\\"IL-8\\\",\\\"IL-8\\\",\\\"IL-8\\\",\\\"IL-8\\\",\\\"IL-8\\\",\\\"IL-8\\\",\\\"IL-8\\\",\\\"IL-8\\\",\\\"IL-8\\\",\\\"IL-8\\\",\\\"IL-8\\\",\\\"IL-8\\\",\\\"IL-8\\\",\\\"IL-8\\\",\\\"IL-8\\\",\\\"IL-8\\\",\\\"IL-8\\\",\\\"IL-8\\\",\\\"IL-8\\\",\\\"IL-8\\\",\\\"IL-8\\\",\\\"IL-8\\\",\\\"IL-8\\\",\\\"IL-8\\\",\\\"IL-8\\\",\\\"IL-8\\\",\\\"IL-8\\\",\\\"IL-8\\\",\\\"IL-8\\\",\\\"IL-8\\\",\\\"IL-8\\\",\\\"IL-8\\\",\\\"IL-8\\\",\\\"IL-8\\\",\\\"IL-8\\\",\\\"IL-8\\\",\\\"IL-8\\\",\\\"IL-8\\\",\\\"IL-8\\\",\\\"IL-8\\\",\\\"IL-8\\\",\\\"IL-8\\\",\\\"IL-8\\\",\\\"IL-8\\\",\\\"IL-8\\\",\\\"IL-8\\\",\\\"IL-8\\\",\\\"IL-8\\\",\\\"IL-8\\\",\\\"IL-8\\\",\\\"IL-8\\\",\\\"IL-8\\\",\\\"IL-8\\\",\\\"IL-8\\\",\\\"IL-8\\\",\\\"IL-8\\\",\\\"IL-8\\\",\\\"IL-8\\\",\\\"IL-8\\\",\\\"IL-8\\\",\\\"IL-8\\\",\\\"IL-8\\\",\\\"IL-8\\\",\\\"IL-8\\\",\\\"IL-8\\\",\\\"IL-8\\\",\\\"IL-8\\\",\\\"IL-8\\\",\\\"IL-8\\\",\\\"IL-8\\\",\\\"IL-8\\\",\\\"IL-8\\\",\\\"IL-8\\\",\\\"IL-8\\\",\\\"IL-8\\\",\\\"IL-8\\\",\\\"IL-8\\\",\\\"IL-8\\\",\\\"IL-8\\\",\\\"IL-8\\\",\\\"IL-8\\\",\\\"IL-8\\\",\\\"TNF-�\\\",\\\"TNF-�\\\",\\\"TNF-�\\\",\\\"TNF-�\\\",\\\"TNF-�\\\",\\\"TNF-�\\\",\\\"TNF-�\\\",\\\"TNF-�\\\",\\\"TNF-�\\\",\\\"TNF-�\\\",\\\"TNF-�\\\",\\\"TNF-�\\\",\\\"TNF-�\\\",\\\"TNF-�\\\",\\\"TNF-�\\\",\\\"TNF-�\\\",\\\"TNF-�\\\",\\\"TNF-�\\\",\\\"TNF-�\\\",\\\"TNF-�\\\",\\\"TNF-�\\\",\\\"TNF-�\\\",\\\"TNF-�\\\",\\\"TNF-�\\\",\\\"TNF-�\\\",\\\"TNF-�\\\",\\\"TNF-�\\\",\\\"TNF-�\\\",\\\"TNF-�\\\",\\\"TNF-�\\\",\\\"TNF-�\\\",\\\"TNF-�\\\",\\\"TNF-�\\\",\\\"TNF-�\\\",\\\"TNF-�\\\",\\\"TNF-�\\\",\\\"TNF-�\\\",\\\"TNF-�\\\",\\\"TNF-�\\\",\\\"TNF-�\\\",\\\"TNF-�\\\",\\\"TNF-�\\\",\\\"TNF-�\\\",\\\"TNF-�\\\",\\\"TNF-�\\\",\\\"TNF-�\\\",\\\"TNF-�\\\",\\\"TNF-�\\\",\\\"TNF-�\\\",\\\"TNF-�\\\",\\\"TNF-�\\\",\\\"TNF-�\\\",\\\"TNF-�\\\",\\\"TNF-�\\\",\\\"TNF-�\\\",\\\"TNF-�\\\",\\\"TNF-�\\\",\\\"TNF-�\\\",\\\"TNF-�\\\",\\\"TNF-�\\\",\\\"TNF-�\\\",\\\"TNF-�\\\",\\\"TNF-�\\\",\\\"TNF-�\\\",\\\"TNF-�\\\",\\\"TNF-�\\\",\\\"TNF-�\\\",\\\"TNF-�\\\",\\\"TNF-�\\\",\\\"TNF-�\\\",\\\"TNF-�\\\",\\\"TNF-�\\\",\\\"TNF-�\\\",\\\"TNF-�\\\",\\\"TNF-�\\\",\\\"TNF-�\\\",\\\"TNF-�\\\",\\\"TNF-�\\\",\\\"TNF-�\\\",\\\"TNF-�\\\",\\\"TNF-�\\\",\\\"TNF-�\\\",\\\"TNF-�\\\",\\\"TNF-�\\\",\\\"TNF-�\\\",\\\"TNF-�\\\",\\\"TNF-�\\\",\\\"TNF-�\\\",\\\"TNF-�\\\",\\\"TNF-�\\\",\\\"TNF-�\\\",\\\"TNF-�\\\",\\\"TNF-�\\\",\\\"TNF-�\\\",\\\"TNF-�\\\",\\\"TNF-�\\\",\\\"TNF-�\\\",\\\"TNF-�\\\",\\\"TNF-�\\\",\\\"TNF-�\\\",\\\"TNF-�\\\",\\\"TNF-�\\\",\\\"TNF-�\\\",\\\"TNF-�\\\",\\\"TNF-�\\\",\\\"TNF-�\\\",\\\"TNF-�\\\",\\\"TNF-�\\\",\\\"TNF-�\\\",\\\"TNF-�\\\",\\\"TNF-�\\\",\\\"TNF-�\\\",\\\"TNF-�\\\",\\\"TNF-�\\\",\\\"TNF-�\\\",\\\"TNF-�\\\",\\\"TNF-�\\\",\\\"TNF-�\\\",\\\"TNF-�\\\",\\\"TNF-�\\\",\\\"TNF-�\\\",\\\"TNF-�\\\",\\\"TNF-�\\\",\\\"TNF-�\\\",\\\"TNF-�\\\",\\\"TNF-�\\\",\\\"TNF-�\\\",\\\"TNF-�\\\",\\\"TNF-�\\\",\\\"TNF-�\\\",\\\"TNF-�\\\",\\\"TNF-�\\\",\\\"TNF-�\\\",\\\"TNF-�\\\",\\\"TNF-�\\\",\\\"TNF-�\\\"]}],{\\\"template\\\":{\\\"layout\\\":{\\\"coloraxis\\\":{\\\"colorbar\\\":{\\\"ticks\\\":\\\"\\\",\\\"outlinewidth\\\":0}},\\\"xaxis\\\":{\\\"gridcolor\\\":\\\"white\\\",\\\"zerolinewidth\\\":2,\\\"title\\\":{\\\"standoff\\\":15},\\\"ticks\\\":\\\"\\\",\\\"zerolinecolor\\\":\\\"white\\\",\\\"automargin\\\":true,\\\"linecolor\\\":\\\"white\\\"},\\\"hovermode\\\":\\\"closest\\\",\\\"paper_bgcolor\\\":\\\"white\\\",\\\"geo\\\":{\\\"showlakes\\\":true,\\\"showland\\\":true,\\\"landcolor\\\":\\\"#E5ECF6\\\",\\\"bgcolor\\\":\\\"white\\\",\\\"subunitcolor\\\":\\\"white\\\",\\\"lakecolor\\\":\\\"white\\\"},\\\"colorscale\\\":{\\\"sequential\\\":[[0.0,\\\"#0d0887\\\"],[0.1111111111111111,\\\"#46039f\\\"],[0.2222222222222222,\\\"#7201a8\\\"],[0.3333333333333333,\\\"#9c179e\\\"],[0.4444444444444444,\\\"#bd3786\\\"],[0.5555555555555556,\\\"#d8576b\\\"],[0.6666666666666666,\\\"#ed7953\\\"],[0.7777777777777778,\\\"#fb9f3a\\\"],[0.8888888888888888,\\\"#fdca26\\\"],[1.0,\\\"#f0f921\\\"]],\\\"diverging\\\":[[0,\\\"#8e0152\\\"],[0.1,\\\"#c51b7d\\\"],[0.2,\\\"#de77ae\\\"],[0.3,\\\"#f1b6da\\\"],[0.4,\\\"#fde0ef\\\"],[0.5,\\\"#f7f7f7\\\"],[0.6,\\\"#e6f5d0\\\"],[0.7,\\\"#b8e186\\\"],[0.8,\\\"#7fbc41\\\"],[0.9,\\\"#4d9221\\\"],[1,\\\"#276419\\\"]],\\\"sequentialminus\\\":[[0.0,\\\"#0d0887\\\"],[0.1111111111111111,\\\"#46039f\\\"],[0.2222222222222222,\\\"#7201a8\\\"],[0.3333333333333333,\\\"#9c179e\\\"],[0.4444444444444444,\\\"#bd3786\\\"],[0.5555555555555556,\\\"#d8576b\\\"],[0.6666666666666666,\\\"#ed7953\\\"],[0.7777777777777778,\\\"#fb9f3a\\\"],[0.8888888888888888,\\\"#fdca26\\\"],[1.0,\\\"#f0f921\\\"]]},\\\"yaxis\\\":{\\\"gridcolor\\\":\\\"white\\\",\\\"zerolinewidth\\\":2,\\\"title\\\":{\\\"standoff\\\":15},\\\"ticks\\\":\\\"\\\",\\\"zerolinecolor\\\":\\\"white\\\",\\\"automargin\\\":true,\\\"linecolor\\\":\\\"white\\\"},\\\"shapedefaults\\\":{\\\"line\\\":{\\\"color\\\":\\\"#2a3f5f\\\"}},\\\"hoverlabel\\\":{\\\"align\\\":\\\"left\\\"},\\\"mapbox\\\":{\\\"style\\\":\\\"light\\\"},\\\"polar\\\":{\\\"angularaxis\\\":{\\\"gridcolor\\\":\\\"white\\\",\\\"ticks\\\":\\\"\\\",\\\"linecolor\\\":\\\"white\\\"},\\\"bgcolor\\\":\\\"#E5ECF6\\\",\\\"radialaxis\\\":{\\\"gridcolor\\\":\\\"white\\\",\\\"ticks\\\":\\\"\\\",\\\"linecolor\\\":\\\"white\\\"}},\\\"autotypenumbers\\\":\\\"strict\\\",\\\"font\\\":{\\\"color\\\":\\\"#2a3f5f\\\"},\\\"ternary\\\":{\\\"baxis\\\":{\\\"gridcolor\\\":\\\"white\\\",\\\"ticks\\\":\\\"\\\",\\\"linecolor\\\":\\\"white\\\"},\\\"bgcolor\\\":\\\"#E5ECF6\\\",\\\"caxis\\\":{\\\"gridcolor\\\":\\\"white\\\",\\\"ticks\\\":\\\"\\\",\\\"linecolor\\\":\\\"white\\\"},\\\"aaxis\\\":{\\\"gridcolor\\\":\\\"white\\\",\\\"ticks\\\":\\\"\\\",\\\"linecolor\\\":\\\"white\\\"}},\\\"annotationdefaults\\\":{\\\"arrowhead\\\":0,\\\"arrowwidth\\\":1,\\\"arrowcolor\\\":\\\"#2a3f5f\\\"},\\\"plot_bgcolor\\\":\\\"#E5ECF6\\\",\\\"title\\\":{\\\"x\\\":0.05},\\\"scene\\\":{\\\"xaxis\\\":{\\\"gridcolor\\\":\\\"white\\\",\\\"gridwidth\\\":2,\\\"backgroundcolor\\\":\\\"#E5ECF6\\\",\\\"ticks\\\":\\\"\\\",\\\"showbackground\\\":true,\\\"zerolinecolor\\\":\\\"white\\\",\\\"linecolor\\\":\\\"white\\\"},\\\"zaxis\\\":{\\\"gridcolor\\\":\\\"white\\\",\\\"gridwidth\\\":2,\\\"backgroundcolor\\\":\\\"#E5ECF6\\\",\\\"ticks\\\":\\\"\\\",\\\"showbackground\\\":true,\\\"zerolinecolor\\\":\\\"white\\\",\\\"linecolor\\\":\\\"white\\\"},\\\"yaxis\\\":{\\\"gridcolor\\\":\\\"white\\\",\\\"gridwidth\\\":2,\\\"backgroundcolor\\\":\\\"#E5ECF6\\\",\\\"ticks\\\":\\\"\\\",\\\"showbackground\\\":true,\\\"zerolinecolor\\\":\\\"white\\\",\\\"linecolor\\\":\\\"white\\\"}},\\\"colorway\\\":[\\\"#636efa\\\",\\\"#EF553B\\\",\\\"#00cc96\\\",\\\"#ab63fa\\\",\\\"#FFA15A\\\",\\\"#19d3f3\\\",\\\"#FF6692\\\",\\\"#B6E880\\\",\\\"#FF97FF\\\",\\\"#FECB52\\\"]},\\\"data\\\":{\\\"barpolar\\\":[{\\\"type\\\":\\\"barpolar\\\",\\\"marker\\\":{\\\"line\\\":{\\\"color\\\":\\\"#E5ECF6\\\",\\\"width\\\":0.5}}}],\\\"carpet\\\":[{\\\"aaxis\\\":{\\\"gridcolor\\\":\\\"white\\\",\\\"endlinecolor\\\":\\\"#2a3f5f\\\",\\\"minorgridcolor\\\":\\\"white\\\",\\\"startlinecolor\\\":\\\"#2a3f5f\\\",\\\"linecolor\\\":\\\"white\\\"},\\\"type\\\":\\\"carpet\\\",\\\"baxis\\\":{\\\"gridcolor\\\":\\\"white\\\",\\\"endlinecolor\\\":\\\"#2a3f5f\\\",\\\"minorgridcolor\\\":\\\"white\\\",\\\"startlinecolor\\\":\\\"#2a3f5f\\\",\\\"linecolor\\\":\\\"white\\\"}}],\\\"scatterpolar\\\":[{\\\"type\\\":\\\"scatterpolar\\\",\\\"marker\\\":{\\\"colorbar\\\":{\\\"ticks\\\":\\\"\\\",\\\"outlinewidth\\\":0}}}],\\\"parcoords\\\":[{\\\"line\\\":{\\\"colorbar\\\":{\\\"ticks\\\":\\\"\\\",\\\"outlinewidth\\\":0}},\\\"type\\\":\\\"parcoords\\\"}],\\\"scatter\\\":[{\\\"type\\\":\\\"scatter\\\",\\\"marker\\\":{\\\"colorbar\\\":{\\\"ticks\\\":\\\"\\\",\\\"outlinewidth\\\":0}}}],\\\"histogram2dcontour\\\":[{\\\"colorbar\\\":{\\\"ticks\\\":\\\"\\\",\\\"outlinewidth\\\":0},\\\"type\\\":\\\"histogram2dcontour\\\",\\\"colorscale\\\":[[0.0,\\\"#0d0887\\\"],[0.1111111111111111,\\\"#46039f\\\"],[0.2222222222222222,\\\"#7201a8\\\"],[0.3333333333333333,\\\"#9c179e\\\"],[0.4444444444444444,\\\"#bd3786\\\"],[0.5555555555555556,\\\"#d8576b\\\"],[0.6666666666666666,\\\"#ed7953\\\"],[0.7777777777777778,\\\"#fb9f3a\\\"],[0.8888888888888888,\\\"#fdca26\\\"],[1.0,\\\"#f0f921\\\"]]}],\\\"contour\\\":[{\\\"colorbar\\\":{\\\"ticks\\\":\\\"\\\",\\\"outlinewidth\\\":0},\\\"type\\\":\\\"contour\\\",\\\"colorscale\\\":[[0.0,\\\"#0d0887\\\"],[0.1111111111111111,\\\"#46039f\\\"],[0.2222222222222222,\\\"#7201a8\\\"],[0.3333333333333333,\\\"#9c179e\\\"],[0.4444444444444444,\\\"#bd3786\\\"],[0.5555555555555556,\\\"#d8576b\\\"],[0.6666666666666666,\\\"#ed7953\\\"],[0.7777777777777778,\\\"#fb9f3a\\\"],[0.8888888888888888,\\\"#fdca26\\\"],[1.0,\\\"#f0f921\\\"]]}],\\\"scattercarpet\\\":[{\\\"type\\\":\\\"scattercarpet\\\",\\\"marker\\\":{\\\"colorbar\\\":{\\\"ticks\\\":\\\"\\\",\\\"outlinewidth\\\":0}}}],\\\"mesh3d\\\":[{\\\"colorbar\\\":{\\\"ticks\\\":\\\"\\\",\\\"outlinewidth\\\":0},\\\"type\\\":\\\"mesh3d\\\"}],\\\"surface\\\":[{\\\"colorbar\\\":{\\\"ticks\\\":\\\"\\\",\\\"outlinewidth\\\":0},\\\"type\\\":\\\"surface\\\",\\\"colorscale\\\":[[0.0,\\\"#0d0887\\\"],[0.1111111111111111,\\\"#46039f\\\"],[0.2222222222222222,\\\"#7201a8\\\"],[0.3333333333333333,\\\"#9c179e\\\"],[0.4444444444444444,\\\"#bd3786\\\"],[0.5555555555555556,\\\"#d8576b\\\"],[0.6666666666666666,\\\"#ed7953\\\"],[0.7777777777777778,\\\"#fb9f3a\\\"],[0.8888888888888888,\\\"#fdca26\\\"],[1.0,\\\"#f0f921\\\"]]}],\\\"scattermapbox\\\":[{\\\"type\\\":\\\"scattermapbox\\\",\\\"marker\\\":{\\\"colorbar\\\":{\\\"ticks\\\":\\\"\\\",\\\"outlinewidth\\\":0}}}],\\\"scattergeo\\\":[{\\\"type\\\":\\\"scattergeo\\\",\\\"marker\\\":{\\\"colorbar\\\":{\\\"ticks\\\":\\\"\\\",\\\"outlinewidth\\\":0}}}],\\\"histogram\\\":[{\\\"type\\\":\\\"histogram\\\",\\\"marker\\\":{\\\"colorbar\\\":{\\\"ticks\\\":\\\"\\\",\\\"outlinewidth\\\":0}}}],\\\"pie\\\":[{\\\"type\\\":\\\"pie\\\",\\\"automargin\\\":true}],\\\"choropleth\\\":[{\\\"colorbar\\\":{\\\"ticks\\\":\\\"\\\",\\\"outlinewidth\\\":0},\\\"type\\\":\\\"choropleth\\\"}],\\\"heatmapgl\\\":[{\\\"colorbar\\\":{\\\"ticks\\\":\\\"\\\",\\\"outlinewidth\\\":0},\\\"type\\\":\\\"heatmapgl\\\",\\\"colorscale\\\":[[0.0,\\\"#0d0887\\\"],[0.1111111111111111,\\\"#46039f\\\"],[0.2222222222222222,\\\"#7201a8\\\"],[0.3333333333333333,\\\"#9c179e\\\"],[0.4444444444444444,\\\"#bd3786\\\"],[0.5555555555555556,\\\"#d8576b\\\"],[0.6666666666666666,\\\"#ed7953\\\"],[0.7777777777777778,\\\"#fb9f3a\\\"],[0.8888888888888888,\\\"#fdca26\\\"],[1.0,\\\"#f0f921\\\"]]}],\\\"bar\\\":[{\\\"type\\\":\\\"bar\\\",\\\"error_y\\\":{\\\"color\\\":\\\"#2a3f5f\\\"},\\\"error_x\\\":{\\\"color\\\":\\\"#2a3f5f\\\"},\\\"marker\\\":{\\\"line\\\":{\\\"color\\\":\\\"#E5ECF6\\\",\\\"width\\\":0.5}}}],\\\"heatmap\\\":[{\\\"colorbar\\\":{\\\"ticks\\\":\\\"\\\",\\\"outlinewidth\\\":0},\\\"type\\\":\\\"heatmap\\\",\\\"colorscale\\\":[[0.0,\\\"#0d0887\\\"],[0.1111111111111111,\\\"#46039f\\\"],[0.2222222222222222,\\\"#7201a8\\\"],[0.3333333333333333,\\\"#9c179e\\\"],[0.4444444444444444,\\\"#bd3786\\\"],[0.5555555555555556,\\\"#d8576b\\\"],[0.6666666666666666,\\\"#ed7953\\\"],[0.7777777777777778,\\\"#fb9f3a\\\"],[0.8888888888888888,\\\"#fdca26\\\"],[1.0,\\\"#f0f921\\\"]]}],\\\"contourcarpet\\\":[{\\\"colorbar\\\":{\\\"ticks\\\":\\\"\\\",\\\"outlinewidth\\\":0},\\\"type\\\":\\\"contourcarpet\\\"}],\\\"table\\\":[{\\\"type\\\":\\\"table\\\",\\\"header\\\":{\\\"line\\\":{\\\"color\\\":\\\"white\\\"},\\\"fill\\\":{\\\"color\\\":\\\"#C8D4E3\\\"}},\\\"cells\\\":{\\\"line\\\":{\\\"color\\\":\\\"white\\\"},\\\"fill\\\":{\\\"color\\\":\\\"#EBF0F8\\\"}}}],\\\"scatter3d\\\":[{\\\"line\\\":{\\\"colorbar\\\":{\\\"ticks\\\":\\\"\\\",\\\"outlinewidth\\\":0}},\\\"type\\\":\\\"scatter3d\\\",\\\"marker\\\":{\\\"colorbar\\\":{\\\"ticks\\\":\\\"\\\",\\\"outlinewidth\\\":0}}}],\\\"scattergl\\\":[{\\\"type\\\":\\\"scattergl\\\",\\\"marker\\\":{\\\"colorbar\\\":{\\\"ticks\\\":\\\"\\\",\\\"outlinewidth\\\":0}}}],\\\"histogram2d\\\":[{\\\"colorbar\\\":{\\\"ticks\\\":\\\"\\\",\\\"outlinewidth\\\":0},\\\"type\\\":\\\"histogram2d\\\",\\\"colorscale\\\":[[0.0,\\\"#0d0887\\\"],[0.1111111111111111,\\\"#46039f\\\"],[0.2222222222222222,\\\"#7201a8\\\"],[0.3333333333333333,\\\"#9c179e\\\"],[0.4444444444444444,\\\"#bd3786\\\"],[0.5555555555555556,\\\"#d8576b\\\"],[0.6666666666666666,\\\"#ed7953\\\"],[0.7777777777777778,\\\"#fb9f3a\\\"],[0.8888888888888888,\\\"#fdca26\\\"],[1.0,\\\"#f0f921\\\"]]}],\\\"scatterternary\\\":[{\\\"type\\\":\\\"scatterternary\\\",\\\"marker\\\":{\\\"colorbar\\\":{\\\"ticks\\\":\\\"\\\",\\\"outlinewidth\\\":0}}}],\\\"scatterpolargl\\\":[{\\\"type\\\":\\\"scatterpolargl\\\",\\\"marker\\\":{\\\"colorbar\\\":{\\\"ticks\\\":\\\"\\\",\\\"outlinewidth\\\":0}}}]}},\\\"height\\\":600,\\\"margin\\\":{\\\"l\\\":0,\\\"b\\\":0,\\\"r\\\":0,\\\"t\\\":65},\\\"autosize\\\":true},{\\\"showLink\\\":false,\\\"editable\\\":false,\\\"responsive\\\":true,\\\"staticPlot\\\":false,\\\"scrollZoom\\\":true}); gd.on(\\\"plotly_hover\\\",(function (data){var filtered_data=WebIO.PlotlyCommands.filterEventData(gd,data,\\\"hover\\\"); return !(filtered_data.isnil) ? (WebIO.setval({\\\"name\\\":\\\"hover\\\",\\\"scope\\\":\\\"2069792445762481485\\\",\\\"id\\\":\\\"10221341743873565919\\\",\\\"type\\\":\\\"observable\\\"},filtered_data.out)) : undefined})); gd.on(\\\"plotly_unhover\\\",(function (){return WebIO.setval({\\\"name\\\":\\\"hover\\\",\\\"scope\\\":\\\"2069792445762481485\\\",\\\"id\\\":\\\"10221341743873565919\\\",\\\"type\\\":\\\"observable\\\"},{})})); gd.on(\\\"plotly_selected\\\",(function (data){var filtered_data=WebIO.PlotlyCommands.filterEventData(gd,data,\\\"selected\\\"); return !(filtered_data.isnil) ? (WebIO.setval({\\\"name\\\":\\\"selected\\\",\\\"scope\\\":\\\"2069792445762481485\\\",\\\"id\\\":\\\"10317897307426882119\\\",\\\"type\\\":\\\"observable\\\"},filtered_data.out)) : undefined})); gd.on(\\\"plotly_deselect\\\",(function (){return WebIO.setval({\\\"name\\\":\\\"selected\\\",\\\"scope\\\":\\\"2069792445762481485\\\",\\\"id\\\":\\\"10317897307426882119\\\",\\\"type\\\":\\\"observable\\\"},{})})); gd.on(\\\"plotly_relayout\\\",(function (data){var filtered_data=WebIO.PlotlyCommands.filterEventData(gd,data,\\\"relayout\\\"); return !(filtered_data.isnil) ? (WebIO.setval({\\\"name\\\":\\\"relayout\\\",\\\"scope\\\":\\\"2069792445762481485\\\",\\\"id\\\":\\\"4153976177260652092\\\",\\\"type\\\":\\\"observable\\\"},filtered_data.out)) : undefined})); return gd.on(\\\"plotly_click\\\",(function (data){var filtered_data=WebIO.PlotlyCommands.filterEventData(gd,data,\\\"click\\\"); return !(filtered_data.isnil) ? (WebIO.setval({\\\"name\\\":\\\"click\\\",\\\"scope\\\":\\\"2069792445762481485\\\",\\\"id\\\":\\\"18052091784918352094\\\",\\\"type\\\":\\\"observable\\\"},filtered_data.out)) : undefined}))}));\\n    (WebIO.importBlock({\\\"data\\\":[{\\\"name\\\":\\\"Plotly\\\",\\\"type\\\":\\\"js\\\",\\\"url\\\":\\\"\\/assetserver\\/2c1443c4a3fadd5de9f99c6b5d8fa0ad35f7de28-plotly.min.js\\\"},{\\\"name\\\":null,\\\"type\\\":\\\"js\\\",\\\"url\\\":\\\"\\/assetserver\\/a617ad3fbd31c68e6d8336a472e6356f3a4cb577-plotly_webio.bundle.js\\\"}],\\\"type\\\":\\\"async_block\\\"})).then((imports) => handler.apply(this, imports));\\n}\\n\"],\"observables\":{\"_toImage\":{\"sync\":true,\"id\":\"13955285877092035042\",\"value\":{}},\"hover\":{\"sync\":false,\"id\":\"10221341743873565919\",\"value\":{}},\"selected\":{\"sync\":false,\"id\":\"10317897307426882119\",\"value\":{}},\"__gd_contents\":{\"sync\":false,\"id\":\"4656071705666371458\",\"value\":{}},\"click\":{\"sync\":false,\"id\":\"18052091784918352094\",\"value\":{}},\"image\":{\"sync\":true,\"id\":\"9031262700665920072\",\"value\":\"\"},\"__get_gd_contents\":{\"sync\":true,\"id\":\"18353320914091421658\",\"value\":\"\"},\"_downloadImage\":{\"sync\":true,\"id\":\"15333365991951859614\",\"value\":{}},\"relayout\":{\"sync\":false,\"id\":\"4153976177260652092\",\"value\":{}},\"_commands\":{\"sync\":true,\"id\":\"10542889220872216863\",\"value\":[]}}},\"children\":[{\"props\":{\"id\":\"plot-70317c27-b907-4cb9-96fb-26f7fae31238\"},\"nodeType\":\"DOM\",\"type\":\"node\",\"instanceArgs\":{\"namespace\":\"html\",\"tag\":\"div\"},\"children\":[]}]},\n",
       "        window,\n",
       "    );\n",
       "    })()\n",
       "    </script>\n",
       "</div>\n"
      ],
      "text/plain": [
       "data: [\n",
       "  \"heatmap with fields transpose, type, x, y, and z\"\n",
       "]\n",
       "\n",
       "layout: \"layout with fields autosize, height, margin, and template\"\n",
       "\n"
      ]
     },
     "execution_count": 48,
     "metadata": {},
     "output_type": "execute_result"
    }
   ],
   "source": [
    "showHM_All()"
   ]
  },
  {
   "cell_type": "code",
   "execution_count": 14,
   "id": "f94b380c-b760-4ef2-9f0f-3ba3efefd3ff",
   "metadata": {},
   "outputs": [
    {
     "data": {
      "text/plain": [
       "6-element Vector{String15}:\n",
       " \"53K\"\n",
       " \"63O\"\n",
       " \"68J\"\n",
       " \"21O\"\n",
       " \"57N\"\n",
       " \"67L\""
      ]
     },
     "execution_count": 14,
     "metadata": {},
     "output_type": "execute_result"
    }
   ],
   "source": [
    "unique(df.Sample)"
   ]
  },
  {
   "cell_type": "markdown",
   "id": "efb66e6f-6767-4953-a7b3-18d870b3cdd9",
   "metadata": {},
   "source": [
    "## 53K"
   ]
  },
  {
   "cell_type": "code",
   "execution_count": 49,
   "id": "54b12b6f-b52f-4f2d-aae8-8e2626ed39aa",
   "metadata": {},
   "outputs": [
    {
     "data": {
      "application/vnd.plotly.v1+json": {
       "config": {
        "editable": false,
        "responsive": true,
        "scrollZoom": true,
        "showLink": false,
        "staticPlot": false
       },
       "data": [
        {
         "transpose": true,
         "type": "heatmap",
         "x": [
          "IFN-?",
          "IFN-?",
          "IFN-?",
          "IFN-?",
          "IFN-?",
          "IFN-?",
          "IFN-?",
          "IFN-?",
          "IFN-?",
          "IFN-?",
          "IFN-?",
          "IFN-?",
          "IFN-?",
          "IFN-?",
          "IFN-?",
          "IFN-?",
          "IFN-?",
          "IFN-?",
          "IFN-?",
          "IFN-?",
          "IFN-?",
          "IFN-?",
          "IFN-?",
          "IFN-?",
          "IFN-?",
          "IFN-?",
          "IFN-?",
          "IFN-?",
          "IFN-?",
          "IFN-?",
          "IFN-?",
          "IFN-?",
          "IFN-?",
          "IFN-?",
          "IFN-?",
          "IFN-?",
          "IL-10",
          "IL-10",
          "IL-10",
          "IL-10",
          "IL-10",
          "IL-10",
          "IL-10",
          "IL-10",
          "IL-10",
          "IL-10",
          "IL-10",
          "IL-10",
          "IL-10",
          "IL-10",
          "IL-10",
          "IL-10",
          "IL-10",
          "IL-10",
          "IL-10",
          "IL-10",
          "IL-10",
          "IL-10",
          "IL-10",
          "IL-10",
          "IL-10",
          "IL-10",
          "IL-10",
          "IL-10",
          "IL-10",
          "IL-10",
          "IL-10",
          "IL-10",
          "IL-10",
          "IL-10",
          "IL-10",
          "IL-10",
          "IL-12p70",
          "IL-12p70",
          "IL-12p70",
          "IL-12p70",
          "IL-12p70",
          "IL-12p70",
          "IL-12p70",
          "IL-12p70",
          "IL-12p70",
          "IL-12p70",
          "IL-12p70",
          "IL-12p70",
          "IL-12p70",
          "IL-12p70",
          "IL-12p70",
          "IL-12p70",
          "IL-12p70",
          "IL-12p70",
          "IL-12p70",
          "IL-12p70",
          "IL-12p70",
          "IL-12p70",
          "IL-12p70",
          "IL-12p70",
          "IL-12p70",
          "IL-12p70",
          "IL-12p70",
          "IL-12p70",
          "IL-12p70",
          "IL-12p70",
          "IL-12p70",
          "IL-12p70",
          "IL-12p70",
          "IL-12p70",
          "IL-12p70",
          "IL-12p70",
          "IL-13",
          "IL-13",
          "IL-13",
          "IL-13",
          "IL-13",
          "IL-13",
          "IL-13",
          "IL-13",
          "IL-13",
          "IL-13",
          "IL-13",
          "IL-13",
          "IL-13",
          "IL-13",
          "IL-13",
          "IL-13",
          "IL-13",
          "IL-13",
          "IL-13",
          "IL-13",
          "IL-13",
          "IL-13",
          "IL-13",
          "IL-13",
          "IL-13",
          "IL-13",
          "IL-13",
          "IL-13",
          "IL-13",
          "IL-13",
          "IL-13",
          "IL-13",
          "IL-13",
          "IL-13",
          "IL-13",
          "IL-13",
          "IL-1?",
          "IL-1?",
          "IL-1?",
          "IL-1?",
          "IL-1?",
          "IL-1?",
          "IL-1?",
          "IL-1?",
          "IL-1?",
          "IL-1?",
          "IL-1?",
          "IL-1?",
          "IL-1?",
          "IL-1?",
          "IL-1?",
          "IL-1?",
          "IL-1?",
          "IL-1?",
          "IL-1?",
          "IL-1?",
          "IL-1?",
          "IL-1?",
          "IL-1?",
          "IL-1?",
          "IL-1?",
          "IL-1?",
          "IL-1?",
          "IL-1?",
          "IL-1?",
          "IL-1?",
          "IL-1?",
          "IL-1?",
          "IL-1?",
          "IL-1?",
          "IL-1?",
          "IL-1?",
          "IL-2",
          "IL-2",
          "IL-2",
          "IL-2",
          "IL-2",
          "IL-2",
          "IL-2",
          "IL-2",
          "IL-2",
          "IL-2",
          "IL-2",
          "IL-2",
          "IL-2",
          "IL-2",
          "IL-2",
          "IL-2",
          "IL-2",
          "IL-2",
          "IL-2",
          "IL-2",
          "IL-2",
          "IL-2",
          "IL-2",
          "IL-2",
          "IL-2",
          "IL-2",
          "IL-2",
          "IL-2",
          "IL-2",
          "IL-2",
          "IL-2",
          "IL-2",
          "IL-2",
          "IL-2",
          "IL-2",
          "IL-2",
          "IL-4",
          "IL-4",
          "IL-4",
          "IL-4",
          "IL-4",
          "IL-4",
          "IL-4",
          "IL-4",
          "IL-4",
          "IL-4",
          "IL-4",
          "IL-4",
          "IL-4",
          "IL-4",
          "IL-4",
          "IL-4",
          "IL-4",
          "IL-4",
          "IL-4",
          "IL-4",
          "IL-4",
          "IL-4",
          "IL-4",
          "IL-4",
          "IL-4",
          "IL-4",
          "IL-4",
          "IL-4",
          "IL-4",
          "IL-4",
          "IL-4",
          "IL-4",
          "IL-4",
          "IL-4",
          "IL-4",
          "IL-4",
          "IL-6",
          "IL-6",
          "IL-6",
          "IL-6",
          "IL-6",
          "IL-6",
          "IL-6",
          "IL-6",
          "IL-6",
          "IL-6",
          "IL-6",
          "IL-6",
          "IL-6",
          "IL-6",
          "IL-6",
          "IL-6",
          "IL-6",
          "IL-6",
          "IL-6",
          "IL-6",
          "IL-6",
          "IL-6",
          "IL-6",
          "IL-6",
          "IL-6",
          "IL-6",
          "IL-6",
          "IL-6",
          "IL-6",
          "IL-6",
          "IL-6",
          "IL-6",
          "IL-6",
          "IL-6",
          "IL-6",
          "IL-6",
          "IL-8",
          "IL-8",
          "IL-8",
          "IL-8",
          "IL-8",
          "IL-8",
          "IL-8",
          "IL-8",
          "IL-8",
          "IL-8",
          "IL-8",
          "IL-8",
          "IL-8",
          "IL-8",
          "IL-8",
          "IL-8",
          "IL-8",
          "IL-8",
          "IL-8",
          "IL-8",
          "IL-8",
          "IL-8",
          "IL-8",
          "IL-8",
          "IL-8",
          "IL-8",
          "IL-8",
          "IL-8",
          "IL-8",
          "IL-8",
          "IL-8",
          "IL-8",
          "IL-8",
          "IL-8",
          "IL-8",
          "IL-8",
          "TNF-�",
          "TNF-�",
          "TNF-�",
          "TNF-�",
          "TNF-�",
          "TNF-�",
          "TNF-�",
          "TNF-�",
          "TNF-�",
          "TNF-�",
          "TNF-�",
          "TNF-�",
          "TNF-�",
          "TNF-�",
          "TNF-�",
          "TNF-�",
          "TNF-�",
          "TNF-�",
          "TNF-�",
          "TNF-�",
          "TNF-�",
          "TNF-�",
          "TNF-�",
          "TNF-�",
          "TNF-�",
          "TNF-�",
          "TNF-�",
          "TNF-�",
          "TNF-�",
          "TNF-�",
          "TNF-�",
          "TNF-�",
          "TNF-�",
          "TNF-�",
          "TNF-�",
          "TNF-�"
         ],
         "y": [
          "CB_F_01ug",
          "CB_F_01ug",
          "CB_F_01ug",
          "PL_F_01ug",
          "PL_F_01ug",
          "PL_F_01ug",
          "CB_S_01ug",
          "CB_S_01ug",
          "CB_S_01ug",
          "PL_S_01ug",
          "PL_S_01ug",
          "PL_S_01ug",
          "CB_F_25ug",
          "CB_F_25ug",
          "CB_F_25ug",
          "PL_F_25ug",
          "PL_F_25ug",
          "PL_F_25ug",
          "CB_S_25ug",
          "CB_S_25ug",
          "CB_S_25ug",
          "PL_S_25ug",
          "PL_S_25ug",
          "PL_S_25ug",
          "CB_F_05ug",
          "CB_F_05ug",
          "CB_F_05ug",
          "PL_F_05ug",
          "PL_F_05ug",
          "PL_F_05ug",
          "CB_S_05ug",
          "CB_S_05ug",
          "CB_S_05ug",
          "PL_S_05ug",
          "PL_S_05ug",
          "PL_S_05ug",
          "CB_F_01ug",
          "CB_F_01ug",
          "CB_F_01ug",
          "PL_F_01ug",
          "PL_F_01ug",
          "PL_F_01ug",
          "CB_S_01ug",
          "CB_S_01ug",
          "CB_S_01ug",
          "PL_S_01ug",
          "PL_S_01ug",
          "PL_S_01ug",
          "CB_F_25ug",
          "CB_F_25ug",
          "CB_F_25ug",
          "PL_F_25ug",
          "PL_F_25ug",
          "PL_F_25ug",
          "CB_S_25ug",
          "CB_S_25ug",
          "CB_S_25ug",
          "PL_S_25ug",
          "PL_S_25ug",
          "PL_S_25ug",
          "CB_F_05ug",
          "CB_F_05ug",
          "CB_F_05ug",
          "PL_F_05ug",
          "PL_F_05ug",
          "PL_F_05ug",
          "CB_S_05ug",
          "CB_S_05ug",
          "CB_S_05ug",
          "PL_S_05ug",
          "PL_S_05ug",
          "PL_S_05ug",
          "CB_F_01ug",
          "CB_F_01ug",
          "CB_F_01ug",
          "PL_F_01ug",
          "PL_F_01ug",
          "PL_F_01ug",
          "CB_S_01ug",
          "CB_S_01ug",
          "CB_S_01ug",
          "PL_S_01ug",
          "PL_S_01ug",
          "PL_S_01ug",
          "CB_F_25ug",
          "CB_F_25ug",
          "CB_F_25ug",
          "PL_F_25ug",
          "PL_F_25ug",
          "PL_F_25ug",
          "CB_S_25ug",
          "CB_S_25ug",
          "CB_S_25ug",
          "PL_S_25ug",
          "PL_S_25ug",
          "PL_S_25ug",
          "CB_F_05ug",
          "CB_F_05ug",
          "CB_F_05ug",
          "PL_F_05ug",
          "PL_F_05ug",
          "PL_F_05ug",
          "CB_S_05ug",
          "CB_S_05ug",
          "CB_S_05ug",
          "PL_S_05ug",
          "PL_S_05ug",
          "PL_S_05ug",
          "CB_F_01ug",
          "CB_F_01ug",
          "CB_F_01ug",
          "PL_F_01ug",
          "PL_F_01ug",
          "PL_F_01ug",
          "CB_S_01ug",
          "CB_S_01ug",
          "CB_S_01ug",
          "PL_S_01ug",
          "PL_S_01ug",
          "PL_S_01ug",
          "CB_F_25ug",
          "CB_F_25ug",
          "CB_F_25ug",
          "PL_F_25ug",
          "PL_F_25ug",
          "PL_F_25ug",
          "CB_S_25ug",
          "CB_S_25ug",
          "CB_S_25ug",
          "PL_S_25ug",
          "PL_S_25ug",
          "PL_S_25ug",
          "CB_F_05ug",
          "CB_F_05ug",
          "CB_F_05ug",
          "PL_F_05ug",
          "PL_F_05ug",
          "PL_F_05ug",
          "CB_S_05ug",
          "CB_S_05ug",
          "CB_S_05ug",
          "PL_S_05ug",
          "PL_S_05ug",
          "PL_S_05ug",
          "CB_F_01ug",
          "CB_F_01ug",
          "CB_F_01ug",
          "PL_F_01ug",
          "PL_F_01ug",
          "PL_F_01ug",
          "CB_S_01ug",
          "CB_S_01ug",
          "CB_S_01ug",
          "PL_S_01ug",
          "PL_S_01ug",
          "PL_S_01ug",
          "CB_F_25ug",
          "CB_F_25ug",
          "CB_F_25ug",
          "PL_F_25ug",
          "PL_F_25ug",
          "PL_F_25ug",
          "CB_S_25ug",
          "CB_S_25ug",
          "CB_S_25ug",
          "PL_S_25ug",
          "PL_S_25ug",
          "PL_S_25ug",
          "CB_F_05ug",
          "CB_F_05ug",
          "CB_F_05ug",
          "PL_F_05ug",
          "PL_F_05ug",
          "PL_F_05ug",
          "CB_S_05ug",
          "CB_S_05ug",
          "CB_S_05ug",
          "PL_S_05ug",
          "PL_S_05ug",
          "PL_S_05ug",
          "CB_F_01ug",
          "CB_F_01ug",
          "CB_F_01ug",
          "PL_F_01ug",
          "PL_F_01ug",
          "PL_F_01ug",
          "CB_S_01ug",
          "CB_S_01ug",
          "CB_S_01ug",
          "PL_S_01ug",
          "PL_S_01ug",
          "PL_S_01ug",
          "CB_F_25ug",
          "CB_F_25ug",
          "CB_F_25ug",
          "PL_F_25ug",
          "PL_F_25ug",
          "PL_F_25ug",
          "CB_S_25ug",
          "CB_S_25ug",
          "CB_S_25ug",
          "PL_S_25ug",
          "PL_S_25ug",
          "PL_S_25ug",
          "CB_F_05ug",
          "CB_F_05ug",
          "CB_F_05ug",
          "PL_F_05ug",
          "PL_F_05ug",
          "PL_F_05ug",
          "CB_S_05ug",
          "CB_S_05ug",
          "CB_S_05ug",
          "PL_S_05ug",
          "PL_S_05ug",
          "PL_S_05ug",
          "CB_F_01ug",
          "CB_F_01ug",
          "CB_F_01ug",
          "PL_F_01ug",
          "PL_F_01ug",
          "PL_F_01ug",
          "CB_S_01ug",
          "CB_S_01ug",
          "CB_S_01ug",
          "PL_S_01ug",
          "PL_S_01ug",
          "PL_S_01ug",
          "CB_F_25ug",
          "CB_F_25ug",
          "CB_F_25ug",
          "PL_F_25ug",
          "PL_F_25ug",
          "PL_F_25ug",
          "CB_S_25ug",
          "CB_S_25ug",
          "CB_S_25ug",
          "PL_S_25ug",
          "PL_S_25ug",
          "PL_S_25ug",
          "CB_F_05ug",
          "CB_F_05ug",
          "CB_F_05ug",
          "PL_F_05ug",
          "PL_F_05ug",
          "PL_F_05ug",
          "CB_S_05ug",
          "CB_S_05ug",
          "CB_S_05ug",
          "PL_S_05ug",
          "PL_S_05ug",
          "PL_S_05ug",
          "CB_F_01ug",
          "CB_F_01ug",
          "CB_F_01ug",
          "PL_F_01ug",
          "PL_F_01ug",
          "PL_F_01ug",
          "CB_S_01ug",
          "CB_S_01ug",
          "CB_S_01ug",
          "PL_S_01ug",
          "PL_S_01ug",
          "PL_S_01ug",
          "CB_F_25ug",
          "CB_F_25ug",
          "CB_F_25ug",
          "PL_F_25ug",
          "PL_F_25ug",
          "PL_F_25ug",
          "CB_S_25ug",
          "CB_S_25ug",
          "CB_S_25ug",
          "PL_S_25ug",
          "PL_S_25ug",
          "PL_S_25ug",
          "CB_F_05ug",
          "CB_F_05ug",
          "CB_F_05ug",
          "PL_F_05ug",
          "PL_F_05ug",
          "PL_F_05ug",
          "CB_S_05ug",
          "CB_S_05ug",
          "CB_S_05ug",
          "PL_S_05ug",
          "PL_S_05ug",
          "PL_S_05ug",
          "CB_F_01ug",
          "CB_F_01ug",
          "CB_F_01ug",
          "PL_F_01ug",
          "PL_F_01ug",
          "PL_F_01ug",
          "CB_S_01ug",
          "CB_S_01ug",
          "CB_S_01ug",
          "PL_S_01ug",
          "PL_S_01ug",
          "PL_S_01ug",
          "CB_F_25ug",
          "CB_F_25ug",
          "CB_F_25ug",
          "PL_F_25ug",
          "PL_F_25ug",
          "PL_F_25ug",
          "CB_S_25ug",
          "CB_S_25ug",
          "CB_S_25ug",
          "PL_S_25ug",
          "PL_S_25ug",
          "PL_S_25ug",
          "CB_F_05ug",
          "CB_F_05ug",
          "CB_F_05ug",
          "PL_F_05ug",
          "PL_F_05ug",
          "PL_F_05ug",
          "CB_S_05ug",
          "CB_S_05ug",
          "CB_S_05ug",
          "PL_S_05ug",
          "PL_S_05ug",
          "PL_S_05ug",
          "CB_F_01ug",
          "CB_F_01ug",
          "CB_F_01ug",
          "PL_F_01ug",
          "PL_F_01ug",
          "PL_F_01ug",
          "CB_S_01ug",
          "CB_S_01ug",
          "CB_S_01ug",
          "PL_S_01ug",
          "PL_S_01ug",
          "PL_S_01ug",
          "CB_F_25ug",
          "CB_F_25ug",
          "CB_F_25ug",
          "PL_F_25ug",
          "PL_F_25ug",
          "PL_F_25ug",
          "CB_S_25ug",
          "CB_S_25ug",
          "CB_S_25ug",
          "PL_S_25ug",
          "PL_S_25ug",
          "PL_S_25ug",
          "CB_F_05ug",
          "CB_F_05ug",
          "CB_F_05ug",
          "PL_F_05ug",
          "PL_F_05ug",
          "PL_F_05ug",
          "CB_S_05ug",
          "CB_S_05ug",
          "CB_S_05ug",
          "PL_S_05ug",
          "PL_S_05ug",
          "PL_S_05ug"
         ],
         "z": [
          0.08656775,
          0,
          0.256362446,
          0,
          0,
          0,
          0.352697432,
          0.340674279,
          0.854598653,
          0.08656775,
          0,
          0,
          0.830799441,
          0.19594515,
          0.074338397,
          0,
          0,
          0,
          0.878390162,
          0,
          0.376729599,
          0,
          0.012682205,
          0.098776966,
          0.532547301,
          0.232217922,
          0.268424628,
          0.012682205,
          0,
          0,
          0.663968389,
          0.220134876,
          0.074338397,
          0.025121943,
          0.159593627,
          0,
          0.211510569,
          0.321446017,
          0.171989123,
          0.400263268,
          0.234564828,
          0.472839698,
          0.273390066,
          0.51251725,
          0.278071835,
          0.248836261,
          0.279242511,
          0.439196403,
          0.530287357,
          0.250004485,
          0.265200634,
          0.238326963,
          0.904134554,
          1.923761226,
          0.567047805,
          0.245332211,
          0.527917346,
          0.303847618,
          0.210346039,
          0.126870296,
          0.175469936,
          0.245332211,
          0.433293079,
          0.182435449,
          1.256788475,
          0.590145663,
          0.192893085,
          0.234825792,
          0.19870755,
          0.136103782,
          0.139569431,
          0.113044098,
          0,
          0.050170952,
          0.039268527,
          0.421238745,
          0,
          0.259835035,
          0.104841459,
          0.192630927,
          0.187136242,
          0.143213277,
          0.173403487,
          1.088382229,
          0.01480983,
          0,
          0,
          0.526170548,
          0.124266987,
          0.449156592,
          0.517881805,
          0.429517898,
          0.559332828,
          0.044717922,
          0.001319686,
          0.004003103,
          0.031102389,
          0.67825233,
          0.27514399,
          0.553804986,
          0.091100715,
          0.054097027,
          0.088418655,
          0.091154704,
          0.085683069,
          0,
          0.004003103,
          0,
          6.5851691,
          15.13117801,
          15.60925246,
          28.23179398,
          21.98616084,
          26.59384166,
          2.242720911,
          11.68285561,
          12.34772148,
          6.017179727,
          22.44832428,
          27.47112609,
          14.66544588,
          8.191197067,
          14.22322204,
          17.76686175,
          21.82829378,
          32.87454431,
          12.80261768,
          14.85271181,
          17.32267161,
          2.639371192,
          5.103581041,
          2.903312165,
          2.877531693,
          21.4298298,
          21.84205889,
          20.78158798,
          19.78532057,
          26.31246524,
          5.597624489,
          9.42526204,
          8.176755126,
          2.693302472,
          5.103581041,
          4.797890389,
          2.156076756,
          1.731622009,
          1.314620733,
          2.365884044,
          1.306609863,
          2.360014043,
          1.073050797,
          1.514524089,
          2.506994573,
          1.540280133,
          1.907035756,
          2.687384525,
          3.632530866,
          1.415182792,
          1.491221316,
          1.65434696,
          2.216397333,
          3.258812083,
          3.072758466,
          1.7132229,
          1.941384368,
          1.658026652,
          1.709543099,
          1.312168072,
          1.077955418,
          1.60037898,
          1.422541217,
          1.444616676,
          1.610418819,
          3.012882918,
          0.972509446,
          0.764091473,
          0.971283373,
          1.088990868,
          1.05956317,
          0.934501615,
          1.089479577,
          0.602215898,
          0.94652791,
          0.684115323,
          0.587269492,
          0.748484233,
          0.311561668,
          0.506585436,
          1.007806837,
          0.527085738,
          0.554412432,
          0.939717782,
          1.850363389,
          0.115779664,
          0.646585441,
          0.256706369,
          1.149962702,
          1.502612311,
          1.802868708,
          0.544165842,
          1.157513724,
          0.38347635,
          0.800045469,
          0.646585441,
          0.581731449,
          0.273855262,
          0.830716302,
          0.386898808,
          3.937163886,
          0.703793458,
          0.540750069,
          0.177728506,
          0.585145806,
          0.198347899,
          0.561242891,
          0.225821465,
          0.00719332,
          0.009042995,
          0.012148819,
          0.020952639,
          0.010252971,
          0.026807517,
          0.031144853,
          0.076623288,
          0.141599255,
          0.036922092,
          0.014023548,
          0.115611516,
          0.040788043,
          0.009042995,
          0,
          0.014023548,
          0.002203575,
          0.031694592,
          0.248086948,
          0.153640713,
          0.241301364,
          0.005967432,
          0.002340392,
          0.011525655,
          0.022854731,
          0.142267491,
          0.018424132,
          0.08451534,
          0.017793107,
          0.031694592,
          0.055696383,
          0.062868588,
          0.059605474,
          0.005357054,
          0.004748628,
          0.009662046,
          2.950101513,
          2.898572663,
          1.997232881,
          5.550633779,
          1.607421647,
          3.229342159,
          1.638952628,
          2.592184618,
          6.852249296,
          3.873226226,
          3.350068478,
          6.280904753,
          6.380810929,
          1.554462773,
          1.933923076,
          2.954781571,
          2.810300826,
          5.040029817,
          5.117747927,
          2.468653134,
          2.411435902,
          2.64427354,
          2.672643324,
          2.128105542,
          1.589305754,
          2.516235182,
          1.713149627,
          2.879812755,
          2.17962341,
          3.462522329,
          1.653817858,
          0.958700059,
          1.093635165,
          1.119392086,
          1.574382289,
          0.953474561,
          3101.009346,
          2493.264495,
          2075.906143,
          3602.063183,
          1677.935276,
          2948.730937,
          1348.429442,
          2282.196368,
          3503.370387,
          2359.34632,
          2777.86634,
          3714.541787,
          3793.744898,
          2075.115497,
          2208.903927,
          2681.297656,
          2349.329016,
          3017.593738,
          3796.206289,
          2933.225833,
          3048.650346,
          2643.027412,
          2673.115552,
          2254.669874,
          1892.993122,
          2607.301886,
          2454.948884,
          2626.725099,
          2248.876401,
          3506.744373,
          1756.603761,
          1449.677612,
          1642.519334,
          1790.325189,
          1817.984882,
          1392.06249,
          0.949502979,
          1.600599954,
          1.333518968,
          3.964862423,
          3.963929763,
          5.428262619,
          0.364846706,
          0.945870459,
          1.586181053,
          0.320595603,
          1.715883496,
          4.19593587,
          2.244102212,
          0.658169763,
          1.246734893,
          2.057484986,
          4.59281821,
          7.466921566,
          1.971270789,
          1.076517187,
          2.799072677,
          0.489821764,
          0.74209325,
          0.22067507,
          0.294741402,
          3.409448333,
          2.670334424,
          2.096981847,
          4.200152072,
          4.984289505,
          0.552123811,
          1.159861349,
          0.541137236,
          0.386941879,
          0.331666392,
          0.449446968
         ]
        }
       ],
       "frames": [],
       "layout": {
        "autosize": true,
        "margin": {
         "b": 0,
         "l": 0,
         "r": 0,
         "t": 65
        },
        "template": {
         "data": {
          "bar": [
           {
            "error_x": {
             "color": "#2a3f5f"
            },
            "error_y": {
             "color": "#2a3f5f"
            },
            "marker": {
             "line": {
              "color": "#E5ECF6",
              "width": 0.5
             }
            },
            "type": "bar"
           }
          ],
          "barpolar": [
           {
            "marker": {
             "line": {
              "color": "#E5ECF6",
              "width": 0.5
             }
            },
            "type": "barpolar"
           }
          ],
          "carpet": [
           {
            "aaxis": {
             "endlinecolor": "#2a3f5f",
             "gridcolor": "white",
             "linecolor": "white",
             "minorgridcolor": "white",
             "startlinecolor": "#2a3f5f"
            },
            "baxis": {
             "endlinecolor": "#2a3f5f",
             "gridcolor": "white",
             "linecolor": "white",
             "minorgridcolor": "white",
             "startlinecolor": "#2a3f5f"
            },
            "type": "carpet"
           }
          ],
          "choropleth": [
           {
            "colorbar": {
             "outlinewidth": 0,
             "ticks": ""
            },
            "type": "choropleth"
           }
          ],
          "contour": [
           {
            "colorbar": {
             "outlinewidth": 0,
             "ticks": ""
            },
            "colorscale": [
             [
              0,
              "#0d0887"
             ],
             [
              0.1111111111111111,
              "#46039f"
             ],
             [
              0.2222222222222222,
              "#7201a8"
             ],
             [
              0.3333333333333333,
              "#9c179e"
             ],
             [
              0.4444444444444444,
              "#bd3786"
             ],
             [
              0.5555555555555556,
              "#d8576b"
             ],
             [
              0.6666666666666666,
              "#ed7953"
             ],
             [
              0.7777777777777778,
              "#fb9f3a"
             ],
             [
              0.8888888888888888,
              "#fdca26"
             ],
             [
              1,
              "#f0f921"
             ]
            ],
            "type": "contour"
           }
          ],
          "contourcarpet": [
           {
            "colorbar": {
             "outlinewidth": 0,
             "ticks": ""
            },
            "type": "contourcarpet"
           }
          ],
          "heatmap": [
           {
            "colorbar": {
             "outlinewidth": 0,
             "ticks": ""
            },
            "colorscale": [
             [
              0,
              "#0d0887"
             ],
             [
              0.1111111111111111,
              "#46039f"
             ],
             [
              0.2222222222222222,
              "#7201a8"
             ],
             [
              0.3333333333333333,
              "#9c179e"
             ],
             [
              0.4444444444444444,
              "#bd3786"
             ],
             [
              0.5555555555555556,
              "#d8576b"
             ],
             [
              0.6666666666666666,
              "#ed7953"
             ],
             [
              0.7777777777777778,
              "#fb9f3a"
             ],
             [
              0.8888888888888888,
              "#fdca26"
             ],
             [
              1,
              "#f0f921"
             ]
            ],
            "type": "heatmap"
           }
          ],
          "heatmapgl": [
           {
            "colorbar": {
             "outlinewidth": 0,
             "ticks": ""
            },
            "colorscale": [
             [
              0,
              "#0d0887"
             ],
             [
              0.1111111111111111,
              "#46039f"
             ],
             [
              0.2222222222222222,
              "#7201a8"
             ],
             [
              0.3333333333333333,
              "#9c179e"
             ],
             [
              0.4444444444444444,
              "#bd3786"
             ],
             [
              0.5555555555555556,
              "#d8576b"
             ],
             [
              0.6666666666666666,
              "#ed7953"
             ],
             [
              0.7777777777777778,
              "#fb9f3a"
             ],
             [
              0.8888888888888888,
              "#fdca26"
             ],
             [
              1,
              "#f0f921"
             ]
            ],
            "type": "heatmapgl"
           }
          ],
          "histogram": [
           {
            "marker": {
             "colorbar": {
              "outlinewidth": 0,
              "ticks": ""
             }
            },
            "type": "histogram"
           }
          ],
          "histogram2d": [
           {
            "colorbar": {
             "outlinewidth": 0,
             "ticks": ""
            },
            "colorscale": [
             [
              0,
              "#0d0887"
             ],
             [
              0.1111111111111111,
              "#46039f"
             ],
             [
              0.2222222222222222,
              "#7201a8"
             ],
             [
              0.3333333333333333,
              "#9c179e"
             ],
             [
              0.4444444444444444,
              "#bd3786"
             ],
             [
              0.5555555555555556,
              "#d8576b"
             ],
             [
              0.6666666666666666,
              "#ed7953"
             ],
             [
              0.7777777777777778,
              "#fb9f3a"
             ],
             [
              0.8888888888888888,
              "#fdca26"
             ],
             [
              1,
              "#f0f921"
             ]
            ],
            "type": "histogram2d"
           }
          ],
          "histogram2dcontour": [
           {
            "colorbar": {
             "outlinewidth": 0,
             "ticks": ""
            },
            "colorscale": [
             [
              0,
              "#0d0887"
             ],
             [
              0.1111111111111111,
              "#46039f"
             ],
             [
              0.2222222222222222,
              "#7201a8"
             ],
             [
              0.3333333333333333,
              "#9c179e"
             ],
             [
              0.4444444444444444,
              "#bd3786"
             ],
             [
              0.5555555555555556,
              "#d8576b"
             ],
             [
              0.6666666666666666,
              "#ed7953"
             ],
             [
              0.7777777777777778,
              "#fb9f3a"
             ],
             [
              0.8888888888888888,
              "#fdca26"
             ],
             [
              1,
              "#f0f921"
             ]
            ],
            "type": "histogram2dcontour"
           }
          ],
          "mesh3d": [
           {
            "colorbar": {
             "outlinewidth": 0,
             "ticks": ""
            },
            "type": "mesh3d"
           }
          ],
          "parcoords": [
           {
            "line": {
             "colorbar": {
              "outlinewidth": 0,
              "ticks": ""
             }
            },
            "type": "parcoords"
           }
          ],
          "pie": [
           {
            "automargin": true,
            "type": "pie"
           }
          ],
          "scatter": [
           {
            "marker": {
             "colorbar": {
              "outlinewidth": 0,
              "ticks": ""
             }
            },
            "type": "scatter"
           }
          ],
          "scatter3d": [
           {
            "line": {
             "colorbar": {
              "outlinewidth": 0,
              "ticks": ""
             }
            },
            "marker": {
             "colorbar": {
              "outlinewidth": 0,
              "ticks": ""
             }
            },
            "type": "scatter3d"
           }
          ],
          "scattercarpet": [
           {
            "marker": {
             "colorbar": {
              "outlinewidth": 0,
              "ticks": ""
             }
            },
            "type": "scattercarpet"
           }
          ],
          "scattergeo": [
           {
            "marker": {
             "colorbar": {
              "outlinewidth": 0,
              "ticks": ""
             }
            },
            "type": "scattergeo"
           }
          ],
          "scattergl": [
           {
            "marker": {
             "colorbar": {
              "outlinewidth": 0,
              "ticks": ""
             }
            },
            "type": "scattergl"
           }
          ],
          "scattermapbox": [
           {
            "marker": {
             "colorbar": {
              "outlinewidth": 0,
              "ticks": ""
             }
            },
            "type": "scattermapbox"
           }
          ],
          "scatterpolar": [
           {
            "marker": {
             "colorbar": {
              "outlinewidth": 0,
              "ticks": ""
             }
            },
            "type": "scatterpolar"
           }
          ],
          "scatterpolargl": [
           {
            "marker": {
             "colorbar": {
              "outlinewidth": 0,
              "ticks": ""
             }
            },
            "type": "scatterpolargl"
           }
          ],
          "scatterternary": [
           {
            "marker": {
             "colorbar": {
              "outlinewidth": 0,
              "ticks": ""
             }
            },
            "type": "scatterternary"
           }
          ],
          "surface": [
           {
            "colorbar": {
             "outlinewidth": 0,
             "ticks": ""
            },
            "colorscale": [
             [
              0,
              "#0d0887"
             ],
             [
              0.1111111111111111,
              "#46039f"
             ],
             [
              0.2222222222222222,
              "#7201a8"
             ],
             [
              0.3333333333333333,
              "#9c179e"
             ],
             [
              0.4444444444444444,
              "#bd3786"
             ],
             [
              0.5555555555555556,
              "#d8576b"
             ],
             [
              0.6666666666666666,
              "#ed7953"
             ],
             [
              0.7777777777777778,
              "#fb9f3a"
             ],
             [
              0.8888888888888888,
              "#fdca26"
             ],
             [
              1,
              "#f0f921"
             ]
            ],
            "type": "surface"
           }
          ],
          "table": [
           {
            "cells": {
             "fill": {
              "color": "#EBF0F8"
             },
             "line": {
              "color": "white"
             }
            },
            "header": {
             "fill": {
              "color": "#C8D4E3"
             },
             "line": {
              "color": "white"
             }
            },
            "type": "table"
           }
          ]
         },
         "layout": {
          "annotationdefaults": {
           "arrowcolor": "#2a3f5f",
           "arrowhead": 0,
           "arrowwidth": 1
          },
          "autotypenumbers": "strict",
          "coloraxis": {
           "colorbar": {
            "outlinewidth": 0,
            "ticks": ""
           }
          },
          "colorscale": {
           "diverging": [
            [
             0,
             "#8e0152"
            ],
            [
             0.1,
             "#c51b7d"
            ],
            [
             0.2,
             "#de77ae"
            ],
            [
             0.3,
             "#f1b6da"
            ],
            [
             0.4,
             "#fde0ef"
            ],
            [
             0.5,
             "#f7f7f7"
            ],
            [
             0.6,
             "#e6f5d0"
            ],
            [
             0.7,
             "#b8e186"
            ],
            [
             0.8,
             "#7fbc41"
            ],
            [
             0.9,
             "#4d9221"
            ],
            [
             1,
             "#276419"
            ]
           ],
           "sequential": [
            [
             0,
             "#0d0887"
            ],
            [
             0.1111111111111111,
             "#46039f"
            ],
            [
             0.2222222222222222,
             "#7201a8"
            ],
            [
             0.3333333333333333,
             "#9c179e"
            ],
            [
             0.4444444444444444,
             "#bd3786"
            ],
            [
             0.5555555555555556,
             "#d8576b"
            ],
            [
             0.6666666666666666,
             "#ed7953"
            ],
            [
             0.7777777777777778,
             "#fb9f3a"
            ],
            [
             0.8888888888888888,
             "#fdca26"
            ],
            [
             1,
             "#f0f921"
            ]
           ],
           "sequentialminus": [
            [
             0,
             "#0d0887"
            ],
            [
             0.1111111111111111,
             "#46039f"
            ],
            [
             0.2222222222222222,
             "#7201a8"
            ],
            [
             0.3333333333333333,
             "#9c179e"
            ],
            [
             0.4444444444444444,
             "#bd3786"
            ],
            [
             0.5555555555555556,
             "#d8576b"
            ],
            [
             0.6666666666666666,
             "#ed7953"
            ],
            [
             0.7777777777777778,
             "#fb9f3a"
            ],
            [
             0.8888888888888888,
             "#fdca26"
            ],
            [
             1,
             "#f0f921"
            ]
           ]
          },
          "colorway": [
           "#636efa",
           "#EF553B",
           "#00cc96",
           "#ab63fa",
           "#FFA15A",
           "#19d3f3",
           "#FF6692",
           "#B6E880",
           "#FF97FF",
           "#FECB52"
          ],
          "font": {
           "color": "#2a3f5f"
          },
          "geo": {
           "bgcolor": "white",
           "lakecolor": "white",
           "landcolor": "#E5ECF6",
           "showlakes": true,
           "showland": true,
           "subunitcolor": "white"
          },
          "hoverlabel": {
           "align": "left"
          },
          "hovermode": "closest",
          "mapbox": {
           "style": "light"
          },
          "paper_bgcolor": "white",
          "plot_bgcolor": "#E5ECF6",
          "polar": {
           "angularaxis": {
            "gridcolor": "white",
            "linecolor": "white",
            "ticks": ""
           },
           "bgcolor": "#E5ECF6",
           "radialaxis": {
            "gridcolor": "white",
            "linecolor": "white",
            "ticks": ""
           }
          },
          "scene": {
           "xaxis": {
            "backgroundcolor": "#E5ECF6",
            "gridcolor": "white",
            "gridwidth": 2,
            "linecolor": "white",
            "showbackground": true,
            "ticks": "",
            "zerolinecolor": "white"
           },
           "yaxis": {
            "backgroundcolor": "#E5ECF6",
            "gridcolor": "white",
            "gridwidth": 2,
            "linecolor": "white",
            "showbackground": true,
            "ticks": "",
            "zerolinecolor": "white"
           },
           "zaxis": {
            "backgroundcolor": "#E5ECF6",
            "gridcolor": "white",
            "gridwidth": 2,
            "linecolor": "white",
            "showbackground": true,
            "ticks": "",
            "zerolinecolor": "white"
           }
          },
          "shapedefaults": {
           "line": {
            "color": "#2a3f5f"
           }
          },
          "ternary": {
           "aaxis": {
            "gridcolor": "white",
            "linecolor": "white",
            "ticks": ""
           },
           "baxis": {
            "gridcolor": "white",
            "linecolor": "white",
            "ticks": ""
           },
           "bgcolor": "#E5ECF6",
           "caxis": {
            "gridcolor": "white",
            "linecolor": "white",
            "ticks": ""
           }
          },
          "title": {
           "x": 0.05
          },
          "xaxis": {
           "automargin": true,
           "gridcolor": "white",
           "linecolor": "white",
           "ticks": "",
           "title": {
            "standoff": 15
           },
           "zerolinecolor": "white",
           "zerolinewidth": 2
          },
          "yaxis": {
           "automargin": true,
           "gridcolor": "white",
           "linecolor": "white",
           "ticks": "",
           "title": {
            "standoff": 15
           },
           "zerolinecolor": "white",
           "zerolinewidth": 2
          }
         }
        },
        "xaxis": {
         "autorange": true,
         "range": [
          -0.5,
          9.5
         ],
         "type": "category"
        },
        "yaxis": {
         "autorange": true,
         "range": [
          -0.5,
          11.5
         ],
         "type": "category"
        }
       }
      },
      "image/png": "[encoded data removed]",
      "text/html": [
       "<div\n",
       "    class=\"webio-mountpoint\"\n",
       "    data-webio-mountpoint=\"9794327537457056982\"\n",
       ">\n",
       "    <script>\n",
       "    (function(){\n",
       "    // Some integrations (namely, IJulia/Jupyter) use an alternate render pathway than\n",
       "    // just putting the html on the page. If WebIO isn't defined, then it's pretty likely\n",
       "    // that we're in one of those situations and the integration just isn't installed\n",
       "    // correctly.\n",
       "    if (typeof window.WebIO === \"undefined\") {\n",
       "        document\n",
       "            .querySelector('[data-webio-mountpoint=\"9794327537457056982\"]')\n",
       "            .innerHTML = (\n",
       "                '<div style=\"padding: 1em; background-color: #f8d6da; border: 1px solid #f5c6cb; font-weight: bold;\">' +\n",
       "                '<p><strong>WebIO not detected.</strong></p>' +\n",
       "                '<p>Please read ' +\n",
       "                '<a href=\"https://juliagizmos.github.io/WebIO.jl/latest/troubleshooting/not-detected/\" target=\"_blank\">the troubleshooting guide</a> ' +\n",
       "                'for more information on how to resolve this issue.</p>' +\n",
       "                '<p><a href=\"https://juliagizmos.github.io/WebIO.jl/latest/troubleshooting/not-detected/\" target=\"_blank\">https://juliagizmos.github.io/WebIO.jl/latest/troubleshooting/not-detected/</a></p>' +\n",
       "                '</div>'\n",
       "            );\n",
       "        return;\n",
       "    }\n",
       "    WebIO.mount(\n",
       "        document.querySelector('[data-webio-mountpoint=\"9794327537457056982\"]'),\n",
       "        {\"props\":{},\"nodeType\":\"Scope\",\"type\":\"node\",\"instanceArgs\":{\"imports\":{\"data\":[{\"name\":\"Plotly\",\"type\":\"js\",\"url\":\"\\/assetserver\\/2c1443c4a3fadd5de9f99c6b5d8fa0ad35f7de28-plotly.min.js\"},{\"name\":null,\"type\":\"js\",\"url\":\"\\/assetserver\\/a617ad3fbd31c68e6d8336a472e6356f3a4cb577-plotly_webio.bundle.js\"}],\"type\":\"async_block\"},\"id\":\"14814358499499509489\",\"handlers\":{\"_toImage\":[\"(function (options){return this.Plotly.toImage(this.plotElem,options).then((function (data){return WebIO.setval({\\\"name\\\":\\\"image\\\",\\\"scope\\\":\\\"14814358499499509489\\\",\\\"id\\\":\\\"8180341176800917624\\\",\\\"type\\\":\\\"observable\\\"},data)}))})\"],\"__get_gd_contents\":[\"(function (prop){prop==\\\"data\\\" ? (WebIO.setval({\\\"name\\\":\\\"__gd_contents\\\",\\\"scope\\\":\\\"14814358499499509489\\\",\\\"id\\\":\\\"4558685566269580047\\\",\\\"type\\\":\\\"observable\\\"},this.plotElem.data)) : undefined; return prop==\\\"layout\\\" ? (WebIO.setval({\\\"name\\\":\\\"__gd_contents\\\",\\\"scope\\\":\\\"14814358499499509489\\\",\\\"id\\\":\\\"4558685566269580047\\\",\\\"type\\\":\\\"observable\\\"},this.plotElem.layout)) : undefined})\"],\"_downloadImage\":[\"(function (options){return this.Plotly.downloadImage(this.plotElem,options)})\"],\"_commands\":[\"(function (args){var fn=args.shift(); var elem=this.plotElem; var Plotly=this.Plotly; args.unshift(elem); return Plotly[fn].apply(this,args)})\"]},\"systemjs_options\":null,\"mount_callbacks\":[\"function () {\\n    var handler = ((function (Plotly,PlotlyWebIO){PlotlyWebIO.init(WebIO); var gd=this.dom.querySelector(\\\"#plot-74f1d918-fbbe-4030-a460-71608b057319\\\"); this.plotElem=gd; this.Plotly=Plotly; (window.Blink!==undefined) ? (gd.style.width=\\\"100%\\\", gd.style.height=\\\"100vh\\\", gd.style.marginLeft=\\\"0%\\\", gd.style.marginTop=\\\"0vh\\\") : undefined; window.onresize=(function (){return Plotly.Plots.resize(gd)}); Plotly.newPlot(gd,[{\\\"y\\\":[\\\"CB_F_01ug\\\",\\\"CB_F_01ug\\\",\\\"CB_F_01ug\\\",\\\"PL_F_01ug\\\",\\\"PL_F_01ug\\\",\\\"PL_F_01ug\\\",\\\"CB_S_01ug\\\",\\\"CB_S_01ug\\\",\\\"CB_S_01ug\\\",\\\"PL_S_01ug\\\",\\\"PL_S_01ug\\\",\\\"PL_S_01ug\\\",\\\"CB_F_25ug\\\",\\\"CB_F_25ug\\\",\\\"CB_F_25ug\\\",\\\"PL_F_25ug\\\",\\\"PL_F_25ug\\\",\\\"PL_F_25ug\\\",\\\"CB_S_25ug\\\",\\\"CB_S_25ug\\\",\\\"CB_S_25ug\\\",\\\"PL_S_25ug\\\",\\\"PL_S_25ug\\\",\\\"PL_S_25ug\\\",\\\"CB_F_05ug\\\",\\\"CB_F_05ug\\\",\\\"CB_F_05ug\\\",\\\"PL_F_05ug\\\",\\\"PL_F_05ug\\\",\\\"PL_F_05ug\\\",\\\"CB_S_05ug\\\",\\\"CB_S_05ug\\\",\\\"CB_S_05ug\\\",\\\"PL_S_05ug\\\",\\\"PL_S_05ug\\\",\\\"PL_S_05ug\\\",\\\"CB_F_01ug\\\",\\\"CB_F_01ug\\\",\\\"CB_F_01ug\\\",\\\"PL_F_01ug\\\",\\\"PL_F_01ug\\\",\\\"PL_F_01ug\\\",\\\"CB_S_01ug\\\",\\\"CB_S_01ug\\\",\\\"CB_S_01ug\\\",\\\"PL_S_01ug\\\",\\\"PL_S_01ug\\\",\\\"PL_S_01ug\\\",\\\"CB_F_25ug\\\",\\\"CB_F_25ug\\\",\\\"CB_F_25ug\\\",\\\"PL_F_25ug\\\",\\\"PL_F_25ug\\\",\\\"PL_F_25ug\\\",\\\"CB_S_25ug\\\",\\\"CB_S_25ug\\\",\\\"CB_S_25ug\\\",\\\"PL_S_25ug\\\",\\\"PL_S_25ug\\\",\\\"PL_S_25ug\\\",\\\"CB_F_05ug\\\",\\\"CB_F_05ug\\\",\\\"CB_F_05ug\\\",\\\"PL_F_05ug\\\",\\\"PL_F_05ug\\\",\\\"PL_F_05ug\\\",\\\"CB_S_05ug\\\",\\\"CB_S_05ug\\\",\\\"CB_S_05ug\\\",\\\"PL_S_05ug\\\",\\\"PL_S_05ug\\\",\\\"PL_S_05ug\\\",\\\"CB_F_01ug\\\",\\\"CB_F_01ug\\\",\\\"CB_F_01ug\\\",\\\"PL_F_01ug\\\",\\\"PL_F_01ug\\\",\\\"PL_F_01ug\\\",\\\"CB_S_01ug\\\",\\\"CB_S_01ug\\\",\\\"CB_S_01ug\\\",\\\"PL_S_01ug\\\",\\\"PL_S_01ug\\\",\\\"PL_S_01ug\\\",\\\"CB_F_25ug\\\",\\\"CB_F_25ug\\\",\\\"CB_F_25ug\\\",\\\"PL_F_25ug\\\",\\\"PL_F_25ug\\\",\\\"PL_F_25ug\\\",\\\"CB_S_25ug\\\",\\\"CB_S_25ug\\\",\\\"CB_S_25ug\\\",\\\"PL_S_25ug\\\",\\\"PL_S_25ug\\\",\\\"PL_S_25ug\\\",\\\"CB_F_05ug\\\",\\\"CB_F_05ug\\\",\\\"CB_F_05ug\\\",\\\"PL_F_05ug\\\",\\\"PL_F_05ug\\\",\\\"PL_F_05ug\\\",\\\"CB_S_05ug\\\",\\\"CB_S_05ug\\\",\\\"CB_S_05ug\\\",\\\"PL_S_05ug\\\",\\\"PL_S_05ug\\\",\\\"PL_S_05ug\\\",\\\"CB_F_01ug\\\",\\\"CB_F_01ug\\\",\\\"CB_F_01ug\\\",\\\"PL_F_01ug\\\",\\\"PL_F_01ug\\\",\\\"PL_F_01ug\\\",\\\"CB_S_01ug\\\",\\\"CB_S_01ug\\\",\\\"CB_S_01ug\\\",\\\"PL_S_01ug\\\",\\\"PL_S_01ug\\\",\\\"PL_S_01ug\\\",\\\"CB_F_25ug\\\",\\\"CB_F_25ug\\\",\\\"CB_F_25ug\\\",\\\"PL_F_25ug\\\",\\\"PL_F_25ug\\\",\\\"PL_F_25ug\\\",\\\"CB_S_25ug\\\",\\\"CB_S_25ug\\\",\\\"CB_S_25ug\\\",\\\"PL_S_25ug\\\",\\\"PL_S_25ug\\\",\\\"PL_S_25ug\\\",\\\"CB_F_05ug\\\",\\\"CB_F_05ug\\\",\\\"CB_F_05ug\\\",\\\"PL_F_05ug\\\",\\\"PL_F_05ug\\\",\\\"PL_F_05ug\\\",\\\"CB_S_05ug\\\",\\\"CB_S_05ug\\\",\\\"CB_S_05ug\\\",\\\"PL_S_05ug\\\",\\\"PL_S_05ug\\\",\\\"PL_S_05ug\\\",\\\"CB_F_01ug\\\",\\\"CB_F_01ug\\\",\\\"CB_F_01ug\\\",\\\"PL_F_01ug\\\",\\\"PL_F_01ug\\\",\\\"PL_F_01ug\\\",\\\"CB_S_01ug\\\",\\\"CB_S_01ug\\\",\\\"CB_S_01ug\\\",\\\"PL_S_01ug\\\",\\\"PL_S_01ug\\\",\\\"PL_S_01ug\\\",\\\"CB_F_25ug\\\",\\\"CB_F_25ug\\\",\\\"CB_F_25ug\\\",\\\"PL_F_25ug\\\",\\\"PL_F_25ug\\\",\\\"PL_F_25ug\\\",\\\"CB_S_25ug\\\",\\\"CB_S_25ug\\\",\\\"CB_S_25ug\\\",\\\"PL_S_25ug\\\",\\\"PL_S_25ug\\\",\\\"PL_S_25ug\\\",\\\"CB_F_05ug\\\",\\\"CB_F_05ug\\\",\\\"CB_F_05ug\\\",\\\"PL_F_05ug\\\",\\\"PL_F_05ug\\\",\\\"PL_F_05ug\\\",\\\"CB_S_05ug\\\",\\\"CB_S_05ug\\\",\\\"CB_S_05ug\\\",\\\"PL_S_05ug\\\",\\\"PL_S_05ug\\\",\\\"PL_S_05ug\\\",\\\"CB_F_01ug\\\",\\\"CB_F_01ug\\\",\\\"CB_F_01ug\\\",\\\"PL_F_01ug\\\",\\\"PL_F_01ug\\\",\\\"PL_F_01ug\\\",\\\"CB_S_01ug\\\",\\\"CB_S_01ug\\\",\\\"CB_S_01ug\\\",\\\"PL_S_01ug\\\",\\\"PL_S_01ug\\\",\\\"PL_S_01ug\\\",\\\"CB_F_25ug\\\",\\\"CB_F_25ug\\\",\\\"CB_F_25ug\\\",\\\"PL_F_25ug\\\",\\\"PL_F_25ug\\\",\\\"PL_F_25ug\\\",\\\"CB_S_25ug\\\",\\\"CB_S_25ug\\\",\\\"CB_S_25ug\\\",\\\"PL_S_25ug\\\",\\\"PL_S_25ug\\\",\\\"PL_S_25ug\\\",\\\"CB_F_05ug\\\",\\\"CB_F_05ug\\\",\\\"CB_F_05ug\\\",\\\"PL_F_05ug\\\",\\\"PL_F_05ug\\\",\\\"PL_F_05ug\\\",\\\"CB_S_05ug\\\",\\\"CB_S_05ug\\\",\\\"CB_S_05ug\\\",\\\"PL_S_05ug\\\",\\\"PL_S_05ug\\\",\\\"PL_S_05ug\\\",\\\"CB_F_01ug\\\",\\\"CB_F_01ug\\\",\\\"CB_F_01ug\\\",\\\"PL_F_01ug\\\",\\\"PL_F_01ug\\\",\\\"PL_F_01ug\\\",\\\"CB_S_01ug\\\",\\\"CB_S_01ug\\\",\\\"CB_S_01ug\\\",\\\"PL_S_01ug\\\",\\\"PL_S_01ug\\\",\\\"PL_S_01ug\\\",\\\"CB_F_25ug\\\",\\\"CB_F_25ug\\\",\\\"CB_F_25ug\\\",\\\"PL_F_25ug\\\",\\\"PL_F_25ug\\\",\\\"PL_F_25ug\\\",\\\"CB_S_25ug\\\",\\\"CB_S_25ug\\\",\\\"CB_S_25ug\\\",\\\"PL_S_25ug\\\",\\\"PL_S_25ug\\\",\\\"PL_S_25ug\\\",\\\"CB_F_05ug\\\",\\\"CB_F_05ug\\\",\\\"CB_F_05ug\\\",\\\"PL_F_05ug\\\",\\\"PL_F_05ug\\\",\\\"PL_F_05ug\\\",\\\"CB_S_05ug\\\",\\\"CB_S_05ug\\\",\\\"CB_S_05ug\\\",\\\"PL_S_05ug\\\",\\\"PL_S_05ug\\\",\\\"PL_S_05ug\\\",\\\"CB_F_01ug\\\",\\\"CB_F_01ug\\\",\\\"CB_F_01ug\\\",\\\"PL_F_01ug\\\",\\\"PL_F_01ug\\\",\\\"PL_F_01ug\\\",\\\"CB_S_01ug\\\",\\\"CB_S_01ug\\\",\\\"CB_S_01ug\\\",\\\"PL_S_01ug\\\",\\\"PL_S_01ug\\\",\\\"PL_S_01ug\\\",\\\"CB_F_25ug\\\",\\\"CB_F_25ug\\\",\\\"CB_F_25ug\\\",\\\"PL_F_25ug\\\",\\\"PL_F_25ug\\\",\\\"PL_F_25ug\\\",\\\"CB_S_25ug\\\",\\\"CB_S_25ug\\\",\\\"CB_S_25ug\\\",\\\"PL_S_25ug\\\",\\\"PL_S_25ug\\\",\\\"PL_S_25ug\\\",\\\"CB_F_05ug\\\",\\\"CB_F_05ug\\\",\\\"CB_F_05ug\\\",\\\"PL_F_05ug\\\",\\\"PL_F_05ug\\\",\\\"PL_F_05ug\\\",\\\"CB_S_05ug\\\",\\\"CB_S_05ug\\\",\\\"CB_S_05ug\\\",\\\"PL_S_05ug\\\",\\\"PL_S_05ug\\\",\\\"PL_S_05ug\\\",\\\"CB_F_01ug\\\",\\\"CB_F_01ug\\\",\\\"CB_F_01ug\\\",\\\"PL_F_01ug\\\",\\\"PL_F_01ug\\\",\\\"PL_F_01ug\\\",\\\"CB_S_01ug\\\",\\\"CB_S_01ug\\\",\\\"CB_S_01ug\\\",\\\"PL_S_01ug\\\",\\\"PL_S_01ug\\\",\\\"PL_S_01ug\\\",\\\"CB_F_25ug\\\",\\\"CB_F_25ug\\\",\\\"CB_F_25ug\\\",\\\"PL_F_25ug\\\",\\\"PL_F_25ug\\\",\\\"PL_F_25ug\\\",\\\"CB_S_25ug\\\",\\\"CB_S_25ug\\\",\\\"CB_S_25ug\\\",\\\"PL_S_25ug\\\",\\\"PL_S_25ug\\\",\\\"PL_S_25ug\\\",\\\"CB_F_05ug\\\",\\\"CB_F_05ug\\\",\\\"CB_F_05ug\\\",\\\"PL_F_05ug\\\",\\\"PL_F_05ug\\\",\\\"PL_F_05ug\\\",\\\"CB_S_05ug\\\",\\\"CB_S_05ug\\\",\\\"CB_S_05ug\\\",\\\"PL_S_05ug\\\",\\\"PL_S_05ug\\\",\\\"PL_S_05ug\\\",\\\"CB_F_01ug\\\",\\\"CB_F_01ug\\\",\\\"CB_F_01ug\\\",\\\"PL_F_01ug\\\",\\\"PL_F_01ug\\\",\\\"PL_F_01ug\\\",\\\"CB_S_01ug\\\",\\\"CB_S_01ug\\\",\\\"CB_S_01ug\\\",\\\"PL_S_01ug\\\",\\\"PL_S_01ug\\\",\\\"PL_S_01ug\\\",\\\"CB_F_25ug\\\",\\\"CB_F_25ug\\\",\\\"CB_F_25ug\\\",\\\"PL_F_25ug\\\",\\\"PL_F_25ug\\\",\\\"PL_F_25ug\\\",\\\"CB_S_25ug\\\",\\\"CB_S_25ug\\\",\\\"CB_S_25ug\\\",\\\"PL_S_25ug\\\",\\\"PL_S_25ug\\\",\\\"PL_S_25ug\\\",\\\"CB_F_05ug\\\",\\\"CB_F_05ug\\\",\\\"CB_F_05ug\\\",\\\"PL_F_05ug\\\",\\\"PL_F_05ug\\\",\\\"PL_F_05ug\\\",\\\"CB_S_05ug\\\",\\\"CB_S_05ug\\\",\\\"CB_S_05ug\\\",\\\"PL_S_05ug\\\",\\\"PL_S_05ug\\\",\\\"PL_S_05ug\\\"],\\\"type\\\":\\\"heatmap\\\",\\\"z\\\":[0.08656775,0.0,0.256362446,0.0,0.0,0.0,0.352697432,0.340674279,0.854598653,0.08656775,0.0,0.0,0.830799441,0.19594515,0.074338397,0.0,0.0,0.0,0.878390162,0.0,0.376729599,0.0,0.012682205,0.098776966,0.532547301,0.232217922,0.268424628,0.012682205,0.0,0.0,0.663968389,0.220134876,0.074338397,0.025121943,0.159593627,0.0,0.211510569,0.321446017,0.171989123,0.400263268,0.234564828,0.472839698,0.273390066,0.51251725,0.278071835,0.248836261,0.279242511,0.439196403,0.530287357,0.250004485,0.265200634,0.238326963,0.904134554,1.923761226,0.567047805,0.245332211,0.527917346,0.303847618,0.210346039,0.126870296,0.175469936,0.245332211,0.433293079,0.182435449,1.256788475,0.590145663,0.192893085,0.234825792,0.19870755,0.136103782,0.139569431,0.113044098,0.0,0.050170952,0.039268527,0.421238745,0.0,0.259835035,0.104841459,0.192630927,0.187136242,0.143213277,0.173403487,1.088382229,0.01480983,0.0,0.0,0.526170548,0.124266987,0.449156592,0.517881805,0.429517898,0.559332828,0.044717922,0.001319686,0.004003103,0.031102389,0.67825233,0.27514399,0.553804986,0.091100715,0.054097027,0.088418655,0.091154704,0.085683069,0.0,0.004003103,0.0,6.5851691,15.13117801,15.60925246,28.23179398,21.98616084,26.59384166,2.242720911,11.68285561,12.34772148,6.017179727,22.44832428,27.47112609,14.66544588,8.191197067,14.22322204,17.76686175,21.82829378,32.87454431,12.80261768,14.85271181,17.32267161,2.639371192,5.103581041,2.903312165,2.877531693,21.4298298,21.84205889,20.78158798,19.78532057,26.31246524,5.597624489,9.42526204,8.176755126,2.693302472,5.103581041,4.797890389,2.156076756,1.731622009,1.314620733,2.365884044,1.306609863,2.360014043,1.073050797,1.514524089,2.506994573,1.540280133,1.907035756,2.687384525,3.632530866,1.415182792,1.491221316,1.65434696,2.216397333,3.258812083,3.072758466,1.7132229,1.941384368,1.658026652,1.709543099,1.312168072,1.077955418,1.60037898,1.422541217,1.444616676,1.610418819,3.012882918,0.972509446,0.764091473,0.971283373,1.088990868,1.05956317,0.934501615,1.089479577,0.602215898,0.94652791,0.684115323,0.587269492,0.748484233,0.311561668,0.506585436,1.007806837,0.527085738,0.554412432,0.939717782,1.850363389,0.115779664,0.646585441,0.256706369,1.149962702,1.502612311,1.802868708,0.544165842,1.157513724,0.38347635,0.800045469,0.646585441,0.581731449,0.273855262,0.830716302,0.386898808,3.937163886,0.703793458,0.540750069,0.177728506,0.585145806,0.198347899,0.561242891,0.225821465,0.00719332,0.009042995,0.012148819,0.020952639,0.010252971,0.026807517,0.031144853,0.076623288,0.141599255,0.036922092,0.014023548,0.115611516,0.040788043,0.009042995,0.0,0.014023548,0.002203575,0.031694592,0.248086948,0.153640713,0.241301364,0.005967432,0.002340392,0.011525655,0.022854731,0.142267491,0.018424132,0.08451534,0.017793107,0.031694592,0.055696383,0.062868588,0.059605474,0.005357054,0.004748628,0.009662046,2.950101513,2.898572663,1.997232881,5.550633779,1.607421647,3.229342159,1.638952628,2.592184618,6.852249296,3.873226226,3.350068478,6.280904753,6.380810929,1.554462773,1.933923076,2.954781571,2.810300826,5.040029817,5.117747927,2.468653134,2.411435902,2.64427354,2.672643324,2.128105542,1.589305754,2.516235182,1.713149627,2.879812755,2.17962341,3.462522329,1.653817858,0.958700059,1.093635165,1.119392086,1.574382289,0.953474561,3101.009346,2493.264495,2075.906143,3602.063183,1677.935276,2948.730937,1348.429442,2282.196368,3503.370387,2359.34632,2777.86634,3714.541787,3793.744898,2075.115497,2208.903927,2681.297656,2349.329016,3017.593738,3796.206289,2933.225833,3048.650346,2643.027412,2673.115552,2254.669874,1892.993122,2607.301886,2454.948884,2626.725099,2248.876401,3506.744373,1756.603761,1449.677612,1642.519334,1790.325189,1817.984882,1392.06249,0.949502979,1.600599954,1.333518968,3.964862423,3.963929763,5.428262619,0.364846706,0.945870459,1.586181053,0.320595603,1.715883496,4.19593587,2.244102212,0.658169763,1.246734893,2.057484986,4.59281821,7.466921566,1.971270789,1.076517187,2.799072677,0.489821764,0.74209325,0.22067507,0.294741402,3.409448333,2.670334424,2.096981847,4.200152072,4.984289505,0.552123811,1.159861349,0.541137236,0.386941879,0.331666392,0.449446968],\\\"transpose\\\":true,\\\"x\\\":[\\\"IFN-?\\\",\\\"IFN-?\\\",\\\"IFN-?\\\",\\\"IFN-?\\\",\\\"IFN-?\\\",\\\"IFN-?\\\",\\\"IFN-?\\\",\\\"IFN-?\\\",\\\"IFN-?\\\",\\\"IFN-?\\\",\\\"IFN-?\\\",\\\"IFN-?\\\",\\\"IFN-?\\\",\\\"IFN-?\\\",\\\"IFN-?\\\",\\\"IFN-?\\\",\\\"IFN-?\\\",\\\"IFN-?\\\",\\\"IFN-?\\\",\\\"IFN-?\\\",\\\"IFN-?\\\",\\\"IFN-?\\\",\\\"IFN-?\\\",\\\"IFN-?\\\",\\\"IFN-?\\\",\\\"IFN-?\\\",\\\"IFN-?\\\",\\\"IFN-?\\\",\\\"IFN-?\\\",\\\"IFN-?\\\",\\\"IFN-?\\\",\\\"IFN-?\\\",\\\"IFN-?\\\",\\\"IFN-?\\\",\\\"IFN-?\\\",\\\"IFN-?\\\",\\\"IL-10\\\",\\\"IL-10\\\",\\\"IL-10\\\",\\\"IL-10\\\",\\\"IL-10\\\",\\\"IL-10\\\",\\\"IL-10\\\",\\\"IL-10\\\",\\\"IL-10\\\",\\\"IL-10\\\",\\\"IL-10\\\",\\\"IL-10\\\",\\\"IL-10\\\",\\\"IL-10\\\",\\\"IL-10\\\",\\\"IL-10\\\",\\\"IL-10\\\",\\\"IL-10\\\",\\\"IL-10\\\",\\\"IL-10\\\",\\\"IL-10\\\",\\\"IL-10\\\",\\\"IL-10\\\",\\\"IL-10\\\",\\\"IL-10\\\",\\\"IL-10\\\",\\\"IL-10\\\",\\\"IL-10\\\",\\\"IL-10\\\",\\\"IL-10\\\",\\\"IL-10\\\",\\\"IL-10\\\",\\\"IL-10\\\",\\\"IL-10\\\",\\\"IL-10\\\",\\\"IL-10\\\",\\\"IL-12p70\\\",\\\"IL-12p70\\\",\\\"IL-12p70\\\",\\\"IL-12p70\\\",\\\"IL-12p70\\\",\\\"IL-12p70\\\",\\\"IL-12p70\\\",\\\"IL-12p70\\\",\\\"IL-12p70\\\",\\\"IL-12p70\\\",\\\"IL-12p70\\\",\\\"IL-12p70\\\",\\\"IL-12p70\\\",\\\"IL-12p70\\\",\\\"IL-12p70\\\",\\\"IL-12p70\\\",\\\"IL-12p70\\\",\\\"IL-12p70\\\",\\\"IL-12p70\\\",\\\"IL-12p70\\\",\\\"IL-12p70\\\",\\\"IL-12p70\\\",\\\"IL-12p70\\\",\\\"IL-12p70\\\",\\\"IL-12p70\\\",\\\"IL-12p70\\\",\\\"IL-12p70\\\",\\\"IL-12p70\\\",\\\"IL-12p70\\\",\\\"IL-12p70\\\",\\\"IL-12p70\\\",\\\"IL-12p70\\\",\\\"IL-12p70\\\",\\\"IL-12p70\\\",\\\"IL-12p70\\\",\\\"IL-12p70\\\",\\\"IL-13\\\",\\\"IL-13\\\",\\\"IL-13\\\",\\\"IL-13\\\",\\\"IL-13\\\",\\\"IL-13\\\",\\\"IL-13\\\",\\\"IL-13\\\",\\\"IL-13\\\",\\\"IL-13\\\",\\\"IL-13\\\",\\\"IL-13\\\",\\\"IL-13\\\",\\\"IL-13\\\",\\\"IL-13\\\",\\\"IL-13\\\",\\\"IL-13\\\",\\\"IL-13\\\",\\\"IL-13\\\",\\\"IL-13\\\",\\\"IL-13\\\",\\\"IL-13\\\",\\\"IL-13\\\",\\\"IL-13\\\",\\\"IL-13\\\",\\\"IL-13\\\",\\\"IL-13\\\",\\\"IL-13\\\",\\\"IL-13\\\",\\\"IL-13\\\",\\\"IL-13\\\",\\\"IL-13\\\",\\\"IL-13\\\",\\\"IL-13\\\",\\\"IL-13\\\",\\\"IL-13\\\",\\\"IL-1?\\\",\\\"IL-1?\\\",\\\"IL-1?\\\",\\\"IL-1?\\\",\\\"IL-1?\\\",\\\"IL-1?\\\",\\\"IL-1?\\\",\\\"IL-1?\\\",\\\"IL-1?\\\",\\\"IL-1?\\\",\\\"IL-1?\\\",\\\"IL-1?\\\",\\\"IL-1?\\\",\\\"IL-1?\\\",\\\"IL-1?\\\",\\\"IL-1?\\\",\\\"IL-1?\\\",\\\"IL-1?\\\",\\\"IL-1?\\\",\\\"IL-1?\\\",\\\"IL-1?\\\",\\\"IL-1?\\\",\\\"IL-1?\\\",\\\"IL-1?\\\",\\\"IL-1?\\\",\\\"IL-1?\\\",\\\"IL-1?\\\",\\\"IL-1?\\\",\\\"IL-1?\\\",\\\"IL-1?\\\",\\\"IL-1?\\\",\\\"IL-1?\\\",\\\"IL-1?\\\",\\\"IL-1?\\\",\\\"IL-1?\\\",\\\"IL-1?\\\",\\\"IL-2\\\",\\\"IL-2\\\",\\\"IL-2\\\",\\\"IL-2\\\",\\\"IL-2\\\",\\\"IL-2\\\",\\\"IL-2\\\",\\\"IL-2\\\",\\\"IL-2\\\",\\\"IL-2\\\",\\\"IL-2\\\",\\\"IL-2\\\",\\\"IL-2\\\",\\\"IL-2\\\",\\\"IL-2\\\",\\\"IL-2\\\",\\\"IL-2\\\",\\\"IL-2\\\",\\\"IL-2\\\",\\\"IL-2\\\",\\\"IL-2\\\",\\\"IL-2\\\",\\\"IL-2\\\",\\\"IL-2\\\",\\\"IL-2\\\",\\\"IL-2\\\",\\\"IL-2\\\",\\\"IL-2\\\",\\\"IL-2\\\",\\\"IL-2\\\",\\\"IL-2\\\",\\\"IL-2\\\",\\\"IL-2\\\",\\\"IL-2\\\",\\\"IL-2\\\",\\\"IL-2\\\",\\\"IL-4\\\",\\\"IL-4\\\",\\\"IL-4\\\",\\\"IL-4\\\",\\\"IL-4\\\",\\\"IL-4\\\",\\\"IL-4\\\",\\\"IL-4\\\",\\\"IL-4\\\",\\\"IL-4\\\",\\\"IL-4\\\",\\\"IL-4\\\",\\\"IL-4\\\",\\\"IL-4\\\",\\\"IL-4\\\",\\\"IL-4\\\",\\\"IL-4\\\",\\\"IL-4\\\",\\\"IL-4\\\",\\\"IL-4\\\",\\\"IL-4\\\",\\\"IL-4\\\",\\\"IL-4\\\",\\\"IL-4\\\",\\\"IL-4\\\",\\\"IL-4\\\",\\\"IL-4\\\",\\\"IL-4\\\",\\\"IL-4\\\",\\\"IL-4\\\",\\\"IL-4\\\",\\\"IL-4\\\",\\\"IL-4\\\",\\\"IL-4\\\",\\\"IL-4\\\",\\\"IL-4\\\",\\\"IL-6\\\",\\\"IL-6\\\",\\\"IL-6\\\",\\\"IL-6\\\",\\\"IL-6\\\",\\\"IL-6\\\",\\\"IL-6\\\",\\\"IL-6\\\",\\\"IL-6\\\",\\\"IL-6\\\",\\\"IL-6\\\",\\\"IL-6\\\",\\\"IL-6\\\",\\\"IL-6\\\",\\\"IL-6\\\",\\\"IL-6\\\",\\\"IL-6\\\",\\\"IL-6\\\",\\\"IL-6\\\",\\\"IL-6\\\",\\\"IL-6\\\",\\\"IL-6\\\",\\\"IL-6\\\",\\\"IL-6\\\",\\\"IL-6\\\",\\\"IL-6\\\",\\\"IL-6\\\",\\\"IL-6\\\",\\\"IL-6\\\",\\\"IL-6\\\",\\\"IL-6\\\",\\\"IL-6\\\",\\\"IL-6\\\",\\\"IL-6\\\",\\\"IL-6\\\",\\\"IL-6\\\",\\\"IL-8\\\",\\\"IL-8\\\",\\\"IL-8\\\",\\\"IL-8\\\",\\\"IL-8\\\",\\\"IL-8\\\",\\\"IL-8\\\",\\\"IL-8\\\",\\\"IL-8\\\",\\\"IL-8\\\",\\\"IL-8\\\",\\\"IL-8\\\",\\\"IL-8\\\",\\\"IL-8\\\",\\\"IL-8\\\",\\\"IL-8\\\",\\\"IL-8\\\",\\\"IL-8\\\",\\\"IL-8\\\",\\\"IL-8\\\",\\\"IL-8\\\",\\\"IL-8\\\",\\\"IL-8\\\",\\\"IL-8\\\",\\\"IL-8\\\",\\\"IL-8\\\",\\\"IL-8\\\",\\\"IL-8\\\",\\\"IL-8\\\",\\\"IL-8\\\",\\\"IL-8\\\",\\\"IL-8\\\",\\\"IL-8\\\",\\\"IL-8\\\",\\\"IL-8\\\",\\\"IL-8\\\",\\\"TNF-�\\\",\\\"TNF-�\\\",\\\"TNF-�\\\",\\\"TNF-�\\\",\\\"TNF-�\\\",\\\"TNF-�\\\",\\\"TNF-�\\\",\\\"TNF-�\\\",\\\"TNF-�\\\",\\\"TNF-�\\\",\\\"TNF-�\\\",\\\"TNF-�\\\",\\\"TNF-�\\\",\\\"TNF-�\\\",\\\"TNF-�\\\",\\\"TNF-�\\\",\\\"TNF-�\\\",\\\"TNF-�\\\",\\\"TNF-�\\\",\\\"TNF-�\\\",\\\"TNF-�\\\",\\\"TNF-�\\\",\\\"TNF-�\\\",\\\"TNF-�\\\",\\\"TNF-�\\\",\\\"TNF-�\\\",\\\"TNF-�\\\",\\\"TNF-�\\\",\\\"TNF-�\\\",\\\"TNF-�\\\",\\\"TNF-�\\\",\\\"TNF-�\\\",\\\"TNF-�\\\",\\\"TNF-�\\\",\\\"TNF-�\\\",\\\"TNF-�\\\"]}],{\\\"template\\\":{\\\"layout\\\":{\\\"coloraxis\\\":{\\\"colorbar\\\":{\\\"ticks\\\":\\\"\\\",\\\"outlinewidth\\\":0}},\\\"xaxis\\\":{\\\"gridcolor\\\":\\\"white\\\",\\\"zerolinewidth\\\":2,\\\"title\\\":{\\\"standoff\\\":15},\\\"ticks\\\":\\\"\\\",\\\"zerolinecolor\\\":\\\"white\\\",\\\"automargin\\\":true,\\\"linecolor\\\":\\\"white\\\"},\\\"hovermode\\\":\\\"closest\\\",\\\"paper_bgcolor\\\":\\\"white\\\",\\\"geo\\\":{\\\"showlakes\\\":true,\\\"showland\\\":true,\\\"landcolor\\\":\\\"#E5ECF6\\\",\\\"bgcolor\\\":\\\"white\\\",\\\"subunitcolor\\\":\\\"white\\\",\\\"lakecolor\\\":\\\"white\\\"},\\\"colorscale\\\":{\\\"sequential\\\":[[0.0,\\\"#0d0887\\\"],[0.1111111111111111,\\\"#46039f\\\"],[0.2222222222222222,\\\"#7201a8\\\"],[0.3333333333333333,\\\"#9c179e\\\"],[0.4444444444444444,\\\"#bd3786\\\"],[0.5555555555555556,\\\"#d8576b\\\"],[0.6666666666666666,\\\"#ed7953\\\"],[0.7777777777777778,\\\"#fb9f3a\\\"],[0.8888888888888888,\\\"#fdca26\\\"],[1.0,\\\"#f0f921\\\"]],\\\"diverging\\\":[[0,\\\"#8e0152\\\"],[0.1,\\\"#c51b7d\\\"],[0.2,\\\"#de77ae\\\"],[0.3,\\\"#f1b6da\\\"],[0.4,\\\"#fde0ef\\\"],[0.5,\\\"#f7f7f7\\\"],[0.6,\\\"#e6f5d0\\\"],[0.7,\\\"#b8e186\\\"],[0.8,\\\"#7fbc41\\\"],[0.9,\\\"#4d9221\\\"],[1,\\\"#276419\\\"]],\\\"sequentialminus\\\":[[0.0,\\\"#0d0887\\\"],[0.1111111111111111,\\\"#46039f\\\"],[0.2222222222222222,\\\"#7201a8\\\"],[0.3333333333333333,\\\"#9c179e\\\"],[0.4444444444444444,\\\"#bd3786\\\"],[0.5555555555555556,\\\"#d8576b\\\"],[0.6666666666666666,\\\"#ed7953\\\"],[0.7777777777777778,\\\"#fb9f3a\\\"],[0.8888888888888888,\\\"#fdca26\\\"],[1.0,\\\"#f0f921\\\"]]},\\\"yaxis\\\":{\\\"gridcolor\\\":\\\"white\\\",\\\"zerolinewidth\\\":2,\\\"title\\\":{\\\"standoff\\\":15},\\\"ticks\\\":\\\"\\\",\\\"zerolinecolor\\\":\\\"white\\\",\\\"automargin\\\":true,\\\"linecolor\\\":\\\"white\\\"},\\\"shapedefaults\\\":{\\\"line\\\":{\\\"color\\\":\\\"#2a3f5f\\\"}},\\\"hoverlabel\\\":{\\\"align\\\":\\\"left\\\"},\\\"mapbox\\\":{\\\"style\\\":\\\"light\\\"},\\\"polar\\\":{\\\"angularaxis\\\":{\\\"gridcolor\\\":\\\"white\\\",\\\"ticks\\\":\\\"\\\",\\\"linecolor\\\":\\\"white\\\"},\\\"bgcolor\\\":\\\"#E5ECF6\\\",\\\"radialaxis\\\":{\\\"gridcolor\\\":\\\"white\\\",\\\"ticks\\\":\\\"\\\",\\\"linecolor\\\":\\\"white\\\"}},\\\"autotypenumbers\\\":\\\"strict\\\",\\\"font\\\":{\\\"color\\\":\\\"#2a3f5f\\\"},\\\"ternary\\\":{\\\"baxis\\\":{\\\"gridcolor\\\":\\\"white\\\",\\\"ticks\\\":\\\"\\\",\\\"linecolor\\\":\\\"white\\\"},\\\"bgcolor\\\":\\\"#E5ECF6\\\",\\\"caxis\\\":{\\\"gridcolor\\\":\\\"white\\\",\\\"ticks\\\":\\\"\\\",\\\"linecolor\\\":\\\"white\\\"},\\\"aaxis\\\":{\\\"gridcolor\\\":\\\"white\\\",\\\"ticks\\\":\\\"\\\",\\\"linecolor\\\":\\\"white\\\"}},\\\"annotationdefaults\\\":{\\\"arrowhead\\\":0,\\\"arrowwidth\\\":1,\\\"arrowcolor\\\":\\\"#2a3f5f\\\"},\\\"plot_bgcolor\\\":\\\"#E5ECF6\\\",\\\"title\\\":{\\\"x\\\":0.05},\\\"scene\\\":{\\\"xaxis\\\":{\\\"gridcolor\\\":\\\"white\\\",\\\"gridwidth\\\":2,\\\"backgroundcolor\\\":\\\"#E5ECF6\\\",\\\"ticks\\\":\\\"\\\",\\\"showbackground\\\":true,\\\"zerolinecolor\\\":\\\"white\\\",\\\"linecolor\\\":\\\"white\\\"},\\\"zaxis\\\":{\\\"gridcolor\\\":\\\"white\\\",\\\"gridwidth\\\":2,\\\"backgroundcolor\\\":\\\"#E5ECF6\\\",\\\"ticks\\\":\\\"\\\",\\\"showbackground\\\":true,\\\"zerolinecolor\\\":\\\"white\\\",\\\"linecolor\\\":\\\"white\\\"},\\\"yaxis\\\":{\\\"gridcolor\\\":\\\"white\\\",\\\"gridwidth\\\":2,\\\"backgroundcolor\\\":\\\"#E5ECF6\\\",\\\"ticks\\\":\\\"\\\",\\\"showbackground\\\":true,\\\"zerolinecolor\\\":\\\"white\\\",\\\"linecolor\\\":\\\"white\\\"}},\\\"colorway\\\":[\\\"#636efa\\\",\\\"#EF553B\\\",\\\"#00cc96\\\",\\\"#ab63fa\\\",\\\"#FFA15A\\\",\\\"#19d3f3\\\",\\\"#FF6692\\\",\\\"#B6E880\\\",\\\"#FF97FF\\\",\\\"#FECB52\\\"]},\\\"data\\\":{\\\"barpolar\\\":[{\\\"type\\\":\\\"barpolar\\\",\\\"marker\\\":{\\\"line\\\":{\\\"color\\\":\\\"#E5ECF6\\\",\\\"width\\\":0.5}}}],\\\"carpet\\\":[{\\\"aaxis\\\":{\\\"gridcolor\\\":\\\"white\\\",\\\"endlinecolor\\\":\\\"#2a3f5f\\\",\\\"minorgridcolor\\\":\\\"white\\\",\\\"startlinecolor\\\":\\\"#2a3f5f\\\",\\\"linecolor\\\":\\\"white\\\"},\\\"type\\\":\\\"carpet\\\",\\\"baxis\\\":{\\\"gridcolor\\\":\\\"white\\\",\\\"endlinecolor\\\":\\\"#2a3f5f\\\",\\\"minorgridcolor\\\":\\\"white\\\",\\\"startlinecolor\\\":\\\"#2a3f5f\\\",\\\"linecolor\\\":\\\"white\\\"}}],\\\"scatterpolar\\\":[{\\\"type\\\":\\\"scatterpolar\\\",\\\"marker\\\":{\\\"colorbar\\\":{\\\"ticks\\\":\\\"\\\",\\\"outlinewidth\\\":0}}}],\\\"parcoords\\\":[{\\\"line\\\":{\\\"colorbar\\\":{\\\"ticks\\\":\\\"\\\",\\\"outlinewidth\\\":0}},\\\"type\\\":\\\"parcoords\\\"}],\\\"scatter\\\":[{\\\"type\\\":\\\"scatter\\\",\\\"marker\\\":{\\\"colorbar\\\":{\\\"ticks\\\":\\\"\\\",\\\"outlinewidth\\\":0}}}],\\\"histogram2dcontour\\\":[{\\\"colorbar\\\":{\\\"ticks\\\":\\\"\\\",\\\"outlinewidth\\\":0},\\\"type\\\":\\\"histogram2dcontour\\\",\\\"colorscale\\\":[[0.0,\\\"#0d0887\\\"],[0.1111111111111111,\\\"#46039f\\\"],[0.2222222222222222,\\\"#7201a8\\\"],[0.3333333333333333,\\\"#9c179e\\\"],[0.4444444444444444,\\\"#bd3786\\\"],[0.5555555555555556,\\\"#d8576b\\\"],[0.6666666666666666,\\\"#ed7953\\\"],[0.7777777777777778,\\\"#fb9f3a\\\"],[0.8888888888888888,\\\"#fdca26\\\"],[1.0,\\\"#f0f921\\\"]]}],\\\"contour\\\":[{\\\"colorbar\\\":{\\\"ticks\\\":\\\"\\\",\\\"outlinewidth\\\":0},\\\"type\\\":\\\"contour\\\",\\\"colorscale\\\":[[0.0,\\\"#0d0887\\\"],[0.1111111111111111,\\\"#46039f\\\"],[0.2222222222222222,\\\"#7201a8\\\"],[0.3333333333333333,\\\"#9c179e\\\"],[0.4444444444444444,\\\"#bd3786\\\"],[0.5555555555555556,\\\"#d8576b\\\"],[0.6666666666666666,\\\"#ed7953\\\"],[0.7777777777777778,\\\"#fb9f3a\\\"],[0.8888888888888888,\\\"#fdca26\\\"],[1.0,\\\"#f0f921\\\"]]}],\\\"scattercarpet\\\":[{\\\"type\\\":\\\"scattercarpet\\\",\\\"marker\\\":{\\\"colorbar\\\":{\\\"ticks\\\":\\\"\\\",\\\"outlinewidth\\\":0}}}],\\\"mesh3d\\\":[{\\\"colorbar\\\":{\\\"ticks\\\":\\\"\\\",\\\"outlinewidth\\\":0},\\\"type\\\":\\\"mesh3d\\\"}],\\\"surface\\\":[{\\\"colorbar\\\":{\\\"ticks\\\":\\\"\\\",\\\"outlinewidth\\\":0},\\\"type\\\":\\\"surface\\\",\\\"colorscale\\\":[[0.0,\\\"#0d0887\\\"],[0.1111111111111111,\\\"#46039f\\\"],[0.2222222222222222,\\\"#7201a8\\\"],[0.3333333333333333,\\\"#9c179e\\\"],[0.4444444444444444,\\\"#bd3786\\\"],[0.5555555555555556,\\\"#d8576b\\\"],[0.6666666666666666,\\\"#ed7953\\\"],[0.7777777777777778,\\\"#fb9f3a\\\"],[0.8888888888888888,\\\"#fdca26\\\"],[1.0,\\\"#f0f921\\\"]]}],\\\"scattermapbox\\\":[{\\\"type\\\":\\\"scattermapbox\\\",\\\"marker\\\":{\\\"colorbar\\\":{\\\"ticks\\\":\\\"\\\",\\\"outlinewidth\\\":0}}}],\\\"scattergeo\\\":[{\\\"type\\\":\\\"scattergeo\\\",\\\"marker\\\":{\\\"colorbar\\\":{\\\"ticks\\\":\\\"\\\",\\\"outlinewidth\\\":0}}}],\\\"histogram\\\":[{\\\"type\\\":\\\"histogram\\\",\\\"marker\\\":{\\\"colorbar\\\":{\\\"ticks\\\":\\\"\\\",\\\"outlinewidth\\\":0}}}],\\\"pie\\\":[{\\\"type\\\":\\\"pie\\\",\\\"automargin\\\":true}],\\\"choropleth\\\":[{\\\"colorbar\\\":{\\\"ticks\\\":\\\"\\\",\\\"outlinewidth\\\":0},\\\"type\\\":\\\"choropleth\\\"}],\\\"heatmapgl\\\":[{\\\"colorbar\\\":{\\\"ticks\\\":\\\"\\\",\\\"outlinewidth\\\":0},\\\"type\\\":\\\"heatmapgl\\\",\\\"colorscale\\\":[[0.0,\\\"#0d0887\\\"],[0.1111111111111111,\\\"#46039f\\\"],[0.2222222222222222,\\\"#7201a8\\\"],[0.3333333333333333,\\\"#9c179e\\\"],[0.4444444444444444,\\\"#bd3786\\\"],[0.5555555555555556,\\\"#d8576b\\\"],[0.6666666666666666,\\\"#ed7953\\\"],[0.7777777777777778,\\\"#fb9f3a\\\"],[0.8888888888888888,\\\"#fdca26\\\"],[1.0,\\\"#f0f921\\\"]]}],\\\"bar\\\":[{\\\"type\\\":\\\"bar\\\",\\\"error_y\\\":{\\\"color\\\":\\\"#2a3f5f\\\"},\\\"error_x\\\":{\\\"color\\\":\\\"#2a3f5f\\\"},\\\"marker\\\":{\\\"line\\\":{\\\"color\\\":\\\"#E5ECF6\\\",\\\"width\\\":0.5}}}],\\\"heatmap\\\":[{\\\"colorbar\\\":{\\\"ticks\\\":\\\"\\\",\\\"outlinewidth\\\":0},\\\"type\\\":\\\"heatmap\\\",\\\"colorscale\\\":[[0.0,\\\"#0d0887\\\"],[0.1111111111111111,\\\"#46039f\\\"],[0.2222222222222222,\\\"#7201a8\\\"],[0.3333333333333333,\\\"#9c179e\\\"],[0.4444444444444444,\\\"#bd3786\\\"],[0.5555555555555556,\\\"#d8576b\\\"],[0.6666666666666666,\\\"#ed7953\\\"],[0.7777777777777778,\\\"#fb9f3a\\\"],[0.8888888888888888,\\\"#fdca26\\\"],[1.0,\\\"#f0f921\\\"]]}],\\\"contourcarpet\\\":[{\\\"colorbar\\\":{\\\"ticks\\\":\\\"\\\",\\\"outlinewidth\\\":0},\\\"type\\\":\\\"contourcarpet\\\"}],\\\"table\\\":[{\\\"type\\\":\\\"table\\\",\\\"header\\\":{\\\"line\\\":{\\\"color\\\":\\\"white\\\"},\\\"fill\\\":{\\\"color\\\":\\\"#C8D4E3\\\"}},\\\"cells\\\":{\\\"line\\\":{\\\"color\\\":\\\"white\\\"},\\\"fill\\\":{\\\"color\\\":\\\"#EBF0F8\\\"}}}],\\\"scatter3d\\\":[{\\\"line\\\":{\\\"colorbar\\\":{\\\"ticks\\\":\\\"\\\",\\\"outlinewidth\\\":0}},\\\"type\\\":\\\"scatter3d\\\",\\\"marker\\\":{\\\"colorbar\\\":{\\\"ticks\\\":\\\"\\\",\\\"outlinewidth\\\":0}}}],\\\"scattergl\\\":[{\\\"type\\\":\\\"scattergl\\\",\\\"marker\\\":{\\\"colorbar\\\":{\\\"ticks\\\":\\\"\\\",\\\"outlinewidth\\\":0}}}],\\\"histogram2d\\\":[{\\\"colorbar\\\":{\\\"ticks\\\":\\\"\\\",\\\"outlinewidth\\\":0},\\\"type\\\":\\\"histogram2d\\\",\\\"colorscale\\\":[[0.0,\\\"#0d0887\\\"],[0.1111111111111111,\\\"#46039f\\\"],[0.2222222222222222,\\\"#7201a8\\\"],[0.3333333333333333,\\\"#9c179e\\\"],[0.4444444444444444,\\\"#bd3786\\\"],[0.5555555555555556,\\\"#d8576b\\\"],[0.6666666666666666,\\\"#ed7953\\\"],[0.7777777777777778,\\\"#fb9f3a\\\"],[0.8888888888888888,\\\"#fdca26\\\"],[1.0,\\\"#f0f921\\\"]]}],\\\"scatterternary\\\":[{\\\"type\\\":\\\"scatterternary\\\",\\\"marker\\\":{\\\"colorbar\\\":{\\\"ticks\\\":\\\"\\\",\\\"outlinewidth\\\":0}}}],\\\"scatterpolargl\\\":[{\\\"type\\\":\\\"scatterpolargl\\\",\\\"marker\\\":{\\\"colorbar\\\":{\\\"ticks\\\":\\\"\\\",\\\"outlinewidth\\\":0}}}]}},\\\"height\\\":600,\\\"margin\\\":{\\\"l\\\":0,\\\"b\\\":0,\\\"r\\\":0,\\\"t\\\":65},\\\"autosize\\\":true},{\\\"showLink\\\":false,\\\"editable\\\":false,\\\"responsive\\\":true,\\\"staticPlot\\\":false,\\\"scrollZoom\\\":true}); gd.on(\\\"plotly_hover\\\",(function (data){var filtered_data=WebIO.PlotlyCommands.filterEventData(gd,data,\\\"hover\\\"); return !(filtered_data.isnil) ? (WebIO.setval({\\\"name\\\":\\\"hover\\\",\\\"scope\\\":\\\"14814358499499509489\\\",\\\"id\\\":\\\"11448688574773282448\\\",\\\"type\\\":\\\"observable\\\"},filtered_data.out)) : undefined})); gd.on(\\\"plotly_unhover\\\",(function (){return WebIO.setval({\\\"name\\\":\\\"hover\\\",\\\"scope\\\":\\\"14814358499499509489\\\",\\\"id\\\":\\\"11448688574773282448\\\",\\\"type\\\":\\\"observable\\\"},{})})); gd.on(\\\"plotly_selected\\\",(function (data){var filtered_data=WebIO.PlotlyCommands.filterEventData(gd,data,\\\"selected\\\"); return !(filtered_data.isnil) ? (WebIO.setval({\\\"name\\\":\\\"selected\\\",\\\"scope\\\":\\\"14814358499499509489\\\",\\\"id\\\":\\\"12665159990163722905\\\",\\\"type\\\":\\\"observable\\\"},filtered_data.out)) : undefined})); gd.on(\\\"plotly_deselect\\\",(function (){return WebIO.setval({\\\"name\\\":\\\"selected\\\",\\\"scope\\\":\\\"14814358499499509489\\\",\\\"id\\\":\\\"12665159990163722905\\\",\\\"type\\\":\\\"observable\\\"},{})})); gd.on(\\\"plotly_relayout\\\",(function (data){var filtered_data=WebIO.PlotlyCommands.filterEventData(gd,data,\\\"relayout\\\"); return !(filtered_data.isnil) ? (WebIO.setval({\\\"name\\\":\\\"relayout\\\",\\\"scope\\\":\\\"14814358499499509489\\\",\\\"id\\\":\\\"10767207868093765249\\\",\\\"type\\\":\\\"observable\\\"},filtered_data.out)) : undefined})); return gd.on(\\\"plotly_click\\\",(function (data){var filtered_data=WebIO.PlotlyCommands.filterEventData(gd,data,\\\"click\\\"); return !(filtered_data.isnil) ? (WebIO.setval({\\\"name\\\":\\\"click\\\",\\\"scope\\\":\\\"14814358499499509489\\\",\\\"id\\\":\\\"318130940532484518\\\",\\\"type\\\":\\\"observable\\\"},filtered_data.out)) : undefined}))}));\\n    (WebIO.importBlock({\\\"data\\\":[{\\\"name\\\":\\\"Plotly\\\",\\\"type\\\":\\\"js\\\",\\\"url\\\":\\\"\\/assetserver\\/2c1443c4a3fadd5de9f99c6b5d8fa0ad35f7de28-plotly.min.js\\\"},{\\\"name\\\":null,\\\"type\\\":\\\"js\\\",\\\"url\\\":\\\"\\/assetserver\\/a617ad3fbd31c68e6d8336a472e6356f3a4cb577-plotly_webio.bundle.js\\\"}],\\\"type\\\":\\\"async_block\\\"})).then((imports) => handler.apply(this, imports));\\n}\\n\"],\"observables\":{\"_toImage\":{\"sync\":true,\"id\":\"1284595524289370856\",\"value\":{}},\"hover\":{\"sync\":false,\"id\":\"11448688574773282448\",\"value\":{}},\"selected\":{\"sync\":false,\"id\":\"12665159990163722905\",\"value\":{}},\"__gd_contents\":{\"sync\":false,\"id\":\"4558685566269580047\",\"value\":{}},\"click\":{\"sync\":false,\"id\":\"318130940532484518\",\"value\":{}},\"image\":{\"sync\":true,\"id\":\"8180341176800917624\",\"value\":\"\"},\"__get_gd_contents\":{\"sync\":true,\"id\":\"1762832711218160260\",\"value\":\"\"},\"_downloadImage\":{\"sync\":true,\"id\":\"17747278301489103231\",\"value\":{}},\"relayout\":{\"sync\":false,\"id\":\"10767207868093765249\",\"value\":{}},\"_commands\":{\"sync\":true,\"id\":\"1862517968049371401\",\"value\":[]}}},\"children\":[{\"props\":{\"id\":\"plot-74f1d918-fbbe-4030-a460-71608b057319\"},\"nodeType\":\"DOM\",\"type\":\"node\",\"instanceArgs\":{\"namespace\":\"html\",\"tag\":\"div\"},\"children\":[]}]},\n",
       "        window,\n",
       "    );\n",
       "    })()\n",
       "    </script>\n",
       "</div>\n"
      ],
      "text/plain": [
       "data: [\n",
       "  \"heatmap with fields transpose, type, x, y, and z\"\n",
       "]\n",
       "\n",
       "layout: \"layout with fields autosize, height, margin, and template\"\n",
       "\n"
      ]
     },
     "execution_count": 49,
     "metadata": {},
     "output_type": "execute_result"
    }
   ],
   "source": [
    "showHM_perGrp(\"53K\")"
   ]
  },
  {
   "cell_type": "markdown",
   "id": "977daf27-b40e-4c21-a636-d47118529561",
   "metadata": {},
   "source": [
    "## 63O"
   ]
  },
  {
   "cell_type": "code",
   "execution_count": 16,
   "id": "25ed1c50-1081-437c-9f6d-a73c80b29843",
   "metadata": {},
   "outputs": [
    {
     "data": {
      "application/vnd.plotly.v1+json": {
       "config": {
        "editable": false,
        "responsive": true,
        "scrollZoom": true,
        "showLink": false,
        "staticPlot": false
       },
       "data": [
        {
         "transpose": true,
         "type": "heatmap",
         "x": [
          "IFN-?",
          "IFN-?",
          "IFN-?",
          "IFN-?",
          "IFN-?",
          "IFN-?",
          "IFN-?",
          "IFN-?",
          "IFN-?",
          "IFN-?",
          "IFN-?",
          "IFN-?",
          "IFN-?",
          "IFN-?",
          "IFN-?",
          "IFN-?",
          "IFN-?",
          "IFN-?",
          "IFN-?",
          "IFN-?",
          "IFN-?",
          "IFN-?",
          "IFN-?",
          "IFN-?",
          "IFN-?",
          "IFN-?",
          "IL-10",
          "IL-10",
          "IL-10",
          "IL-10",
          "IL-10",
          "IL-10",
          "IL-10",
          "IL-10",
          "IL-10",
          "IL-10",
          "IL-10",
          "IL-10",
          "IL-10",
          "IL-10",
          "IL-10",
          "IL-10",
          "IL-10",
          "IL-10",
          "IL-10",
          "IL-10",
          "IL-10",
          "IL-10",
          "IL-10",
          "IL-10",
          "IL-10",
          "IL-10",
          "IL-12p70",
          "IL-12p70",
          "IL-12p70",
          "IL-12p70",
          "IL-12p70",
          "IL-12p70",
          "IL-12p70",
          "IL-12p70",
          "IL-12p70",
          "IL-12p70",
          "IL-12p70",
          "IL-12p70",
          "IL-12p70",
          "IL-12p70",
          "IL-12p70",
          "IL-12p70",
          "IL-12p70",
          "IL-12p70",
          "IL-12p70",
          "IL-12p70",
          "IL-12p70",
          "IL-12p70",
          "IL-12p70",
          "IL-12p70",
          "IL-12p70",
          "IL-12p70",
          "IL-13",
          "IL-13",
          "IL-13",
          "IL-13",
          "IL-13",
          "IL-13",
          "IL-13",
          "IL-13",
          "IL-13",
          "IL-13",
          "IL-13",
          "IL-13",
          "IL-13",
          "IL-13",
          "IL-13",
          "IL-13",
          "IL-13",
          "IL-13",
          "IL-13",
          "IL-13",
          "IL-13",
          "IL-13",
          "IL-13",
          "IL-13",
          "IL-13",
          "IL-13",
          "IL-1?",
          "IL-1?",
          "IL-1?",
          "IL-1?",
          "IL-1?",
          "IL-1?",
          "IL-1?",
          "IL-1?",
          "IL-1?",
          "IL-1?",
          "IL-1?",
          "IL-1?",
          "IL-1?",
          "IL-1?",
          "IL-1?",
          "IL-1?",
          "IL-1?",
          "IL-1?",
          "IL-1?",
          "IL-1?",
          "IL-1?",
          "IL-1?",
          "IL-1?",
          "IL-1?",
          "IL-1?",
          "IL-1?",
          "IL-2",
          "IL-2",
          "IL-2",
          "IL-2",
          "IL-2",
          "IL-2",
          "IL-2",
          "IL-2",
          "IL-2",
          "IL-2",
          "IL-2",
          "IL-2",
          "IL-2",
          "IL-2",
          "IL-2",
          "IL-2",
          "IL-2",
          "IL-2",
          "IL-2",
          "IL-2",
          "IL-2",
          "IL-2",
          "IL-2",
          "IL-2",
          "IL-2",
          "IL-2",
          "IL-4",
          "IL-4",
          "IL-4",
          "IL-4",
          "IL-4",
          "IL-4",
          "IL-4",
          "IL-4",
          "IL-4",
          "IL-4",
          "IL-4",
          "IL-4",
          "IL-4",
          "IL-4",
          "IL-4",
          "IL-4",
          "IL-4",
          "IL-4",
          "IL-4",
          "IL-4",
          "IL-4",
          "IL-4",
          "IL-4",
          "IL-4",
          "IL-4",
          "IL-4",
          "IL-6",
          "IL-6",
          "IL-6",
          "IL-6",
          "IL-6",
          "IL-6",
          "IL-6",
          "IL-6",
          "IL-6",
          "IL-6",
          "IL-6",
          "IL-6",
          "IL-6",
          "IL-6",
          "IL-6",
          "IL-6",
          "IL-6",
          "IL-6",
          "IL-6",
          "IL-6",
          "IL-6",
          "IL-6",
          "IL-6",
          "IL-6",
          "IL-6",
          "IL-6",
          "IL-8",
          "IL-8",
          "IL-8",
          "IL-8",
          "IL-8",
          "IL-8",
          "IL-8",
          "IL-8",
          "IL-8",
          "IL-8",
          "IL-8",
          "IL-8",
          "IL-8",
          "IL-8",
          "IL-8",
          "IL-8",
          "IL-8",
          "IL-8",
          "IL-8",
          "IL-8",
          "IL-8",
          "IL-8",
          "IL-8",
          "IL-8",
          "IL-8",
          "IL-8",
          "TNF-�",
          "TNF-�",
          "TNF-�",
          "TNF-�",
          "TNF-�",
          "TNF-�",
          "TNF-�",
          "TNF-�",
          "TNF-�",
          "TNF-�",
          "TNF-�",
          "TNF-�",
          "TNF-�",
          "TNF-�",
          "TNF-�",
          "TNF-�",
          "TNF-�",
          "TNF-�",
          "TNF-�",
          "TNF-�",
          "TNF-�",
          "TNF-�",
          "TNF-�",
          "TNF-�",
          "TNF-�",
          "TNF-�"
         ],
         "y": [
          "CB_F_1ug",
          "CB_F_1ug",
          "CB_F_1ug",
          "PL_F_1ug",
          "PL_F_1ug",
          "PL_F_1ug",
          "CB_S_1ug",
          "CB_S_1ug",
          "CB_S_1ug",
          "PL_S_1ug",
          "PL_S_1ug",
          "PL_S_1ug",
          "PL_F_25ug",
          "PL_F_25ug",
          "CB_F_5ug",
          "CB_F_5ug",
          "CB_F_5ug",
          "PL_F_5ug",
          "PL_F_5ug",
          "PL_F_5ug",
          "CB_S_5ug",
          "CB_S_5ug",
          "CB_S_5ug",
          "PL_S_5ug",
          "PL_S_5ug",
          "PL_S_5ug",
          "CB_F_1ug",
          "CB_F_1ug",
          "CB_F_1ug",
          "PL_F_1ug",
          "PL_F_1ug",
          "PL_F_1ug",
          "CB_S_1ug",
          "CB_S_1ug",
          "CB_S_1ug",
          "PL_S_1ug",
          "PL_S_1ug",
          "PL_S_1ug",
          "PL_F_25ug",
          "PL_F_25ug",
          "CB_F_5ug",
          "CB_F_5ug",
          "CB_F_5ug",
          "PL_F_5ug",
          "PL_F_5ug",
          "PL_F_5ug",
          "CB_S_5ug",
          "CB_S_5ug",
          "CB_S_5ug",
          "PL_S_5ug",
          "PL_S_5ug",
          "PL_S_5ug",
          "CB_F_1ug",
          "CB_F_1ug",
          "CB_F_1ug",
          "PL_F_1ug",
          "PL_F_1ug",
          "PL_F_1ug",
          "CB_S_1ug",
          "CB_S_1ug",
          "CB_S_1ug",
          "PL_S_1ug",
          "PL_S_1ug",
          "PL_S_1ug",
          "PL_F_25ug",
          "PL_F_25ug",
          "CB_F_5ug",
          "CB_F_5ug",
          "CB_F_5ug",
          "PL_F_5ug",
          "PL_F_5ug",
          "PL_F_5ug",
          "CB_S_5ug",
          "CB_S_5ug",
          "CB_S_5ug",
          "PL_S_5ug",
          "PL_S_5ug",
          "PL_S_5ug",
          "CB_F_1ug",
          "CB_F_1ug",
          "CB_F_1ug",
          "PL_F_1ug",
          "PL_F_1ug",
          "PL_F_1ug",
          "CB_S_1ug",
          "CB_S_1ug",
          "CB_S_1ug",
          "PL_S_1ug",
          "PL_S_1ug",
          "PL_S_1ug",
          "PL_F_25ug",
          "PL_F_25ug",
          "CB_F_5ug",
          "CB_F_5ug",
          "CB_F_5ug",
          "PL_F_5ug",
          "PL_F_5ug",
          "PL_F_5ug",
          "CB_S_5ug",
          "CB_S_5ug",
          "CB_S_5ug",
          "PL_S_5ug",
          "PL_S_5ug",
          "PL_S_5ug",
          "CB_F_1ug",
          "CB_F_1ug",
          "CB_F_1ug",
          "PL_F_1ug",
          "PL_F_1ug",
          "PL_F_1ug",
          "CB_S_1ug",
          "CB_S_1ug",
          "CB_S_1ug",
          "PL_S_1ug",
          "PL_S_1ug",
          "PL_S_1ug",
          "PL_F_25ug",
          "PL_F_25ug",
          "CB_F_5ug",
          "CB_F_5ug",
          "CB_F_5ug",
          "PL_F_5ug",
          "PL_F_5ug",
          "PL_F_5ug",
          "CB_S_5ug",
          "CB_S_5ug",
          "CB_S_5ug",
          "PL_S_5ug",
          "PL_S_5ug",
          "PL_S_5ug",
          "CB_F_1ug",
          "CB_F_1ug",
          "CB_F_1ug",
          "PL_F_1ug",
          "PL_F_1ug",
          "PL_F_1ug",
          "CB_S_1ug",
          "CB_S_1ug",
          "CB_S_1ug",
          "PL_S_1ug",
          "PL_S_1ug",
          "PL_S_1ug",
          "PL_F_25ug",
          "PL_F_25ug",
          "CB_F_5ug",
          "CB_F_5ug",
          "CB_F_5ug",
          "PL_F_5ug",
          "PL_F_5ug",
          "PL_F_5ug",
          "CB_S_5ug",
          "CB_S_5ug",
          "CB_S_5ug",
          "PL_S_5ug",
          "PL_S_5ug",
          "PL_S_5ug",
          "CB_F_1ug",
          "CB_F_1ug",
          "CB_F_1ug",
          "PL_F_1ug",
          "PL_F_1ug",
          "PL_F_1ug",
          "CB_S_1ug",
          "CB_S_1ug",
          "CB_S_1ug",
          "PL_S_1ug",
          "PL_S_1ug",
          "PL_S_1ug",
          "PL_F_25ug",
          "PL_F_25ug",
          "CB_F_5ug",
          "CB_F_5ug",
          "CB_F_5ug",
          "PL_F_5ug",
          "PL_F_5ug",
          "PL_F_5ug",
          "CB_S_5ug",
          "CB_S_5ug",
          "CB_S_5ug",
          "PL_S_5ug",
          "PL_S_5ug",
          "PL_S_5ug",
          "CB_F_1ug",
          "CB_F_1ug",
          "CB_F_1ug",
          "PL_F_1ug",
          "PL_F_1ug",
          "PL_F_1ug",
          "CB_S_1ug",
          "CB_S_1ug",
          "CB_S_1ug",
          "PL_S_1ug",
          "PL_S_1ug",
          "PL_S_1ug",
          "PL_F_25ug",
          "PL_F_25ug",
          "CB_F_5ug",
          "CB_F_5ug",
          "CB_F_5ug",
          "PL_F_5ug",
          "PL_F_5ug",
          "PL_F_5ug",
          "CB_S_5ug",
          "CB_S_5ug",
          "CB_S_5ug",
          "PL_S_5ug",
          "PL_S_5ug",
          "PL_S_5ug",
          "CB_F_1ug",
          "CB_F_1ug",
          "CB_F_1ug",
          "PL_F_1ug",
          "PL_F_1ug",
          "PL_F_1ug",
          "CB_S_1ug",
          "CB_S_1ug",
          "CB_S_1ug",
          "PL_S_1ug",
          "PL_S_1ug",
          "PL_S_1ug",
          "PL_F_25ug",
          "PL_F_25ug",
          "CB_F_5ug",
          "CB_F_5ug",
          "CB_F_5ug",
          "PL_F_5ug",
          "PL_F_5ug",
          "PL_F_5ug",
          "CB_S_5ug",
          "CB_S_5ug",
          "CB_S_5ug",
          "PL_S_5ug",
          "PL_S_5ug",
          "PL_S_5ug",
          "CB_F_1ug",
          "CB_F_1ug",
          "CB_F_1ug",
          "PL_F_1ug",
          "PL_F_1ug",
          "PL_F_1ug",
          "CB_S_1ug",
          "CB_S_1ug",
          "CB_S_1ug",
          "PL_S_1ug",
          "PL_S_1ug",
          "PL_S_1ug",
          "PL_F_25ug",
          "PL_F_25ug",
          "CB_F_5ug",
          "CB_F_5ug",
          "CB_F_5ug",
          "PL_F_5ug",
          "PL_F_5ug",
          "PL_F_5ug",
          "CB_S_5ug",
          "CB_S_5ug",
          "CB_S_5ug",
          "PL_S_5ug",
          "PL_S_5ug",
          "PL_S_5ug"
         ],
         "z": [
          1.825374766,
          2.02573607,
          2.143486684,
          1.352866222,
          2.249092345,
          2.647592302,
          2.049292406,
          2.555047973,
          2.190565676,
          1.896118318,
          1.99039559,
          1.601136902,
          1.272067962,
          2.39439112,
          2.331733203,
          1.317357812,
          1.825374766,
          1.341031303,
          1.718027052,
          1.197018642,
          2.860273375,
          2.602032072,
          2.343492603,
          1.400193978,
          3.012741803,
          1.931478531,
          0.908055171,
          1.047137402,
          2.041139983,
          0.759835589,
          3.309726873,
          4.759110136,
          1.169731022,
          1.729047185,
          3.067249742,
          1.999794153,
          1.063948276,
          1.323923932,
          0.600182998,
          0.55432669,
          1.416851517,
          0.577728838,
          0.924820386,
          0.587226252,
          2.421369409,
          2.082501335,
          1.857646565,
          1.706015762,
          0.899674785,
          1.048338007,
          1.086771215,
          1.120421828,
          1.685784597,
          1.321596019,
          2.20091642,
          1.557840553,
          0.782244328,
          0.760573071,
          0.777906338,
          1.182745498,
          1.746996799,
          0.716997261,
          1.066186025,
          2.493646449,
          0.456419221,
          1.66690604,
          1.894516739,
          1.149435499,
          2.393255238,
          0.335744646,
          0.383736779,
          0.713597213,
          0.606331764,
          1.0606374,
          1.118906386,
          1.093931701,
          1.38827614,
          0.991294363,
          33.75571506,
          29.08849335,
          43.79606769,
          42.92539551,
          49.92366415,
          48.42461743,
          18.32511372,
          26.48850842,
          36.9171494,
          20.37503525,
          37.26051887,
          45.09013788,
          40.3267821,
          33.92593003,
          48.03160635,
          31.03080535,
          36.42083758,
          9.047203225,
          52.3586508,
          41.1751245,
          16.74624431,
          22.16709867,
          27.02693571,
          33.53171212,
          38.37230373,
          37.43465582,
          4.097886695,
          5.269672819,
          5.263529857,
          4.623520907,
          8.103652386,
          8.295720022,
          4.242792591,
          5.864386472,
          5.375334246,
          6.455559779,
          4.605097132,
          5.693575464,
          5.524233459,
          7.704368931,
          6.147050046,
          4.664053724,
          4.591586456,
          4.639488296,
          6.297946952,
          6.302968276,
          5.699719533,
          5.707092438,
          4.718098576,
          4.008246108,
          5.567011134,
          7.007533427,
          2.362231523,
          2.064008374,
          3.968921702,
          1.636581352,
          6.22892147,
          6.756514573,
          2.71779779,
          3.509337224,
          3.076493578,
          2.399494322,
          2.419818148,
          2.738107875,
          1.734261574,
          1.499109247,
          3.908111289,
          1.167716873,
          2.680560488,
          1.426040489,
          2.771271648,
          2.497577139,
          3.772959001,
          4.016215287,
          4.201983442,
          1.32750346,
          3.827022942,
          2.785494903,
          1.011741356,
          0.400570088,
          0.448122012,
          0.254877763,
          0.203896456,
          0.452700166,
          0.361407182,
          1.023044027,
          0.812454834,
          0.383379422,
          0.936248623,
          1.168160962,
          0.141910695,
          0.275206282,
          0.450883169,
          0.197332927,
          0.317577829,
          0.187896918,
          0.092076891,
          0.192187946,
          0.346322954,
          0.992676233,
          0.576982434,
          0.165037694,
          0.822283533,
          0.43915158,
          5.290431699,
          7.123278239,
          8.066367758,
          6.241768839,
          5.920934047,
          10.12424297,
          6.584495246,
          10.92715039,
          10.06305382,
          10.86124196,
          8.860168549,
          11.33000232,
          5.651825017,
          7.587069143,
          9.124596359,
          6.241768839,
          6.998646457,
          6.528219449,
          3.606779221,
          4.626184053,
          10.83651624,
          13.45762786,
          12.12750024,
          5.809648353,
          10.82002936,
          18.85437479,
          4067.184793,
          4099.30522,
          4129.84303,
          4096.299352,
          4271.277533,
          4249.455231,
          4157.635384,
          4175.406951,
          4161.380732,
          4162.216758,
          4099.898599,
          4153.363439,
          4077.076915,
          4217.312026,
          4083.894743,
          3950.374236,
          3889.148531,
          3970.010609,
          3943.178444,
          3886.075083,
          4078.791628,
          4055.782001,
          3912.485326,
          3874.362108,
          3932.482289,
          4054.765421,
          4.540422037,
          6.441222629,
          10.24773942,
          9.412574198,
          14.44568338,
          12.49783028,
          4.37355619,
          5.890017505,
          8.829420463,
          7.57682584,
          4.579462536,
          10.51772067,
          8.873681031,
          11.57920305,
          11.3410677,
          6.525960028,
          8.948906742,
          3.202617315,
          7.90957626,
          10.34868295,
          3.69087036,
          5.419479102,
          8.773183378,
          5.083012935,
          10.98731574,
          7.833912288
         ]
        }
       ],
       "frames": [],
       "layout": {
        "autosize": true,
        "margin": {
         "b": 0,
         "l": 0,
         "r": 0,
         "t": 65
        },
        "template": {
         "data": {
          "bar": [
           {
            "error_x": {
             "color": "#2a3f5f"
            },
            "error_y": {
             "color": "#2a3f5f"
            },
            "marker": {
             "line": {
              "color": "#E5ECF6",
              "width": 0.5
             }
            },
            "type": "bar"
           }
          ],
          "barpolar": [
           {
            "marker": {
             "line": {
              "color": "#E5ECF6",
              "width": 0.5
             }
            },
            "type": "barpolar"
           }
          ],
          "carpet": [
           {
            "aaxis": {
             "endlinecolor": "#2a3f5f",
             "gridcolor": "white",
             "linecolor": "white",
             "minorgridcolor": "white",
             "startlinecolor": "#2a3f5f"
            },
            "baxis": {
             "endlinecolor": "#2a3f5f",
             "gridcolor": "white",
             "linecolor": "white",
             "minorgridcolor": "white",
             "startlinecolor": "#2a3f5f"
            },
            "type": "carpet"
           }
          ],
          "choropleth": [
           {
            "colorbar": {
             "outlinewidth": 0,
             "ticks": ""
            },
            "type": "choropleth"
           }
          ],
          "contour": [
           {
            "colorbar": {
             "outlinewidth": 0,
             "ticks": ""
            },
            "colorscale": [
             [
              0,
              "#0d0887"
             ],
             [
              0.1111111111111111,
              "#46039f"
             ],
             [
              0.2222222222222222,
              "#7201a8"
             ],
             [
              0.3333333333333333,
              "#9c179e"
             ],
             [
              0.4444444444444444,
              "#bd3786"
             ],
             [
              0.5555555555555556,
              "#d8576b"
             ],
             [
              0.6666666666666666,
              "#ed7953"
             ],
             [
              0.7777777777777778,
              "#fb9f3a"
             ],
             [
              0.8888888888888888,
              "#fdca26"
             ],
             [
              1,
              "#f0f921"
             ]
            ],
            "type": "contour"
           }
          ],
          "contourcarpet": [
           {
            "colorbar": {
             "outlinewidth": 0,
             "ticks": ""
            },
            "type": "contourcarpet"
           }
          ],
          "heatmap": [
           {
            "colorbar": {
             "outlinewidth": 0,
             "ticks": ""
            },
            "colorscale": [
             [
              0,
              "#0d0887"
             ],
             [
              0.1111111111111111,
              "#46039f"
             ],
             [
              0.2222222222222222,
              "#7201a8"
             ],
             [
              0.3333333333333333,
              "#9c179e"
             ],
             [
              0.4444444444444444,
              "#bd3786"
             ],
             [
              0.5555555555555556,
              "#d8576b"
             ],
             [
              0.6666666666666666,
              "#ed7953"
             ],
             [
              0.7777777777777778,
              "#fb9f3a"
             ],
             [
              0.8888888888888888,
              "#fdca26"
             ],
             [
              1,
              "#f0f921"
             ]
            ],
            "type": "heatmap"
           }
          ],
          "heatmapgl": [
           {
            "colorbar": {
             "outlinewidth": 0,
             "ticks": ""
            },
            "colorscale": [
             [
              0,
              "#0d0887"
             ],
             [
              0.1111111111111111,
              "#46039f"
             ],
             [
              0.2222222222222222,
              "#7201a8"
             ],
             [
              0.3333333333333333,
              "#9c179e"
             ],
             [
              0.4444444444444444,
              "#bd3786"
             ],
             [
              0.5555555555555556,
              "#d8576b"
             ],
             [
              0.6666666666666666,
              "#ed7953"
             ],
             [
              0.7777777777777778,
              "#fb9f3a"
             ],
             [
              0.8888888888888888,
              "#fdca26"
             ],
             [
              1,
              "#f0f921"
             ]
            ],
            "type": "heatmapgl"
           }
          ],
          "histogram": [
           {
            "marker": {
             "colorbar": {
              "outlinewidth": 0,
              "ticks": ""
             }
            },
            "type": "histogram"
           }
          ],
          "histogram2d": [
           {
            "colorbar": {
             "outlinewidth": 0,
             "ticks": ""
            },
            "colorscale": [
             [
              0,
              "#0d0887"
             ],
             [
              0.1111111111111111,
              "#46039f"
             ],
             [
              0.2222222222222222,
              "#7201a8"
             ],
             [
              0.3333333333333333,
              "#9c179e"
             ],
             [
              0.4444444444444444,
              "#bd3786"
             ],
             [
              0.5555555555555556,
              "#d8576b"
             ],
             [
              0.6666666666666666,
              "#ed7953"
             ],
             [
              0.7777777777777778,
              "#fb9f3a"
             ],
             [
              0.8888888888888888,
              "#fdca26"
             ],
             [
              1,
              "#f0f921"
             ]
            ],
            "type": "histogram2d"
           }
          ],
          "histogram2dcontour": [
           {
            "colorbar": {
             "outlinewidth": 0,
             "ticks": ""
            },
            "colorscale": [
             [
              0,
              "#0d0887"
             ],
             [
              0.1111111111111111,
              "#46039f"
             ],
             [
              0.2222222222222222,
              "#7201a8"
             ],
             [
              0.3333333333333333,
              "#9c179e"
             ],
             [
              0.4444444444444444,
              "#bd3786"
             ],
             [
              0.5555555555555556,
              "#d8576b"
             ],
             [
              0.6666666666666666,
              "#ed7953"
             ],
             [
              0.7777777777777778,
              "#fb9f3a"
             ],
             [
              0.8888888888888888,
              "#fdca26"
             ],
             [
              1,
              "#f0f921"
             ]
            ],
            "type": "histogram2dcontour"
           }
          ],
          "mesh3d": [
           {
            "colorbar": {
             "outlinewidth": 0,
             "ticks": ""
            },
            "type": "mesh3d"
           }
          ],
          "parcoords": [
           {
            "line": {
             "colorbar": {
              "outlinewidth": 0,
              "ticks": ""
             }
            },
            "type": "parcoords"
           }
          ],
          "pie": [
           {
            "automargin": true,
            "type": "pie"
           }
          ],
          "scatter": [
           {
            "marker": {
             "colorbar": {
              "outlinewidth": 0,
              "ticks": ""
             }
            },
            "type": "scatter"
           }
          ],
          "scatter3d": [
           {
            "line": {
             "colorbar": {
              "outlinewidth": 0,
              "ticks": ""
             }
            },
            "marker": {
             "colorbar": {
              "outlinewidth": 0,
              "ticks": ""
             }
            },
            "type": "scatter3d"
           }
          ],
          "scattercarpet": [
           {
            "marker": {
             "colorbar": {
              "outlinewidth": 0,
              "ticks": ""
             }
            },
            "type": "scattercarpet"
           }
          ],
          "scattergeo": [
           {
            "marker": {
             "colorbar": {
              "outlinewidth": 0,
              "ticks": ""
             }
            },
            "type": "scattergeo"
           }
          ],
          "scattergl": [
           {
            "marker": {
             "colorbar": {
              "outlinewidth": 0,
              "ticks": ""
             }
            },
            "type": "scattergl"
           }
          ],
          "scattermapbox": [
           {
            "marker": {
             "colorbar": {
              "outlinewidth": 0,
              "ticks": ""
             }
            },
            "type": "scattermapbox"
           }
          ],
          "scatterpolar": [
           {
            "marker": {
             "colorbar": {
              "outlinewidth": 0,
              "ticks": ""
             }
            },
            "type": "scatterpolar"
           }
          ],
          "scatterpolargl": [
           {
            "marker": {
             "colorbar": {
              "outlinewidth": 0,
              "ticks": ""
             }
            },
            "type": "scatterpolargl"
           }
          ],
          "scatterternary": [
           {
            "marker": {
             "colorbar": {
              "outlinewidth": 0,
              "ticks": ""
             }
            },
            "type": "scatterternary"
           }
          ],
          "surface": [
           {
            "colorbar": {
             "outlinewidth": 0,
             "ticks": ""
            },
            "colorscale": [
             [
              0,
              "#0d0887"
             ],
             [
              0.1111111111111111,
              "#46039f"
             ],
             [
              0.2222222222222222,
              "#7201a8"
             ],
             [
              0.3333333333333333,
              "#9c179e"
             ],
             [
              0.4444444444444444,
              "#bd3786"
             ],
             [
              0.5555555555555556,
              "#d8576b"
             ],
             [
              0.6666666666666666,
              "#ed7953"
             ],
             [
              0.7777777777777778,
              "#fb9f3a"
             ],
             [
              0.8888888888888888,
              "#fdca26"
             ],
             [
              1,
              "#f0f921"
             ]
            ],
            "type": "surface"
           }
          ],
          "table": [
           {
            "cells": {
             "fill": {
              "color": "#EBF0F8"
             },
             "line": {
              "color": "white"
             }
            },
            "header": {
             "fill": {
              "color": "#C8D4E3"
             },
             "line": {
              "color": "white"
             }
            },
            "type": "table"
           }
          ]
         },
         "layout": {
          "annotationdefaults": {
           "arrowcolor": "#2a3f5f",
           "arrowhead": 0,
           "arrowwidth": 1
          },
          "autotypenumbers": "strict",
          "coloraxis": {
           "colorbar": {
            "outlinewidth": 0,
            "ticks": ""
           }
          },
          "colorscale": {
           "diverging": [
            [
             0,
             "#8e0152"
            ],
            [
             0.1,
             "#c51b7d"
            ],
            [
             0.2,
             "#de77ae"
            ],
            [
             0.3,
             "#f1b6da"
            ],
            [
             0.4,
             "#fde0ef"
            ],
            [
             0.5,
             "#f7f7f7"
            ],
            [
             0.6,
             "#e6f5d0"
            ],
            [
             0.7,
             "#b8e186"
            ],
            [
             0.8,
             "#7fbc41"
            ],
            [
             0.9,
             "#4d9221"
            ],
            [
             1,
             "#276419"
            ]
           ],
           "sequential": [
            [
             0,
             "#0d0887"
            ],
            [
             0.1111111111111111,
             "#46039f"
            ],
            [
             0.2222222222222222,
             "#7201a8"
            ],
            [
             0.3333333333333333,
             "#9c179e"
            ],
            [
             0.4444444444444444,
             "#bd3786"
            ],
            [
             0.5555555555555556,
             "#d8576b"
            ],
            [
             0.6666666666666666,
             "#ed7953"
            ],
            [
             0.7777777777777778,
             "#fb9f3a"
            ],
            [
             0.8888888888888888,
             "#fdca26"
            ],
            [
             1,
             "#f0f921"
            ]
           ],
           "sequentialminus": [
            [
             0,
             "#0d0887"
            ],
            [
             0.1111111111111111,
             "#46039f"
            ],
            [
             0.2222222222222222,
             "#7201a8"
            ],
            [
             0.3333333333333333,
             "#9c179e"
            ],
            [
             0.4444444444444444,
             "#bd3786"
            ],
            [
             0.5555555555555556,
             "#d8576b"
            ],
            [
             0.6666666666666666,
             "#ed7953"
            ],
            [
             0.7777777777777778,
             "#fb9f3a"
            ],
            [
             0.8888888888888888,
             "#fdca26"
            ],
            [
             1,
             "#f0f921"
            ]
           ]
          },
          "colorway": [
           "#636efa",
           "#EF553B",
           "#00cc96",
           "#ab63fa",
           "#FFA15A",
           "#19d3f3",
           "#FF6692",
           "#B6E880",
           "#FF97FF",
           "#FECB52"
          ],
          "font": {
           "color": "#2a3f5f"
          },
          "geo": {
           "bgcolor": "white",
           "lakecolor": "white",
           "landcolor": "#E5ECF6",
           "showlakes": true,
           "showland": true,
           "subunitcolor": "white"
          },
          "hoverlabel": {
           "align": "left"
          },
          "hovermode": "closest",
          "mapbox": {
           "style": "light"
          },
          "paper_bgcolor": "white",
          "plot_bgcolor": "#E5ECF6",
          "polar": {
           "angularaxis": {
            "gridcolor": "white",
            "linecolor": "white",
            "ticks": ""
           },
           "bgcolor": "#E5ECF6",
           "radialaxis": {
            "gridcolor": "white",
            "linecolor": "white",
            "ticks": ""
           }
          },
          "scene": {
           "xaxis": {
            "backgroundcolor": "#E5ECF6",
            "gridcolor": "white",
            "gridwidth": 2,
            "linecolor": "white",
            "showbackground": true,
            "ticks": "",
            "zerolinecolor": "white"
           },
           "yaxis": {
            "backgroundcolor": "#E5ECF6",
            "gridcolor": "white",
            "gridwidth": 2,
            "linecolor": "white",
            "showbackground": true,
            "ticks": "",
            "zerolinecolor": "white"
           },
           "zaxis": {
            "backgroundcolor": "#E5ECF6",
            "gridcolor": "white",
            "gridwidth": 2,
            "linecolor": "white",
            "showbackground": true,
            "ticks": "",
            "zerolinecolor": "white"
           }
          },
          "shapedefaults": {
           "line": {
            "color": "#2a3f5f"
           }
          },
          "ternary": {
           "aaxis": {
            "gridcolor": "white",
            "linecolor": "white",
            "ticks": ""
           },
           "baxis": {
            "gridcolor": "white",
            "linecolor": "white",
            "ticks": ""
           },
           "bgcolor": "#E5ECF6",
           "caxis": {
            "gridcolor": "white",
            "linecolor": "white",
            "ticks": ""
           }
          },
          "title": {
           "x": 0.05
          },
          "xaxis": {
           "automargin": true,
           "gridcolor": "white",
           "linecolor": "white",
           "ticks": "",
           "title": {
            "standoff": 15
           },
           "zerolinecolor": "white",
           "zerolinewidth": 2
          },
          "yaxis": {
           "automargin": true,
           "gridcolor": "white",
           "linecolor": "white",
           "ticks": "",
           "title": {
            "standoff": 15
           },
           "zerolinecolor": "white",
           "zerolinewidth": 2
          }
         }
        },
        "xaxis": {
         "autorange": true,
         "range": [
          -0.5,
          9.5
         ],
         "type": "category"
        },
        "yaxis": {
         "autorange": true,
         "range": [
          -0.5,
          8.5
         ],
         "type": "category"
        }
       }
      },
      "image/png": "[encoded data removed]",
      "text/html": [
       "<div\n",
       "    class=\"webio-mountpoint\"\n",
       "    data-webio-mountpoint=\"897028624090415417\"\n",
       ">\n",
       "    <script>\n",
       "    (function(){\n",
       "    // Some integrations (namely, IJulia/Jupyter) use an alternate render pathway than\n",
       "    // just putting the html on the page. If WebIO isn't defined, then it's pretty likely\n",
       "    // that we're in one of those situations and the integration just isn't installed\n",
       "    // correctly.\n",
       "    if (typeof window.WebIO === \"undefined\") {\n",
       "        document\n",
       "            .querySelector('[data-webio-mountpoint=\"897028624090415417\"]')\n",
       "            .innerHTML = (\n",
       "                '<div style=\"padding: 1em; background-color: #f8d6da; border: 1px solid #f5c6cb; font-weight: bold;\">' +\n",
       "                '<p><strong>WebIO not detected.</strong></p>' +\n",
       "                '<p>Please read ' +\n",
       "                '<a href=\"https://juliagizmos.github.io/WebIO.jl/latest/troubleshooting/not-detected/\" target=\"_blank\">the troubleshooting guide</a> ' +\n",
       "                'for more information on how to resolve this issue.</p>' +\n",
       "                '<p><a href=\"https://juliagizmos.github.io/WebIO.jl/latest/troubleshooting/not-detected/\" target=\"_blank\">https://juliagizmos.github.io/WebIO.jl/latest/troubleshooting/not-detected/</a></p>' +\n",
       "                '</div>'\n",
       "            );\n",
       "        return;\n",
       "    }\n",
       "    WebIO.mount(\n",
       "        document.querySelector('[data-webio-mountpoint=\"897028624090415417\"]'),\n",
       "        {\"props\":{},\"nodeType\":\"Scope\",\"type\":\"node\",\"instanceArgs\":{\"imports\":{\"data\":[{\"name\":\"Plotly\",\"type\":\"js\",\"url\":\"\\/assetserver\\/2c1443c4a3fadd5de9f99c6b5d8fa0ad35f7de28-plotly.min.js\"},{\"name\":null,\"type\":\"js\",\"url\":\"\\/assetserver\\/a617ad3fbd31c68e6d8336a472e6356f3a4cb577-plotly_webio.bundle.js\"}],\"type\":\"async_block\"},\"id\":\"3252711905945916827\",\"handlers\":{\"_toImage\":[\"(function (options){return this.Plotly.toImage(this.plotElem,options).then((function (data){return WebIO.setval({\\\"name\\\":\\\"image\\\",\\\"scope\\\":\\\"3252711905945916827\\\",\\\"id\\\":\\\"13778560082925258493\\\",\\\"type\\\":\\\"observable\\\"},data)}))})\"],\"__get_gd_contents\":[\"(function (prop){prop==\\\"data\\\" ? (WebIO.setval({\\\"name\\\":\\\"__gd_contents\\\",\\\"scope\\\":\\\"3252711905945916827\\\",\\\"id\\\":\\\"338246512735149921\\\",\\\"type\\\":\\\"observable\\\"},this.plotElem.data)) : undefined; return prop==\\\"layout\\\" ? (WebIO.setval({\\\"name\\\":\\\"__gd_contents\\\",\\\"scope\\\":\\\"3252711905945916827\\\",\\\"id\\\":\\\"338246512735149921\\\",\\\"type\\\":\\\"observable\\\"},this.plotElem.layout)) : undefined})\"],\"_downloadImage\":[\"(function (options){return this.Plotly.downloadImage(this.plotElem,options)})\"],\"_commands\":[\"(function (args){var fn=args.shift(); var elem=this.plotElem; var Plotly=this.Plotly; args.unshift(elem); return Plotly[fn].apply(this,args)})\"]},\"systemjs_options\":null,\"mount_callbacks\":[\"function () {\\n    var handler = ((function (Plotly,PlotlyWebIO){PlotlyWebIO.init(WebIO); var gd=this.dom.querySelector(\\\"#plot-e00a048c-9d11-47ef-a5ad-b74c3c028f46\\\"); this.plotElem=gd; this.Plotly=Plotly; (window.Blink!==undefined) ? (gd.style.width=\\\"100%\\\", gd.style.height=\\\"100vh\\\", gd.style.marginLeft=\\\"0%\\\", gd.style.marginTop=\\\"0vh\\\") : undefined; window.onresize=(function (){return Plotly.Plots.resize(gd)}); Plotly.newPlot(gd,[{\\\"y\\\":[\\\"CB_F_1ug\\\",\\\"CB_F_1ug\\\",\\\"CB_F_1ug\\\",\\\"PL_F_1ug\\\",\\\"PL_F_1ug\\\",\\\"PL_F_1ug\\\",\\\"CB_S_1ug\\\",\\\"CB_S_1ug\\\",\\\"CB_S_1ug\\\",\\\"PL_S_1ug\\\",\\\"PL_S_1ug\\\",\\\"PL_S_1ug\\\",\\\"PL_F_25ug\\\",\\\"PL_F_25ug\\\",\\\"CB_F_5ug\\\",\\\"CB_F_5ug\\\",\\\"CB_F_5ug\\\",\\\"PL_F_5ug\\\",\\\"PL_F_5ug\\\",\\\"PL_F_5ug\\\",\\\"CB_S_5ug\\\",\\\"CB_S_5ug\\\",\\\"CB_S_5ug\\\",\\\"PL_S_5ug\\\",\\\"PL_S_5ug\\\",\\\"PL_S_5ug\\\",\\\"CB_F_1ug\\\",\\\"CB_F_1ug\\\",\\\"CB_F_1ug\\\",\\\"PL_F_1ug\\\",\\\"PL_F_1ug\\\",\\\"PL_F_1ug\\\",\\\"CB_S_1ug\\\",\\\"CB_S_1ug\\\",\\\"CB_S_1ug\\\",\\\"PL_S_1ug\\\",\\\"PL_S_1ug\\\",\\\"PL_S_1ug\\\",\\\"PL_F_25ug\\\",\\\"PL_F_25ug\\\",\\\"CB_F_5ug\\\",\\\"CB_F_5ug\\\",\\\"CB_F_5ug\\\",\\\"PL_F_5ug\\\",\\\"PL_F_5ug\\\",\\\"PL_F_5ug\\\",\\\"CB_S_5ug\\\",\\\"CB_S_5ug\\\",\\\"CB_S_5ug\\\",\\\"PL_S_5ug\\\",\\\"PL_S_5ug\\\",\\\"PL_S_5ug\\\",\\\"CB_F_1ug\\\",\\\"CB_F_1ug\\\",\\\"CB_F_1ug\\\",\\\"PL_F_1ug\\\",\\\"PL_F_1ug\\\",\\\"PL_F_1ug\\\",\\\"CB_S_1ug\\\",\\\"CB_S_1ug\\\",\\\"CB_S_1ug\\\",\\\"PL_S_1ug\\\",\\\"PL_S_1ug\\\",\\\"PL_S_1ug\\\",\\\"PL_F_25ug\\\",\\\"PL_F_25ug\\\",\\\"CB_F_5ug\\\",\\\"CB_F_5ug\\\",\\\"CB_F_5ug\\\",\\\"PL_F_5ug\\\",\\\"PL_F_5ug\\\",\\\"PL_F_5ug\\\",\\\"CB_S_5ug\\\",\\\"CB_S_5ug\\\",\\\"CB_S_5ug\\\",\\\"PL_S_5ug\\\",\\\"PL_S_5ug\\\",\\\"PL_S_5ug\\\",\\\"CB_F_1ug\\\",\\\"CB_F_1ug\\\",\\\"CB_F_1ug\\\",\\\"PL_F_1ug\\\",\\\"PL_F_1ug\\\",\\\"PL_F_1ug\\\",\\\"CB_S_1ug\\\",\\\"CB_S_1ug\\\",\\\"CB_S_1ug\\\",\\\"PL_S_1ug\\\",\\\"PL_S_1ug\\\",\\\"PL_S_1ug\\\",\\\"PL_F_25ug\\\",\\\"PL_F_25ug\\\",\\\"CB_F_5ug\\\",\\\"CB_F_5ug\\\",\\\"CB_F_5ug\\\",\\\"PL_F_5ug\\\",\\\"PL_F_5ug\\\",\\\"PL_F_5ug\\\",\\\"CB_S_5ug\\\",\\\"CB_S_5ug\\\",\\\"CB_S_5ug\\\",\\\"PL_S_5ug\\\",\\\"PL_S_5ug\\\",\\\"PL_S_5ug\\\",\\\"CB_F_1ug\\\",\\\"CB_F_1ug\\\",\\\"CB_F_1ug\\\",\\\"PL_F_1ug\\\",\\\"PL_F_1ug\\\",\\\"PL_F_1ug\\\",\\\"CB_S_1ug\\\",\\\"CB_S_1ug\\\",\\\"CB_S_1ug\\\",\\\"PL_S_1ug\\\",\\\"PL_S_1ug\\\",\\\"PL_S_1ug\\\",\\\"PL_F_25ug\\\",\\\"PL_F_25ug\\\",\\\"CB_F_5ug\\\",\\\"CB_F_5ug\\\",\\\"CB_F_5ug\\\",\\\"PL_F_5ug\\\",\\\"PL_F_5ug\\\",\\\"PL_F_5ug\\\",\\\"CB_S_5ug\\\",\\\"CB_S_5ug\\\",\\\"CB_S_5ug\\\",\\\"PL_S_5ug\\\",\\\"PL_S_5ug\\\",\\\"PL_S_5ug\\\",\\\"CB_F_1ug\\\",\\\"CB_F_1ug\\\",\\\"CB_F_1ug\\\",\\\"PL_F_1ug\\\",\\\"PL_F_1ug\\\",\\\"PL_F_1ug\\\",\\\"CB_S_1ug\\\",\\\"CB_S_1ug\\\",\\\"CB_S_1ug\\\",\\\"PL_S_1ug\\\",\\\"PL_S_1ug\\\",\\\"PL_S_1ug\\\",\\\"PL_F_25ug\\\",\\\"PL_F_25ug\\\",\\\"CB_F_5ug\\\",\\\"CB_F_5ug\\\",\\\"CB_F_5ug\\\",\\\"PL_F_5ug\\\",\\\"PL_F_5ug\\\",\\\"PL_F_5ug\\\",\\\"CB_S_5ug\\\",\\\"CB_S_5ug\\\",\\\"CB_S_5ug\\\",\\\"PL_S_5ug\\\",\\\"PL_S_5ug\\\",\\\"PL_S_5ug\\\",\\\"CB_F_1ug\\\",\\\"CB_F_1ug\\\",\\\"CB_F_1ug\\\",\\\"PL_F_1ug\\\",\\\"PL_F_1ug\\\",\\\"PL_F_1ug\\\",\\\"CB_S_1ug\\\",\\\"CB_S_1ug\\\",\\\"CB_S_1ug\\\",\\\"PL_S_1ug\\\",\\\"PL_S_1ug\\\",\\\"PL_S_1ug\\\",\\\"PL_F_25ug\\\",\\\"PL_F_25ug\\\",\\\"CB_F_5ug\\\",\\\"CB_F_5ug\\\",\\\"CB_F_5ug\\\",\\\"PL_F_5ug\\\",\\\"PL_F_5ug\\\",\\\"PL_F_5ug\\\",\\\"CB_S_5ug\\\",\\\"CB_S_5ug\\\",\\\"CB_S_5ug\\\",\\\"PL_S_5ug\\\",\\\"PL_S_5ug\\\",\\\"PL_S_5ug\\\",\\\"CB_F_1ug\\\",\\\"CB_F_1ug\\\",\\\"CB_F_1ug\\\",\\\"PL_F_1ug\\\",\\\"PL_F_1ug\\\",\\\"PL_F_1ug\\\",\\\"CB_S_1ug\\\",\\\"CB_S_1ug\\\",\\\"CB_S_1ug\\\",\\\"PL_S_1ug\\\",\\\"PL_S_1ug\\\",\\\"PL_S_1ug\\\",\\\"PL_F_25ug\\\",\\\"PL_F_25ug\\\",\\\"CB_F_5ug\\\",\\\"CB_F_5ug\\\",\\\"CB_F_5ug\\\",\\\"PL_F_5ug\\\",\\\"PL_F_5ug\\\",\\\"PL_F_5ug\\\",\\\"CB_S_5ug\\\",\\\"CB_S_5ug\\\",\\\"CB_S_5ug\\\",\\\"PL_S_5ug\\\",\\\"PL_S_5ug\\\",\\\"PL_S_5ug\\\",\\\"CB_F_1ug\\\",\\\"CB_F_1ug\\\",\\\"CB_F_1ug\\\",\\\"PL_F_1ug\\\",\\\"PL_F_1ug\\\",\\\"PL_F_1ug\\\",\\\"CB_S_1ug\\\",\\\"CB_S_1ug\\\",\\\"CB_S_1ug\\\",\\\"PL_S_1ug\\\",\\\"PL_S_1ug\\\",\\\"PL_S_1ug\\\",\\\"PL_F_25ug\\\",\\\"PL_F_25ug\\\",\\\"CB_F_5ug\\\",\\\"CB_F_5ug\\\",\\\"CB_F_5ug\\\",\\\"PL_F_5ug\\\",\\\"PL_F_5ug\\\",\\\"PL_F_5ug\\\",\\\"CB_S_5ug\\\",\\\"CB_S_5ug\\\",\\\"CB_S_5ug\\\",\\\"PL_S_5ug\\\",\\\"PL_S_5ug\\\",\\\"PL_S_5ug\\\",\\\"CB_F_1ug\\\",\\\"CB_F_1ug\\\",\\\"CB_F_1ug\\\",\\\"PL_F_1ug\\\",\\\"PL_F_1ug\\\",\\\"PL_F_1ug\\\",\\\"CB_S_1ug\\\",\\\"CB_S_1ug\\\",\\\"CB_S_1ug\\\",\\\"PL_S_1ug\\\",\\\"PL_S_1ug\\\",\\\"PL_S_1ug\\\",\\\"PL_F_25ug\\\",\\\"PL_F_25ug\\\",\\\"CB_F_5ug\\\",\\\"CB_F_5ug\\\",\\\"CB_F_5ug\\\",\\\"PL_F_5ug\\\",\\\"PL_F_5ug\\\",\\\"PL_F_5ug\\\",\\\"CB_S_5ug\\\",\\\"CB_S_5ug\\\",\\\"CB_S_5ug\\\",\\\"PL_S_5ug\\\",\\\"PL_S_5ug\\\",\\\"PL_S_5ug\\\"],\\\"type\\\":\\\"heatmap\\\",\\\"z\\\":[1.825374766,2.02573607,2.143486684,1.352866222,2.249092345,2.647592302,2.049292406,2.555047973,2.190565676,1.896118318,1.99039559,1.601136902,1.272067962,2.39439112,2.331733203,1.317357812,1.825374766,1.341031303,1.718027052,1.197018642,2.860273375,2.602032072,2.343492603,1.400193978,3.012741803,1.931478531,0.908055171,1.047137402,2.041139983,0.759835589,3.309726873,4.759110136,1.169731022,1.729047185,3.067249742,1.999794153,1.063948276,1.323923932,0.600182998,0.55432669,1.416851517,0.577728838,0.924820386,0.587226252,2.421369409,2.082501335,1.857646565,1.706015762,0.899674785,1.048338007,1.086771215,1.120421828,1.685784597,1.321596019,2.20091642,1.557840553,0.782244328,0.760573071,0.777906338,1.182745498,1.746996799,0.716997261,1.066186025,2.493646449,0.456419221,1.66690604,1.894516739,1.149435499,2.393255238,0.335744646,0.383736779,0.713597213,0.606331764,1.0606374,1.118906386,1.093931701,1.38827614,0.991294363,33.75571506,29.08849335,43.79606769,42.92539551,49.92366415,48.42461743,18.32511372,26.48850842,36.9171494,20.37503525,37.26051887,45.09013788,40.3267821,33.92593003,48.03160635,31.03080535,36.42083758,9.047203225,52.3586508,41.1751245,16.74624431,22.16709867,27.02693571,33.53171212,38.37230373,37.43465582,4.097886695,5.269672819,5.263529857,4.623520907,8.103652386,8.295720022,4.242792591,5.864386472,5.375334246,6.455559779,4.605097132,5.693575464,5.524233459,7.704368931,6.147050046,4.664053724,4.591586456,4.639488296,6.297946952,6.302968276,5.699719533,5.707092438,4.718098576,4.008246108,5.567011134,7.007533427,2.362231523,2.064008374,3.968921702,1.636581352,6.22892147,6.756514573,2.71779779,3.509337224,3.076493578,2.399494322,2.419818148,2.738107875,1.734261574,1.499109247,3.908111289,1.167716873,2.680560488,1.426040489,2.771271648,2.497577139,3.772959001,4.016215287,4.201983442,1.32750346,3.827022942,2.785494903,1.011741356,0.400570088,0.448122012,0.254877763,0.203896456,0.452700166,0.361407182,1.023044027,0.812454834,0.383379422,0.936248623,1.168160962,0.141910695,0.275206282,0.450883169,0.197332927,0.317577829,0.187896918,0.092076891,0.192187946,0.346322954,0.992676233,0.576982434,0.165037694,0.822283533,0.43915158,5.290431699,7.123278239,8.066367758,6.241768839,5.920934047,10.12424297,6.584495246,10.92715039,10.06305382,10.86124196,8.860168549,11.33000232,5.651825017,7.587069143,9.124596359,6.241768839,6.998646457,6.528219449,3.606779221,4.626184053,10.83651624,13.45762786,12.12750024,5.809648353,10.82002936,18.85437479,4067.184793,4099.30522,4129.84303,4096.299352,4271.277533,4249.455231,4157.635384,4175.406951,4161.380732,4162.216758,4099.898599,4153.363439,4077.076915,4217.312026,4083.894743,3950.374236,3889.148531,3970.010609,3943.178444,3886.075083,4078.791628,4055.782001,3912.485326,3874.362108,3932.482289,4054.765421,4.540422037,6.441222629,10.24773942,9.412574198,14.44568338,12.49783028,4.37355619,5.890017505,8.829420463,7.57682584,4.579462536,10.51772067,8.873681031,11.57920305,11.3410677,6.525960028,8.948906742,3.202617315,7.90957626,10.34868295,3.69087036,5.419479102,8.773183378,5.083012935,10.98731574,7.833912288],\\\"transpose\\\":true,\\\"x\\\":[\\\"IFN-?\\\",\\\"IFN-?\\\",\\\"IFN-?\\\",\\\"IFN-?\\\",\\\"IFN-?\\\",\\\"IFN-?\\\",\\\"IFN-?\\\",\\\"IFN-?\\\",\\\"IFN-?\\\",\\\"IFN-?\\\",\\\"IFN-?\\\",\\\"IFN-?\\\",\\\"IFN-?\\\",\\\"IFN-?\\\",\\\"IFN-?\\\",\\\"IFN-?\\\",\\\"IFN-?\\\",\\\"IFN-?\\\",\\\"IFN-?\\\",\\\"IFN-?\\\",\\\"IFN-?\\\",\\\"IFN-?\\\",\\\"IFN-?\\\",\\\"IFN-?\\\",\\\"IFN-?\\\",\\\"IFN-?\\\",\\\"IL-10\\\",\\\"IL-10\\\",\\\"IL-10\\\",\\\"IL-10\\\",\\\"IL-10\\\",\\\"IL-10\\\",\\\"IL-10\\\",\\\"IL-10\\\",\\\"IL-10\\\",\\\"IL-10\\\",\\\"IL-10\\\",\\\"IL-10\\\",\\\"IL-10\\\",\\\"IL-10\\\",\\\"IL-10\\\",\\\"IL-10\\\",\\\"IL-10\\\",\\\"IL-10\\\",\\\"IL-10\\\",\\\"IL-10\\\",\\\"IL-10\\\",\\\"IL-10\\\",\\\"IL-10\\\",\\\"IL-10\\\",\\\"IL-10\\\",\\\"IL-10\\\",\\\"IL-12p70\\\",\\\"IL-12p70\\\",\\\"IL-12p70\\\",\\\"IL-12p70\\\",\\\"IL-12p70\\\",\\\"IL-12p70\\\",\\\"IL-12p70\\\",\\\"IL-12p70\\\",\\\"IL-12p70\\\",\\\"IL-12p70\\\",\\\"IL-12p70\\\",\\\"IL-12p70\\\",\\\"IL-12p70\\\",\\\"IL-12p70\\\",\\\"IL-12p70\\\",\\\"IL-12p70\\\",\\\"IL-12p70\\\",\\\"IL-12p70\\\",\\\"IL-12p70\\\",\\\"IL-12p70\\\",\\\"IL-12p70\\\",\\\"IL-12p70\\\",\\\"IL-12p70\\\",\\\"IL-12p70\\\",\\\"IL-12p70\\\",\\\"IL-12p70\\\",\\\"IL-13\\\",\\\"IL-13\\\",\\\"IL-13\\\",\\\"IL-13\\\",\\\"IL-13\\\",\\\"IL-13\\\",\\\"IL-13\\\",\\\"IL-13\\\",\\\"IL-13\\\",\\\"IL-13\\\",\\\"IL-13\\\",\\\"IL-13\\\",\\\"IL-13\\\",\\\"IL-13\\\",\\\"IL-13\\\",\\\"IL-13\\\",\\\"IL-13\\\",\\\"IL-13\\\",\\\"IL-13\\\",\\\"IL-13\\\",\\\"IL-13\\\",\\\"IL-13\\\",\\\"IL-13\\\",\\\"IL-13\\\",\\\"IL-13\\\",\\\"IL-13\\\",\\\"IL-1?\\\",\\\"IL-1?\\\",\\\"IL-1?\\\",\\\"IL-1?\\\",\\\"IL-1?\\\",\\\"IL-1?\\\",\\\"IL-1?\\\",\\\"IL-1?\\\",\\\"IL-1?\\\",\\\"IL-1?\\\",\\\"IL-1?\\\",\\\"IL-1?\\\",\\\"IL-1?\\\",\\\"IL-1?\\\",\\\"IL-1?\\\",\\\"IL-1?\\\",\\\"IL-1?\\\",\\\"IL-1?\\\",\\\"IL-1?\\\",\\\"IL-1?\\\",\\\"IL-1?\\\",\\\"IL-1?\\\",\\\"IL-1?\\\",\\\"IL-1?\\\",\\\"IL-1?\\\",\\\"IL-1?\\\",\\\"IL-2\\\",\\\"IL-2\\\",\\\"IL-2\\\",\\\"IL-2\\\",\\\"IL-2\\\",\\\"IL-2\\\",\\\"IL-2\\\",\\\"IL-2\\\",\\\"IL-2\\\",\\\"IL-2\\\",\\\"IL-2\\\",\\\"IL-2\\\",\\\"IL-2\\\",\\\"IL-2\\\",\\\"IL-2\\\",\\\"IL-2\\\",\\\"IL-2\\\",\\\"IL-2\\\",\\\"IL-2\\\",\\\"IL-2\\\",\\\"IL-2\\\",\\\"IL-2\\\",\\\"IL-2\\\",\\\"IL-2\\\",\\\"IL-2\\\",\\\"IL-2\\\",\\\"IL-4\\\",\\\"IL-4\\\",\\\"IL-4\\\",\\\"IL-4\\\",\\\"IL-4\\\",\\\"IL-4\\\",\\\"IL-4\\\",\\\"IL-4\\\",\\\"IL-4\\\",\\\"IL-4\\\",\\\"IL-4\\\",\\\"IL-4\\\",\\\"IL-4\\\",\\\"IL-4\\\",\\\"IL-4\\\",\\\"IL-4\\\",\\\"IL-4\\\",\\\"IL-4\\\",\\\"IL-4\\\",\\\"IL-4\\\",\\\"IL-4\\\",\\\"IL-4\\\",\\\"IL-4\\\",\\\"IL-4\\\",\\\"IL-4\\\",\\\"IL-4\\\",\\\"IL-6\\\",\\\"IL-6\\\",\\\"IL-6\\\",\\\"IL-6\\\",\\\"IL-6\\\",\\\"IL-6\\\",\\\"IL-6\\\",\\\"IL-6\\\",\\\"IL-6\\\",\\\"IL-6\\\",\\\"IL-6\\\",\\\"IL-6\\\",\\\"IL-6\\\",\\\"IL-6\\\",\\\"IL-6\\\",\\\"IL-6\\\",\\\"IL-6\\\",\\\"IL-6\\\",\\\"IL-6\\\",\\\"IL-6\\\",\\\"IL-6\\\",\\\"IL-6\\\",\\\"IL-6\\\",\\\"IL-6\\\",\\\"IL-6\\\",\\\"IL-6\\\",\\\"IL-8\\\",\\\"IL-8\\\",\\\"IL-8\\\",\\\"IL-8\\\",\\\"IL-8\\\",\\\"IL-8\\\",\\\"IL-8\\\",\\\"IL-8\\\",\\\"IL-8\\\",\\\"IL-8\\\",\\\"IL-8\\\",\\\"IL-8\\\",\\\"IL-8\\\",\\\"IL-8\\\",\\\"IL-8\\\",\\\"IL-8\\\",\\\"IL-8\\\",\\\"IL-8\\\",\\\"IL-8\\\",\\\"IL-8\\\",\\\"IL-8\\\",\\\"IL-8\\\",\\\"IL-8\\\",\\\"IL-8\\\",\\\"IL-8\\\",\\\"IL-8\\\",\\\"TNF-�\\\",\\\"TNF-�\\\",\\\"TNF-�\\\",\\\"TNF-�\\\",\\\"TNF-�\\\",\\\"TNF-�\\\",\\\"TNF-�\\\",\\\"TNF-�\\\",\\\"TNF-�\\\",\\\"TNF-�\\\",\\\"TNF-�\\\",\\\"TNF-�\\\",\\\"TNF-�\\\",\\\"TNF-�\\\",\\\"TNF-�\\\",\\\"TNF-�\\\",\\\"TNF-�\\\",\\\"TNF-�\\\",\\\"TNF-�\\\",\\\"TNF-�\\\",\\\"TNF-�\\\",\\\"TNF-�\\\",\\\"TNF-�\\\",\\\"TNF-�\\\",\\\"TNF-�\\\",\\\"TNF-�\\\"]}],{\\\"template\\\":{\\\"layout\\\":{\\\"coloraxis\\\":{\\\"colorbar\\\":{\\\"ticks\\\":\\\"\\\",\\\"outlinewidth\\\":0}},\\\"xaxis\\\":{\\\"gridcolor\\\":\\\"white\\\",\\\"zerolinewidth\\\":2,\\\"title\\\":{\\\"standoff\\\":15},\\\"ticks\\\":\\\"\\\",\\\"zerolinecolor\\\":\\\"white\\\",\\\"automargin\\\":true,\\\"linecolor\\\":\\\"white\\\"},\\\"hovermode\\\":\\\"closest\\\",\\\"paper_bgcolor\\\":\\\"white\\\",\\\"geo\\\":{\\\"showlakes\\\":true,\\\"showland\\\":true,\\\"landcolor\\\":\\\"#E5ECF6\\\",\\\"bgcolor\\\":\\\"white\\\",\\\"subunitcolor\\\":\\\"white\\\",\\\"lakecolor\\\":\\\"white\\\"},\\\"colorscale\\\":{\\\"sequential\\\":[[0.0,\\\"#0d0887\\\"],[0.1111111111111111,\\\"#46039f\\\"],[0.2222222222222222,\\\"#7201a8\\\"],[0.3333333333333333,\\\"#9c179e\\\"],[0.4444444444444444,\\\"#bd3786\\\"],[0.5555555555555556,\\\"#d8576b\\\"],[0.6666666666666666,\\\"#ed7953\\\"],[0.7777777777777778,\\\"#fb9f3a\\\"],[0.8888888888888888,\\\"#fdca26\\\"],[1.0,\\\"#f0f921\\\"]],\\\"diverging\\\":[[0,\\\"#8e0152\\\"],[0.1,\\\"#c51b7d\\\"],[0.2,\\\"#de77ae\\\"],[0.3,\\\"#f1b6da\\\"],[0.4,\\\"#fde0ef\\\"],[0.5,\\\"#f7f7f7\\\"],[0.6,\\\"#e6f5d0\\\"],[0.7,\\\"#b8e186\\\"],[0.8,\\\"#7fbc41\\\"],[0.9,\\\"#4d9221\\\"],[1,\\\"#276419\\\"]],\\\"sequentialminus\\\":[[0.0,\\\"#0d0887\\\"],[0.1111111111111111,\\\"#46039f\\\"],[0.2222222222222222,\\\"#7201a8\\\"],[0.3333333333333333,\\\"#9c179e\\\"],[0.4444444444444444,\\\"#bd3786\\\"],[0.5555555555555556,\\\"#d8576b\\\"],[0.6666666666666666,\\\"#ed7953\\\"],[0.7777777777777778,\\\"#fb9f3a\\\"],[0.8888888888888888,\\\"#fdca26\\\"],[1.0,\\\"#f0f921\\\"]]},\\\"yaxis\\\":{\\\"gridcolor\\\":\\\"white\\\",\\\"zerolinewidth\\\":2,\\\"title\\\":{\\\"standoff\\\":15},\\\"ticks\\\":\\\"\\\",\\\"zerolinecolor\\\":\\\"white\\\",\\\"automargin\\\":true,\\\"linecolor\\\":\\\"white\\\"},\\\"shapedefaults\\\":{\\\"line\\\":{\\\"color\\\":\\\"#2a3f5f\\\"}},\\\"hoverlabel\\\":{\\\"align\\\":\\\"left\\\"},\\\"mapbox\\\":{\\\"style\\\":\\\"light\\\"},\\\"polar\\\":{\\\"angularaxis\\\":{\\\"gridcolor\\\":\\\"white\\\",\\\"ticks\\\":\\\"\\\",\\\"linecolor\\\":\\\"white\\\"},\\\"bgcolor\\\":\\\"#E5ECF6\\\",\\\"radialaxis\\\":{\\\"gridcolor\\\":\\\"white\\\",\\\"ticks\\\":\\\"\\\",\\\"linecolor\\\":\\\"white\\\"}},\\\"autotypenumbers\\\":\\\"strict\\\",\\\"font\\\":{\\\"color\\\":\\\"#2a3f5f\\\"},\\\"ternary\\\":{\\\"baxis\\\":{\\\"gridcolor\\\":\\\"white\\\",\\\"ticks\\\":\\\"\\\",\\\"linecolor\\\":\\\"white\\\"},\\\"bgcolor\\\":\\\"#E5ECF6\\\",\\\"caxis\\\":{\\\"gridcolor\\\":\\\"white\\\",\\\"ticks\\\":\\\"\\\",\\\"linecolor\\\":\\\"white\\\"},\\\"aaxis\\\":{\\\"gridcolor\\\":\\\"white\\\",\\\"ticks\\\":\\\"\\\",\\\"linecolor\\\":\\\"white\\\"}},\\\"annotationdefaults\\\":{\\\"arrowhead\\\":0,\\\"arrowwidth\\\":1,\\\"arrowcolor\\\":\\\"#2a3f5f\\\"},\\\"plot_bgcolor\\\":\\\"#E5ECF6\\\",\\\"title\\\":{\\\"x\\\":0.05},\\\"scene\\\":{\\\"xaxis\\\":{\\\"gridcolor\\\":\\\"white\\\",\\\"gridwidth\\\":2,\\\"backgroundcolor\\\":\\\"#E5ECF6\\\",\\\"ticks\\\":\\\"\\\",\\\"showbackground\\\":true,\\\"zerolinecolor\\\":\\\"white\\\",\\\"linecolor\\\":\\\"white\\\"},\\\"zaxis\\\":{\\\"gridcolor\\\":\\\"white\\\",\\\"gridwidth\\\":2,\\\"backgroundcolor\\\":\\\"#E5ECF6\\\",\\\"ticks\\\":\\\"\\\",\\\"showbackground\\\":true,\\\"zerolinecolor\\\":\\\"white\\\",\\\"linecolor\\\":\\\"white\\\"},\\\"yaxis\\\":{\\\"gridcolor\\\":\\\"white\\\",\\\"gridwidth\\\":2,\\\"backgroundcolor\\\":\\\"#E5ECF6\\\",\\\"ticks\\\":\\\"\\\",\\\"showbackground\\\":true,\\\"zerolinecolor\\\":\\\"white\\\",\\\"linecolor\\\":\\\"white\\\"}},\\\"colorway\\\":[\\\"#636efa\\\",\\\"#EF553B\\\",\\\"#00cc96\\\",\\\"#ab63fa\\\",\\\"#FFA15A\\\",\\\"#19d3f3\\\",\\\"#FF6692\\\",\\\"#B6E880\\\",\\\"#FF97FF\\\",\\\"#FECB52\\\"]},\\\"data\\\":{\\\"barpolar\\\":[{\\\"type\\\":\\\"barpolar\\\",\\\"marker\\\":{\\\"line\\\":{\\\"color\\\":\\\"#E5ECF6\\\",\\\"width\\\":0.5}}}],\\\"carpet\\\":[{\\\"aaxis\\\":{\\\"gridcolor\\\":\\\"white\\\",\\\"endlinecolor\\\":\\\"#2a3f5f\\\",\\\"minorgridcolor\\\":\\\"white\\\",\\\"startlinecolor\\\":\\\"#2a3f5f\\\",\\\"linecolor\\\":\\\"white\\\"},\\\"type\\\":\\\"carpet\\\",\\\"baxis\\\":{\\\"gridcolor\\\":\\\"white\\\",\\\"endlinecolor\\\":\\\"#2a3f5f\\\",\\\"minorgridcolor\\\":\\\"white\\\",\\\"startlinecolor\\\":\\\"#2a3f5f\\\",\\\"linecolor\\\":\\\"white\\\"}}],\\\"scatterpolar\\\":[{\\\"type\\\":\\\"scatterpolar\\\",\\\"marker\\\":{\\\"colorbar\\\":{\\\"ticks\\\":\\\"\\\",\\\"outlinewidth\\\":0}}}],\\\"parcoords\\\":[{\\\"line\\\":{\\\"colorbar\\\":{\\\"ticks\\\":\\\"\\\",\\\"outlinewidth\\\":0}},\\\"type\\\":\\\"parcoords\\\"}],\\\"scatter\\\":[{\\\"type\\\":\\\"scatter\\\",\\\"marker\\\":{\\\"colorbar\\\":{\\\"ticks\\\":\\\"\\\",\\\"outlinewidth\\\":0}}}],\\\"histogram2dcontour\\\":[{\\\"colorbar\\\":{\\\"ticks\\\":\\\"\\\",\\\"outlinewidth\\\":0},\\\"type\\\":\\\"histogram2dcontour\\\",\\\"colorscale\\\":[[0.0,\\\"#0d0887\\\"],[0.1111111111111111,\\\"#46039f\\\"],[0.2222222222222222,\\\"#7201a8\\\"],[0.3333333333333333,\\\"#9c179e\\\"],[0.4444444444444444,\\\"#bd3786\\\"],[0.5555555555555556,\\\"#d8576b\\\"],[0.6666666666666666,\\\"#ed7953\\\"],[0.7777777777777778,\\\"#fb9f3a\\\"],[0.8888888888888888,\\\"#fdca26\\\"],[1.0,\\\"#f0f921\\\"]]}],\\\"contour\\\":[{\\\"colorbar\\\":{\\\"ticks\\\":\\\"\\\",\\\"outlinewidth\\\":0},\\\"type\\\":\\\"contour\\\",\\\"colorscale\\\":[[0.0,\\\"#0d0887\\\"],[0.1111111111111111,\\\"#46039f\\\"],[0.2222222222222222,\\\"#7201a8\\\"],[0.3333333333333333,\\\"#9c179e\\\"],[0.4444444444444444,\\\"#bd3786\\\"],[0.5555555555555556,\\\"#d8576b\\\"],[0.6666666666666666,\\\"#ed7953\\\"],[0.7777777777777778,\\\"#fb9f3a\\\"],[0.8888888888888888,\\\"#fdca26\\\"],[1.0,\\\"#f0f921\\\"]]}],\\\"scattercarpet\\\":[{\\\"type\\\":\\\"scattercarpet\\\",\\\"marker\\\":{\\\"colorbar\\\":{\\\"ticks\\\":\\\"\\\",\\\"outlinewidth\\\":0}}}],\\\"mesh3d\\\":[{\\\"colorbar\\\":{\\\"ticks\\\":\\\"\\\",\\\"outlinewidth\\\":0},\\\"type\\\":\\\"mesh3d\\\"}],\\\"surface\\\":[{\\\"colorbar\\\":{\\\"ticks\\\":\\\"\\\",\\\"outlinewidth\\\":0},\\\"type\\\":\\\"surface\\\",\\\"colorscale\\\":[[0.0,\\\"#0d0887\\\"],[0.1111111111111111,\\\"#46039f\\\"],[0.2222222222222222,\\\"#7201a8\\\"],[0.3333333333333333,\\\"#9c179e\\\"],[0.4444444444444444,\\\"#bd3786\\\"],[0.5555555555555556,\\\"#d8576b\\\"],[0.6666666666666666,\\\"#ed7953\\\"],[0.7777777777777778,\\\"#fb9f3a\\\"],[0.8888888888888888,\\\"#fdca26\\\"],[1.0,\\\"#f0f921\\\"]]}],\\\"scattermapbox\\\":[{\\\"type\\\":\\\"scattermapbox\\\",\\\"marker\\\":{\\\"colorbar\\\":{\\\"ticks\\\":\\\"\\\",\\\"outlinewidth\\\":0}}}],\\\"scattergeo\\\":[{\\\"type\\\":\\\"scattergeo\\\",\\\"marker\\\":{\\\"colorbar\\\":{\\\"ticks\\\":\\\"\\\",\\\"outlinewidth\\\":0}}}],\\\"histogram\\\":[{\\\"type\\\":\\\"histogram\\\",\\\"marker\\\":{\\\"colorbar\\\":{\\\"ticks\\\":\\\"\\\",\\\"outlinewidth\\\":0}}}],\\\"pie\\\":[{\\\"type\\\":\\\"pie\\\",\\\"automargin\\\":true}],\\\"choropleth\\\":[{\\\"colorbar\\\":{\\\"ticks\\\":\\\"\\\",\\\"outlinewidth\\\":0},\\\"type\\\":\\\"choropleth\\\"}],\\\"heatmapgl\\\":[{\\\"colorbar\\\":{\\\"ticks\\\":\\\"\\\",\\\"outlinewidth\\\":0},\\\"type\\\":\\\"heatmapgl\\\",\\\"colorscale\\\":[[0.0,\\\"#0d0887\\\"],[0.1111111111111111,\\\"#46039f\\\"],[0.2222222222222222,\\\"#7201a8\\\"],[0.3333333333333333,\\\"#9c179e\\\"],[0.4444444444444444,\\\"#bd3786\\\"],[0.5555555555555556,\\\"#d8576b\\\"],[0.6666666666666666,\\\"#ed7953\\\"],[0.7777777777777778,\\\"#fb9f3a\\\"],[0.8888888888888888,\\\"#fdca26\\\"],[1.0,\\\"#f0f921\\\"]]}],\\\"bar\\\":[{\\\"type\\\":\\\"bar\\\",\\\"error_y\\\":{\\\"color\\\":\\\"#2a3f5f\\\"},\\\"error_x\\\":{\\\"color\\\":\\\"#2a3f5f\\\"},\\\"marker\\\":{\\\"line\\\":{\\\"color\\\":\\\"#E5ECF6\\\",\\\"width\\\":0.5}}}],\\\"heatmap\\\":[{\\\"colorbar\\\":{\\\"ticks\\\":\\\"\\\",\\\"outlinewidth\\\":0},\\\"type\\\":\\\"heatmap\\\",\\\"colorscale\\\":[[0.0,\\\"#0d0887\\\"],[0.1111111111111111,\\\"#46039f\\\"],[0.2222222222222222,\\\"#7201a8\\\"],[0.3333333333333333,\\\"#9c179e\\\"],[0.4444444444444444,\\\"#bd3786\\\"],[0.5555555555555556,\\\"#d8576b\\\"],[0.6666666666666666,\\\"#ed7953\\\"],[0.7777777777777778,\\\"#fb9f3a\\\"],[0.8888888888888888,\\\"#fdca26\\\"],[1.0,\\\"#f0f921\\\"]]}],\\\"contourcarpet\\\":[{\\\"colorbar\\\":{\\\"ticks\\\":\\\"\\\",\\\"outlinewidth\\\":0},\\\"type\\\":\\\"contourcarpet\\\"}],\\\"table\\\":[{\\\"type\\\":\\\"table\\\",\\\"header\\\":{\\\"line\\\":{\\\"color\\\":\\\"white\\\"},\\\"fill\\\":{\\\"color\\\":\\\"#C8D4E3\\\"}},\\\"cells\\\":{\\\"line\\\":{\\\"color\\\":\\\"white\\\"},\\\"fill\\\":{\\\"color\\\":\\\"#EBF0F8\\\"}}}],\\\"scatter3d\\\":[{\\\"line\\\":{\\\"colorbar\\\":{\\\"ticks\\\":\\\"\\\",\\\"outlinewidth\\\":0}},\\\"type\\\":\\\"scatter3d\\\",\\\"marker\\\":{\\\"colorbar\\\":{\\\"ticks\\\":\\\"\\\",\\\"outlinewidth\\\":0}}}],\\\"scattergl\\\":[{\\\"type\\\":\\\"scattergl\\\",\\\"marker\\\":{\\\"colorbar\\\":{\\\"ticks\\\":\\\"\\\",\\\"outlinewidth\\\":0}}}],\\\"histogram2d\\\":[{\\\"colorbar\\\":{\\\"ticks\\\":\\\"\\\",\\\"outlinewidth\\\":0},\\\"type\\\":\\\"histogram2d\\\",\\\"colorscale\\\":[[0.0,\\\"#0d0887\\\"],[0.1111111111111111,\\\"#46039f\\\"],[0.2222222222222222,\\\"#7201a8\\\"],[0.3333333333333333,\\\"#9c179e\\\"],[0.4444444444444444,\\\"#bd3786\\\"],[0.5555555555555556,\\\"#d8576b\\\"],[0.6666666666666666,\\\"#ed7953\\\"],[0.7777777777777778,\\\"#fb9f3a\\\"],[0.8888888888888888,\\\"#fdca26\\\"],[1.0,\\\"#f0f921\\\"]]}],\\\"scatterternary\\\":[{\\\"type\\\":\\\"scatterternary\\\",\\\"marker\\\":{\\\"colorbar\\\":{\\\"ticks\\\":\\\"\\\",\\\"outlinewidth\\\":0}}}],\\\"scatterpolargl\\\":[{\\\"type\\\":\\\"scatterpolargl\\\",\\\"marker\\\":{\\\"colorbar\\\":{\\\"ticks\\\":\\\"\\\",\\\"outlinewidth\\\":0}}}]}},\\\"height\\\":600,\\\"margin\\\":{\\\"l\\\":0,\\\"b\\\":0,\\\"r\\\":0,\\\"t\\\":65},\\\"autosize\\\":true},{\\\"showLink\\\":false,\\\"editable\\\":false,\\\"responsive\\\":true,\\\"staticPlot\\\":false,\\\"scrollZoom\\\":true}); gd.on(\\\"plotly_hover\\\",(function (data){var filtered_data=WebIO.PlotlyCommands.filterEventData(gd,data,\\\"hover\\\"); return !(filtered_data.isnil) ? (WebIO.setval({\\\"name\\\":\\\"hover\\\",\\\"scope\\\":\\\"3252711905945916827\\\",\\\"id\\\":\\\"6087427183786754776\\\",\\\"type\\\":\\\"observable\\\"},filtered_data.out)) : undefined})); gd.on(\\\"plotly_unhover\\\",(function (){return WebIO.setval({\\\"name\\\":\\\"hover\\\",\\\"scope\\\":\\\"3252711905945916827\\\",\\\"id\\\":\\\"6087427183786754776\\\",\\\"type\\\":\\\"observable\\\"},{})})); gd.on(\\\"plotly_selected\\\",(function (data){var filtered_data=WebIO.PlotlyCommands.filterEventData(gd,data,\\\"selected\\\"); return !(filtered_data.isnil) ? (WebIO.setval({\\\"name\\\":\\\"selected\\\",\\\"scope\\\":\\\"3252711905945916827\\\",\\\"id\\\":\\\"3908476145492828499\\\",\\\"type\\\":\\\"observable\\\"},filtered_data.out)) : undefined})); gd.on(\\\"plotly_deselect\\\",(function (){return WebIO.setval({\\\"name\\\":\\\"selected\\\",\\\"scope\\\":\\\"3252711905945916827\\\",\\\"id\\\":\\\"3908476145492828499\\\",\\\"type\\\":\\\"observable\\\"},{})})); gd.on(\\\"plotly_relayout\\\",(function (data){var filtered_data=WebIO.PlotlyCommands.filterEventData(gd,data,\\\"relayout\\\"); return !(filtered_data.isnil) ? (WebIO.setval({\\\"name\\\":\\\"relayout\\\",\\\"scope\\\":\\\"3252711905945916827\\\",\\\"id\\\":\\\"16516537605096049942\\\",\\\"type\\\":\\\"observable\\\"},filtered_data.out)) : undefined})); return gd.on(\\\"plotly_click\\\",(function (data){var filtered_data=WebIO.PlotlyCommands.filterEventData(gd,data,\\\"click\\\"); return !(filtered_data.isnil) ? (WebIO.setval({\\\"name\\\":\\\"click\\\",\\\"scope\\\":\\\"3252711905945916827\\\",\\\"id\\\":\\\"8936458378301803357\\\",\\\"type\\\":\\\"observable\\\"},filtered_data.out)) : undefined}))}));\\n    (WebIO.importBlock({\\\"data\\\":[{\\\"name\\\":\\\"Plotly\\\",\\\"type\\\":\\\"js\\\",\\\"url\\\":\\\"\\/assetserver\\/2c1443c4a3fadd5de9f99c6b5d8fa0ad35f7de28-plotly.min.js\\\"},{\\\"name\\\":null,\\\"type\\\":\\\"js\\\",\\\"url\\\":\\\"\\/assetserver\\/a617ad3fbd31c68e6d8336a472e6356f3a4cb577-plotly_webio.bundle.js\\\"}],\\\"type\\\":\\\"async_block\\\"})).then((imports) => handler.apply(this, imports));\\n}\\n\"],\"observables\":{\"_toImage\":{\"sync\":true,\"id\":\"9647258640586405902\",\"value\":{}},\"hover\":{\"sync\":false,\"id\":\"6087427183786754776\",\"value\":{}},\"selected\":{\"sync\":false,\"id\":\"3908476145492828499\",\"value\":{}},\"__gd_contents\":{\"sync\":false,\"id\":\"338246512735149921\",\"value\":{}},\"click\":{\"sync\":false,\"id\":\"8936458378301803357\",\"value\":{}},\"image\":{\"sync\":true,\"id\":\"13778560082925258493\",\"value\":\"\"},\"__get_gd_contents\":{\"sync\":true,\"id\":\"10629345643903753168\",\"value\":\"\"},\"_downloadImage\":{\"sync\":true,\"id\":\"1122617801750426193\",\"value\":{}},\"relayout\":{\"sync\":false,\"id\":\"16516537605096049942\",\"value\":{}},\"_commands\":{\"sync\":true,\"id\":\"16668670002535765278\",\"value\":[]}}},\"children\":[{\"props\":{\"id\":\"plot-e00a048c-9d11-47ef-a5ad-b74c3c028f46\"},\"nodeType\":\"DOM\",\"type\":\"node\",\"instanceArgs\":{\"namespace\":\"html\",\"tag\":\"div\"},\"children\":[]}]},\n",
       "        window,\n",
       "    );\n",
       "    })()\n",
       "    </script>\n",
       "</div>\n"
      ],
      "text/plain": [
       "data: [\n",
       "  \"heatmap with fields transpose, type, x, y, and z\"\n",
       "]\n",
       "\n",
       "layout: \"layout with fields autosize, height, margin, and template\"\n",
       "\n"
      ]
     },
     "execution_count": 16,
     "metadata": {},
     "output_type": "execute_result"
    }
   ],
   "source": [
    "showHM_perGrp(\"63O\")"
   ]
  },
  {
   "cell_type": "markdown",
   "id": "b85d02ee-b92d-4884-bf24-1e8f71239fbe",
   "metadata": {},
   "source": [
    "## 68J"
   ]
  },
  {
   "cell_type": "code",
   "execution_count": 17,
   "id": "e5fc4bd4-5004-4ce6-b203-046b89e181e5",
   "metadata": {},
   "outputs": [
    {
     "data": {
      "application/vnd.plotly.v1+json": {
       "config": {
        "editable": false,
        "responsive": true,
        "scrollZoom": true,
        "showLink": false,
        "staticPlot": false
       },
       "data": [
        {
         "transpose": true,
         "type": "heatmap",
         "x": [
          "IFN-?",
          "IFN-?",
          "IFN-?",
          "IFN-?",
          "IFN-?",
          "IFN-?",
          "IFN-?",
          "IFN-?",
          "IFN-?",
          "IFN-?",
          "IFN-?",
          "IFN-?",
          "IFN-?",
          "IFN-?",
          "IFN-?",
          "IFN-?",
          "IFN-?",
          "IFN-?",
          "IFN-?",
          "IFN-?",
          "IFN-?",
          "IFN-?",
          "IFN-?",
          "IFN-?",
          "IFN-?",
          "IFN-?",
          "IFN-?",
          "IFN-?",
          "IFN-?",
          "IFN-?",
          "IFN-?",
          "IFN-?",
          "IFN-?",
          "IFN-?",
          "IFN-?",
          "IFN-?",
          "IL-10",
          "IL-10",
          "IL-10",
          "IL-10",
          "IL-10",
          "IL-10",
          "IL-10",
          "IL-10",
          "IL-10",
          "IL-10",
          "IL-10",
          "IL-10",
          "IL-10",
          "IL-10",
          "IL-10",
          "IL-10",
          "IL-10",
          "IL-10",
          "IL-10",
          "IL-10",
          "IL-10",
          "IL-10",
          "IL-10",
          "IL-10",
          "IL-10",
          "IL-10",
          "IL-10",
          "IL-10",
          "IL-10",
          "IL-10",
          "IL-10",
          "IL-10",
          "IL-10",
          "IL-10",
          "IL-10",
          "IL-10",
          "IL-12p70",
          "IL-12p70",
          "IL-12p70",
          "IL-12p70",
          "IL-12p70",
          "IL-12p70",
          "IL-12p70",
          "IL-12p70",
          "IL-12p70",
          "IL-12p70",
          "IL-12p70",
          "IL-12p70",
          "IL-12p70",
          "IL-12p70",
          "IL-12p70",
          "IL-12p70",
          "IL-12p70",
          "IL-12p70",
          "IL-12p70",
          "IL-12p70",
          "IL-12p70",
          "IL-12p70",
          "IL-12p70",
          "IL-12p70",
          "IL-12p70",
          "IL-12p70",
          "IL-12p70",
          "IL-12p70",
          "IL-12p70",
          "IL-12p70",
          "IL-12p70",
          "IL-12p70",
          "IL-12p70",
          "IL-12p70",
          "IL-12p70",
          "IL-12p70",
          "IL-13",
          "IL-13",
          "IL-13",
          "IL-13",
          "IL-13",
          "IL-13",
          "IL-13",
          "IL-13",
          "IL-13",
          "IL-13",
          "IL-13",
          "IL-13",
          "IL-13",
          "IL-13",
          "IL-13",
          "IL-13",
          "IL-13",
          "IL-13",
          "IL-13",
          "IL-13",
          "IL-13",
          "IL-13",
          "IL-13",
          "IL-13",
          "IL-13",
          "IL-13",
          "IL-13",
          "IL-13",
          "IL-13",
          "IL-13",
          "IL-13",
          "IL-13",
          "IL-13",
          "IL-13",
          "IL-13",
          "IL-13",
          "IL-1?",
          "IL-1?",
          "IL-1?",
          "IL-1?",
          "IL-1?",
          "IL-1?",
          "IL-1?",
          "IL-1?",
          "IL-1?",
          "IL-1?",
          "IL-1?",
          "IL-1?",
          "IL-1?",
          "IL-1?",
          "IL-1?",
          "IL-1?",
          "IL-1?",
          "IL-1?",
          "IL-1?",
          "IL-1?",
          "IL-1?",
          "IL-1?",
          "IL-1?",
          "IL-1?",
          "IL-1?",
          "IL-1?",
          "IL-1?",
          "IL-1?",
          "IL-1?",
          "IL-1?",
          "IL-1?",
          "IL-1?",
          "IL-1?",
          "IL-1?",
          "IL-1?",
          "IL-1?",
          "IL-2",
          "IL-2",
          "IL-2",
          "IL-2",
          "IL-2",
          "IL-2",
          "IL-2",
          "IL-2",
          "IL-2",
          "IL-2",
          "IL-2",
          "IL-2",
          "IL-2",
          "IL-2",
          "IL-2",
          "IL-2",
          "IL-2",
          "IL-2",
          "IL-2",
          "IL-2",
          "IL-2",
          "IL-2",
          "IL-2",
          "IL-2",
          "IL-2",
          "IL-2",
          "IL-2",
          "IL-2",
          "IL-2",
          "IL-2",
          "IL-2",
          "IL-2",
          "IL-2",
          "IL-2",
          "IL-2",
          "IL-2",
          "IL-4",
          "IL-4",
          "IL-4",
          "IL-4",
          "IL-4",
          "IL-4",
          "IL-4",
          "IL-4",
          "IL-4",
          "IL-4",
          "IL-4",
          "IL-4",
          "IL-4",
          "IL-4",
          "IL-4",
          "IL-4",
          "IL-4",
          "IL-4",
          "IL-4",
          "IL-4",
          "IL-4",
          "IL-4",
          "IL-4",
          "IL-4",
          "IL-4",
          "IL-4",
          "IL-4",
          "IL-4",
          "IL-4",
          "IL-4",
          "IL-4",
          "IL-4",
          "IL-4",
          "IL-4",
          "IL-4",
          "IL-4",
          "IL-6",
          "IL-6",
          "IL-6",
          "IL-6",
          "IL-6",
          "IL-6",
          "IL-6",
          "IL-6",
          "IL-6",
          "IL-6",
          "IL-6",
          "IL-6",
          "IL-6",
          "IL-6",
          "IL-6",
          "IL-6",
          "IL-6",
          "IL-6",
          "IL-6",
          "IL-6",
          "IL-6",
          "IL-6",
          "IL-6",
          "IL-6",
          "IL-6",
          "IL-6",
          "IL-6",
          "IL-6",
          "IL-6",
          "IL-6",
          "IL-6",
          "IL-6",
          "IL-6",
          "IL-6",
          "IL-6",
          "IL-6",
          "IL-8",
          "IL-8",
          "IL-8",
          "IL-8",
          "IL-8",
          "IL-8",
          "IL-8",
          "IL-8",
          "IL-8",
          "IL-8",
          "IL-8",
          "IL-8",
          "IL-8",
          "IL-8",
          "IL-8",
          "IL-8",
          "IL-8",
          "IL-8",
          "IL-8",
          "IL-8",
          "IL-8",
          "IL-8",
          "IL-8",
          "IL-8",
          "IL-8",
          "IL-8",
          "IL-8",
          "IL-8",
          "IL-8",
          "IL-8",
          "IL-8",
          "IL-8",
          "IL-8",
          "IL-8",
          "IL-8",
          "IL-8",
          "TNF-�",
          "TNF-�",
          "TNF-�",
          "TNF-�",
          "TNF-�",
          "TNF-�",
          "TNF-�",
          "TNF-�",
          "TNF-�",
          "TNF-�",
          "TNF-�",
          "TNF-�",
          "TNF-�",
          "TNF-�",
          "TNF-�",
          "TNF-�",
          "TNF-�",
          "TNF-�",
          "TNF-�",
          "TNF-�",
          "TNF-�",
          "TNF-�",
          "TNF-�",
          "TNF-�",
          "TNF-�",
          "TNF-�",
          "TNF-�",
          "TNF-�",
          "TNF-�",
          "TNF-�",
          "TNF-�",
          "TNF-�",
          "TNF-�",
          "TNF-�",
          "TNF-�",
          "TNF-�"
         ],
         "y": [
          "CB_F_1ug",
          "CB_F_1ug",
          "CB_F_1ug",
          "PL_F_1ug",
          "PL_F_1ug",
          "PL_F_1ug",
          "CB_S_1ug",
          "CB_S_1ug",
          "CB_S_1ug",
          "PL_S_1ug",
          "PL_S_1ug",
          "PL_S_1ug",
          "CB_F_25ug",
          "CB_F_25ug",
          "CB_F_25ug",
          "PL_F_25ug",
          "PL_F_25ug",
          "PL_F_25ug",
          "CB_S_25ug",
          "CB_S_25ug",
          "CB_S_25ug",
          "PL_S_25ug",
          "PL_S_25ug",
          "PL_S_25ug",
          "CB_F_5ug",
          "CB_F_5ug",
          "CB_F_5ug",
          "PL_F_5ug",
          "PL_F_5ug",
          "PL_F_5ug",
          "CB_S_5ug",
          "CB_S_5ug",
          "CB_S_5ug",
          "PL_S_5ug",
          "PL_S_5ug",
          "PL_S_5ug",
          "CB_F_1ug",
          "CB_F_1ug",
          "CB_F_1ug",
          "PL_F_1ug",
          "PL_F_1ug",
          "PL_F_1ug",
          "CB_S_1ug",
          "CB_S_1ug",
          "CB_S_1ug",
          "PL_S_1ug",
          "PL_S_1ug",
          "PL_S_1ug",
          "CB_F_25ug",
          "CB_F_25ug",
          "CB_F_25ug",
          "PL_F_25ug",
          "PL_F_25ug",
          "PL_F_25ug",
          "CB_S_25ug",
          "CB_S_25ug",
          "CB_S_25ug",
          "PL_S_25ug",
          "PL_S_25ug",
          "PL_S_25ug",
          "CB_F_5ug",
          "CB_F_5ug",
          "CB_F_5ug",
          "PL_F_5ug",
          "PL_F_5ug",
          "PL_F_5ug",
          "CB_S_5ug",
          "CB_S_5ug",
          "CB_S_5ug",
          "PL_S_5ug",
          "PL_S_5ug",
          "PL_S_5ug",
          "CB_F_1ug",
          "CB_F_1ug",
          "CB_F_1ug",
          "PL_F_1ug",
          "PL_F_1ug",
          "PL_F_1ug",
          "CB_S_1ug",
          "CB_S_1ug",
          "CB_S_1ug",
          "PL_S_1ug",
          "PL_S_1ug",
          "PL_S_1ug",
          "CB_F_25ug",
          "CB_F_25ug",
          "CB_F_25ug",
          "PL_F_25ug",
          "PL_F_25ug",
          "PL_F_25ug",
          "CB_S_25ug",
          "CB_S_25ug",
          "CB_S_25ug",
          "PL_S_25ug",
          "PL_S_25ug",
          "PL_S_25ug",
          "CB_F_5ug",
          "CB_F_5ug",
          "CB_F_5ug",
          "PL_F_5ug",
          "PL_F_5ug",
          "PL_F_5ug",
          "CB_S_5ug",
          "CB_S_5ug",
          "CB_S_5ug",
          "PL_S_5ug",
          "PL_S_5ug",
          "PL_S_5ug",
          "CB_F_1ug",
          "CB_F_1ug",
          "CB_F_1ug",
          "PL_F_1ug",
          "PL_F_1ug",
          "PL_F_1ug",
          "CB_S_1ug",
          "CB_S_1ug",
          "CB_S_1ug",
          "PL_S_1ug",
          "PL_S_1ug",
          "PL_S_1ug",
          "CB_F_25ug",
          "CB_F_25ug",
          "CB_F_25ug",
          "PL_F_25ug",
          "PL_F_25ug",
          "PL_F_25ug",
          "CB_S_25ug",
          "CB_S_25ug",
          "CB_S_25ug",
          "PL_S_25ug",
          "PL_S_25ug",
          "PL_S_25ug",
          "CB_F_5ug",
          "CB_F_5ug",
          "CB_F_5ug",
          "PL_F_5ug",
          "PL_F_5ug",
          "PL_F_5ug",
          "CB_S_5ug",
          "CB_S_5ug",
          "CB_S_5ug",
          "PL_S_5ug",
          "PL_S_5ug",
          "PL_S_5ug",
          "CB_F_1ug",
          "CB_F_1ug",
          "CB_F_1ug",
          "PL_F_1ug",
          "PL_F_1ug",
          "PL_F_1ug",
          "CB_S_1ug",
          "CB_S_1ug",
          "CB_S_1ug",
          "PL_S_1ug",
          "PL_S_1ug",
          "PL_S_1ug",
          "CB_F_25ug",
          "CB_F_25ug",
          "CB_F_25ug",
          "PL_F_25ug",
          "PL_F_25ug",
          "PL_F_25ug",
          "CB_S_25ug",
          "CB_S_25ug",
          "CB_S_25ug",
          "PL_S_25ug",
          "PL_S_25ug",
          "PL_S_25ug",
          "CB_F_5ug",
          "CB_F_5ug",
          "CB_F_5ug",
          "PL_F_5ug",
          "PL_F_5ug",
          "PL_F_5ug",
          "CB_S_5ug",
          "CB_S_5ug",
          "CB_S_5ug",
          "PL_S_5ug",
          "PL_S_5ug",
          "PL_S_5ug",
          "CB_F_1ug",
          "CB_F_1ug",
          "CB_F_1ug",
          "PL_F_1ug",
          "PL_F_1ug",
          "PL_F_1ug",
          "CB_S_1ug",
          "CB_S_1ug",
          "CB_S_1ug",
          "PL_S_1ug",
          "PL_S_1ug",
          "PL_S_1ug",
          "CB_F_25ug",
          "CB_F_25ug",
          "CB_F_25ug",
          "PL_F_25ug",
          "PL_F_25ug",
          "PL_F_25ug",
          "CB_S_25ug",
          "CB_S_25ug",
          "CB_S_25ug",
          "PL_S_25ug",
          "PL_S_25ug",
          "PL_S_25ug",
          "CB_F_5ug",
          "CB_F_5ug",
          "CB_F_5ug",
          "PL_F_5ug",
          "PL_F_5ug",
          "PL_F_5ug",
          "CB_S_5ug",
          "CB_S_5ug",
          "CB_S_5ug",
          "PL_S_5ug",
          "PL_S_5ug",
          "PL_S_5ug",
          "CB_F_1ug",
          "CB_F_1ug",
          "CB_F_1ug",
          "PL_F_1ug",
          "PL_F_1ug",
          "PL_F_1ug",
          "CB_S_1ug",
          "CB_S_1ug",
          "CB_S_1ug",
          "PL_S_1ug",
          "PL_S_1ug",
          "PL_S_1ug",
          "CB_F_25ug",
          "CB_F_25ug",
          "CB_F_25ug",
          "PL_F_25ug",
          "PL_F_25ug",
          "PL_F_25ug",
          "CB_S_25ug",
          "CB_S_25ug",
          "CB_S_25ug",
          "PL_S_25ug",
          "PL_S_25ug",
          "PL_S_25ug",
          "CB_F_5ug",
          "CB_F_5ug",
          "CB_F_5ug",
          "PL_F_5ug",
          "PL_F_5ug",
          "PL_F_5ug",
          "CB_S_5ug",
          "CB_S_5ug",
          "CB_S_5ug",
          "PL_S_5ug",
          "PL_S_5ug",
          "PL_S_5ug",
          "CB_F_1ug",
          "CB_F_1ug",
          "CB_F_1ug",
          "PL_F_1ug",
          "PL_F_1ug",
          "PL_F_1ug",
          "CB_S_1ug",
          "CB_S_1ug",
          "CB_S_1ug",
          "PL_S_1ug",
          "PL_S_1ug",
          "PL_S_1ug",
          "CB_F_25ug",
          "CB_F_25ug",
          "CB_F_25ug",
          "PL_F_25ug",
          "PL_F_25ug",
          "PL_F_25ug",
          "CB_S_25ug",
          "CB_S_25ug",
          "CB_S_25ug",
          "PL_S_25ug",
          "PL_S_25ug",
          "PL_S_25ug",
          "CB_F_5ug",
          "CB_F_5ug",
          "CB_F_5ug",
          "PL_F_5ug",
          "PL_F_5ug",
          "PL_F_5ug",
          "CB_S_5ug",
          "CB_S_5ug",
          "CB_S_5ug",
          "PL_S_5ug",
          "PL_S_5ug",
          "PL_S_5ug",
          "CB_F_1ug",
          "CB_F_1ug",
          "CB_F_1ug",
          "PL_F_1ug",
          "PL_F_1ug",
          "PL_F_1ug",
          "CB_S_1ug",
          "CB_S_1ug",
          "CB_S_1ug",
          "PL_S_1ug",
          "PL_S_1ug",
          "PL_S_1ug",
          "CB_F_25ug",
          "CB_F_25ug",
          "CB_F_25ug",
          "PL_F_25ug",
          "PL_F_25ug",
          "PL_F_25ug",
          "CB_S_25ug",
          "CB_S_25ug",
          "CB_S_25ug",
          "PL_S_25ug",
          "PL_S_25ug",
          "PL_S_25ug",
          "CB_F_5ug",
          "CB_F_5ug",
          "CB_F_5ug",
          "PL_F_5ug",
          "PL_F_5ug",
          "PL_F_5ug",
          "CB_S_5ug",
          "CB_S_5ug",
          "CB_S_5ug",
          "PL_S_5ug",
          "PL_S_5ug",
          "PL_S_5ug",
          "CB_F_1ug",
          "CB_F_1ug",
          "CB_F_1ug",
          "PL_F_1ug",
          "PL_F_1ug",
          "PL_F_1ug",
          "CB_S_1ug",
          "CB_S_1ug",
          "CB_S_1ug",
          "PL_S_1ug",
          "PL_S_1ug",
          "PL_S_1ug",
          "CB_F_25ug",
          "CB_F_25ug",
          "CB_F_25ug",
          "PL_F_25ug",
          "PL_F_25ug",
          "PL_F_25ug",
          "CB_S_25ug",
          "CB_S_25ug",
          "CB_S_25ug",
          "PL_S_25ug",
          "PL_S_25ug",
          "PL_S_25ug",
          "CB_F_5ug",
          "CB_F_5ug",
          "CB_F_5ug",
          "PL_F_5ug",
          "PL_F_5ug",
          "PL_F_5ug",
          "CB_S_5ug",
          "CB_S_5ug",
          "CB_S_5ug",
          "PL_S_5ug",
          "PL_S_5ug",
          "PL_S_5ug"
         ],
         "z": [
          0.268424628,
          0.472690295,
          0.280480505,
          0.316612973,
          0,
          0,
          0.484668415,
          0.400743935,
          0.412744764,
          0.340674279,
          0.400743935,
          0.292530356,
          0.902174181,
          0.232217922,
          0.292530356,
          0,
          0,
          0,
          0.54450902,
          0.110968603,
          0.364715818,
          0.304574434,
          0.316612973,
          0.049804174,
          0.049804174,
          0,
          0.062085482,
          0,
          0,
          0,
          0.484668415,
          0.340674279,
          0.424741535,
          0.13530667,
          4.46961e-05,
          0,
          0.587226252,
          0.310884722,
          0.26753999,
          0.173149248,
          0.149091928,
          0.050976652,
          0.051296511,
          0.062657703,
          62.08644159,
          0.148818999,
          0.203361442,
          0.474647362,
          0.977548653,
          0.248836261,
          0.28041328,
          0.184758413,
          0.107393032,
          0.199442317,
          0.274560367,
          0.159237716,
          107.8805003,
          0.183596862,
          0.10269515,
          0.397905926,
          0.665687802,
          0.255847147,
          0.342588141,
          0.149975972,
          0.172831669,
          0.089418691,
          0.125716982,
          0.158079429,
          0.170829146,
          0.155763338,
          0.117649471,
          0.321446017,
          0.009397477,
          0,
          0.124019181,
          0.091154704,
          0,
          0,
          0.093891204,
          0.088418655,
          0.181642449,
          0.132243357,
          0.192630927,
          0.189883475,
          0.523407551,
          0,
          0.074745669,
          0.033823269,
          0.072623381,
          0.350985413,
          0.140470349,
          0.178895894,
          0.310945396,
          0.622924679,
          0.055627227,
          0.228366512,
          0.050170952,
          0,
          0.036545344,
          0,
          0.14999839,
          0,
          0.162421583,
          0.001319686,
          0.082947961,
          0,
          0,
          0.009397477,
          13.77321877,
          15.96999848,
          14.0206441,
          20.48793331,
          15.70825455,
          19.44752335,
          0,
          0,
          2.501764598,
          8.448780902,
          16.08924293,
          25.01420322,
          37.11714126,
          22.82572669,
          20.21813912,
          16.6004136,
          13.49759211,
          22.08296617,
          5.471940368,
          5.381173747,
          19.33381459,
          14.7488383,
          3.275982845,
          17.37022486,
          33.24722437,
          14.28686118,
          11.706537,
          13.12686767,
          18.28996907,
          13.33364984,
          1.66506294,
          1.557973402,
          7.450561665,
          6.601457119,
          2.825580402,
          10.08025271,
          2.012536982,
          1.426220442,
          0.761639678,
          1.101252568,
          1.623982473,
          2.675676224,
          0.039849431,
          0.153763039,
          0.889138687,
          0.895268731,
          1.589340269,
          1.908262482,
          4.657912343,
          1.70463671,
          1.285189036,
          0.907528896,
          1.308308971,
          3.348043202,
          1.8518339,
          1.623683142,
          1.465465971,
          1.207933248,
          1.190765777,
          1.596699402,
          3.950534168,
          1.27783119,
          1.303583788,
          1.135585823,
          1.801903401,
          1.501867284,
          1.009292117,
          1.112288178,
          1.174824712,
          0.815580168,
          1.064467748,
          2.136446776,
          0.510002476,
          0.260136659,
          0.42111411,
          0.249844995,
          0.339298733,
          0.201949736,
          0,
          0.036303574,
          0.455313515,
          0.249844995,
          0.670469482,
          0.544165842,
          2.575603728,
          0.064007911,
          0.619283237,
          0.239550898,
          0.295556842,
          0.903695509,
          0.704581194,
          0.414272364,
          80.45855743,
          0.342392748,
          0.496333522,
          0.400586923,
          1.619608124,
          0.414272364,
          0.615869986,
          0.314988177,
          0.413649801,
          0.096422345,
          0.516836167,
          0.386898808,
          0.704581194,
          0.318414472,
          0.520252818,
          0.878413825,
          0.004142389,
          0.018424132,
          0.02730975,
          0.009662046,
          0.016415051,
          0.008217031,
          0.015905367,
          0.009662046,
          0.074653754,
          0.045311327,
          0.026034642,
          0.028586534,
          0.133587455,
          0.029225532,
          0,
          0.015905367,
          0.004186411,
          0.021249357,
          0.002937789,
          0.040142974,
          0.08912876,
          0.078594246,
          0,
          0.068099398,
          0.013397806,
          0.010903437,
          0.015905367,
          0.012772883,
          0.004186411,
          0.031694592,
          0.018424132,
          0.017793477,
          0.038853715,
          0,
          0.010903437,
          0.022220187,
          1.609182443,
          1.119392086,
          0.502006683,
          0.58484765,
          0.646368894,
          1.187114361,
          0,
          0,
          0.874745116,
          0.858917669,
          1.514548385,
          1.429383718,
          7.346225888,
          1.841025348,
          0.479696623,
          0.573872044,
          0.590715049,
          4.269078198,
          1.000405327,
          1.196322037,
          1.353824926,
          1.067818791,
          0.974359924,
          1.524536523,
          2.334938618,
          1.016000693,
          0.958700059,
          0.916816583,
          1.018309633,
          0.4201135,
          0.73657409,
          1.109096346,
          0.984786154,
          0.880014691,
          1.186093312,
          3.015556869,
          2994.880357,
          1874.982343,
          1349.178328,
          1791.111789,
          1624.361463,
          2860.262601,
          0.103518689,
          0.055062342,
          1257.074409,
          1139.834569,
          2511.159163,
          2405.407872,
          3988.496424,
          2878.175628,
          2406.22208,
          1541.465277,
          1566.906399,
          3520.42975,
          3193.677406,
          2552.053003,
          2214.575083,
          1576.547845,
          1894.869983,
          2342.476726,
          3624.493939,
          1736.688073,
          1767.938835,
          1676.855952,
          1779.558107,
          1296.514993,
          1315.767051,
          1393.28078,
          1321.112511,
          1025.078249,
          1371.451688,
          2800.765627,
          0.967662517,
          1.867020625,
          0.767606577,
          2.788347888,
          3.202473713,
          2.963874875,
          0.07119562,
          0.010203999,
          0.131283035,
          0.577746697,
          1.344360994,
          1.669063817,
          3.883050855,
          2.713257156,
          1.49601827,
          1.347974715,
          2.092670682,
          4.56341106,
          0.588722748,
          0.353791768,
          0.69102719,
          1.159861349,
          0.093792788,
          1.607808684,
          3.936409082,
          1.643845211,
          0.687377526,
          1.257587665,
          3.623469795,
          2.288909345,
          0.357477307,
          0.209535944,
          0.683727575,
          0.294741402,
          0.416373285,
          1.47436742
         ]
        }
       ],
       "frames": [],
       "layout": {
        "autosize": true,
        "margin": {
         "b": 0,
         "l": 0,
         "r": 0,
         "t": 65
        },
        "template": {
         "data": {
          "bar": [
           {
            "error_x": {
             "color": "#2a3f5f"
            },
            "error_y": {
             "color": "#2a3f5f"
            },
            "marker": {
             "line": {
              "color": "#E5ECF6",
              "width": 0.5
             }
            },
            "type": "bar"
           }
          ],
          "barpolar": [
           {
            "marker": {
             "line": {
              "color": "#E5ECF6",
              "width": 0.5
             }
            },
            "type": "barpolar"
           }
          ],
          "carpet": [
           {
            "aaxis": {
             "endlinecolor": "#2a3f5f",
             "gridcolor": "white",
             "linecolor": "white",
             "minorgridcolor": "white",
             "startlinecolor": "#2a3f5f"
            },
            "baxis": {
             "endlinecolor": "#2a3f5f",
             "gridcolor": "white",
             "linecolor": "white",
             "minorgridcolor": "white",
             "startlinecolor": "#2a3f5f"
            },
            "type": "carpet"
           }
          ],
          "choropleth": [
           {
            "colorbar": {
             "outlinewidth": 0,
             "ticks": ""
            },
            "type": "choropleth"
           }
          ],
          "contour": [
           {
            "colorbar": {
             "outlinewidth": 0,
             "ticks": ""
            },
            "colorscale": [
             [
              0,
              "#0d0887"
             ],
             [
              0.1111111111111111,
              "#46039f"
             ],
             [
              0.2222222222222222,
              "#7201a8"
             ],
             [
              0.3333333333333333,
              "#9c179e"
             ],
             [
              0.4444444444444444,
              "#bd3786"
             ],
             [
              0.5555555555555556,
              "#d8576b"
             ],
             [
              0.6666666666666666,
              "#ed7953"
             ],
             [
              0.7777777777777778,
              "#fb9f3a"
             ],
             [
              0.8888888888888888,
              "#fdca26"
             ],
             [
              1,
              "#f0f921"
             ]
            ],
            "type": "contour"
           }
          ],
          "contourcarpet": [
           {
            "colorbar": {
             "outlinewidth": 0,
             "ticks": ""
            },
            "type": "contourcarpet"
           }
          ],
          "heatmap": [
           {
            "colorbar": {
             "outlinewidth": 0,
             "ticks": ""
            },
            "colorscale": [
             [
              0,
              "#0d0887"
             ],
             [
              0.1111111111111111,
              "#46039f"
             ],
             [
              0.2222222222222222,
              "#7201a8"
             ],
             [
              0.3333333333333333,
              "#9c179e"
             ],
             [
              0.4444444444444444,
              "#bd3786"
             ],
             [
              0.5555555555555556,
              "#d8576b"
             ],
             [
              0.6666666666666666,
              "#ed7953"
             ],
             [
              0.7777777777777778,
              "#fb9f3a"
             ],
             [
              0.8888888888888888,
              "#fdca26"
             ],
             [
              1,
              "#f0f921"
             ]
            ],
            "type": "heatmap"
           }
          ],
          "heatmapgl": [
           {
            "colorbar": {
             "outlinewidth": 0,
             "ticks": ""
            },
            "colorscale": [
             [
              0,
              "#0d0887"
             ],
             [
              0.1111111111111111,
              "#46039f"
             ],
             [
              0.2222222222222222,
              "#7201a8"
             ],
             [
              0.3333333333333333,
              "#9c179e"
             ],
             [
              0.4444444444444444,
              "#bd3786"
             ],
             [
              0.5555555555555556,
              "#d8576b"
             ],
             [
              0.6666666666666666,
              "#ed7953"
             ],
             [
              0.7777777777777778,
              "#fb9f3a"
             ],
             [
              0.8888888888888888,
              "#fdca26"
             ],
             [
              1,
              "#f0f921"
             ]
            ],
            "type": "heatmapgl"
           }
          ],
          "histogram": [
           {
            "marker": {
             "colorbar": {
              "outlinewidth": 0,
              "ticks": ""
             }
            },
            "type": "histogram"
           }
          ],
          "histogram2d": [
           {
            "colorbar": {
             "outlinewidth": 0,
             "ticks": ""
            },
            "colorscale": [
             [
              0,
              "#0d0887"
             ],
             [
              0.1111111111111111,
              "#46039f"
             ],
             [
              0.2222222222222222,
              "#7201a8"
             ],
             [
              0.3333333333333333,
              "#9c179e"
             ],
             [
              0.4444444444444444,
              "#bd3786"
             ],
             [
              0.5555555555555556,
              "#d8576b"
             ],
             [
              0.6666666666666666,
              "#ed7953"
             ],
             [
              0.7777777777777778,
              "#fb9f3a"
             ],
             [
              0.8888888888888888,
              "#fdca26"
             ],
             [
              1,
              "#f0f921"
             ]
            ],
            "type": "histogram2d"
           }
          ],
          "histogram2dcontour": [
           {
            "colorbar": {
             "outlinewidth": 0,
             "ticks": ""
            },
            "colorscale": [
             [
              0,
              "#0d0887"
             ],
             [
              0.1111111111111111,
              "#46039f"
             ],
             [
              0.2222222222222222,
              "#7201a8"
             ],
             [
              0.3333333333333333,
              "#9c179e"
             ],
             [
              0.4444444444444444,
              "#bd3786"
             ],
             [
              0.5555555555555556,
              "#d8576b"
             ],
             [
              0.6666666666666666,
              "#ed7953"
             ],
             [
              0.7777777777777778,
              "#fb9f3a"
             ],
             [
              0.8888888888888888,
              "#fdca26"
             ],
             [
              1,
              "#f0f921"
             ]
            ],
            "type": "histogram2dcontour"
           }
          ],
          "mesh3d": [
           {
            "colorbar": {
             "outlinewidth": 0,
             "ticks": ""
            },
            "type": "mesh3d"
           }
          ],
          "parcoords": [
           {
            "line": {
             "colorbar": {
              "outlinewidth": 0,
              "ticks": ""
             }
            },
            "type": "parcoords"
           }
          ],
          "pie": [
           {
            "automargin": true,
            "type": "pie"
           }
          ],
          "scatter": [
           {
            "marker": {
             "colorbar": {
              "outlinewidth": 0,
              "ticks": ""
             }
            },
            "type": "scatter"
           }
          ],
          "scatter3d": [
           {
            "line": {
             "colorbar": {
              "outlinewidth": 0,
              "ticks": ""
             }
            },
            "marker": {
             "colorbar": {
              "outlinewidth": 0,
              "ticks": ""
             }
            },
            "type": "scatter3d"
           }
          ],
          "scattercarpet": [
           {
            "marker": {
             "colorbar": {
              "outlinewidth": 0,
              "ticks": ""
             }
            },
            "type": "scattercarpet"
           }
          ],
          "scattergeo": [
           {
            "marker": {
             "colorbar": {
              "outlinewidth": 0,
              "ticks": ""
             }
            },
            "type": "scattergeo"
           }
          ],
          "scattergl": [
           {
            "marker": {
             "colorbar": {
              "outlinewidth": 0,
              "ticks": ""
             }
            },
            "type": "scattergl"
           }
          ],
          "scattermapbox": [
           {
            "marker": {
             "colorbar": {
              "outlinewidth": 0,
              "ticks": ""
             }
            },
            "type": "scattermapbox"
           }
          ],
          "scatterpolar": [
           {
            "marker": {
             "colorbar": {
              "outlinewidth": 0,
              "ticks": ""
             }
            },
            "type": "scatterpolar"
           }
          ],
          "scatterpolargl": [
           {
            "marker": {
             "colorbar": {
              "outlinewidth": 0,
              "ticks": ""
             }
            },
            "type": "scatterpolargl"
           }
          ],
          "scatterternary": [
           {
            "marker": {
             "colorbar": {
              "outlinewidth": 0,
              "ticks": ""
             }
            },
            "type": "scatterternary"
           }
          ],
          "surface": [
           {
            "colorbar": {
             "outlinewidth": 0,
             "ticks": ""
            },
            "colorscale": [
             [
              0,
              "#0d0887"
             ],
             [
              0.1111111111111111,
              "#46039f"
             ],
             [
              0.2222222222222222,
              "#7201a8"
             ],
             [
              0.3333333333333333,
              "#9c179e"
             ],
             [
              0.4444444444444444,
              "#bd3786"
             ],
             [
              0.5555555555555556,
              "#d8576b"
             ],
             [
              0.6666666666666666,
              "#ed7953"
             ],
             [
              0.7777777777777778,
              "#fb9f3a"
             ],
             [
              0.8888888888888888,
              "#fdca26"
             ],
             [
              1,
              "#f0f921"
             ]
            ],
            "type": "surface"
           }
          ],
          "table": [
           {
            "cells": {
             "fill": {
              "color": "#EBF0F8"
             },
             "line": {
              "color": "white"
             }
            },
            "header": {
             "fill": {
              "color": "#C8D4E3"
             },
             "line": {
              "color": "white"
             }
            },
            "type": "table"
           }
          ]
         },
         "layout": {
          "annotationdefaults": {
           "arrowcolor": "#2a3f5f",
           "arrowhead": 0,
           "arrowwidth": 1
          },
          "autotypenumbers": "strict",
          "coloraxis": {
           "colorbar": {
            "outlinewidth": 0,
            "ticks": ""
           }
          },
          "colorscale": {
           "diverging": [
            [
             0,
             "#8e0152"
            ],
            [
             0.1,
             "#c51b7d"
            ],
            [
             0.2,
             "#de77ae"
            ],
            [
             0.3,
             "#f1b6da"
            ],
            [
             0.4,
             "#fde0ef"
            ],
            [
             0.5,
             "#f7f7f7"
            ],
            [
             0.6,
             "#e6f5d0"
            ],
            [
             0.7,
             "#b8e186"
            ],
            [
             0.8,
             "#7fbc41"
            ],
            [
             0.9,
             "#4d9221"
            ],
            [
             1,
             "#276419"
            ]
           ],
           "sequential": [
            [
             0,
             "#0d0887"
            ],
            [
             0.1111111111111111,
             "#46039f"
            ],
            [
             0.2222222222222222,
             "#7201a8"
            ],
            [
             0.3333333333333333,
             "#9c179e"
            ],
            [
             0.4444444444444444,
             "#bd3786"
            ],
            [
             0.5555555555555556,
             "#d8576b"
            ],
            [
             0.6666666666666666,
             "#ed7953"
            ],
            [
             0.7777777777777778,
             "#fb9f3a"
            ],
            [
             0.8888888888888888,
             "#fdca26"
            ],
            [
             1,
             "#f0f921"
            ]
           ],
           "sequentialminus": [
            [
             0,
             "#0d0887"
            ],
            [
             0.1111111111111111,
             "#46039f"
            ],
            [
             0.2222222222222222,
             "#7201a8"
            ],
            [
             0.3333333333333333,
             "#9c179e"
            ],
            [
             0.4444444444444444,
             "#bd3786"
            ],
            [
             0.5555555555555556,
             "#d8576b"
            ],
            [
             0.6666666666666666,
             "#ed7953"
            ],
            [
             0.7777777777777778,
             "#fb9f3a"
            ],
            [
             0.8888888888888888,
             "#fdca26"
            ],
            [
             1,
             "#f0f921"
            ]
           ]
          },
          "colorway": [
           "#636efa",
           "#EF553B",
           "#00cc96",
           "#ab63fa",
           "#FFA15A",
           "#19d3f3",
           "#FF6692",
           "#B6E880",
           "#FF97FF",
           "#FECB52"
          ],
          "font": {
           "color": "#2a3f5f"
          },
          "geo": {
           "bgcolor": "white",
           "lakecolor": "white",
           "landcolor": "#E5ECF6",
           "showlakes": true,
           "showland": true,
           "subunitcolor": "white"
          },
          "hoverlabel": {
           "align": "left"
          },
          "hovermode": "closest",
          "mapbox": {
           "style": "light"
          },
          "paper_bgcolor": "white",
          "plot_bgcolor": "#E5ECF6",
          "polar": {
           "angularaxis": {
            "gridcolor": "white",
            "linecolor": "white",
            "ticks": ""
           },
           "bgcolor": "#E5ECF6",
           "radialaxis": {
            "gridcolor": "white",
            "linecolor": "white",
            "ticks": ""
           }
          },
          "scene": {
           "xaxis": {
            "backgroundcolor": "#E5ECF6",
            "gridcolor": "white",
            "gridwidth": 2,
            "linecolor": "white",
            "showbackground": true,
            "ticks": "",
            "zerolinecolor": "white"
           },
           "yaxis": {
            "backgroundcolor": "#E5ECF6",
            "gridcolor": "white",
            "gridwidth": 2,
            "linecolor": "white",
            "showbackground": true,
            "ticks": "",
            "zerolinecolor": "white"
           },
           "zaxis": {
            "backgroundcolor": "#E5ECF6",
            "gridcolor": "white",
            "gridwidth": 2,
            "linecolor": "white",
            "showbackground": true,
            "ticks": "",
            "zerolinecolor": "white"
           }
          },
          "shapedefaults": {
           "line": {
            "color": "#2a3f5f"
           }
          },
          "ternary": {
           "aaxis": {
            "gridcolor": "white",
            "linecolor": "white",
            "ticks": ""
           },
           "baxis": {
            "gridcolor": "white",
            "linecolor": "white",
            "ticks": ""
           },
           "bgcolor": "#E5ECF6",
           "caxis": {
            "gridcolor": "white",
            "linecolor": "white",
            "ticks": ""
           }
          },
          "title": {
           "x": 0.05
          },
          "xaxis": {
           "automargin": true,
           "gridcolor": "white",
           "linecolor": "white",
           "ticks": "",
           "title": {
            "standoff": 15
           },
           "zerolinecolor": "white",
           "zerolinewidth": 2
          },
          "yaxis": {
           "automargin": true,
           "gridcolor": "white",
           "linecolor": "white",
           "ticks": "",
           "title": {
            "standoff": 15
           },
           "zerolinecolor": "white",
           "zerolinewidth": 2
          }
         }
        },
        "xaxis": {
         "autorange": true,
         "range": [
          -0.5,
          9.5
         ],
         "type": "category"
        },
        "yaxis": {
         "autorange": true,
         "range": [
          -0.5,
          11.5
         ],
         "type": "category"
        }
       }
      },
      "image/png": "[encoded data removed]",
      "text/html": [
       "<div\n",
       "    class=\"webio-mountpoint\"\n",
       "    data-webio-mountpoint=\"2175946624937688044\"\n",
       ">\n",
       "    <script>\n",
       "    (function(){\n",
       "    // Some integrations (namely, IJulia/Jupyter) use an alternate render pathway than\n",
       "    // just putting the html on the page. If WebIO isn't defined, then it's pretty likely\n",
       "    // that we're in one of those situations and the integration just isn't installed\n",
       "    // correctly.\n",
       "    if (typeof window.WebIO === \"undefined\") {\n",
       "        document\n",
       "            .querySelector('[data-webio-mountpoint=\"2175946624937688044\"]')\n",
       "            .innerHTML = (\n",
       "                '<div style=\"padding: 1em; background-color: #f8d6da; border: 1px solid #f5c6cb; font-weight: bold;\">' +\n",
       "                '<p><strong>WebIO not detected.</strong></p>' +\n",
       "                '<p>Please read ' +\n",
       "                '<a href=\"https://juliagizmos.github.io/WebIO.jl/latest/troubleshooting/not-detected/\" target=\"_blank\">the troubleshooting guide</a> ' +\n",
       "                'for more information on how to resolve this issue.</p>' +\n",
       "                '<p><a href=\"https://juliagizmos.github.io/WebIO.jl/latest/troubleshooting/not-detected/\" target=\"_blank\">https://juliagizmos.github.io/WebIO.jl/latest/troubleshooting/not-detected/</a></p>' +\n",
       "                '</div>'\n",
       "            );\n",
       "        return;\n",
       "    }\n",
       "    WebIO.mount(\n",
       "        document.querySelector('[data-webio-mountpoint=\"2175946624937688044\"]'),\n",
       "        {\"props\":{},\"nodeType\":\"Scope\",\"type\":\"node\",\"instanceArgs\":{\"imports\":{\"data\":[{\"name\":\"Plotly\",\"type\":\"js\",\"url\":\"\\/assetserver\\/2c1443c4a3fadd5de9f99c6b5d8fa0ad35f7de28-plotly.min.js\"},{\"name\":null,\"type\":\"js\",\"url\":\"\\/assetserver\\/a617ad3fbd31c68e6d8336a472e6356f3a4cb577-plotly_webio.bundle.js\"}],\"type\":\"async_block\"},\"id\":\"8625449688446784598\",\"handlers\":{\"_toImage\":[\"(function (options){return this.Plotly.toImage(this.plotElem,options).then((function (data){return WebIO.setval({\\\"name\\\":\\\"image\\\",\\\"scope\\\":\\\"8625449688446784598\\\",\\\"id\\\":\\\"15479654850634591480\\\",\\\"type\\\":\\\"observable\\\"},data)}))})\"],\"__get_gd_contents\":[\"(function (prop){prop==\\\"data\\\" ? (WebIO.setval({\\\"name\\\":\\\"__gd_contents\\\",\\\"scope\\\":\\\"8625449688446784598\\\",\\\"id\\\":\\\"15222384505598127596\\\",\\\"type\\\":\\\"observable\\\"},this.plotElem.data)) : undefined; return prop==\\\"layout\\\" ? (WebIO.setval({\\\"name\\\":\\\"__gd_contents\\\",\\\"scope\\\":\\\"8625449688446784598\\\",\\\"id\\\":\\\"15222384505598127596\\\",\\\"type\\\":\\\"observable\\\"},this.plotElem.layout)) : undefined})\"],\"_downloadImage\":[\"(function (options){return this.Plotly.downloadImage(this.plotElem,options)})\"],\"_commands\":[\"(function (args){var fn=args.shift(); var elem=this.plotElem; var Plotly=this.Plotly; args.unshift(elem); return Plotly[fn].apply(this,args)})\"]},\"systemjs_options\":null,\"mount_callbacks\":[\"function () {\\n    var handler = ((function (Plotly,PlotlyWebIO){PlotlyWebIO.init(WebIO); var gd=this.dom.querySelector(\\\"#plot-85119f88-8dfb-4721-ab97-d3daaba21a2e\\\"); this.plotElem=gd; this.Plotly=Plotly; (window.Blink!==undefined) ? (gd.style.width=\\\"100%\\\", gd.style.height=\\\"100vh\\\", gd.style.marginLeft=\\\"0%\\\", gd.style.marginTop=\\\"0vh\\\") : undefined; window.onresize=(function (){return Plotly.Plots.resize(gd)}); Plotly.newPlot(gd,[{\\\"y\\\":[\\\"CB_F_1ug\\\",\\\"CB_F_1ug\\\",\\\"CB_F_1ug\\\",\\\"PL_F_1ug\\\",\\\"PL_F_1ug\\\",\\\"PL_F_1ug\\\",\\\"CB_S_1ug\\\",\\\"CB_S_1ug\\\",\\\"CB_S_1ug\\\",\\\"PL_S_1ug\\\",\\\"PL_S_1ug\\\",\\\"PL_S_1ug\\\",\\\"CB_F_25ug\\\",\\\"CB_F_25ug\\\",\\\"CB_F_25ug\\\",\\\"PL_F_25ug\\\",\\\"PL_F_25ug\\\",\\\"PL_F_25ug\\\",\\\"CB_S_25ug\\\",\\\"CB_S_25ug\\\",\\\"CB_S_25ug\\\",\\\"PL_S_25ug\\\",\\\"PL_S_25ug\\\",\\\"PL_S_25ug\\\",\\\"CB_F_5ug\\\",\\\"CB_F_5ug\\\",\\\"CB_F_5ug\\\",\\\"PL_F_5ug\\\",\\\"PL_F_5ug\\\",\\\"PL_F_5ug\\\",\\\"CB_S_5ug\\\",\\\"CB_S_5ug\\\",\\\"CB_S_5ug\\\",\\\"PL_S_5ug\\\",\\\"PL_S_5ug\\\",\\\"PL_S_5ug\\\",\\\"CB_F_1ug\\\",\\\"CB_F_1ug\\\",\\\"CB_F_1ug\\\",\\\"PL_F_1ug\\\",\\\"PL_F_1ug\\\",\\\"PL_F_1ug\\\",\\\"CB_S_1ug\\\",\\\"CB_S_1ug\\\",\\\"CB_S_1ug\\\",\\\"PL_S_1ug\\\",\\\"PL_S_1ug\\\",\\\"PL_S_1ug\\\",\\\"CB_F_25ug\\\",\\\"CB_F_25ug\\\",\\\"CB_F_25ug\\\",\\\"PL_F_25ug\\\",\\\"PL_F_25ug\\\",\\\"PL_F_25ug\\\",\\\"CB_S_25ug\\\",\\\"CB_S_25ug\\\",\\\"CB_S_25ug\\\",\\\"PL_S_25ug\\\",\\\"PL_S_25ug\\\",\\\"PL_S_25ug\\\",\\\"CB_F_5ug\\\",\\\"CB_F_5ug\\\",\\\"CB_F_5ug\\\",\\\"PL_F_5ug\\\",\\\"PL_F_5ug\\\",\\\"PL_F_5ug\\\",\\\"CB_S_5ug\\\",\\\"CB_S_5ug\\\",\\\"CB_S_5ug\\\",\\\"PL_S_5ug\\\",\\\"PL_S_5ug\\\",\\\"PL_S_5ug\\\",\\\"CB_F_1ug\\\",\\\"CB_F_1ug\\\",\\\"CB_F_1ug\\\",\\\"PL_F_1ug\\\",\\\"PL_F_1ug\\\",\\\"PL_F_1ug\\\",\\\"CB_S_1ug\\\",\\\"CB_S_1ug\\\",\\\"CB_S_1ug\\\",\\\"PL_S_1ug\\\",\\\"PL_S_1ug\\\",\\\"PL_S_1ug\\\",\\\"CB_F_25ug\\\",\\\"CB_F_25ug\\\",\\\"CB_F_25ug\\\",\\\"PL_F_25ug\\\",\\\"PL_F_25ug\\\",\\\"PL_F_25ug\\\",\\\"CB_S_25ug\\\",\\\"CB_S_25ug\\\",\\\"CB_S_25ug\\\",\\\"PL_S_25ug\\\",\\\"PL_S_25ug\\\",\\\"PL_S_25ug\\\",\\\"CB_F_5ug\\\",\\\"CB_F_5ug\\\",\\\"CB_F_5ug\\\",\\\"PL_F_5ug\\\",\\\"PL_F_5ug\\\",\\\"PL_F_5ug\\\",\\\"CB_S_5ug\\\",\\\"CB_S_5ug\\\",\\\"CB_S_5ug\\\",\\\"PL_S_5ug\\\",\\\"PL_S_5ug\\\",\\\"PL_S_5ug\\\",\\\"CB_F_1ug\\\",\\\"CB_F_1ug\\\",\\\"CB_F_1ug\\\",\\\"PL_F_1ug\\\",\\\"PL_F_1ug\\\",\\\"PL_F_1ug\\\",\\\"CB_S_1ug\\\",\\\"CB_S_1ug\\\",\\\"CB_S_1ug\\\",\\\"PL_S_1ug\\\",\\\"PL_S_1ug\\\",\\\"PL_S_1ug\\\",\\\"CB_F_25ug\\\",\\\"CB_F_25ug\\\",\\\"CB_F_25ug\\\",\\\"PL_F_25ug\\\",\\\"PL_F_25ug\\\",\\\"PL_F_25ug\\\",\\\"CB_S_25ug\\\",\\\"CB_S_25ug\\\",\\\"CB_S_25ug\\\",\\\"PL_S_25ug\\\",\\\"PL_S_25ug\\\",\\\"PL_S_25ug\\\",\\\"CB_F_5ug\\\",\\\"CB_F_5ug\\\",\\\"CB_F_5ug\\\",\\\"PL_F_5ug\\\",\\\"PL_F_5ug\\\",\\\"PL_F_5ug\\\",\\\"CB_S_5ug\\\",\\\"CB_S_5ug\\\",\\\"CB_S_5ug\\\",\\\"PL_S_5ug\\\",\\\"PL_S_5ug\\\",\\\"PL_S_5ug\\\",\\\"CB_F_1ug\\\",\\\"CB_F_1ug\\\",\\\"CB_F_1ug\\\",\\\"PL_F_1ug\\\",\\\"PL_F_1ug\\\",\\\"PL_F_1ug\\\",\\\"CB_S_1ug\\\",\\\"CB_S_1ug\\\",\\\"CB_S_1ug\\\",\\\"PL_S_1ug\\\",\\\"PL_S_1ug\\\",\\\"PL_S_1ug\\\",\\\"CB_F_25ug\\\",\\\"CB_F_25ug\\\",\\\"CB_F_25ug\\\",\\\"PL_F_25ug\\\",\\\"PL_F_25ug\\\",\\\"PL_F_25ug\\\",\\\"CB_S_25ug\\\",\\\"CB_S_25ug\\\",\\\"CB_S_25ug\\\",\\\"PL_S_25ug\\\",\\\"PL_S_25ug\\\",\\\"PL_S_25ug\\\",\\\"CB_F_5ug\\\",\\\"CB_F_5ug\\\",\\\"CB_F_5ug\\\",\\\"PL_F_5ug\\\",\\\"PL_F_5ug\\\",\\\"PL_F_5ug\\\",\\\"CB_S_5ug\\\",\\\"CB_S_5ug\\\",\\\"CB_S_5ug\\\",\\\"PL_S_5ug\\\",\\\"PL_S_5ug\\\",\\\"PL_S_5ug\\\",\\\"CB_F_1ug\\\",\\\"CB_F_1ug\\\",\\\"CB_F_1ug\\\",\\\"PL_F_1ug\\\",\\\"PL_F_1ug\\\",\\\"PL_F_1ug\\\",\\\"CB_S_1ug\\\",\\\"CB_S_1ug\\\",\\\"CB_S_1ug\\\",\\\"PL_S_1ug\\\",\\\"PL_S_1ug\\\",\\\"PL_S_1ug\\\",\\\"CB_F_25ug\\\",\\\"CB_F_25ug\\\",\\\"CB_F_25ug\\\",\\\"PL_F_25ug\\\",\\\"PL_F_25ug\\\",\\\"PL_F_25ug\\\",\\\"CB_S_25ug\\\",\\\"CB_S_25ug\\\",\\\"CB_S_25ug\\\",\\\"PL_S_25ug\\\",\\\"PL_S_25ug\\\",\\\"PL_S_25ug\\\",\\\"CB_F_5ug\\\",\\\"CB_F_5ug\\\",\\\"CB_F_5ug\\\",\\\"PL_F_5ug\\\",\\\"PL_F_5ug\\\",\\\"PL_F_5ug\\\",\\\"CB_S_5ug\\\",\\\"CB_S_5ug\\\",\\\"CB_S_5ug\\\",\\\"PL_S_5ug\\\",\\\"PL_S_5ug\\\",\\\"PL_S_5ug\\\",\\\"CB_F_1ug\\\",\\\"CB_F_1ug\\\",\\\"CB_F_1ug\\\",\\\"PL_F_1ug\\\",\\\"PL_F_1ug\\\",\\\"PL_F_1ug\\\",\\\"CB_S_1ug\\\",\\\"CB_S_1ug\\\",\\\"CB_S_1ug\\\",\\\"PL_S_1ug\\\",\\\"PL_S_1ug\\\",\\\"PL_S_1ug\\\",\\\"CB_F_25ug\\\",\\\"CB_F_25ug\\\",\\\"CB_F_25ug\\\",\\\"PL_F_25ug\\\",\\\"PL_F_25ug\\\",\\\"PL_F_25ug\\\",\\\"CB_S_25ug\\\",\\\"CB_S_25ug\\\",\\\"CB_S_25ug\\\",\\\"PL_S_25ug\\\",\\\"PL_S_25ug\\\",\\\"PL_S_25ug\\\",\\\"CB_F_5ug\\\",\\\"CB_F_5ug\\\",\\\"CB_F_5ug\\\",\\\"PL_F_5ug\\\",\\\"PL_F_5ug\\\",\\\"PL_F_5ug\\\",\\\"CB_S_5ug\\\",\\\"CB_S_5ug\\\",\\\"CB_S_5ug\\\",\\\"PL_S_5ug\\\",\\\"PL_S_5ug\\\",\\\"PL_S_5ug\\\",\\\"CB_F_1ug\\\",\\\"CB_F_1ug\\\",\\\"CB_F_1ug\\\",\\\"PL_F_1ug\\\",\\\"PL_F_1ug\\\",\\\"PL_F_1ug\\\",\\\"CB_S_1ug\\\",\\\"CB_S_1ug\\\",\\\"CB_S_1ug\\\",\\\"PL_S_1ug\\\",\\\"PL_S_1ug\\\",\\\"PL_S_1ug\\\",\\\"CB_F_25ug\\\",\\\"CB_F_25ug\\\",\\\"CB_F_25ug\\\",\\\"PL_F_25ug\\\",\\\"PL_F_25ug\\\",\\\"PL_F_25ug\\\",\\\"CB_S_25ug\\\",\\\"CB_S_25ug\\\",\\\"CB_S_25ug\\\",\\\"PL_S_25ug\\\",\\\"PL_S_25ug\\\",\\\"PL_S_25ug\\\",\\\"CB_F_5ug\\\",\\\"CB_F_5ug\\\",\\\"CB_F_5ug\\\",\\\"PL_F_5ug\\\",\\\"PL_F_5ug\\\",\\\"PL_F_5ug\\\",\\\"CB_S_5ug\\\",\\\"CB_S_5ug\\\",\\\"CB_S_5ug\\\",\\\"PL_S_5ug\\\",\\\"PL_S_5ug\\\",\\\"PL_S_5ug\\\",\\\"CB_F_1ug\\\",\\\"CB_F_1ug\\\",\\\"CB_F_1ug\\\",\\\"PL_F_1ug\\\",\\\"PL_F_1ug\\\",\\\"PL_F_1ug\\\",\\\"CB_S_1ug\\\",\\\"CB_S_1ug\\\",\\\"CB_S_1ug\\\",\\\"PL_S_1ug\\\",\\\"PL_S_1ug\\\",\\\"PL_S_1ug\\\",\\\"CB_F_25ug\\\",\\\"CB_F_25ug\\\",\\\"CB_F_25ug\\\",\\\"PL_F_25ug\\\",\\\"PL_F_25ug\\\",\\\"PL_F_25ug\\\",\\\"CB_S_25ug\\\",\\\"CB_S_25ug\\\",\\\"CB_S_25ug\\\",\\\"PL_S_25ug\\\",\\\"PL_S_25ug\\\",\\\"PL_S_25ug\\\",\\\"CB_F_5ug\\\",\\\"CB_F_5ug\\\",\\\"CB_F_5ug\\\",\\\"PL_F_5ug\\\",\\\"PL_F_5ug\\\",\\\"PL_F_5ug\\\",\\\"CB_S_5ug\\\",\\\"CB_S_5ug\\\",\\\"CB_S_5ug\\\",\\\"PL_S_5ug\\\",\\\"PL_S_5ug\\\",\\\"PL_S_5ug\\\",\\\"CB_F_1ug\\\",\\\"CB_F_1ug\\\",\\\"CB_F_1ug\\\",\\\"PL_F_1ug\\\",\\\"PL_F_1ug\\\",\\\"PL_F_1ug\\\",\\\"CB_S_1ug\\\",\\\"CB_S_1ug\\\",\\\"CB_S_1ug\\\",\\\"PL_S_1ug\\\",\\\"PL_S_1ug\\\",\\\"PL_S_1ug\\\",\\\"CB_F_25ug\\\",\\\"CB_F_25ug\\\",\\\"CB_F_25ug\\\",\\\"PL_F_25ug\\\",\\\"PL_F_25ug\\\",\\\"PL_F_25ug\\\",\\\"CB_S_25ug\\\",\\\"CB_S_25ug\\\",\\\"CB_S_25ug\\\",\\\"PL_S_25ug\\\",\\\"PL_S_25ug\\\",\\\"PL_S_25ug\\\",\\\"CB_F_5ug\\\",\\\"CB_F_5ug\\\",\\\"CB_F_5ug\\\",\\\"PL_F_5ug\\\",\\\"PL_F_5ug\\\",\\\"PL_F_5ug\\\",\\\"CB_S_5ug\\\",\\\"CB_S_5ug\\\",\\\"CB_S_5ug\\\",\\\"PL_S_5ug\\\",\\\"PL_S_5ug\\\",\\\"PL_S_5ug\\\"],\\\"type\\\":\\\"heatmap\\\",\\\"z\\\":[0.268424628,0.472690295,0.280480505,0.316612973,0.0,0.0,0.484668415,0.400743935,0.412744764,0.340674279,0.400743935,0.292530356,0.902174181,0.232217922,0.292530356,0.0,0.0,0.0,0.54450902,0.110968603,0.364715818,0.304574434,0.316612973,0.049804174,0.049804174,0.0,0.062085482,0.0,0.0,0.0,0.484668415,0.340674279,0.424741535,0.13530667,4.46961e-5,0.0,0.587226252,0.310884722,0.26753999,0.173149248,0.149091928,0.050976652,0.051296511,0.062657703,62.08644159,0.148818999,0.203361442,0.474647362,0.977548653,0.248836261,0.28041328,0.184758413,0.107393032,0.199442317,0.274560367,0.159237716,107.8805003,0.183596862,0.10269515,0.397905926,0.665687802,0.255847147,0.342588141,0.149975972,0.172831669,0.089418691,0.125716982,0.158079429,0.170829146,0.155763338,0.117649471,0.321446017,0.009397477,0.0,0.124019181,0.091154704,0.0,0.0,0.093891204,0.088418655,0.181642449,0.132243357,0.192630927,0.189883475,0.523407551,0.0,0.074745669,0.033823269,0.072623381,0.350985413,0.140470349,0.178895894,0.310945396,0.622924679,0.055627227,0.228366512,0.050170952,0.0,0.036545344,0.0,0.14999839,0.0,0.162421583,0.001319686,0.082947961,0.0,0.0,0.009397477,13.77321877,15.96999848,14.0206441,20.48793331,15.70825455,19.44752335,0.0,0.0,2.501764598,8.448780902,16.08924293,25.01420322,37.11714126,22.82572669,20.21813912,16.6004136,13.49759211,22.08296617,5.471940368,5.381173747,19.33381459,14.7488383,3.275982845,17.37022486,33.24722437,14.28686118,11.706537,13.12686767,18.28996907,13.33364984,1.66506294,1.557973402,7.450561665,6.601457119,2.825580402,10.08025271,2.012536982,1.426220442,0.761639678,1.101252568,1.623982473,2.675676224,0.039849431,0.153763039,0.889138687,0.895268731,1.589340269,1.908262482,4.657912343,1.70463671,1.285189036,0.907528896,1.308308971,3.348043202,1.8518339,1.623683142,1.465465971,1.207933248,1.190765777,1.596699402,3.950534168,1.27783119,1.303583788,1.135585823,1.801903401,1.501867284,1.009292117,1.112288178,1.174824712,0.815580168,1.064467748,2.136446776,0.510002476,0.260136659,0.42111411,0.249844995,0.339298733,0.201949736,0.0,0.036303574,0.455313515,0.249844995,0.670469482,0.544165842,2.575603728,0.064007911,0.619283237,0.239550898,0.295556842,0.903695509,0.704581194,0.414272364,80.45855743,0.342392748,0.496333522,0.400586923,1.619608124,0.414272364,0.615869986,0.314988177,0.413649801,0.096422345,0.516836167,0.386898808,0.704581194,0.318414472,0.520252818,0.878413825,0.004142389,0.018424132,0.02730975,0.009662046,0.016415051,0.008217031,0.015905367,0.009662046,0.074653754,0.045311327,0.026034642,0.028586534,0.133587455,0.029225532,0.0,0.015905367,0.004186411,0.021249357,0.002937789,0.040142974,0.08912876,0.078594246,0.0,0.068099398,0.013397806,0.010903437,0.015905367,0.012772883,0.004186411,0.031694592,0.018424132,0.017793477,0.038853715,0.0,0.010903437,0.022220187,1.609182443,1.119392086,0.502006683,0.58484765,0.646368894,1.187114361,0.0,0.0,0.874745116,0.858917669,1.514548385,1.429383718,7.346225888,1.841025348,0.479696623,0.573872044,0.590715049,4.269078198,1.000405327,1.196322037,1.353824926,1.067818791,0.974359924,1.524536523,2.334938618,1.016000693,0.958700059,0.916816583,1.018309633,0.4201135,0.73657409,1.109096346,0.984786154,0.880014691,1.186093312,3.015556869,2994.880357,1874.982343,1349.178328,1791.111789,1624.361463,2860.262601,0.103518689,0.055062342,1257.074409,1139.834569,2511.159163,2405.407872,3988.496424,2878.175628,2406.22208,1541.465277,1566.906399,3520.42975,3193.677406,2552.053003,2214.575083,1576.547845,1894.869983,2342.476726,3624.493939,1736.688073,1767.938835,1676.855952,1779.558107,1296.514993,1315.767051,1393.28078,1321.112511,1025.078249,1371.451688,2800.765627,0.967662517,1.867020625,0.767606577,2.788347888,3.202473713,2.963874875,0.07119562,0.010203999,0.131283035,0.577746697,1.344360994,1.669063817,3.883050855,2.713257156,1.49601827,1.347974715,2.092670682,4.56341106,0.588722748,0.353791768,0.69102719,1.159861349,0.093792788,1.607808684,3.936409082,1.643845211,0.687377526,1.257587665,3.623469795,2.288909345,0.357477307,0.209535944,0.683727575,0.294741402,0.416373285,1.47436742],\\\"transpose\\\":true,\\\"x\\\":[\\\"IFN-?\\\",\\\"IFN-?\\\",\\\"IFN-?\\\",\\\"IFN-?\\\",\\\"IFN-?\\\",\\\"IFN-?\\\",\\\"IFN-?\\\",\\\"IFN-?\\\",\\\"IFN-?\\\",\\\"IFN-?\\\",\\\"IFN-?\\\",\\\"IFN-?\\\",\\\"IFN-?\\\",\\\"IFN-?\\\",\\\"IFN-?\\\",\\\"IFN-?\\\",\\\"IFN-?\\\",\\\"IFN-?\\\",\\\"IFN-?\\\",\\\"IFN-?\\\",\\\"IFN-?\\\",\\\"IFN-?\\\",\\\"IFN-?\\\",\\\"IFN-?\\\",\\\"IFN-?\\\",\\\"IFN-?\\\",\\\"IFN-?\\\",\\\"IFN-?\\\",\\\"IFN-?\\\",\\\"IFN-?\\\",\\\"IFN-?\\\",\\\"IFN-?\\\",\\\"IFN-?\\\",\\\"IFN-?\\\",\\\"IFN-?\\\",\\\"IFN-?\\\",\\\"IL-10\\\",\\\"IL-10\\\",\\\"IL-10\\\",\\\"IL-10\\\",\\\"IL-10\\\",\\\"IL-10\\\",\\\"IL-10\\\",\\\"IL-10\\\",\\\"IL-10\\\",\\\"IL-10\\\",\\\"IL-10\\\",\\\"IL-10\\\",\\\"IL-10\\\",\\\"IL-10\\\",\\\"IL-10\\\",\\\"IL-10\\\",\\\"IL-10\\\",\\\"IL-10\\\",\\\"IL-10\\\",\\\"IL-10\\\",\\\"IL-10\\\",\\\"IL-10\\\",\\\"IL-10\\\",\\\"IL-10\\\",\\\"IL-10\\\",\\\"IL-10\\\",\\\"IL-10\\\",\\\"IL-10\\\",\\\"IL-10\\\",\\\"IL-10\\\",\\\"IL-10\\\",\\\"IL-10\\\",\\\"IL-10\\\",\\\"IL-10\\\",\\\"IL-10\\\",\\\"IL-10\\\",\\\"IL-12p70\\\",\\\"IL-12p70\\\",\\\"IL-12p70\\\",\\\"IL-12p70\\\",\\\"IL-12p70\\\",\\\"IL-12p70\\\",\\\"IL-12p70\\\",\\\"IL-12p70\\\",\\\"IL-12p70\\\",\\\"IL-12p70\\\",\\\"IL-12p70\\\",\\\"IL-12p70\\\",\\\"IL-12p70\\\",\\\"IL-12p70\\\",\\\"IL-12p70\\\",\\\"IL-12p70\\\",\\\"IL-12p70\\\",\\\"IL-12p70\\\",\\\"IL-12p70\\\",\\\"IL-12p70\\\",\\\"IL-12p70\\\",\\\"IL-12p70\\\",\\\"IL-12p70\\\",\\\"IL-12p70\\\",\\\"IL-12p70\\\",\\\"IL-12p70\\\",\\\"IL-12p70\\\",\\\"IL-12p70\\\",\\\"IL-12p70\\\",\\\"IL-12p70\\\",\\\"IL-12p70\\\",\\\"IL-12p70\\\",\\\"IL-12p70\\\",\\\"IL-12p70\\\",\\\"IL-12p70\\\",\\\"IL-12p70\\\",\\\"IL-13\\\",\\\"IL-13\\\",\\\"IL-13\\\",\\\"IL-13\\\",\\\"IL-13\\\",\\\"IL-13\\\",\\\"IL-13\\\",\\\"IL-13\\\",\\\"IL-13\\\",\\\"IL-13\\\",\\\"IL-13\\\",\\\"IL-13\\\",\\\"IL-13\\\",\\\"IL-13\\\",\\\"IL-13\\\",\\\"IL-13\\\",\\\"IL-13\\\",\\\"IL-13\\\",\\\"IL-13\\\",\\\"IL-13\\\",\\\"IL-13\\\",\\\"IL-13\\\",\\\"IL-13\\\",\\\"IL-13\\\",\\\"IL-13\\\",\\\"IL-13\\\",\\\"IL-13\\\",\\\"IL-13\\\",\\\"IL-13\\\",\\\"IL-13\\\",\\\"IL-13\\\",\\\"IL-13\\\",\\\"IL-13\\\",\\\"IL-13\\\",\\\"IL-13\\\",\\\"IL-13\\\",\\\"IL-1?\\\",\\\"IL-1?\\\",\\\"IL-1?\\\",\\\"IL-1?\\\",\\\"IL-1?\\\",\\\"IL-1?\\\",\\\"IL-1?\\\",\\\"IL-1?\\\",\\\"IL-1?\\\",\\\"IL-1?\\\",\\\"IL-1?\\\",\\\"IL-1?\\\",\\\"IL-1?\\\",\\\"IL-1?\\\",\\\"IL-1?\\\",\\\"IL-1?\\\",\\\"IL-1?\\\",\\\"IL-1?\\\",\\\"IL-1?\\\",\\\"IL-1?\\\",\\\"IL-1?\\\",\\\"IL-1?\\\",\\\"IL-1?\\\",\\\"IL-1?\\\",\\\"IL-1?\\\",\\\"IL-1?\\\",\\\"IL-1?\\\",\\\"IL-1?\\\",\\\"IL-1?\\\",\\\"IL-1?\\\",\\\"IL-1?\\\",\\\"IL-1?\\\",\\\"IL-1?\\\",\\\"IL-1?\\\",\\\"IL-1?\\\",\\\"IL-1?\\\",\\\"IL-2\\\",\\\"IL-2\\\",\\\"IL-2\\\",\\\"IL-2\\\",\\\"IL-2\\\",\\\"IL-2\\\",\\\"IL-2\\\",\\\"IL-2\\\",\\\"IL-2\\\",\\\"IL-2\\\",\\\"IL-2\\\",\\\"IL-2\\\",\\\"IL-2\\\",\\\"IL-2\\\",\\\"IL-2\\\",\\\"IL-2\\\",\\\"IL-2\\\",\\\"IL-2\\\",\\\"IL-2\\\",\\\"IL-2\\\",\\\"IL-2\\\",\\\"IL-2\\\",\\\"IL-2\\\",\\\"IL-2\\\",\\\"IL-2\\\",\\\"IL-2\\\",\\\"IL-2\\\",\\\"IL-2\\\",\\\"IL-2\\\",\\\"IL-2\\\",\\\"IL-2\\\",\\\"IL-2\\\",\\\"IL-2\\\",\\\"IL-2\\\",\\\"IL-2\\\",\\\"IL-2\\\",\\\"IL-4\\\",\\\"IL-4\\\",\\\"IL-4\\\",\\\"IL-4\\\",\\\"IL-4\\\",\\\"IL-4\\\",\\\"IL-4\\\",\\\"IL-4\\\",\\\"IL-4\\\",\\\"IL-4\\\",\\\"IL-4\\\",\\\"IL-4\\\",\\\"IL-4\\\",\\\"IL-4\\\",\\\"IL-4\\\",\\\"IL-4\\\",\\\"IL-4\\\",\\\"IL-4\\\",\\\"IL-4\\\",\\\"IL-4\\\",\\\"IL-4\\\",\\\"IL-4\\\",\\\"IL-4\\\",\\\"IL-4\\\",\\\"IL-4\\\",\\\"IL-4\\\",\\\"IL-4\\\",\\\"IL-4\\\",\\\"IL-4\\\",\\\"IL-4\\\",\\\"IL-4\\\",\\\"IL-4\\\",\\\"IL-4\\\",\\\"IL-4\\\",\\\"IL-4\\\",\\\"IL-4\\\",\\\"IL-6\\\",\\\"IL-6\\\",\\\"IL-6\\\",\\\"IL-6\\\",\\\"IL-6\\\",\\\"IL-6\\\",\\\"IL-6\\\",\\\"IL-6\\\",\\\"IL-6\\\",\\\"IL-6\\\",\\\"IL-6\\\",\\\"IL-6\\\",\\\"IL-6\\\",\\\"IL-6\\\",\\\"IL-6\\\",\\\"IL-6\\\",\\\"IL-6\\\",\\\"IL-6\\\",\\\"IL-6\\\",\\\"IL-6\\\",\\\"IL-6\\\",\\\"IL-6\\\",\\\"IL-6\\\",\\\"IL-6\\\",\\\"IL-6\\\",\\\"IL-6\\\",\\\"IL-6\\\",\\\"IL-6\\\",\\\"IL-6\\\",\\\"IL-6\\\",\\\"IL-6\\\",\\\"IL-6\\\",\\\"IL-6\\\",\\\"IL-6\\\",\\\"IL-6\\\",\\\"IL-6\\\",\\\"IL-8\\\",\\\"IL-8\\\",\\\"IL-8\\\",\\\"IL-8\\\",\\\"IL-8\\\",\\\"IL-8\\\",\\\"IL-8\\\",\\\"IL-8\\\",\\\"IL-8\\\",\\\"IL-8\\\",\\\"IL-8\\\",\\\"IL-8\\\",\\\"IL-8\\\",\\\"IL-8\\\",\\\"IL-8\\\",\\\"IL-8\\\",\\\"IL-8\\\",\\\"IL-8\\\",\\\"IL-8\\\",\\\"IL-8\\\",\\\"IL-8\\\",\\\"IL-8\\\",\\\"IL-8\\\",\\\"IL-8\\\",\\\"IL-8\\\",\\\"IL-8\\\",\\\"IL-8\\\",\\\"IL-8\\\",\\\"IL-8\\\",\\\"IL-8\\\",\\\"IL-8\\\",\\\"IL-8\\\",\\\"IL-8\\\",\\\"IL-8\\\",\\\"IL-8\\\",\\\"IL-8\\\",\\\"TNF-�\\\",\\\"TNF-�\\\",\\\"TNF-�\\\",\\\"TNF-�\\\",\\\"TNF-�\\\",\\\"TNF-�\\\",\\\"TNF-�\\\",\\\"TNF-�\\\",\\\"TNF-�\\\",\\\"TNF-�\\\",\\\"TNF-�\\\",\\\"TNF-�\\\",\\\"TNF-�\\\",\\\"TNF-�\\\",\\\"TNF-�\\\",\\\"TNF-�\\\",\\\"TNF-�\\\",\\\"TNF-�\\\",\\\"TNF-�\\\",\\\"TNF-�\\\",\\\"TNF-�\\\",\\\"TNF-�\\\",\\\"TNF-�\\\",\\\"TNF-�\\\",\\\"TNF-�\\\",\\\"TNF-�\\\",\\\"TNF-�\\\",\\\"TNF-�\\\",\\\"TNF-�\\\",\\\"TNF-�\\\",\\\"TNF-�\\\",\\\"TNF-�\\\",\\\"TNF-�\\\",\\\"TNF-�\\\",\\\"TNF-�\\\",\\\"TNF-�\\\"]}],{\\\"template\\\":{\\\"layout\\\":{\\\"coloraxis\\\":{\\\"colorbar\\\":{\\\"ticks\\\":\\\"\\\",\\\"outlinewidth\\\":0}},\\\"xaxis\\\":{\\\"gridcolor\\\":\\\"white\\\",\\\"zerolinewidth\\\":2,\\\"title\\\":{\\\"standoff\\\":15},\\\"ticks\\\":\\\"\\\",\\\"zerolinecolor\\\":\\\"white\\\",\\\"automargin\\\":true,\\\"linecolor\\\":\\\"white\\\"},\\\"hovermode\\\":\\\"closest\\\",\\\"paper_bgcolor\\\":\\\"white\\\",\\\"geo\\\":{\\\"showlakes\\\":true,\\\"showland\\\":true,\\\"landcolor\\\":\\\"#E5ECF6\\\",\\\"bgcolor\\\":\\\"white\\\",\\\"subunitcolor\\\":\\\"white\\\",\\\"lakecolor\\\":\\\"white\\\"},\\\"colorscale\\\":{\\\"sequential\\\":[[0.0,\\\"#0d0887\\\"],[0.1111111111111111,\\\"#46039f\\\"],[0.2222222222222222,\\\"#7201a8\\\"],[0.3333333333333333,\\\"#9c179e\\\"],[0.4444444444444444,\\\"#bd3786\\\"],[0.5555555555555556,\\\"#d8576b\\\"],[0.6666666666666666,\\\"#ed7953\\\"],[0.7777777777777778,\\\"#fb9f3a\\\"],[0.8888888888888888,\\\"#fdca26\\\"],[1.0,\\\"#f0f921\\\"]],\\\"diverging\\\":[[0,\\\"#8e0152\\\"],[0.1,\\\"#c51b7d\\\"],[0.2,\\\"#de77ae\\\"],[0.3,\\\"#f1b6da\\\"],[0.4,\\\"#fde0ef\\\"],[0.5,\\\"#f7f7f7\\\"],[0.6,\\\"#e6f5d0\\\"],[0.7,\\\"#b8e186\\\"],[0.8,\\\"#7fbc41\\\"],[0.9,\\\"#4d9221\\\"],[1,\\\"#276419\\\"]],\\\"sequentialminus\\\":[[0.0,\\\"#0d0887\\\"],[0.1111111111111111,\\\"#46039f\\\"],[0.2222222222222222,\\\"#7201a8\\\"],[0.3333333333333333,\\\"#9c179e\\\"],[0.4444444444444444,\\\"#bd3786\\\"],[0.5555555555555556,\\\"#d8576b\\\"],[0.6666666666666666,\\\"#ed7953\\\"],[0.7777777777777778,\\\"#fb9f3a\\\"],[0.8888888888888888,\\\"#fdca26\\\"],[1.0,\\\"#f0f921\\\"]]},\\\"yaxis\\\":{\\\"gridcolor\\\":\\\"white\\\",\\\"zerolinewidth\\\":2,\\\"title\\\":{\\\"standoff\\\":15},\\\"ticks\\\":\\\"\\\",\\\"zerolinecolor\\\":\\\"white\\\",\\\"automargin\\\":true,\\\"linecolor\\\":\\\"white\\\"},\\\"shapedefaults\\\":{\\\"line\\\":{\\\"color\\\":\\\"#2a3f5f\\\"}},\\\"hoverlabel\\\":{\\\"align\\\":\\\"left\\\"},\\\"mapbox\\\":{\\\"style\\\":\\\"light\\\"},\\\"polar\\\":{\\\"angularaxis\\\":{\\\"gridcolor\\\":\\\"white\\\",\\\"ticks\\\":\\\"\\\",\\\"linecolor\\\":\\\"white\\\"},\\\"bgcolor\\\":\\\"#E5ECF6\\\",\\\"radialaxis\\\":{\\\"gridcolor\\\":\\\"white\\\",\\\"ticks\\\":\\\"\\\",\\\"linecolor\\\":\\\"white\\\"}},\\\"autotypenumbers\\\":\\\"strict\\\",\\\"font\\\":{\\\"color\\\":\\\"#2a3f5f\\\"},\\\"ternary\\\":{\\\"baxis\\\":{\\\"gridcolor\\\":\\\"white\\\",\\\"ticks\\\":\\\"\\\",\\\"linecolor\\\":\\\"white\\\"},\\\"bgcolor\\\":\\\"#E5ECF6\\\",\\\"caxis\\\":{\\\"gridcolor\\\":\\\"white\\\",\\\"ticks\\\":\\\"\\\",\\\"linecolor\\\":\\\"white\\\"},\\\"aaxis\\\":{\\\"gridcolor\\\":\\\"white\\\",\\\"ticks\\\":\\\"\\\",\\\"linecolor\\\":\\\"white\\\"}},\\\"annotationdefaults\\\":{\\\"arrowhead\\\":0,\\\"arrowwidth\\\":1,\\\"arrowcolor\\\":\\\"#2a3f5f\\\"},\\\"plot_bgcolor\\\":\\\"#E5ECF6\\\",\\\"title\\\":{\\\"x\\\":0.05},\\\"scene\\\":{\\\"xaxis\\\":{\\\"gridcolor\\\":\\\"white\\\",\\\"gridwidth\\\":2,\\\"backgroundcolor\\\":\\\"#E5ECF6\\\",\\\"ticks\\\":\\\"\\\",\\\"showbackground\\\":true,\\\"zerolinecolor\\\":\\\"white\\\",\\\"linecolor\\\":\\\"white\\\"},\\\"zaxis\\\":{\\\"gridcolor\\\":\\\"white\\\",\\\"gridwidth\\\":2,\\\"backgroundcolor\\\":\\\"#E5ECF6\\\",\\\"ticks\\\":\\\"\\\",\\\"showbackground\\\":true,\\\"zerolinecolor\\\":\\\"white\\\",\\\"linecolor\\\":\\\"white\\\"},\\\"yaxis\\\":{\\\"gridcolor\\\":\\\"white\\\",\\\"gridwidth\\\":2,\\\"backgroundcolor\\\":\\\"#E5ECF6\\\",\\\"ticks\\\":\\\"\\\",\\\"showbackground\\\":true,\\\"zerolinecolor\\\":\\\"white\\\",\\\"linecolor\\\":\\\"white\\\"}},\\\"colorway\\\":[\\\"#636efa\\\",\\\"#EF553B\\\",\\\"#00cc96\\\",\\\"#ab63fa\\\",\\\"#FFA15A\\\",\\\"#19d3f3\\\",\\\"#FF6692\\\",\\\"#B6E880\\\",\\\"#FF97FF\\\",\\\"#FECB52\\\"]},\\\"data\\\":{\\\"barpolar\\\":[{\\\"type\\\":\\\"barpolar\\\",\\\"marker\\\":{\\\"line\\\":{\\\"color\\\":\\\"#E5ECF6\\\",\\\"width\\\":0.5}}}],\\\"carpet\\\":[{\\\"aaxis\\\":{\\\"gridcolor\\\":\\\"white\\\",\\\"endlinecolor\\\":\\\"#2a3f5f\\\",\\\"minorgridcolor\\\":\\\"white\\\",\\\"startlinecolor\\\":\\\"#2a3f5f\\\",\\\"linecolor\\\":\\\"white\\\"},\\\"type\\\":\\\"carpet\\\",\\\"baxis\\\":{\\\"gridcolor\\\":\\\"white\\\",\\\"endlinecolor\\\":\\\"#2a3f5f\\\",\\\"minorgridcolor\\\":\\\"white\\\",\\\"startlinecolor\\\":\\\"#2a3f5f\\\",\\\"linecolor\\\":\\\"white\\\"}}],\\\"scatterpolar\\\":[{\\\"type\\\":\\\"scatterpolar\\\",\\\"marker\\\":{\\\"colorbar\\\":{\\\"ticks\\\":\\\"\\\",\\\"outlinewidth\\\":0}}}],\\\"parcoords\\\":[{\\\"line\\\":{\\\"colorbar\\\":{\\\"ticks\\\":\\\"\\\",\\\"outlinewidth\\\":0}},\\\"type\\\":\\\"parcoords\\\"}],\\\"scatter\\\":[{\\\"type\\\":\\\"scatter\\\",\\\"marker\\\":{\\\"colorbar\\\":{\\\"ticks\\\":\\\"\\\",\\\"outlinewidth\\\":0}}}],\\\"histogram2dcontour\\\":[{\\\"colorbar\\\":{\\\"ticks\\\":\\\"\\\",\\\"outlinewidth\\\":0},\\\"type\\\":\\\"histogram2dcontour\\\",\\\"colorscale\\\":[[0.0,\\\"#0d0887\\\"],[0.1111111111111111,\\\"#46039f\\\"],[0.2222222222222222,\\\"#7201a8\\\"],[0.3333333333333333,\\\"#9c179e\\\"],[0.4444444444444444,\\\"#bd3786\\\"],[0.5555555555555556,\\\"#d8576b\\\"],[0.6666666666666666,\\\"#ed7953\\\"],[0.7777777777777778,\\\"#fb9f3a\\\"],[0.8888888888888888,\\\"#fdca26\\\"],[1.0,\\\"#f0f921\\\"]]}],\\\"contour\\\":[{\\\"colorbar\\\":{\\\"ticks\\\":\\\"\\\",\\\"outlinewidth\\\":0},\\\"type\\\":\\\"contour\\\",\\\"colorscale\\\":[[0.0,\\\"#0d0887\\\"],[0.1111111111111111,\\\"#46039f\\\"],[0.2222222222222222,\\\"#7201a8\\\"],[0.3333333333333333,\\\"#9c179e\\\"],[0.4444444444444444,\\\"#bd3786\\\"],[0.5555555555555556,\\\"#d8576b\\\"],[0.6666666666666666,\\\"#ed7953\\\"],[0.7777777777777778,\\\"#fb9f3a\\\"],[0.8888888888888888,\\\"#fdca26\\\"],[1.0,\\\"#f0f921\\\"]]}],\\\"scattercarpet\\\":[{\\\"type\\\":\\\"scattercarpet\\\",\\\"marker\\\":{\\\"colorbar\\\":{\\\"ticks\\\":\\\"\\\",\\\"outlinewidth\\\":0}}}],\\\"mesh3d\\\":[{\\\"colorbar\\\":{\\\"ticks\\\":\\\"\\\",\\\"outlinewidth\\\":0},\\\"type\\\":\\\"mesh3d\\\"}],\\\"surface\\\":[{\\\"colorbar\\\":{\\\"ticks\\\":\\\"\\\",\\\"outlinewidth\\\":0},\\\"type\\\":\\\"surface\\\",\\\"colorscale\\\":[[0.0,\\\"#0d0887\\\"],[0.1111111111111111,\\\"#46039f\\\"],[0.2222222222222222,\\\"#7201a8\\\"],[0.3333333333333333,\\\"#9c179e\\\"],[0.4444444444444444,\\\"#bd3786\\\"],[0.5555555555555556,\\\"#d8576b\\\"],[0.6666666666666666,\\\"#ed7953\\\"],[0.7777777777777778,\\\"#fb9f3a\\\"],[0.8888888888888888,\\\"#fdca26\\\"],[1.0,\\\"#f0f921\\\"]]}],\\\"scattermapbox\\\":[{\\\"type\\\":\\\"scattermapbox\\\",\\\"marker\\\":{\\\"colorbar\\\":{\\\"ticks\\\":\\\"\\\",\\\"outlinewidth\\\":0}}}],\\\"scattergeo\\\":[{\\\"type\\\":\\\"scattergeo\\\",\\\"marker\\\":{\\\"colorbar\\\":{\\\"ticks\\\":\\\"\\\",\\\"outlinewidth\\\":0}}}],\\\"histogram\\\":[{\\\"type\\\":\\\"histogram\\\",\\\"marker\\\":{\\\"colorbar\\\":{\\\"ticks\\\":\\\"\\\",\\\"outlinewidth\\\":0}}}],\\\"pie\\\":[{\\\"type\\\":\\\"pie\\\",\\\"automargin\\\":true}],\\\"choropleth\\\":[{\\\"colorbar\\\":{\\\"ticks\\\":\\\"\\\",\\\"outlinewidth\\\":0},\\\"type\\\":\\\"choropleth\\\"}],\\\"heatmapgl\\\":[{\\\"colorbar\\\":{\\\"ticks\\\":\\\"\\\",\\\"outlinewidth\\\":0},\\\"type\\\":\\\"heatmapgl\\\",\\\"colorscale\\\":[[0.0,\\\"#0d0887\\\"],[0.1111111111111111,\\\"#46039f\\\"],[0.2222222222222222,\\\"#7201a8\\\"],[0.3333333333333333,\\\"#9c179e\\\"],[0.4444444444444444,\\\"#bd3786\\\"],[0.5555555555555556,\\\"#d8576b\\\"],[0.6666666666666666,\\\"#ed7953\\\"],[0.7777777777777778,\\\"#fb9f3a\\\"],[0.8888888888888888,\\\"#fdca26\\\"],[1.0,\\\"#f0f921\\\"]]}],\\\"bar\\\":[{\\\"type\\\":\\\"bar\\\",\\\"error_y\\\":{\\\"color\\\":\\\"#2a3f5f\\\"},\\\"error_x\\\":{\\\"color\\\":\\\"#2a3f5f\\\"},\\\"marker\\\":{\\\"line\\\":{\\\"color\\\":\\\"#E5ECF6\\\",\\\"width\\\":0.5}}}],\\\"heatmap\\\":[{\\\"colorbar\\\":{\\\"ticks\\\":\\\"\\\",\\\"outlinewidth\\\":0},\\\"type\\\":\\\"heatmap\\\",\\\"colorscale\\\":[[0.0,\\\"#0d0887\\\"],[0.1111111111111111,\\\"#46039f\\\"],[0.2222222222222222,\\\"#7201a8\\\"],[0.3333333333333333,\\\"#9c179e\\\"],[0.4444444444444444,\\\"#bd3786\\\"],[0.5555555555555556,\\\"#d8576b\\\"],[0.6666666666666666,\\\"#ed7953\\\"],[0.7777777777777778,\\\"#fb9f3a\\\"],[0.8888888888888888,\\\"#fdca26\\\"],[1.0,\\\"#f0f921\\\"]]}],\\\"contourcarpet\\\":[{\\\"colorbar\\\":{\\\"ticks\\\":\\\"\\\",\\\"outlinewidth\\\":0},\\\"type\\\":\\\"contourcarpet\\\"}],\\\"table\\\":[{\\\"type\\\":\\\"table\\\",\\\"header\\\":{\\\"line\\\":{\\\"color\\\":\\\"white\\\"},\\\"fill\\\":{\\\"color\\\":\\\"#C8D4E3\\\"}},\\\"cells\\\":{\\\"line\\\":{\\\"color\\\":\\\"white\\\"},\\\"fill\\\":{\\\"color\\\":\\\"#EBF0F8\\\"}}}],\\\"scatter3d\\\":[{\\\"line\\\":{\\\"colorbar\\\":{\\\"ticks\\\":\\\"\\\",\\\"outlinewidth\\\":0}},\\\"type\\\":\\\"scatter3d\\\",\\\"marker\\\":{\\\"colorbar\\\":{\\\"ticks\\\":\\\"\\\",\\\"outlinewidth\\\":0}}}],\\\"scattergl\\\":[{\\\"type\\\":\\\"scattergl\\\",\\\"marker\\\":{\\\"colorbar\\\":{\\\"ticks\\\":\\\"\\\",\\\"outlinewidth\\\":0}}}],\\\"histogram2d\\\":[{\\\"colorbar\\\":{\\\"ticks\\\":\\\"\\\",\\\"outlinewidth\\\":0},\\\"type\\\":\\\"histogram2d\\\",\\\"colorscale\\\":[[0.0,\\\"#0d0887\\\"],[0.1111111111111111,\\\"#46039f\\\"],[0.2222222222222222,\\\"#7201a8\\\"],[0.3333333333333333,\\\"#9c179e\\\"],[0.4444444444444444,\\\"#bd3786\\\"],[0.5555555555555556,\\\"#d8576b\\\"],[0.6666666666666666,\\\"#ed7953\\\"],[0.7777777777777778,\\\"#fb9f3a\\\"],[0.8888888888888888,\\\"#fdca26\\\"],[1.0,\\\"#f0f921\\\"]]}],\\\"scatterternary\\\":[{\\\"type\\\":\\\"scatterternary\\\",\\\"marker\\\":{\\\"colorbar\\\":{\\\"ticks\\\":\\\"\\\",\\\"outlinewidth\\\":0}}}],\\\"scatterpolargl\\\":[{\\\"type\\\":\\\"scatterpolargl\\\",\\\"marker\\\":{\\\"colorbar\\\":{\\\"ticks\\\":\\\"\\\",\\\"outlinewidth\\\":0}}}]}},\\\"height\\\":600,\\\"margin\\\":{\\\"l\\\":0,\\\"b\\\":0,\\\"r\\\":0,\\\"t\\\":65},\\\"autosize\\\":true},{\\\"showLink\\\":false,\\\"editable\\\":false,\\\"responsive\\\":true,\\\"staticPlot\\\":false,\\\"scrollZoom\\\":true}); gd.on(\\\"plotly_hover\\\",(function (data){var filtered_data=WebIO.PlotlyCommands.filterEventData(gd,data,\\\"hover\\\"); return !(filtered_data.isnil) ? (WebIO.setval({\\\"name\\\":\\\"hover\\\",\\\"scope\\\":\\\"8625449688446784598\\\",\\\"id\\\":\\\"2298643679752661917\\\",\\\"type\\\":\\\"observable\\\"},filtered_data.out)) : undefined})); gd.on(\\\"plotly_unhover\\\",(function (){return WebIO.setval({\\\"name\\\":\\\"hover\\\",\\\"scope\\\":\\\"8625449688446784598\\\",\\\"id\\\":\\\"2298643679752661917\\\",\\\"type\\\":\\\"observable\\\"},{})})); gd.on(\\\"plotly_selected\\\",(function (data){var filtered_data=WebIO.PlotlyCommands.filterEventData(gd,data,\\\"selected\\\"); return !(filtered_data.isnil) ? (WebIO.setval({\\\"name\\\":\\\"selected\\\",\\\"scope\\\":\\\"8625449688446784598\\\",\\\"id\\\":\\\"8710247623993761498\\\",\\\"type\\\":\\\"observable\\\"},filtered_data.out)) : undefined})); gd.on(\\\"plotly_deselect\\\",(function (){return WebIO.setval({\\\"name\\\":\\\"selected\\\",\\\"scope\\\":\\\"8625449688446784598\\\",\\\"id\\\":\\\"8710247623993761498\\\",\\\"type\\\":\\\"observable\\\"},{})})); gd.on(\\\"plotly_relayout\\\",(function (data){var filtered_data=WebIO.PlotlyCommands.filterEventData(gd,data,\\\"relayout\\\"); return !(filtered_data.isnil) ? (WebIO.setval({\\\"name\\\":\\\"relayout\\\",\\\"scope\\\":\\\"8625449688446784598\\\",\\\"id\\\":\\\"14901203754382264614\\\",\\\"type\\\":\\\"observable\\\"},filtered_data.out)) : undefined})); return gd.on(\\\"plotly_click\\\",(function (data){var filtered_data=WebIO.PlotlyCommands.filterEventData(gd,data,\\\"click\\\"); return !(filtered_data.isnil) ? (WebIO.setval({\\\"name\\\":\\\"click\\\",\\\"scope\\\":\\\"8625449688446784598\\\",\\\"id\\\":\\\"8547230529585439968\\\",\\\"type\\\":\\\"observable\\\"},filtered_data.out)) : undefined}))}));\\n    (WebIO.importBlock({\\\"data\\\":[{\\\"name\\\":\\\"Plotly\\\",\\\"type\\\":\\\"js\\\",\\\"url\\\":\\\"\\/assetserver\\/2c1443c4a3fadd5de9f99c6b5d8fa0ad35f7de28-plotly.min.js\\\"},{\\\"name\\\":null,\\\"type\\\":\\\"js\\\",\\\"url\\\":\\\"\\/assetserver\\/a617ad3fbd31c68e6d8336a472e6356f3a4cb577-plotly_webio.bundle.js\\\"}],\\\"type\\\":\\\"async_block\\\"})).then((imports) => handler.apply(this, imports));\\n}\\n\"],\"observables\":{\"_toImage\":{\"sync\":true,\"id\":\"14143516154444144727\",\"value\":{}},\"hover\":{\"sync\":false,\"id\":\"2298643679752661917\",\"value\":{}},\"selected\":{\"sync\":false,\"id\":\"8710247623993761498\",\"value\":{}},\"__gd_contents\":{\"sync\":false,\"id\":\"15222384505598127596\",\"value\":{}},\"click\":{\"sync\":false,\"id\":\"8547230529585439968\",\"value\":{}},\"image\":{\"sync\":true,\"id\":\"15479654850634591480\",\"value\":\"\"},\"__get_gd_contents\":{\"sync\":true,\"id\":\"11666710398920342843\",\"value\":\"\"},\"_downloadImage\":{\"sync\":true,\"id\":\"16980839910202459511\",\"value\":{}},\"relayout\":{\"sync\":false,\"id\":\"14901203754382264614\",\"value\":{}},\"_commands\":{\"sync\":true,\"id\":\"4655629672402186616\",\"value\":[]}}},\"children\":[{\"props\":{\"id\":\"plot-85119f88-8dfb-4721-ab97-d3daaba21a2e\"},\"nodeType\":\"DOM\",\"type\":\"node\",\"instanceArgs\":{\"namespace\":\"html\",\"tag\":\"div\"},\"children\":[]}]},\n",
       "        window,\n",
       "    );\n",
       "    })()\n",
       "    </script>\n",
       "</div>\n"
      ],
      "text/plain": [
       "data: [\n",
       "  \"heatmap with fields transpose, type, x, y, and z\"\n",
       "]\n",
       "\n",
       "layout: \"layout with fields autosize, height, margin, and template\"\n",
       "\n"
      ]
     },
     "execution_count": 17,
     "metadata": {},
     "output_type": "execute_result"
    }
   ],
   "source": [
    "showHM_perGrp(\"68J\")"
   ]
  },
  {
   "cell_type": "markdown",
   "id": "2ead9a45-431a-41a6-9d8d-66b70e152cf4",
   "metadata": {},
   "source": [
    "## 21O"
   ]
  },
  {
   "cell_type": "code",
   "execution_count": 20,
   "id": "d2988cc0-444c-4b6b-8efb-5f9654e8a25d",
   "metadata": {},
   "outputs": [
    {
     "data": {
      "application/vnd.plotly.v1+json": {
       "config": {
        "editable": false,
        "responsive": true,
        "scrollZoom": true,
        "showLink": false,
        "staticPlot": false
       },
       "data": [
        {
         "transpose": true,
         "type": "heatmap",
         "x": [
          "IFN-?",
          "IFN-?",
          "IFN-?",
          "IFN-?",
          "IFN-?",
          "IFN-?",
          "IL-10",
          "IL-10",
          "IL-10",
          "IL-10",
          "IL-10",
          "IL-10",
          "IL-12p70",
          "IL-12p70",
          "IL-12p70",
          "IL-12p70",
          "IL-12p70",
          "IL-12p70",
          "IL-13",
          "IL-13",
          "IL-13",
          "IL-13",
          "IL-13",
          "IL-13",
          "IL-1?",
          "IL-1?",
          "IL-1?",
          "IL-1?",
          "IL-1?",
          "IL-1?",
          "IL-2",
          "IL-2",
          "IL-2",
          "IL-2",
          "IL-2",
          "IL-2",
          "IL-4",
          "IL-4",
          "IL-4",
          "IL-4",
          "IL-4",
          "IL-4",
          "IL-6",
          "IL-6",
          "IL-6",
          "IL-6",
          "IL-6",
          "IL-6",
          "IL-8",
          "IL-8",
          "IL-8",
          "IL-8",
          "IL-8",
          "IL-8",
          "TNF-�",
          "TNF-�",
          "TNF-�",
          "TNF-�",
          "TNF-�",
          "TNF-�"
         ],
         "y": [
          "PL_F_1ug",
          "PL_F_1ug",
          "PL_F_25ug",
          "PL_F_25ug",
          "PL_F_5ug",
          "PL_F_5ug",
          "PL_F_1ug",
          "PL_F_1ug",
          "PL_F_25ug",
          "PL_F_25ug",
          "PL_F_5ug",
          "PL_F_5ug",
          "PL_F_1ug",
          "PL_F_1ug",
          "PL_F_25ug",
          "PL_F_25ug",
          "PL_F_5ug",
          "PL_F_5ug",
          "PL_F_1ug",
          "PL_F_1ug",
          "PL_F_25ug",
          "PL_F_25ug",
          "PL_F_5ug",
          "PL_F_5ug",
          "PL_F_1ug",
          "PL_F_1ug",
          "PL_F_25ug",
          "PL_F_25ug",
          "PL_F_5ug",
          "PL_F_5ug",
          "PL_F_1ug",
          "PL_F_1ug",
          "PL_F_25ug",
          "PL_F_25ug",
          "PL_F_5ug",
          "PL_F_5ug",
          "PL_F_1ug",
          "PL_F_1ug",
          "PL_F_25ug",
          "PL_F_25ug",
          "PL_F_5ug",
          "PL_F_5ug",
          "PL_F_1ug",
          "PL_F_1ug",
          "PL_F_25ug",
          "PL_F_25ug",
          "PL_F_5ug",
          "PL_F_5ug",
          "PL_F_1ug",
          "PL_F_1ug",
          "PL_F_25ug",
          "PL_F_25ug",
          "PL_F_5ug",
          "PL_F_5ug",
          "PL_F_1ug",
          "PL_F_1ug",
          "PL_F_25ug",
          "PL_F_25ug",
          "PL_F_5ug",
          "PL_F_5ug"
         ],
         "z": [
          1.365561626,
          0.817716613,
          1.718027052,
          1.346889974,
          0.663606538,
          0.329014494,
          1.449248881,
          0.223313231,
          1.536908431,
          2.552767647,
          3.125676213,
          1.089601866,
          0.829178351,
          0.86526332,
          4.217078386,
          2.618200106,
          1.92123301,
          1.200208651,
          29.93073568,
          30.17102155,
          32.20690935,
          37.36389376,
          26.49664869,
          26.51826591,
          5.954740415,
          5.016289461,
          5.465581909,
          7.37178432,
          4.39707502,
          4.853585542,
          3.174183486,
          1.723713776,
          6.829371881,
          3.524696571,
          3.43876942,
          2.217581579,
          0.18926352,
          0.152080748,
          0.128861412,
          0.233973209,
          0.081321087,
          0.121625638,
          37.0402187,
          25.9844751,
          14.59147739,
          35.42911148,
          10.71313409,
          12.36553594,
          4157.366979,
          4020.773885,
          4119.065855,
          4172.271146,
          3940.25476,
          3926.647442,
          8.346551836,
          6.167014589,
          8.082546045,
          7.423568987,
          7.93360784,
          6.438371504
         ]
        }
       ],
       "frames": [],
       "layout": {
        "autosize": true,
        "margin": {
         "b": 0,
         "l": 0,
         "r": 0,
         "t": 65
        },
        "template": {
         "data": {
          "bar": [
           {
            "error_x": {
             "color": "#2a3f5f"
            },
            "error_y": {
             "color": "#2a3f5f"
            },
            "marker": {
             "line": {
              "color": "#E5ECF6",
              "width": 0.5
             }
            },
            "type": "bar"
           }
          ],
          "barpolar": [
           {
            "marker": {
             "line": {
              "color": "#E5ECF6",
              "width": 0.5
             }
            },
            "type": "barpolar"
           }
          ],
          "carpet": [
           {
            "aaxis": {
             "endlinecolor": "#2a3f5f",
             "gridcolor": "white",
             "linecolor": "white",
             "minorgridcolor": "white",
             "startlinecolor": "#2a3f5f"
            },
            "baxis": {
             "endlinecolor": "#2a3f5f",
             "gridcolor": "white",
             "linecolor": "white",
             "minorgridcolor": "white",
             "startlinecolor": "#2a3f5f"
            },
            "type": "carpet"
           }
          ],
          "choropleth": [
           {
            "colorbar": {
             "outlinewidth": 0,
             "ticks": ""
            },
            "type": "choropleth"
           }
          ],
          "contour": [
           {
            "colorbar": {
             "outlinewidth": 0,
             "ticks": ""
            },
            "colorscale": [
             [
              0,
              "#0d0887"
             ],
             [
              0.1111111111111111,
              "#46039f"
             ],
             [
              0.2222222222222222,
              "#7201a8"
             ],
             [
              0.3333333333333333,
              "#9c179e"
             ],
             [
              0.4444444444444444,
              "#bd3786"
             ],
             [
              0.5555555555555556,
              "#d8576b"
             ],
             [
              0.6666666666666666,
              "#ed7953"
             ],
             [
              0.7777777777777778,
              "#fb9f3a"
             ],
             [
              0.8888888888888888,
              "#fdca26"
             ],
             [
              1,
              "#f0f921"
             ]
            ],
            "type": "contour"
           }
          ],
          "contourcarpet": [
           {
            "colorbar": {
             "outlinewidth": 0,
             "ticks": ""
            },
            "type": "contourcarpet"
           }
          ],
          "heatmap": [
           {
            "colorbar": {
             "outlinewidth": 0,
             "ticks": ""
            },
            "colorscale": [
             [
              0,
              "#0d0887"
             ],
             [
              0.1111111111111111,
              "#46039f"
             ],
             [
              0.2222222222222222,
              "#7201a8"
             ],
             [
              0.3333333333333333,
              "#9c179e"
             ],
             [
              0.4444444444444444,
              "#bd3786"
             ],
             [
              0.5555555555555556,
              "#d8576b"
             ],
             [
              0.6666666666666666,
              "#ed7953"
             ],
             [
              0.7777777777777778,
              "#fb9f3a"
             ],
             [
              0.8888888888888888,
              "#fdca26"
             ],
             [
              1,
              "#f0f921"
             ]
            ],
            "type": "heatmap"
           }
          ],
          "heatmapgl": [
           {
            "colorbar": {
             "outlinewidth": 0,
             "ticks": ""
            },
            "colorscale": [
             [
              0,
              "#0d0887"
             ],
             [
              0.1111111111111111,
              "#46039f"
             ],
             [
              0.2222222222222222,
              "#7201a8"
             ],
             [
              0.3333333333333333,
              "#9c179e"
             ],
             [
              0.4444444444444444,
              "#bd3786"
             ],
             [
              0.5555555555555556,
              "#d8576b"
             ],
             [
              0.6666666666666666,
              "#ed7953"
             ],
             [
              0.7777777777777778,
              "#fb9f3a"
             ],
             [
              0.8888888888888888,
              "#fdca26"
             ],
             [
              1,
              "#f0f921"
             ]
            ],
            "type": "heatmapgl"
           }
          ],
          "histogram": [
           {
            "marker": {
             "colorbar": {
              "outlinewidth": 0,
              "ticks": ""
             }
            },
            "type": "histogram"
           }
          ],
          "histogram2d": [
           {
            "colorbar": {
             "outlinewidth": 0,
             "ticks": ""
            },
            "colorscale": [
             [
              0,
              "#0d0887"
             ],
             [
              0.1111111111111111,
              "#46039f"
             ],
             [
              0.2222222222222222,
              "#7201a8"
             ],
             [
              0.3333333333333333,
              "#9c179e"
             ],
             [
              0.4444444444444444,
              "#bd3786"
             ],
             [
              0.5555555555555556,
              "#d8576b"
             ],
             [
              0.6666666666666666,
              "#ed7953"
             ],
             [
              0.7777777777777778,
              "#fb9f3a"
             ],
             [
              0.8888888888888888,
              "#fdca26"
             ],
             [
              1,
              "#f0f921"
             ]
            ],
            "type": "histogram2d"
           }
          ],
          "histogram2dcontour": [
           {
            "colorbar": {
             "outlinewidth": 0,
             "ticks": ""
            },
            "colorscale": [
             [
              0,
              "#0d0887"
             ],
             [
              0.1111111111111111,
              "#46039f"
             ],
             [
              0.2222222222222222,
              "#7201a8"
             ],
             [
              0.3333333333333333,
              "#9c179e"
             ],
             [
              0.4444444444444444,
              "#bd3786"
             ],
             [
              0.5555555555555556,
              "#d8576b"
             ],
             [
              0.6666666666666666,
              "#ed7953"
             ],
             [
              0.7777777777777778,
              "#fb9f3a"
             ],
             [
              0.8888888888888888,
              "#fdca26"
             ],
             [
              1,
              "#f0f921"
             ]
            ],
            "type": "histogram2dcontour"
           }
          ],
          "mesh3d": [
           {
            "colorbar": {
             "outlinewidth": 0,
             "ticks": ""
            },
            "type": "mesh3d"
           }
          ],
          "parcoords": [
           {
            "line": {
             "colorbar": {
              "outlinewidth": 0,
              "ticks": ""
             }
            },
            "type": "parcoords"
           }
          ],
          "pie": [
           {
            "automargin": true,
            "type": "pie"
           }
          ],
          "scatter": [
           {
            "marker": {
             "colorbar": {
              "outlinewidth": 0,
              "ticks": ""
             }
            },
            "type": "scatter"
           }
          ],
          "scatter3d": [
           {
            "line": {
             "colorbar": {
              "outlinewidth": 0,
              "ticks": ""
             }
            },
            "marker": {
             "colorbar": {
              "outlinewidth": 0,
              "ticks": ""
             }
            },
            "type": "scatter3d"
           }
          ],
          "scattercarpet": [
           {
            "marker": {
             "colorbar": {
              "outlinewidth": 0,
              "ticks": ""
             }
            },
            "type": "scattercarpet"
           }
          ],
          "scattergeo": [
           {
            "marker": {
             "colorbar": {
              "outlinewidth": 0,
              "ticks": ""
             }
            },
            "type": "scattergeo"
           }
          ],
          "scattergl": [
           {
            "marker": {
             "colorbar": {
              "outlinewidth": 0,
              "ticks": ""
             }
            },
            "type": "scattergl"
           }
          ],
          "scattermapbox": [
           {
            "marker": {
             "colorbar": {
              "outlinewidth": 0,
              "ticks": ""
             }
            },
            "type": "scattermapbox"
           }
          ],
          "scatterpolar": [
           {
            "marker": {
             "colorbar": {
              "outlinewidth": 0,
              "ticks": ""
             }
            },
            "type": "scatterpolar"
           }
          ],
          "scatterpolargl": [
           {
            "marker": {
             "colorbar": {
              "outlinewidth": 0,
              "ticks": ""
             }
            },
            "type": "scatterpolargl"
           }
          ],
          "scatterternary": [
           {
            "marker": {
             "colorbar": {
              "outlinewidth": 0,
              "ticks": ""
             }
            },
            "type": "scatterternary"
           }
          ],
          "surface": [
           {
            "colorbar": {
             "outlinewidth": 0,
             "ticks": ""
            },
            "colorscale": [
             [
              0,
              "#0d0887"
             ],
             [
              0.1111111111111111,
              "#46039f"
             ],
             [
              0.2222222222222222,
              "#7201a8"
             ],
             [
              0.3333333333333333,
              "#9c179e"
             ],
             [
              0.4444444444444444,
              "#bd3786"
             ],
             [
              0.5555555555555556,
              "#d8576b"
             ],
             [
              0.6666666666666666,
              "#ed7953"
             ],
             [
              0.7777777777777778,
              "#fb9f3a"
             ],
             [
              0.8888888888888888,
              "#fdca26"
             ],
             [
              1,
              "#f0f921"
             ]
            ],
            "type": "surface"
           }
          ],
          "table": [
           {
            "cells": {
             "fill": {
              "color": "#EBF0F8"
             },
             "line": {
              "color": "white"
             }
            },
            "header": {
             "fill": {
              "color": "#C8D4E3"
             },
             "line": {
              "color": "white"
             }
            },
            "type": "table"
           }
          ]
         },
         "layout": {
          "annotationdefaults": {
           "arrowcolor": "#2a3f5f",
           "arrowhead": 0,
           "arrowwidth": 1
          },
          "autotypenumbers": "strict",
          "coloraxis": {
           "colorbar": {
            "outlinewidth": 0,
            "ticks": ""
           }
          },
          "colorscale": {
           "diverging": [
            [
             0,
             "#8e0152"
            ],
            [
             0.1,
             "#c51b7d"
            ],
            [
             0.2,
             "#de77ae"
            ],
            [
             0.3,
             "#f1b6da"
            ],
            [
             0.4,
             "#fde0ef"
            ],
            [
             0.5,
             "#f7f7f7"
            ],
            [
             0.6,
             "#e6f5d0"
            ],
            [
             0.7,
             "#b8e186"
            ],
            [
             0.8,
             "#7fbc41"
            ],
            [
             0.9,
             "#4d9221"
            ],
            [
             1,
             "#276419"
            ]
           ],
           "sequential": [
            [
             0,
             "#0d0887"
            ],
            [
             0.1111111111111111,
             "#46039f"
            ],
            [
             0.2222222222222222,
             "#7201a8"
            ],
            [
             0.3333333333333333,
             "#9c179e"
            ],
            [
             0.4444444444444444,
             "#bd3786"
            ],
            [
             0.5555555555555556,
             "#d8576b"
            ],
            [
             0.6666666666666666,
             "#ed7953"
            ],
            [
             0.7777777777777778,
             "#fb9f3a"
            ],
            [
             0.8888888888888888,
             "#fdca26"
            ],
            [
             1,
             "#f0f921"
            ]
           ],
           "sequentialminus": [
            [
             0,
             "#0d0887"
            ],
            [
             0.1111111111111111,
             "#46039f"
            ],
            [
             0.2222222222222222,
             "#7201a8"
            ],
            [
             0.3333333333333333,
             "#9c179e"
            ],
            [
             0.4444444444444444,
             "#bd3786"
            ],
            [
             0.5555555555555556,
             "#d8576b"
            ],
            [
             0.6666666666666666,
             "#ed7953"
            ],
            [
             0.7777777777777778,
             "#fb9f3a"
            ],
            [
             0.8888888888888888,
             "#fdca26"
            ],
            [
             1,
             "#f0f921"
            ]
           ]
          },
          "colorway": [
           "#636efa",
           "#EF553B",
           "#00cc96",
           "#ab63fa",
           "#FFA15A",
           "#19d3f3",
           "#FF6692",
           "#B6E880",
           "#FF97FF",
           "#FECB52"
          ],
          "font": {
           "color": "#2a3f5f"
          },
          "geo": {
           "bgcolor": "white",
           "lakecolor": "white",
           "landcolor": "#E5ECF6",
           "showlakes": true,
           "showland": true,
           "subunitcolor": "white"
          },
          "hoverlabel": {
           "align": "left"
          },
          "hovermode": "closest",
          "mapbox": {
           "style": "light"
          },
          "paper_bgcolor": "white",
          "plot_bgcolor": "#E5ECF6",
          "polar": {
           "angularaxis": {
            "gridcolor": "white",
            "linecolor": "white",
            "ticks": ""
           },
           "bgcolor": "#E5ECF6",
           "radialaxis": {
            "gridcolor": "white",
            "linecolor": "white",
            "ticks": ""
           }
          },
          "scene": {
           "xaxis": {
            "backgroundcolor": "#E5ECF6",
            "gridcolor": "white",
            "gridwidth": 2,
            "linecolor": "white",
            "showbackground": true,
            "ticks": "",
            "zerolinecolor": "white"
           },
           "yaxis": {
            "backgroundcolor": "#E5ECF6",
            "gridcolor": "white",
            "gridwidth": 2,
            "linecolor": "white",
            "showbackground": true,
            "ticks": "",
            "zerolinecolor": "white"
           },
           "zaxis": {
            "backgroundcolor": "#E5ECF6",
            "gridcolor": "white",
            "gridwidth": 2,
            "linecolor": "white",
            "showbackground": true,
            "ticks": "",
            "zerolinecolor": "white"
           }
          },
          "shapedefaults": {
           "line": {
            "color": "#2a3f5f"
           }
          },
          "ternary": {
           "aaxis": {
            "gridcolor": "white",
            "linecolor": "white",
            "ticks": ""
           },
           "baxis": {
            "gridcolor": "white",
            "linecolor": "white",
            "ticks": ""
           },
           "bgcolor": "#E5ECF6",
           "caxis": {
            "gridcolor": "white",
            "linecolor": "white",
            "ticks": ""
           }
          },
          "title": {
           "x": 0.05
          },
          "xaxis": {
           "automargin": true,
           "gridcolor": "white",
           "linecolor": "white",
           "ticks": "",
           "title": {
            "standoff": 15
           },
           "zerolinecolor": "white",
           "zerolinewidth": 2
          },
          "yaxis": {
           "automargin": true,
           "gridcolor": "white",
           "linecolor": "white",
           "ticks": "",
           "title": {
            "standoff": 15
           },
           "zerolinecolor": "white",
           "zerolinewidth": 2
          }
         }
        },
        "xaxis": {
         "autorange": true,
         "range": [
          -0.5,
          9.5
         ],
         "type": "category"
        },
        "yaxis": {
         "autorange": true,
         "range": [
          -0.5,
          2.5
         ],
         "type": "category"
        }
       }
      },
      "image/png": "[encoded data removed]",
      "text/html": [
       "<div\n",
       "    class=\"webio-mountpoint\"\n",
       "    data-webio-mountpoint=\"8928167264086919112\"\n",
       ">\n",
       "    <script>\n",
       "    (function(){\n",
       "    // Some integrations (namely, IJulia/Jupyter) use an alternate render pathway than\n",
       "    // just putting the html on the page. If WebIO isn't defined, then it's pretty likely\n",
       "    // that we're in one of those situations and the integration just isn't installed\n",
       "    // correctly.\n",
       "    if (typeof window.WebIO === \"undefined\") {\n",
       "        document\n",
       "            .querySelector('[data-webio-mountpoint=\"8928167264086919112\"]')\n",
       "            .innerHTML = (\n",
       "                '<div style=\"padding: 1em; background-color: #f8d6da; border: 1px solid #f5c6cb; font-weight: bold;\">' +\n",
       "                '<p><strong>WebIO not detected.</strong></p>' +\n",
       "                '<p>Please read ' +\n",
       "                '<a href=\"https://juliagizmos.github.io/WebIO.jl/latest/troubleshooting/not-detected/\" target=\"_blank\">the troubleshooting guide</a> ' +\n",
       "                'for more information on how to resolve this issue.</p>' +\n",
       "                '<p><a href=\"https://juliagizmos.github.io/WebIO.jl/latest/troubleshooting/not-detected/\" target=\"_blank\">https://juliagizmos.github.io/WebIO.jl/latest/troubleshooting/not-detected/</a></p>' +\n",
       "                '</div>'\n",
       "            );\n",
       "        return;\n",
       "    }\n",
       "    WebIO.mount(\n",
       "        document.querySelector('[data-webio-mountpoint=\"8928167264086919112\"]'),\n",
       "        {\"props\":{},\"nodeType\":\"Scope\",\"type\":\"node\",\"instanceArgs\":{\"imports\":{\"data\":[{\"name\":\"Plotly\",\"type\":\"js\",\"url\":\"\\/assetserver\\/2c1443c4a3fadd5de9f99c6b5d8fa0ad35f7de28-plotly.min.js\"},{\"name\":null,\"type\":\"js\",\"url\":\"\\/assetserver\\/a617ad3fbd31c68e6d8336a472e6356f3a4cb577-plotly_webio.bundle.js\"}],\"type\":\"async_block\"},\"id\":\"14131933057536782019\",\"handlers\":{\"_toImage\":[\"(function (options){return this.Plotly.toImage(this.plotElem,options).then((function (data){return WebIO.setval({\\\"name\\\":\\\"image\\\",\\\"scope\\\":\\\"14131933057536782019\\\",\\\"id\\\":\\\"13241022458587850335\\\",\\\"type\\\":\\\"observable\\\"},data)}))})\"],\"__get_gd_contents\":[\"(function (prop){prop==\\\"data\\\" ? (WebIO.setval({\\\"name\\\":\\\"__gd_contents\\\",\\\"scope\\\":\\\"14131933057536782019\\\",\\\"id\\\":\\\"12797036428974780661\\\",\\\"type\\\":\\\"observable\\\"},this.plotElem.data)) : undefined; return prop==\\\"layout\\\" ? (WebIO.setval({\\\"name\\\":\\\"__gd_contents\\\",\\\"scope\\\":\\\"14131933057536782019\\\",\\\"id\\\":\\\"12797036428974780661\\\",\\\"type\\\":\\\"observable\\\"},this.plotElem.layout)) : undefined})\"],\"_downloadImage\":[\"(function (options){return this.Plotly.downloadImage(this.plotElem,options)})\"],\"_commands\":[\"(function (args){var fn=args.shift(); var elem=this.plotElem; var Plotly=this.Plotly; args.unshift(elem); return Plotly[fn].apply(this,args)})\"]},\"systemjs_options\":null,\"mount_callbacks\":[\"function () {\\n    var handler = ((function (Plotly,PlotlyWebIO){PlotlyWebIO.init(WebIO); var gd=this.dom.querySelector(\\\"#plot-719f0845-c87c-4d07-8da2-cb1836874e9d\\\"); this.plotElem=gd; this.Plotly=Plotly; (window.Blink!==undefined) ? (gd.style.width=\\\"100%\\\", gd.style.height=\\\"100vh\\\", gd.style.marginLeft=\\\"0%\\\", gd.style.marginTop=\\\"0vh\\\") : undefined; window.onresize=(function (){return Plotly.Plots.resize(gd)}); Plotly.newPlot(gd,[{\\\"y\\\":[\\\"PL_F_1ug\\\",\\\"PL_F_1ug\\\",\\\"PL_F_25ug\\\",\\\"PL_F_25ug\\\",\\\"PL_F_5ug\\\",\\\"PL_F_5ug\\\",\\\"PL_F_1ug\\\",\\\"PL_F_1ug\\\",\\\"PL_F_25ug\\\",\\\"PL_F_25ug\\\",\\\"PL_F_5ug\\\",\\\"PL_F_5ug\\\",\\\"PL_F_1ug\\\",\\\"PL_F_1ug\\\",\\\"PL_F_25ug\\\",\\\"PL_F_25ug\\\",\\\"PL_F_5ug\\\",\\\"PL_F_5ug\\\",\\\"PL_F_1ug\\\",\\\"PL_F_1ug\\\",\\\"PL_F_25ug\\\",\\\"PL_F_25ug\\\",\\\"PL_F_5ug\\\",\\\"PL_F_5ug\\\",\\\"PL_F_1ug\\\",\\\"PL_F_1ug\\\",\\\"PL_F_25ug\\\",\\\"PL_F_25ug\\\",\\\"PL_F_5ug\\\",\\\"PL_F_5ug\\\",\\\"PL_F_1ug\\\",\\\"PL_F_1ug\\\",\\\"PL_F_25ug\\\",\\\"PL_F_25ug\\\",\\\"PL_F_5ug\\\",\\\"PL_F_5ug\\\",\\\"PL_F_1ug\\\",\\\"PL_F_1ug\\\",\\\"PL_F_25ug\\\",\\\"PL_F_25ug\\\",\\\"PL_F_5ug\\\",\\\"PL_F_5ug\\\",\\\"PL_F_1ug\\\",\\\"PL_F_1ug\\\",\\\"PL_F_25ug\\\",\\\"PL_F_25ug\\\",\\\"PL_F_5ug\\\",\\\"PL_F_5ug\\\",\\\"PL_F_1ug\\\",\\\"PL_F_1ug\\\",\\\"PL_F_25ug\\\",\\\"PL_F_25ug\\\",\\\"PL_F_5ug\\\",\\\"PL_F_5ug\\\",\\\"PL_F_1ug\\\",\\\"PL_F_1ug\\\",\\\"PL_F_25ug\\\",\\\"PL_F_25ug\\\",\\\"PL_F_5ug\\\",\\\"PL_F_5ug\\\"],\\\"type\\\":\\\"heatmap\\\",\\\"z\\\":[1.365561626,0.817716613,1.718027052,1.346889974,0.663606538,0.329014494,1.449248881,0.223313231,1.536908431,2.552767647,3.125676213,1.089601866,0.829178351,0.86526332,4.217078386,2.618200106,1.92123301,1.200208651,29.93073568,30.17102155,32.20690935,37.36389376,26.49664869,26.51826591,5.954740415,5.016289461,5.465581909,7.37178432,4.39707502,4.853585542,3.174183486,1.723713776,6.829371881,3.524696571,3.43876942,2.217581579,0.18926352,0.152080748,0.128861412,0.233973209,0.081321087,0.121625638,37.0402187,25.9844751,14.59147739,35.42911148,10.71313409,12.36553594,4157.366979,4020.773885,4119.065855,4172.271146,3940.25476,3926.647442,8.346551836,6.167014589,8.082546045,7.423568987,7.93360784,6.438371504],\\\"transpose\\\":true,\\\"x\\\":[\\\"IFN-?\\\",\\\"IFN-?\\\",\\\"IFN-?\\\",\\\"IFN-?\\\",\\\"IFN-?\\\",\\\"IFN-?\\\",\\\"IL-10\\\",\\\"IL-10\\\",\\\"IL-10\\\",\\\"IL-10\\\",\\\"IL-10\\\",\\\"IL-10\\\",\\\"IL-12p70\\\",\\\"IL-12p70\\\",\\\"IL-12p70\\\",\\\"IL-12p70\\\",\\\"IL-12p70\\\",\\\"IL-12p70\\\",\\\"IL-13\\\",\\\"IL-13\\\",\\\"IL-13\\\",\\\"IL-13\\\",\\\"IL-13\\\",\\\"IL-13\\\",\\\"IL-1?\\\",\\\"IL-1?\\\",\\\"IL-1?\\\",\\\"IL-1?\\\",\\\"IL-1?\\\",\\\"IL-1?\\\",\\\"IL-2\\\",\\\"IL-2\\\",\\\"IL-2\\\",\\\"IL-2\\\",\\\"IL-2\\\",\\\"IL-2\\\",\\\"IL-4\\\",\\\"IL-4\\\",\\\"IL-4\\\",\\\"IL-4\\\",\\\"IL-4\\\",\\\"IL-4\\\",\\\"IL-6\\\",\\\"IL-6\\\",\\\"IL-6\\\",\\\"IL-6\\\",\\\"IL-6\\\",\\\"IL-6\\\",\\\"IL-8\\\",\\\"IL-8\\\",\\\"IL-8\\\",\\\"IL-8\\\",\\\"IL-8\\\",\\\"IL-8\\\",\\\"TNF-�\\\",\\\"TNF-�\\\",\\\"TNF-�\\\",\\\"TNF-�\\\",\\\"TNF-�\\\",\\\"TNF-�\\\"]}],{\\\"template\\\":{\\\"layout\\\":{\\\"coloraxis\\\":{\\\"colorbar\\\":{\\\"ticks\\\":\\\"\\\",\\\"outlinewidth\\\":0}},\\\"xaxis\\\":{\\\"gridcolor\\\":\\\"white\\\",\\\"zerolinewidth\\\":2,\\\"title\\\":{\\\"standoff\\\":15},\\\"ticks\\\":\\\"\\\",\\\"zerolinecolor\\\":\\\"white\\\",\\\"automargin\\\":true,\\\"linecolor\\\":\\\"white\\\"},\\\"hovermode\\\":\\\"closest\\\",\\\"paper_bgcolor\\\":\\\"white\\\",\\\"geo\\\":{\\\"showlakes\\\":true,\\\"showland\\\":true,\\\"landcolor\\\":\\\"#E5ECF6\\\",\\\"bgcolor\\\":\\\"white\\\",\\\"subunitcolor\\\":\\\"white\\\",\\\"lakecolor\\\":\\\"white\\\"},\\\"colorscale\\\":{\\\"sequential\\\":[[0.0,\\\"#0d0887\\\"],[0.1111111111111111,\\\"#46039f\\\"],[0.2222222222222222,\\\"#7201a8\\\"],[0.3333333333333333,\\\"#9c179e\\\"],[0.4444444444444444,\\\"#bd3786\\\"],[0.5555555555555556,\\\"#d8576b\\\"],[0.6666666666666666,\\\"#ed7953\\\"],[0.7777777777777778,\\\"#fb9f3a\\\"],[0.8888888888888888,\\\"#fdca26\\\"],[1.0,\\\"#f0f921\\\"]],\\\"diverging\\\":[[0,\\\"#8e0152\\\"],[0.1,\\\"#c51b7d\\\"],[0.2,\\\"#de77ae\\\"],[0.3,\\\"#f1b6da\\\"],[0.4,\\\"#fde0ef\\\"],[0.5,\\\"#f7f7f7\\\"],[0.6,\\\"#e6f5d0\\\"],[0.7,\\\"#b8e186\\\"],[0.8,\\\"#7fbc41\\\"],[0.9,\\\"#4d9221\\\"],[1,\\\"#276419\\\"]],\\\"sequentialminus\\\":[[0.0,\\\"#0d0887\\\"],[0.1111111111111111,\\\"#46039f\\\"],[0.2222222222222222,\\\"#7201a8\\\"],[0.3333333333333333,\\\"#9c179e\\\"],[0.4444444444444444,\\\"#bd3786\\\"],[0.5555555555555556,\\\"#d8576b\\\"],[0.6666666666666666,\\\"#ed7953\\\"],[0.7777777777777778,\\\"#fb9f3a\\\"],[0.8888888888888888,\\\"#fdca26\\\"],[1.0,\\\"#f0f921\\\"]]},\\\"yaxis\\\":{\\\"gridcolor\\\":\\\"white\\\",\\\"zerolinewidth\\\":2,\\\"title\\\":{\\\"standoff\\\":15},\\\"ticks\\\":\\\"\\\",\\\"zerolinecolor\\\":\\\"white\\\",\\\"automargin\\\":true,\\\"linecolor\\\":\\\"white\\\"},\\\"shapedefaults\\\":{\\\"line\\\":{\\\"color\\\":\\\"#2a3f5f\\\"}},\\\"hoverlabel\\\":{\\\"align\\\":\\\"left\\\"},\\\"mapbox\\\":{\\\"style\\\":\\\"light\\\"},\\\"polar\\\":{\\\"angularaxis\\\":{\\\"gridcolor\\\":\\\"white\\\",\\\"ticks\\\":\\\"\\\",\\\"linecolor\\\":\\\"white\\\"},\\\"bgcolor\\\":\\\"#E5ECF6\\\",\\\"radialaxis\\\":{\\\"gridcolor\\\":\\\"white\\\",\\\"ticks\\\":\\\"\\\",\\\"linecolor\\\":\\\"white\\\"}},\\\"autotypenumbers\\\":\\\"strict\\\",\\\"font\\\":{\\\"color\\\":\\\"#2a3f5f\\\"},\\\"ternary\\\":{\\\"baxis\\\":{\\\"gridcolor\\\":\\\"white\\\",\\\"ticks\\\":\\\"\\\",\\\"linecolor\\\":\\\"white\\\"},\\\"bgcolor\\\":\\\"#E5ECF6\\\",\\\"caxis\\\":{\\\"gridcolor\\\":\\\"white\\\",\\\"ticks\\\":\\\"\\\",\\\"linecolor\\\":\\\"white\\\"},\\\"aaxis\\\":{\\\"gridcolor\\\":\\\"white\\\",\\\"ticks\\\":\\\"\\\",\\\"linecolor\\\":\\\"white\\\"}},\\\"annotationdefaults\\\":{\\\"arrowhead\\\":0,\\\"arrowwidth\\\":1,\\\"arrowcolor\\\":\\\"#2a3f5f\\\"},\\\"plot_bgcolor\\\":\\\"#E5ECF6\\\",\\\"title\\\":{\\\"x\\\":0.05},\\\"scene\\\":{\\\"xaxis\\\":{\\\"gridcolor\\\":\\\"white\\\",\\\"gridwidth\\\":2,\\\"backgroundcolor\\\":\\\"#E5ECF6\\\",\\\"ticks\\\":\\\"\\\",\\\"showbackground\\\":true,\\\"zerolinecolor\\\":\\\"white\\\",\\\"linecolor\\\":\\\"white\\\"},\\\"zaxis\\\":{\\\"gridcolor\\\":\\\"white\\\",\\\"gridwidth\\\":2,\\\"backgroundcolor\\\":\\\"#E5ECF6\\\",\\\"ticks\\\":\\\"\\\",\\\"showbackground\\\":true,\\\"zerolinecolor\\\":\\\"white\\\",\\\"linecolor\\\":\\\"white\\\"},\\\"yaxis\\\":{\\\"gridcolor\\\":\\\"white\\\",\\\"gridwidth\\\":2,\\\"backgroundcolor\\\":\\\"#E5ECF6\\\",\\\"ticks\\\":\\\"\\\",\\\"showbackground\\\":true,\\\"zerolinecolor\\\":\\\"white\\\",\\\"linecolor\\\":\\\"white\\\"}},\\\"colorway\\\":[\\\"#636efa\\\",\\\"#EF553B\\\",\\\"#00cc96\\\",\\\"#ab63fa\\\",\\\"#FFA15A\\\",\\\"#19d3f3\\\",\\\"#FF6692\\\",\\\"#B6E880\\\",\\\"#FF97FF\\\",\\\"#FECB52\\\"]},\\\"data\\\":{\\\"barpolar\\\":[{\\\"type\\\":\\\"barpolar\\\",\\\"marker\\\":{\\\"line\\\":{\\\"color\\\":\\\"#E5ECF6\\\",\\\"width\\\":0.5}}}],\\\"carpet\\\":[{\\\"aaxis\\\":{\\\"gridcolor\\\":\\\"white\\\",\\\"endlinecolor\\\":\\\"#2a3f5f\\\",\\\"minorgridcolor\\\":\\\"white\\\",\\\"startlinecolor\\\":\\\"#2a3f5f\\\",\\\"linecolor\\\":\\\"white\\\"},\\\"type\\\":\\\"carpet\\\",\\\"baxis\\\":{\\\"gridcolor\\\":\\\"white\\\",\\\"endlinecolor\\\":\\\"#2a3f5f\\\",\\\"minorgridcolor\\\":\\\"white\\\",\\\"startlinecolor\\\":\\\"#2a3f5f\\\",\\\"linecolor\\\":\\\"white\\\"}}],\\\"scatterpolar\\\":[{\\\"type\\\":\\\"scatterpolar\\\",\\\"marker\\\":{\\\"colorbar\\\":{\\\"ticks\\\":\\\"\\\",\\\"outlinewidth\\\":0}}}],\\\"parcoords\\\":[{\\\"line\\\":{\\\"colorbar\\\":{\\\"ticks\\\":\\\"\\\",\\\"outlinewidth\\\":0}},\\\"type\\\":\\\"parcoords\\\"}],\\\"scatter\\\":[{\\\"type\\\":\\\"scatter\\\",\\\"marker\\\":{\\\"colorbar\\\":{\\\"ticks\\\":\\\"\\\",\\\"outlinewidth\\\":0}}}],\\\"histogram2dcontour\\\":[{\\\"colorbar\\\":{\\\"ticks\\\":\\\"\\\",\\\"outlinewidth\\\":0},\\\"type\\\":\\\"histogram2dcontour\\\",\\\"colorscale\\\":[[0.0,\\\"#0d0887\\\"],[0.1111111111111111,\\\"#46039f\\\"],[0.2222222222222222,\\\"#7201a8\\\"],[0.3333333333333333,\\\"#9c179e\\\"],[0.4444444444444444,\\\"#bd3786\\\"],[0.5555555555555556,\\\"#d8576b\\\"],[0.6666666666666666,\\\"#ed7953\\\"],[0.7777777777777778,\\\"#fb9f3a\\\"],[0.8888888888888888,\\\"#fdca26\\\"],[1.0,\\\"#f0f921\\\"]]}],\\\"contour\\\":[{\\\"colorbar\\\":{\\\"ticks\\\":\\\"\\\",\\\"outlinewidth\\\":0},\\\"type\\\":\\\"contour\\\",\\\"colorscale\\\":[[0.0,\\\"#0d0887\\\"],[0.1111111111111111,\\\"#46039f\\\"],[0.2222222222222222,\\\"#7201a8\\\"],[0.3333333333333333,\\\"#9c179e\\\"],[0.4444444444444444,\\\"#bd3786\\\"],[0.5555555555555556,\\\"#d8576b\\\"],[0.6666666666666666,\\\"#ed7953\\\"],[0.7777777777777778,\\\"#fb9f3a\\\"],[0.8888888888888888,\\\"#fdca26\\\"],[1.0,\\\"#f0f921\\\"]]}],\\\"scattercarpet\\\":[{\\\"type\\\":\\\"scattercarpet\\\",\\\"marker\\\":{\\\"colorbar\\\":{\\\"ticks\\\":\\\"\\\",\\\"outlinewidth\\\":0}}}],\\\"mesh3d\\\":[{\\\"colorbar\\\":{\\\"ticks\\\":\\\"\\\",\\\"outlinewidth\\\":0},\\\"type\\\":\\\"mesh3d\\\"}],\\\"surface\\\":[{\\\"colorbar\\\":{\\\"ticks\\\":\\\"\\\",\\\"outlinewidth\\\":0},\\\"type\\\":\\\"surface\\\",\\\"colorscale\\\":[[0.0,\\\"#0d0887\\\"],[0.1111111111111111,\\\"#46039f\\\"],[0.2222222222222222,\\\"#7201a8\\\"],[0.3333333333333333,\\\"#9c179e\\\"],[0.4444444444444444,\\\"#bd3786\\\"],[0.5555555555555556,\\\"#d8576b\\\"],[0.6666666666666666,\\\"#ed7953\\\"],[0.7777777777777778,\\\"#fb9f3a\\\"],[0.8888888888888888,\\\"#fdca26\\\"],[1.0,\\\"#f0f921\\\"]]}],\\\"scattermapbox\\\":[{\\\"type\\\":\\\"scattermapbox\\\",\\\"marker\\\":{\\\"colorbar\\\":{\\\"ticks\\\":\\\"\\\",\\\"outlinewidth\\\":0}}}],\\\"scattergeo\\\":[{\\\"type\\\":\\\"scattergeo\\\",\\\"marker\\\":{\\\"colorbar\\\":{\\\"ticks\\\":\\\"\\\",\\\"outlinewidth\\\":0}}}],\\\"histogram\\\":[{\\\"type\\\":\\\"histogram\\\",\\\"marker\\\":{\\\"colorbar\\\":{\\\"ticks\\\":\\\"\\\",\\\"outlinewidth\\\":0}}}],\\\"pie\\\":[{\\\"type\\\":\\\"pie\\\",\\\"automargin\\\":true}],\\\"choropleth\\\":[{\\\"colorbar\\\":{\\\"ticks\\\":\\\"\\\",\\\"outlinewidth\\\":0},\\\"type\\\":\\\"choropleth\\\"}],\\\"heatmapgl\\\":[{\\\"colorbar\\\":{\\\"ticks\\\":\\\"\\\",\\\"outlinewidth\\\":0},\\\"type\\\":\\\"heatmapgl\\\",\\\"colorscale\\\":[[0.0,\\\"#0d0887\\\"],[0.1111111111111111,\\\"#46039f\\\"],[0.2222222222222222,\\\"#7201a8\\\"],[0.3333333333333333,\\\"#9c179e\\\"],[0.4444444444444444,\\\"#bd3786\\\"],[0.5555555555555556,\\\"#d8576b\\\"],[0.6666666666666666,\\\"#ed7953\\\"],[0.7777777777777778,\\\"#fb9f3a\\\"],[0.8888888888888888,\\\"#fdca26\\\"],[1.0,\\\"#f0f921\\\"]]}],\\\"bar\\\":[{\\\"type\\\":\\\"bar\\\",\\\"error_y\\\":{\\\"color\\\":\\\"#2a3f5f\\\"},\\\"error_x\\\":{\\\"color\\\":\\\"#2a3f5f\\\"},\\\"marker\\\":{\\\"line\\\":{\\\"color\\\":\\\"#E5ECF6\\\",\\\"width\\\":0.5}}}],\\\"heatmap\\\":[{\\\"colorbar\\\":{\\\"ticks\\\":\\\"\\\",\\\"outlinewidth\\\":0},\\\"type\\\":\\\"heatmap\\\",\\\"colorscale\\\":[[0.0,\\\"#0d0887\\\"],[0.1111111111111111,\\\"#46039f\\\"],[0.2222222222222222,\\\"#7201a8\\\"],[0.3333333333333333,\\\"#9c179e\\\"],[0.4444444444444444,\\\"#bd3786\\\"],[0.5555555555555556,\\\"#d8576b\\\"],[0.6666666666666666,\\\"#ed7953\\\"],[0.7777777777777778,\\\"#fb9f3a\\\"],[0.8888888888888888,\\\"#fdca26\\\"],[1.0,\\\"#f0f921\\\"]]}],\\\"contourcarpet\\\":[{\\\"colorbar\\\":{\\\"ticks\\\":\\\"\\\",\\\"outlinewidth\\\":0},\\\"type\\\":\\\"contourcarpet\\\"}],\\\"table\\\":[{\\\"type\\\":\\\"table\\\",\\\"header\\\":{\\\"line\\\":{\\\"color\\\":\\\"white\\\"},\\\"fill\\\":{\\\"color\\\":\\\"#C8D4E3\\\"}},\\\"cells\\\":{\\\"line\\\":{\\\"color\\\":\\\"white\\\"},\\\"fill\\\":{\\\"color\\\":\\\"#EBF0F8\\\"}}}],\\\"scatter3d\\\":[{\\\"line\\\":{\\\"colorbar\\\":{\\\"ticks\\\":\\\"\\\",\\\"outlinewidth\\\":0}},\\\"type\\\":\\\"scatter3d\\\",\\\"marker\\\":{\\\"colorbar\\\":{\\\"ticks\\\":\\\"\\\",\\\"outlinewidth\\\":0}}}],\\\"scattergl\\\":[{\\\"type\\\":\\\"scattergl\\\",\\\"marker\\\":{\\\"colorbar\\\":{\\\"ticks\\\":\\\"\\\",\\\"outlinewidth\\\":0}}}],\\\"histogram2d\\\":[{\\\"colorbar\\\":{\\\"ticks\\\":\\\"\\\",\\\"outlinewidth\\\":0},\\\"type\\\":\\\"histogram2d\\\",\\\"colorscale\\\":[[0.0,\\\"#0d0887\\\"],[0.1111111111111111,\\\"#46039f\\\"],[0.2222222222222222,\\\"#7201a8\\\"],[0.3333333333333333,\\\"#9c179e\\\"],[0.4444444444444444,\\\"#bd3786\\\"],[0.5555555555555556,\\\"#d8576b\\\"],[0.6666666666666666,\\\"#ed7953\\\"],[0.7777777777777778,\\\"#fb9f3a\\\"],[0.8888888888888888,\\\"#fdca26\\\"],[1.0,\\\"#f0f921\\\"]]}],\\\"scatterternary\\\":[{\\\"type\\\":\\\"scatterternary\\\",\\\"marker\\\":{\\\"colorbar\\\":{\\\"ticks\\\":\\\"\\\",\\\"outlinewidth\\\":0}}}],\\\"scatterpolargl\\\":[{\\\"type\\\":\\\"scatterpolargl\\\",\\\"marker\\\":{\\\"colorbar\\\":{\\\"ticks\\\":\\\"\\\",\\\"outlinewidth\\\":0}}}]}},\\\"height\\\":600,\\\"margin\\\":{\\\"l\\\":0,\\\"b\\\":0,\\\"r\\\":0,\\\"t\\\":65},\\\"autosize\\\":true},{\\\"showLink\\\":false,\\\"editable\\\":false,\\\"responsive\\\":true,\\\"staticPlot\\\":false,\\\"scrollZoom\\\":true}); gd.on(\\\"plotly_hover\\\",(function (data){var filtered_data=WebIO.PlotlyCommands.filterEventData(gd,data,\\\"hover\\\"); return !(filtered_data.isnil) ? (WebIO.setval({\\\"name\\\":\\\"hover\\\",\\\"scope\\\":\\\"14131933057536782019\\\",\\\"id\\\":\\\"9292320249548476718\\\",\\\"type\\\":\\\"observable\\\"},filtered_data.out)) : undefined})); gd.on(\\\"plotly_unhover\\\",(function (){return WebIO.setval({\\\"name\\\":\\\"hover\\\",\\\"scope\\\":\\\"14131933057536782019\\\",\\\"id\\\":\\\"9292320249548476718\\\",\\\"type\\\":\\\"observable\\\"},{})})); gd.on(\\\"plotly_selected\\\",(function (data){var filtered_data=WebIO.PlotlyCommands.filterEventData(gd,data,\\\"selected\\\"); return !(filtered_data.isnil) ? (WebIO.setval({\\\"name\\\":\\\"selected\\\",\\\"scope\\\":\\\"14131933057536782019\\\",\\\"id\\\":\\\"1747208277820066230\\\",\\\"type\\\":\\\"observable\\\"},filtered_data.out)) : undefined})); gd.on(\\\"plotly_deselect\\\",(function (){return WebIO.setval({\\\"name\\\":\\\"selected\\\",\\\"scope\\\":\\\"14131933057536782019\\\",\\\"id\\\":\\\"1747208277820066230\\\",\\\"type\\\":\\\"observable\\\"},{})})); gd.on(\\\"plotly_relayout\\\",(function (data){var filtered_data=WebIO.PlotlyCommands.filterEventData(gd,data,\\\"relayout\\\"); return !(filtered_data.isnil) ? (WebIO.setval({\\\"name\\\":\\\"relayout\\\",\\\"scope\\\":\\\"14131933057536782019\\\",\\\"id\\\":\\\"9237537353251862248\\\",\\\"type\\\":\\\"observable\\\"},filtered_data.out)) : undefined})); return gd.on(\\\"plotly_click\\\",(function (data){var filtered_data=WebIO.PlotlyCommands.filterEventData(gd,data,\\\"click\\\"); return !(filtered_data.isnil) ? (WebIO.setval({\\\"name\\\":\\\"click\\\",\\\"scope\\\":\\\"14131933057536782019\\\",\\\"id\\\":\\\"13146089943849149942\\\",\\\"type\\\":\\\"observable\\\"},filtered_data.out)) : undefined}))}));\\n    (WebIO.importBlock({\\\"data\\\":[{\\\"name\\\":\\\"Plotly\\\",\\\"type\\\":\\\"js\\\",\\\"url\\\":\\\"\\/assetserver\\/2c1443c4a3fadd5de9f99c6b5d8fa0ad35f7de28-plotly.min.js\\\"},{\\\"name\\\":null,\\\"type\\\":\\\"js\\\",\\\"url\\\":\\\"\\/assetserver\\/a617ad3fbd31c68e6d8336a472e6356f3a4cb577-plotly_webio.bundle.js\\\"}],\\\"type\\\":\\\"async_block\\\"})).then((imports) => handler.apply(this, imports));\\n}\\n\"],\"observables\":{\"_toImage\":{\"sync\":true,\"id\":\"8692620442539325062\",\"value\":{}},\"hover\":{\"sync\":false,\"id\":\"9292320249548476718\",\"value\":{}},\"selected\":{\"sync\":false,\"id\":\"1747208277820066230\",\"value\":{}},\"__gd_contents\":{\"sync\":false,\"id\":\"12797036428974780661\",\"value\":{}},\"click\":{\"sync\":false,\"id\":\"13146089943849149942\",\"value\":{}},\"image\":{\"sync\":true,\"id\":\"13241022458587850335\",\"value\":\"\"},\"__get_gd_contents\":{\"sync\":true,\"id\":\"12301070557637673839\",\"value\":\"\"},\"_downloadImage\":{\"sync\":true,\"id\":\"4764536271258533795\",\"value\":{}},\"relayout\":{\"sync\":false,\"id\":\"9237537353251862248\",\"value\":{}},\"_commands\":{\"sync\":true,\"id\":\"7574370733071090447\",\"value\":[]}}},\"children\":[{\"props\":{\"id\":\"plot-719f0845-c87c-4d07-8da2-cb1836874e9d\"},\"nodeType\":\"DOM\",\"type\":\"node\",\"instanceArgs\":{\"namespace\":\"html\",\"tag\":\"div\"},\"children\":[]}]},\n",
       "        window,\n",
       "    );\n",
       "    })()\n",
       "    </script>\n",
       "</div>\n"
      ],
      "text/plain": [
       "data: [\n",
       "  \"heatmap with fields transpose, type, x, y, and z\"\n",
       "]\n",
       "\n",
       "layout: \"layout with fields autosize, height, margin, and template\"\n",
       "\n"
      ]
     },
     "execution_count": 20,
     "metadata": {},
     "output_type": "execute_result"
    }
   ],
   "source": [
    "showHM_perGrp(\"67L\")"
   ]
  },
  {
   "cell_type": "markdown",
   "id": "508f6326-fd10-484b-b5db-33afe6153302",
   "metadata": {},
   "source": [
    "## 57N"
   ]
  },
  {
   "cell_type": "code",
   "execution_count": 20,
   "id": "c70ba286",
   "metadata": {},
   "outputs": [
    {
     "data": {
      "application/vnd.plotly.v1+json": {
       "config": {
        "editable": false,
        "responsive": true,
        "scrollZoom": true,
        "showLink": false,
        "staticPlot": false
       },
       "data": [
        {
         "transpose": true,
         "type": "heatmap",
         "x": [
          "IFN-?",
          "IFN-?",
          "IFN-?",
          "IFN-?",
          "IFN-?",
          "IFN-?",
          "IL-10",
          "IL-10",
          "IL-10",
          "IL-10",
          "IL-10",
          "IL-10",
          "IL-12p70",
          "IL-12p70",
          "IL-12p70",
          "IL-12p70",
          "IL-12p70",
          "IL-12p70",
          "IL-13",
          "IL-13",
          "IL-13",
          "IL-13",
          "IL-13",
          "IL-13",
          "IL-1?",
          "IL-1?",
          "IL-1?",
          "IL-1?",
          "IL-1?",
          "IL-1?",
          "IL-2",
          "IL-2",
          "IL-2",
          "IL-2",
          "IL-2",
          "IL-2",
          "IL-4",
          "IL-4",
          "IL-4",
          "IL-4",
          "IL-4",
          "IL-4",
          "IL-6",
          "IL-6",
          "IL-6",
          "IL-6",
          "IL-6",
          "IL-6",
          "IL-8",
          "IL-8",
          "IL-8",
          "IL-8",
          "IL-8",
          "IL-8",
          "TNF-�",
          "TNF-�",
          "TNF-�",
          "TNF-�",
          "TNF-�",
          "TNF-�"
         ],
         "y": [
          "PL_F_1ug",
          "PL_F_1ug",
          "PL_F_25ug",
          "PL_F_25ug",
          "PL_F_5ug",
          "PL_F_5ug",
          "PL_F_1ug",
          "PL_F_1ug",
          "PL_F_25ug",
          "PL_F_25ug",
          "PL_F_5ug",
          "PL_F_5ug",
          "PL_F_1ug",
          "PL_F_1ug",
          "PL_F_25ug",
          "PL_F_25ug",
          "PL_F_5ug",
          "PL_F_5ug",
          "PL_F_1ug",
          "PL_F_1ug",
          "PL_F_25ug",
          "PL_F_25ug",
          "PL_F_5ug",
          "PL_F_5ug",
          "PL_F_1ug",
          "PL_F_1ug",
          "PL_F_25ug",
          "PL_F_25ug",
          "PL_F_5ug",
          "PL_F_5ug",
          "PL_F_1ug",
          "PL_F_1ug",
          "PL_F_25ug",
          "PL_F_25ug",
          "PL_F_5ug",
          "PL_F_5ug",
          "PL_F_1ug",
          "PL_F_1ug",
          "PL_F_25ug",
          "PL_F_25ug",
          "PL_F_5ug",
          "PL_F_5ug",
          "PL_F_1ug",
          "PL_F_1ug",
          "PL_F_25ug",
          "PL_F_25ug",
          "PL_F_5ug",
          "PL_F_5ug",
          "PL_F_1ug",
          "PL_F_1ug",
          "PL_F_25ug",
          "PL_F_25ug",
          "PL_F_5ug",
          "PL_F_5ug",
          "PL_F_1ug",
          "PL_F_1ug",
          "PL_F_25ug",
          "PL_F_25ug",
          "PL_F_5ug",
          "PL_F_5ug"
         ],
         "z": [
          1.365561626,
          0.817716613,
          1.718027052,
          1.346889974,
          0.663606538,
          0.329014494,
          1.449248881,
          0.223313231,
          1.536908431,
          2.552767647,
          3.125676213,
          1.089601866,
          0.829178351,
          0.86526332,
          4.217078386,
          2.618200106,
          1.92123301,
          1.200208651,
          29.93073568,
          30.17102155,
          32.20690935,
          37.36389376,
          26.49664869,
          26.51826591,
          5.954740415,
          5.016289461,
          5.465581909,
          7.37178432,
          4.39707502,
          4.853585542,
          3.174183486,
          1.723713776,
          6.829371881,
          3.524696571,
          3.43876942,
          2.217581579,
          0.18926352,
          0.152080748,
          0.128861412,
          0.233973209,
          0.081321087,
          0.121625638,
          37.0402187,
          25.9844751,
          14.59147739,
          35.42911148,
          10.71313409,
          12.36553594,
          4157.366979,
          4020.773885,
          4119.065855,
          4172.271146,
          3940.25476,
          3926.647442,
          8.346551836,
          6.167014589,
          8.082546045,
          7.423568987,
          7.93360784,
          6.438371504
         ]
        }
       ],
       "frames": [],
       "layout": {
        "autosize": true,
        "margin": {
         "b": 0,
         "l": 0,
         "r": 0,
         "t": 65
        },
        "template": {
         "data": {
          "bar": [
           {
            "error_x": {
             "color": "#2a3f5f"
            },
            "error_y": {
             "color": "#2a3f5f"
            },
            "marker": {
             "line": {
              "color": "#E5ECF6",
              "width": 0.5
             }
            },
            "type": "bar"
           }
          ],
          "barpolar": [
           {
            "marker": {
             "line": {
              "color": "#E5ECF6",
              "width": 0.5
             }
            },
            "type": "barpolar"
           }
          ],
          "carpet": [
           {
            "aaxis": {
             "endlinecolor": "#2a3f5f",
             "gridcolor": "white",
             "linecolor": "white",
             "minorgridcolor": "white",
             "startlinecolor": "#2a3f5f"
            },
            "baxis": {
             "endlinecolor": "#2a3f5f",
             "gridcolor": "white",
             "linecolor": "white",
             "minorgridcolor": "white",
             "startlinecolor": "#2a3f5f"
            },
            "type": "carpet"
           }
          ],
          "choropleth": [
           {
            "colorbar": {
             "outlinewidth": 0,
             "ticks": ""
            },
            "type": "choropleth"
           }
          ],
          "contour": [
           {
            "colorbar": {
             "outlinewidth": 0,
             "ticks": ""
            },
            "colorscale": [
             [
              0,
              "#0d0887"
             ],
             [
              0.1111111111111111,
              "#46039f"
             ],
             [
              0.2222222222222222,
              "#7201a8"
             ],
             [
              0.3333333333333333,
              "#9c179e"
             ],
             [
              0.4444444444444444,
              "#bd3786"
             ],
             [
              0.5555555555555556,
              "#d8576b"
             ],
             [
              0.6666666666666666,
              "#ed7953"
             ],
             [
              0.7777777777777778,
              "#fb9f3a"
             ],
             [
              0.8888888888888888,
              "#fdca26"
             ],
             [
              1,
              "#f0f921"
             ]
            ],
            "type": "contour"
           }
          ],
          "contourcarpet": [
           {
            "colorbar": {
             "outlinewidth": 0,
             "ticks": ""
            },
            "type": "contourcarpet"
           }
          ],
          "heatmap": [
           {
            "colorbar": {
             "outlinewidth": 0,
             "ticks": ""
            },
            "colorscale": [
             [
              0,
              "#0d0887"
             ],
             [
              0.1111111111111111,
              "#46039f"
             ],
             [
              0.2222222222222222,
              "#7201a8"
             ],
             [
              0.3333333333333333,
              "#9c179e"
             ],
             [
              0.4444444444444444,
              "#bd3786"
             ],
             [
              0.5555555555555556,
              "#d8576b"
             ],
             [
              0.6666666666666666,
              "#ed7953"
             ],
             [
              0.7777777777777778,
              "#fb9f3a"
             ],
             [
              0.8888888888888888,
              "#fdca26"
             ],
             [
              1,
              "#f0f921"
             ]
            ],
            "type": "heatmap"
           }
          ],
          "heatmapgl": [
           {
            "colorbar": {
             "outlinewidth": 0,
             "ticks": ""
            },
            "colorscale": [
             [
              0,
              "#0d0887"
             ],
             [
              0.1111111111111111,
              "#46039f"
             ],
             [
              0.2222222222222222,
              "#7201a8"
             ],
             [
              0.3333333333333333,
              "#9c179e"
             ],
             [
              0.4444444444444444,
              "#bd3786"
             ],
             [
              0.5555555555555556,
              "#d8576b"
             ],
             [
              0.6666666666666666,
              "#ed7953"
             ],
             [
              0.7777777777777778,
              "#fb9f3a"
             ],
             [
              0.8888888888888888,
              "#fdca26"
             ],
             [
              1,
              "#f0f921"
             ]
            ],
            "type": "heatmapgl"
           }
          ],
          "histogram": [
           {
            "marker": {
             "colorbar": {
              "outlinewidth": 0,
              "ticks": ""
             }
            },
            "type": "histogram"
           }
          ],
          "histogram2d": [
           {
            "colorbar": {
             "outlinewidth": 0,
             "ticks": ""
            },
            "colorscale": [
             [
              0,
              "#0d0887"
             ],
             [
              0.1111111111111111,
              "#46039f"
             ],
             [
              0.2222222222222222,
              "#7201a8"
             ],
             [
              0.3333333333333333,
              "#9c179e"
             ],
             [
              0.4444444444444444,
              "#bd3786"
             ],
             [
              0.5555555555555556,
              "#d8576b"
             ],
             [
              0.6666666666666666,
              "#ed7953"
             ],
             [
              0.7777777777777778,
              "#fb9f3a"
             ],
             [
              0.8888888888888888,
              "#fdca26"
             ],
             [
              1,
              "#f0f921"
             ]
            ],
            "type": "histogram2d"
           }
          ],
          "histogram2dcontour": [
           {
            "colorbar": {
             "outlinewidth": 0,
             "ticks": ""
            },
            "colorscale": [
             [
              0,
              "#0d0887"
             ],
             [
              0.1111111111111111,
              "#46039f"
             ],
             [
              0.2222222222222222,
              "#7201a8"
             ],
             [
              0.3333333333333333,
              "#9c179e"
             ],
             [
              0.4444444444444444,
              "#bd3786"
             ],
             [
              0.5555555555555556,
              "#d8576b"
             ],
             [
              0.6666666666666666,
              "#ed7953"
             ],
             [
              0.7777777777777778,
              "#fb9f3a"
             ],
             [
              0.8888888888888888,
              "#fdca26"
             ],
             [
              1,
              "#f0f921"
             ]
            ],
            "type": "histogram2dcontour"
           }
          ],
          "mesh3d": [
           {
            "colorbar": {
             "outlinewidth": 0,
             "ticks": ""
            },
            "type": "mesh3d"
           }
          ],
          "parcoords": [
           {
            "line": {
             "colorbar": {
              "outlinewidth": 0,
              "ticks": ""
             }
            },
            "type": "parcoords"
           }
          ],
          "pie": [
           {
            "automargin": true,
            "type": "pie"
           }
          ],
          "scatter": [
           {
            "marker": {
             "colorbar": {
              "outlinewidth": 0,
              "ticks": ""
             }
            },
            "type": "scatter"
           }
          ],
          "scatter3d": [
           {
            "line": {
             "colorbar": {
              "outlinewidth": 0,
              "ticks": ""
             }
            },
            "marker": {
             "colorbar": {
              "outlinewidth": 0,
              "ticks": ""
             }
            },
            "type": "scatter3d"
           }
          ],
          "scattercarpet": [
           {
            "marker": {
             "colorbar": {
              "outlinewidth": 0,
              "ticks": ""
             }
            },
            "type": "scattercarpet"
           }
          ],
          "scattergeo": [
           {
            "marker": {
             "colorbar": {
              "outlinewidth": 0,
              "ticks": ""
             }
            },
            "type": "scattergeo"
           }
          ],
          "scattergl": [
           {
            "marker": {
             "colorbar": {
              "outlinewidth": 0,
              "ticks": ""
             }
            },
            "type": "scattergl"
           }
          ],
          "scattermapbox": [
           {
            "marker": {
             "colorbar": {
              "outlinewidth": 0,
              "ticks": ""
             }
            },
            "type": "scattermapbox"
           }
          ],
          "scatterpolar": [
           {
            "marker": {
             "colorbar": {
              "outlinewidth": 0,
              "ticks": ""
             }
            },
            "type": "scatterpolar"
           }
          ],
          "scatterpolargl": [
           {
            "marker": {
             "colorbar": {
              "outlinewidth": 0,
              "ticks": ""
             }
            },
            "type": "scatterpolargl"
           }
          ],
          "scatterternary": [
           {
            "marker": {
             "colorbar": {
              "outlinewidth": 0,
              "ticks": ""
             }
            },
            "type": "scatterternary"
           }
          ],
          "surface": [
           {
            "colorbar": {
             "outlinewidth": 0,
             "ticks": ""
            },
            "colorscale": [
             [
              0,
              "#0d0887"
             ],
             [
              0.1111111111111111,
              "#46039f"
             ],
             [
              0.2222222222222222,
              "#7201a8"
             ],
             [
              0.3333333333333333,
              "#9c179e"
             ],
             [
              0.4444444444444444,
              "#bd3786"
             ],
             [
              0.5555555555555556,
              "#d8576b"
             ],
             [
              0.6666666666666666,
              "#ed7953"
             ],
             [
              0.7777777777777778,
              "#fb9f3a"
             ],
             [
              0.8888888888888888,
              "#fdca26"
             ],
             [
              1,
              "#f0f921"
             ]
            ],
            "type": "surface"
           }
          ],
          "table": [
           {
            "cells": {
             "fill": {
              "color": "#EBF0F8"
             },
             "line": {
              "color": "white"
             }
            },
            "header": {
             "fill": {
              "color": "#C8D4E3"
             },
             "line": {
              "color": "white"
             }
            },
            "type": "table"
           }
          ]
         },
         "layout": {
          "annotationdefaults": {
           "arrowcolor": "#2a3f5f",
           "arrowhead": 0,
           "arrowwidth": 1
          },
          "autotypenumbers": "strict",
          "coloraxis": {
           "colorbar": {
            "outlinewidth": 0,
            "ticks": ""
           }
          },
          "colorscale": {
           "diverging": [
            [
             0,
             "#8e0152"
            ],
            [
             0.1,
             "#c51b7d"
            ],
            [
             0.2,
             "#de77ae"
            ],
            [
             0.3,
             "#f1b6da"
            ],
            [
             0.4,
             "#fde0ef"
            ],
            [
             0.5,
             "#f7f7f7"
            ],
            [
             0.6,
             "#e6f5d0"
            ],
            [
             0.7,
             "#b8e186"
            ],
            [
             0.8,
             "#7fbc41"
            ],
            [
             0.9,
             "#4d9221"
            ],
            [
             1,
             "#276419"
            ]
           ],
           "sequential": [
            [
             0,
             "#0d0887"
            ],
            [
             0.1111111111111111,
             "#46039f"
            ],
            [
             0.2222222222222222,
             "#7201a8"
            ],
            [
             0.3333333333333333,
             "#9c179e"
            ],
            [
             0.4444444444444444,
             "#bd3786"
            ],
            [
             0.5555555555555556,
             "#d8576b"
            ],
            [
             0.6666666666666666,
             "#ed7953"
            ],
            [
             0.7777777777777778,
             "#fb9f3a"
            ],
            [
             0.8888888888888888,
             "#fdca26"
            ],
            [
             1,
             "#f0f921"
            ]
           ],
           "sequentialminus": [
            [
             0,
             "#0d0887"
            ],
            [
             0.1111111111111111,
             "#46039f"
            ],
            [
             0.2222222222222222,
             "#7201a8"
            ],
            [
             0.3333333333333333,
             "#9c179e"
            ],
            [
             0.4444444444444444,
             "#bd3786"
            ],
            [
             0.5555555555555556,
             "#d8576b"
            ],
            [
             0.6666666666666666,
             "#ed7953"
            ],
            [
             0.7777777777777778,
             "#fb9f3a"
            ],
            [
             0.8888888888888888,
             "#fdca26"
            ],
            [
             1,
             "#f0f921"
            ]
           ]
          },
          "colorway": [
           "#636efa",
           "#EF553B",
           "#00cc96",
           "#ab63fa",
           "#FFA15A",
           "#19d3f3",
           "#FF6692",
           "#B6E880",
           "#FF97FF",
           "#FECB52"
          ],
          "font": {
           "color": "#2a3f5f"
          },
          "geo": {
           "bgcolor": "white",
           "lakecolor": "white",
           "landcolor": "#E5ECF6",
           "showlakes": true,
           "showland": true,
           "subunitcolor": "white"
          },
          "hoverlabel": {
           "align": "left"
          },
          "hovermode": "closest",
          "mapbox": {
           "style": "light"
          },
          "paper_bgcolor": "white",
          "plot_bgcolor": "#E5ECF6",
          "polar": {
           "angularaxis": {
            "gridcolor": "white",
            "linecolor": "white",
            "ticks": ""
           },
           "bgcolor": "#E5ECF6",
           "radialaxis": {
            "gridcolor": "white",
            "linecolor": "white",
            "ticks": ""
           }
          },
          "scene": {
           "xaxis": {
            "backgroundcolor": "#E5ECF6",
            "gridcolor": "white",
            "gridwidth": 2,
            "linecolor": "white",
            "showbackground": true,
            "ticks": "",
            "zerolinecolor": "white"
           },
           "yaxis": {
            "backgroundcolor": "#E5ECF6",
            "gridcolor": "white",
            "gridwidth": 2,
            "linecolor": "white",
            "showbackground": true,
            "ticks": "",
            "zerolinecolor": "white"
           },
           "zaxis": {
            "backgroundcolor": "#E5ECF6",
            "gridcolor": "white",
            "gridwidth": 2,
            "linecolor": "white",
            "showbackground": true,
            "ticks": "",
            "zerolinecolor": "white"
           }
          },
          "shapedefaults": {
           "line": {
            "color": "#2a3f5f"
           }
          },
          "ternary": {
           "aaxis": {
            "gridcolor": "white",
            "linecolor": "white",
            "ticks": ""
           },
           "baxis": {
            "gridcolor": "white",
            "linecolor": "white",
            "ticks": ""
           },
           "bgcolor": "#E5ECF6",
           "caxis": {
            "gridcolor": "white",
            "linecolor": "white",
            "ticks": ""
           }
          },
          "title": {
           "x": 0.05
          },
          "xaxis": {
           "automargin": true,
           "gridcolor": "white",
           "linecolor": "white",
           "ticks": "",
           "title": {
            "standoff": 15
           },
           "zerolinecolor": "white",
           "zerolinewidth": 2
          },
          "yaxis": {
           "automargin": true,
           "gridcolor": "white",
           "linecolor": "white",
           "ticks": "",
           "title": {
            "standoff": 15
           },
           "zerolinecolor": "white",
           "zerolinewidth": 2
          }
         }
        },
        "xaxis": {
         "autorange": true,
         "range": [
          -0.5,
          9.5
         ],
         "type": "category"
        },
        "yaxis": {
         "autorange": true,
         "range": [
          -0.5,
          2.5
         ],
         "type": "category"
        }
       }
      },
      "image/png": "[encoded data removed]",
      "text/html": [
       "<div\n",
       "    class=\"webio-mountpoint\"\n",
       "    data-webio-mountpoint=\"8928167264086919112\"\n",
       ">\n",
       "    <script>\n",
       "    (function(){\n",
       "    // Some integrations (namely, IJulia/Jupyter) use an alternate render pathway than\n",
       "    // just putting the html on the page. If WebIO isn't defined, then it's pretty likely\n",
       "    // that we're in one of those situations and the integration just isn't installed\n",
       "    // correctly.\n",
       "    if (typeof window.WebIO === \"undefined\") {\n",
       "        document\n",
       "            .querySelector('[data-webio-mountpoint=\"8928167264086919112\"]')\n",
       "            .innerHTML = (\n",
       "                '<div style=\"padding: 1em; background-color: #f8d6da; border: 1px solid #f5c6cb; font-weight: bold;\">' +\n",
       "                '<p><strong>WebIO not detected.</strong></p>' +\n",
       "                '<p>Please read ' +\n",
       "                '<a href=\"https://juliagizmos.github.io/WebIO.jl/latest/troubleshooting/not-detected/\" target=\"_blank\">the troubleshooting guide</a> ' +\n",
       "                'for more information on how to resolve this issue.</p>' +\n",
       "                '<p><a href=\"https://juliagizmos.github.io/WebIO.jl/latest/troubleshooting/not-detected/\" target=\"_blank\">https://juliagizmos.github.io/WebIO.jl/latest/troubleshooting/not-detected/</a></p>' +\n",
       "                '</div>'\n",
       "            );\n",
       "        return;\n",
       "    }\n",
       "    WebIO.mount(\n",
       "        document.querySelector('[data-webio-mountpoint=\"8928167264086919112\"]'),\n",
       "        {\"props\":{},\"nodeType\":\"Scope\",\"type\":\"node\",\"instanceArgs\":{\"imports\":{\"data\":[{\"name\":\"Plotly\",\"type\":\"js\",\"url\":\"\\/assetserver\\/2c1443c4a3fadd5de9f99c6b5d8fa0ad35f7de28-plotly.min.js\"},{\"name\":null,\"type\":\"js\",\"url\":\"\\/assetserver\\/a617ad3fbd31c68e6d8336a472e6356f3a4cb577-plotly_webio.bundle.js\"}],\"type\":\"async_block\"},\"id\":\"14131933057536782019\",\"handlers\":{\"_toImage\":[\"(function (options){return this.Plotly.toImage(this.plotElem,options).then((function (data){return WebIO.setval({\\\"name\\\":\\\"image\\\",\\\"scope\\\":\\\"14131933057536782019\\\",\\\"id\\\":\\\"13241022458587850335\\\",\\\"type\\\":\\\"observable\\\"},data)}))})\"],\"__get_gd_contents\":[\"(function (prop){prop==\\\"data\\\" ? (WebIO.setval({\\\"name\\\":\\\"__gd_contents\\\",\\\"scope\\\":\\\"14131933057536782019\\\",\\\"id\\\":\\\"12797036428974780661\\\",\\\"type\\\":\\\"observable\\\"},this.plotElem.data)) : undefined; return prop==\\\"layout\\\" ? (WebIO.setval({\\\"name\\\":\\\"__gd_contents\\\",\\\"scope\\\":\\\"14131933057536782019\\\",\\\"id\\\":\\\"12797036428974780661\\\",\\\"type\\\":\\\"observable\\\"},this.plotElem.layout)) : undefined})\"],\"_downloadImage\":[\"(function (options){return this.Plotly.downloadImage(this.plotElem,options)})\"],\"_commands\":[\"(function (args){var fn=args.shift(); var elem=this.plotElem; var Plotly=this.Plotly; args.unshift(elem); return Plotly[fn].apply(this,args)})\"]},\"systemjs_options\":null,\"mount_callbacks\":[\"function () {\\n    var handler = ((function (Plotly,PlotlyWebIO){PlotlyWebIO.init(WebIO); var gd=this.dom.querySelector(\\\"#plot-719f0845-c87c-4d07-8da2-cb1836874e9d\\\"); this.plotElem=gd; this.Plotly=Plotly; (window.Blink!==undefined) ? (gd.style.width=\\\"100%\\\", gd.style.height=\\\"100vh\\\", gd.style.marginLeft=\\\"0%\\\", gd.style.marginTop=\\\"0vh\\\") : undefined; window.onresize=(function (){return Plotly.Plots.resize(gd)}); Plotly.newPlot(gd,[{\\\"y\\\":[\\\"PL_F_1ug\\\",\\\"PL_F_1ug\\\",\\\"PL_F_25ug\\\",\\\"PL_F_25ug\\\",\\\"PL_F_5ug\\\",\\\"PL_F_5ug\\\",\\\"PL_F_1ug\\\",\\\"PL_F_1ug\\\",\\\"PL_F_25ug\\\",\\\"PL_F_25ug\\\",\\\"PL_F_5ug\\\",\\\"PL_F_5ug\\\",\\\"PL_F_1ug\\\",\\\"PL_F_1ug\\\",\\\"PL_F_25ug\\\",\\\"PL_F_25ug\\\",\\\"PL_F_5ug\\\",\\\"PL_F_5ug\\\",\\\"PL_F_1ug\\\",\\\"PL_F_1ug\\\",\\\"PL_F_25ug\\\",\\\"PL_F_25ug\\\",\\\"PL_F_5ug\\\",\\\"PL_F_5ug\\\",\\\"PL_F_1ug\\\",\\\"PL_F_1ug\\\",\\\"PL_F_25ug\\\",\\\"PL_F_25ug\\\",\\\"PL_F_5ug\\\",\\\"PL_F_5ug\\\",\\\"PL_F_1ug\\\",\\\"PL_F_1ug\\\",\\\"PL_F_25ug\\\",\\\"PL_F_25ug\\\",\\\"PL_F_5ug\\\",\\\"PL_F_5ug\\\",\\\"PL_F_1ug\\\",\\\"PL_F_1ug\\\",\\\"PL_F_25ug\\\",\\\"PL_F_25ug\\\",\\\"PL_F_5ug\\\",\\\"PL_F_5ug\\\",\\\"PL_F_1ug\\\",\\\"PL_F_1ug\\\",\\\"PL_F_25ug\\\",\\\"PL_F_25ug\\\",\\\"PL_F_5ug\\\",\\\"PL_F_5ug\\\",\\\"PL_F_1ug\\\",\\\"PL_F_1ug\\\",\\\"PL_F_25ug\\\",\\\"PL_F_25ug\\\",\\\"PL_F_5ug\\\",\\\"PL_F_5ug\\\",\\\"PL_F_1ug\\\",\\\"PL_F_1ug\\\",\\\"PL_F_25ug\\\",\\\"PL_F_25ug\\\",\\\"PL_F_5ug\\\",\\\"PL_F_5ug\\\"],\\\"type\\\":\\\"heatmap\\\",\\\"z\\\":[1.365561626,0.817716613,1.718027052,1.346889974,0.663606538,0.329014494,1.449248881,0.223313231,1.536908431,2.552767647,3.125676213,1.089601866,0.829178351,0.86526332,4.217078386,2.618200106,1.92123301,1.200208651,29.93073568,30.17102155,32.20690935,37.36389376,26.49664869,26.51826591,5.954740415,5.016289461,5.465581909,7.37178432,4.39707502,4.853585542,3.174183486,1.723713776,6.829371881,3.524696571,3.43876942,2.217581579,0.18926352,0.152080748,0.128861412,0.233973209,0.081321087,0.121625638,37.0402187,25.9844751,14.59147739,35.42911148,10.71313409,12.36553594,4157.366979,4020.773885,4119.065855,4172.271146,3940.25476,3926.647442,8.346551836,6.167014589,8.082546045,7.423568987,7.93360784,6.438371504],\\\"transpose\\\":true,\\\"x\\\":[\\\"IFN-?\\\",\\\"IFN-?\\\",\\\"IFN-?\\\",\\\"IFN-?\\\",\\\"IFN-?\\\",\\\"IFN-?\\\",\\\"IL-10\\\",\\\"IL-10\\\",\\\"IL-10\\\",\\\"IL-10\\\",\\\"IL-10\\\",\\\"IL-10\\\",\\\"IL-12p70\\\",\\\"IL-12p70\\\",\\\"IL-12p70\\\",\\\"IL-12p70\\\",\\\"IL-12p70\\\",\\\"IL-12p70\\\",\\\"IL-13\\\",\\\"IL-13\\\",\\\"IL-13\\\",\\\"IL-13\\\",\\\"IL-13\\\",\\\"IL-13\\\",\\\"IL-1?\\\",\\\"IL-1?\\\",\\\"IL-1?\\\",\\\"IL-1?\\\",\\\"IL-1?\\\",\\\"IL-1?\\\",\\\"IL-2\\\",\\\"IL-2\\\",\\\"IL-2\\\",\\\"IL-2\\\",\\\"IL-2\\\",\\\"IL-2\\\",\\\"IL-4\\\",\\\"IL-4\\\",\\\"IL-4\\\",\\\"IL-4\\\",\\\"IL-4\\\",\\\"IL-4\\\",\\\"IL-6\\\",\\\"IL-6\\\",\\\"IL-6\\\",\\\"IL-6\\\",\\\"IL-6\\\",\\\"IL-6\\\",\\\"IL-8\\\",\\\"IL-8\\\",\\\"IL-8\\\",\\\"IL-8\\\",\\\"IL-8\\\",\\\"IL-8\\\",\\\"TNF-�\\\",\\\"TNF-�\\\",\\\"TNF-�\\\",\\\"TNF-�\\\",\\\"TNF-�\\\",\\\"TNF-�\\\"]}],{\\\"template\\\":{\\\"layout\\\":{\\\"coloraxis\\\":{\\\"colorbar\\\":{\\\"ticks\\\":\\\"\\\",\\\"outlinewidth\\\":0}},\\\"xaxis\\\":{\\\"gridcolor\\\":\\\"white\\\",\\\"zerolinewidth\\\":2,\\\"title\\\":{\\\"standoff\\\":15},\\\"ticks\\\":\\\"\\\",\\\"zerolinecolor\\\":\\\"white\\\",\\\"automargin\\\":true,\\\"linecolor\\\":\\\"white\\\"},\\\"hovermode\\\":\\\"closest\\\",\\\"paper_bgcolor\\\":\\\"white\\\",\\\"geo\\\":{\\\"showlakes\\\":true,\\\"showland\\\":true,\\\"landcolor\\\":\\\"#E5ECF6\\\",\\\"bgcolor\\\":\\\"white\\\",\\\"subunitcolor\\\":\\\"white\\\",\\\"lakecolor\\\":\\\"white\\\"},\\\"colorscale\\\":{\\\"sequential\\\":[[0.0,\\\"#0d0887\\\"],[0.1111111111111111,\\\"#46039f\\\"],[0.2222222222222222,\\\"#7201a8\\\"],[0.3333333333333333,\\\"#9c179e\\\"],[0.4444444444444444,\\\"#bd3786\\\"],[0.5555555555555556,\\\"#d8576b\\\"],[0.6666666666666666,\\\"#ed7953\\\"],[0.7777777777777778,\\\"#fb9f3a\\\"],[0.8888888888888888,\\\"#fdca26\\\"],[1.0,\\\"#f0f921\\\"]],\\\"diverging\\\":[[0,\\\"#8e0152\\\"],[0.1,\\\"#c51b7d\\\"],[0.2,\\\"#de77ae\\\"],[0.3,\\\"#f1b6da\\\"],[0.4,\\\"#fde0ef\\\"],[0.5,\\\"#f7f7f7\\\"],[0.6,\\\"#e6f5d0\\\"],[0.7,\\\"#b8e186\\\"],[0.8,\\\"#7fbc41\\\"],[0.9,\\\"#4d9221\\\"],[1,\\\"#276419\\\"]],\\\"sequentialminus\\\":[[0.0,\\\"#0d0887\\\"],[0.1111111111111111,\\\"#46039f\\\"],[0.2222222222222222,\\\"#7201a8\\\"],[0.3333333333333333,\\\"#9c179e\\\"],[0.4444444444444444,\\\"#bd3786\\\"],[0.5555555555555556,\\\"#d8576b\\\"],[0.6666666666666666,\\\"#ed7953\\\"],[0.7777777777777778,\\\"#fb9f3a\\\"],[0.8888888888888888,\\\"#fdca26\\\"],[1.0,\\\"#f0f921\\\"]]},\\\"yaxis\\\":{\\\"gridcolor\\\":\\\"white\\\",\\\"zerolinewidth\\\":2,\\\"title\\\":{\\\"standoff\\\":15},\\\"ticks\\\":\\\"\\\",\\\"zerolinecolor\\\":\\\"white\\\",\\\"automargin\\\":true,\\\"linecolor\\\":\\\"white\\\"},\\\"shapedefaults\\\":{\\\"line\\\":{\\\"color\\\":\\\"#2a3f5f\\\"}},\\\"hoverlabel\\\":{\\\"align\\\":\\\"left\\\"},\\\"mapbox\\\":{\\\"style\\\":\\\"light\\\"},\\\"polar\\\":{\\\"angularaxis\\\":{\\\"gridcolor\\\":\\\"white\\\",\\\"ticks\\\":\\\"\\\",\\\"linecolor\\\":\\\"white\\\"},\\\"bgcolor\\\":\\\"#E5ECF6\\\",\\\"radialaxis\\\":{\\\"gridcolor\\\":\\\"white\\\",\\\"ticks\\\":\\\"\\\",\\\"linecolor\\\":\\\"white\\\"}},\\\"autotypenumbers\\\":\\\"strict\\\",\\\"font\\\":{\\\"color\\\":\\\"#2a3f5f\\\"},\\\"ternary\\\":{\\\"baxis\\\":{\\\"gridcolor\\\":\\\"white\\\",\\\"ticks\\\":\\\"\\\",\\\"linecolor\\\":\\\"white\\\"},\\\"bgcolor\\\":\\\"#E5ECF6\\\",\\\"caxis\\\":{\\\"gridcolor\\\":\\\"white\\\",\\\"ticks\\\":\\\"\\\",\\\"linecolor\\\":\\\"white\\\"},\\\"aaxis\\\":{\\\"gridcolor\\\":\\\"white\\\",\\\"ticks\\\":\\\"\\\",\\\"linecolor\\\":\\\"white\\\"}},\\\"annotationdefaults\\\":{\\\"arrowhead\\\":0,\\\"arrowwidth\\\":1,\\\"arrowcolor\\\":\\\"#2a3f5f\\\"},\\\"plot_bgcolor\\\":\\\"#E5ECF6\\\",\\\"title\\\":{\\\"x\\\":0.05},\\\"scene\\\":{\\\"xaxis\\\":{\\\"gridcolor\\\":\\\"white\\\",\\\"gridwidth\\\":2,\\\"backgroundcolor\\\":\\\"#E5ECF6\\\",\\\"ticks\\\":\\\"\\\",\\\"showbackground\\\":true,\\\"zerolinecolor\\\":\\\"white\\\",\\\"linecolor\\\":\\\"white\\\"},\\\"zaxis\\\":{\\\"gridcolor\\\":\\\"white\\\",\\\"gridwidth\\\":2,\\\"backgroundcolor\\\":\\\"#E5ECF6\\\",\\\"ticks\\\":\\\"\\\",\\\"showbackground\\\":true,\\\"zerolinecolor\\\":\\\"white\\\",\\\"linecolor\\\":\\\"white\\\"},\\\"yaxis\\\":{\\\"gridcolor\\\":\\\"white\\\",\\\"gridwidth\\\":2,\\\"backgroundcolor\\\":\\\"#E5ECF6\\\",\\\"ticks\\\":\\\"\\\",\\\"showbackground\\\":true,\\\"zerolinecolor\\\":\\\"white\\\",\\\"linecolor\\\":\\\"white\\\"}},\\\"colorway\\\":[\\\"#636efa\\\",\\\"#EF553B\\\",\\\"#00cc96\\\",\\\"#ab63fa\\\",\\\"#FFA15A\\\",\\\"#19d3f3\\\",\\\"#FF6692\\\",\\\"#B6E880\\\",\\\"#FF97FF\\\",\\\"#FECB52\\\"]},\\\"data\\\":{\\\"barpolar\\\":[{\\\"type\\\":\\\"barpolar\\\",\\\"marker\\\":{\\\"line\\\":{\\\"color\\\":\\\"#E5ECF6\\\",\\\"width\\\":0.5}}}],\\\"carpet\\\":[{\\\"aaxis\\\":{\\\"gridcolor\\\":\\\"white\\\",\\\"endlinecolor\\\":\\\"#2a3f5f\\\",\\\"minorgridcolor\\\":\\\"white\\\",\\\"startlinecolor\\\":\\\"#2a3f5f\\\",\\\"linecolor\\\":\\\"white\\\"},\\\"type\\\":\\\"carpet\\\",\\\"baxis\\\":{\\\"gridcolor\\\":\\\"white\\\",\\\"endlinecolor\\\":\\\"#2a3f5f\\\",\\\"minorgridcolor\\\":\\\"white\\\",\\\"startlinecolor\\\":\\\"#2a3f5f\\\",\\\"linecolor\\\":\\\"white\\\"}}],\\\"scatterpolar\\\":[{\\\"type\\\":\\\"scatterpolar\\\",\\\"marker\\\":{\\\"colorbar\\\":{\\\"ticks\\\":\\\"\\\",\\\"outlinewidth\\\":0}}}],\\\"parcoords\\\":[{\\\"line\\\":{\\\"colorbar\\\":{\\\"ticks\\\":\\\"\\\",\\\"outlinewidth\\\":0}},\\\"type\\\":\\\"parcoords\\\"}],\\\"scatter\\\":[{\\\"type\\\":\\\"scatter\\\",\\\"marker\\\":{\\\"colorbar\\\":{\\\"ticks\\\":\\\"\\\",\\\"outlinewidth\\\":0}}}],\\\"histogram2dcontour\\\":[{\\\"colorbar\\\":{\\\"ticks\\\":\\\"\\\",\\\"outlinewidth\\\":0},\\\"type\\\":\\\"histogram2dcontour\\\",\\\"colorscale\\\":[[0.0,\\\"#0d0887\\\"],[0.1111111111111111,\\\"#46039f\\\"],[0.2222222222222222,\\\"#7201a8\\\"],[0.3333333333333333,\\\"#9c179e\\\"],[0.4444444444444444,\\\"#bd3786\\\"],[0.5555555555555556,\\\"#d8576b\\\"],[0.6666666666666666,\\\"#ed7953\\\"],[0.7777777777777778,\\\"#fb9f3a\\\"],[0.8888888888888888,\\\"#fdca26\\\"],[1.0,\\\"#f0f921\\\"]]}],\\\"contour\\\":[{\\\"colorbar\\\":{\\\"ticks\\\":\\\"\\\",\\\"outlinewidth\\\":0},\\\"type\\\":\\\"contour\\\",\\\"colorscale\\\":[[0.0,\\\"#0d0887\\\"],[0.1111111111111111,\\\"#46039f\\\"],[0.2222222222222222,\\\"#7201a8\\\"],[0.3333333333333333,\\\"#9c179e\\\"],[0.4444444444444444,\\\"#bd3786\\\"],[0.5555555555555556,\\\"#d8576b\\\"],[0.6666666666666666,\\\"#ed7953\\\"],[0.7777777777777778,\\\"#fb9f3a\\\"],[0.8888888888888888,\\\"#fdca26\\\"],[1.0,\\\"#f0f921\\\"]]}],\\\"scattercarpet\\\":[{\\\"type\\\":\\\"scattercarpet\\\",\\\"marker\\\":{\\\"colorbar\\\":{\\\"ticks\\\":\\\"\\\",\\\"outlinewidth\\\":0}}}],\\\"mesh3d\\\":[{\\\"colorbar\\\":{\\\"ticks\\\":\\\"\\\",\\\"outlinewidth\\\":0},\\\"type\\\":\\\"mesh3d\\\"}],\\\"surface\\\":[{\\\"colorbar\\\":{\\\"ticks\\\":\\\"\\\",\\\"outlinewidth\\\":0},\\\"type\\\":\\\"surface\\\",\\\"colorscale\\\":[[0.0,\\\"#0d0887\\\"],[0.1111111111111111,\\\"#46039f\\\"],[0.2222222222222222,\\\"#7201a8\\\"],[0.3333333333333333,\\\"#9c179e\\\"],[0.4444444444444444,\\\"#bd3786\\\"],[0.5555555555555556,\\\"#d8576b\\\"],[0.6666666666666666,\\\"#ed7953\\\"],[0.7777777777777778,\\\"#fb9f3a\\\"],[0.8888888888888888,\\\"#fdca26\\\"],[1.0,\\\"#f0f921\\\"]]}],\\\"scattermapbox\\\":[{\\\"type\\\":\\\"scattermapbox\\\",\\\"marker\\\":{\\\"colorbar\\\":{\\\"ticks\\\":\\\"\\\",\\\"outlinewidth\\\":0}}}],\\\"scattergeo\\\":[{\\\"type\\\":\\\"scattergeo\\\",\\\"marker\\\":{\\\"colorbar\\\":{\\\"ticks\\\":\\\"\\\",\\\"outlinewidth\\\":0}}}],\\\"histogram\\\":[{\\\"type\\\":\\\"histogram\\\",\\\"marker\\\":{\\\"colorbar\\\":{\\\"ticks\\\":\\\"\\\",\\\"outlinewidth\\\":0}}}],\\\"pie\\\":[{\\\"type\\\":\\\"pie\\\",\\\"automargin\\\":true}],\\\"choropleth\\\":[{\\\"colorbar\\\":{\\\"ticks\\\":\\\"\\\",\\\"outlinewidth\\\":0},\\\"type\\\":\\\"choropleth\\\"}],\\\"heatmapgl\\\":[{\\\"colorbar\\\":{\\\"ticks\\\":\\\"\\\",\\\"outlinewidth\\\":0},\\\"type\\\":\\\"heatmapgl\\\",\\\"colorscale\\\":[[0.0,\\\"#0d0887\\\"],[0.1111111111111111,\\\"#46039f\\\"],[0.2222222222222222,\\\"#7201a8\\\"],[0.3333333333333333,\\\"#9c179e\\\"],[0.4444444444444444,\\\"#bd3786\\\"],[0.5555555555555556,\\\"#d8576b\\\"],[0.6666666666666666,\\\"#ed7953\\\"],[0.7777777777777778,\\\"#fb9f3a\\\"],[0.8888888888888888,\\\"#fdca26\\\"],[1.0,\\\"#f0f921\\\"]]}],\\\"bar\\\":[{\\\"type\\\":\\\"bar\\\",\\\"error_y\\\":{\\\"color\\\":\\\"#2a3f5f\\\"},\\\"error_x\\\":{\\\"color\\\":\\\"#2a3f5f\\\"},\\\"marker\\\":{\\\"line\\\":{\\\"color\\\":\\\"#E5ECF6\\\",\\\"width\\\":0.5}}}],\\\"heatmap\\\":[{\\\"colorbar\\\":{\\\"ticks\\\":\\\"\\\",\\\"outlinewidth\\\":0},\\\"type\\\":\\\"heatmap\\\",\\\"colorscale\\\":[[0.0,\\\"#0d0887\\\"],[0.1111111111111111,\\\"#46039f\\\"],[0.2222222222222222,\\\"#7201a8\\\"],[0.3333333333333333,\\\"#9c179e\\\"],[0.4444444444444444,\\\"#bd3786\\\"],[0.5555555555555556,\\\"#d8576b\\\"],[0.6666666666666666,\\\"#ed7953\\\"],[0.7777777777777778,\\\"#fb9f3a\\\"],[0.8888888888888888,\\\"#fdca26\\\"],[1.0,\\\"#f0f921\\\"]]}],\\\"contourcarpet\\\":[{\\\"colorbar\\\":{\\\"ticks\\\":\\\"\\\",\\\"outlinewidth\\\":0},\\\"type\\\":\\\"contourcarpet\\\"}],\\\"table\\\":[{\\\"type\\\":\\\"table\\\",\\\"header\\\":{\\\"line\\\":{\\\"color\\\":\\\"white\\\"},\\\"fill\\\":{\\\"color\\\":\\\"#C8D4E3\\\"}},\\\"cells\\\":{\\\"line\\\":{\\\"color\\\":\\\"white\\\"},\\\"fill\\\":{\\\"color\\\":\\\"#EBF0F8\\\"}}}],\\\"scatter3d\\\":[{\\\"line\\\":{\\\"colorbar\\\":{\\\"ticks\\\":\\\"\\\",\\\"outlinewidth\\\":0}},\\\"type\\\":\\\"scatter3d\\\",\\\"marker\\\":{\\\"colorbar\\\":{\\\"ticks\\\":\\\"\\\",\\\"outlinewidth\\\":0}}}],\\\"scattergl\\\":[{\\\"type\\\":\\\"scattergl\\\",\\\"marker\\\":{\\\"colorbar\\\":{\\\"ticks\\\":\\\"\\\",\\\"outlinewidth\\\":0}}}],\\\"histogram2d\\\":[{\\\"colorbar\\\":{\\\"ticks\\\":\\\"\\\",\\\"outlinewidth\\\":0},\\\"type\\\":\\\"histogram2d\\\",\\\"colorscale\\\":[[0.0,\\\"#0d0887\\\"],[0.1111111111111111,\\\"#46039f\\\"],[0.2222222222222222,\\\"#7201a8\\\"],[0.3333333333333333,\\\"#9c179e\\\"],[0.4444444444444444,\\\"#bd3786\\\"],[0.5555555555555556,\\\"#d8576b\\\"],[0.6666666666666666,\\\"#ed7953\\\"],[0.7777777777777778,\\\"#fb9f3a\\\"],[0.8888888888888888,\\\"#fdca26\\\"],[1.0,\\\"#f0f921\\\"]]}],\\\"scatterternary\\\":[{\\\"type\\\":\\\"scatterternary\\\",\\\"marker\\\":{\\\"colorbar\\\":{\\\"ticks\\\":\\\"\\\",\\\"outlinewidth\\\":0}}}],\\\"scatterpolargl\\\":[{\\\"type\\\":\\\"scatterpolargl\\\",\\\"marker\\\":{\\\"colorbar\\\":{\\\"ticks\\\":\\\"\\\",\\\"outlinewidth\\\":0}}}]}},\\\"height\\\":600,\\\"margin\\\":{\\\"l\\\":0,\\\"b\\\":0,\\\"r\\\":0,\\\"t\\\":65},\\\"autosize\\\":true},{\\\"showLink\\\":false,\\\"editable\\\":false,\\\"responsive\\\":true,\\\"staticPlot\\\":false,\\\"scrollZoom\\\":true}); gd.on(\\\"plotly_hover\\\",(function (data){var filtered_data=WebIO.PlotlyCommands.filterEventData(gd,data,\\\"hover\\\"); return !(filtered_data.isnil) ? (WebIO.setval({\\\"name\\\":\\\"hover\\\",\\\"scope\\\":\\\"14131933057536782019\\\",\\\"id\\\":\\\"9292320249548476718\\\",\\\"type\\\":\\\"observable\\\"},filtered_data.out)) : undefined})); gd.on(\\\"plotly_unhover\\\",(function (){return WebIO.setval({\\\"name\\\":\\\"hover\\\",\\\"scope\\\":\\\"14131933057536782019\\\",\\\"id\\\":\\\"9292320249548476718\\\",\\\"type\\\":\\\"observable\\\"},{})})); gd.on(\\\"plotly_selected\\\",(function (data){var filtered_data=WebIO.PlotlyCommands.filterEventData(gd,data,\\\"selected\\\"); return !(filtered_data.isnil) ? (WebIO.setval({\\\"name\\\":\\\"selected\\\",\\\"scope\\\":\\\"14131933057536782019\\\",\\\"id\\\":\\\"1747208277820066230\\\",\\\"type\\\":\\\"observable\\\"},filtered_data.out)) : undefined})); gd.on(\\\"plotly_deselect\\\",(function (){return WebIO.setval({\\\"name\\\":\\\"selected\\\",\\\"scope\\\":\\\"14131933057536782019\\\",\\\"id\\\":\\\"1747208277820066230\\\",\\\"type\\\":\\\"observable\\\"},{})})); gd.on(\\\"plotly_relayout\\\",(function (data){var filtered_data=WebIO.PlotlyCommands.filterEventData(gd,data,\\\"relayout\\\"); return !(filtered_data.isnil) ? (WebIO.setval({\\\"name\\\":\\\"relayout\\\",\\\"scope\\\":\\\"14131933057536782019\\\",\\\"id\\\":\\\"9237537353251862248\\\",\\\"type\\\":\\\"observable\\\"},filtered_data.out)) : undefined})); return gd.on(\\\"plotly_click\\\",(function (data){var filtered_data=WebIO.PlotlyCommands.filterEventData(gd,data,\\\"click\\\"); return !(filtered_data.isnil) ? (WebIO.setval({\\\"name\\\":\\\"click\\\",\\\"scope\\\":\\\"14131933057536782019\\\",\\\"id\\\":\\\"13146089943849149942\\\",\\\"type\\\":\\\"observable\\\"},filtered_data.out)) : undefined}))}));\\n    (WebIO.importBlock({\\\"data\\\":[{\\\"name\\\":\\\"Plotly\\\",\\\"type\\\":\\\"js\\\",\\\"url\\\":\\\"\\/assetserver\\/2c1443c4a3fadd5de9f99c6b5d8fa0ad35f7de28-plotly.min.js\\\"},{\\\"name\\\":null,\\\"type\\\":\\\"js\\\",\\\"url\\\":\\\"\\/assetserver\\/a617ad3fbd31c68e6d8336a472e6356f3a4cb577-plotly_webio.bundle.js\\\"}],\\\"type\\\":\\\"async_block\\\"})).then((imports) => handler.apply(this, imports));\\n}\\n\"],\"observables\":{\"_toImage\":{\"sync\":true,\"id\":\"8692620442539325062\",\"value\":{}},\"hover\":{\"sync\":false,\"id\":\"9292320249548476718\",\"value\":{}},\"selected\":{\"sync\":false,\"id\":\"1747208277820066230\",\"value\":{}},\"__gd_contents\":{\"sync\":false,\"id\":\"12797036428974780661\",\"value\":{}},\"click\":{\"sync\":false,\"id\":\"13146089943849149942\",\"value\":{}},\"image\":{\"sync\":true,\"id\":\"13241022458587850335\",\"value\":\"\"},\"__get_gd_contents\":{\"sync\":true,\"id\":\"12301070557637673839\",\"value\":\"\"},\"_downloadImage\":{\"sync\":true,\"id\":\"4764536271258533795\",\"value\":{}},\"relayout\":{\"sync\":false,\"id\":\"9237537353251862248\",\"value\":{}},\"_commands\":{\"sync\":true,\"id\":\"7574370733071090447\",\"value\":[]}}},\"children\":[{\"props\":{\"id\":\"plot-719f0845-c87c-4d07-8da2-cb1836874e9d\"},\"nodeType\":\"DOM\",\"type\":\"node\",\"instanceArgs\":{\"namespace\":\"html\",\"tag\":\"div\"},\"children\":[]}]},\n",
       "        window,\n",
       "    );\n",
       "    })()\n",
       "    </script>\n",
       "</div>\n"
      ],
      "text/plain": [
       "data: [\n",
       "  \"heatmap with fields transpose, type, x, y, and z\"\n",
       "]\n",
       "\n",
       "layout: \"layout with fields autosize, height, margin, and template\"\n",
       "\n"
      ]
     },
     "execution_count": 20,
     "metadata": {},
     "output_type": "execute_result"
    }
   ],
   "source": [
    "showHM_perGrp(\"67L\")"
   ]
  },
  {
   "cell_type": "markdown",
   "id": "455a5c60-c272-4baf-8858-bdb172c457fb",
   "metadata": {},
   "source": [
    "## 67L"
   ]
  },
  {
   "cell_type": "code",
   "execution_count": 20,
   "id": "d9bb3898",
   "metadata": {},
   "outputs": [
    {
     "data": {
      "application/vnd.plotly.v1+json": {
       "config": {
        "editable": false,
        "responsive": true,
        "scrollZoom": true,
        "showLink": false,
        "staticPlot": false
       },
       "data": [
        {
         "transpose": true,
         "type": "heatmap",
         "x": [
          "IFN-?",
          "IFN-?",
          "IFN-?",
          "IFN-?",
          "IFN-?",
          "IFN-?",
          "IL-10",
          "IL-10",
          "IL-10",
          "IL-10",
          "IL-10",
          "IL-10",
          "IL-12p70",
          "IL-12p70",
          "IL-12p70",
          "IL-12p70",
          "IL-12p70",
          "IL-12p70",
          "IL-13",
          "IL-13",
          "IL-13",
          "IL-13",
          "IL-13",
          "IL-13",
          "IL-1?",
          "IL-1?",
          "IL-1?",
          "IL-1?",
          "IL-1?",
          "IL-1?",
          "IL-2",
          "IL-2",
          "IL-2",
          "IL-2",
          "IL-2",
          "IL-2",
          "IL-4",
          "IL-4",
          "IL-4",
          "IL-4",
          "IL-4",
          "IL-4",
          "IL-6",
          "IL-6",
          "IL-6",
          "IL-6",
          "IL-6",
          "IL-6",
          "IL-8",
          "IL-8",
          "IL-8",
          "IL-8",
          "IL-8",
          "IL-8",
          "TNF-�",
          "TNF-�",
          "TNF-�",
          "TNF-�",
          "TNF-�",
          "TNF-�"
         ],
         "y": [
          "PL_F_1ug",
          "PL_F_1ug",
          "PL_F_25ug",
          "PL_F_25ug",
          "PL_F_5ug",
          "PL_F_5ug",
          "PL_F_1ug",
          "PL_F_1ug",
          "PL_F_25ug",
          "PL_F_25ug",
          "PL_F_5ug",
          "PL_F_5ug",
          "PL_F_1ug",
          "PL_F_1ug",
          "PL_F_25ug",
          "PL_F_25ug",
          "PL_F_5ug",
          "PL_F_5ug",
          "PL_F_1ug",
          "PL_F_1ug",
          "PL_F_25ug",
          "PL_F_25ug",
          "PL_F_5ug",
          "PL_F_5ug",
          "PL_F_1ug",
          "PL_F_1ug",
          "PL_F_25ug",
          "PL_F_25ug",
          "PL_F_5ug",
          "PL_F_5ug",
          "PL_F_1ug",
          "PL_F_1ug",
          "PL_F_25ug",
          "PL_F_25ug",
          "PL_F_5ug",
          "PL_F_5ug",
          "PL_F_1ug",
          "PL_F_1ug",
          "PL_F_25ug",
          "PL_F_25ug",
          "PL_F_5ug",
          "PL_F_5ug",
          "PL_F_1ug",
          "PL_F_1ug",
          "PL_F_25ug",
          "PL_F_25ug",
          "PL_F_5ug",
          "PL_F_5ug",
          "PL_F_1ug",
          "PL_F_1ug",
          "PL_F_25ug",
          "PL_F_25ug",
          "PL_F_5ug",
          "PL_F_5ug",
          "PL_F_1ug",
          "PL_F_1ug",
          "PL_F_25ug",
          "PL_F_25ug",
          "PL_F_5ug",
          "PL_F_5ug"
         ],
         "z": [
          1.365561626,
          0.817716613,
          1.718027052,
          1.346889974,
          0.663606538,
          0.329014494,
          1.449248881,
          0.223313231,
          1.536908431,
          2.552767647,
          3.125676213,
          1.089601866,
          0.829178351,
          0.86526332,
          4.217078386,
          2.618200106,
          1.92123301,
          1.200208651,
          29.93073568,
          30.17102155,
          32.20690935,
          37.36389376,
          26.49664869,
          26.51826591,
          5.954740415,
          5.016289461,
          5.465581909,
          7.37178432,
          4.39707502,
          4.853585542,
          3.174183486,
          1.723713776,
          6.829371881,
          3.524696571,
          3.43876942,
          2.217581579,
          0.18926352,
          0.152080748,
          0.128861412,
          0.233973209,
          0.081321087,
          0.121625638,
          37.0402187,
          25.9844751,
          14.59147739,
          35.42911148,
          10.71313409,
          12.36553594,
          4157.366979,
          4020.773885,
          4119.065855,
          4172.271146,
          3940.25476,
          3926.647442,
          8.346551836,
          6.167014589,
          8.082546045,
          7.423568987,
          7.93360784,
          6.438371504
         ]
        }
       ],
       "frames": [],
       "layout": {
        "autosize": true,
        "margin": {
         "b": 0,
         "l": 0,
         "r": 0,
         "t": 65
        },
        "template": {
         "data": {
          "bar": [
           {
            "error_x": {
             "color": "#2a3f5f"
            },
            "error_y": {
             "color": "#2a3f5f"
            },
            "marker": {
             "line": {
              "color": "#E5ECF6",
              "width": 0.5
             }
            },
            "type": "bar"
           }
          ],
          "barpolar": [
           {
            "marker": {
             "line": {
              "color": "#E5ECF6",
              "width": 0.5
             }
            },
            "type": "barpolar"
           }
          ],
          "carpet": [
           {
            "aaxis": {
             "endlinecolor": "#2a3f5f",
             "gridcolor": "white",
             "linecolor": "white",
             "minorgridcolor": "white",
             "startlinecolor": "#2a3f5f"
            },
            "baxis": {
             "endlinecolor": "#2a3f5f",
             "gridcolor": "white",
             "linecolor": "white",
             "minorgridcolor": "white",
             "startlinecolor": "#2a3f5f"
            },
            "type": "carpet"
           }
          ],
          "choropleth": [
           {
            "colorbar": {
             "outlinewidth": 0,
             "ticks": ""
            },
            "type": "choropleth"
           }
          ],
          "contour": [
           {
            "colorbar": {
             "outlinewidth": 0,
             "ticks": ""
            },
            "colorscale": [
             [
              0,
              "#0d0887"
             ],
             [
              0.1111111111111111,
              "#46039f"
             ],
             [
              0.2222222222222222,
              "#7201a8"
             ],
             [
              0.3333333333333333,
              "#9c179e"
             ],
             [
              0.4444444444444444,
              "#bd3786"
             ],
             [
              0.5555555555555556,
              "#d8576b"
             ],
             [
              0.6666666666666666,
              "#ed7953"
             ],
             [
              0.7777777777777778,
              "#fb9f3a"
             ],
             [
              0.8888888888888888,
              "#fdca26"
             ],
             [
              1,
              "#f0f921"
             ]
            ],
            "type": "contour"
           }
          ],
          "contourcarpet": [
           {
            "colorbar": {
             "outlinewidth": 0,
             "ticks": ""
            },
            "type": "contourcarpet"
           }
          ],
          "heatmap": [
           {
            "colorbar": {
             "outlinewidth": 0,
             "ticks": ""
            },
            "colorscale": [
             [
              0,
              "#0d0887"
             ],
             [
              0.1111111111111111,
              "#46039f"
             ],
             [
              0.2222222222222222,
              "#7201a8"
             ],
             [
              0.3333333333333333,
              "#9c179e"
             ],
             [
              0.4444444444444444,
              "#bd3786"
             ],
             [
              0.5555555555555556,
              "#d8576b"
             ],
             [
              0.6666666666666666,
              "#ed7953"
             ],
             [
              0.7777777777777778,
              "#fb9f3a"
             ],
             [
              0.8888888888888888,
              "#fdca26"
             ],
             [
              1,
              "#f0f921"
             ]
            ],
            "type": "heatmap"
           }
          ],
          "heatmapgl": [
           {
            "colorbar": {
             "outlinewidth": 0,
             "ticks": ""
            },
            "colorscale": [
             [
              0,
              "#0d0887"
             ],
             [
              0.1111111111111111,
              "#46039f"
             ],
             [
              0.2222222222222222,
              "#7201a8"
             ],
             [
              0.3333333333333333,
              "#9c179e"
             ],
             [
              0.4444444444444444,
              "#bd3786"
             ],
             [
              0.5555555555555556,
              "#d8576b"
             ],
             [
              0.6666666666666666,
              "#ed7953"
             ],
             [
              0.7777777777777778,
              "#fb9f3a"
             ],
             [
              0.8888888888888888,
              "#fdca26"
             ],
             [
              1,
              "#f0f921"
             ]
            ],
            "type": "heatmapgl"
           }
          ],
          "histogram": [
           {
            "marker": {
             "colorbar": {
              "outlinewidth": 0,
              "ticks": ""
             }
            },
            "type": "histogram"
           }
          ],
          "histogram2d": [
           {
            "colorbar": {
             "outlinewidth": 0,
             "ticks": ""
            },
            "colorscale": [
             [
              0,
              "#0d0887"
             ],
             [
              0.1111111111111111,
              "#46039f"
             ],
             [
              0.2222222222222222,
              "#7201a8"
             ],
             [
              0.3333333333333333,
              "#9c179e"
             ],
             [
              0.4444444444444444,
              "#bd3786"
             ],
             [
              0.5555555555555556,
              "#d8576b"
             ],
             [
              0.6666666666666666,
              "#ed7953"
             ],
             [
              0.7777777777777778,
              "#fb9f3a"
             ],
             [
              0.8888888888888888,
              "#fdca26"
             ],
             [
              1,
              "#f0f921"
             ]
            ],
            "type": "histogram2d"
           }
          ],
          "histogram2dcontour": [
           {
            "colorbar": {
             "outlinewidth": 0,
             "ticks": ""
            },
            "colorscale": [
             [
              0,
              "#0d0887"
             ],
             [
              0.1111111111111111,
              "#46039f"
             ],
             [
              0.2222222222222222,
              "#7201a8"
             ],
             [
              0.3333333333333333,
              "#9c179e"
             ],
             [
              0.4444444444444444,
              "#bd3786"
             ],
             [
              0.5555555555555556,
              "#d8576b"
             ],
             [
              0.6666666666666666,
              "#ed7953"
             ],
             [
              0.7777777777777778,
              "#fb9f3a"
             ],
             [
              0.8888888888888888,
              "#fdca26"
             ],
             [
              1,
              "#f0f921"
             ]
            ],
            "type": "histogram2dcontour"
           }
          ],
          "mesh3d": [
           {
            "colorbar": {
             "outlinewidth": 0,
             "ticks": ""
            },
            "type": "mesh3d"
           }
          ],
          "parcoords": [
           {
            "line": {
             "colorbar": {
              "outlinewidth": 0,
              "ticks": ""
             }
            },
            "type": "parcoords"
           }
          ],
          "pie": [
           {
            "automargin": true,
            "type": "pie"
           }
          ],
          "scatter": [
           {
            "marker": {
             "colorbar": {
              "outlinewidth": 0,
              "ticks": ""
             }
            },
            "type": "scatter"
           }
          ],
          "scatter3d": [
           {
            "line": {
             "colorbar": {
              "outlinewidth": 0,
              "ticks": ""
             }
            },
            "marker": {
             "colorbar": {
              "outlinewidth": 0,
              "ticks": ""
             }
            },
            "type": "scatter3d"
           }
          ],
          "scattercarpet": [
           {
            "marker": {
             "colorbar": {
              "outlinewidth": 0,
              "ticks": ""
             }
            },
            "type": "scattercarpet"
           }
          ],
          "scattergeo": [
           {
            "marker": {
             "colorbar": {
              "outlinewidth": 0,
              "ticks": ""
             }
            },
            "type": "scattergeo"
           }
          ],
          "scattergl": [
           {
            "marker": {
             "colorbar": {
              "outlinewidth": 0,
              "ticks": ""
             }
            },
            "type": "scattergl"
           }
          ],
          "scattermapbox": [
           {
            "marker": {
             "colorbar": {
              "outlinewidth": 0,
              "ticks": ""
             }
            },
            "type": "scattermapbox"
           }
          ],
          "scatterpolar": [
           {
            "marker": {
             "colorbar": {
              "outlinewidth": 0,
              "ticks": ""
             }
            },
            "type": "scatterpolar"
           }
          ],
          "scatterpolargl": [
           {
            "marker": {
             "colorbar": {
              "outlinewidth": 0,
              "ticks": ""
             }
            },
            "type": "scatterpolargl"
           }
          ],
          "scatterternary": [
           {
            "marker": {
             "colorbar": {
              "outlinewidth": 0,
              "ticks": ""
             }
            },
            "type": "scatterternary"
           }
          ],
          "surface": [
           {
            "colorbar": {
             "outlinewidth": 0,
             "ticks": ""
            },
            "colorscale": [
             [
              0,
              "#0d0887"
             ],
             [
              0.1111111111111111,
              "#46039f"
             ],
             [
              0.2222222222222222,
              "#7201a8"
             ],
             [
              0.3333333333333333,
              "#9c179e"
             ],
             [
              0.4444444444444444,
              "#bd3786"
             ],
             [
              0.5555555555555556,
              "#d8576b"
             ],
             [
              0.6666666666666666,
              "#ed7953"
             ],
             [
              0.7777777777777778,
              "#fb9f3a"
             ],
             [
              0.8888888888888888,
              "#fdca26"
             ],
             [
              1,
              "#f0f921"
             ]
            ],
            "type": "surface"
           }
          ],
          "table": [
           {
            "cells": {
             "fill": {
              "color": "#EBF0F8"
             },
             "line": {
              "color": "white"
             }
            },
            "header": {
             "fill": {
              "color": "#C8D4E3"
             },
             "line": {
              "color": "white"
             }
            },
            "type": "table"
           }
          ]
         },
         "layout": {
          "annotationdefaults": {
           "arrowcolor": "#2a3f5f",
           "arrowhead": 0,
           "arrowwidth": 1
          },
          "autotypenumbers": "strict",
          "coloraxis": {
           "colorbar": {
            "outlinewidth": 0,
            "ticks": ""
           }
          },
          "colorscale": {
           "diverging": [
            [
             0,
             "#8e0152"
            ],
            [
             0.1,
             "#c51b7d"
            ],
            [
             0.2,
             "#de77ae"
            ],
            [
             0.3,
             "#f1b6da"
            ],
            [
             0.4,
             "#fde0ef"
            ],
            [
             0.5,
             "#f7f7f7"
            ],
            [
             0.6,
             "#e6f5d0"
            ],
            [
             0.7,
             "#b8e186"
            ],
            [
             0.8,
             "#7fbc41"
            ],
            [
             0.9,
             "#4d9221"
            ],
            [
             1,
             "#276419"
            ]
           ],
           "sequential": [
            [
             0,
             "#0d0887"
            ],
            [
             0.1111111111111111,
             "#46039f"
            ],
            [
             0.2222222222222222,
             "#7201a8"
            ],
            [
             0.3333333333333333,
             "#9c179e"
            ],
            [
             0.4444444444444444,
             "#bd3786"
            ],
            [
             0.5555555555555556,
             "#d8576b"
            ],
            [
             0.6666666666666666,
             "#ed7953"
            ],
            [
             0.7777777777777778,
             "#fb9f3a"
            ],
            [
             0.8888888888888888,
             "#fdca26"
            ],
            [
             1,
             "#f0f921"
            ]
           ],
           "sequentialminus": [
            [
             0,
             "#0d0887"
            ],
            [
             0.1111111111111111,
             "#46039f"
            ],
            [
             0.2222222222222222,
             "#7201a8"
            ],
            [
             0.3333333333333333,
             "#9c179e"
            ],
            [
             0.4444444444444444,
             "#bd3786"
            ],
            [
             0.5555555555555556,
             "#d8576b"
            ],
            [
             0.6666666666666666,
             "#ed7953"
            ],
            [
             0.7777777777777778,
             "#fb9f3a"
            ],
            [
             0.8888888888888888,
             "#fdca26"
            ],
            [
             1,
             "#f0f921"
            ]
           ]
          },
          "colorway": [
           "#636efa",
           "#EF553B",
           "#00cc96",
           "#ab63fa",
           "#FFA15A",
           "#19d3f3",
           "#FF6692",
           "#B6E880",
           "#FF97FF",
           "#FECB52"
          ],
          "font": {
           "color": "#2a3f5f"
          },
          "geo": {
           "bgcolor": "white",
           "lakecolor": "white",
           "landcolor": "#E5ECF6",
           "showlakes": true,
           "showland": true,
           "subunitcolor": "white"
          },
          "hoverlabel": {
           "align": "left"
          },
          "hovermode": "closest",
          "mapbox": {
           "style": "light"
          },
          "paper_bgcolor": "white",
          "plot_bgcolor": "#E5ECF6",
          "polar": {
           "angularaxis": {
            "gridcolor": "white",
            "linecolor": "white",
            "ticks": ""
           },
           "bgcolor": "#E5ECF6",
           "radialaxis": {
            "gridcolor": "white",
            "linecolor": "white",
            "ticks": ""
           }
          },
          "scene": {
           "xaxis": {
            "backgroundcolor": "#E5ECF6",
            "gridcolor": "white",
            "gridwidth": 2,
            "linecolor": "white",
            "showbackground": true,
            "ticks": "",
            "zerolinecolor": "white"
           },
           "yaxis": {
            "backgroundcolor": "#E5ECF6",
            "gridcolor": "white",
            "gridwidth": 2,
            "linecolor": "white",
            "showbackground": true,
            "ticks": "",
            "zerolinecolor": "white"
           },
           "zaxis": {
            "backgroundcolor": "#E5ECF6",
            "gridcolor": "white",
            "gridwidth": 2,
            "linecolor": "white",
            "showbackground": true,
            "ticks": "",
            "zerolinecolor": "white"
           }
          },
          "shapedefaults": {
           "line": {
            "color": "#2a3f5f"
           }
          },
          "ternary": {
           "aaxis": {
            "gridcolor": "white",
            "linecolor": "white",
            "ticks": ""
           },
           "baxis": {
            "gridcolor": "white",
            "linecolor": "white",
            "ticks": ""
           },
           "bgcolor": "#E5ECF6",
           "caxis": {
            "gridcolor": "white",
            "linecolor": "white",
            "ticks": ""
           }
          },
          "title": {
           "x": 0.05
          },
          "xaxis": {
           "automargin": true,
           "gridcolor": "white",
           "linecolor": "white",
           "ticks": "",
           "title": {
            "standoff": 15
           },
           "zerolinecolor": "white",
           "zerolinewidth": 2
          },
          "yaxis": {
           "automargin": true,
           "gridcolor": "white",
           "linecolor": "white",
           "ticks": "",
           "title": {
            "standoff": 15
           },
           "zerolinecolor": "white",
           "zerolinewidth": 2
          }
         }
        },
        "xaxis": {
         "autorange": true,
         "range": [
          -0.5,
          9.5
         ],
         "type": "category"
        },
        "yaxis": {
         "autorange": true,
         "range": [
          -0.5,
          2.5
         ],
         "type": "category"
        }
       }
      },
      "image/png": "[encoded data removed]",
      "text/html": [
       "<div\n",
       "    class=\"webio-mountpoint\"\n",
       "    data-webio-mountpoint=\"8928167264086919112\"\n",
       ">\n",
       "    <script>\n",
       "    (function(){\n",
       "    // Some integrations (namely, IJulia/Jupyter) use an alternate render pathway than\n",
       "    // just putting the html on the page. If WebIO isn't defined, then it's pretty likely\n",
       "    // that we're in one of those situations and the integration just isn't installed\n",
       "    // correctly.\n",
       "    if (typeof window.WebIO === \"undefined\") {\n",
       "        document\n",
       "            .querySelector('[data-webio-mountpoint=\"8928167264086919112\"]')\n",
       "            .innerHTML = (\n",
       "                '<div style=\"padding: 1em; background-color: #f8d6da; border: 1px solid #f5c6cb; font-weight: bold;\">' +\n",
       "                '<p><strong>WebIO not detected.</strong></p>' +\n",
       "                '<p>Please read ' +\n",
       "                '<a href=\"https://juliagizmos.github.io/WebIO.jl/latest/troubleshooting/not-detected/\" target=\"_blank\">the troubleshooting guide</a> ' +\n",
       "                'for more information on how to resolve this issue.</p>' +\n",
       "                '<p><a href=\"https://juliagizmos.github.io/WebIO.jl/latest/troubleshooting/not-detected/\" target=\"_blank\">https://juliagizmos.github.io/WebIO.jl/latest/troubleshooting/not-detected/</a></p>' +\n",
       "                '</div>'\n",
       "            );\n",
       "        return;\n",
       "    }\n",
       "    WebIO.mount(\n",
       "        document.querySelector('[data-webio-mountpoint=\"8928167264086919112\"]'),\n",
       "        {\"props\":{},\"nodeType\":\"Scope\",\"type\":\"node\",\"instanceArgs\":{\"imports\":{\"data\":[{\"name\":\"Plotly\",\"type\":\"js\",\"url\":\"\\/assetserver\\/2c1443c4a3fadd5de9f99c6b5d8fa0ad35f7de28-plotly.min.js\"},{\"name\":null,\"type\":\"js\",\"url\":\"\\/assetserver\\/a617ad3fbd31c68e6d8336a472e6356f3a4cb577-plotly_webio.bundle.js\"}],\"type\":\"async_block\"},\"id\":\"14131933057536782019\",\"handlers\":{\"_toImage\":[\"(function (options){return this.Plotly.toImage(this.plotElem,options).then((function (data){return WebIO.setval({\\\"name\\\":\\\"image\\\",\\\"scope\\\":\\\"14131933057536782019\\\",\\\"id\\\":\\\"13241022458587850335\\\",\\\"type\\\":\\\"observable\\\"},data)}))})\"],\"__get_gd_contents\":[\"(function (prop){prop==\\\"data\\\" ? (WebIO.setval({\\\"name\\\":\\\"__gd_contents\\\",\\\"scope\\\":\\\"14131933057536782019\\\",\\\"id\\\":\\\"12797036428974780661\\\",\\\"type\\\":\\\"observable\\\"},this.plotElem.data)) : undefined; return prop==\\\"layout\\\" ? (WebIO.setval({\\\"name\\\":\\\"__gd_contents\\\",\\\"scope\\\":\\\"14131933057536782019\\\",\\\"id\\\":\\\"12797036428974780661\\\",\\\"type\\\":\\\"observable\\\"},this.plotElem.layout)) : undefined})\"],\"_downloadImage\":[\"(function (options){return this.Plotly.downloadImage(this.plotElem,options)})\"],\"_commands\":[\"(function (args){var fn=args.shift(); var elem=this.plotElem; var Plotly=this.Plotly; args.unshift(elem); return Plotly[fn].apply(this,args)})\"]},\"systemjs_options\":null,\"mount_callbacks\":[\"function () {\\n    var handler = ((function (Plotly,PlotlyWebIO){PlotlyWebIO.init(WebIO); var gd=this.dom.querySelector(\\\"#plot-719f0845-c87c-4d07-8da2-cb1836874e9d\\\"); this.plotElem=gd; this.Plotly=Plotly; (window.Blink!==undefined) ? (gd.style.width=\\\"100%\\\", gd.style.height=\\\"100vh\\\", gd.style.marginLeft=\\\"0%\\\", gd.style.marginTop=\\\"0vh\\\") : undefined; window.onresize=(function (){return Plotly.Plots.resize(gd)}); Plotly.newPlot(gd,[{\\\"y\\\":[\\\"PL_F_1ug\\\",\\\"PL_F_1ug\\\",\\\"PL_F_25ug\\\",\\\"PL_F_25ug\\\",\\\"PL_F_5ug\\\",\\\"PL_F_5ug\\\",\\\"PL_F_1ug\\\",\\\"PL_F_1ug\\\",\\\"PL_F_25ug\\\",\\\"PL_F_25ug\\\",\\\"PL_F_5ug\\\",\\\"PL_F_5ug\\\",\\\"PL_F_1ug\\\",\\\"PL_F_1ug\\\",\\\"PL_F_25ug\\\",\\\"PL_F_25ug\\\",\\\"PL_F_5ug\\\",\\\"PL_F_5ug\\\",\\\"PL_F_1ug\\\",\\\"PL_F_1ug\\\",\\\"PL_F_25ug\\\",\\\"PL_F_25ug\\\",\\\"PL_F_5ug\\\",\\\"PL_F_5ug\\\",\\\"PL_F_1ug\\\",\\\"PL_F_1ug\\\",\\\"PL_F_25ug\\\",\\\"PL_F_25ug\\\",\\\"PL_F_5ug\\\",\\\"PL_F_5ug\\\",\\\"PL_F_1ug\\\",\\\"PL_F_1ug\\\",\\\"PL_F_25ug\\\",\\\"PL_F_25ug\\\",\\\"PL_F_5ug\\\",\\\"PL_F_5ug\\\",\\\"PL_F_1ug\\\",\\\"PL_F_1ug\\\",\\\"PL_F_25ug\\\",\\\"PL_F_25ug\\\",\\\"PL_F_5ug\\\",\\\"PL_F_5ug\\\",\\\"PL_F_1ug\\\",\\\"PL_F_1ug\\\",\\\"PL_F_25ug\\\",\\\"PL_F_25ug\\\",\\\"PL_F_5ug\\\",\\\"PL_F_5ug\\\",\\\"PL_F_1ug\\\",\\\"PL_F_1ug\\\",\\\"PL_F_25ug\\\",\\\"PL_F_25ug\\\",\\\"PL_F_5ug\\\",\\\"PL_F_5ug\\\",\\\"PL_F_1ug\\\",\\\"PL_F_1ug\\\",\\\"PL_F_25ug\\\",\\\"PL_F_25ug\\\",\\\"PL_F_5ug\\\",\\\"PL_F_5ug\\\"],\\\"type\\\":\\\"heatmap\\\",\\\"z\\\":[1.365561626,0.817716613,1.718027052,1.346889974,0.663606538,0.329014494,1.449248881,0.223313231,1.536908431,2.552767647,3.125676213,1.089601866,0.829178351,0.86526332,4.217078386,2.618200106,1.92123301,1.200208651,29.93073568,30.17102155,32.20690935,37.36389376,26.49664869,26.51826591,5.954740415,5.016289461,5.465581909,7.37178432,4.39707502,4.853585542,3.174183486,1.723713776,6.829371881,3.524696571,3.43876942,2.217581579,0.18926352,0.152080748,0.128861412,0.233973209,0.081321087,0.121625638,37.0402187,25.9844751,14.59147739,35.42911148,10.71313409,12.36553594,4157.366979,4020.773885,4119.065855,4172.271146,3940.25476,3926.647442,8.346551836,6.167014589,8.082546045,7.423568987,7.93360784,6.438371504],\\\"transpose\\\":true,\\\"x\\\":[\\\"IFN-?\\\",\\\"IFN-?\\\",\\\"IFN-?\\\",\\\"IFN-?\\\",\\\"IFN-?\\\",\\\"IFN-?\\\",\\\"IL-10\\\",\\\"IL-10\\\",\\\"IL-10\\\",\\\"IL-10\\\",\\\"IL-10\\\",\\\"IL-10\\\",\\\"IL-12p70\\\",\\\"IL-12p70\\\",\\\"IL-12p70\\\",\\\"IL-12p70\\\",\\\"IL-12p70\\\",\\\"IL-12p70\\\",\\\"IL-13\\\",\\\"IL-13\\\",\\\"IL-13\\\",\\\"IL-13\\\",\\\"IL-13\\\",\\\"IL-13\\\",\\\"IL-1?\\\",\\\"IL-1?\\\",\\\"IL-1?\\\",\\\"IL-1?\\\",\\\"IL-1?\\\",\\\"IL-1?\\\",\\\"IL-2\\\",\\\"IL-2\\\",\\\"IL-2\\\",\\\"IL-2\\\",\\\"IL-2\\\",\\\"IL-2\\\",\\\"IL-4\\\",\\\"IL-4\\\",\\\"IL-4\\\",\\\"IL-4\\\",\\\"IL-4\\\",\\\"IL-4\\\",\\\"IL-6\\\",\\\"IL-6\\\",\\\"IL-6\\\",\\\"IL-6\\\",\\\"IL-6\\\",\\\"IL-6\\\",\\\"IL-8\\\",\\\"IL-8\\\",\\\"IL-8\\\",\\\"IL-8\\\",\\\"IL-8\\\",\\\"IL-8\\\",\\\"TNF-�\\\",\\\"TNF-�\\\",\\\"TNF-�\\\",\\\"TNF-�\\\",\\\"TNF-�\\\",\\\"TNF-�\\\"]}],{\\\"template\\\":{\\\"layout\\\":{\\\"coloraxis\\\":{\\\"colorbar\\\":{\\\"ticks\\\":\\\"\\\",\\\"outlinewidth\\\":0}},\\\"xaxis\\\":{\\\"gridcolor\\\":\\\"white\\\",\\\"zerolinewidth\\\":2,\\\"title\\\":{\\\"standoff\\\":15},\\\"ticks\\\":\\\"\\\",\\\"zerolinecolor\\\":\\\"white\\\",\\\"automargin\\\":true,\\\"linecolor\\\":\\\"white\\\"},\\\"hovermode\\\":\\\"closest\\\",\\\"paper_bgcolor\\\":\\\"white\\\",\\\"geo\\\":{\\\"showlakes\\\":true,\\\"showland\\\":true,\\\"landcolor\\\":\\\"#E5ECF6\\\",\\\"bgcolor\\\":\\\"white\\\",\\\"subunitcolor\\\":\\\"white\\\",\\\"lakecolor\\\":\\\"white\\\"},\\\"colorscale\\\":{\\\"sequential\\\":[[0.0,\\\"#0d0887\\\"],[0.1111111111111111,\\\"#46039f\\\"],[0.2222222222222222,\\\"#7201a8\\\"],[0.3333333333333333,\\\"#9c179e\\\"],[0.4444444444444444,\\\"#bd3786\\\"],[0.5555555555555556,\\\"#d8576b\\\"],[0.6666666666666666,\\\"#ed7953\\\"],[0.7777777777777778,\\\"#fb9f3a\\\"],[0.8888888888888888,\\\"#fdca26\\\"],[1.0,\\\"#f0f921\\\"]],\\\"diverging\\\":[[0,\\\"#8e0152\\\"],[0.1,\\\"#c51b7d\\\"],[0.2,\\\"#de77ae\\\"],[0.3,\\\"#f1b6da\\\"],[0.4,\\\"#fde0ef\\\"],[0.5,\\\"#f7f7f7\\\"],[0.6,\\\"#e6f5d0\\\"],[0.7,\\\"#b8e186\\\"],[0.8,\\\"#7fbc41\\\"],[0.9,\\\"#4d9221\\\"],[1,\\\"#276419\\\"]],\\\"sequentialminus\\\":[[0.0,\\\"#0d0887\\\"],[0.1111111111111111,\\\"#46039f\\\"],[0.2222222222222222,\\\"#7201a8\\\"],[0.3333333333333333,\\\"#9c179e\\\"],[0.4444444444444444,\\\"#bd3786\\\"],[0.5555555555555556,\\\"#d8576b\\\"],[0.6666666666666666,\\\"#ed7953\\\"],[0.7777777777777778,\\\"#fb9f3a\\\"],[0.8888888888888888,\\\"#fdca26\\\"],[1.0,\\\"#f0f921\\\"]]},\\\"yaxis\\\":{\\\"gridcolor\\\":\\\"white\\\",\\\"zerolinewidth\\\":2,\\\"title\\\":{\\\"standoff\\\":15},\\\"ticks\\\":\\\"\\\",\\\"zerolinecolor\\\":\\\"white\\\",\\\"automargin\\\":true,\\\"linecolor\\\":\\\"white\\\"},\\\"shapedefaults\\\":{\\\"line\\\":{\\\"color\\\":\\\"#2a3f5f\\\"}},\\\"hoverlabel\\\":{\\\"align\\\":\\\"left\\\"},\\\"mapbox\\\":{\\\"style\\\":\\\"light\\\"},\\\"polar\\\":{\\\"angularaxis\\\":{\\\"gridcolor\\\":\\\"white\\\",\\\"ticks\\\":\\\"\\\",\\\"linecolor\\\":\\\"white\\\"},\\\"bgcolor\\\":\\\"#E5ECF6\\\",\\\"radialaxis\\\":{\\\"gridcolor\\\":\\\"white\\\",\\\"ticks\\\":\\\"\\\",\\\"linecolor\\\":\\\"white\\\"}},\\\"autotypenumbers\\\":\\\"strict\\\",\\\"font\\\":{\\\"color\\\":\\\"#2a3f5f\\\"},\\\"ternary\\\":{\\\"baxis\\\":{\\\"gridcolor\\\":\\\"white\\\",\\\"ticks\\\":\\\"\\\",\\\"linecolor\\\":\\\"white\\\"},\\\"bgcolor\\\":\\\"#E5ECF6\\\",\\\"caxis\\\":{\\\"gridcolor\\\":\\\"white\\\",\\\"ticks\\\":\\\"\\\",\\\"linecolor\\\":\\\"white\\\"},\\\"aaxis\\\":{\\\"gridcolor\\\":\\\"white\\\",\\\"ticks\\\":\\\"\\\",\\\"linecolor\\\":\\\"white\\\"}},\\\"annotationdefaults\\\":{\\\"arrowhead\\\":0,\\\"arrowwidth\\\":1,\\\"arrowcolor\\\":\\\"#2a3f5f\\\"},\\\"plot_bgcolor\\\":\\\"#E5ECF6\\\",\\\"title\\\":{\\\"x\\\":0.05},\\\"scene\\\":{\\\"xaxis\\\":{\\\"gridcolor\\\":\\\"white\\\",\\\"gridwidth\\\":2,\\\"backgroundcolor\\\":\\\"#E5ECF6\\\",\\\"ticks\\\":\\\"\\\",\\\"showbackground\\\":true,\\\"zerolinecolor\\\":\\\"white\\\",\\\"linecolor\\\":\\\"white\\\"},\\\"zaxis\\\":{\\\"gridcolor\\\":\\\"white\\\",\\\"gridwidth\\\":2,\\\"backgroundcolor\\\":\\\"#E5ECF6\\\",\\\"ticks\\\":\\\"\\\",\\\"showbackground\\\":true,\\\"zerolinecolor\\\":\\\"white\\\",\\\"linecolor\\\":\\\"white\\\"},\\\"yaxis\\\":{\\\"gridcolor\\\":\\\"white\\\",\\\"gridwidth\\\":2,\\\"backgroundcolor\\\":\\\"#E5ECF6\\\",\\\"ticks\\\":\\\"\\\",\\\"showbackground\\\":true,\\\"zerolinecolor\\\":\\\"white\\\",\\\"linecolor\\\":\\\"white\\\"}},\\\"colorway\\\":[\\\"#636efa\\\",\\\"#EF553B\\\",\\\"#00cc96\\\",\\\"#ab63fa\\\",\\\"#FFA15A\\\",\\\"#19d3f3\\\",\\\"#FF6692\\\",\\\"#B6E880\\\",\\\"#FF97FF\\\",\\\"#FECB52\\\"]},\\\"data\\\":{\\\"barpolar\\\":[{\\\"type\\\":\\\"barpolar\\\",\\\"marker\\\":{\\\"line\\\":{\\\"color\\\":\\\"#E5ECF6\\\",\\\"width\\\":0.5}}}],\\\"carpet\\\":[{\\\"aaxis\\\":{\\\"gridcolor\\\":\\\"white\\\",\\\"endlinecolor\\\":\\\"#2a3f5f\\\",\\\"minorgridcolor\\\":\\\"white\\\",\\\"startlinecolor\\\":\\\"#2a3f5f\\\",\\\"linecolor\\\":\\\"white\\\"},\\\"type\\\":\\\"carpet\\\",\\\"baxis\\\":{\\\"gridcolor\\\":\\\"white\\\",\\\"endlinecolor\\\":\\\"#2a3f5f\\\",\\\"minorgridcolor\\\":\\\"white\\\",\\\"startlinecolor\\\":\\\"#2a3f5f\\\",\\\"linecolor\\\":\\\"white\\\"}}],\\\"scatterpolar\\\":[{\\\"type\\\":\\\"scatterpolar\\\",\\\"marker\\\":{\\\"colorbar\\\":{\\\"ticks\\\":\\\"\\\",\\\"outlinewidth\\\":0}}}],\\\"parcoords\\\":[{\\\"line\\\":{\\\"colorbar\\\":{\\\"ticks\\\":\\\"\\\",\\\"outlinewidth\\\":0}},\\\"type\\\":\\\"parcoords\\\"}],\\\"scatter\\\":[{\\\"type\\\":\\\"scatter\\\",\\\"marker\\\":{\\\"colorbar\\\":{\\\"ticks\\\":\\\"\\\",\\\"outlinewidth\\\":0}}}],\\\"histogram2dcontour\\\":[{\\\"colorbar\\\":{\\\"ticks\\\":\\\"\\\",\\\"outlinewidth\\\":0},\\\"type\\\":\\\"histogram2dcontour\\\",\\\"colorscale\\\":[[0.0,\\\"#0d0887\\\"],[0.1111111111111111,\\\"#46039f\\\"],[0.2222222222222222,\\\"#7201a8\\\"],[0.3333333333333333,\\\"#9c179e\\\"],[0.4444444444444444,\\\"#bd3786\\\"],[0.5555555555555556,\\\"#d8576b\\\"],[0.6666666666666666,\\\"#ed7953\\\"],[0.7777777777777778,\\\"#fb9f3a\\\"],[0.8888888888888888,\\\"#fdca26\\\"],[1.0,\\\"#f0f921\\\"]]}],\\\"contour\\\":[{\\\"colorbar\\\":{\\\"ticks\\\":\\\"\\\",\\\"outlinewidth\\\":0},\\\"type\\\":\\\"contour\\\",\\\"colorscale\\\":[[0.0,\\\"#0d0887\\\"],[0.1111111111111111,\\\"#46039f\\\"],[0.2222222222222222,\\\"#7201a8\\\"],[0.3333333333333333,\\\"#9c179e\\\"],[0.4444444444444444,\\\"#bd3786\\\"],[0.5555555555555556,\\\"#d8576b\\\"],[0.6666666666666666,\\\"#ed7953\\\"],[0.7777777777777778,\\\"#fb9f3a\\\"],[0.8888888888888888,\\\"#fdca26\\\"],[1.0,\\\"#f0f921\\\"]]}],\\\"scattercarpet\\\":[{\\\"type\\\":\\\"scattercarpet\\\",\\\"marker\\\":{\\\"colorbar\\\":{\\\"ticks\\\":\\\"\\\",\\\"outlinewidth\\\":0}}}],\\\"mesh3d\\\":[{\\\"colorbar\\\":{\\\"ticks\\\":\\\"\\\",\\\"outlinewidth\\\":0},\\\"type\\\":\\\"mesh3d\\\"}],\\\"surface\\\":[{\\\"colorbar\\\":{\\\"ticks\\\":\\\"\\\",\\\"outlinewidth\\\":0},\\\"type\\\":\\\"surface\\\",\\\"colorscale\\\":[[0.0,\\\"#0d0887\\\"],[0.1111111111111111,\\\"#46039f\\\"],[0.2222222222222222,\\\"#7201a8\\\"],[0.3333333333333333,\\\"#9c179e\\\"],[0.4444444444444444,\\\"#bd3786\\\"],[0.5555555555555556,\\\"#d8576b\\\"],[0.6666666666666666,\\\"#ed7953\\\"],[0.7777777777777778,\\\"#fb9f3a\\\"],[0.8888888888888888,\\\"#fdca26\\\"],[1.0,\\\"#f0f921\\\"]]}],\\\"scattermapbox\\\":[{\\\"type\\\":\\\"scattermapbox\\\",\\\"marker\\\":{\\\"colorbar\\\":{\\\"ticks\\\":\\\"\\\",\\\"outlinewidth\\\":0}}}],\\\"scattergeo\\\":[{\\\"type\\\":\\\"scattergeo\\\",\\\"marker\\\":{\\\"colorbar\\\":{\\\"ticks\\\":\\\"\\\",\\\"outlinewidth\\\":0}}}],\\\"histogram\\\":[{\\\"type\\\":\\\"histogram\\\",\\\"marker\\\":{\\\"colorbar\\\":{\\\"ticks\\\":\\\"\\\",\\\"outlinewidth\\\":0}}}],\\\"pie\\\":[{\\\"type\\\":\\\"pie\\\",\\\"automargin\\\":true}],\\\"choropleth\\\":[{\\\"colorbar\\\":{\\\"ticks\\\":\\\"\\\",\\\"outlinewidth\\\":0},\\\"type\\\":\\\"choropleth\\\"}],\\\"heatmapgl\\\":[{\\\"colorbar\\\":{\\\"ticks\\\":\\\"\\\",\\\"outlinewidth\\\":0},\\\"type\\\":\\\"heatmapgl\\\",\\\"colorscale\\\":[[0.0,\\\"#0d0887\\\"],[0.1111111111111111,\\\"#46039f\\\"],[0.2222222222222222,\\\"#7201a8\\\"],[0.3333333333333333,\\\"#9c179e\\\"],[0.4444444444444444,\\\"#bd3786\\\"],[0.5555555555555556,\\\"#d8576b\\\"],[0.6666666666666666,\\\"#ed7953\\\"],[0.7777777777777778,\\\"#fb9f3a\\\"],[0.8888888888888888,\\\"#fdca26\\\"],[1.0,\\\"#f0f921\\\"]]}],\\\"bar\\\":[{\\\"type\\\":\\\"bar\\\",\\\"error_y\\\":{\\\"color\\\":\\\"#2a3f5f\\\"},\\\"error_x\\\":{\\\"color\\\":\\\"#2a3f5f\\\"},\\\"marker\\\":{\\\"line\\\":{\\\"color\\\":\\\"#E5ECF6\\\",\\\"width\\\":0.5}}}],\\\"heatmap\\\":[{\\\"colorbar\\\":{\\\"ticks\\\":\\\"\\\",\\\"outlinewidth\\\":0},\\\"type\\\":\\\"heatmap\\\",\\\"colorscale\\\":[[0.0,\\\"#0d0887\\\"],[0.1111111111111111,\\\"#46039f\\\"],[0.2222222222222222,\\\"#7201a8\\\"],[0.3333333333333333,\\\"#9c179e\\\"],[0.4444444444444444,\\\"#bd3786\\\"],[0.5555555555555556,\\\"#d8576b\\\"],[0.6666666666666666,\\\"#ed7953\\\"],[0.7777777777777778,\\\"#fb9f3a\\\"],[0.8888888888888888,\\\"#fdca26\\\"],[1.0,\\\"#f0f921\\\"]]}],\\\"contourcarpet\\\":[{\\\"colorbar\\\":{\\\"ticks\\\":\\\"\\\",\\\"outlinewidth\\\":0},\\\"type\\\":\\\"contourcarpet\\\"}],\\\"table\\\":[{\\\"type\\\":\\\"table\\\",\\\"header\\\":{\\\"line\\\":{\\\"color\\\":\\\"white\\\"},\\\"fill\\\":{\\\"color\\\":\\\"#C8D4E3\\\"}},\\\"cells\\\":{\\\"line\\\":{\\\"color\\\":\\\"white\\\"},\\\"fill\\\":{\\\"color\\\":\\\"#EBF0F8\\\"}}}],\\\"scatter3d\\\":[{\\\"line\\\":{\\\"colorbar\\\":{\\\"ticks\\\":\\\"\\\",\\\"outlinewidth\\\":0}},\\\"type\\\":\\\"scatter3d\\\",\\\"marker\\\":{\\\"colorbar\\\":{\\\"ticks\\\":\\\"\\\",\\\"outlinewidth\\\":0}}}],\\\"scattergl\\\":[{\\\"type\\\":\\\"scattergl\\\",\\\"marker\\\":{\\\"colorbar\\\":{\\\"ticks\\\":\\\"\\\",\\\"outlinewidth\\\":0}}}],\\\"histogram2d\\\":[{\\\"colorbar\\\":{\\\"ticks\\\":\\\"\\\",\\\"outlinewidth\\\":0},\\\"type\\\":\\\"histogram2d\\\",\\\"colorscale\\\":[[0.0,\\\"#0d0887\\\"],[0.1111111111111111,\\\"#46039f\\\"],[0.2222222222222222,\\\"#7201a8\\\"],[0.3333333333333333,\\\"#9c179e\\\"],[0.4444444444444444,\\\"#bd3786\\\"],[0.5555555555555556,\\\"#d8576b\\\"],[0.6666666666666666,\\\"#ed7953\\\"],[0.7777777777777778,\\\"#fb9f3a\\\"],[0.8888888888888888,\\\"#fdca26\\\"],[1.0,\\\"#f0f921\\\"]]}],\\\"scatterternary\\\":[{\\\"type\\\":\\\"scatterternary\\\",\\\"marker\\\":{\\\"colorbar\\\":{\\\"ticks\\\":\\\"\\\",\\\"outlinewidth\\\":0}}}],\\\"scatterpolargl\\\":[{\\\"type\\\":\\\"scatterpolargl\\\",\\\"marker\\\":{\\\"colorbar\\\":{\\\"ticks\\\":\\\"\\\",\\\"outlinewidth\\\":0}}}]}},\\\"height\\\":600,\\\"margin\\\":{\\\"l\\\":0,\\\"b\\\":0,\\\"r\\\":0,\\\"t\\\":65},\\\"autosize\\\":true},{\\\"showLink\\\":false,\\\"editable\\\":false,\\\"responsive\\\":true,\\\"staticPlot\\\":false,\\\"scrollZoom\\\":true}); gd.on(\\\"plotly_hover\\\",(function (data){var filtered_data=WebIO.PlotlyCommands.filterEventData(gd,data,\\\"hover\\\"); return !(filtered_data.isnil) ? (WebIO.setval({\\\"name\\\":\\\"hover\\\",\\\"scope\\\":\\\"14131933057536782019\\\",\\\"id\\\":\\\"9292320249548476718\\\",\\\"type\\\":\\\"observable\\\"},filtered_data.out)) : undefined})); gd.on(\\\"plotly_unhover\\\",(function (){return WebIO.setval({\\\"name\\\":\\\"hover\\\",\\\"scope\\\":\\\"14131933057536782019\\\",\\\"id\\\":\\\"9292320249548476718\\\",\\\"type\\\":\\\"observable\\\"},{})})); gd.on(\\\"plotly_selected\\\",(function (data){var filtered_data=WebIO.PlotlyCommands.filterEventData(gd,data,\\\"selected\\\"); return !(filtered_data.isnil) ? (WebIO.setval({\\\"name\\\":\\\"selected\\\",\\\"scope\\\":\\\"14131933057536782019\\\",\\\"id\\\":\\\"1747208277820066230\\\",\\\"type\\\":\\\"observable\\\"},filtered_data.out)) : undefined})); gd.on(\\\"plotly_deselect\\\",(function (){return WebIO.setval({\\\"name\\\":\\\"selected\\\",\\\"scope\\\":\\\"14131933057536782019\\\",\\\"id\\\":\\\"1747208277820066230\\\",\\\"type\\\":\\\"observable\\\"},{})})); gd.on(\\\"plotly_relayout\\\",(function (data){var filtered_data=WebIO.PlotlyCommands.filterEventData(gd,data,\\\"relayout\\\"); return !(filtered_data.isnil) ? (WebIO.setval({\\\"name\\\":\\\"relayout\\\",\\\"scope\\\":\\\"14131933057536782019\\\",\\\"id\\\":\\\"9237537353251862248\\\",\\\"type\\\":\\\"observable\\\"},filtered_data.out)) : undefined})); return gd.on(\\\"plotly_click\\\",(function (data){var filtered_data=WebIO.PlotlyCommands.filterEventData(gd,data,\\\"click\\\"); return !(filtered_data.isnil) ? (WebIO.setval({\\\"name\\\":\\\"click\\\",\\\"scope\\\":\\\"14131933057536782019\\\",\\\"id\\\":\\\"13146089943849149942\\\",\\\"type\\\":\\\"observable\\\"},filtered_data.out)) : undefined}))}));\\n    (WebIO.importBlock({\\\"data\\\":[{\\\"name\\\":\\\"Plotly\\\",\\\"type\\\":\\\"js\\\",\\\"url\\\":\\\"\\/assetserver\\/2c1443c4a3fadd5de9f99c6b5d8fa0ad35f7de28-plotly.min.js\\\"},{\\\"name\\\":null,\\\"type\\\":\\\"js\\\",\\\"url\\\":\\\"\\/assetserver\\/a617ad3fbd31c68e6d8336a472e6356f3a4cb577-plotly_webio.bundle.js\\\"}],\\\"type\\\":\\\"async_block\\\"})).then((imports) => handler.apply(this, imports));\\n}\\n\"],\"observables\":{\"_toImage\":{\"sync\":true,\"id\":\"8692620442539325062\",\"value\":{}},\"hover\":{\"sync\":false,\"id\":\"9292320249548476718\",\"value\":{}},\"selected\":{\"sync\":false,\"id\":\"1747208277820066230\",\"value\":{}},\"__gd_contents\":{\"sync\":false,\"id\":\"12797036428974780661\",\"value\":{}},\"click\":{\"sync\":false,\"id\":\"13146089943849149942\",\"value\":{}},\"image\":{\"sync\":true,\"id\":\"13241022458587850335\",\"value\":\"\"},\"__get_gd_contents\":{\"sync\":true,\"id\":\"12301070557637673839\",\"value\":\"\"},\"_downloadImage\":{\"sync\":true,\"id\":\"4764536271258533795\",\"value\":{}},\"relayout\":{\"sync\":false,\"id\":\"9237537353251862248\",\"value\":{}},\"_commands\":{\"sync\":true,\"id\":\"7574370733071090447\",\"value\":[]}}},\"children\":[{\"props\":{\"id\":\"plot-719f0845-c87c-4d07-8da2-cb1836874e9d\"},\"nodeType\":\"DOM\",\"type\":\"node\",\"instanceArgs\":{\"namespace\":\"html\",\"tag\":\"div\"},\"children\":[]}]},\n",
       "        window,\n",
       "    );\n",
       "    })()\n",
       "    </script>\n",
       "</div>\n"
      ],
      "text/plain": [
       "data: [\n",
       "  \"heatmap with fields transpose, type, x, y, and z\"\n",
       "]\n",
       "\n",
       "layout: \"layout with fields autosize, height, margin, and template\"\n",
       "\n"
      ]
     },
     "execution_count": 20,
     "metadata": {},
     "output_type": "execute_result"
    }
   ],
   "source": [
    "showHM_perGrp(\"67L\")"
   ]
  },
  {
   "cell_type": "code",
   "execution_count": 50,
   "id": "6277ed4c-3162-43aa-afce-1661793ef8c7",
   "metadata": {
    "tags": []
   },
   "outputs": [
    {
     "data": {
      "text/html": [
       "<div class=\"data-frame\"><p>6 rows × 5 columns</p><table class=\"data-frame\"><thead><tr><th></th><th>Sample</th><th>Conc_real</th><th>Assay</th><th>Material</th><th>Flaming_Smoldering</th></tr><tr><th></th><th title=\"String15\">String15</th><th title=\"Float64\">Float64</th><th title=\"String15\">String15</th><th title=\"String15\">String15</th><th title=\"String31\">String31</th></tr></thead><tbody><tr><th>1</th><td>67L</td><td>1.36556</td><td>IFN-?</td><td>PL</td><td>F</td></tr><tr><th>2</th><td>67L</td><td>1.71803</td><td>IFN-?</td><td>PL</td><td>F</td></tr><tr><th>3</th><td>67L</td><td>1.34689</td><td>IFN-?</td><td>PL</td><td>F</td></tr><tr><th>4</th><td>67L</td><td>1.44925</td><td>IL-10</td><td>PL</td><td>F</td></tr><tr><th>5</th><td>67L</td><td>1.53691</td><td>IL-10</td><td>PL</td><td>F</td></tr><tr><th>6</th><td>67L</td><td>2.55277</td><td>IL-10</td><td>PL</td><td>F</td></tr></tbody></table></div>"
      ],
      "text/latex": [
       "\\begin{tabular}{r|ccccc}\n",
       "\t& Sample & Conc\\_real & Assay & Material & Flaming\\_Smoldering\\\\\n",
       "\t\\hline\n",
       "\t& String15 & Float64 & String15 & String15 & String31\\\\\n",
       "\t\\hline\n",
       "\t1 & 67L & 1.36556 & IFN-? & PL & F \\\\\n",
       "\t2 & 67L & 1.71803 & IFN-? & PL & F \\\\\n",
       "\t3 & 67L & 1.34689 & IFN-? & PL & F \\\\\n",
       "\t4 & 67L & 1.44925 & IL-10 & PL & F \\\\\n",
       "\t5 & 67L & 1.53691 & IL-10 & PL & F \\\\\n",
       "\t6 & 67L & 2.55277 & IL-10 & PL & F \\\\\n",
       "\\end{tabular}\n"
      ],
      "text/plain": [
       "\u001b[1m6×5 DataFrame\u001b[0m\n",
       "\u001b[1m Row \u001b[0m│\u001b[1m Sample   \u001b[0m\u001b[1m Conc_real \u001b[0m\u001b[1m Assay    \u001b[0m\u001b[1m Material \u001b[0m\u001b[1m Flaming_Smoldering \u001b[0m\n",
       "\u001b[1m     \u001b[0m│\u001b[90m String15 \u001b[0m\u001b[90m Float64   \u001b[0m\u001b[90m String15 \u001b[0m\u001b[90m String15 \u001b[0m\u001b[90m String31           \u001b[0m\n",
       "─────┼─────────────────────────────────────────────────────────────\n",
       "   1 │ 67L         1.36556  IFN-?     PL        F\n",
       "   2 │ 67L         1.71803  IFN-?     PL        F\n",
       "   3 │ 67L         1.34689  IFN-?     PL        F\n",
       "   4 │ 67L         1.44925  IL-10     PL        F\n",
       "   5 │ 67L         1.53691  IL-10     PL        F\n",
       "   6 │ 67L         2.55277  IL-10     PL        F"
      ]
     },
     "execution_count": 50,
     "metadata": {},
     "output_type": "execute_result"
    }
   ],
   "source": [
    "dtest = df[df.Conc_real .> 1 .&& df.Sample .== \"67L\",[:Sample,:Conc_real,:Assay,:Material,:Flaming_Smoldering]]\n",
    "first(dtest,6)"
   ]
  },
  {
   "cell_type": "code",
   "execution_count": 16,
   "id": "b4b54649-a524-4397-880e-b0f52fdc023e",
   "metadata": {},
   "outputs": [
    {
     "data": {
      "text/plain": [
       "10-element Vector{String15}:\n",
       " \"IFN-?\"\n",
       " \"IL-10\"\n",
       " \"IL-12p70\"\n",
       " \"IL-13\"\n",
       " \"IL-1?\"\n",
       " \"IL-2\"\n",
       " \"IL-4\"\n",
       " \"IL-6\"\n",
       " \"IL-8\"\n",
       " \"TNF-\\xe0\""
      ]
     },
     "execution_count": 16,
     "metadata": {},
     "output_type": "execute_result"
    }
   ],
   "source": [
    "# Get all assay\n",
    "unique(df.Assay)"
   ]
  },
  {
   "cell_type": "code",
   "execution_count": 32,
   "id": "9385bd1b-3c06-4918-9eea-ac7236696024",
   "metadata": {},
   "outputs": [
    {
     "data": {
      "application/vnd.plotly.v1+json": {
       "config": {
        "editable": false,
        "responsive": true,
        "scrollZoom": true,
        "showLink": false,
        "staticPlot": false
       },
       "data": [
        {
         "transpose": true,
         "type": "heatmap",
         "x": [
          "IFN-?",
          "IFN-?",
          "IFN-?",
          "IFN-?",
          "IFN-?",
          "IFN-?",
          "IFN-?",
          "IFN-?",
          "IFN-?",
          "IFN-?",
          "IFN-?",
          "IFN-?",
          "IFN-?",
          "IFN-?",
          "IFN-?",
          "IFN-?",
          "IFN-?",
          "IFN-?",
          "IFN-?",
          "IFN-?",
          "IFN-?",
          "IFN-?",
          "IFN-?",
          "IFN-?",
          "IFN-?",
          "IFN-?",
          "IFN-?",
          "IFN-?",
          "IFN-?",
          "IFN-?",
          "IFN-?",
          "IFN-?",
          "IFN-?",
          "IFN-?",
          "IFN-?",
          "IFN-?",
          "IL-10",
          "IL-10",
          "IL-10",
          "IL-10",
          "IL-10",
          "IL-10",
          "IL-10",
          "IL-10",
          "IL-10",
          "IL-10",
          "IL-10",
          "IL-10",
          "IL-10",
          "IL-10",
          "IL-10",
          "IL-10",
          "IL-10",
          "IL-10",
          "IL-10",
          "IL-10",
          "IL-10",
          "IL-10",
          "IL-10",
          "IL-10",
          "IL-10",
          "IL-10",
          "IL-10",
          "IL-10",
          "IL-10",
          "IL-10",
          "IL-10",
          "IL-10",
          "IL-10",
          "IL-10",
          "IL-10",
          "IL-10",
          "IL-12p70",
          "IL-12p70",
          "IL-12p70",
          "IL-12p70",
          "IL-12p70",
          "IL-12p70",
          "IL-12p70",
          "IL-12p70",
          "IL-12p70",
          "IL-12p70",
          "IL-12p70",
          "IL-12p70",
          "IL-12p70",
          "IL-12p70",
          "IL-12p70",
          "IL-12p70",
          "IL-12p70",
          "IL-12p70",
          "IL-12p70",
          "IL-12p70",
          "IL-12p70",
          "IL-12p70",
          "IL-12p70",
          "IL-12p70",
          "IL-12p70",
          "IL-12p70",
          "IL-12p70",
          "IL-12p70",
          "IL-12p70",
          "IL-12p70",
          "IL-12p70",
          "IL-12p70",
          "IL-12p70",
          "IL-12p70",
          "IL-12p70",
          "IL-12p70",
          "IL-13",
          "IL-13",
          "IL-13",
          "IL-13",
          "IL-13",
          "IL-13",
          "IL-13",
          "IL-13",
          "IL-13",
          "IL-13",
          "IL-13",
          "IL-13",
          "IL-13",
          "IL-13",
          "IL-13",
          "IL-13",
          "IL-13",
          "IL-13",
          "IL-13",
          "IL-13",
          "IL-13",
          "IL-13",
          "IL-13",
          "IL-13",
          "IL-13",
          "IL-13",
          "IL-13",
          "IL-13",
          "IL-13",
          "IL-13",
          "IL-13",
          "IL-13",
          "IL-13",
          "IL-13",
          "IL-13",
          "IL-13",
          "IL-1?",
          "IL-1?",
          "IL-1?",
          "IL-1?",
          "IL-1?",
          "IL-1?",
          "IL-1?",
          "IL-1?",
          "IL-1?",
          "IL-1?",
          "IL-1?",
          "IL-1?",
          "IL-1?",
          "IL-1?",
          "IL-1?",
          "IL-1?",
          "IL-1?",
          "IL-1?",
          "IL-1?",
          "IL-1?",
          "IL-1?",
          "IL-1?",
          "IL-1?",
          "IL-1?",
          "IL-1?",
          "IL-1?",
          "IL-1?",
          "IL-1?",
          "IL-1?",
          "IL-1?",
          "IL-1?",
          "IL-1?",
          "IL-1?",
          "IL-1?",
          "IL-1?",
          "IL-1?",
          "IL-2",
          "IL-2",
          "IL-2",
          "IL-2",
          "IL-2",
          "IL-2",
          "IL-2",
          "IL-2",
          "IL-2",
          "IL-2",
          "IL-2",
          "IL-2",
          "IL-2",
          "IL-2",
          "IL-2",
          "IL-2",
          "IL-2",
          "IL-2",
          "IL-2",
          "IL-2",
          "IL-2",
          "IL-2",
          "IL-2",
          "IL-2",
          "IL-2",
          "IL-2",
          "IL-2",
          "IL-2",
          "IL-2",
          "IL-2",
          "IL-2",
          "IL-2",
          "IL-2",
          "IL-2",
          "IL-2",
          "IL-2",
          "IL-4",
          "IL-4",
          "IL-4",
          "IL-4",
          "IL-4",
          "IL-4",
          "IL-4",
          "IL-4",
          "IL-4",
          "IL-4",
          "IL-4",
          "IL-4",
          "IL-4",
          "IL-4",
          "IL-4",
          "IL-4",
          "IL-4",
          "IL-4",
          "IL-4",
          "IL-4",
          "IL-4",
          "IL-4",
          "IL-4",
          "IL-4",
          "IL-4",
          "IL-4",
          "IL-4",
          "IL-4",
          "IL-4",
          "IL-4",
          "IL-4",
          "IL-4",
          "IL-4",
          "IL-4",
          "IL-4",
          "IL-4",
          "IL-6",
          "IL-6",
          "IL-6",
          "IL-6",
          "IL-6",
          "IL-6",
          "IL-6",
          "IL-6",
          "IL-6",
          "IL-6",
          "IL-6",
          "IL-6",
          "IL-6",
          "IL-6",
          "IL-6",
          "IL-6",
          "IL-6",
          "IL-6",
          "IL-6",
          "IL-6",
          "IL-6",
          "IL-6",
          "IL-6",
          "IL-6",
          "IL-6",
          "IL-6",
          "IL-6",
          "IL-6",
          "IL-6",
          "IL-6",
          "IL-6",
          "IL-6",
          "IL-6",
          "IL-6",
          "IL-6",
          "IL-6",
          "IL-8",
          "IL-8",
          "IL-8",
          "IL-8",
          "IL-8",
          "IL-8",
          "IL-8",
          "IL-8",
          "IL-8",
          "IL-8",
          "IL-8",
          "IL-8",
          "IL-8",
          "IL-8",
          "IL-8",
          "IL-8",
          "IL-8",
          "IL-8",
          "IL-8",
          "IL-8",
          "IL-8",
          "IL-8",
          "IL-8",
          "IL-8",
          "IL-8",
          "IL-8",
          "IL-8",
          "IL-8",
          "IL-8",
          "IL-8",
          "IL-8",
          "IL-8",
          "IL-8",
          "IL-8",
          "IL-8",
          "IL-8",
          "TNF-�",
          "TNF-�",
          "TNF-�",
          "TNF-�",
          "TNF-�",
          "TNF-�",
          "TNF-�",
          "TNF-�",
          "TNF-�",
          "TNF-�",
          "TNF-�",
          "TNF-�",
          "TNF-�",
          "TNF-�",
          "TNF-�",
          "TNF-�",
          "TNF-�",
          "TNF-�",
          "TNF-�",
          "TNF-�",
          "TNF-�",
          "TNF-�",
          "TNF-�",
          "TNF-�",
          "TNF-�",
          "TNF-�",
          "TNF-�",
          "TNF-�",
          "TNF-�",
          "TNF-�",
          "TNF-�",
          "TNF-�",
          "TNF-�",
          "TNF-�",
          "TNF-�",
          "TNF-�"
         ],
         "y": [
          "CB_F_1ug",
          "CB_F_1ug",
          "CB_F_1ug",
          "PL_F_1ug",
          "PL_F_1ug",
          "PL_F_1ug",
          "CB_S_1ug",
          "CB_S_1ug",
          "CB_S_1ug",
          "PL_S_1ug",
          "PL_S_1ug",
          "PL_S_1ug",
          "CB_F_25ug",
          "CB_F_25ug",
          "CB_F_25ug",
          "PL_F_25ug",
          "PL_F_25ug",
          "PL_F_25ug",
          "CB_S_25ug",
          "CB_S_25ug",
          "CB_S_25ug",
          "PL_S_25ug",
          "PL_S_25ug",
          "PL_S_25ug",
          "CB_F_5ug",
          "CB_F_5ug",
          "CB_F_5ug",
          "PL_F_5ug",
          "PL_F_5ug",
          "PL_F_5ug",
          "CB_S_5ug",
          "CB_S_5ug",
          "CB_S_5ug",
          "PL_S_5ug",
          "PL_S_5ug",
          "PL_S_5ug",
          "CB_F_1ug",
          "CB_F_1ug",
          "CB_F_1ug",
          "PL_F_1ug",
          "PL_F_1ug",
          "PL_F_1ug",
          "CB_S_1ug",
          "CB_S_1ug",
          "CB_S_1ug",
          "PL_S_1ug",
          "PL_S_1ug",
          "PL_S_1ug",
          "CB_F_25ug",
          "CB_F_25ug",
          "CB_F_25ug",
          "PL_F_25ug",
          "PL_F_25ug",
          "PL_F_25ug",
          "CB_S_25ug",
          "CB_S_25ug",
          "CB_S_25ug",
          "PL_S_25ug",
          "PL_S_25ug",
          "PL_S_25ug",
          "CB_F_5ug",
          "CB_F_5ug",
          "CB_F_5ug",
          "PL_F_5ug",
          "PL_F_5ug",
          "PL_F_5ug",
          "CB_S_5ug",
          "CB_S_5ug",
          "CB_S_5ug",
          "PL_S_5ug",
          "PL_S_5ug",
          "PL_S_5ug",
          "CB_F_1ug",
          "CB_F_1ug",
          "CB_F_1ug",
          "PL_F_1ug",
          "PL_F_1ug",
          "PL_F_1ug",
          "CB_S_1ug",
          "CB_S_1ug",
          "CB_S_1ug",
          "PL_S_1ug",
          "PL_S_1ug",
          "PL_S_1ug",
          "CB_F_25ug",
          "CB_F_25ug",
          "CB_F_25ug",
          "PL_F_25ug",
          "PL_F_25ug",
          "PL_F_25ug",
          "CB_S_25ug",
          "CB_S_25ug",
          "CB_S_25ug",
          "PL_S_25ug",
          "PL_S_25ug",
          "PL_S_25ug",
          "CB_F_5ug",
          "CB_F_5ug",
          "CB_F_5ug",
          "PL_F_5ug",
          "PL_F_5ug",
          "PL_F_5ug",
          "CB_S_5ug",
          "CB_S_5ug",
          "CB_S_5ug",
          "PL_S_5ug",
          "PL_S_5ug",
          "PL_S_5ug",
          "CB_F_1ug",
          "CB_F_1ug",
          "CB_F_1ug",
          "PL_F_1ug",
          "PL_F_1ug",
          "PL_F_1ug",
          "CB_S_1ug",
          "CB_S_1ug",
          "CB_S_1ug",
          "PL_S_1ug",
          "PL_S_1ug",
          "PL_S_1ug",
          "CB_F_25ug",
          "CB_F_25ug",
          "CB_F_25ug",
          "PL_F_25ug",
          "PL_F_25ug",
          "PL_F_25ug",
          "CB_S_25ug",
          "CB_S_25ug",
          "CB_S_25ug",
          "PL_S_25ug",
          "PL_S_25ug",
          "PL_S_25ug",
          "CB_F_5ug",
          "CB_F_5ug",
          "CB_F_5ug",
          "PL_F_5ug",
          "PL_F_5ug",
          "PL_F_5ug",
          "CB_S_5ug",
          "CB_S_5ug",
          "CB_S_5ug",
          "PL_S_5ug",
          "PL_S_5ug",
          "PL_S_5ug",
          "CB_F_1ug",
          "CB_F_1ug",
          "CB_F_1ug",
          "PL_F_1ug",
          "PL_F_1ug",
          "PL_F_1ug",
          "CB_S_1ug",
          "CB_S_1ug",
          "CB_S_1ug",
          "PL_S_1ug",
          "PL_S_1ug",
          "PL_S_1ug",
          "CB_F_25ug",
          "CB_F_25ug",
          "CB_F_25ug",
          "PL_F_25ug",
          "PL_F_25ug",
          "PL_F_25ug",
          "CB_S_25ug",
          "CB_S_25ug",
          "CB_S_25ug",
          "PL_S_25ug",
          "PL_S_25ug",
          "PL_S_25ug",
          "CB_F_5ug",
          "CB_F_5ug",
          "CB_F_5ug",
          "PL_F_5ug",
          "PL_F_5ug",
          "PL_F_5ug",
          "CB_S_5ug",
          "CB_S_5ug",
          "CB_S_5ug",
          "PL_S_5ug",
          "PL_S_5ug",
          "PL_S_5ug",
          "CB_F_1ug",
          "CB_F_1ug",
          "CB_F_1ug",
          "PL_F_1ug",
          "PL_F_1ug",
          "PL_F_1ug",
          "CB_S_1ug",
          "CB_S_1ug",
          "CB_S_1ug",
          "PL_S_1ug",
          "PL_S_1ug",
          "PL_S_1ug",
          "CB_F_25ug",
          "CB_F_25ug",
          "CB_F_25ug",
          "PL_F_25ug",
          "PL_F_25ug",
          "PL_F_25ug",
          "CB_S_25ug",
          "CB_S_25ug",
          "CB_S_25ug",
          "PL_S_25ug",
          "PL_S_25ug",
          "PL_S_25ug",
          "CB_F_5ug",
          "CB_F_5ug",
          "CB_F_5ug",
          "PL_F_5ug",
          "PL_F_5ug",
          "PL_F_5ug",
          "CB_S_5ug",
          "CB_S_5ug",
          "CB_S_5ug",
          "PL_S_5ug",
          "PL_S_5ug",
          "PL_S_5ug",
          "CB_F_1ug",
          "CB_F_1ug",
          "CB_F_1ug",
          "PL_F_1ug",
          "PL_F_1ug",
          "PL_F_1ug",
          "CB_S_1ug",
          "CB_S_1ug",
          "CB_S_1ug",
          "PL_S_1ug",
          "PL_S_1ug",
          "PL_S_1ug",
          "CB_F_25ug",
          "CB_F_25ug",
          "CB_F_25ug",
          "PL_F_25ug",
          "PL_F_25ug",
          "PL_F_25ug",
          "CB_S_25ug",
          "CB_S_25ug",
          "CB_S_25ug",
          "PL_S_25ug",
          "PL_S_25ug",
          "PL_S_25ug",
          "CB_F_5ug",
          "CB_F_5ug",
          "CB_F_5ug",
          "PL_F_5ug",
          "PL_F_5ug",
          "PL_F_5ug",
          "CB_S_5ug",
          "CB_S_5ug",
          "CB_S_5ug",
          "PL_S_5ug",
          "PL_S_5ug",
          "PL_S_5ug",
          "CB_F_1ug",
          "CB_F_1ug",
          "CB_F_1ug",
          "PL_F_1ug",
          "PL_F_1ug",
          "PL_F_1ug",
          "CB_S_1ug",
          "CB_S_1ug",
          "CB_S_1ug",
          "PL_S_1ug",
          "PL_S_1ug",
          "PL_S_1ug",
          "CB_F_25ug",
          "CB_F_25ug",
          "CB_F_25ug",
          "PL_F_25ug",
          "PL_F_25ug",
          "PL_F_25ug",
          "CB_S_25ug",
          "CB_S_25ug",
          "CB_S_25ug",
          "PL_S_25ug",
          "PL_S_25ug",
          "PL_S_25ug",
          "CB_F_5ug",
          "CB_F_5ug",
          "CB_F_5ug",
          "PL_F_5ug",
          "PL_F_5ug",
          "PL_F_5ug",
          "CB_S_5ug",
          "CB_S_5ug",
          "CB_S_5ug",
          "PL_S_5ug",
          "PL_S_5ug",
          "PL_S_5ug",
          "CB_F_1ug",
          "CB_F_1ug",
          "CB_F_1ug",
          "PL_F_1ug",
          "PL_F_1ug",
          "PL_F_1ug",
          "CB_S_1ug",
          "CB_S_1ug",
          "CB_S_1ug",
          "PL_S_1ug",
          "PL_S_1ug",
          "PL_S_1ug",
          "CB_F_25ug",
          "CB_F_25ug",
          "CB_F_25ug",
          "PL_F_25ug",
          "PL_F_25ug",
          "PL_F_25ug",
          "CB_S_25ug",
          "CB_S_25ug",
          "CB_S_25ug",
          "PL_S_25ug",
          "PL_S_25ug",
          "PL_S_25ug",
          "CB_F_5ug",
          "CB_F_5ug",
          "CB_F_5ug",
          "PL_F_5ug",
          "PL_F_5ug",
          "PL_F_5ug",
          "CB_S_5ug",
          "CB_S_5ug",
          "CB_S_5ug",
          "PL_S_5ug",
          "PL_S_5ug",
          "PL_S_5ug",
          "CB_F_1ug",
          "CB_F_1ug",
          "CB_F_1ug",
          "PL_F_1ug",
          "PL_F_1ug",
          "PL_F_1ug",
          "CB_S_1ug",
          "CB_S_1ug",
          "CB_S_1ug",
          "PL_S_1ug",
          "PL_S_1ug",
          "PL_S_1ug",
          "CB_F_25ug",
          "CB_F_25ug",
          "CB_F_25ug",
          "PL_F_25ug",
          "PL_F_25ug",
          "PL_F_25ug",
          "CB_S_25ug",
          "CB_S_25ug",
          "CB_S_25ug",
          "PL_S_25ug",
          "PL_S_25ug",
          "PL_S_25ug",
          "CB_F_5ug",
          "CB_F_5ug",
          "CB_F_5ug",
          "PL_F_5ug",
          "PL_F_5ug",
          "PL_F_5ug",
          "CB_S_5ug",
          "CB_S_5ug",
          "CB_S_5ug",
          "PL_S_5ug",
          "PL_S_5ug",
          "PL_S_5ug"
         ],
         "z": [
          0.08656775,
          0,
          0.256362446,
          0,
          0,
          0,
          0.352697432,
          0.340674279,
          0.854598653,
          0.08656775,
          0,
          0,
          0.830799441,
          0.19594515,
          0.074338397,
          0,
          0,
          0,
          0.878390162,
          0,
          0.376729599,
          0,
          0.012682205,
          0.098776966,
          0.532547301,
          0.232217922,
          0.268424628,
          0.012682205,
          0,
          0,
          0.663968389,
          0.220134876,
          0.074338397,
          0.025121943,
          0.159593627,
          0,
          0.211510569,
          0.321446017,
          0.171989123,
          0.400263268,
          0.234564828,
          0.472839698,
          0.273390066,
          0.51251725,
          0.278071835,
          0.248836261,
          0.279242511,
          0.439196403,
          0.530287357,
          0.250004485,
          0.265200634,
          0.238326963,
          0.904134554,
          1.923761226,
          0.567047805,
          0.245332211,
          0.527917346,
          0.303847618,
          0.210346039,
          0.126870296,
          0.175469936,
          0.245332211,
          0.433293079,
          0.182435449,
          1.256788475,
          0.590145663,
          0.192893085,
          0.234825792,
          0.19870755,
          0.136103782,
          0.139569431,
          0.113044098,
          0,
          0.050170952,
          0.039268527,
          0.421238745,
          0,
          0.259835035,
          0.104841459,
          0.192630927,
          0.187136242,
          0.143213277,
          0.173403487,
          1.088382229,
          0.01480983,
          0,
          0,
          0.526170548,
          0.124266987,
          0.449156592,
          0.517881805,
          0.429517898,
          0.559332828,
          0.044717922,
          0.001319686,
          0.004003103,
          0.031102389,
          0.67825233,
          0.27514399,
          0.553804986,
          0.091100715,
          0.054097027,
          0.088418655,
          0.091154704,
          0.085683069,
          0,
          0.004003103,
          0,
          6.5851691,
          15.13117801,
          15.60925246,
          28.23179398,
          21.98616084,
          26.59384166,
          2.242720911,
          11.68285561,
          12.34772148,
          6.017179727,
          22.44832428,
          27.47112609,
          14.66544588,
          8.191197067,
          14.22322204,
          17.76686175,
          21.82829378,
          32.87454431,
          12.80261768,
          14.85271181,
          17.32267161,
          2.639371192,
          5.103581041,
          2.903312165,
          2.877531693,
          21.4298298,
          21.84205889,
          20.78158798,
          19.78532057,
          26.31246524,
          5.597624489,
          9.42526204,
          8.176755126,
          2.693302472,
          5.103581041,
          4.797890389,
          2.156076756,
          1.731622009,
          1.314620733,
          2.365884044,
          1.306609863,
          2.360014043,
          1.073050797,
          1.514524089,
          2.506994573,
          1.540280133,
          1.907035756,
          2.687384525,
          3.632530866,
          1.415182792,
          1.491221316,
          1.65434696,
          2.216397333,
          3.258812083,
          3.072758466,
          1.7132229,
          1.941384368,
          1.658026652,
          1.709543099,
          1.312168072,
          1.077955418,
          1.60037898,
          1.422541217,
          1.444616676,
          1.610418819,
          3.012882918,
          0.972509446,
          0.764091473,
          0.971283373,
          1.088990868,
          1.05956317,
          0.934501615,
          1.089479577,
          0.602215898,
          0.94652791,
          0.684115323,
          0.587269492,
          0.748484233,
          0.311561668,
          0.506585436,
          1.007806837,
          0.527085738,
          0.554412432,
          0.939717782,
          1.850363389,
          0.115779664,
          0.646585441,
          0.256706369,
          1.149962702,
          1.502612311,
          1.802868708,
          0.544165842,
          1.157513724,
          0.38347635,
          0.800045469,
          0.646585441,
          0.581731449,
          0.273855262,
          0.830716302,
          0.386898808,
          3.937163886,
          0.703793458,
          0.540750069,
          0.177728506,
          0.585145806,
          0.198347899,
          0.561242891,
          0.225821465,
          0.00719332,
          0.009042995,
          0.012148819,
          0.020952639,
          0.010252971,
          0.026807517,
          0.031144853,
          0.076623288,
          0.141599255,
          0.036922092,
          0.014023548,
          0.115611516,
          0.040788043,
          0.009042995,
          0,
          0.014023548,
          0.002203575,
          0.031694592,
          0.248086948,
          0.153640713,
          0.241301364,
          0.005967432,
          0.002340392,
          0.011525655,
          0.022854731,
          0.142267491,
          0.018424132,
          0.08451534,
          0.017793107,
          0.031694592,
          0.055696383,
          0.062868588,
          0.059605474,
          0.005357054,
          0.004748628,
          0.009662046,
          2.950101513,
          2.898572663,
          1.997232881,
          5.550633779,
          1.607421647,
          3.229342159,
          1.638952628,
          2.592184618,
          6.852249296,
          3.873226226,
          3.350068478,
          6.280904753,
          6.380810929,
          1.554462773,
          1.933923076,
          2.954781571,
          2.810300826,
          5.040029817,
          5.117747927,
          2.468653134,
          2.411435902,
          2.64427354,
          2.672643324,
          2.128105542,
          1.589305754,
          2.516235182,
          1.713149627,
          2.879812755,
          2.17962341,
          3.462522329,
          1.653817858,
          0.958700059,
          1.093635165,
          1.119392086,
          1.574382289,
          0.953474561,
          3101.009346,
          2493.264495,
          2075.906143,
          3602.063183,
          1677.935276,
          2948.730937,
          1348.429442,
          2282.196368,
          3503.370387,
          2359.34632,
          2777.86634,
          3714.541787,
          3793.744898,
          2075.115497,
          2208.903927,
          2681.297656,
          2349.329016,
          3017.593738,
          3796.206289,
          2933.225833,
          3048.650346,
          2643.027412,
          2673.115552,
          2254.669874,
          1892.993122,
          2607.301886,
          2454.948884,
          2626.725099,
          2248.876401,
          3506.744373,
          1756.603761,
          1449.677612,
          1642.519334,
          1790.325189,
          1817.984882,
          1392.06249,
          0.949502979,
          1.600599954,
          1.333518968,
          3.964862423,
          3.963929763,
          5.428262619,
          0.364846706,
          0.945870459,
          1.586181053,
          0.320595603,
          1.715883496,
          4.19593587,
          2.244102212,
          0.658169763,
          1.246734893,
          2.057484986,
          4.59281821,
          7.466921566,
          1.971270789,
          1.076517187,
          2.799072677,
          0.489821764,
          0.74209325,
          0.22067507,
          0.294741402,
          3.409448333,
          2.670334424,
          2.096981847,
          4.200152072,
          4.984289505,
          0.552123811,
          1.159861349,
          0.541137236,
          0.386941879,
          0.331666392,
          0.449446968
         ]
        }
       ],
       "frames": [],
       "layout": {
        "autosize": true,
        "margin": {
         "b": 0,
         "l": 0,
         "r": 0,
         "t": 65
        },
        "template": {
         "data": {
          "bar": [
           {
            "error_x": {
             "color": "#2a3f5f"
            },
            "error_y": {
             "color": "#2a3f5f"
            },
            "marker": {
             "line": {
              "color": "#E5ECF6",
              "width": 0.5
             }
            },
            "type": "bar"
           }
          ],
          "barpolar": [
           {
            "marker": {
             "line": {
              "color": "#E5ECF6",
              "width": 0.5
             }
            },
            "type": "barpolar"
           }
          ],
          "carpet": [
           {
            "aaxis": {
             "endlinecolor": "#2a3f5f",
             "gridcolor": "white",
             "linecolor": "white",
             "minorgridcolor": "white",
             "startlinecolor": "#2a3f5f"
            },
            "baxis": {
             "endlinecolor": "#2a3f5f",
             "gridcolor": "white",
             "linecolor": "white",
             "minorgridcolor": "white",
             "startlinecolor": "#2a3f5f"
            },
            "type": "carpet"
           }
          ],
          "choropleth": [
           {
            "colorbar": {
             "outlinewidth": 0,
             "ticks": ""
            },
            "type": "choropleth"
           }
          ],
          "contour": [
           {
            "colorbar": {
             "outlinewidth": 0,
             "ticks": ""
            },
            "colorscale": [
             [
              0,
              "#0d0887"
             ],
             [
              0.1111111111111111,
              "#46039f"
             ],
             [
              0.2222222222222222,
              "#7201a8"
             ],
             [
              0.3333333333333333,
              "#9c179e"
             ],
             [
              0.4444444444444444,
              "#bd3786"
             ],
             [
              0.5555555555555556,
              "#d8576b"
             ],
             [
              0.6666666666666666,
              "#ed7953"
             ],
             [
              0.7777777777777778,
              "#fb9f3a"
             ],
             [
              0.8888888888888888,
              "#fdca26"
             ],
             [
              1,
              "#f0f921"
             ]
            ],
            "type": "contour"
           }
          ],
          "contourcarpet": [
           {
            "colorbar": {
             "outlinewidth": 0,
             "ticks": ""
            },
            "type": "contourcarpet"
           }
          ],
          "heatmap": [
           {
            "colorbar": {
             "outlinewidth": 0,
             "ticks": ""
            },
            "colorscale": [
             [
              0,
              "#0d0887"
             ],
             [
              0.1111111111111111,
              "#46039f"
             ],
             [
              0.2222222222222222,
              "#7201a8"
             ],
             [
              0.3333333333333333,
              "#9c179e"
             ],
             [
              0.4444444444444444,
              "#bd3786"
             ],
             [
              0.5555555555555556,
              "#d8576b"
             ],
             [
              0.6666666666666666,
              "#ed7953"
             ],
             [
              0.7777777777777778,
              "#fb9f3a"
             ],
             [
              0.8888888888888888,
              "#fdca26"
             ],
             [
              1,
              "#f0f921"
             ]
            ],
            "type": "heatmap"
           }
          ],
          "heatmapgl": [
           {
            "colorbar": {
             "outlinewidth": 0,
             "ticks": ""
            },
            "colorscale": [
             [
              0,
              "#0d0887"
             ],
             [
              0.1111111111111111,
              "#46039f"
             ],
             [
              0.2222222222222222,
              "#7201a8"
             ],
             [
              0.3333333333333333,
              "#9c179e"
             ],
             [
              0.4444444444444444,
              "#bd3786"
             ],
             [
              0.5555555555555556,
              "#d8576b"
             ],
             [
              0.6666666666666666,
              "#ed7953"
             ],
             [
              0.7777777777777778,
              "#fb9f3a"
             ],
             [
              0.8888888888888888,
              "#fdca26"
             ],
             [
              1,
              "#f0f921"
             ]
            ],
            "type": "heatmapgl"
           }
          ],
          "histogram": [
           {
            "marker": {
             "colorbar": {
              "outlinewidth": 0,
              "ticks": ""
             }
            },
            "type": "histogram"
           }
          ],
          "histogram2d": [
           {
            "colorbar": {
             "outlinewidth": 0,
             "ticks": ""
            },
            "colorscale": [
             [
              0,
              "#0d0887"
             ],
             [
              0.1111111111111111,
              "#46039f"
             ],
             [
              0.2222222222222222,
              "#7201a8"
             ],
             [
              0.3333333333333333,
              "#9c179e"
             ],
             [
              0.4444444444444444,
              "#bd3786"
             ],
             [
              0.5555555555555556,
              "#d8576b"
             ],
             [
              0.6666666666666666,
              "#ed7953"
             ],
             [
              0.7777777777777778,
              "#fb9f3a"
             ],
             [
              0.8888888888888888,
              "#fdca26"
             ],
             [
              1,
              "#f0f921"
             ]
            ],
            "type": "histogram2d"
           }
          ],
          "histogram2dcontour": [
           {
            "colorbar": {
             "outlinewidth": 0,
             "ticks": ""
            },
            "colorscale": [
             [
              0,
              "#0d0887"
             ],
             [
              0.1111111111111111,
              "#46039f"
             ],
             [
              0.2222222222222222,
              "#7201a8"
             ],
             [
              0.3333333333333333,
              "#9c179e"
             ],
             [
              0.4444444444444444,
              "#bd3786"
             ],
             [
              0.5555555555555556,
              "#d8576b"
             ],
             [
              0.6666666666666666,
              "#ed7953"
             ],
             [
              0.7777777777777778,
              "#fb9f3a"
             ],
             [
              0.8888888888888888,
              "#fdca26"
             ],
             [
              1,
              "#f0f921"
             ]
            ],
            "type": "histogram2dcontour"
           }
          ],
          "mesh3d": [
           {
            "colorbar": {
             "outlinewidth": 0,
             "ticks": ""
            },
            "type": "mesh3d"
           }
          ],
          "parcoords": [
           {
            "line": {
             "colorbar": {
              "outlinewidth": 0,
              "ticks": ""
             }
            },
            "type": "parcoords"
           }
          ],
          "pie": [
           {
            "automargin": true,
            "type": "pie"
           }
          ],
          "scatter": [
           {
            "marker": {
             "colorbar": {
              "outlinewidth": 0,
              "ticks": ""
             }
            },
            "type": "scatter"
           }
          ],
          "scatter3d": [
           {
            "line": {
             "colorbar": {
              "outlinewidth": 0,
              "ticks": ""
             }
            },
            "marker": {
             "colorbar": {
              "outlinewidth": 0,
              "ticks": ""
             }
            },
            "type": "scatter3d"
           }
          ],
          "scattercarpet": [
           {
            "marker": {
             "colorbar": {
              "outlinewidth": 0,
              "ticks": ""
             }
            },
            "type": "scattercarpet"
           }
          ],
          "scattergeo": [
           {
            "marker": {
             "colorbar": {
              "outlinewidth": 0,
              "ticks": ""
             }
            },
            "type": "scattergeo"
           }
          ],
          "scattergl": [
           {
            "marker": {
             "colorbar": {
              "outlinewidth": 0,
              "ticks": ""
             }
            },
            "type": "scattergl"
           }
          ],
          "scattermapbox": [
           {
            "marker": {
             "colorbar": {
              "outlinewidth": 0,
              "ticks": ""
             }
            },
            "type": "scattermapbox"
           }
          ],
          "scatterpolar": [
           {
            "marker": {
             "colorbar": {
              "outlinewidth": 0,
              "ticks": ""
             }
            },
            "type": "scatterpolar"
           }
          ],
          "scatterpolargl": [
           {
            "marker": {
             "colorbar": {
              "outlinewidth": 0,
              "ticks": ""
             }
            },
            "type": "scatterpolargl"
           }
          ],
          "scatterternary": [
           {
            "marker": {
             "colorbar": {
              "outlinewidth": 0,
              "ticks": ""
             }
            },
            "type": "scatterternary"
           }
          ],
          "surface": [
           {
            "colorbar": {
             "outlinewidth": 0,
             "ticks": ""
            },
            "colorscale": [
             [
              0,
              "#0d0887"
             ],
             [
              0.1111111111111111,
              "#46039f"
             ],
             [
              0.2222222222222222,
              "#7201a8"
             ],
             [
              0.3333333333333333,
              "#9c179e"
             ],
             [
              0.4444444444444444,
              "#bd3786"
             ],
             [
              0.5555555555555556,
              "#d8576b"
             ],
             [
              0.6666666666666666,
              "#ed7953"
             ],
             [
              0.7777777777777778,
              "#fb9f3a"
             ],
             [
              0.8888888888888888,
              "#fdca26"
             ],
             [
              1,
              "#f0f921"
             ]
            ],
            "type": "surface"
           }
          ],
          "table": [
           {
            "cells": {
             "fill": {
              "color": "#EBF0F8"
             },
             "line": {
              "color": "white"
             }
            },
            "header": {
             "fill": {
              "color": "#C8D4E3"
             },
             "line": {
              "color": "white"
             }
            },
            "type": "table"
           }
          ]
         },
         "layout": {
          "annotationdefaults": {
           "arrowcolor": "#2a3f5f",
           "arrowhead": 0,
           "arrowwidth": 1
          },
          "autotypenumbers": "strict",
          "coloraxis": {
           "colorbar": {
            "outlinewidth": 0,
            "ticks": ""
           }
          },
          "colorscale": {
           "diverging": [
            [
             0,
             "#8e0152"
            ],
            [
             0.1,
             "#c51b7d"
            ],
            [
             0.2,
             "#de77ae"
            ],
            [
             0.3,
             "#f1b6da"
            ],
            [
             0.4,
             "#fde0ef"
            ],
            [
             0.5,
             "#f7f7f7"
            ],
            [
             0.6,
             "#e6f5d0"
            ],
            [
             0.7,
             "#b8e186"
            ],
            [
             0.8,
             "#7fbc41"
            ],
            [
             0.9,
             "#4d9221"
            ],
            [
             1,
             "#276419"
            ]
           ],
           "sequential": [
            [
             0,
             "#0d0887"
            ],
            [
             0.1111111111111111,
             "#46039f"
            ],
            [
             0.2222222222222222,
             "#7201a8"
            ],
            [
             0.3333333333333333,
             "#9c179e"
            ],
            [
             0.4444444444444444,
             "#bd3786"
            ],
            [
             0.5555555555555556,
             "#d8576b"
            ],
            [
             0.6666666666666666,
             "#ed7953"
            ],
            [
             0.7777777777777778,
             "#fb9f3a"
            ],
            [
             0.8888888888888888,
             "#fdca26"
            ],
            [
             1,
             "#f0f921"
            ]
           ],
           "sequentialminus": [
            [
             0,
             "#0d0887"
            ],
            [
             0.1111111111111111,
             "#46039f"
            ],
            [
             0.2222222222222222,
             "#7201a8"
            ],
            [
             0.3333333333333333,
             "#9c179e"
            ],
            [
             0.4444444444444444,
             "#bd3786"
            ],
            [
             0.5555555555555556,
             "#d8576b"
            ],
            [
             0.6666666666666666,
             "#ed7953"
            ],
            [
             0.7777777777777778,
             "#fb9f3a"
            ],
            [
             0.8888888888888888,
             "#fdca26"
            ],
            [
             1,
             "#f0f921"
            ]
           ]
          },
          "colorway": [
           "#636efa",
           "#EF553B",
           "#00cc96",
           "#ab63fa",
           "#FFA15A",
           "#19d3f3",
           "#FF6692",
           "#B6E880",
           "#FF97FF",
           "#FECB52"
          ],
          "font": {
           "color": "#2a3f5f"
          },
          "geo": {
           "bgcolor": "white",
           "lakecolor": "white",
           "landcolor": "#E5ECF6",
           "showlakes": true,
           "showland": true,
           "subunitcolor": "white"
          },
          "hoverlabel": {
           "align": "left"
          },
          "hovermode": "closest",
          "mapbox": {
           "style": "light"
          },
          "paper_bgcolor": "white",
          "plot_bgcolor": "#E5ECF6",
          "polar": {
           "angularaxis": {
            "gridcolor": "white",
            "linecolor": "white",
            "ticks": ""
           },
           "bgcolor": "#E5ECF6",
           "radialaxis": {
            "gridcolor": "white",
            "linecolor": "white",
            "ticks": ""
           }
          },
          "scene": {
           "xaxis": {
            "backgroundcolor": "#E5ECF6",
            "gridcolor": "white",
            "gridwidth": 2,
            "linecolor": "white",
            "showbackground": true,
            "ticks": "",
            "zerolinecolor": "white"
           },
           "yaxis": {
            "backgroundcolor": "#E5ECF6",
            "gridcolor": "white",
            "gridwidth": 2,
            "linecolor": "white",
            "showbackground": true,
            "ticks": "",
            "zerolinecolor": "white"
           },
           "zaxis": {
            "backgroundcolor": "#E5ECF6",
            "gridcolor": "white",
            "gridwidth": 2,
            "linecolor": "white",
            "showbackground": true,
            "ticks": "",
            "zerolinecolor": "white"
           }
          },
          "shapedefaults": {
           "line": {
            "color": "#2a3f5f"
           }
          },
          "ternary": {
           "aaxis": {
            "gridcolor": "white",
            "linecolor": "white",
            "ticks": ""
           },
           "baxis": {
            "gridcolor": "white",
            "linecolor": "white",
            "ticks": ""
           },
           "bgcolor": "#E5ECF6",
           "caxis": {
            "gridcolor": "white",
            "linecolor": "white",
            "ticks": ""
           }
          },
          "title": {
           "x": 0.05
          },
          "xaxis": {
           "automargin": true,
           "gridcolor": "white",
           "linecolor": "white",
           "ticks": "",
           "title": {
            "standoff": 15
           },
           "zerolinecolor": "white",
           "zerolinewidth": 2
          },
          "yaxis": {
           "automargin": true,
           "gridcolor": "white",
           "linecolor": "white",
           "ticks": "",
           "title": {
            "standoff": 15
           },
           "zerolinecolor": "white",
           "zerolinewidth": 2
          }
         }
        },
        "xaxis": {
         "autorange": false,
         "range": [
          0.13494144689287335,
          10.134941446892872
         ],
         "type": "category"
        },
        "yaxis": {
         "autorange": false,
         "range": [
          -1.2903016965222078,
          10.709698303477794
         ],
         "type": "category"
        }
       }
      },
      "image/png": "[encoded data removed]",
      "text/html": [
       "<div\n",
       "    class=\"webio-mountpoint\"\n",
       "    data-webio-mountpoint=\"4476085746324565490\"\n",
       ">\n",
       "    <script>\n",
       "    (function(){\n",
       "    // Some integrations (namely, IJulia/Jupyter) use an alternate render pathway than\n",
       "    // just putting the html on the page. If WebIO isn't defined, then it's pretty likely\n",
       "    // that we're in one of those situations and the integration just isn't installed\n",
       "    // correctly.\n",
       "    if (typeof window.WebIO === \"undefined\") {\n",
       "        document\n",
       "            .querySelector('[data-webio-mountpoint=\"4476085746324565490\"]')\n",
       "            .innerHTML = (\n",
       "                '<div style=\"padding: 1em; background-color: #f8d6da; border: 1px solid #f5c6cb; font-weight: bold;\">' +\n",
       "                '<p><strong>WebIO not detected.</strong></p>' +\n",
       "                '<p>Please read ' +\n",
       "                '<a href=\"https://juliagizmos.github.io/WebIO.jl/latest/troubleshooting/not-detected/\" target=\"_blank\">the troubleshooting guide</a> ' +\n",
       "                'for more information on how to resolve this issue.</p>' +\n",
       "                '<p><a href=\"https://juliagizmos.github.io/WebIO.jl/latest/troubleshooting/not-detected/\" target=\"_blank\">https://juliagizmos.github.io/WebIO.jl/latest/troubleshooting/not-detected/</a></p>' +\n",
       "                '</div>'\n",
       "            );\n",
       "        return;\n",
       "    }\n",
       "    WebIO.mount(\n",
       "        document.querySelector('[data-webio-mountpoint=\"4476085746324565490\"]'),\n",
       "        {\"props\":{},\"nodeType\":\"Scope\",\"type\":\"node\",\"instanceArgs\":{\"imports\":{\"data\":[{\"name\":\"Plotly\",\"type\":\"js\",\"url\":\"\\/assetserver\\/2c1443c4a3fadd5de9f99c6b5d8fa0ad35f7de28-plotly.min.js\"},{\"name\":null,\"type\":\"js\",\"url\":\"\\/assetserver\\/a617ad3fbd31c68e6d8336a472e6356f3a4cb577-plotly_webio.bundle.js\"}],\"type\":\"async_block\"},\"id\":\"11379622406564959717\",\"handlers\":{\"_toImage\":[\"(function (options){return this.Plotly.toImage(this.plotElem,options).then((function (data){return WebIO.setval({\\\"name\\\":\\\"image\\\",\\\"scope\\\":\\\"11379622406564959717\\\",\\\"id\\\":\\\"10726530505605567026\\\",\\\"type\\\":\\\"observable\\\"},data)}))})\"],\"__get_gd_contents\":[\"(function (prop){prop==\\\"data\\\" ? (WebIO.setval({\\\"name\\\":\\\"__gd_contents\\\",\\\"scope\\\":\\\"11379622406564959717\\\",\\\"id\\\":\\\"2211956047913903133\\\",\\\"type\\\":\\\"observable\\\"},this.plotElem.data)) : undefined; return prop==\\\"layout\\\" ? (WebIO.setval({\\\"name\\\":\\\"__gd_contents\\\",\\\"scope\\\":\\\"11379622406564959717\\\",\\\"id\\\":\\\"2211956047913903133\\\",\\\"type\\\":\\\"observable\\\"},this.plotElem.layout)) : undefined})\"],\"_downloadImage\":[\"(function (options){return this.Plotly.downloadImage(this.plotElem,options)})\"],\"_commands\":[\"(function (args){var fn=args.shift(); var elem=this.plotElem; var Plotly=this.Plotly; args.unshift(elem); return Plotly[fn].apply(this,args)})\"]},\"systemjs_options\":null,\"mount_callbacks\":[\"function () {\\n    var handler = ((function (Plotly,PlotlyWebIO){PlotlyWebIO.init(WebIO); var gd=this.dom.querySelector(\\\"#plot-f352bece-e403-4d3e-92ad-a3d7e86a1492\\\"); this.plotElem=gd; this.Plotly=Plotly; (window.Blink!==undefined) ? (gd.style.width=\\\"100%\\\", gd.style.height=\\\"100vh\\\", gd.style.marginLeft=\\\"0%\\\", gd.style.marginTop=\\\"0vh\\\") : undefined; window.onresize=(function (){return Plotly.Plots.resize(gd)}); Plotly.newPlot(gd,[{\\\"y\\\":[\\\"CB_F_1ug\\\",\\\"CB_F_1ug\\\",\\\"CB_F_1ug\\\",\\\"PL_F_1ug\\\",\\\"PL_F_1ug\\\",\\\"PL_F_1ug\\\",\\\"CB_S_1ug\\\",\\\"CB_S_1ug\\\",\\\"CB_S_1ug\\\",\\\"PL_S_1ug\\\",\\\"PL_S_1ug\\\",\\\"PL_S_1ug\\\",\\\"CB_F_25ug\\\",\\\"CB_F_25ug\\\",\\\"CB_F_25ug\\\",\\\"PL_F_25ug\\\",\\\"PL_F_25ug\\\",\\\"PL_F_25ug\\\",\\\"CB_S_25ug\\\",\\\"CB_S_25ug\\\",\\\"CB_S_25ug\\\",\\\"PL_S_25ug\\\",\\\"PL_S_25ug\\\",\\\"PL_S_25ug\\\",\\\"CB_F_5ug\\\",\\\"CB_F_5ug\\\",\\\"CB_F_5ug\\\",\\\"PL_F_5ug\\\",\\\"PL_F_5ug\\\",\\\"PL_F_5ug\\\",\\\"CB_S_5ug\\\",\\\"CB_S_5ug\\\",\\\"CB_S_5ug\\\",\\\"PL_S_5ug\\\",\\\"PL_S_5ug\\\",\\\"PL_S_5ug\\\",\\\"CB_F_1ug\\\",\\\"CB_F_1ug\\\",\\\"CB_F_1ug\\\",\\\"PL_F_1ug\\\",\\\"PL_F_1ug\\\",\\\"PL_F_1ug\\\",\\\"CB_S_1ug\\\",\\\"CB_S_1ug\\\",\\\"CB_S_1ug\\\",\\\"PL_S_1ug\\\",\\\"PL_S_1ug\\\",\\\"PL_S_1ug\\\",\\\"CB_F_25ug\\\",\\\"CB_F_25ug\\\",\\\"CB_F_25ug\\\",\\\"PL_F_25ug\\\",\\\"PL_F_25ug\\\",\\\"PL_F_25ug\\\",\\\"CB_S_25ug\\\",\\\"CB_S_25ug\\\",\\\"CB_S_25ug\\\",\\\"PL_S_25ug\\\",\\\"PL_S_25ug\\\",\\\"PL_S_25ug\\\",\\\"CB_F_5ug\\\",\\\"CB_F_5ug\\\",\\\"CB_F_5ug\\\",\\\"PL_F_5ug\\\",\\\"PL_F_5ug\\\",\\\"PL_F_5ug\\\",\\\"CB_S_5ug\\\",\\\"CB_S_5ug\\\",\\\"CB_S_5ug\\\",\\\"PL_S_5ug\\\",\\\"PL_S_5ug\\\",\\\"PL_S_5ug\\\",\\\"CB_F_1ug\\\",\\\"CB_F_1ug\\\",\\\"CB_F_1ug\\\",\\\"PL_F_1ug\\\",\\\"PL_F_1ug\\\",\\\"PL_F_1ug\\\",\\\"CB_S_1ug\\\",\\\"CB_S_1ug\\\",\\\"CB_S_1ug\\\",\\\"PL_S_1ug\\\",\\\"PL_S_1ug\\\",\\\"PL_S_1ug\\\",\\\"CB_F_25ug\\\",\\\"CB_F_25ug\\\",\\\"CB_F_25ug\\\",\\\"PL_F_25ug\\\",\\\"PL_F_25ug\\\",\\\"PL_F_25ug\\\",\\\"CB_S_25ug\\\",\\\"CB_S_25ug\\\",\\\"CB_S_25ug\\\",\\\"PL_S_25ug\\\",\\\"PL_S_25ug\\\",\\\"PL_S_25ug\\\",\\\"CB_F_5ug\\\",\\\"CB_F_5ug\\\",\\\"CB_F_5ug\\\",\\\"PL_F_5ug\\\",\\\"PL_F_5ug\\\",\\\"PL_F_5ug\\\",\\\"CB_S_5ug\\\",\\\"CB_S_5ug\\\",\\\"CB_S_5ug\\\",\\\"PL_S_5ug\\\",\\\"PL_S_5ug\\\",\\\"PL_S_5ug\\\",\\\"CB_F_1ug\\\",\\\"CB_F_1ug\\\",\\\"CB_F_1ug\\\",\\\"PL_F_1ug\\\",\\\"PL_F_1ug\\\",\\\"PL_F_1ug\\\",\\\"CB_S_1ug\\\",\\\"CB_S_1ug\\\",\\\"CB_S_1ug\\\",\\\"PL_S_1ug\\\",\\\"PL_S_1ug\\\",\\\"PL_S_1ug\\\",\\\"CB_F_25ug\\\",\\\"CB_F_25ug\\\",\\\"CB_F_25ug\\\",\\\"PL_F_25ug\\\",\\\"PL_F_25ug\\\",\\\"PL_F_25ug\\\",\\\"CB_S_25ug\\\",\\\"CB_S_25ug\\\",\\\"CB_S_25ug\\\",\\\"PL_S_25ug\\\",\\\"PL_S_25ug\\\",\\\"PL_S_25ug\\\",\\\"CB_F_5ug\\\",\\\"CB_F_5ug\\\",\\\"CB_F_5ug\\\",\\\"PL_F_5ug\\\",\\\"PL_F_5ug\\\",\\\"PL_F_5ug\\\",\\\"CB_S_5ug\\\",\\\"CB_S_5ug\\\",\\\"CB_S_5ug\\\",\\\"PL_S_5ug\\\",\\\"PL_S_5ug\\\",\\\"PL_S_5ug\\\",\\\"CB_F_1ug\\\",\\\"CB_F_1ug\\\",\\\"CB_F_1ug\\\",\\\"PL_F_1ug\\\",\\\"PL_F_1ug\\\",\\\"PL_F_1ug\\\",\\\"CB_S_1ug\\\",\\\"CB_S_1ug\\\",\\\"CB_S_1ug\\\",\\\"PL_S_1ug\\\",\\\"PL_S_1ug\\\",\\\"PL_S_1ug\\\",\\\"CB_F_25ug\\\",\\\"CB_F_25ug\\\",\\\"CB_F_25ug\\\",\\\"PL_F_25ug\\\",\\\"PL_F_25ug\\\",\\\"PL_F_25ug\\\",\\\"CB_S_25ug\\\",\\\"CB_S_25ug\\\",\\\"CB_S_25ug\\\",\\\"PL_S_25ug\\\",\\\"PL_S_25ug\\\",\\\"PL_S_25ug\\\",\\\"CB_F_5ug\\\",\\\"CB_F_5ug\\\",\\\"CB_F_5ug\\\",\\\"PL_F_5ug\\\",\\\"PL_F_5ug\\\",\\\"PL_F_5ug\\\",\\\"CB_S_5ug\\\",\\\"CB_S_5ug\\\",\\\"CB_S_5ug\\\",\\\"PL_S_5ug\\\",\\\"PL_S_5ug\\\",\\\"PL_S_5ug\\\",\\\"CB_F_1ug\\\",\\\"CB_F_1ug\\\",\\\"CB_F_1ug\\\",\\\"PL_F_1ug\\\",\\\"PL_F_1ug\\\",\\\"PL_F_1ug\\\",\\\"CB_S_1ug\\\",\\\"CB_S_1ug\\\",\\\"CB_S_1ug\\\",\\\"PL_S_1ug\\\",\\\"PL_S_1ug\\\",\\\"PL_S_1ug\\\",\\\"CB_F_25ug\\\",\\\"CB_F_25ug\\\",\\\"CB_F_25ug\\\",\\\"PL_F_25ug\\\",\\\"PL_F_25ug\\\",\\\"PL_F_25ug\\\",\\\"CB_S_25ug\\\",\\\"CB_S_25ug\\\",\\\"CB_S_25ug\\\",\\\"PL_S_25ug\\\",\\\"PL_S_25ug\\\",\\\"PL_S_25ug\\\",\\\"CB_F_5ug\\\",\\\"CB_F_5ug\\\",\\\"CB_F_5ug\\\",\\\"PL_F_5ug\\\",\\\"PL_F_5ug\\\",\\\"PL_F_5ug\\\",\\\"CB_S_5ug\\\",\\\"CB_S_5ug\\\",\\\"CB_S_5ug\\\",\\\"PL_S_5ug\\\",\\\"PL_S_5ug\\\",\\\"PL_S_5ug\\\",\\\"CB_F_1ug\\\",\\\"CB_F_1ug\\\",\\\"CB_F_1ug\\\",\\\"PL_F_1ug\\\",\\\"PL_F_1ug\\\",\\\"PL_F_1ug\\\",\\\"CB_S_1ug\\\",\\\"CB_S_1ug\\\",\\\"CB_S_1ug\\\",\\\"PL_S_1ug\\\",\\\"PL_S_1ug\\\",\\\"PL_S_1ug\\\",\\\"CB_F_25ug\\\",\\\"CB_F_25ug\\\",\\\"CB_F_25ug\\\",\\\"PL_F_25ug\\\",\\\"PL_F_25ug\\\",\\\"PL_F_25ug\\\",\\\"CB_S_25ug\\\",\\\"CB_S_25ug\\\",\\\"CB_S_25ug\\\",\\\"PL_S_25ug\\\",\\\"PL_S_25ug\\\",\\\"PL_S_25ug\\\",\\\"CB_F_5ug\\\",\\\"CB_F_5ug\\\",\\\"CB_F_5ug\\\",\\\"PL_F_5ug\\\",\\\"PL_F_5ug\\\",\\\"PL_F_5ug\\\",\\\"CB_S_5ug\\\",\\\"CB_S_5ug\\\",\\\"CB_S_5ug\\\",\\\"PL_S_5ug\\\",\\\"PL_S_5ug\\\",\\\"PL_S_5ug\\\",\\\"CB_F_1ug\\\",\\\"CB_F_1ug\\\",\\\"CB_F_1ug\\\",\\\"PL_F_1ug\\\",\\\"PL_F_1ug\\\",\\\"PL_F_1ug\\\",\\\"CB_S_1ug\\\",\\\"CB_S_1ug\\\",\\\"CB_S_1ug\\\",\\\"PL_S_1ug\\\",\\\"PL_S_1ug\\\",\\\"PL_S_1ug\\\",\\\"CB_F_25ug\\\",\\\"CB_F_25ug\\\",\\\"CB_F_25ug\\\",\\\"PL_F_25ug\\\",\\\"PL_F_25ug\\\",\\\"PL_F_25ug\\\",\\\"CB_S_25ug\\\",\\\"CB_S_25ug\\\",\\\"CB_S_25ug\\\",\\\"PL_S_25ug\\\",\\\"PL_S_25ug\\\",\\\"PL_S_25ug\\\",\\\"CB_F_5ug\\\",\\\"CB_F_5ug\\\",\\\"CB_F_5ug\\\",\\\"PL_F_5ug\\\",\\\"PL_F_5ug\\\",\\\"PL_F_5ug\\\",\\\"CB_S_5ug\\\",\\\"CB_S_5ug\\\",\\\"CB_S_5ug\\\",\\\"PL_S_5ug\\\",\\\"PL_S_5ug\\\",\\\"PL_S_5ug\\\",\\\"CB_F_1ug\\\",\\\"CB_F_1ug\\\",\\\"CB_F_1ug\\\",\\\"PL_F_1ug\\\",\\\"PL_F_1ug\\\",\\\"PL_F_1ug\\\",\\\"CB_S_1ug\\\",\\\"CB_S_1ug\\\",\\\"CB_S_1ug\\\",\\\"PL_S_1ug\\\",\\\"PL_S_1ug\\\",\\\"PL_S_1ug\\\",\\\"CB_F_25ug\\\",\\\"CB_F_25ug\\\",\\\"CB_F_25ug\\\",\\\"PL_F_25ug\\\",\\\"PL_F_25ug\\\",\\\"PL_F_25ug\\\",\\\"CB_S_25ug\\\",\\\"CB_S_25ug\\\",\\\"CB_S_25ug\\\",\\\"PL_S_25ug\\\",\\\"PL_S_25ug\\\",\\\"PL_S_25ug\\\",\\\"CB_F_5ug\\\",\\\"CB_F_5ug\\\",\\\"CB_F_5ug\\\",\\\"PL_F_5ug\\\",\\\"PL_F_5ug\\\",\\\"PL_F_5ug\\\",\\\"CB_S_5ug\\\",\\\"CB_S_5ug\\\",\\\"CB_S_5ug\\\",\\\"PL_S_5ug\\\",\\\"PL_S_5ug\\\",\\\"PL_S_5ug\\\",\\\"CB_F_1ug\\\",\\\"CB_F_1ug\\\",\\\"CB_F_1ug\\\",\\\"PL_F_1ug\\\",\\\"PL_F_1ug\\\",\\\"PL_F_1ug\\\",\\\"CB_S_1ug\\\",\\\"CB_S_1ug\\\",\\\"CB_S_1ug\\\",\\\"PL_S_1ug\\\",\\\"PL_S_1ug\\\",\\\"PL_S_1ug\\\",\\\"CB_F_25ug\\\",\\\"CB_F_25ug\\\",\\\"CB_F_25ug\\\",\\\"PL_F_25ug\\\",\\\"PL_F_25ug\\\",\\\"PL_F_25ug\\\",\\\"CB_S_25ug\\\",\\\"CB_S_25ug\\\",\\\"CB_S_25ug\\\",\\\"PL_S_25ug\\\",\\\"PL_S_25ug\\\",\\\"PL_S_25ug\\\",\\\"CB_F_5ug\\\",\\\"CB_F_5ug\\\",\\\"CB_F_5ug\\\",\\\"PL_F_5ug\\\",\\\"PL_F_5ug\\\",\\\"PL_F_5ug\\\",\\\"CB_S_5ug\\\",\\\"CB_S_5ug\\\",\\\"CB_S_5ug\\\",\\\"PL_S_5ug\\\",\\\"PL_S_5ug\\\",\\\"PL_S_5ug\\\"],\\\"type\\\":\\\"heatmap\\\",\\\"z\\\":[0.08656775,0.0,0.256362446,0.0,0.0,0.0,0.352697432,0.340674279,0.854598653,0.08656775,0.0,0.0,0.830799441,0.19594515,0.074338397,0.0,0.0,0.0,0.878390162,0.0,0.376729599,0.0,0.012682205,0.098776966,0.532547301,0.232217922,0.268424628,0.012682205,0.0,0.0,0.663968389,0.220134876,0.074338397,0.025121943,0.159593627,0.0,0.211510569,0.321446017,0.171989123,0.400263268,0.234564828,0.472839698,0.273390066,0.51251725,0.278071835,0.248836261,0.279242511,0.439196403,0.530287357,0.250004485,0.265200634,0.238326963,0.904134554,1.923761226,0.567047805,0.245332211,0.527917346,0.303847618,0.210346039,0.126870296,0.175469936,0.245332211,0.433293079,0.182435449,1.256788475,0.590145663,0.192893085,0.234825792,0.19870755,0.136103782,0.139569431,0.113044098,0.0,0.050170952,0.039268527,0.421238745,0.0,0.259835035,0.104841459,0.192630927,0.187136242,0.143213277,0.173403487,1.088382229,0.01480983,0.0,0.0,0.526170548,0.124266987,0.449156592,0.517881805,0.429517898,0.559332828,0.044717922,0.001319686,0.004003103,0.031102389,0.67825233,0.27514399,0.553804986,0.091100715,0.054097027,0.088418655,0.091154704,0.085683069,0.0,0.004003103,0.0,6.5851691,15.13117801,15.60925246,28.23179398,21.98616084,26.59384166,2.242720911,11.68285561,12.34772148,6.017179727,22.44832428,27.47112609,14.66544588,8.191197067,14.22322204,17.76686175,21.82829378,32.87454431,12.80261768,14.85271181,17.32267161,2.639371192,5.103581041,2.903312165,2.877531693,21.4298298,21.84205889,20.78158798,19.78532057,26.31246524,5.597624489,9.42526204,8.176755126,2.693302472,5.103581041,4.797890389,2.156076756,1.731622009,1.314620733,2.365884044,1.306609863,2.360014043,1.073050797,1.514524089,2.506994573,1.540280133,1.907035756,2.687384525,3.632530866,1.415182792,1.491221316,1.65434696,2.216397333,3.258812083,3.072758466,1.7132229,1.941384368,1.658026652,1.709543099,1.312168072,1.077955418,1.60037898,1.422541217,1.444616676,1.610418819,3.012882918,0.972509446,0.764091473,0.971283373,1.088990868,1.05956317,0.934501615,1.089479577,0.602215898,0.94652791,0.684115323,0.587269492,0.748484233,0.311561668,0.506585436,1.007806837,0.527085738,0.554412432,0.939717782,1.850363389,0.115779664,0.646585441,0.256706369,1.149962702,1.502612311,1.802868708,0.544165842,1.157513724,0.38347635,0.800045469,0.646585441,0.581731449,0.273855262,0.830716302,0.386898808,3.937163886,0.703793458,0.540750069,0.177728506,0.585145806,0.198347899,0.561242891,0.225821465,0.00719332,0.009042995,0.012148819,0.020952639,0.010252971,0.026807517,0.031144853,0.076623288,0.141599255,0.036922092,0.014023548,0.115611516,0.040788043,0.009042995,0.0,0.014023548,0.002203575,0.031694592,0.248086948,0.153640713,0.241301364,0.005967432,0.002340392,0.011525655,0.022854731,0.142267491,0.018424132,0.08451534,0.017793107,0.031694592,0.055696383,0.062868588,0.059605474,0.005357054,0.004748628,0.009662046,2.950101513,2.898572663,1.997232881,5.550633779,1.607421647,3.229342159,1.638952628,2.592184618,6.852249296,3.873226226,3.350068478,6.280904753,6.380810929,1.554462773,1.933923076,2.954781571,2.810300826,5.040029817,5.117747927,2.468653134,2.411435902,2.64427354,2.672643324,2.128105542,1.589305754,2.516235182,1.713149627,2.879812755,2.17962341,3.462522329,1.653817858,0.958700059,1.093635165,1.119392086,1.574382289,0.953474561,3101.009346,2493.264495,2075.906143,3602.063183,1677.935276,2948.730937,1348.429442,2282.196368,3503.370387,2359.34632,2777.86634,3714.541787,3793.744898,2075.115497,2208.903927,2681.297656,2349.329016,3017.593738,3796.206289,2933.225833,3048.650346,2643.027412,2673.115552,2254.669874,1892.993122,2607.301886,2454.948884,2626.725099,2248.876401,3506.744373,1756.603761,1449.677612,1642.519334,1790.325189,1817.984882,1392.06249,0.949502979,1.600599954,1.333518968,3.964862423,3.963929763,5.428262619,0.364846706,0.945870459,1.586181053,0.320595603,1.715883496,4.19593587,2.244102212,0.658169763,1.246734893,2.057484986,4.59281821,7.466921566,1.971270789,1.076517187,2.799072677,0.489821764,0.74209325,0.22067507,0.294741402,3.409448333,2.670334424,2.096981847,4.200152072,4.984289505,0.552123811,1.159861349,0.541137236,0.386941879,0.331666392,0.449446968],\\\"transpose\\\":true,\\\"x\\\":[\\\"IFN-?\\\",\\\"IFN-?\\\",\\\"IFN-?\\\",\\\"IFN-?\\\",\\\"IFN-?\\\",\\\"IFN-?\\\",\\\"IFN-?\\\",\\\"IFN-?\\\",\\\"IFN-?\\\",\\\"IFN-?\\\",\\\"IFN-?\\\",\\\"IFN-?\\\",\\\"IFN-?\\\",\\\"IFN-?\\\",\\\"IFN-?\\\",\\\"IFN-?\\\",\\\"IFN-?\\\",\\\"IFN-?\\\",\\\"IFN-?\\\",\\\"IFN-?\\\",\\\"IFN-?\\\",\\\"IFN-?\\\",\\\"IFN-?\\\",\\\"IFN-?\\\",\\\"IFN-?\\\",\\\"IFN-?\\\",\\\"IFN-?\\\",\\\"IFN-?\\\",\\\"IFN-?\\\",\\\"IFN-?\\\",\\\"IFN-?\\\",\\\"IFN-?\\\",\\\"IFN-?\\\",\\\"IFN-?\\\",\\\"IFN-?\\\",\\\"IFN-?\\\",\\\"IL-10\\\",\\\"IL-10\\\",\\\"IL-10\\\",\\\"IL-10\\\",\\\"IL-10\\\",\\\"IL-10\\\",\\\"IL-10\\\",\\\"IL-10\\\",\\\"IL-10\\\",\\\"IL-10\\\",\\\"IL-10\\\",\\\"IL-10\\\",\\\"IL-10\\\",\\\"IL-10\\\",\\\"IL-10\\\",\\\"IL-10\\\",\\\"IL-10\\\",\\\"IL-10\\\",\\\"IL-10\\\",\\\"IL-10\\\",\\\"IL-10\\\",\\\"IL-10\\\",\\\"IL-10\\\",\\\"IL-10\\\",\\\"IL-10\\\",\\\"IL-10\\\",\\\"IL-10\\\",\\\"IL-10\\\",\\\"IL-10\\\",\\\"IL-10\\\",\\\"IL-10\\\",\\\"IL-10\\\",\\\"IL-10\\\",\\\"IL-10\\\",\\\"IL-10\\\",\\\"IL-10\\\",\\\"IL-12p70\\\",\\\"IL-12p70\\\",\\\"IL-12p70\\\",\\\"IL-12p70\\\",\\\"IL-12p70\\\",\\\"IL-12p70\\\",\\\"IL-12p70\\\",\\\"IL-12p70\\\",\\\"IL-12p70\\\",\\\"IL-12p70\\\",\\\"IL-12p70\\\",\\\"IL-12p70\\\",\\\"IL-12p70\\\",\\\"IL-12p70\\\",\\\"IL-12p70\\\",\\\"IL-12p70\\\",\\\"IL-12p70\\\",\\\"IL-12p70\\\",\\\"IL-12p70\\\",\\\"IL-12p70\\\",\\\"IL-12p70\\\",\\\"IL-12p70\\\",\\\"IL-12p70\\\",\\\"IL-12p70\\\",\\\"IL-12p70\\\",\\\"IL-12p70\\\",\\\"IL-12p70\\\",\\\"IL-12p70\\\",\\\"IL-12p70\\\",\\\"IL-12p70\\\",\\\"IL-12p70\\\",\\\"IL-12p70\\\",\\\"IL-12p70\\\",\\\"IL-12p70\\\",\\\"IL-12p70\\\",\\\"IL-12p70\\\",\\\"IL-13\\\",\\\"IL-13\\\",\\\"IL-13\\\",\\\"IL-13\\\",\\\"IL-13\\\",\\\"IL-13\\\",\\\"IL-13\\\",\\\"IL-13\\\",\\\"IL-13\\\",\\\"IL-13\\\",\\\"IL-13\\\",\\\"IL-13\\\",\\\"IL-13\\\",\\\"IL-13\\\",\\\"IL-13\\\",\\\"IL-13\\\",\\\"IL-13\\\",\\\"IL-13\\\",\\\"IL-13\\\",\\\"IL-13\\\",\\\"IL-13\\\",\\\"IL-13\\\",\\\"IL-13\\\",\\\"IL-13\\\",\\\"IL-13\\\",\\\"IL-13\\\",\\\"IL-13\\\",\\\"IL-13\\\",\\\"IL-13\\\",\\\"IL-13\\\",\\\"IL-13\\\",\\\"IL-13\\\",\\\"IL-13\\\",\\\"IL-13\\\",\\\"IL-13\\\",\\\"IL-13\\\",\\\"IL-1?\\\",\\\"IL-1?\\\",\\\"IL-1?\\\",\\\"IL-1?\\\",\\\"IL-1?\\\",\\\"IL-1?\\\",\\\"IL-1?\\\",\\\"IL-1?\\\",\\\"IL-1?\\\",\\\"IL-1?\\\",\\\"IL-1?\\\",\\\"IL-1?\\\",\\\"IL-1?\\\",\\\"IL-1?\\\",\\\"IL-1?\\\",\\\"IL-1?\\\",\\\"IL-1?\\\",\\\"IL-1?\\\",\\\"IL-1?\\\",\\\"IL-1?\\\",\\\"IL-1?\\\",\\\"IL-1?\\\",\\\"IL-1?\\\",\\\"IL-1?\\\",\\\"IL-1?\\\",\\\"IL-1?\\\",\\\"IL-1?\\\",\\\"IL-1?\\\",\\\"IL-1?\\\",\\\"IL-1?\\\",\\\"IL-1?\\\",\\\"IL-1?\\\",\\\"IL-1?\\\",\\\"IL-1?\\\",\\\"IL-1?\\\",\\\"IL-1?\\\",\\\"IL-2\\\",\\\"IL-2\\\",\\\"IL-2\\\",\\\"IL-2\\\",\\\"IL-2\\\",\\\"IL-2\\\",\\\"IL-2\\\",\\\"IL-2\\\",\\\"IL-2\\\",\\\"IL-2\\\",\\\"IL-2\\\",\\\"IL-2\\\",\\\"IL-2\\\",\\\"IL-2\\\",\\\"IL-2\\\",\\\"IL-2\\\",\\\"IL-2\\\",\\\"IL-2\\\",\\\"IL-2\\\",\\\"IL-2\\\",\\\"IL-2\\\",\\\"IL-2\\\",\\\"IL-2\\\",\\\"IL-2\\\",\\\"IL-2\\\",\\\"IL-2\\\",\\\"IL-2\\\",\\\"IL-2\\\",\\\"IL-2\\\",\\\"IL-2\\\",\\\"IL-2\\\",\\\"IL-2\\\",\\\"IL-2\\\",\\\"IL-2\\\",\\\"IL-2\\\",\\\"IL-2\\\",\\\"IL-4\\\",\\\"IL-4\\\",\\\"IL-4\\\",\\\"IL-4\\\",\\\"IL-4\\\",\\\"IL-4\\\",\\\"IL-4\\\",\\\"IL-4\\\",\\\"IL-4\\\",\\\"IL-4\\\",\\\"IL-4\\\",\\\"IL-4\\\",\\\"IL-4\\\",\\\"IL-4\\\",\\\"IL-4\\\",\\\"IL-4\\\",\\\"IL-4\\\",\\\"IL-4\\\",\\\"IL-4\\\",\\\"IL-4\\\",\\\"IL-4\\\",\\\"IL-4\\\",\\\"IL-4\\\",\\\"IL-4\\\",\\\"IL-4\\\",\\\"IL-4\\\",\\\"IL-4\\\",\\\"IL-4\\\",\\\"IL-4\\\",\\\"IL-4\\\",\\\"IL-4\\\",\\\"IL-4\\\",\\\"IL-4\\\",\\\"IL-4\\\",\\\"IL-4\\\",\\\"IL-4\\\",\\\"IL-6\\\",\\\"IL-6\\\",\\\"IL-6\\\",\\\"IL-6\\\",\\\"IL-6\\\",\\\"IL-6\\\",\\\"IL-6\\\",\\\"IL-6\\\",\\\"IL-6\\\",\\\"IL-6\\\",\\\"IL-6\\\",\\\"IL-6\\\",\\\"IL-6\\\",\\\"IL-6\\\",\\\"IL-6\\\",\\\"IL-6\\\",\\\"IL-6\\\",\\\"IL-6\\\",\\\"IL-6\\\",\\\"IL-6\\\",\\\"IL-6\\\",\\\"IL-6\\\",\\\"IL-6\\\",\\\"IL-6\\\",\\\"IL-6\\\",\\\"IL-6\\\",\\\"IL-6\\\",\\\"IL-6\\\",\\\"IL-6\\\",\\\"IL-6\\\",\\\"IL-6\\\",\\\"IL-6\\\",\\\"IL-6\\\",\\\"IL-6\\\",\\\"IL-6\\\",\\\"IL-6\\\",\\\"IL-8\\\",\\\"IL-8\\\",\\\"IL-8\\\",\\\"IL-8\\\",\\\"IL-8\\\",\\\"IL-8\\\",\\\"IL-8\\\",\\\"IL-8\\\",\\\"IL-8\\\",\\\"IL-8\\\",\\\"IL-8\\\",\\\"IL-8\\\",\\\"IL-8\\\",\\\"IL-8\\\",\\\"IL-8\\\",\\\"IL-8\\\",\\\"IL-8\\\",\\\"IL-8\\\",\\\"IL-8\\\",\\\"IL-8\\\",\\\"IL-8\\\",\\\"IL-8\\\",\\\"IL-8\\\",\\\"IL-8\\\",\\\"IL-8\\\",\\\"IL-8\\\",\\\"IL-8\\\",\\\"IL-8\\\",\\\"IL-8\\\",\\\"IL-8\\\",\\\"IL-8\\\",\\\"IL-8\\\",\\\"IL-8\\\",\\\"IL-8\\\",\\\"IL-8\\\",\\\"IL-8\\\",\\\"TNF-�\\\",\\\"TNF-�\\\",\\\"TNF-�\\\",\\\"TNF-�\\\",\\\"TNF-�\\\",\\\"TNF-�\\\",\\\"TNF-�\\\",\\\"TNF-�\\\",\\\"TNF-�\\\",\\\"TNF-�\\\",\\\"TNF-�\\\",\\\"TNF-�\\\",\\\"TNF-�\\\",\\\"TNF-�\\\",\\\"TNF-�\\\",\\\"TNF-�\\\",\\\"TNF-�\\\",\\\"TNF-�\\\",\\\"TNF-�\\\",\\\"TNF-�\\\",\\\"TNF-�\\\",\\\"TNF-�\\\",\\\"TNF-�\\\",\\\"TNF-�\\\",\\\"TNF-�\\\",\\\"TNF-�\\\",\\\"TNF-�\\\",\\\"TNF-�\\\",\\\"TNF-�\\\",\\\"TNF-�\\\",\\\"TNF-�\\\",\\\"TNF-�\\\",\\\"TNF-�\\\",\\\"TNF-�\\\",\\\"TNF-�\\\",\\\"TNF-�\\\"]}],{\\\"template\\\":{\\\"layout\\\":{\\\"coloraxis\\\":{\\\"colorbar\\\":{\\\"ticks\\\":\\\"\\\",\\\"outlinewidth\\\":0}},\\\"xaxis\\\":{\\\"gridcolor\\\":\\\"white\\\",\\\"zerolinewidth\\\":2,\\\"title\\\":{\\\"standoff\\\":15},\\\"ticks\\\":\\\"\\\",\\\"zerolinecolor\\\":\\\"white\\\",\\\"automargin\\\":true,\\\"linecolor\\\":\\\"white\\\"},\\\"hovermode\\\":\\\"closest\\\",\\\"paper_bgcolor\\\":\\\"white\\\",\\\"geo\\\":{\\\"showlakes\\\":true,\\\"showland\\\":true,\\\"landcolor\\\":\\\"#E5ECF6\\\",\\\"bgcolor\\\":\\\"white\\\",\\\"subunitcolor\\\":\\\"white\\\",\\\"lakecolor\\\":\\\"white\\\"},\\\"colorscale\\\":{\\\"sequential\\\":[[0.0,\\\"#0d0887\\\"],[0.1111111111111111,\\\"#46039f\\\"],[0.2222222222222222,\\\"#7201a8\\\"],[0.3333333333333333,\\\"#9c179e\\\"],[0.4444444444444444,\\\"#bd3786\\\"],[0.5555555555555556,\\\"#d8576b\\\"],[0.6666666666666666,\\\"#ed7953\\\"],[0.7777777777777778,\\\"#fb9f3a\\\"],[0.8888888888888888,\\\"#fdca26\\\"],[1.0,\\\"#f0f921\\\"]],\\\"diverging\\\":[[0,\\\"#8e0152\\\"],[0.1,\\\"#c51b7d\\\"],[0.2,\\\"#de77ae\\\"],[0.3,\\\"#f1b6da\\\"],[0.4,\\\"#fde0ef\\\"],[0.5,\\\"#f7f7f7\\\"],[0.6,\\\"#e6f5d0\\\"],[0.7,\\\"#b8e186\\\"],[0.8,\\\"#7fbc41\\\"],[0.9,\\\"#4d9221\\\"],[1,\\\"#276419\\\"]],\\\"sequentialminus\\\":[[0.0,\\\"#0d0887\\\"],[0.1111111111111111,\\\"#46039f\\\"],[0.2222222222222222,\\\"#7201a8\\\"],[0.3333333333333333,\\\"#9c179e\\\"],[0.4444444444444444,\\\"#bd3786\\\"],[0.5555555555555556,\\\"#d8576b\\\"],[0.6666666666666666,\\\"#ed7953\\\"],[0.7777777777777778,\\\"#fb9f3a\\\"],[0.8888888888888888,\\\"#fdca26\\\"],[1.0,\\\"#f0f921\\\"]]},\\\"yaxis\\\":{\\\"gridcolor\\\":\\\"white\\\",\\\"zerolinewidth\\\":2,\\\"title\\\":{\\\"standoff\\\":15},\\\"ticks\\\":\\\"\\\",\\\"zerolinecolor\\\":\\\"white\\\",\\\"automargin\\\":true,\\\"linecolor\\\":\\\"white\\\"},\\\"shapedefaults\\\":{\\\"line\\\":{\\\"color\\\":\\\"#2a3f5f\\\"}},\\\"hoverlabel\\\":{\\\"align\\\":\\\"left\\\"},\\\"mapbox\\\":{\\\"style\\\":\\\"light\\\"},\\\"polar\\\":{\\\"angularaxis\\\":{\\\"gridcolor\\\":\\\"white\\\",\\\"ticks\\\":\\\"\\\",\\\"linecolor\\\":\\\"white\\\"},\\\"bgcolor\\\":\\\"#E5ECF6\\\",\\\"radialaxis\\\":{\\\"gridcolor\\\":\\\"white\\\",\\\"ticks\\\":\\\"\\\",\\\"linecolor\\\":\\\"white\\\"}},\\\"autotypenumbers\\\":\\\"strict\\\",\\\"font\\\":{\\\"color\\\":\\\"#2a3f5f\\\"},\\\"ternary\\\":{\\\"baxis\\\":{\\\"gridcolor\\\":\\\"white\\\",\\\"ticks\\\":\\\"\\\",\\\"linecolor\\\":\\\"white\\\"},\\\"bgcolor\\\":\\\"#E5ECF6\\\",\\\"caxis\\\":{\\\"gridcolor\\\":\\\"white\\\",\\\"ticks\\\":\\\"\\\",\\\"linecolor\\\":\\\"white\\\"},\\\"aaxis\\\":{\\\"gridcolor\\\":\\\"white\\\",\\\"ticks\\\":\\\"\\\",\\\"linecolor\\\":\\\"white\\\"}},\\\"annotationdefaults\\\":{\\\"arrowhead\\\":0,\\\"arrowwidth\\\":1,\\\"arrowcolor\\\":\\\"#2a3f5f\\\"},\\\"plot_bgcolor\\\":\\\"#E5ECF6\\\",\\\"title\\\":{\\\"x\\\":0.05},\\\"scene\\\":{\\\"xaxis\\\":{\\\"gridcolor\\\":\\\"white\\\",\\\"gridwidth\\\":2,\\\"backgroundcolor\\\":\\\"#E5ECF6\\\",\\\"ticks\\\":\\\"\\\",\\\"showbackground\\\":true,\\\"zerolinecolor\\\":\\\"white\\\",\\\"linecolor\\\":\\\"white\\\"},\\\"zaxis\\\":{\\\"gridcolor\\\":\\\"white\\\",\\\"gridwidth\\\":2,\\\"backgroundcolor\\\":\\\"#E5ECF6\\\",\\\"ticks\\\":\\\"\\\",\\\"showbackground\\\":true,\\\"zerolinecolor\\\":\\\"white\\\",\\\"linecolor\\\":\\\"white\\\"},\\\"yaxis\\\":{\\\"gridcolor\\\":\\\"white\\\",\\\"gridwidth\\\":2,\\\"backgroundcolor\\\":\\\"#E5ECF6\\\",\\\"ticks\\\":\\\"\\\",\\\"showbackground\\\":true,\\\"zerolinecolor\\\":\\\"white\\\",\\\"linecolor\\\":\\\"white\\\"}},\\\"colorway\\\":[\\\"#636efa\\\",\\\"#EF553B\\\",\\\"#00cc96\\\",\\\"#ab63fa\\\",\\\"#FFA15A\\\",\\\"#19d3f3\\\",\\\"#FF6692\\\",\\\"#B6E880\\\",\\\"#FF97FF\\\",\\\"#FECB52\\\"]},\\\"data\\\":{\\\"barpolar\\\":[{\\\"type\\\":\\\"barpolar\\\",\\\"marker\\\":{\\\"line\\\":{\\\"color\\\":\\\"#E5ECF6\\\",\\\"width\\\":0.5}}}],\\\"carpet\\\":[{\\\"aaxis\\\":{\\\"gridcolor\\\":\\\"white\\\",\\\"endlinecolor\\\":\\\"#2a3f5f\\\",\\\"minorgridcolor\\\":\\\"white\\\",\\\"startlinecolor\\\":\\\"#2a3f5f\\\",\\\"linecolor\\\":\\\"white\\\"},\\\"type\\\":\\\"carpet\\\",\\\"baxis\\\":{\\\"gridcolor\\\":\\\"white\\\",\\\"endlinecolor\\\":\\\"#2a3f5f\\\",\\\"minorgridcolor\\\":\\\"white\\\",\\\"startlinecolor\\\":\\\"#2a3f5f\\\",\\\"linecolor\\\":\\\"white\\\"}}],\\\"scatterpolar\\\":[{\\\"type\\\":\\\"scatterpolar\\\",\\\"marker\\\":{\\\"colorbar\\\":{\\\"ticks\\\":\\\"\\\",\\\"outlinewidth\\\":0}}}],\\\"parcoords\\\":[{\\\"line\\\":{\\\"colorbar\\\":{\\\"ticks\\\":\\\"\\\",\\\"outlinewidth\\\":0}},\\\"type\\\":\\\"parcoords\\\"}],\\\"scatter\\\":[{\\\"type\\\":\\\"scatter\\\",\\\"marker\\\":{\\\"colorbar\\\":{\\\"ticks\\\":\\\"\\\",\\\"outlinewidth\\\":0}}}],\\\"histogram2dcontour\\\":[{\\\"colorbar\\\":{\\\"ticks\\\":\\\"\\\",\\\"outlinewidth\\\":0},\\\"type\\\":\\\"histogram2dcontour\\\",\\\"colorscale\\\":[[0.0,\\\"#0d0887\\\"],[0.1111111111111111,\\\"#46039f\\\"],[0.2222222222222222,\\\"#7201a8\\\"],[0.3333333333333333,\\\"#9c179e\\\"],[0.4444444444444444,\\\"#bd3786\\\"],[0.5555555555555556,\\\"#d8576b\\\"],[0.6666666666666666,\\\"#ed7953\\\"],[0.7777777777777778,\\\"#fb9f3a\\\"],[0.8888888888888888,\\\"#fdca26\\\"],[1.0,\\\"#f0f921\\\"]]}],\\\"contour\\\":[{\\\"colorbar\\\":{\\\"ticks\\\":\\\"\\\",\\\"outlinewidth\\\":0},\\\"type\\\":\\\"contour\\\",\\\"colorscale\\\":[[0.0,\\\"#0d0887\\\"],[0.1111111111111111,\\\"#46039f\\\"],[0.2222222222222222,\\\"#7201a8\\\"],[0.3333333333333333,\\\"#9c179e\\\"],[0.4444444444444444,\\\"#bd3786\\\"],[0.5555555555555556,\\\"#d8576b\\\"],[0.6666666666666666,\\\"#ed7953\\\"],[0.7777777777777778,\\\"#fb9f3a\\\"],[0.8888888888888888,\\\"#fdca26\\\"],[1.0,\\\"#f0f921\\\"]]}],\\\"scattercarpet\\\":[{\\\"type\\\":\\\"scattercarpet\\\",\\\"marker\\\":{\\\"colorbar\\\":{\\\"ticks\\\":\\\"\\\",\\\"outlinewidth\\\":0}}}],\\\"mesh3d\\\":[{\\\"colorbar\\\":{\\\"ticks\\\":\\\"\\\",\\\"outlinewidth\\\":0},\\\"type\\\":\\\"mesh3d\\\"}],\\\"surface\\\":[{\\\"colorbar\\\":{\\\"ticks\\\":\\\"\\\",\\\"outlinewidth\\\":0},\\\"type\\\":\\\"surface\\\",\\\"colorscale\\\":[[0.0,\\\"#0d0887\\\"],[0.1111111111111111,\\\"#46039f\\\"],[0.2222222222222222,\\\"#7201a8\\\"],[0.3333333333333333,\\\"#9c179e\\\"],[0.4444444444444444,\\\"#bd3786\\\"],[0.5555555555555556,\\\"#d8576b\\\"],[0.6666666666666666,\\\"#ed7953\\\"],[0.7777777777777778,\\\"#fb9f3a\\\"],[0.8888888888888888,\\\"#fdca26\\\"],[1.0,\\\"#f0f921\\\"]]}],\\\"scattermapbox\\\":[{\\\"type\\\":\\\"scattermapbox\\\",\\\"marker\\\":{\\\"colorbar\\\":{\\\"ticks\\\":\\\"\\\",\\\"outlinewidth\\\":0}}}],\\\"scattergeo\\\":[{\\\"type\\\":\\\"scattergeo\\\",\\\"marker\\\":{\\\"colorbar\\\":{\\\"ticks\\\":\\\"\\\",\\\"outlinewidth\\\":0}}}],\\\"histogram\\\":[{\\\"type\\\":\\\"histogram\\\",\\\"marker\\\":{\\\"colorbar\\\":{\\\"ticks\\\":\\\"\\\",\\\"outlinewidth\\\":0}}}],\\\"pie\\\":[{\\\"type\\\":\\\"pie\\\",\\\"automargin\\\":true}],\\\"choropleth\\\":[{\\\"colorbar\\\":{\\\"ticks\\\":\\\"\\\",\\\"outlinewidth\\\":0},\\\"type\\\":\\\"choropleth\\\"}],\\\"heatmapgl\\\":[{\\\"colorbar\\\":{\\\"ticks\\\":\\\"\\\",\\\"outlinewidth\\\":0},\\\"type\\\":\\\"heatmapgl\\\",\\\"colorscale\\\":[[0.0,\\\"#0d0887\\\"],[0.1111111111111111,\\\"#46039f\\\"],[0.2222222222222222,\\\"#7201a8\\\"],[0.3333333333333333,\\\"#9c179e\\\"],[0.4444444444444444,\\\"#bd3786\\\"],[0.5555555555555556,\\\"#d8576b\\\"],[0.6666666666666666,\\\"#ed7953\\\"],[0.7777777777777778,\\\"#fb9f3a\\\"],[0.8888888888888888,\\\"#fdca26\\\"],[1.0,\\\"#f0f921\\\"]]}],\\\"bar\\\":[{\\\"type\\\":\\\"bar\\\",\\\"error_y\\\":{\\\"color\\\":\\\"#2a3f5f\\\"},\\\"error_x\\\":{\\\"color\\\":\\\"#2a3f5f\\\"},\\\"marker\\\":{\\\"line\\\":{\\\"color\\\":\\\"#E5ECF6\\\",\\\"width\\\":0.5}}}],\\\"heatmap\\\":[{\\\"colorbar\\\":{\\\"ticks\\\":\\\"\\\",\\\"outlinewidth\\\":0},\\\"type\\\":\\\"heatmap\\\",\\\"colorscale\\\":[[0.0,\\\"#0d0887\\\"],[0.1111111111111111,\\\"#46039f\\\"],[0.2222222222222222,\\\"#7201a8\\\"],[0.3333333333333333,\\\"#9c179e\\\"],[0.4444444444444444,\\\"#bd3786\\\"],[0.5555555555555556,\\\"#d8576b\\\"],[0.6666666666666666,\\\"#ed7953\\\"],[0.7777777777777778,\\\"#fb9f3a\\\"],[0.8888888888888888,\\\"#fdca26\\\"],[1.0,\\\"#f0f921\\\"]]}],\\\"contourcarpet\\\":[{\\\"colorbar\\\":{\\\"ticks\\\":\\\"\\\",\\\"outlinewidth\\\":0},\\\"type\\\":\\\"contourcarpet\\\"}],\\\"table\\\":[{\\\"type\\\":\\\"table\\\",\\\"header\\\":{\\\"line\\\":{\\\"color\\\":\\\"white\\\"},\\\"fill\\\":{\\\"color\\\":\\\"#C8D4E3\\\"}},\\\"cells\\\":{\\\"line\\\":{\\\"color\\\":\\\"white\\\"},\\\"fill\\\":{\\\"color\\\":\\\"#EBF0F8\\\"}}}],\\\"scatter3d\\\":[{\\\"line\\\":{\\\"colorbar\\\":{\\\"ticks\\\":\\\"\\\",\\\"outlinewidth\\\":0}},\\\"type\\\":\\\"scatter3d\\\",\\\"marker\\\":{\\\"colorbar\\\":{\\\"ticks\\\":\\\"\\\",\\\"outlinewidth\\\":0}}}],\\\"scattergl\\\":[{\\\"type\\\":\\\"scattergl\\\",\\\"marker\\\":{\\\"colorbar\\\":{\\\"ticks\\\":\\\"\\\",\\\"outlinewidth\\\":0}}}],\\\"histogram2d\\\":[{\\\"colorbar\\\":{\\\"ticks\\\":\\\"\\\",\\\"outlinewidth\\\":0},\\\"type\\\":\\\"histogram2d\\\",\\\"colorscale\\\":[[0.0,\\\"#0d0887\\\"],[0.1111111111111111,\\\"#46039f\\\"],[0.2222222222222222,\\\"#7201a8\\\"],[0.3333333333333333,\\\"#9c179e\\\"],[0.4444444444444444,\\\"#bd3786\\\"],[0.5555555555555556,\\\"#d8576b\\\"],[0.6666666666666666,\\\"#ed7953\\\"],[0.7777777777777778,\\\"#fb9f3a\\\"],[0.8888888888888888,\\\"#fdca26\\\"],[1.0,\\\"#f0f921\\\"]]}],\\\"scatterternary\\\":[{\\\"type\\\":\\\"scatterternary\\\",\\\"marker\\\":{\\\"colorbar\\\":{\\\"ticks\\\":\\\"\\\",\\\"outlinewidth\\\":0}}}],\\\"scatterpolargl\\\":[{\\\"type\\\":\\\"scatterpolargl\\\",\\\"marker\\\":{\\\"colorbar\\\":{\\\"ticks\\\":\\\"\\\",\\\"outlinewidth\\\":0}}}]}},\\\"height\\\":600,\\\"margin\\\":{\\\"l\\\":0,\\\"b\\\":0,\\\"r\\\":0,\\\"t\\\":65},\\\"autosize\\\":true},{\\\"showLink\\\":false,\\\"editable\\\":false,\\\"responsive\\\":true,\\\"staticPlot\\\":false,\\\"scrollZoom\\\":true}); gd.on(\\\"plotly_hover\\\",(function (data){var filtered_data=WebIO.PlotlyCommands.filterEventData(gd,data,\\\"hover\\\"); return !(filtered_data.isnil) ? (WebIO.setval({\\\"name\\\":\\\"hover\\\",\\\"scope\\\":\\\"11379622406564959717\\\",\\\"id\\\":\\\"7949035708732563868\\\",\\\"type\\\":\\\"observable\\\"},filtered_data.out)) : undefined})); gd.on(\\\"plotly_unhover\\\",(function (){return WebIO.setval({\\\"name\\\":\\\"hover\\\",\\\"scope\\\":\\\"11379622406564959717\\\",\\\"id\\\":\\\"7949035708732563868\\\",\\\"type\\\":\\\"observable\\\"},{})})); gd.on(\\\"plotly_selected\\\",(function (data){var filtered_data=WebIO.PlotlyCommands.filterEventData(gd,data,\\\"selected\\\"); return !(filtered_data.isnil) ? (WebIO.setval({\\\"name\\\":\\\"selected\\\",\\\"scope\\\":\\\"11379622406564959717\\\",\\\"id\\\":\\\"17390763661826837523\\\",\\\"type\\\":\\\"observable\\\"},filtered_data.out)) : undefined})); gd.on(\\\"plotly_deselect\\\",(function (){return WebIO.setval({\\\"name\\\":\\\"selected\\\",\\\"scope\\\":\\\"11379622406564959717\\\",\\\"id\\\":\\\"17390763661826837523\\\",\\\"type\\\":\\\"observable\\\"},{})})); gd.on(\\\"plotly_relayout\\\",(function (data){var filtered_data=WebIO.PlotlyCommands.filterEventData(gd,data,\\\"relayout\\\"); return !(filtered_data.isnil) ? (WebIO.setval({\\\"name\\\":\\\"relayout\\\",\\\"scope\\\":\\\"11379622406564959717\\\",\\\"id\\\":\\\"6349181182164249830\\\",\\\"type\\\":\\\"observable\\\"},filtered_data.out)) : undefined})); return gd.on(\\\"plotly_click\\\",(function (data){var filtered_data=WebIO.PlotlyCommands.filterEventData(gd,data,\\\"click\\\"); return !(filtered_data.isnil) ? (WebIO.setval({\\\"name\\\":\\\"click\\\",\\\"scope\\\":\\\"11379622406564959717\\\",\\\"id\\\":\\\"8024340731873026218\\\",\\\"type\\\":\\\"observable\\\"},filtered_data.out)) : undefined}))}));\\n    (WebIO.importBlock({\\\"data\\\":[{\\\"name\\\":\\\"Plotly\\\",\\\"type\\\":\\\"js\\\",\\\"url\\\":\\\"\\/assetserver\\/2c1443c4a3fadd5de9f99c6b5d8fa0ad35f7de28-plotly.min.js\\\"},{\\\"name\\\":null,\\\"type\\\":\\\"js\\\",\\\"url\\\":\\\"\\/assetserver\\/a617ad3fbd31c68e6d8336a472e6356f3a4cb577-plotly_webio.bundle.js\\\"}],\\\"type\\\":\\\"async_block\\\"})).then((imports) => handler.apply(this, imports));\\n}\\n\"],\"observables\":{\"_toImage\":{\"sync\":true,\"id\":\"8079341524745826622\",\"value\":{}},\"hover\":{\"sync\":false,\"id\":\"7949035708732563868\",\"value\":{}},\"selected\":{\"sync\":false,\"id\":\"17390763661826837523\",\"value\":{}},\"__gd_contents\":{\"sync\":false,\"id\":\"2211956047913903133\",\"value\":{}},\"click\":{\"sync\":false,\"id\":\"8024340731873026218\",\"value\":{}},\"image\":{\"sync\":true,\"id\":\"10726530505605567026\",\"value\":\"\"},\"__get_gd_contents\":{\"sync\":true,\"id\":\"7269191612227202055\",\"value\":\"\"},\"_downloadImage\":{\"sync\":true,\"id\":\"16484054526443172204\",\"value\":{}},\"relayout\":{\"sync\":false,\"id\":\"6349181182164249830\",\"value\":{}},\"_commands\":{\"sync\":true,\"id\":\"12445392399838501412\",\"value\":[]}}},\"children\":[{\"props\":{\"id\":\"plot-f352bece-e403-4d3e-92ad-a3d7e86a1492\"},\"nodeType\":\"DOM\",\"type\":\"node\",\"instanceArgs\":{\"namespace\":\"html\",\"tag\":\"div\"},\"children\":[]}]},\n",
       "        window,\n",
       "    );\n",
       "    })()\n",
       "    </script>\n",
       "</div>\n"
      ],
      "text/plain": [
       "data: [\n",
       "  \"heatmap with fields transpose, type, x, y, and z\"\n",
       "]\n",
       "\n",
       "layout: \"layout with fields autosize, height, margin, and template\"\n",
       "\n"
      ]
     },
     "execution_count": 32,
     "metadata": {},
     "output_type": "execute_result"
    }
   ],
   "source": [
    "showHM_perGrp(\"53K\")"
   ]
  },
  {
   "cell_type": "code",
   "execution_count": null,
   "id": "00ae0bd7-bee1-4f25-a25b-c1ba69533a58",
   "metadata": {},
   "outputs": [],
   "source": []
  }
 ],
 "metadata": {
  "kernelspec": {
   "display_name": "Julia 1.7.2",
   "language": "julia",
   "name": "julia-1.7"
  },
  "language_info": {
   "file_extension": ".jl",
   "mimetype": "application/julia",
   "name": "julia",
   "version": "1.7.2"
  }
 },
 "nbformat": 4,
 "nbformat_minor": 5
}
